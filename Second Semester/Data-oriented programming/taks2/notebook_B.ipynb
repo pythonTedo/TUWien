{
 "cells": [
  {
   "cell_type": "markdown",
   "metadata": {
    "deletable": false,
    "editable": false,
    "nbgrader": {
     "cell_type": "markdown",
     "checksum": "568a83be42ddcc06283c50401d242d0a",
     "grade": false,
     "grade_id": "cell-2e8dabd8897e1fea",
     "locked": true,
     "schema_version": 3,
     "solution": false,
     "task": false
    }
   },
   "source": [
    "#### Before you turn this assignment in, make sure everything runs as expected. **Restart the kernel and run all cells** (in the menubar, select Kernel$\\rightarrow$Restart Kernel and Run All Cells...).\n",
    "\n",
    "Make sure you fill in any place that says \"YOUR ANSWER HERE\" or `YOUR CODE HERE` and remove the `raise NotImplementedError()` lines. \n",
    "\n",
    "Code blocks starting with a `# tests` comment provide unit tests which have to run without errors in order to get full points. Be aware that there might be further 'secret' tests to check correct implementation! I.e. the provided unit tests are necessary but not sufficient for full points!\n",
    "\n",
    "You are always welcome to add **additional plots, tests, or debug outputs**.\n",
    "However, make sure to: **1) not break the automated tests**, and **2) switch off any excessive debug output** when you submit your notebook!\n",
    "\n",
    "Do not delete or copy existing cells!! You may create new cells if necessary, but usually you only need to modify the cells where indicated!\n",
    "\n",
    "If you process this notebook outside of JupyterHub make sure:\n",
    "- Do not change the metadata or change cells which are read only!\n",
    "- If the validation fails after modifying the notebook outside of JupyterHub, fetch a fresh version from the server and only copy/paste the parts that you changed into the fresh notebook!\n",
    "- If the notebook cannot be autograded because of changes made outside of JupyterHub, you may loose points!\n",
    "\n",
    "Please add your name and student ID below:"
   ]
  },
  {
   "cell_type": "code",
   "execution_count": 1,
   "metadata": {},
   "outputs": [],
   "source": [
    "NAME = \"Teodor Chakarov\"\n",
    "STUDENT_ID = \"12141198\""
   ]
  },
  {
   "cell_type": "code",
   "execution_count": 2,
   "metadata": {
    "deletable": false,
    "editable": false,
    "nbgrader": {
     "cell_type": "code",
     "checksum": "9f7fdc89f976fb4ac999a0ede1705805",
     "grade": true,
     "grade_id": "name_and_id_test",
     "locked": true,
     "points": 0,
     "schema_version": 3,
     "solution": false,
     "task": false
    }
   },
   "outputs": [],
   "source": [
    "assert len(NAME) > 0, \"Enter your name!\"\n",
    "assert len(STUDENT_ID) > 0, \"Enter your student ID!\""
   ]
  },
  {
   "cell_type": "markdown",
   "metadata": {
    "deletable": false,
    "editable": false,
    "id": "tL620UDQuJf-",
    "nbgrader": {
     "cell_type": "markdown",
     "checksum": "cd006ef1e83b98f1e982e861780edadf",
     "grade": false,
     "grade_id": "cell-9edd0c9ddbf90a0b",
     "locked": true,
     "schema_version": 3,
     "solution": false,
     "task": false
    },
    "tags": []
   },
   "source": [
    "# Exercise 1 notebook B\n",
    "\n",
    "The submission deadline is **28.11.2022 23:55.**"
   ]
  },
  {
   "cell_type": "markdown",
   "metadata": {
    "deletable": false,
    "editable": false,
    "id": "7QOohJI8uJgE",
    "nbgrader": {
     "cell_type": "markdown",
     "checksum": "f99633b1b3a01be022f974a29ca9d2c1",
     "grade": false,
     "grade_id": "cell-dee05ce4e4083e60",
     "locked": true,
     "schema_version": 3,
     "solution": false,
     "task": false
    },
    "tags": []
   },
   "source": [
    "## Task Description    \n",
    "    \n",
    "The goal of this part is to train and evaluate a machine learnin (ML) model on the data we prepared in the first notebook. The task of the model is to predict the number of influenza infections (`weekly_infections`) given the features (all other columns, like temperature etc.) for a week within a influenza season.\n",
    "\n",
    "You should use the data you processed and exported in notebook A. If you where unable to finish the data preparation part correctly, you can also load the  sample solution version of the prepared data.\n",
    "\n",
    "The notebook is structured the following way:\n",
    "First we will visualize the data to get a better understanding, then we will identify suitable machine learning methods and train a model.\n",
    "We will then try to build an optimal ML pipeline for the task.\n",
    "Finally we will test the trained ML model on the holdout test dataset.\n",
    "\n",
    "Out of the total 100 points of exercise 1, this notebook contributes 45 points.\n",
    "\n",
    "**Notebook A (data preparation), 55 points:**\n",
    " - Task 1: 20 points\n",
    " - Task 2: 15 points\n",
    " - Task 3: 10 points\n",
    " - Task 4: 5 points\n",
    " - Task 5: 5 points\n",
    "\n",
    "**Notebook B (this notebook), 45 points:**\n",
    " - Task 6: 15 points (Visualization)\n",
    " - Task 7: 20 points (Train models)\n",
    " - Task 8: 10 points (Test models)"
   ]
  },
  {
   "cell_type": "markdown",
   "metadata": {
    "deletable": false,
    "editable": false,
    "id": "_bcTP5m3mSZN",
    "nbgrader": {
     "cell_type": "markdown",
     "checksum": "ecbf64b893938419da37ffc6ccfefd38",
     "grade": false,
     "grade_id": "cell-17314f27705bfa5b",
     "locked": true,
     "schema_version": 3,
     "solution": false,
     "task": false
    },
    "tags": []
   },
   "source": [
    "## Setup Python and load data\n",
    "Import necessary Python modules and load the preprocessed data which was stored in notebook A.\n",
    "\n",
    "### Add imports"
   ]
  },
  {
   "cell_type": "code",
   "execution_count": 3,
   "metadata": {
    "deletable": false,
    "editable": false,
    "id": "5FCqq4N2uJgD",
    "nbgrader": {
     "cell_type": "code",
     "checksum": "00373a562a7546c29b9e8901fe6fdc23",
     "grade": false,
     "grade_id": "cell-48c0fac4eba63c7d",
     "locked": true,
     "schema_version": 3,
     "solution": false,
     "task": false
    },
    "tags": []
   },
   "outputs": [
    {
     "name": "stderr",
     "output_type": "stream",
     "text": [
      "Matplotlib created a temporary config/cache directory at /tmp/matplotlib-pgh0mf2i because the default path (/home/e12141198/.cache/matplotlib) is not a writable directory; it is highly recommended to set the MPLCONFIGDIR environment variable to a writable directory, in particular to speed up the import of Matplotlib and to better support multiprocessing.\n"
     ]
    }
   ],
   "source": [
    "# DO NOT MODIFY OR COPY THIS CELL!!\n",
    "# Note: The only imports allowed are Python's standard libraries, pandas, numpy, \n",
    "#       scipy, matplotlib, seaborn and scikit-learn\n",
    "# You can always add additional imports of functions, classes, etc. within \n",
    "# these libraries!\n",
    "\n",
    "import pandas as pd\n",
    "import numpy as np\n",
    "import scipy\n",
    "import sklearn\n",
    "import matplotlib.pyplot as plt\n",
    "import seaborn as sns\n",
    "\n",
    "import datetime\n",
    "import pickle\n",
    "import os\n",
    "import typing\n",
    "import inspect"
   ]
  },
  {
   "cell_type": "markdown",
   "metadata": {
    "deletable": false,
    "editable": false,
    "id": "75gJWkeml7mA",
    "nbgrader": {
     "cell_type": "markdown",
     "checksum": "a200a40ee53f3057c7b792fb5ed33e6e",
     "grade": false,
     "grade_id": "cell-8cfed6fd273e49f7",
     "locked": true,
     "schema_version": 3,
     "solution": false,
     "task": false
    },
    "tags": []
   },
   "source": [
    "### Load data\n",
    "Load the preprocessed data from notebook A or from the share, if notebook A was not completed! "
   ]
  },
  {
   "cell_type": "code",
   "execution_count": 4,
   "metadata": {
    "id": "mh_JoBgjDzVu"
   },
   "outputs": [],
   "source": [
    "# Set this to true, if you want to force-use the correct data from the server:\n",
    "FORCE_SERVER_DATA = False"
   ]
  },
  {
   "cell_type": "code",
   "execution_count": 5,
   "metadata": {
    "colab": {
     "base_uri": "https://localhost:8080/",
     "height": 536
    },
    "deletable": false,
    "editable": false,
    "id": "Ei-00OOVuJZL",
    "nbgrader": {
     "cell_type": "code",
     "checksum": "d08620aec33fd563dd817758d824f8c9",
     "grade": false,
     "grade_id": "cell-fa71a179799fe840",
     "locked": true,
     "schema_version": 3,
     "solution": false,
     "task": false
    },
    "outputId": "dc01fe23-bb5e-414d-fe7c-0da9b7960910",
    "tags": []
   },
   "outputs": [
    {
     "data": {
      "text/html": [
       "<div>\n",
       "<style scoped>\n",
       "    .dataframe tbody tr th:only-of-type {\n",
       "        vertical-align: middle;\n",
       "    }\n",
       "\n",
       "    .dataframe tbody tr th {\n",
       "        vertical-align: top;\n",
       "    }\n",
       "\n",
       "    .dataframe thead th {\n",
       "        text-align: right;\n",
       "    }\n",
       "</style>\n",
       "<table border=\"1\" class=\"dataframe\">\n",
       "  <thead>\n",
       "    <tr style=\"text-align: right;\">\n",
       "      <th></th>\n",
       "      <th></th>\n",
       "      <th>temp_weeklyMin</th>\n",
       "      <th>hum_weeklyMin</th>\n",
       "      <th>wind_weeklyMin</th>\n",
       "      <th>precip_weeklyMin</th>\n",
       "      <th>temp_weeklyMax</th>\n",
       "      <th>hum_weeklyMax</th>\n",
       "      <th>wind_weeklyMax</th>\n",
       "      <th>precip_weeklyMax</th>\n",
       "      <th>temp_weeklyMean</th>\n",
       "      <th>hum_weeklyMean</th>\n",
       "      <th>wind_weeklyMean</th>\n",
       "      <th>precip_weeklyMean</th>\n",
       "      <th>temp_weeklyMedian</th>\n",
       "      <th>weekly_infections</th>\n",
       "    </tr>\n",
       "    <tr>\n",
       "      <th>year</th>\n",
       "      <th>week</th>\n",
       "      <th></th>\n",
       "      <th></th>\n",
       "      <th></th>\n",
       "      <th></th>\n",
       "      <th></th>\n",
       "      <th></th>\n",
       "      <th></th>\n",
       "      <th></th>\n",
       "      <th></th>\n",
       "      <th></th>\n",
       "      <th></th>\n",
       "      <th></th>\n",
       "      <th></th>\n",
       "      <th></th>\n",
       "    </tr>\n",
       "  </thead>\n",
       "  <tbody>\n",
       "    <tr>\n",
       "      <th rowspan=\"5\" valign=\"top\">2009</th>\n",
       "      <th>40</th>\n",
       "      <td>9.4</td>\n",
       "      <td>46</td>\n",
       "      <td>0.0</td>\n",
       "      <td>0.0</td>\n",
       "      <td>23.1</td>\n",
       "      <td>95</td>\n",
       "      <td>4.0</td>\n",
       "      <td>15.3</td>\n",
       "      <td>15.576190</td>\n",
       "      <td>71.000000</td>\n",
       "      <td>2.285714</td>\n",
       "      <td>4.414286</td>\n",
       "      <td>15.576190</td>\n",
       "      <td>6600</td>\n",
       "    </tr>\n",
       "    <tr>\n",
       "      <th>41</th>\n",
       "      <td>11.3</td>\n",
       "      <td>48</td>\n",
       "      <td>1.0</td>\n",
       "      <td>0.0</td>\n",
       "      <td>27.0</td>\n",
       "      <td>90</td>\n",
       "      <td>4.0</td>\n",
       "      <td>4.2</td>\n",
       "      <td>16.733333</td>\n",
       "      <td>73.571429</td>\n",
       "      <td>2.142857</td>\n",
       "      <td>1.700000</td>\n",
       "      <td>16.733333</td>\n",
       "      <td>7100</td>\n",
       "    </tr>\n",
       "    <tr>\n",
       "      <th>42</th>\n",
       "      <td>2.3</td>\n",
       "      <td>54</td>\n",
       "      <td>1.0</td>\n",
       "      <td>0.1</td>\n",
       "      <td>11.0</td>\n",
       "      <td>91</td>\n",
       "      <td>5.0</td>\n",
       "      <td>9.3</td>\n",
       "      <td>5.714286</td>\n",
       "      <td>77.333333</td>\n",
       "      <td>3.428571</td>\n",
       "      <td>3.157143</td>\n",
       "      <td>5.714286</td>\n",
       "      <td>7700</td>\n",
       "    </tr>\n",
       "    <tr>\n",
       "      <th>43</th>\n",
       "      <td>3.5</td>\n",
       "      <td>63</td>\n",
       "      <td>1.0</td>\n",
       "      <td>0.0</td>\n",
       "      <td>13.2</td>\n",
       "      <td>96</td>\n",
       "      <td>3.0</td>\n",
       "      <td>15.3</td>\n",
       "      <td>8.157143</td>\n",
       "      <td>81.238095</td>\n",
       "      <td>1.904762</td>\n",
       "      <td>4.671429</td>\n",
       "      <td>8.157143</td>\n",
       "      <td>8300</td>\n",
       "    </tr>\n",
       "    <tr>\n",
       "      <th>44</th>\n",
       "      <td>1.1</td>\n",
       "      <td>66</td>\n",
       "      <td>0.0</td>\n",
       "      <td>0.0</td>\n",
       "      <td>13.2</td>\n",
       "      <td>97</td>\n",
       "      <td>4.0</td>\n",
       "      <td>15.3</td>\n",
       "      <td>7.519048</td>\n",
       "      <td>81.809524</td>\n",
       "      <td>2.047619</td>\n",
       "      <td>2.885714</td>\n",
       "      <td>7.519048</td>\n",
       "      <td>8600</td>\n",
       "    </tr>\n",
       "    <tr>\n",
       "      <th>...</th>\n",
       "      <th>...</th>\n",
       "      <td>...</td>\n",
       "      <td>...</td>\n",
       "      <td>...</td>\n",
       "      <td>...</td>\n",
       "      <td>...</td>\n",
       "      <td>...</td>\n",
       "      <td>...</td>\n",
       "      <td>...</td>\n",
       "      <td>...</td>\n",
       "      <td>...</td>\n",
       "      <td>...</td>\n",
       "      <td>...</td>\n",
       "      <td>...</td>\n",
       "      <td>...</td>\n",
       "    </tr>\n",
       "    <tr>\n",
       "      <th rowspan=\"5\" valign=\"top\">2021</th>\n",
       "      <th>8</th>\n",
       "      <td>1.9</td>\n",
       "      <td>26</td>\n",
       "      <td>0.0</td>\n",
       "      <td>0.0</td>\n",
       "      <td>19.5</td>\n",
       "      <td>100</td>\n",
       "      <td>4.0</td>\n",
       "      <td>5.7</td>\n",
       "      <td>7.500000</td>\n",
       "      <td>74.380952</td>\n",
       "      <td>1.761905</td>\n",
       "      <td>0.814286</td>\n",
       "      <td>7.500000</td>\n",
       "      <td>2300</td>\n",
       "    </tr>\n",
       "    <tr>\n",
       "      <th>9</th>\n",
       "      <td>-3.8</td>\n",
       "      <td>36</td>\n",
       "      <td>0.0</td>\n",
       "      <td>0.0</td>\n",
       "      <td>13.5</td>\n",
       "      <td>98</td>\n",
       "      <td>3.0</td>\n",
       "      <td>7.6</td>\n",
       "      <td>4.480952</td>\n",
       "      <td>69.000000</td>\n",
       "      <td>1.857143</td>\n",
       "      <td>1.228571</td>\n",
       "      <td>4.480952</td>\n",
       "      <td>3000</td>\n",
       "    </tr>\n",
       "    <tr>\n",
       "      <th>10</th>\n",
       "      <td>-0.8</td>\n",
       "      <td>34</td>\n",
       "      <td>1.0</td>\n",
       "      <td>0.0</td>\n",
       "      <td>15.2</td>\n",
       "      <td>83</td>\n",
       "      <td>4.0</td>\n",
       "      <td>4.2</td>\n",
       "      <td>5.657143</td>\n",
       "      <td>59.285714</td>\n",
       "      <td>2.476190</td>\n",
       "      <td>1.028571</td>\n",
       "      <td>5.657143</td>\n",
       "      <td>3500</td>\n",
       "    </tr>\n",
       "    <tr>\n",
       "      <th>11</th>\n",
       "      <td>-2.1</td>\n",
       "      <td>38</td>\n",
       "      <td>0.0</td>\n",
       "      <td>0.1</td>\n",
       "      <td>10.3</td>\n",
       "      <td>85</td>\n",
       "      <td>5.0</td>\n",
       "      <td>15.3</td>\n",
       "      <td>3.161905</td>\n",
       "      <td>63.428571</td>\n",
       "      <td>2.809524</td>\n",
       "      <td>2.628571</td>\n",
       "      <td>3.161905</td>\n",
       "      <td>3200</td>\n",
       "    </tr>\n",
       "    <tr>\n",
       "      <th>12</th>\n",
       "      <td>1.2</td>\n",
       "      <td>33</td>\n",
       "      <td>1.0</td>\n",
       "      <td>0.0</td>\n",
       "      <td>18.2</td>\n",
       "      <td>84</td>\n",
       "      <td>4.0</td>\n",
       "      <td>15.3</td>\n",
       "      <td>8.552381</td>\n",
       "      <td>56.857143</td>\n",
       "      <td>2.428571</td>\n",
       "      <td>4.385714</td>\n",
       "      <td>8.552381</td>\n",
       "      <td>3000</td>\n",
       "    </tr>\n",
       "  </tbody>\n",
       "</table>\n",
       "<p>310 rows × 14 columns</p>\n",
       "</div>"
      ],
      "text/plain": [
       "           temp_weeklyMin  hum_weeklyMin  wind_weeklyMin  precip_weeklyMin  \\\n",
       "year week                                                                    \n",
       "2009 40               9.4             46             0.0               0.0   \n",
       "     41              11.3             48             1.0               0.0   \n",
       "     42               2.3             54             1.0               0.1   \n",
       "     43               3.5             63             1.0               0.0   \n",
       "     44               1.1             66             0.0               0.0   \n",
       "...                   ...            ...             ...               ...   \n",
       "2021 8                1.9             26             0.0               0.0   \n",
       "     9               -3.8             36             0.0               0.0   \n",
       "     10              -0.8             34             1.0               0.0   \n",
       "     11              -2.1             38             0.0               0.1   \n",
       "     12               1.2             33             1.0               0.0   \n",
       "\n",
       "           temp_weeklyMax  hum_weeklyMax  wind_weeklyMax  precip_weeklyMax  \\\n",
       "year week                                                                    \n",
       "2009 40              23.1             95             4.0              15.3   \n",
       "     41              27.0             90             4.0               4.2   \n",
       "     42              11.0             91             5.0               9.3   \n",
       "     43              13.2             96             3.0              15.3   \n",
       "     44              13.2             97             4.0              15.3   \n",
       "...                   ...            ...             ...               ...   \n",
       "2021 8               19.5            100             4.0               5.7   \n",
       "     9               13.5             98             3.0               7.6   \n",
       "     10              15.2             83             4.0               4.2   \n",
       "     11              10.3             85             5.0              15.3   \n",
       "     12              18.2             84             4.0              15.3   \n",
       "\n",
       "           temp_weeklyMean  hum_weeklyMean  wind_weeklyMean  \\\n",
       "year week                                                     \n",
       "2009 40          15.576190       71.000000         2.285714   \n",
       "     41          16.733333       73.571429         2.142857   \n",
       "     42           5.714286       77.333333         3.428571   \n",
       "     43           8.157143       81.238095         1.904762   \n",
       "     44           7.519048       81.809524         2.047619   \n",
       "...                    ...             ...              ...   \n",
       "2021 8            7.500000       74.380952         1.761905   \n",
       "     9            4.480952       69.000000         1.857143   \n",
       "     10           5.657143       59.285714         2.476190   \n",
       "     11           3.161905       63.428571         2.809524   \n",
       "     12           8.552381       56.857143         2.428571   \n",
       "\n",
       "           precip_weeklyMean  temp_weeklyMedian  weekly_infections  \n",
       "year week                                                           \n",
       "2009 40             4.414286          15.576190               6600  \n",
       "     41             1.700000          16.733333               7100  \n",
       "     42             3.157143           5.714286               7700  \n",
       "     43             4.671429           8.157143               8300  \n",
       "     44             2.885714           7.519048               8600  \n",
       "...                      ...                ...                ...  \n",
       "2021 8              0.814286           7.500000               2300  \n",
       "     9              1.228571           4.480952               3000  \n",
       "     10             1.028571           5.657143               3500  \n",
       "     11             2.628571           3.161905               3200  \n",
       "     12             4.385714           8.552381               3000  \n",
       "\n",
       "[310 rows x 14 columns]"
      ]
     },
     "metadata": {},
     "output_type": "display_data"
    }
   ],
   "source": [
    "# DO NOT MODIFY OR COPY THIS CELL!!\n",
    "user_local_path = os.path.join(os.path.expanduser('~'), \"data_processed.pickle\")\n",
    "server_data_path = os.path.join(os.path.expanduser('~'), \"shared\", \"data\", \"data_processed.pickle\")\n",
    "if os.path.exists(user_local_path) and not FORCE_SERVER_DATA:\n",
    "    with open(user_local_path, \"rb\") as fp:\n",
    "        data_processed = pickle.load(fp)\n",
    "else:\n",
    "    if not FORCE_SERVER_DATA:\n",
    "        print(\"WARNING! Did not find local data, running with provided data! Did you complete notebook A? If so make sure the data was stored correctly!\")\n",
    "    else:\n",
    "        print(\"WARNING! Using provided data since switch FORCE_SERVER_DATA is on!\")\n",
    "    with open(server_data_path,\"rb\") as fp:\n",
    "        data_processed = pickle.load(fp)\n",
    "\n",
    "display(data_processed)"
   ]
  },
  {
   "cell_type": "code",
   "execution_count": 6,
   "metadata": {
    "deletable": false,
    "editable": false,
    "id": "9GOFgi0yMisd",
    "nbgrader": {
     "cell_type": "code",
     "checksum": "fca630123f57f87548238d1635bf1a7c",
     "grade": true,
     "grade_id": "cell-6b23b02d72daae8f",
     "locked": true,
     "points": 0,
     "schema_version": 3,
     "solution": false,
     "task": false
    },
    "outputId": "4084eb7d-9b66-40d6-c433-9676b1c8424e",
    "tags": []
   },
   "outputs": [],
   "source": [
    "# test, DO NOT MODIFY OR COPY THIS CELL!!\n",
    "target_column = 'weekly_infections'\n",
    "\n",
    "assert data_processed.shape[0] > 300, \"there should be more than 300 rows in the merged dataset\"\n",
    "assert data_processed.shape[1] == 14, \"1 column for infections, 13 feature columns\"\n",
    "\n",
    "assert not data_processed.isna().any().any(), \"All missing values should be eliminated!\"\n",
    "assert not data_processed[target_column].isna().any(), \"The dataframe must have a weekly_infections column!\"\n"
   ]
  },
  {
   "cell_type": "markdown",
   "metadata": {
    "deletable": false,
    "editable": false,
    "hidden": true,
    "id": "W6ow4ynwuJgm",
    "nbgrader": {
     "cell_type": "markdown",
     "checksum": "0292028d06b6b9a690fb379ef5efab1e",
     "grade": false,
     "grade_id": "cell-3523b448f00ccfb7",
     "locked": true,
     "schema_version": 3,
     "solution": false,
     "task": false
    },
    "tags": []
   },
   "source": [
    "## Task 6: Visualization (15 Poins)\n",
    "\n",
    "To better understand the dataset, create visualisations of the merged data using `pandas`, `matplotlib` or `seaborn` that help explore potential relationships between the variables before developing a model.\n",
    "We are particularly interested in the relationships of the variable to be modeled (`weekly_infections`) with the other columns (weather features).\n",
    "\n",
    "- Create multiple figures using different diagram types.\n",
    "- Make at least 3 different plots and use 2 different plot types\n",
    "- Use a proper labeleling: include tite, axis labels, legends, ... Your plots should present information clearly! -> http://imgs.xkcd.com/comics/convincing.png). \n",
    "\n",
    "- Use the text input at the end to describe your though process and insights. \n",
    "\n",
    "**Note:** Choice of a proper chart type is essential. Points might be subtracted when using inappropriate plots and descriptions, so please *do not* just use all possible plotting functions without understanding and justification.\n"
   ]
  },
  {
   "cell_type": "code",
   "execution_count": 7,
   "metadata": {
    "colab": {
     "base_uri": "https://localhost:8080/",
     "height": 1000
    },
    "deletable": false,
    "id": "zE1JEdyUuJgn",
    "nbgrader": {
     "cell_type": "code",
     "checksum": "68719cddb4b725b339af83f1debea23f",
     "grade": false,
     "grade_id": "cell-b2dee2cc5769f19d",
     "locked": false,
     "schema_version": 3,
     "solution": true,
     "task": false
    },
    "outputId": "ee3e3e1f-ac61-44b1-995e-f52ea4cc699d",
    "tags": []
   },
   "outputs": [
    {
     "data": {
      "image/png": "[encoded data removed]",
      "text/plain": [
       "<Figure size 640x480 with 1 Axes>"
      ]
     },
     "metadata": {},
     "output_type": "display_data"
    },
    {
     "data": {
      "image/png": "[encoded data removed]",
      "text/plain": [
       "<Figure size 640x480 with 2 Axes>"
      ]
     },
     "metadata": {},
     "output_type": "display_data"
    },
    {
     "data": {
      "image/png": "[encoded data removed]",
      "text/plain": [
       "<Figure size 640x480 with 1 Axes>"
      ]
     },
     "metadata": {},
     "output_type": "display_data"
    },
    {
     "data": {
      "image/png": "[encoded data removed]",
      "text/plain": [
       "<Figure size 640x480 with 1 Axes>"
      ]
     },
     "metadata": {},
     "output_type": "display_data"
    }
   ],
   "source": [
    "\n",
    "plt.hist(data_processed.reset_index()['weekly_infections'])\n",
    "plt.xlabel(\"weekly_infections\")\n",
    "plt.show()\n",
    "sns.heatmap(data_processed.reset_index().corr())\n",
    "plt.show()\n",
    "plt.scatter(data_processed.reset_index().weekly_infections, data_processed.reset_index().temp_weeklyMean)\n",
    "plt.xlabel(\"weekly_infections\")\n",
    "plt.ylabel(\"temp_weeklyMean\")\n",
    "plt.show()\n",
    "plt.scatter(data_processed.reset_index().weekly_infections, data_processed.reset_index().wind_weeklyMean)\n",
    "plt.xlabel(\"weekly_infections\")\n",
    "plt.ylabel(\"wind_weeklyMean\")\n",
    "plt.show()"
   ]
  },
  {
   "cell_type": "code",
   "execution_count": 8,
   "metadata": {
    "colab": {
     "base_uri": "https://localhost:8080/",
     "height": 707
    },
    "deletable": false,
    "editable": false,
    "id": "wpMZVBPGuJgo",
    "nbgrader": {
     "cell_type": "code",
     "checksum": "c0a2b48a4e65bd3f694dbb2febcff03c",
     "grade": true,
     "grade_id": "cell-21627cd715a7045c",
     "locked": true,
     "points": 7,
     "schema_version": 3,
     "solution": false,
     "task": false
    },
    "outputId": "cf3bed7c-30d9-41f9-baea-604de20dcee2",
    "tags": []
   },
   "outputs": [],
   "source": [
    "# hidden tests, DO NOT MODIFY OR COPY THIS CELL!!"
   ]
  },
  {
   "cell_type": "markdown",
   "metadata": {
    "deletable": false,
    "editable": false,
    "id": "H3sY3l93uJgo",
    "nbgrader": {
     "cell_type": "markdown",
     "checksum": "28f0257db733b479f1b2181813465c03",
     "grade": false,
     "grade_id": "cell-f7e89bac303cb8f3",
     "locked": true,
     "schema_version": 3,
     "solution": false,
     "task": false
    },
    "tags": []
   },
   "source": [
    "#### Findings \n",
    "Summarize your findings, and explain:\n",
    "1. What kind of plots did you use, and why.\n",
    "2. What kind of behaviour can you identify for our variable of interest `weekly_infections`\n",
    "3. Provide at least two observations regarding correlations of `weekly_infections` with weather features. Focus on the interesting facts, i.e. two times \"X does not correlate with Y\" will not result in full points!"
   ]
  },
  {
   "cell_type": "markdown",
   "metadata": {
    "deletable": false,
    "id": "1KX7qbr4uJgo",
    "nbgrader": {
     "cell_type": "markdown",
     "checksum": "b13fd9c40a1b5b9bc38ed47b3117a866",
     "grade": true,
     "grade_id": "cell-6773c3a4096a7ede",
     "locked": false,
     "points": 8,
     "schema_version": 3,
     "solution": true,
     "task": false
    },
    "tags": []
   },
   "source": [
    "I used the histogram plot to investigate the distribution of the values within ```temp_weeklyMin```, ```weekly_infections```. Both of them are not normally distributed. The line plot show us how weekly infectionns are having a lower trend with the time. And the scatter plot show us low correlation between weekly infections and medium temperature even though that it is high corelaten in comparison with others like wind speed."
   ]
  },
  {
   "cell_type": "markdown",
   "metadata": {
    "deletable": false,
    "editable": false,
    "hidden": true,
    "id": "KSXez-nguJgo",
    "nbgrader": {
     "cell_type": "markdown",
     "checksum": "092574bbdcffe4fae6c601bf7a56c4c6",
     "grade": false,
     "grade_id": "cell-ee19ce050b62c530",
     "locked": true,
     "schema_version": 3,
     "solution": false,
     "task": false
    },
    "tags": []
   },
   "source": [
    "## Task 7: Influenza infections prediction model (20 Points)\n",
    "\n",
    "Build and train a model using weather and influenza data using `scikit-learn`.\n",
    "In this task we will:\n",
    "\n",
    "* Split off a hidden test subset for final testing (used in task 8)\n",
    "* Split the development data into train and validation splits.\n",
    "* Choose suitable ML methods\n",
    "* Choose suitable metrics\n",
    "* Choose suitable feature preprocessing steps (feature scaling and selection)\n",
    "* Run and evaluate trainings with different parametern settings \n",
    "\n",
    "\n",
    "This task has the following sub-tasks, and points are distributed as indicated:\n",
    "\n",
    "1. Separate holdout test data **2 points**\n",
    "1. First ML experiments - **6 points**\n",
    "1. Explore different scaling approaches - **4 points**\n",
    "1. Experiment with different feature selection methods - **4 points**\n",
    "1. Develop optimal pipeline - **4 points**\n",
    "\n",
    "General advices:\n",
    "- Make sure your results are reproducible, i.e. set the random seed whenever possible/necessary.\n",
    "- Don't hesitate to go back to previous steps if you notice anything that needs changing.\n"
   ]
  },
  {
   "cell_type": "markdown",
   "metadata": {
    "deletable": false,
    "editable": false,
    "id": "-fwIMj2lrVui",
    "nbgrader": {
     "cell_type": "markdown",
     "checksum": "4aef9914eb7fcf29964a3147941959cc",
     "grade": false,
     "grade_id": "cell-7368e608b794a8d8",
     "locked": true,
     "schema_version": 3,
     "solution": false,
     "task": false
    },
    "tags": []
   },
   "source": [
    "### 7.1 Separate holdout test data\n",
    "\n",
    "In this task we will split the `data_processed` DataFrame into a development and a hidden test dataset. The development dataset will be used for experimentation and developing a ML model (we will further split it into train and validation subsets later).\n",
    "The hidden test set represent a hidden holdout test set, which we will use in the very end of the notebook to test the developed approach.\n",
    "Implement the function in the cell below to separate the development and hidden test sets:\n",
    "- Development set: all data until summer 2020 (we can use week 25 as split point)\n",
    "- Hidden test set: winter season of 2020/2021 (everything remaining after week 25 in 2020)\n"
   ]
  },
  {
   "cell_type": "code",
   "execution_count": 9,
   "metadata": {
    "deletable": false,
    "id": "FsQAkRCxrtiw",
    "nbgrader": {
     "cell_type": "code",
     "checksum": "7cad1110339ace224891322d237eaca8",
     "grade": false,
     "grade_id": "cell-7090e26ad001e44c",
     "locked": false,
     "schema_version": 3,
     "solution": true,
     "task": false
    },
    "tags": []
   },
   "outputs": [],
   "source": [
    "def split_data(df:pd.DataFrame) -> typing.Tuple[pd.DataFrame, pd.DataFrame]:\n",
    "    \"\"\" \n",
    "    Split the hidden test set from the dataframe in df. Any rows after week 25\n",
    "    of 2020 should be put in df_hidden_test (the hidden test set) and removed from \n",
    "    df_develop.\n",
    "\n",
    "    Parameters\n",
    "    --------\n",
    "    df: dataframe containing full dataset\n",
    "    \n",
    "    Returns\n",
    "    --------\n",
    "    df_develop: dataframe with rows until (including) week 25 of 2020\n",
    "    df_hidden_test: dataframe with rows from week 25 of 2020\n",
    "    \"\"\"\n",
    "    df_develop = df.reset_index().copy()\n",
    "    df_hidden_test  = df_develop[((df_develop.week > 25) & (df_develop.year == 2020)) | (df_develop.year>2020)]\n",
    "    df_develop = df_develop[~df_develop.isin(df_hidden_test)].dropna()\n",
    "    df_hidden_test = df_hidden_test.set_index([\"year\", \"week\"])\n",
    "    df_develop = df_develop.set_index([\"year\", \"week\"])\n",
    "    \n",
    "    return df_develop, df_hidden_test"
   ]
  },
  {
   "cell_type": "code",
   "execution_count": 10,
   "metadata": {
    "colab": {
     "base_uri": "https://localhost:8080/",
     "height": 574
    },
    "deletable": false,
    "editable": false,
    "id": "Dr-0nXFcsDYC",
    "nbgrader": {
     "cell_type": "code",
     "checksum": "f552008e0c8af6f5f681c337f5ddea45",
     "grade": false,
     "grade_id": "cell-35be45c80f624ac3",
     "locked": true,
     "schema_version": 3,
     "solution": false,
     "task": false
    },
    "outputId": "07f11a94-373a-439f-ceb4-76ea6cb10efb",
    "tags": []
   },
   "outputs": [
    {
     "name": "stdout",
     "output_type": "stream",
     "text": [
      "Train tail:\n"
     ]
    },
    {
     "data": {
      "text/html": [
       "<div>\n",
       "<style scoped>\n",
       "    .dataframe tbody tr th:only-of-type {\n",
       "        vertical-align: middle;\n",
       "    }\n",
       "\n",
       "    .dataframe tbody tr th {\n",
       "        vertical-align: top;\n",
       "    }\n",
       "\n",
       "    .dataframe thead th {\n",
       "        text-align: right;\n",
       "    }\n",
       "</style>\n",
       "<table border=\"1\" class=\"dataframe\">\n",
       "  <thead>\n",
       "    <tr style=\"text-align: right;\">\n",
       "      <th></th>\n",
       "      <th></th>\n",
       "      <th>temp_weeklyMin</th>\n",
       "      <th>hum_weeklyMin</th>\n",
       "      <th>wind_weeklyMin</th>\n",
       "      <th>precip_weeklyMin</th>\n",
       "      <th>temp_weeklyMax</th>\n",
       "      <th>hum_weeklyMax</th>\n",
       "      <th>wind_weeklyMax</th>\n",
       "      <th>precip_weeklyMax</th>\n",
       "      <th>temp_weeklyMean</th>\n",
       "      <th>hum_weeklyMean</th>\n",
       "      <th>wind_weeklyMean</th>\n",
       "      <th>precip_weeklyMean</th>\n",
       "      <th>temp_weeklyMedian</th>\n",
       "      <th>weekly_infections</th>\n",
       "    </tr>\n",
       "    <tr>\n",
       "      <th>year</th>\n",
       "      <th>week</th>\n",
       "      <th></th>\n",
       "      <th></th>\n",
       "      <th></th>\n",
       "      <th></th>\n",
       "      <th></th>\n",
       "      <th></th>\n",
       "      <th></th>\n",
       "      <th></th>\n",
       "      <th></th>\n",
       "      <th></th>\n",
       "      <th></th>\n",
       "      <th></th>\n",
       "      <th></th>\n",
       "      <th></th>\n",
       "    </tr>\n",
       "  </thead>\n",
       "  <tbody>\n",
       "    <tr>\n",
       "      <th rowspan=\"5\" valign=\"top\">2020.0</th>\n",
       "      <th>9.0</th>\n",
       "      <td>2.8</td>\n",
       "      <td>23.0</td>\n",
       "      <td>1.0</td>\n",
       "      <td>0.4</td>\n",
       "      <td>17.0</td>\n",
       "      <td>91.0</td>\n",
       "      <td>5.0</td>\n",
       "      <td>15.3</td>\n",
       "      <td>7.209524</td>\n",
       "      <td>56.476190</td>\n",
       "      <td>2.904762</td>\n",
       "      <td>10.214286</td>\n",
       "      <td>7.209524</td>\n",
       "      <td>11600.0</td>\n",
       "    </tr>\n",
       "    <tr>\n",
       "      <th>10.0</th>\n",
       "      <td>0.2</td>\n",
       "      <td>32.0</td>\n",
       "      <td>1.0</td>\n",
       "      <td>0.0</td>\n",
       "      <td>13.9</td>\n",
       "      <td>94.0</td>\n",
       "      <td>4.0</td>\n",
       "      <td>15.3</td>\n",
       "      <td>8.123810</td>\n",
       "      <td>61.571429</td>\n",
       "      <td>2.714286</td>\n",
       "      <td>3.371429</td>\n",
       "      <td>8.123810</td>\n",
       "      <td>10600.0</td>\n",
       "    </tr>\n",
       "    <tr>\n",
       "      <th>11.0</th>\n",
       "      <td>-0.5</td>\n",
       "      <td>29.0</td>\n",
       "      <td>1.0</td>\n",
       "      <td>0.0</td>\n",
       "      <td>20.6</td>\n",
       "      <td>80.0</td>\n",
       "      <td>5.0</td>\n",
       "      <td>15.3</td>\n",
       "      <td>10.733333</td>\n",
       "      <td>55.761905</td>\n",
       "      <td>3.238095</td>\n",
       "      <td>2.471429</td>\n",
       "      <td>10.733333</td>\n",
       "      <td>10400.0</td>\n",
       "    </tr>\n",
       "    <tr>\n",
       "      <th>12.0</th>\n",
       "      <td>0.5</td>\n",
       "      <td>32.0</td>\n",
       "      <td>0.0</td>\n",
       "      <td>0.0</td>\n",
       "      <td>19.2</td>\n",
       "      <td>88.0</td>\n",
       "      <td>4.0</td>\n",
       "      <td>15.3</td>\n",
       "      <td>9.528571</td>\n",
       "      <td>58.238095</td>\n",
       "      <td>2.238095</td>\n",
       "      <td>2.385714</td>\n",
       "      <td>9.528571</td>\n",
       "      <td>9900.0</td>\n",
       "    </tr>\n",
       "    <tr>\n",
       "      <th>13.0</th>\n",
       "      <td>-1.6</td>\n",
       "      <td>29.0</td>\n",
       "      <td>1.0</td>\n",
       "      <td>0.0</td>\n",
       "      <td>18.2</td>\n",
       "      <td>72.0</td>\n",
       "      <td>4.0</td>\n",
       "      <td>15.3</td>\n",
       "      <td>6.538095</td>\n",
       "      <td>46.333333</td>\n",
       "      <td>2.476190</td>\n",
       "      <td>2.185714</td>\n",
       "      <td>6.538095</td>\n",
       "      <td>5600.0</td>\n",
       "    </tr>\n",
       "  </tbody>\n",
       "</table>\n",
       "</div>"
      ],
      "text/plain": [
       "             temp_weeklyMin  hum_weeklyMin  wind_weeklyMin  precip_weeklyMin  \\\n",
       "year   week                                                                    \n",
       "2020.0 9.0              2.8           23.0             1.0               0.4   \n",
       "       10.0             0.2           32.0             1.0               0.0   \n",
       "       11.0            -0.5           29.0             1.0               0.0   \n",
       "       12.0             0.5           32.0             0.0               0.0   \n",
       "       13.0            -1.6           29.0             1.0               0.0   \n",
       "\n",
       "             temp_weeklyMax  hum_weeklyMax  wind_weeklyMax  precip_weeklyMax  \\\n",
       "year   week                                                                    \n",
       "2020.0 9.0             17.0           91.0             5.0              15.3   \n",
       "       10.0            13.9           94.0             4.0              15.3   \n",
       "       11.0            20.6           80.0             5.0              15.3   \n",
       "       12.0            19.2           88.0             4.0              15.3   \n",
       "       13.0            18.2           72.0             4.0              15.3   \n",
       "\n",
       "             temp_weeklyMean  hum_weeklyMean  wind_weeklyMean  \\\n",
       "year   week                                                     \n",
       "2020.0 9.0          7.209524       56.476190         2.904762   \n",
       "       10.0         8.123810       61.571429         2.714286   \n",
       "       11.0        10.733333       55.761905         3.238095   \n",
       "       12.0         9.528571       58.238095         2.238095   \n",
       "       13.0         6.538095       46.333333         2.476190   \n",
       "\n",
       "             precip_weeklyMean  temp_weeklyMedian  weekly_infections  \n",
       "year   week                                                           \n",
       "2020.0 9.0           10.214286           7.209524            11600.0  \n",
       "       10.0           3.371429           8.123810            10600.0  \n",
       "       11.0           2.471429          10.733333            10400.0  \n",
       "       12.0           2.385714           9.528571             9900.0  \n",
       "       13.0           2.185714           6.538095             5600.0  "
      ]
     },
     "metadata": {},
     "output_type": "display_data"
    },
    {
     "name": "stdout",
     "output_type": "stream",
     "text": [
      "\n",
      "Test head:\n"
     ]
    },
    {
     "data": {
      "text/html": [
       "<div>\n",
       "<style scoped>\n",
       "    .dataframe tbody tr th:only-of-type {\n",
       "        vertical-align: middle;\n",
       "    }\n",
       "\n",
       "    .dataframe tbody tr th {\n",
       "        vertical-align: top;\n",
       "    }\n",
       "\n",
       "    .dataframe thead th {\n",
       "        text-align: right;\n",
       "    }\n",
       "</style>\n",
       "<table border=\"1\" class=\"dataframe\">\n",
       "  <thead>\n",
       "    <tr style=\"text-align: right;\">\n",
       "      <th></th>\n",
       "      <th></th>\n",
       "      <th>temp_weeklyMin</th>\n",
       "      <th>hum_weeklyMin</th>\n",
       "      <th>wind_weeklyMin</th>\n",
       "      <th>precip_weeklyMin</th>\n",
       "      <th>temp_weeklyMax</th>\n",
       "      <th>hum_weeklyMax</th>\n",
       "      <th>wind_weeklyMax</th>\n",
       "      <th>precip_weeklyMax</th>\n",
       "      <th>temp_weeklyMean</th>\n",
       "      <th>hum_weeklyMean</th>\n",
       "      <th>wind_weeklyMean</th>\n",
       "      <th>precip_weeklyMean</th>\n",
       "      <th>temp_weeklyMedian</th>\n",
       "      <th>weekly_infections</th>\n",
       "    </tr>\n",
       "    <tr>\n",
       "      <th>year</th>\n",
       "      <th>week</th>\n",
       "      <th></th>\n",
       "      <th></th>\n",
       "      <th></th>\n",
       "      <th></th>\n",
       "      <th></th>\n",
       "      <th></th>\n",
       "      <th></th>\n",
       "      <th></th>\n",
       "      <th></th>\n",
       "      <th></th>\n",
       "      <th></th>\n",
       "      <th></th>\n",
       "      <th></th>\n",
       "      <th></th>\n",
       "    </tr>\n",
       "  </thead>\n",
       "  <tbody>\n",
       "    <tr>\n",
       "      <th rowspan=\"5\" valign=\"top\">2020</th>\n",
       "      <th>40</th>\n",
       "      <td>9.4</td>\n",
       "      <td>44</td>\n",
       "      <td>1.0</td>\n",
       "      <td>0.0</td>\n",
       "      <td>21.7</td>\n",
       "      <td>96</td>\n",
       "      <td>4.0</td>\n",
       "      <td>5.2</td>\n",
       "      <td>15.071429</td>\n",
       "      <td>75.190476</td>\n",
       "      <td>2.761905</td>\n",
       "      <td>1.500000</td>\n",
       "      <td>15.071429</td>\n",
       "      <td>4400</td>\n",
       "    </tr>\n",
       "    <tr>\n",
       "      <th>41</th>\n",
       "      <td>7.4</td>\n",
       "      <td>37</td>\n",
       "      <td>1.0</td>\n",
       "      <td>0.0</td>\n",
       "      <td>20.8</td>\n",
       "      <td>94</td>\n",
       "      <td>4.0</td>\n",
       "      <td>31.6</td>\n",
       "      <td>13.714286</td>\n",
       "      <td>71.428571</td>\n",
       "      <td>2.333333</td>\n",
       "      <td>4.842857</td>\n",
       "      <td>13.714286</td>\n",
       "      <td>3400</td>\n",
       "    </tr>\n",
       "    <tr>\n",
       "      <th>42</th>\n",
       "      <td>6.2</td>\n",
       "      <td>67</td>\n",
       "      <td>2.0</td>\n",
       "      <td>0.1</td>\n",
       "      <td>11.7</td>\n",
       "      <td>92</td>\n",
       "      <td>4.0</td>\n",
       "      <td>44.8</td>\n",
       "      <td>8.047619</td>\n",
       "      <td>84.761905</td>\n",
       "      <td>2.952381</td>\n",
       "      <td>10.842857</td>\n",
       "      <td>8.047619</td>\n",
       "      <td>4200</td>\n",
       "    </tr>\n",
       "    <tr>\n",
       "      <th>43</th>\n",
       "      <td>5.8</td>\n",
       "      <td>65</td>\n",
       "      <td>1.0</td>\n",
       "      <td>0.0</td>\n",
       "      <td>17.1</td>\n",
       "      <td>100</td>\n",
       "      <td>4.0</td>\n",
       "      <td>15.3</td>\n",
       "      <td>10.785714</td>\n",
       "      <td>85.333333</td>\n",
       "      <td>1.904762</td>\n",
       "      <td>2.557143</td>\n",
       "      <td>10.785714</td>\n",
       "      <td>3700</td>\n",
       "    </tr>\n",
       "    <tr>\n",
       "      <th>44</th>\n",
       "      <td>4.3</td>\n",
       "      <td>63</td>\n",
       "      <td>0.0</td>\n",
       "      <td>0.1</td>\n",
       "      <td>17.7</td>\n",
       "      <td>97</td>\n",
       "      <td>4.0</td>\n",
       "      <td>15.3</td>\n",
       "      <td>11.252381</td>\n",
       "      <td>82.428571</td>\n",
       "      <td>2.380952</td>\n",
       "      <td>5.657143</td>\n",
       "      <td>11.252381</td>\n",
       "      <td>4000</td>\n",
       "    </tr>\n",
       "  </tbody>\n",
       "</table>\n",
       "</div>"
      ],
      "text/plain": [
       "           temp_weeklyMin  hum_weeklyMin  wind_weeklyMin  precip_weeklyMin  \\\n",
       "year week                                                                    \n",
       "2020 40               9.4             44             1.0               0.0   \n",
       "     41               7.4             37             1.0               0.0   \n",
       "     42               6.2             67             2.0               0.1   \n",
       "     43               5.8             65             1.0               0.0   \n",
       "     44               4.3             63             0.0               0.1   \n",
       "\n",
       "           temp_weeklyMax  hum_weeklyMax  wind_weeklyMax  precip_weeklyMax  \\\n",
       "year week                                                                    \n",
       "2020 40              21.7             96             4.0               5.2   \n",
       "     41              20.8             94             4.0              31.6   \n",
       "     42              11.7             92             4.0              44.8   \n",
       "     43              17.1            100             4.0              15.3   \n",
       "     44              17.7             97             4.0              15.3   \n",
       "\n",
       "           temp_weeklyMean  hum_weeklyMean  wind_weeklyMean  \\\n",
       "year week                                                     \n",
       "2020 40          15.071429       75.190476         2.761905   \n",
       "     41          13.714286       71.428571         2.333333   \n",
       "     42           8.047619       84.761905         2.952381   \n",
       "     43          10.785714       85.333333         1.904762   \n",
       "     44          11.252381       82.428571         2.380952   \n",
       "\n",
       "           precip_weeklyMean  temp_weeklyMedian  weekly_infections  \n",
       "year week                                                           \n",
       "2020 40             1.500000          15.071429               4400  \n",
       "     41             4.842857          13.714286               3400  \n",
       "     42            10.842857           8.047619               4200  \n",
       "     43             2.557143          10.785714               3700  \n",
       "     44             5.657143          11.252381               4000  "
      ]
     },
     "metadata": {},
     "output_type": "display_data"
    }
   ],
   "source": [
    "# DO NOT MODIFY OR COPY THIS CELL!!\n",
    "data_develop, data_hidden_test = split_data(data_processed)\n",
    "\n",
    "# visualize split boundary\n",
    "print(\"Train tail:\")\n",
    "display(data_develop.tail())\n",
    "print(\"\\nTest head:\")\n",
    "display(data_hidden_test.head())"
   ]
  },
  {
   "cell_type": "code",
   "execution_count": 11,
   "metadata": {
    "deletable": false,
    "editable": false,
    "id": "NbKH3Ztksi6Y",
    "nbgrader": {
     "cell_type": "code",
     "checksum": "bab145ff2dc4df830020817552b0ffc3",
     "grade": true,
     "grade_id": "cell-e63d23ba2ff6e88a",
     "locked": true,
     "points": 2,
     "schema_version": 3,
     "solution": false,
     "task": false
    },
    "outputId": "7ee25749-2b53-452e-f19e-3546d7a1ab5f",
    "tags": []
   },
   "outputs": [],
   "source": [
    "# tests, DO NOT MODIFY OR COPY THIS CELL!!\n",
    "assert data_develop.shape[1] == data_hidden_test.shape[1], \"Both dataframes should have the same number of columns!!\"\n",
    "assert data_develop.shape[1] == data_processed.shape[1], \"All columns should be retained!!\"\n",
    "\n",
    "assert data_develop.shape[0] < data_processed.shape[0], \"data_develop should be a subset of data_processed, so it should have less rows!\"\n",
    "assert data_hidden_test.shape[0] < data_processed.shape[0], \"data_hidden_test should be a subset of data_processed, so it should have less rows!\"\n"
   ]
  },
  {
   "cell_type": "markdown",
   "metadata": {
    "deletable": false,
    "editable": false,
    "id": "TsaGVZE3wC0n",
    "nbgrader": {
     "cell_type": "markdown",
     "checksum": "6c04a76b0d91aaf00466ea919871dd78",
     "grade": false,
     "grade_id": "cell-e5d0226c87609971",
     "locked": true,
     "schema_version": 3,
     "solution": false,
     "task": false
    },
    "tags": []
   },
   "source": [
    "### 7.2 First ML experiments\n",
    "\n",
    "In this task we will train a first ML model from sklearn on the training dataset. \n",
    "In order to train and validate a machine learning model, we need a set of training samples, and some validation data.\n",
    "We want to treat the 2020/2021 season data that we split off in task 7.1 as \"hidden test data\", so we do not want to touch it in the experiments to choose and optimize our ML model. Instead we split off another small validation set from our training data.\n"
   ]
  },
  {
   "cell_type": "markdown",
   "metadata": {
    "deletable": false,
    "editable": false,
    "id": "O5LGZazbZjvL",
    "nbgrader": {
     "cell_type": "markdown",
     "checksum": "ad1193db4edcfa89e356fb3096394d7b",
     "grade": false,
     "grade_id": "cell-758acdaa0e5a42e5",
     "locked": true,
     "schema_version": 3,
     "solution": false,
     "task": false
    },
    "tags": []
   },
   "source": [
    "#### Create train and validation data\n",
    "- Split `data_develop` into a train and validation sets. \n",
    "- Randomly choose which rows should end up in train and eval subsets.\n",
    "- Separate the weather features from the target values (weekly influenza cases `weekly_infections`). `X_` variables should contain features while `y_` variables contain the target values."
   ]
  },
  {
   "cell_type": "code",
   "execution_count": 12,
   "metadata": {
    "deletable": false,
    "id": "f8d-sL9ROEAV",
    "nbgrader": {
     "cell_type": "code",
     "checksum": "5c403948d6f2b7c5e69b7998c57e2fa7",
     "grade": false,
     "grade_id": "cell-50819869608e309e",
     "locked": false,
     "schema_version": 3,
     "solution": true,
     "task": false
    },
    "tags": []
   },
   "outputs": [],
   "source": [
    "import numpy as np\n",
    "np.random.seed(24)\n",
    "def create_dataset(df:pd.DataFrame, valid_size:float, \n",
    "                   random_state:int) -> typing.Tuple[pd.DataFrame, pd.Series, \n",
    "                                                 pd.DataFrame, pd.Series]:\n",
    "\n",
    "    \"\"\" \n",
    "    Split the training data in to train X,y and valid X,y sets.\n",
    "    The Xs (X_train and X_valid) should be dataframes containing feature columns.\n",
    "    The ys (y_train, y_valid) should be series containing the weekly_infections column.\n",
    "\n",
    "    Parameters\n",
    "    --------\n",
    "    df: dataframe containing training dataset\n",
    "    valid_size: float [0..1] indicating the percentage of rows used for the valid set.\n",
    "    random_state: int seed for random number generator (to make experiments deterministic)\n",
    "    \n",
    "    Returns\n",
    "    --------\n",
    "    X_train: dataframe with training features\n",
    "    y_train: series with corresponding training target values (weekly_infections)\n",
    "    X_valid: dataframe with validation features\n",
    "    y_test: series with corresponding validation target values (weekly_infections)\n",
    "    \"\"\"\n",
    "    X_train = None\n",
    "    X_valid = None\n",
    "    y_train = None\n",
    "    y_valid = None\n",
    "\n",
    "    from sklearn.model_selection import train_test_split\n",
    "\n",
    "    X_train, X_valid, y_train, y_valid = train_test_split(df.reset_index().drop(\"weekly_infections\", axis=1), df.reset_index().weekly_infections, test_size=valid_size, shuffle=True, random_state=random_state)\n",
    "\n",
    "    return X_train, y_train, X_valid, y_valid"
   ]
  },
  {
   "cell_type": "code",
   "execution_count": 13,
   "metadata": {
    "deletable": false,
    "editable": false,
    "id": "lhbxfwc_OGUA",
    "nbgrader": {
     "cell_type": "code",
     "checksum": "625f9853649e2f24b7189afd742d0a8f",
     "grade": false,
     "grade_id": "cell-f36f2575a36fce11",
     "locked": true,
     "schema_version": 3,
     "solution": false,
     "task": false
    },
    "tags": []
   },
   "outputs": [],
   "source": [
    "# DO NOT MODIFY OR COPY THIS CELL!!\n",
    "valid_split = 0.2\n",
    "X_train, y_train, X_valid, y_valid = create_dataset(data_develop, valid_size=valid_split, random_state=42)"
   ]
  },
  {
   "cell_type": "code",
   "execution_count": 14,
   "metadata": {
    "deletable": false,
    "editable": false,
    "id": "4vsAoF2jOslM",
    "nbgrader": {
     "cell_type": "code",
     "checksum": "deb394dd8e42450ab13b51e7d3736a40",
     "grade": true,
     "grade_id": "cell-0c8d7925e4868876",
     "locked": true,
     "points": 1,
     "schema_version": 3,
     "solution": false,
     "task": false
    },
    "outputId": "4c895e5b-cca5-4274-c9cd-1ac39c16770c",
    "tags": []
   },
   "outputs": [],
   "source": [
    "# tests, DO NOT MODIFY OR COPY THIS CELL!!\n",
    "assert isinstance(X_train, pd.DataFrame), \"X data should be a DataFrame with multiple columns!\"\n",
    "assert isinstance(X_valid, pd.DataFrame), \"X data should be a DataFrame with multiple columns!\"\n",
    "\n",
    "assert isinstance(y_train, pd.Series), \"Y data should be a Series with a single columns!\"\n",
    "assert isinstance(y_valid, pd.Series), \"Y data should be a Series with a single columns!\"\n",
    "\n",
    "assert X_train.shape[0] <= data_develop.shape[0] * (1 - valid_split+0.05), \"Number of rows should match the valid_split size (plus a small tolerance)!\"\n",
    "assert X_valid.shape[0] <= data_develop.shape[0] * (valid_split+0.05), \"Number of rows should match the valid_split size (plus a small tolerance)!\"\n",
    "\n",
    "assert y_train.shape[0] == X_train.shape[0], \"Number of rows should stay the same for x and y!\"\n",
    "assert y_valid.shape[0] == X_valid.shape[0], \"Number of rows should stay the same for x and y!\"\n",
    "\n",
    "assert len(y_train.shape) == 1, \"Y data should be a Series with a single columns!\"\n",
    "assert len(y_valid.shape) == 1, \"Y data should be a Series with a single columns!\"\n",
    "\n",
    "assert X_train.index.equals(y_train.index), \"X and y train data must match!\"\n",
    "assert X_valid.index.equals(y_valid.index), \"X and y valid data must match!\" \n"
   ]
  },
  {
   "cell_type": "markdown",
   "metadata": {
    "deletable": false,
    "editable": false,
    "id": "-IivXJnbO_BP",
    "nbgrader": {
     "cell_type": "markdown",
     "checksum": "b904a502bf92d74c999494860a6c6931",
     "grade": false,
     "grade_id": "cell-1315da082bdedb29",
     "locked": true,
     "schema_version": 3,
     "solution": false,
     "task": false
    },
    "tags": []
   },
   "source": [
    "#### Identify suitable ML methods\n",
    "\n",
    "Now that we have training and validation data, select an appropriate ML method and train it using the data.\n",
    "It might help to go back to the visualization task and think about what kind of data we are dealing with, and what the task of the ML model should be.\n",
    "\n",
    "- Identify **at least three** suitable ML methods from sklearn and add them to the list in the code block below."
   ]
  },
  {
   "cell_type": "code",
   "execution_count": 15,
   "metadata": {
    "deletable": false,
    "id": "RP6hi69OaACE",
    "nbgrader": {
     "cell_type": "code",
     "checksum": "af07046f9fafb8ab2ccc79507f4e8d73",
     "grade": false,
     "grade_id": "cell-11f6b22b7a8f7c66",
     "locked": false,
     "schema_version": 3,
     "solution": true,
     "task": false
    },
    "tags": []
   },
   "outputs": [],
   "source": [
    "def get_suitable_ml_methods() -> typing.List[typing.Type[sklearn.base.BaseEstimator]]:\n",
    "    \"\"\" \n",
    "    Create a list of sklearn machine learning model classes that are suitable\n",
    "    for the task at hand. Return the actual type/class \n",
    "    (e.g. sklearn.neighbors.KNeighborsTransformer), not an instance/object \n",
    "    (do NOT instanciate the classes: KNeighborsTransformer() )\n",
    "    \n",
    "    Returns\n",
    "    --------\n",
    "    suitable_methods: list of types (classes) for suitable sklearn machine learning models.)\n",
    "    \"\"\"\n",
    "    suitable_methods = []\n",
    "    from sklearn.linear_model import LinearRegression, ElasticNetCV\n",
    "    from sklearn.tree import DecisionTreeRegressor\n",
    "    suitable_methods.append(LinearRegression)\n",
    "    suitable_methods.append(ElasticNetCV)\n",
    "    suitable_methods.append(DecisionTreeRegressor)\n",
    "    return suitable_methods"
   ]
  },
  {
   "cell_type": "code",
   "execution_count": 16,
   "metadata": {
    "deletable": false,
    "editable": false,
    "id": "31ZELcITVyqV",
    "nbgrader": {
     "cell_type": "code",
     "checksum": "eb823052c1dbf1c2640741acae4b71fe",
     "grade": false,
     "grade_id": "cell-39ac2f44c78d2187",
     "locked": true,
     "schema_version": 3,
     "solution": false,
     "task": false
    },
    "tags": []
   },
   "outputs": [],
   "source": [
    "# DO NOT MODIFY OR COPY THIS CELL!!\n",
    "# small helper function to show selected method classes:\n",
    "def print_selection(selected: list, sel_type:str='methods'):\n",
    "    print(f\"Identified {sel_type}:\\n===================\\n\"+ \n",
    "           '\\n'.join([cur_sel.__name__ for cur_sel in selected \n",
    "                 if hasattr(cur_sel, '__name__')]))"
   ]
  },
  {
   "cell_type": "code",
   "execution_count": 17,
   "metadata": {
    "deletable": false,
    "editable": false,
    "id": "_7_MFhmbVUdd",
    "nbgrader": {
     "cell_type": "code",
     "checksum": "5919f6db7d5be576fa348285edd73c35",
     "grade": false,
     "grade_id": "cell-5e4d3af6a7304b50",
     "locked": true,
     "schema_version": 3,
     "solution": false,
     "task": false
    },
    "outputId": "a9b4de2b-8222-4469-f0e6-48226bb877d9",
    "tags": []
   },
   "outputs": [
    {
     "name": "stdout",
     "output_type": "stream",
     "text": [
      "Identified methods:\n",
      "===================\n",
      "LinearRegression\n",
      "ElasticNetCV\n",
      "DecisionTreeRegressor\n"
     ]
    }
   ],
   "source": [
    "# DO NOT MODIFY OR COPY THIS CELL!!\n",
    "suitable_ml_methods = get_suitable_ml_methods()\n",
    "print_selection(suitable_ml_methods)"
   ]
  },
  {
   "cell_type": "code",
   "execution_count": 18,
   "metadata": {
    "deletable": false,
    "editable": false,
    "id": "wjSD2ztqbCPe",
    "nbgrader": {
     "cell_type": "code",
     "checksum": "b34bbef2bae6fcc2b1f8ae1b09253e5a",
     "grade": true,
     "grade_id": "cell-2d33dbe571224a91",
     "locked": true,
     "points": 1,
     "schema_version": 3,
     "solution": false,
     "task": false
    },
    "outputId": "ea6b6f78-170b-4e69-c992-df9e7d28bab7",
    "tags": []
   },
   "outputs": [],
   "source": [
    "# tests, DO NOT MODIFY OR COPY THIS CELL!!\n",
    "assert len(suitable_ml_methods) >= 3\n",
    "\n",
    "for cur_method in suitable_ml_methods:\n",
    "    assert inspect.isclass(cur_method), \\\n",
    "            f\"{cur_method} is not a class! Return the classes not an instance!\"\n",
    "\n",
    "for cur_method in suitable_ml_methods:\n",
    "    assert cur_method.__module__.startswith('sklearn'),  \\\n",
    "            f\"{cur_method} is not in sklearn! Only use classes from sklearn!\"\n"
   ]
  },
  {
   "cell_type": "markdown",
   "metadata": {
    "deletable": false,
    "editable": false,
    "id": "XPbaifBBhRyD",
    "nbgrader": {
     "cell_type": "markdown",
     "checksum": "23127b8a8006391af27c5dd92a271a82",
     "grade": false,
     "grade_id": "cell-a805168efbc42b98",
     "locked": true,
     "schema_version": 3,
     "solution": false,
     "task": false
    },
    "tags": []
   },
   "source": [
    "#### Train a ML model\n",
    "\n",
    "Now that we have data and suitable methods, let's train a model!\n",
    "- Train a ML method on the train subset (`X_train`, `y_train`) and return the trained model."
   ]
  },
  {
   "cell_type": "code",
   "execution_count": 19,
   "metadata": {
    "deletable": false,
    "id": "JbyznDIMlnCB",
    "nbgrader": {
     "cell_type": "code",
     "checksum": "992f6e1c4082ed28fcef4aa35cacf7cf",
     "grade": false,
     "grade_id": "cell-e688d37b1738cc62",
     "locked": false,
     "schema_version": 3,
     "solution": true,
     "task": false
    },
    "tags": []
   },
   "outputs": [],
   "source": [
    "def train_model(X_train:pd.DataFrame, y_train:pd.Series, \n",
    "                model_class: typing.Type[sklearn.base.BaseEstimator]\n",
    "                ) -> sklearn.base.BaseEstimator:\n",
    "\n",
    "    trained_model = model_class()\n",
    "\n",
    "    trained_model.fit(X_train, y_train)\n",
    "\n",
    "    return trained_model\n"
   ]
  },
  {
   "cell_type": "code",
   "execution_count": 20,
   "metadata": {
    "id": "FM6yA3EXafXd"
   },
   "outputs": [],
   "source": [
    "model_idx = 0  # you can choose different models from your list of suitable models here"
   ]
  },
  {
   "cell_type": "code",
   "execution_count": 21,
   "metadata": {
    "deletable": false,
    "editable": false,
    "id": "-N2jH3JjahjZ",
    "nbgrader": {
     "cell_type": "code",
     "checksum": "99b06a8bd28c2769e4b5824e7c990e92",
     "grade": false,
     "grade_id": "cell-9a09ab5609fe5e96",
     "locked": true,
     "schema_version": 3,
     "solution": false,
     "task": false
    },
    "outputId": "54a26670-48a7-497d-fb53-94ad4e590b2f",
    "tags": []
   },
   "outputs": [
    {
     "name": "stdout",
     "output_type": "stream",
     "text": [
      "Choosen method: LinearRegression\n",
      "Model trained!\n"
     ]
    }
   ],
   "source": [
    "# DO NOT MODIFY OR COPY THIS CELL!!\n",
    "choosen_method_class = suitable_ml_methods[model_idx]\n",
    "print(f\"Choosen method: {choosen_method_class.__name__}\")\n",
    "\n",
    "trained_model = train_model(X_train, y_train, choosen_method_class)\n",
    "print(\"Model trained!\")"
   ]
  },
  {
   "cell_type": "code",
   "execution_count": 22,
   "metadata": {
    "deletable": false,
    "editable": false,
    "id": "dThIe1JOaxUi",
    "nbgrader": {
     "cell_type": "code",
     "checksum": "a219d2b9a3fef9e59e85cfc87fcedeef",
     "grade": true,
     "grade_id": "cell-b799e4bc9109b9ba",
     "locked": true,
     "points": 1,
     "schema_version": 3,
     "solution": false,
     "task": false
    },
    "tags": []
   },
   "outputs": [],
   "source": [
    "# tests, DO NOT MODIFY OR COPY THIS CELL!!\n",
    "\n",
    "assert sklearn.utils.validation.check_is_fitted(trained_model) == None, \"Model was not trained!\"  # throws exception if not trained!\n"
   ]
  },
  {
   "cell_type": "markdown",
   "metadata": {
    "deletable": false,
    "editable": false,
    "id": "31U3ziCKoEwP",
    "nbgrader": {
     "cell_type": "markdown",
     "checksum": "57c6cb8144b526d54d651c11841fb303",
     "grade": false,
     "grade_id": "cell-a18132e76a387881",
     "locked": true,
     "schema_version": 3,
     "solution": false,
     "task": false
    },
    "tags": []
   },
   "source": [
    "#### Identify suitable metrics\n",
    "\n",
    "In order to quantify the quality of the trained model we need a metric to  calculate a performance.\n",
    "Similarly as above with the ML methods, here, identify at least three metrics from `sklearn.metrics` that are suitable for the task at hand.\n",
    "Add them to the list below:"
   ]
  },
  {
   "cell_type": "code",
   "execution_count": 23,
   "metadata": {
    "deletable": false,
    "id": "GIdzPb8BOdRI",
    "nbgrader": {
     "cell_type": "code",
     "checksum": "c0f854e21a9ac623e1cbc241f5af17cd",
     "grade": false,
     "grade_id": "cell-92491f53d1501c43",
     "locked": false,
     "schema_version": 3,
     "solution": true,
     "task": false
    },
    "tags": []
   },
   "outputs": [],
   "source": [
    "def get_suitable_metrics() -> typing.List[typing.Callable]:\n",
    "    \"\"\" \n",
    "    Create a list of sklearn metric functions that are suitable\n",
    "    for the task at hand. Return the actual function \n",
    "    (e.g. sklearn.metrics.accuracy_score )\n",
    "    \n",
    "    Returns\n",
    "    --------\n",
    "    suitable_methods: list of types (classes) for suitable sklearn machinelearning models.)\n",
    "    \"\"\"\n",
    "    suitable_metrics = []\n",
    "\n",
    "    from sklearn.metrics import r2_score, mean_absolute_error, mean_squared_error\n",
    "    suitable_metrics.append(r2_score)\n",
    "    suitable_metrics.append(mean_absolute_error)    \n",
    "    suitable_metrics.append(mean_squared_error)    \n",
    "\n",
    "    return suitable_metrics"
   ]
  },
  {
   "cell_type": "code",
   "execution_count": 24,
   "metadata": {
    "deletable": false,
    "editable": false,
    "id": "kMksBbNeqBCq",
    "nbgrader": {
     "cell_type": "code",
     "checksum": "02c2da82c9a36ccd2357fac51de4dbbf",
     "grade": false,
     "grade_id": "cell-3c1f8d4af3c212af",
     "locked": true,
     "schema_version": 3,
     "solution": false,
     "task": false
    },
    "outputId": "4fb1b83d-ed27-4606-bd3c-197dfef32079",
    "tags": []
   },
   "outputs": [
    {
     "name": "stdout",
     "output_type": "stream",
     "text": [
      "Identified metrics:\n",
      "===================\n",
      "r2_score\n",
      "mean_absolute_error\n",
      "mean_squared_error\n"
     ]
    }
   ],
   "source": [
    "# DO NOT MODIFY OR COPY THIS CELL!!\n",
    "suitable_metrics = get_suitable_metrics()\n",
    "print_selection(suitable_metrics, 'metrics')"
   ]
  },
  {
   "cell_type": "code",
   "execution_count": 25,
   "metadata": {
    "deletable": false,
    "editable": false,
    "id": "T-yQEvKmrF5t",
    "nbgrader": {
     "cell_type": "code",
     "checksum": "354fd2d3838cc5ec9423f327a7c11e66",
     "grade": true,
     "grade_id": "cell-df3e34b6e18ae8ea",
     "locked": true,
     "points": 1,
     "schema_version": 3,
     "solution": false,
     "task": false
    },
    "tags": []
   },
   "outputs": [],
   "source": [
    "# tests, DO NOT MODIFY OR COPY THIS CELL!!\n",
    "\n",
    "assert len(suitable_metrics) >= 3\n",
    "\n",
    "for cur_metric in suitable_metrics:\n",
    "    assert inspect.isfunction(cur_metric), \\\n",
    "    f\"{cur_metric} is not a function! Add the functions directly to the list!\"\n",
    "\n",
    "for cur_metric in suitable_metrics:\n",
    "    assert cur_metric.__module__.startswith('sklearn'), \\\n",
    "            f\"{cur_metric} is not in sklearn! Only use functions from sklearn!\"\n"
   ]
  },
  {
   "cell_type": "markdown",
   "metadata": {
    "deletable": false,
    "editable": false,
    "id": "DEi2U6fURF7s",
    "nbgrader": {
     "cell_type": "markdown",
     "checksum": "ec1eb6ab630a57cb8f86b56ca8bc87c3",
     "grade": false,
     "grade_id": "cell-81ec7a87e599d980",
     "locked": true,
     "schema_version": 3,
     "solution": false,
     "task": false
    },
    "tags": []
   },
   "source": [
    "#### Predict on validation set and calculate performance\n",
    "\n",
    "Implement the function below:\n",
    "* Predict using the provided features and the trained model.\n",
    "* Calculate the evaluation metric using the provided metric_func."
   ]
  },
  {
   "cell_type": "code",
   "execution_count": 26,
   "metadata": {
    "deletable": false,
    "id": "i7zQc1HPQ9tU",
    "nbgrader": {
     "cell_type": "code",
     "checksum": "3f87a2b4049126d9f2330657452978e8",
     "grade": false,
     "grade_id": "cell-715cb2d261b4afff",
     "locked": false,
     "schema_version": 3,
     "solution": true,
     "task": false
    },
    "tags": []
   },
   "outputs": [],
   "source": [
    "def predict_and_eval(trained_model: sklearn.base.BaseEstimator, \n",
    "                     metric_func: typing.Callable, \n",
    "                     X_valid: pd.DataFrame, \n",
    "                     y_true: pd.Series) -> typing.Tuple[np.ndarray, float]:\n",
    "    \"\"\" \n",
    "    Predict `weekly_infections` for X_valid using trained_model. Store the \n",
    "    prediction in y_pred. \n",
    "    Then calculate the performance using the provided metric_func, by calling it\n",
    "    with y_true and y_pred. Watch out, the order of y_true and y_pred may\n",
    "    make a difference!! \n",
    "    \n",
    "    Returns\n",
    "    --------\n",
    "    y_pred: np.ndarray of predictions for weekly_infections from X_valid features\n",
    "    metric_result: float, the result of metric_func for the generated predictions y_pred\n",
    "                   compared to true values y_true.\n",
    "    \"\"\"\n",
    "    y_pred = None\n",
    "    metric_result = None\n",
    "\n",
    "    y_pred = trained_model.predict(X_valid)\n",
    "    metric_result = metric_func(y_true, y_pred)\n",
    "    \n",
    "    return y_pred, metric_result"
   ]
  },
  {
   "cell_type": "code",
   "execution_count": 27,
   "metadata": {
    "id": "cp7UAjNHmHeP"
   },
   "outputs": [],
   "source": [
    "metric_idx = 0 # you can choose different metrics from your list of suitable metrics here"
   ]
  },
  {
   "cell_type": "code",
   "execution_count": 28,
   "metadata": {
    "deletable": false,
    "editable": false,
    "id": "vDu-CWaalyfy",
    "nbgrader": {
     "cell_type": "code",
     "checksum": "206092a20c3dadaccfe43515a4ef4a8d",
     "grade": false,
     "grade_id": "cell-6eee3fe9141da865",
     "locked": true,
     "schema_version": 3,
     "solution": false,
     "task": false
    },
    "outputId": "fa4dc7d0-ebd6-4ac4-c07d-28082396f9e2",
    "tags": []
   },
   "outputs": [
    {
     "name": "stdout",
     "output_type": "stream",
     "text": [
      "Choosen metric: r2_score\n",
      "Result for LinearRegression and r2_score: -0.010228\n"
     ]
    }
   ],
   "source": [
    "# DO NOT MODIFY OR COPY THIS CELL!!\n",
    "choosen_metric_func = suitable_metrics[metric_idx]\n",
    "print(f\"Choosen metric: {choosen_metric_func.__name__}\")\n",
    "\n",
    "y_pred, metric_result = predict_and_eval(trained_model, choosen_metric_func, X_valid, y_valid)\n",
    "\n",
    "print(f\"Result for {choosen_method_class.__name__} and {choosen_metric_func.__name__}: {metric_result:3f}\")"
   ]
  },
  {
   "cell_type": "code",
   "execution_count": 29,
   "metadata": {
    "deletable": false,
    "editable": false,
    "id": "4XTAppWwn-3K",
    "nbgrader": {
     "cell_type": "code",
     "checksum": "e2194fcad5899c54bd9a0ae86429fcb4",
     "grade": true,
     "grade_id": "cell-232704ad8709537d",
     "locked": true,
     "points": 1,
     "schema_version": 3,
     "solution": false,
     "task": false
    },
    "tags": []
   },
   "outputs": [],
   "source": [
    "# tests, DO NOT MODIFY OR COPY THIS CELL!!\n",
    "assert y_pred.shape[0] == y_valid.shape[0], \"Predictions for each row!\"\n",
    "assert len(y_pred.shape) == 1, 'only one value per row!'\n"
   ]
  },
  {
   "cell_type": "markdown",
   "metadata": {
    "deletable": false,
    "editable": false,
    "id": "Me8lb4YDtwKr",
    "nbgrader": {
     "cell_type": "markdown",
     "checksum": "325ab085c1094a1422a8eebfe54426f7",
     "grade": false,
     "grade_id": "cell-240f7d6b965fb5da",
     "locked": true,
     "schema_version": 3,
     "solution": false,
     "task": false
    },
    "tags": []
   },
   "source": [
    "#### Compare models\n",
    "Now run the training and validation for all models that you identified earlier.\n",
    "Implement the method below to:\n",
    "- Iterate over the different ML methods in `suitable_methods` \n",
    "- Use all of the metrics identified in `suitable_metrics` for each method to calculate one result. \n",
    "- Return the scores for each method and metric in a dictionary with model names + metric names as keys and the performance values as values. \n",
    "- This way, you should generate at least 3 x 3 = 9 performance values (at least 3 methods and 3 metrics)\n",
    "- You may, but you do not have to reuse the functions we created already."
   ]
  },
  {
   "cell_type": "code",
   "execution_count": 30,
   "metadata": {
    "deletable": false,
    "id": "YM24q4TfoQun",
    "nbgrader": {
     "cell_type": "code",
     "checksum": "c66ec5b912457a1076eaced3eb7fb961",
     "grade": false,
     "grade_id": "cell-7a2def033878aee9",
     "locked": false,
     "schema_version": 3,
     "solution": true,
     "task": false
    },
    "tags": []
   },
   "outputs": [],
   "source": [
    "def compare_methods(method_classes: typing.List[typing.Type[sklearn.base.BaseEstimator]],\n",
    "                    metric_functions: typing.List[typing.Callable],\n",
    "                    X_train: pd.DataFrame, y_train:pd.Series,\n",
    "                    X_valid: pd.DataFrame, y_valid: pd.Series\n",
    "                    ) -> typing.Dict[str, float]:\n",
    "    \"\"\" \n",
    "    Run the provided methods in method_classes on the provided data and evaluate\n",
    "    them using the provided metric_functions. Calculate all metric functions\n",
    "    for each provided method.\n",
    "    \n",
    "    Returns\n",
    "    --------\n",
    "    scores: Dictionary with names (strings) as keys (method+metric name) and \n",
    "            the calculated performance metric values as values.\n",
    "    \"\"\"\n",
    "\n",
    "    scores = {} # dict of metric name -> metric value/score\n",
    "\n",
    "    for model in method_classes:\n",
    "        trained_model = model()\n",
    "        trained_model.fit(X_train, y_train)\n",
    "        y_pred = trained_model.predict(X_valid)\n",
    "        for metric in metric_functions:\n",
    "            metric_result = metric(y_valid, y_pred)\n",
    "            scores[model.__name__, metric.__name__] = metric_result\n",
    "    # you can also print the results in this function, if you want to format them more nicely!\n",
    "    return scores"
   ]
  },
  {
   "cell_type": "code",
   "execution_count": 31,
   "metadata": {
    "deletable": false,
    "editable": false,
    "id": "EPheq_GPo-sS",
    "nbgrader": {
     "cell_type": "code",
     "checksum": "3b1af16236de64a227808beb23618bdd",
     "grade": false,
     "grade_id": "cell-a2892aee5e389275",
     "locked": true,
     "schema_version": 3,
     "solution": false,
     "task": false
    },
    "tags": []
   },
   "outputs": [],
   "source": [
    "# DO NOT MODIFY OR COPY THIS CELL!!\n",
    "def print_scores(scores: typing.Dict[str, float]):\n",
    "    print(\"\\nScores:\\n=======\")\n",
    "    for metric_name, metric_value in scores.items():\n",
    "        print(f\"{metric_name}: {metric_value:.4f}\")"
   ]
  },
  {
   "cell_type": "code",
   "execution_count": 32,
   "metadata": {
    "deletable": false,
    "editable": false,
    "id": "9eJ3AOsCoS_F",
    "nbgrader": {
     "cell_type": "code",
     "checksum": "998c9a07155c8a9fa1969e406f6b3f0e",
     "grade": false,
     "grade_id": "cell-c9f83060ea69797d",
     "locked": true,
     "schema_version": 3,
     "solution": false,
     "task": false
    },
    "outputId": "9f9e936d-5a18-45b4-c960-66477c117e9a",
    "tags": []
   },
   "outputs": [
    {
     "name": "stdout",
     "output_type": "stream",
     "text": [
      "\n",
      "Scores:\n",
      "=======\n",
      "('LinearRegression', 'r2_score'): -0.0102\n",
      "('LinearRegression', 'mean_absolute_error'): 2309.6095\n",
      "('LinearRegression', 'mean_squared_error'): 9172494.6925\n",
      "('ElasticNetCV', 'r2_score'): 0.2026\n",
      "('ElasticNetCV', 'mean_absolute_error'): 2051.5754\n",
      "('ElasticNetCV', 'mean_squared_error'): 7240345.2892\n",
      "('DecisionTreeRegressor', 'r2_score'): -0.1487\n",
      "('DecisionTreeRegressor', 'mean_absolute_error'): 2228.0702\n",
      "('DecisionTreeRegressor', 'mean_squared_error'): 10429824.5614\n"
     ]
    }
   ],
   "source": [
    "# DO NOT MODIFY OR COPY THIS CELL!!\n",
    "model_scores = compare_methods(suitable_ml_methods, suitable_metrics, X_train, y_train, X_valid, y_valid)\n",
    "print_scores(model_scores)"
   ]
  },
  {
   "cell_type": "markdown",
   "metadata": {
    "deletable": false,
    "editable": false,
    "id": "LFraRJ0ogwFn",
    "nbgrader": {
     "cell_type": "markdown",
     "checksum": "f9c73c59a6d43b078f9d5e41fc3b4fbe",
     "grade": false,
     "grade_id": "cell-c5b4858c72a2e781",
     "locked": true,
     "schema_version": 3,
     "solution": false,
     "task": false
    },
    "tags": []
   },
   "source": [
    "y_trainThink about which model performed best. Beware that for some metrics, bigger numbers indicate better performance (quality metrics) and for others smaller numbers indicate better performance (error metrics)!!"
   ]
  },
  {
   "cell_type": "code",
   "execution_count": 33,
   "metadata": {
    "deletable": false,
    "editable": false,
    "id": "JV5vqzZRpIsl",
    "nbgrader": {
     "cell_type": "code",
     "checksum": "d1951be26df6127082e8041f46b3c5a4",
     "grade": true,
     "grade_id": "cell-7b15ec09137135d2",
     "locked": true,
     "points": 1,
     "schema_version": 3,
     "solution": false,
     "task": false
    },
    "tags": []
   },
   "outputs": [],
   "source": [
    "# tests, DO NOT MODIFY OR COPY THIS CELL!!\n",
    "assert len(model_scores) == len(suitable_ml_methods) * len(suitable_metrics), \"You should generate one result per method and metric!\"\n"
   ]
  },
  {
   "cell_type": "markdown",
   "metadata": {
    "deletable": false,
    "editable": false,
    "id": "x_YvnLcPpR9M",
    "nbgrader": {
     "cell_type": "markdown",
     "checksum": "f9dd72125f04d8527770ebfde2e5f2a4",
     "grade": false,
     "grade_id": "cell-40732f12c0105713",
     "locked": true,
     "schema_version": 3,
     "solution": false,
     "task": false
    },
    "tags": []
   },
   "source": [
    "### 7.4 Explore different scaling approaches\n",
    "For some machine learning methods, the value ranges of the feature data can have a hughe impact on convergence and performance. Usually, it is best to normalize the value ranges of the individual features. In sklearn this is achieved using so called scalers.\n",
    "\n",
    "- Use one ML method from your selection, for which a feature normalization would make a difference (you can try out different ones and also go back and add one if necessary). \n",
    "- Compare three different scaling methods.\n",
    "- Find a combination of model + scaler where the performance improves using a scaler."
   ]
  },
  {
   "cell_type": "markdown",
   "metadata": {
    "deletable": false,
    "editable": false,
    "id": "kjG_adwvVF0w",
    "nbgrader": {
     "cell_type": "markdown",
     "checksum": "98cc23c1feef057e4caab44b39fe1cb8",
     "grade": false,
     "grade_id": "cell-92638abea1398cff",
     "locked": true,
     "schema_version": 3,
     "solution": false,
     "task": false
    },
    "tags": []
   },
   "source": [
    "#### Identify suitable scaler classes\n",
    "First, identify suitable scaler classes for our features and task.\n",
    "Implement the function below and return at least three suitable scaling methods."
   ]
  },
  {
   "cell_type": "code",
   "execution_count": 34,
   "metadata": {
    "deletable": false,
    "id": "mtS3V9cLsKQG",
    "nbgrader": {
     "cell_type": "code",
     "checksum": "f47d3055c4779e097e9e70afde646248",
     "grade": false,
     "grade_id": "cell-41da94f6706c32ea",
     "locked": false,
     "schema_version": 3,
     "solution": true,
     "task": false
    },
    "tags": []
   },
   "outputs": [],
   "source": [
    "def get_suitable_scalers(\n",
    "                ) -> typing.List[typing.Type[sklearn.base.TransformerMixin]]:\n",
    "    \"\"\" \n",
    "    Create a list of sklearn metric functions that are suitable\n",
    "    for the task at hand. Return the actual class and do not create instances! \n",
    "    (e.g. sklearn.preprocessing.KBinsDiscretizer)\n",
    "    \n",
    "    Returns\n",
    "    --------\n",
    "    suitable_scalers: list of types (classes) for suitable sklearn machinelearning models.)\n",
    "    \"\"\"\n",
    "    suitable_scalers = []\n",
    "\n",
    "    from sklearn.preprocessing import StandardScaler\n",
    "    from sklearn.preprocessing import MinMaxScaler\n",
    "    from sklearn.preprocessing import RobustScaler\n",
    "\n",
    "    suitable_scalers.append(StandardScaler)\n",
    "    suitable_scalers.append(MinMaxScaler)\n",
    "    suitable_scalers.append(RobustScaler)\n",
    "\n",
    "    return suitable_scalers"
   ]
  },
  {
   "cell_type": "code",
   "execution_count": 35,
   "metadata": {
    "deletable": false,
    "editable": false,
    "id": "iDF3xQCXTjDS",
    "nbgrader": {
     "cell_type": "code",
     "checksum": "eb7439e9f0ebd9030ccc9b6874f70aa2",
     "grade": false,
     "grade_id": "cell-63b192eadaa80781",
     "locked": true,
     "schema_version": 3,
     "solution": false,
     "task": false
    },
    "tags": []
   },
   "outputs": [],
   "source": [
    "# DO NOT MODIFY OR COPY THIS CELL!!\n",
    "suitable_scalers = get_suitable_scalers()"
   ]
  },
  {
   "cell_type": "code",
   "execution_count": 36,
   "metadata": {
    "deletable": false,
    "editable": false,
    "id": "HHciVnM1Tbxf",
    "nbgrader": {
     "cell_type": "code",
     "checksum": "614ffd3a8eb3e03068ce08f9678de8c7",
     "grade": true,
     "grade_id": "cell-1e0d815508b5b8ea",
     "locked": true,
     "points": 1,
     "schema_version": 3,
     "solution": false,
     "task": false
    },
    "tags": []
   },
   "outputs": [],
   "source": [
    "# tests, DO NOT MODIFY OR COPY THIS CELL!!\n",
    "assert len(suitable_scalers) >= 3\n",
    "\n",
    "for cur_scaler in suitable_scalers:\n",
    "    assert inspect.isclass(cur_scaler), \\\n",
    "            f\"{cur_scaler} is not a class! Return the classes not an instance!\"\n",
    "\n",
    "for cur_scaler in suitable_scalers:\n",
    "    assert cur_scaler.__module__.startswith('sklearn'),  \\\n",
    "            f\"{cur_scaler} is not in sklearn! Only use classes from sklearn!\"\n"
   ]
  },
  {
   "cell_type": "markdown",
   "metadata": {
    "deletable": false,
    "editable": false,
    "id": "ofVZemsnVEjv",
    "nbgrader": {
     "cell_type": "markdown",
     "checksum": "390dbafdee95c3f34b1735e142e5183b",
     "grade": false,
     "grade_id": "cell-1cd88a33eb12e2c0",
     "locked": true,
     "schema_version": 3,
     "solution": false,
     "task": false
    },
    "tags": []
   },
   "source": [
    "#### Create a pipeline with a scaler class\n",
    "\n",
    "Implement the function below to train a sklearn pipleine using a scaler and a model class provided in the parameters."
   ]
  },
  {
   "cell_type": "code",
   "execution_count": 37,
   "metadata": {
    "deletable": false,
    "id": "gOgu1v9Ypoz6",
    "nbgrader": {
     "cell_type": "code",
     "checksum": "1b2f0381a2b864886f1c020688b80079",
     "grade": false,
     "grade_id": "cell-c06c54f484318258",
     "locked": false,
     "schema_version": 3,
     "solution": true,
     "task": false
    },
    "tags": []
   },
   "outputs": [],
   "source": [
    "from sklearn.pipeline import make_pipeline\n",
    "\n",
    "def train_pipeline(X_train: pd.DataFrame, \n",
    "                    y_train: pd.DataFrame, \n",
    "                    model_class: typing.Type[sklearn.base.BaseEstimator], \n",
    "                    scaler_class: typing.Type[sklearn.base.TransformerMixin]\n",
    "                   ) -> sklearn.base.BaseEstimator:\n",
    "    \"\"\" \n",
    "    Build a sklearn pipeline (make_pipeline) consisting of the provided scaler\n",
    "    (scaler_class) and model (model_class). Then train it using the provided\n",
    "    training data X_train and y_train. Return the trained model pipeline.\n",
    "    \n",
    "    Returns\n",
    "    --------\n",
    "    trained_model: Trained model pipeline\n",
    "    \"\"\"\n",
    "    trained_model = make_pipeline(scaler_class(), model_class())\n",
    "    trained_model.fit(X_train, y_train)\n",
    "    \n",
    "    return trained_model"
   ]
  },
  {
   "cell_type": "markdown",
   "metadata": {
    "deletable": false,
    "editable": false,
    "id": "zEyyjsX5jw24",
    "nbgrader": {
     "cell_type": "markdown",
     "checksum": "7f411fc21e831480df1293b29eb0d7a1",
     "grade": false,
     "grade_id": "cell-24750c16b030285c",
     "locked": true,
     "schema_version": 3,
     "solution": false,
     "task": false
    },
    "tags": []
   },
   "source": [
    "Select model, scaler and metric and run the pipeline:"
   ]
  },
  {
   "cell_type": "code",
   "execution_count": 38,
   "metadata": {
    "id": "okbVUPt1jekL"
   },
   "outputs": [],
   "source": [
    "model_idx = 2\n",
    "metric_idx = 1\n",
    "scaler_idx = 0"
   ]
  },
  {
   "cell_type": "code",
   "execution_count": 39,
   "metadata": {
    "deletable": false,
    "editable": false,
    "id": "yOfwq5TmjUEu",
    "nbgrader": {
     "cell_type": "code",
     "checksum": "cc47db54220443801125f73c21a5c7e6",
     "grade": false,
     "grade_id": "cell-331455ed5df81104",
     "locked": true,
     "schema_version": 3,
     "solution": false,
     "task": false
    },
    "outputId": "f0696e5f-b3e9-4a59-803c-8d3fff8be56c",
    "tags": []
   },
   "outputs": [
    {
     "name": "stdout",
     "output_type": "stream",
     "text": [
      "Choosen method: DecisionTreeRegressor\n",
      "Choosen metric: mean_absolute_error\n",
      "Choosen scaler: StandardScaler\n",
      "Result for DecisionTreeRegressor and mean_absolute_error: 2038.596491\n"
     ]
    }
   ],
   "source": [
    "# DO NOT MODIFY OR COPY THIS CELL!!\n",
    "choosen_method_class = suitable_ml_methods[model_idx]\n",
    "choosen_metric_func = suitable_metrics[metric_idx]\n",
    "choosen_scaler = suitable_scalers[scaler_idx]\n",
    "print(f\"Choosen method: {choosen_method_class.__name__}\")\n",
    "print(f\"Choosen metric: {choosen_metric_func.__name__}\")\n",
    "print(f\"Choosen scaler: {choosen_scaler.__name__}\")\n",
    "\n",
    "trained_model = train_pipeline(X_train, y_train, choosen_method_class, choosen_scaler)\n",
    "y_pred, metric_result = predict_and_eval(trained_model, choosen_metric_func, X_valid, y_valid)\n",
    "\n",
    "print(f\"Result for {choosen_method_class.__name__} and {choosen_metric_func.__name__}: {metric_result:3f}\")"
   ]
  },
  {
   "cell_type": "markdown",
   "metadata": {
    "deletable": false,
    "editable": false,
    "id": "uBbMvl1yfxAp",
    "nbgrader": {
     "cell_type": "markdown",
     "checksum": "44304bb9fb9cccce85dbe060f1ee1692",
     "grade": false,
     "grade_id": "cell-dc77498b53415d8e",
     "locked": true,
     "schema_version": 3,
     "solution": false,
     "task": false
    },
    "tags": []
   },
   "source": [
    "#### Compare scalers\n",
    "Now compare the suitable scaler methods, by calculating the results for the selected model in combination with no scaler, and the two different scaler methods (three results in total).\n",
    "* Implement the method below to compare the performance of scaled features vs non scaled features\n",
    "* Return the scores as a dictionary with string names (scaler name) as keys and performance metric results as values"
   ]
  },
  {
   "cell_type": "code",
   "execution_count": 40,
   "metadata": {
    "deletable": false,
    "id": "bvCMvwKefvwN",
    "nbgrader": {
     "cell_type": "code",
     "checksum": "638a7b533d9191b047c84cfba3a8a32b",
     "grade": false,
     "grade_id": "cell-d0c42c41d07eb793",
     "locked": false,
     "schema_version": 3,
     "solution": true,
     "task": false
    },
    "tags": []
   },
   "outputs": [],
   "source": [
    "def compare_scaling(X_train: pd.DataFrame, \n",
    "                    y_train: pd.DataFrame, \n",
    "                    X_valid: pd.DataFrame, \n",
    "                    y_valid: pd.DataFrame, \n",
    "                    method_class: typing.Type[sklearn.base.BaseEstimator], \n",
    "                    metric_func: typing.Callable, \n",
    "                    scalers_list: typing.List[typing.Type[sklearn.base.TransformerMixin]]\n",
    "                    ) -> typing.Dict[str, float]:\n",
    "    \"\"\" \n",
    "    Calculate performance metrics for the provided method class. First without\n",
    "    scaler and then with each of the scalers in scalers_list. Use the provided\n",
    "    metric_func for calculation a performance metric!\n",
    "    \n",
    "    Returns\n",
    "    --------\n",
    "    scores: Dictionary with names (strings) as keys (scaler name) and \n",
    "            the calculated performance metric values as values.\n",
    "    \"\"\"\n",
    "\n",
    "    scores = {} # a dictionary containing the results as values, and a textual description (string) of the used scaler and model as keys.\n",
    "    \n",
    "    trained_model = make_pipeline(method_class())\n",
    "    trained_model.fit(X_train, y_train)\n",
    "    y_pred = trained_model.predict(X_valid)\n",
    "    score = metric_func(y_valid, y_pred)\n",
    "    scores[\"no_scaler \" + method_class.__name__] = score\n",
    "    \n",
    "    for scaler in scalers_list:\n",
    "        trained_model = make_pipeline(scaler(), method_class())\n",
    "        trained_model.fit(X_train, y_train)\n",
    "        y_pred = trained_model.predict(X_valid)\n",
    "        score = metric_func(y_valid, y_pred)\n",
    "        scores[scaler.__name__, method_class.__name__] = score\n",
    "    return scores"
   ]
  },
  {
   "cell_type": "code",
   "execution_count": 41,
   "metadata": {
    "deletable": false,
    "editable": false,
    "id": "LqFu2fCrpoI1",
    "nbgrader": {
     "cell_type": "code",
     "checksum": "5291333b79a9279815b39c1daae394db",
     "grade": false,
     "grade_id": "cell-233d29cfceb5317d",
     "locked": true,
     "schema_version": 3,
     "solution": false,
     "task": false
    },
    "outputId": "4b6dd1bd-cf27-499f-c5fb-3cb7e14c5d56",
    "tags": []
   },
   "outputs": [
    {
     "name": "stdout",
     "output_type": "stream",
     "text": [
      "\n",
      "Scores:\n",
      "=======\n",
      "no_scaler DecisionTreeRegressor: 2224.5614\n",
      "('StandardScaler', 'DecisionTreeRegressor'): 2405.2632\n",
      "('MinMaxScaler', 'DecisionTreeRegressor'): 2085.9649\n",
      "('RobustScaler', 'DecisionTreeRegressor'): 1896.4912\n"
     ]
    }
   ],
   "source": [
    "# DO NOT MODIFY OR COPY THIS CELL!!\n",
    "scaling_scores = compare_scaling(X_train, y_train, X_valid, y_valid, \n",
    "                                 choosen_method_class, choosen_metric_func, suitable_scalers)\n",
    "print_scores(scaling_scores)"
   ]
  },
  {
   "cell_type": "code",
   "execution_count": 42,
   "metadata": {
    "deletable": false,
    "editable": false,
    "id": "df6enKw2yVNU",
    "nbgrader": {
     "cell_type": "code",
     "checksum": "25110bb87e902ffaca8a22f9b21b217d",
     "grade": true,
     "grade_id": "cell-51e65c6af4a61860",
     "locked": true,
     "points": 1,
     "schema_version": 3,
     "solution": false,
     "task": false
    },
    "tags": []
   },
   "outputs": [],
   "source": [
    "# tests, DO NOT MODIFY OR COPY THIS CELL!!\n",
    "assert len(scaling_scores) >= 4, \"Calculate results for each scaler and one without!\""
   ]
  },
  {
   "cell_type": "markdown",
   "metadata": {
    "deletable": false,
    "editable": false,
    "id": "32ZIkRUDyqWz",
    "nbgrader": {
     "cell_type": "markdown",
     "checksum": "e42ec3ba4214be927b319526b3fe97fe",
     "grade": false,
     "grade_id": "cell-934e6ed6fe452b0e",
     "locked": true,
     "schema_version": 3,
     "solution": false,
     "task": false
    },
    "tags": []
   },
   "source": [
    "#### Select scaler\n",
    "Select a scaling methd that actually improves the performance of the model that you selected!"
   ]
  },
  {
   "cell_type": "code",
   "execution_count": 43,
   "metadata": {
    "id": "aKBa_jYrZOyX"
   },
   "outputs": [],
   "source": [
    "# select a combination of model, metric, and scaler, where the scaler actually improves performance!!\n",
    "model_idx = 2\n",
    "metric_idx = 1\n",
    "scaler_idx = 2"
   ]
  },
  {
   "cell_type": "code",
   "execution_count": 44,
   "metadata": {
    "deletable": false,
    "editable": false,
    "id": "gKPIRGE8uJt9",
    "nbgrader": {
     "cell_type": "code",
     "checksum": "dcc81837cbc90e6a879726fb30279db0",
     "grade": false,
     "grade_id": "cell-cb17255821095b29",
     "locked": true,
     "schema_version": 3,
     "solution": false,
     "task": false
    },
    "outputId": "e3d48378-6aba-4a64-d329-cc3cd25b6579",
    "tags": []
   },
   "outputs": [
    {
     "name": "stdout",
     "output_type": "stream",
     "text": [
      "Choosen method: DecisionTreeRegressor\n",
      "Choosen metric: mean_absolute_error\n",
      "Choosen scaler: RobustScaler\n",
      "mean_absolute_error for method DecisionTreeRegressor  \n",
      "plain: 1957.8947 \n",
      "with scaler RobustScaler:  1929.8246\n"
     ]
    }
   ],
   "source": [
    "# DO NOT MODIFY OR COPY THIS CELL!!\n",
    "choosen_method_class = suitable_ml_methods[model_idx]\n",
    "choosen_metric_func = suitable_metrics[metric_idx]\n",
    "choosen_scaler = suitable_scalers[scaler_idx]\n",
    "print(f\"Choosen method: {choosen_method_class.__name__}\")\n",
    "print(f\"Choosen metric: {choosen_metric_func.__name__}\")\n",
    "print(f\"Choosen scaler: {choosen_scaler.__name__}\")\n",
    "\n",
    "# run without scaler\n",
    "trained_model_plain = train_model(X_train, y_train, choosen_method_class)\n",
    "y_pred_plain, metric_result_plain = predict_and_eval(trained_model_plain, choosen_metric_func, X_valid, y_valid)\n",
    "\n",
    "# run with scaler\n",
    "trained_model_scaled = train_pipeline(X_train, y_train, choosen_method_class, choosen_scaler)\n",
    "y_pred_scaled, metric_result_scaled = predict_and_eval(trained_model_scaled, choosen_metric_func, X_valid, y_valid)\n",
    "print(f\"{choosen_metric_func.__name__} for method {choosen_method_class.__name__}  \\n\" \\\n",
    "      f\"plain: {metric_result_plain:.4f} \\nwith scaler {choosen_scaler.__name__}:  {metric_result_scaled:.4f}\")"
   ]
  },
  {
   "cell_type": "code",
   "execution_count": 45,
   "metadata": {
    "deletable": false,
    "editable": false,
    "id": "3mjW4_NtrRNg",
    "nbgrader": {
     "cell_type": "code",
     "checksum": "5fb5cc9c1fcad6cceee023bd10d1ca42",
     "grade": true,
     "grade_id": "cell-9caeae085b3e8b69",
     "locked": true,
     "points": 2,
     "schema_version": 3,
     "solution": false,
     "task": false
    },
    "outputId": "f7fc6155-2bc0-4515-86cb-80421e1caf9b",
    "tags": []
   },
   "outputs": [],
   "source": [
    "# tests, DO NOT MODIFY OR COPY THIS CELL!!\n",
    "\n",
    "assert metric_result_scaled != metric_result_plain\n",
    "\n",
    "if 'score' in choosen_metric_func.__name__.lower():\n",
    "    assert metric_result_scaled > metric_result_plain, \"Score for scaled version should be better!\"\n",
    "else:\n",
    "    assert metric_result_scaled < metric_result_plain, \"Error for scaled version should be lower!\"\n"
   ]
  },
  {
   "cell_type": "markdown",
   "metadata": {
    "deletable": false,
    "editable": false,
    "id": "lyM_PLpPrrC2",
    "nbgrader": {
     "cell_type": "markdown",
     "checksum": "06a4f1155e2415230fe0fc108b906b93",
     "grade": false,
     "grade_id": "cell-3ef247ec48220580",
     "locked": true,
     "schema_version": 3,
     "solution": false,
     "task": false
    },
    "tags": []
   },
   "source": [
    "### 7.5 Experiment with different feature selection methods\n",
    "\n",
    "Some ML approaches are sensitive to the number of feature dimensions, i.e. their performance might worsen if unnecessarily many features are used.\n",
    "In order to check if we can further improve performance, try two feature selection methods and compare the performance to using no features selection method."
   ]
  },
  {
   "cell_type": "markdown",
   "metadata": {
    "deletable": false,
    "editable": false,
    "id": "R_8JNTetzP8Y",
    "nbgrader": {
     "cell_type": "markdown",
     "checksum": "dd1fc79391bf243c8c2470f579088eaa",
     "grade": false,
     "grade_id": "cell-e6acd9590b5e43f3",
     "locked": true,
     "schema_version": 3,
     "solution": false,
     "task": false
    },
    "tags": []
   },
   "source": [
    "#### Implement VarianceThreshold feature selection\n",
    "Implement the function below to apply the `VarianceThreshold` feature selection method to the train and validation features!"
   ]
  },
  {
   "cell_type": "code",
   "execution_count": 46,
   "metadata": {
    "deletable": false,
    "id": "2F38NQwHuihQ",
    "nbgrader": {
     "cell_type": "code",
     "checksum": "61f93b1d2542ae44bf2420e03f28fde2",
     "grade": false,
     "grade_id": "cell-6a2c30f623e67086",
     "locked": false,
     "schema_version": 3,
     "solution": true,
     "task": false
    },
    "tags": []
   },
   "outputs": [],
   "source": [
    "def apply_variance_threshold_feature_selection(X_train: pd.DataFrame,  \n",
    "                                                X_valid: pd.DataFrame, \n",
    "                                               threshold: float,\n",
    "                                ) -> typing.Tuple[pd.DataFrame, pd.DataFrame]:\n",
    "    \"\"\" \n",
    "    Apply the VarianceTrheshold feature selection method to X_train and \n",
    "    X_vaild.\n",
    "\n",
    "    Parameters\n",
    "    --------\n",
    "    threshold: float, threshold to be used for VarianceThreshold feature selector\n",
    "\n",
    "    Returns\n",
    "    --------\n",
    "    X_train_sel: dataframe, selected columns from X_train\n",
    "    X_valid_sel: dataframe, selected columns from X_valid\n",
    "\n",
    "    \"\"\"\n",
    "    from sklearn.feature_selection import VarianceThreshold\n",
    "    \n",
    "    X_train_sel = None\n",
    "    X_valid_sel = None\n",
    "    \n",
    "    selector = VarianceThreshold(threshold)\n",
    "    X_train_sel = selector.fit_transform(X_train)\n",
    "    X_valid_sel = selector.transform(X_valid)\n",
    "\n",
    "    return X_train_sel, X_valid_sel"
   ]
  },
  {
   "cell_type": "code",
   "execution_count": 47,
   "metadata": {
    "deletable": false,
    "editable": false,
    "id": "aFRtt3WCw4oX",
    "nbgrader": {
     "cell_type": "code",
     "checksum": "8795e351f8ecb472707fe16fa1522101",
     "grade": false,
     "grade_id": "cell-31398af113ddb39d",
     "locked": true,
     "schema_version": 3,
     "solution": false,
     "task": false
    },
    "tags": []
   },
   "outputs": [],
   "source": [
    "# DO NOT MODIFY OR COPY THIS CELL!!\n",
    "X_train_sel, X_valid_sel = apply_variance_threshold_feature_selection(X_train, X_valid, 2.0)"
   ]
  },
  {
   "cell_type": "code",
   "execution_count": 48,
   "metadata": {
    "deletable": false,
    "editable": false,
    "id": "xvxwmzPCw9mh",
    "nbgrader": {
     "cell_type": "code",
     "checksum": "f5ef58a7e57e23908ac2c9a4f75baea4",
     "grade": true,
     "grade_id": "cell-f1022ad30197cded",
     "locked": true,
     "points": 1,
     "schema_version": 3,
     "solution": false,
     "task": false
    },
    "tags": []
   },
   "outputs": [],
   "source": [
    "# tests, DO NOT MODIFY OR COPY THIS CELL!!\n",
    "\n",
    "assert X_train_sel.shape[1] < X_train.shape[1], \"Setup the feature selection in a way, that features are actually removed!!\"\n",
    "assert X_valid_sel.shape[1] == X_train_sel.shape[1], \"The same feature selection must be applied to both valid and train sets!!\"\n",
    "assert X_train_sel.shape[0] == X_train.shape[0], \"The number of rows of the train set must stay the same for feature selection!!\"\n",
    "assert X_valid_sel.shape[0] == X_valid.shape[0], \"The number of rows of the valid set must stay the same for feature selection!!\"\n"
   ]
  },
  {
   "cell_type": "markdown",
   "metadata": {
    "deletable": false,
    "editable": false,
    "id": "Hc7-Sv2BzeqT",
    "nbgrader": {
     "cell_type": "markdown",
     "checksum": "b09c85989abf03fc4887d14aae9f1ec4",
     "grade": false,
     "grade_id": "cell-42b95c23a64b9065",
     "locked": true,
     "schema_version": 3,
     "solution": false,
     "task": false
    },
    "tags": []
   },
   "source": [
    "#### Implement SelectPercentile feature selection\n",
    "Implement the function below to apply the `SelectPercentile` feature selection method to the train and validation features!"
   ]
  },
  {
   "cell_type": "code",
   "execution_count": 49,
   "metadata": {
    "deletable": false,
    "id": "ovON7mIUyqMZ",
    "nbgrader": {
     "cell_type": "code",
     "checksum": "5714a5d608461e955c68a00c46d2f7ff",
     "grade": false,
     "grade_id": "cell-ca68d79a003d73de",
     "locked": false,
     "schema_version": 3,
     "solution": true,
     "task": false
    },
    "tags": []
   },
   "outputs": [],
   "source": [
    "def apply_select_percentile_feature_selection(X_train: pd.DataFrame,\n",
    "                                              y_train: pd.Series,  \n",
    "                                              X_valid: pd.DataFrame, \n",
    "                                              percentile=float,\n",
    "                                ) -> typing.Tuple[pd.DataFrame, pd.DataFrame]:\n",
    "    \"\"\" \n",
    "    Apply the SelectPercentile feature selection method to X_train and \n",
    "    X_vaild.\n",
    "\n",
    "    Parameters\n",
    "    --------\n",
    "    percentile: float, percentile to be used for SelectPercentile feature selector\n",
    "\n",
    "    Returns\n",
    "    --------\n",
    "    X_train_sel: dataframe, selected columns from X_train\n",
    "    X_valid_sel: dataframe, selected columns from X_valid\n",
    "\n",
    "    \"\"\"\n",
    "    from sklearn.feature_selection import SelectPercentile\n",
    "\n",
    "    X_train_sel = None\n",
    "    X_valid_sel = None\n",
    "\n",
    "    selector = SelectPercentile(percentile=percentile)\n",
    "    X_train_sel = selector.fit_transform(X_train, y_train)\n",
    "    X_valid_sel = selector.transform(X_valid)\n",
    "\n",
    "    return X_train_sel, X_valid_sel"
   ]
  },
  {
   "cell_type": "code",
   "execution_count": 50,
   "metadata": {
    "deletable": false,
    "editable": false,
    "id": "spxF-GNdzLyI",
    "nbgrader": {
     "cell_type": "code",
     "checksum": "c55c6b7635892601694bff4b5bdac367",
     "grade": false,
     "grade_id": "cell-8a852ba37f1ecc65",
     "locked": true,
     "schema_version": 3,
     "solution": false,
     "task": false
    },
    "tags": []
   },
   "outputs": [],
   "source": [
    "# DO NOT MODIFY OR COPY THIS CELL!!\n",
    "X_train_sel, X_valid_sel = apply_select_percentile_feature_selection(X_train, y_train, X_valid, 10)"
   ]
  },
  {
   "cell_type": "code",
   "execution_count": 51,
   "metadata": {
    "deletable": false,
    "editable": false,
    "id": "bmCBT7Y6zxNX",
    "nbgrader": {
     "cell_type": "code",
     "checksum": "001caa50a3a1cd7a7d41db6639b502c2",
     "grade": true,
     "grade_id": "cell-3e048f2388c52076",
     "locked": true,
     "points": 1,
     "schema_version": 3,
     "solution": false,
     "task": false
    },
    "tags": []
   },
   "outputs": [],
   "source": [
    "# tests, DO NOT MODIFY OR COPY THIS CELL!!\n",
    "\n",
    "assert X_train_sel.shape[1] < X_train.shape[1], \"Setup the feature selection in a way, that features are actually removed!!\"\n",
    "assert X_valid_sel.shape[1] == X_train_sel.shape[1], \"The same feature selection must be applied to both valid and train sets!!\"\n",
    "assert X_train_sel.shape[0] == X_train.shape[0], \"The number of rows of the train set must stay the same for feature selection!!\"\n",
    "assert X_valid_sel.shape[0] == X_valid.shape[0], \"The number of rows of the valid set must stay the same for feature selection!!\"\n"
   ]
  },
  {
   "cell_type": "markdown",
   "metadata": {
    "deletable": false,
    "editable": false,
    "id": "eipqfhsEw-FJ",
    "nbgrader": {
     "cell_type": "markdown",
     "checksum": "31dddc4f414c173179500c880806ccba",
     "grade": false,
     "grade_id": "cell-ecf253ebfe1bf479",
     "locked": true,
     "schema_version": 3,
     "solution": false,
     "task": false
    },
    "tags": []
   },
   "source": [
    "#### Optimize parameters\n",
    "Both features selection methods do have (at least) one tuneable parameter:\n",
    "- `SelectPercentile`: percentile: the percent of features to keep\n",
    "-  `VarianceThreshold`: threshold: Features with variance lower than this will be removed\n",
    "\n",
    "Optimize both, so that the feature selection methods result in a better performance when compared to the plain model (with scaling).\n",
    "Try to find the optimal values for `percentile` and `threshold`!"
   ]
  },
  {
   "cell_type": "code",
   "execution_count": 52,
   "metadata": {
    "id": "8unVxAmQ9Iu-"
   },
   "outputs": [],
   "source": [
    "# select a combination of model, metric, and scaler, where the feature selection actually improves performance!!\n",
    "model_idx = 2\n",
    "scaler_idx = 1"
   ]
  },
  {
   "cell_type": "code",
   "execution_count": 53,
   "metadata": {
    "deletable": false,
    "editable": false,
    "id": "NafF58Jc9Iu_",
    "nbgrader": {
     "cell_type": "code",
     "checksum": "76f91cc238d208e15ba86ce148e00bf4",
     "grade": false,
     "grade_id": "cell-4757777c88bfa3ea",
     "locked": true,
     "schema_version": 3,
     "solution": false,
     "task": false
    },
    "outputId": "125ff1d7-a6ec-4b72-dab8-b891aed31cff",
    "tags": []
   },
   "outputs": [
    {
     "name": "stdout",
     "output_type": "stream",
     "text": [
      "Choosen method: DecisionTreeRegressor\n",
      "Choosen scaler: MinMaxScaler\n"
     ]
    }
   ],
   "source": [
    "# DO NOT MODIFY OR COPY THIS CELL!!\n",
    "choosen_method_class = suitable_ml_methods[model_idx]\n",
    "choosen_metric_func = suitable_metrics[metric_idx]\n",
    "choosen_scaler = suitable_scalers[scaler_idx]\n",
    "print(f\"Choosen method: {choosen_method_class.__name__}\")\n",
    "print(f\"Choosen scaler: {choosen_scaler.__name__}\")"
   ]
  },
  {
   "cell_type": "code",
   "execution_count": 54,
   "metadata": {
    "deletable": false,
    "id": "DjU8NCK33Pqt",
    "nbgrader": {
     "cell_type": "code",
     "checksum": "7bd4b063aa5d20dc0cc605f93fed980f",
     "grade": false,
     "grade_id": "cell-bdad93e6dd338b38",
     "locked": false,
     "schema_version": 3,
     "solution": true,
     "task": false
    },
    "tags": []
   },
   "outputs": [
    {
     "data": {
      "text/html": [
       "<style>#sk-container-id-1 {color: black;background-color: white;}#sk-container-id-1 pre{padding: 0;}#sk-container-id-1 div.sk-toggleable {background-color: white;}#sk-container-id-1 label.sk-toggleable__label {cursor: pointer;display: block;width: 100%;margin-bottom: 0;padding: 0.3em;box-sizing: border-box;text-align: center;}#sk-container-id-1 label.sk-toggleable__label-arrow:before {content: \"▸\";float: left;margin-right: 0.25em;color: #696969;}#sk-container-id-1 label.sk-toggleable__label-arrow:hover:before {color: black;}#sk-container-id-1 div.sk-estimator:hover label.sk-toggleable__label-arrow:before {color: black;}#sk-container-id-1 div.sk-toggleable__content {max-height: 0;max-width: 0;overflow: hidden;text-align: left;background-color: #f0f8ff;}#sk-container-id-1 div.sk-toggleable__content pre {margin: 0.2em;color: black;border-radius: 0.25em;background-color: #f0f8ff;}#sk-container-id-1 input.sk-toggleable__control:checked~div.sk-toggleable__content {max-height: 200px;max-width: 100%;overflow: auto;}#sk-container-id-1 input.sk-toggleable__control:checked~label.sk-toggleable__label-arrow:before {content: \"▾\";}#sk-container-id-1 div.sk-estimator input.sk-toggleable__control:checked~label.sk-toggleable__label {background-color: #d4ebff;}#sk-container-id-1 div.sk-label input.sk-toggleable__control:checked~label.sk-toggleable__label {background-color: #d4ebff;}#sk-container-id-1 input.sk-hidden--visually {border: 0;clip: rect(1px 1px 1px 1px);clip: rect(1px, 1px, 1px, 1px);height: 1px;margin: -1px;overflow: hidden;padding: 0;position: absolute;width: 1px;}#sk-container-id-1 div.sk-estimator {font-family: monospace;background-color: #f0f8ff;border: 1px dotted black;border-radius: 0.25em;box-sizing: border-box;margin-bottom: 0.5em;}#sk-container-id-1 div.sk-estimator:hover {background-color: #d4ebff;}#sk-container-id-1 div.sk-parallel-item::after {content: \"\";width: 100%;border-bottom: 1px solid gray;flex-grow: 1;}#sk-container-id-1 div.sk-label:hover label.sk-toggleable__label {background-color: #d4ebff;}#sk-container-id-1 div.sk-serial::before {content: \"\";position: absolute;border-left: 1px solid gray;box-sizing: border-box;top: 0;bottom: 0;left: 50%;z-index: 0;}#sk-container-id-1 div.sk-serial {display: flex;flex-direction: column;align-items: center;background-color: white;padding-right: 0.2em;padding-left: 0.2em;position: relative;}#sk-container-id-1 div.sk-item {position: relative;z-index: 1;}#sk-container-id-1 div.sk-parallel {display: flex;align-items: stretch;justify-content: center;background-color: white;position: relative;}#sk-container-id-1 div.sk-item::before, #sk-container-id-1 div.sk-parallel-item::before {content: \"\";position: absolute;border-left: 1px solid gray;box-sizing: border-box;top: 0;bottom: 0;left: 50%;z-index: -1;}#sk-container-id-1 div.sk-parallel-item {display: flex;flex-direction: column;z-index: 1;position: relative;background-color: white;}#sk-container-id-1 div.sk-parallel-item:first-child::after {align-self: flex-end;width: 50%;}#sk-container-id-1 div.sk-parallel-item:last-child::after {align-self: flex-start;width: 50%;}#sk-container-id-1 div.sk-parallel-item:only-child::after {width: 0;}#sk-container-id-1 div.sk-dashed-wrapped {border: 1px dashed gray;margin: 0 0.4em 0.5em 0.4em;box-sizing: border-box;padding-bottom: 0.4em;background-color: white;}#sk-container-id-1 div.sk-label label {font-family: monospace;font-weight: bold;display: inline-block;line-height: 1.2em;}#sk-container-id-1 div.sk-label-container {text-align: center;}#sk-container-id-1 div.sk-container {/* jupyter's `normalize.less` sets `[hidden] { display: none; }` but bootstrap.min.css set `[hidden] { display: none !important; }` so we also need the `!important` here to be able to override the default hidden behavior on the sphinx rendered scikit-learn.org. See: https://github.com/scikit-learn/scikit-learn/issues/21755 */display: inline-block !important;position: relative;}#sk-container-id-1 div.sk-text-repr-fallback {display: none;}</style><div id=\"sk-container-id-1\" class=\"sk-top-container\"><div class=\"sk-text-repr-fallback\"><pre>GridSearchCV(estimator=Pipeline(steps=[(&#x27;vect&#x27;, VarianceThreshold()),\n",
       "                                       (&#x27;scaler&#x27;, MinMaxScaler()),\n",
       "                                       (&#x27;model&#x27;, DecisionTreeRegressor())]),\n",
       "             param_grid=[{&#x27;vect__threshold&#x27;: [0.0, 0.2, 0.4, 0.6, 0.8, 1]}],\n",
       "             scoring=&#x27;r2&#x27;)</pre><b>In a Jupyter environment, please rerun this cell to show the HTML representation or trust the notebook. <br />On GitHub, the HTML representation is unable to render, please try loading this page with nbviewer.org.</b></div><div class=\"sk-container\" hidden><div class=\"sk-item sk-dashed-wrapped\"><div class=\"sk-label-container\"><div class=\"sk-label sk-toggleable\"><input class=\"sk-toggleable__control sk-hidden--visually\" id=\"sk-estimator-id-1\" type=\"checkbox\" ><label for=\"sk-estimator-id-1\" class=\"sk-toggleable__label sk-toggleable__label-arrow\">GridSearchCV</label><div class=\"sk-toggleable__content\"><pre>GridSearchCV(estimator=Pipeline(steps=[(&#x27;vect&#x27;, VarianceThreshold()),\n",
       "                                       (&#x27;scaler&#x27;, MinMaxScaler()),\n",
       "                                       (&#x27;model&#x27;, DecisionTreeRegressor())]),\n",
       "             param_grid=[{&#x27;vect__threshold&#x27;: [0.0, 0.2, 0.4, 0.6, 0.8, 1]}],\n",
       "             scoring=&#x27;r2&#x27;)</pre></div></div></div><div class=\"sk-parallel\"><div class=\"sk-parallel-item\"><div class=\"sk-item\"><div class=\"sk-label-container\"><div class=\"sk-label sk-toggleable\"><input class=\"sk-toggleable__control sk-hidden--visually\" id=\"sk-estimator-id-2\" type=\"checkbox\" ><label for=\"sk-estimator-id-2\" class=\"sk-toggleable__label sk-toggleable__label-arrow\">estimator: Pipeline</label><div class=\"sk-toggleable__content\"><pre>Pipeline(steps=[(&#x27;vect&#x27;, VarianceThreshold()), (&#x27;scaler&#x27;, MinMaxScaler()),\n",
       "                (&#x27;model&#x27;, DecisionTreeRegressor())])</pre></div></div></div><div class=\"sk-serial\"><div class=\"sk-item\"><div class=\"sk-serial\"><div class=\"sk-item\"><div class=\"sk-estimator sk-toggleable\"><input class=\"sk-toggleable__control sk-hidden--visually\" id=\"sk-estimator-id-3\" type=\"checkbox\" ><label for=\"sk-estimator-id-3\" class=\"sk-toggleable__label sk-toggleable__label-arrow\">VarianceThreshold</label><div class=\"sk-toggleable__content\"><pre>VarianceThreshold()</pre></div></div></div><div class=\"sk-item\"><div class=\"sk-estimator sk-toggleable\"><input class=\"sk-toggleable__control sk-hidden--visually\" id=\"sk-estimator-id-4\" type=\"checkbox\" ><label for=\"sk-estimator-id-4\" class=\"sk-toggleable__label sk-toggleable__label-arrow\">MinMaxScaler</label><div class=\"sk-toggleable__content\"><pre>MinMaxScaler()</pre></div></div></div><div class=\"sk-item\"><div class=\"sk-estimator sk-toggleable\"><input class=\"sk-toggleable__control sk-hidden--visually\" id=\"sk-estimator-id-5\" type=\"checkbox\" ><label for=\"sk-estimator-id-5\" class=\"sk-toggleable__label sk-toggleable__label-arrow\">DecisionTreeRegressor</label><div class=\"sk-toggleable__content\"><pre>DecisionTreeRegressor()</pre></div></div></div></div></div></div></div></div></div></div></div></div>"
      ],
      "text/plain": [
       "GridSearchCV(estimator=Pipeline(steps=[('vect', VarianceThreshold()),\n",
       "                                       ('scaler', MinMaxScaler()),\n",
       "                                       ('model', DecisionTreeRegressor())]),\n",
       "             param_grid=[{'vect__threshold': [0.0, 0.2, 0.4, 0.6, 0.8, 1]}],\n",
       "             scoring='r2')"
      ]
     },
     "execution_count": 54,
     "metadata": {},
     "output_type": "execute_result"
    }
   ],
   "source": [
    "# find a percentile for SelectPercentile that actually improves the performance!\n",
    "# Note: make sure you selected a suitable score_func for the task at hand!\n",
    "# see documentation: https://scikit-learn.org/stable/modules/generated/sklearn.feature_selection.SelectPercentile.html\n",
    "from sklearn.model_selection import GridSearchCV\n",
    "from sklearn.preprocessing import MinMaxScaler\n",
    "from sklearn.tree import DecisionTreeRegressor\n",
    "from sklearn.feature_selection import SelectPercentile, VarianceThreshold\n",
    "from sklearn.pipeline import Pipeline\n",
    "\n",
    "pipe = Pipeline(steps=[(\"scaler\", MinMaxScaler()), (\"vect\", SelectPercentile()), (\"model\", DecisionTreeRegressor())])\n",
    "\n",
    "parameters_DT = [\n",
    "    {\n",
    "        'vect__percentile': [20, 40, 80, 100]\n",
    "    }\n",
    "]\n",
    "\n",
    "gs = GridSearchCV(pipe, parameters_DT, scoring=\"r2\")\n",
    "gs.fit(X_train, y_train)\n",
    "\n",
    "# find a threshold for VarianceTrehshold that actually improves the performance!\n",
    "threshold = 0.0\n",
    "\n",
    "pipe2 = Pipeline(steps=[(\"vect\", VarianceThreshold()), (\"scaler\", MinMaxScaler()), (\"model\", DecisionTreeRegressor())])\n",
    "\n",
    "parameters_DT = [\n",
    "    {\n",
    "        'vect__threshold': [0.0, 0.2, 0.4, 0.6, 0.8, 1]\n",
    "    }\n",
    "]\n",
    "gs2 = GridSearchCV(pipe2, parameters_DT, scoring=\"r2\")\n",
    "gs2.fit(X_train, y_train)\n",
    "\n",
    "\n"
   ]
  },
  {
   "cell_type": "code",
   "execution_count": 55,
   "metadata": {},
   "outputs": [
    {
     "data": {
      "text/plain": [
       "(Pipeline(steps=[('scaler', MinMaxScaler()),\n",
       "                 ('vect', SelectPercentile(percentile=20)),\n",
       "                 ('model', DecisionTreeRegressor())]),\n",
       " 0.22499215652923352)"
      ]
     },
     "execution_count": 55,
     "metadata": {},
     "output_type": "execute_result"
    }
   ],
   "source": [
    "gs.best_estimator_, gs.best_score_"
   ]
  },
  {
   "cell_type": "code",
   "execution_count": 56,
   "metadata": {},
   "outputs": [
    {
     "data": {
      "text/plain": [
       "(Pipeline(steps=[('vect', VarianceThreshold(threshold=0.4)),\n",
       "                 ('scaler', MinMaxScaler()),\n",
       "                 ('model', DecisionTreeRegressor())]),\n",
       " -0.06341678665799402)"
      ]
     },
     "execution_count": 56,
     "metadata": {},
     "output_type": "execute_result"
    }
   ],
   "source": [
    "gs2.best_estimator_, gs2.best_score_"
   ]
  },
  {
   "cell_type": "code",
   "execution_count": 63,
   "metadata": {},
   "outputs": [],
   "source": [
    "percentile = 80\n",
    "threshold = 1"
   ]
  },
  {
   "cell_type": "code",
   "execution_count": 64,
   "metadata": {
    "deletable": false,
    "editable": false,
    "id": "L5v-xWQT4BIi",
    "nbgrader": {
     "cell_type": "code",
     "checksum": "de636c9a16e89a7f0fd8932fa46cb025",
     "grade": false,
     "grade_id": "cell-b230795da45c59f6",
     "locked": true,
     "schema_version": 3,
     "solution": false,
     "task": false
    },
    "outputId": "416ba2e1-1f2b-4095-9781-57702f2b60a0",
    "tags": []
   },
   "outputs": [
    {
     "name": "stdout",
     "output_type": "stream",
     "text": [
      "Result with scaler only: 1987.7193\n",
      "Result with VarianceTrehshold: 2085.9649\n",
      "Result with SelectPercentile: 1989.4737\n"
     ]
    }
   ],
   "source": [
    "# DO NOT MODIFY OR COPY THIS CELL!!\n",
    "trained_model_scaled = train_pipeline(X_train, y_train, choosen_method_class, choosen_scaler)\n",
    "_, metric_result_scaled = predict_and_eval(trained_model_scaled, choosen_metric_func, X_valid, y_valid)\n",
    "print(f\"Result with scaler only: {metric_result_scaled:.4f}\")\n",
    "\n",
    "X_tr_var_tresh, X_val_var_tresh = apply_variance_threshold_feature_selection(X_train, X_valid, threshold)\n",
    "trained_model_var_thresh = train_pipeline(X_tr_var_tresh, y_train, choosen_method_class, choosen_scaler)\n",
    "_, metric_result_var_thresh = predict_and_eval(trained_model_var_thresh, choosen_metric_func, X_val_var_tresh, y_valid)\n",
    "print(f\"Result with VarianceTrehshold: {metric_result_var_thresh:.4f}\")\n",
    "\n",
    "X_tr_sel_perc, X_val_sel_perc = apply_select_percentile_feature_selection(X_train, y_train, X_valid, percentile)\n",
    "trained_model_sel_perc = train_pipeline(X_tr_sel_perc, y_train, choosen_method_class, choosen_scaler)\n",
    "_, metric_result_sel_perc = predict_and_eval(trained_model_sel_perc, choosen_metric_func, X_val_sel_perc, y_valid)\n",
    "print(f\"Result with SelectPercentile: {metric_result_sel_perc:.4f}\")\n"
   ]
  },
  {
   "cell_type": "code",
   "execution_count": 65,
   "metadata": {
    "deletable": false,
    "editable": false,
    "id": "eWpWuqkg5a06",
    "nbgrader": {
     "cell_type": "code",
     "checksum": "93b53ca2ff85a9abc4ecbd844d8affee",
     "grade": true,
     "grade_id": "cell-a93eb99e628043f6",
     "locked": true,
     "points": 2,
     "schema_version": 3,
     "solution": false,
     "task": false
    },
    "tags": []
   },
   "outputs": [],
   "source": [
    "# tests, DO NOT MODIFY OR COPY THIS CELL!!\n",
    "\n",
    "assert metric_result_scaled < metric_result_var_thresh, \"You should be able to improve the performance using feature selection!\"\n",
    "assert metric_result_scaled < metric_result_sel_perc, \"You should be able to improve the performance using feature selection!\""
   ]
  },
  {
   "cell_type": "markdown",
   "metadata": {
    "deletable": false,
    "editable": false,
    "id": "jHXbpbvPvRSb",
    "nbgrader": {
     "cell_type": "markdown",
     "checksum": "4044fbc0d4515fdcef87a7831da0da63",
     "grade": false,
     "grade_id": "cell-1d5a83895e05f2f6",
     "locked": true,
     "schema_version": 3,
     "solution": false,
     "task": false
    },
    "tags": []
   },
   "source": [
    "### 7.6 Develop optimal pipline\n",
    "\n",
    "After we investigated different ML methods, feature scaling, feature selection methods, it is now time to assemble a ML pipeline using the best performing elements.\n"
   ]
  },
  {
   "cell_type": "markdown",
   "metadata": {
    "deletable": false,
    "editable": false,
    "id": "K4I6K27ULVgx",
    "nbgrader": {
     "cell_type": "markdown",
     "checksum": "ca63cc7bf7ac7ac62bbac0b132563118",
     "grade": false,
     "grade_id": "cell-914fd0f85c2b9091",
     "locked": true,
     "schema_version": 3,
     "solution": false,
     "task": false
    },
    "tags": []
   },
   "source": [
    "#### Feature selection and pipline functions\n",
    "\n",
    "Implement the method below using the best performing feature selection method."
   ]
  },
  {
   "cell_type": "code",
   "execution_count": 66,
   "metadata": {
    "deletable": false,
    "id": "EezuTkJFC5FX",
    "nbgrader": {
     "cell_type": "code",
     "checksum": "c6d4fc8f4028bcaf951b9620343be3bf",
     "grade": false,
     "grade_id": "cell-37f69b91334b8b8a",
     "locked": false,
     "schema_version": 3,
     "solution": true,
     "task": false
    },
    "tags": []
   },
   "outputs": [],
   "source": [
    "def select_features(X_train: pd.DataFrame,\n",
    "                    y_train: pd.Series,  \n",
    "                    X_valid: pd.DataFrame = None, \n",
    "                    **kwargs) -> typing.Tuple[pd.DataFrame, pd.DataFrame]:\n",
    "    \"\"\" \n",
    "    Implement an optimized feature selection method that performes best.\n",
    "\n",
    "    Parameters\n",
    "    --------\n",
    "    X_train: training features\n",
    "    y_train: training target values\n",
    "    X_valid: validation featuers. optional, e.g. for crossvalidation we do not \n",
    "             have these, and they might be None!\n",
    "\n",
    "    Returns\n",
    "    --------\n",
    "    X_train_sel: dataframe, selected columns from X_train\n",
    "    X_valid_sel: dataframe, selected columns from X_valid, if X_valid is None, \n",
    "                 this will also be None.\n",
    "\n",
    "    \"\"\"\n",
    "    X_train_sel = None\n",
    "    X_valid_sel = None\n",
    "    \n",
    "    pipe = Pipeline(steps=[(\"vect\", SelectPercentile(percentile=20))])\n",
    "    X_train_sel = pipe.fit_transform(X_train, y_train)\n",
    "    X_valid_sel = pipe.transform(X_valid)\n",
    "    \n",
    "    return X_train_sel, X_valid_sel"
   ]
  },
  {
   "cell_type": "markdown",
   "metadata": {
    "deletable": false,
    "editable": false,
    "id": "d6YXbZ3ULwqm",
    "nbgrader": {
     "cell_type": "markdown",
     "checksum": "6a8416ea0dfe53a07791b6d1bd012a2d",
     "grade": false,
     "grade_id": "cell-2bf3659c9a74dd2b",
     "locked": true,
     "schema_version": 3,
     "solution": false,
     "task": false
    },
    "tags": []
   },
   "source": [
    "Implement the method below to implement the pipeline consisting of the best feature scaling method, and model you found so far."
   ]
  },
  {
   "cell_type": "code",
   "execution_count": 67,
   "metadata": {
    "deletable": false,
    "id": "9UALIIjFv0O7",
    "nbgrader": {
     "cell_type": "code",
     "checksum": "9f3ece038a5e80b90c5b1e6a33504c90",
     "grade": false,
     "grade_id": "cell-1ea66d4b3ae3683b",
     "locked": false,
     "schema_version": 3,
     "solution": true,
     "task": false
    },
    "tags": []
   },
   "outputs": [],
   "source": [
    "def create_optimal_pipeline(X_train:pd.DataFrame, y_train:pd.Series, \n",
    "                            random_state=42, **kwargs):\n",
    "    \"\"\" \n",
    "    Create an optimized ML pipeline using the best performing components.\n",
    "    Train the pipeline!\n",
    "\n",
    "    Parameters\n",
    "    --------\n",
    "    X_train: training features\n",
    "    y_train: training target values\n",
    "    random_state: random state initializer, if required.\n",
    "\n",
    "    Returns\n",
    "    --------\n",
    "    pipeline: ML pipeline trained on X_train and y_train.\n",
    "\n",
    "    \"\"\"\n",
    "    pipeline = None\n",
    "\n",
    "    pipeline = make_pipeline(MinMaxScaler(), DecisionTreeRegressor())\n",
    "    \n",
    "    pipeline.fit(X_train, y_train)\n",
    "    \n",
    "    return pipeline"
   ]
  },
  {
   "cell_type": "code",
   "execution_count": 68,
   "metadata": {
    "deletable": false,
    "editable": false,
    "id": "6iQmYBJpvQNH",
    "nbgrader": {
     "cell_type": "code",
     "checksum": "cb7210c16a598dfc68adf7d1d825fd36",
     "grade": false,
     "grade_id": "cell-47536859e5436ca8",
     "locked": true,
     "schema_version": 3,
     "solution": false,
     "task": false
    },
    "outputId": "400c7c72-6e88-444d-c944-6398bc4b6709",
    "tags": []
   },
   "outputs": [
    {
     "name": "stdout",
     "output_type": "stream",
     "text": [
      "Performance for optimal model: \n",
      "mean_absolute_error: 1542.1053\n"
     ]
    }
   ],
   "source": [
    "# DO NOT MODIFY OR COPY THIS CELL!!\n",
    "\n",
    "# transform features\n",
    "X_train_transformed, X_valid_transformed = select_features(X_train, y_train, X_valid)\n",
    "\n",
    "# train model\n",
    "optimal_model = create_optimal_pipeline(X_train_transformed, y_train)\n",
    "\n",
    "# predict and get performance\n",
    "y_pred_optimal, metric_result_optimal = predict_and_eval(optimal_model, choosen_metric_func, X_valid_transformed, y_valid)\n",
    "\n",
    "print(f\"Performance for optimal model: \\n{choosen_metric_func.__name__}: {metric_result_optimal:.4f}\")"
   ]
  },
  {
   "cell_type": "code",
   "execution_count": 69,
   "metadata": {
    "deletable": false,
    "editable": false,
    "id": "xtbUgf6owRUS",
    "nbgrader": {
     "cell_type": "code",
     "checksum": "c0d2173db925f83a48d99d291ddd2f2a",
     "grade": true,
     "grade_id": "cell-d0ca22b46332d83b",
     "locked": true,
     "points": 2,
     "schema_version": 3,
     "solution": false,
     "task": false
    },
    "tags": []
   },
   "outputs": [],
   "source": [
    "# tests, DO NOT MODIFY OR COPY THIS CELL!!\n",
    "assert y_pred_optimal.shape[0] == X_valid.shape[0], \\\n",
    "        \"One prediction per validation features row!\"\n"
   ]
  },
  {
   "cell_type": "markdown",
   "metadata": {
    "deletable": false,
    "editable": false,
    "id": "leZgLcE1wpja",
    "nbgrader": {
     "cell_type": "markdown",
     "checksum": "dc97020ce1cb27033d50d5a6ef0fd754",
     "grade": false,
     "grade_id": "cell-6a669f82459147df",
     "locked": true,
     "schema_version": 3,
     "solution": false,
     "task": false
    },
    "tags": []
   },
   "source": [
    "#### Fine-tune using 10-fold cross-validation\n",
    "\n",
    "Until now we only looked at one train/validation split. This can be problematic, since we might have overfitted on this specific split.\n",
    "In order to improve generalization, use 10-fold cross-validation to fine-tune all parameters (feature selection, scaler, model) for the optimal model!\n",
    "\n",
    "- Explore the effect of parameters by using 10-fold cross-validation.\n",
    "- Use the whole `data_develop` DataFrame.\n",
    "- Evaluate the performance of the different settings by comparing the mean scores.\n",
    "\n",
    "Implement the function below!\n",
    "You can reuse the functions from above! If you want to reuse them, you can forward parameters using the `**kwargs` parameters in the function definition (in order to not break the tests), for optimizations."
   ]
  },
  {
   "cell_type": "code",
   "execution_count": 70,
   "metadata": {
    "deletable": false,
    "id": "VRACR9kNwqjZ",
    "nbgrader": {
     "cell_type": "code",
     "checksum": "8ea7b91bf77a96ece03c1fc039d8c183",
     "grade": false,
     "grade_id": "cell-574452560acc654e",
     "locked": false,
     "schema_version": 3,
     "solution": true,
     "task": false
    },
    "tags": []
   },
   "outputs": [],
   "source": [
    "def run_10_fold_cross_validation(df: pd.DataFrame, **kwargs) -> np.ndarray:\n",
    "    \"\"\" \n",
    "    Run a 10-fold cross-validation, using the feature selection method and\n",
    "    optimal ML pipeline from above, to fine-tune the parameters.\n",
    "\n",
    "    Parameters\n",
    "    --------\n",
    "    df: full development dataset\n",
    "\n",
    "    Returns\n",
    "    --------\n",
    "    scores_cv: individual scores for all cross-validation splits.\n",
    "\n",
    "    \"\"\"\n",
    "    from sklearn.model_selection import cross_validate\n",
    "    \n",
    "    # we use the whole dataset now, and split it up into train and valid \n",
    "    # using a 10-fold cross-validation strategy.\n",
    "    X_train_cv = df.copy()\n",
    "    y_train_cv = df[target_column]\n",
    "    del X_train_cv[target_column]\n",
    "\n",
    "    scores_cv = None\n",
    "\n",
    "    cvs = cross_validate(DecisionTreeRegressor(), X_train_cv, y_train_cv, scoring = \"neg_mean_absolute_error\", cv=10, return_train_score=True)\n",
    "    scores_cv = cvs[\"test_score\"]\n",
    "\n",
    "    return scores_cv"
   ]
  },
  {
   "cell_type": "code",
   "execution_count": 71,
   "metadata": {
    "deletable": false,
    "editable": false,
    "id": "o5T9ERckw-9s",
    "nbgrader": {
     "cell_type": "code",
     "checksum": "0c08953cf800355907c6ea9985151dc9",
     "grade": false,
     "grade_id": "cell-a0a010edf79bd49e",
     "locked": true,
     "schema_version": 3,
     "solution": false,
     "task": false
    },
    "outputId": "1c42eaf3-a815-48a1-e497-43f189da6762",
    "tags": []
   },
   "outputs": [
    {
     "name": "stdout",
     "output_type": "stream",
     "text": [
      "cross-validation scores: [-4010.34482759 -3206.89655172 -2096.55172414 -2958.62068966\n",
      " -1946.42857143 -2189.28571429 -4207.14285714 -3525.\n",
      " -3403.57142857 -2835.71428571] \n",
      "\n",
      "Mean: -3037.9557\n"
     ]
    }
   ],
   "source": [
    "# DO NOT MODIFY OR COPY THIS CELL!!\n",
    "scores_cv = run_10_fold_cross_validation(data_develop)\n",
    "\n",
    "print(f\"cross-validation scores: {scores_cv} \\n\\nMean: {scores_cv.mean():.4f}\")"
   ]
  },
  {
   "cell_type": "code",
   "execution_count": 72,
   "metadata": {
    "deletable": false,
    "editable": false,
    "id": "S9PjZZgOJF5V",
    "nbgrader": {
     "cell_type": "code",
     "checksum": "35ffb2db380eaaf531aaabfe4e31f251",
     "grade": true,
     "grade_id": "cell-89c5195ae7ed8ae9",
     "locked": true,
     "points": 2,
     "schema_version": 3,
     "solution": false,
     "task": false
    },
    "tags": []
   },
   "outputs": [],
   "source": [
    "# tests, DO NOT MODIFY OR COPY THIS CELL!!\n",
    "\n",
    "assert len(scores_cv) == 10, \"You should return the individual scores for all 10 splits!\""
   ]
  },
  {
   "cell_type": "markdown",
   "metadata": {
    "deletable": false,
    "editable": false,
    "id": "mL912v3ULGad",
    "nbgrader": {
     "cell_type": "markdown",
     "checksum": "247244618cc81984a06ebdf17b04eb4d",
     "grade": false,
     "grade_id": "cell-de234bc881e27f78",
     "locked": true,
     "schema_version": 3,
     "solution": false,
     "task": false
    },
    "tags": []
   },
   "source": [
    "Optional: You can further optimize your model in the following cell (or add new cells). E.g. you can use the `**kwargs` in the `run_10_fold_cross_validation` function to run different parameter settings, or even run a grid search for certain parameters."
   ]
  },
  {
   "cell_type": "markdown",
   "metadata": {
    "deletable": false,
    "editable": false,
    "id": "zDfgnPe5uJgw",
    "nbgrader": {
     "cell_type": "markdown",
     "checksum": "6358d71215bac180b0b46d092555231b",
     "grade": false,
     "grade_id": "cell-044d66f6675a57d9",
     "locked": true,
     "schema_version": 3,
     "solution": false,
     "task": false
    },
    "tags": []
   },
   "source": [
    "## Task 8: Test model on 2020/2021 season (10 Points)\n",
    "\n",
    "Use the full development data (`data_develop`) and train the best optimal pipeline you built in the last task. Then predict weekly influenza cases for the hidden holdout data split off in task 7.1.\n",
    "\n",
    "- Train your selected model using the development data (`data_develop`) and predict `weekly_infections` for `data_hidden_test` feature values.\n",
    "- Compare the predicted and the real values, generate a plot that shows infection values for each season over each other, with the predictions and the real values for 2020/2021 season highlighed.\n"
   ]
  },
  {
   "cell_type": "code",
   "execution_count": 73,
   "metadata": {
    "deletable": false,
    "editable": false,
    "id": "LZSaPMq6uJgx",
    "nbgrader": {
     "cell_type": "code",
     "checksum": "b005b9a3a0a147e532868b6d2b6eb595",
     "grade": false,
     "grade_id": "cell-f3f48cab44989769",
     "locked": true,
     "schema_version": 3,
     "solution": false,
     "task": false
    },
    "outputId": "74d4829b-0212-4562-e7c6-01879845d0c2",
    "tags": []
   },
   "outputs": [
    {
     "data": {
      "text/html": [
       "<div>\n",
       "<style scoped>\n",
       "    .dataframe tbody tr th:only-of-type {\n",
       "        vertical-align: middle;\n",
       "    }\n",
       "\n",
       "    .dataframe tbody tr th {\n",
       "        vertical-align: top;\n",
       "    }\n",
       "\n",
       "    .dataframe thead th {\n",
       "        text-align: right;\n",
       "    }\n",
       "</style>\n",
       "<table border=\"1\" class=\"dataframe\">\n",
       "  <thead>\n",
       "    <tr style=\"text-align: right;\">\n",
       "      <th></th>\n",
       "      <th></th>\n",
       "      <th>temp_weeklyMin</th>\n",
       "      <th>hum_weeklyMin</th>\n",
       "      <th>wind_weeklyMin</th>\n",
       "      <th>precip_weeklyMin</th>\n",
       "      <th>temp_weeklyMax</th>\n",
       "      <th>hum_weeklyMax</th>\n",
       "      <th>wind_weeklyMax</th>\n",
       "      <th>precip_weeklyMax</th>\n",
       "      <th>temp_weeklyMean</th>\n",
       "      <th>hum_weeklyMean</th>\n",
       "      <th>wind_weeklyMean</th>\n",
       "      <th>precip_weeklyMean</th>\n",
       "      <th>temp_weeklyMedian</th>\n",
       "      <th>weekly_infections</th>\n",
       "    </tr>\n",
       "    <tr>\n",
       "      <th>year</th>\n",
       "      <th>week</th>\n",
       "      <th></th>\n",
       "      <th></th>\n",
       "      <th></th>\n",
       "      <th></th>\n",
       "      <th></th>\n",
       "      <th></th>\n",
       "      <th></th>\n",
       "      <th></th>\n",
       "      <th></th>\n",
       "      <th></th>\n",
       "      <th></th>\n",
       "      <th></th>\n",
       "      <th></th>\n",
       "      <th></th>\n",
       "    </tr>\n",
       "  </thead>\n",
       "  <tbody>\n",
       "    <tr>\n",
       "      <th rowspan=\"5\" valign=\"top\">2020</th>\n",
       "      <th>40</th>\n",
       "      <td>9.4</td>\n",
       "      <td>44</td>\n",
       "      <td>1.0</td>\n",
       "      <td>0.0</td>\n",
       "      <td>21.7</td>\n",
       "      <td>96</td>\n",
       "      <td>4.0</td>\n",
       "      <td>5.2</td>\n",
       "      <td>15.071429</td>\n",
       "      <td>75.190476</td>\n",
       "      <td>2.761905</td>\n",
       "      <td>1.500000</td>\n",
       "      <td>15.071429</td>\n",
       "      <td>4400</td>\n",
       "    </tr>\n",
       "    <tr>\n",
       "      <th>41</th>\n",
       "      <td>7.4</td>\n",
       "      <td>37</td>\n",
       "      <td>1.0</td>\n",
       "      <td>0.0</td>\n",
       "      <td>20.8</td>\n",
       "      <td>94</td>\n",
       "      <td>4.0</td>\n",
       "      <td>31.6</td>\n",
       "      <td>13.714286</td>\n",
       "      <td>71.428571</td>\n",
       "      <td>2.333333</td>\n",
       "      <td>4.842857</td>\n",
       "      <td>13.714286</td>\n",
       "      <td>3400</td>\n",
       "    </tr>\n",
       "    <tr>\n",
       "      <th>42</th>\n",
       "      <td>6.2</td>\n",
       "      <td>67</td>\n",
       "      <td>2.0</td>\n",
       "      <td>0.1</td>\n",
       "      <td>11.7</td>\n",
       "      <td>92</td>\n",
       "      <td>4.0</td>\n",
       "      <td>44.8</td>\n",
       "      <td>8.047619</td>\n",
       "      <td>84.761905</td>\n",
       "      <td>2.952381</td>\n",
       "      <td>10.842857</td>\n",
       "      <td>8.047619</td>\n",
       "      <td>4200</td>\n",
       "    </tr>\n",
       "    <tr>\n",
       "      <th>43</th>\n",
       "      <td>5.8</td>\n",
       "      <td>65</td>\n",
       "      <td>1.0</td>\n",
       "      <td>0.0</td>\n",
       "      <td>17.1</td>\n",
       "      <td>100</td>\n",
       "      <td>4.0</td>\n",
       "      <td>15.3</td>\n",
       "      <td>10.785714</td>\n",
       "      <td>85.333333</td>\n",
       "      <td>1.904762</td>\n",
       "      <td>2.557143</td>\n",
       "      <td>10.785714</td>\n",
       "      <td>3700</td>\n",
       "    </tr>\n",
       "    <tr>\n",
       "      <th>44</th>\n",
       "      <td>4.3</td>\n",
       "      <td>63</td>\n",
       "      <td>0.0</td>\n",
       "      <td>0.1</td>\n",
       "      <td>17.7</td>\n",
       "      <td>97</td>\n",
       "      <td>4.0</td>\n",
       "      <td>15.3</td>\n",
       "      <td>11.252381</td>\n",
       "      <td>82.428571</td>\n",
       "      <td>2.380952</td>\n",
       "      <td>5.657143</td>\n",
       "      <td>11.252381</td>\n",
       "      <td>4000</td>\n",
       "    </tr>\n",
       "  </tbody>\n",
       "</table>\n",
       "</div>"
      ],
      "text/plain": [
       "           temp_weeklyMin  hum_weeklyMin  wind_weeklyMin  precip_weeklyMin  \\\n",
       "year week                                                                    \n",
       "2020 40               9.4             44             1.0               0.0   \n",
       "     41               7.4             37             1.0               0.0   \n",
       "     42               6.2             67             2.0               0.1   \n",
       "     43               5.8             65             1.0               0.0   \n",
       "     44               4.3             63             0.0               0.1   \n",
       "\n",
       "           temp_weeklyMax  hum_weeklyMax  wind_weeklyMax  precip_weeklyMax  \\\n",
       "year week                                                                    \n",
       "2020 40              21.7             96             4.0               5.2   \n",
       "     41              20.8             94             4.0              31.6   \n",
       "     42              11.7             92             4.0              44.8   \n",
       "     43              17.1            100             4.0              15.3   \n",
       "     44              17.7             97             4.0              15.3   \n",
       "\n",
       "           temp_weeklyMean  hum_weeklyMean  wind_weeklyMean  \\\n",
       "year week                                                     \n",
       "2020 40          15.071429       75.190476         2.761905   \n",
       "     41          13.714286       71.428571         2.333333   \n",
       "     42           8.047619       84.761905         2.952381   \n",
       "     43          10.785714       85.333333         1.904762   \n",
       "     44          11.252381       82.428571         2.380952   \n",
       "\n",
       "           precip_weeklyMean  temp_weeklyMedian  weekly_infections  \n",
       "year week                                                           \n",
       "2020 40             1.500000          15.071429               4400  \n",
       "     41             4.842857          13.714286               3400  \n",
       "     42            10.842857           8.047619               4200  \n",
       "     43             2.557143          10.785714               3700  \n",
       "     44             5.657143          11.252381               4000  "
      ]
     },
     "metadata": {},
     "output_type": "display_data"
    }
   ],
   "source": [
    "# DO NOT MODIFY OR COPY THIS CELL!!\n",
    "# show the hidden test data again...\n",
    "display(data_hidden_test.head(5))"
   ]
  },
  {
   "cell_type": "markdown",
   "metadata": {
    "deletable": false,
    "editable": false,
    "id": "qrHQGXGwuJg0",
    "nbgrader": {
     "cell_type": "markdown",
     "checksum": "2ff7068868003268ea07b40b62277e6c",
     "grade": false,
     "grade_id": "cell-1ee8252da590cff0",
     "locked": true,
     "schema_version": 3,
     "solution": false,
     "task": false
    },
    "tags": []
   },
   "source": [
    "#### Train & predict with best model"
   ]
  },
  {
   "cell_type": "code",
   "execution_count": 74,
   "metadata": {
    "deletable": false,
    "id": "5EbEMncDU5HD",
    "nbgrader": {
     "cell_type": "code",
     "checksum": "81c4ce1d41eadb3d209efcc4106c9264",
     "grade": false,
     "grade_id": "cell-bc3945c80f17d645",
     "locked": false,
     "schema_version": 3,
     "solution": true,
     "task": false
    },
    "tags": []
   },
   "outputs": [],
   "source": [
    "def train_and_predict(X_train: pd.DataFrame, y_train: pd.Series, \n",
    "                      X_test: pd.DataFrame) -> np.ndarray:\n",
    "    predictions = None\n",
    "\n",
    "    pipe = Pipeline(steps=[(\"scaler\", MinMaxScaler()), (\"vect\", SelectPercentile()), (\"model\", DecisionTreeRegressor())])\n",
    "    pipe.fit(X_train, y_train)\n",
    "    predictions = pipe.predict(X_test)\n",
    "    \n",
    "    return predictions"
   ]
  },
  {
   "cell_type": "code",
   "execution_count": 75,
   "metadata": {
    "deletable": false,
    "editable": false,
    "id": "vX5FMr3cJUBp",
    "nbgrader": {
     "cell_type": "code",
     "checksum": "20cbc543f307552bd96809d977422c7e",
     "grade": false,
     "grade_id": "cell-d3e10c3be1c2d4c5",
     "locked": true,
     "schema_version": 3,
     "solution": false,
     "task": false
    },
    "tags": []
   },
   "outputs": [],
   "source": [
    "# DO NOT MODIFY OR COPY THIS CELL!!\n",
    "\n",
    "# train with full train data, predict on hidden test data. For hidden \n",
    "# test data, we do not provide the weekly_infections values, of course!\n",
    "X_train = data_develop.copy()\n",
    "y_train = X_train[target_column]\n",
    "\n",
    "X_test = data_hidden_test.copy()\n",
    "\n",
    "del X_train[target_column]\n",
    "del X_test[target_column]\n",
    "\n",
    "season_2020_prediction = train_and_predict(X_train, y_train, X_test) "
   ]
  },
  {
   "cell_type": "code",
   "execution_count": 76,
   "metadata": {
    "deletable": false,
    "editable": false,
    "id": "hpIBjl5gKM_V",
    "nbgrader": {
     "cell_type": "code",
     "checksum": "02e0f49b48312419afc2f907a37e6c05",
     "grade": true,
     "grade_id": "cell-f2c63811eefe4fde",
     "locked": true,
     "points": 2,
     "schema_version": 3,
     "solution": false,
     "task": false
    },
    "outputId": "d6809195-6dfb-48ae-e856-077c6caee0aa",
    "tags": []
   },
   "outputs": [],
   "source": [
    "# tests,  DO NOT MODIFY OR COPY THIS CELL!!\n",
    "assert len(season_2020_prediction.shape) == 1, \\\n",
    "        \"Predictions should only have 1 column!\"\n",
    "assert season_2020_prediction.shape[0] == data_hidden_test.shape[0], \\\n",
    "        \"Predictions have the same number of column as test data!\"\n"
   ]
  },
  {
   "cell_type": "markdown",
   "metadata": {
    "deletable": false,
    "editable": false,
    "id": "OqLLQezr1fqW",
    "nbgrader": {
     "cell_type": "markdown",
     "checksum": "117728654b7a78a52b13231a9f9c40ae",
     "grade": false,
     "grade_id": "cell-b4c20db221ca4d05",
     "locked": true,
     "schema_version": 3,
     "solution": false,
     "task": false
    },
    "tags": []
   },
   "source": [
    "#### Visualize\n",
    "\n",
    "Plot the previous seasons of influenza cases, as well as the prediction and the real values for the 2020 season into one plot.\n",
    "- Compare the predictions to the ground truth.\n",
    "- Compare weekly influenza cases of different seasons.\n",
    "- Try to fit the individual seasons in one plot. Note that an influenza season starts some time in fall and ends in spring, while for different years we might have a different number of weeks!"
   ]
  },
  {
   "cell_type": "code",
   "execution_count": 77,
   "metadata": {
    "deletable": false,
    "id": "oezbtPiu4CbY",
    "nbgrader": {
     "cell_type": "code",
     "checksum": "64df2e175485239a97a62800169887ab",
     "grade": false,
     "grade_id": "cell-7e81a0c82c89a77f",
     "locked": false,
     "schema_version": 3,
     "solution": true,
     "task": false
    },
    "outputId": "7a5d51cf-e2f2-4e9e-81de-c02d4ed7788f",
    "tags": []
   },
   "outputs": [
    {
     "data": {
      "image/png": "[encoded data removed]",
      "text/plain": [
       "<Figure size 640x480 with 1 Axes>"
      ]
     },
     "metadata": {},
     "output_type": "display_data"
    }
   ],
   "source": [
    "residuals = data_hidden_test.reset_index().weekly_infections - season_2020_prediction\n",
    "\n",
    "plt.scatter(season_2020_prediction, residuals)\n",
    "plt.xlabel(\"predictions\")\n",
    "plt.ylabel(\"Residuals\")\n",
    "plt.show()\n"
   ]
  },
  {
   "cell_type": "code",
   "execution_count": 78,
   "metadata": {
    "deletable": false,
    "editable": false,
    "id": "4tJFNpTnIahH",
    "nbgrader": {
     "cell_type": "code",
     "checksum": "f30c0d11540227ec387c9bb74645ed70",
     "grade": true,
     "grade_id": "cell-9d354c2ad5a563a3",
     "locked": true,
     "points": 3,
     "schema_version": 3,
     "solution": false,
     "task": false
    },
    "outputId": "1ba08ede-adda-45f0-ff6c-e1bcf167b4ff",
    "tags": []
   },
   "outputs": [],
   "source": [
    "# tests, DO NOT MODIFY OR COPY THIS CELL!!"
   ]
  },
  {
   "cell_type": "markdown",
   "metadata": {
    "deletable": false,
    "editable": false,
    "id": "OOvX8C4QuJg1",
    "nbgrader": {
     "cell_type": "markdown",
     "checksum": "02b3663eca78e2b8c1f14fe75f11b794",
     "grade": false,
     "grade_id": "cell-130f0b4a66118125",
     "locked": true,
     "schema_version": 3,
     "solution": false,
     "task": false
    },
    "tags": []
   },
   "source": [
    "#### Findings \n",
    "Summarize your findings and lessons learned."
   ]
  },
  {
   "cell_type": "markdown",
   "metadata": {
    "deletable": false,
    "id": "H2tRTkf-uJg1",
    "nbgrader": {
     "cell_type": "markdown",
     "checksum": "0efd8115ed2602a780cc24b854357170",
     "grade": true,
     "grade_id": "cell-48745fd0440c1380",
     "locked": false,
     "points": 5,
     "schema_version": 3,
     "solution": true,
     "task": false
    },
    "tags": []
   },
   "source": [
    "The predictions are not optimal. The residuals show us that the predictions are higher than the true values. The model is not optimal or the data is not describing well the output variable. Maybe some further preprocess will be needed or feature selection methods. "
   ]
  },
  {
   "cell_type": "markdown",
   "metadata": {
    "deletable": false,
    "editable": false,
    "nbgrader": {
     "cell_type": "markdown",
     "checksum": "0f2ad958f54781664d7039fb2ee0f9fa",
     "grade": false,
     "grade_id": "cell-6dea3a445dfffe71",
     "locked": true,
     "schema_version": 3,
     "solution": false,
     "task": false
    },
    "tags": []
   },
   "source": [
    "## Congratulations, you are done!\n",
    "\n",
    "Reminder:\n",
    "Before you turn this assignment in, make sure everything runs as expected. First, **restart the kernel** (in the menubar, select Kernel$\\rightarrow$Restart) and then **run all cells** (in the menubar, select Cell$\\rightarrow$Run All)."
   ]
  },
  {
   "cell_type": "code",
   "execution_count": null,
   "metadata": {},
   "outputs": [],
   "source": []
  },
  {
   "cell_type": "code",
   "execution_count": null,
   "metadata": {},
   "outputs": [],
   "source": []
  }
 ],
 "metadata": {
  "colab": {
   "collapsed_sections": [],
   "provenance": [],
   "toc_visible": true
  },
  "hide_input": false,
  "kernelspec": {
   "display_name": "Python 3 (ipykernel)",
   "language": "python",
   "name": "python3"
  },
  "language_info": {
   "codemirror_mode": {
    "name": "ipython",
    "version": 3
   },
   "file_extension": ".py",
   "mimetype": "text/x-python",
   "name": "python",
   "nbconvert_exporter": "python",
   "pygments_lexer": "ipython3",
   "version": "3.10.6"
  }
 },
 "nbformat": 4,
 "nbformat_minor": 4
}
