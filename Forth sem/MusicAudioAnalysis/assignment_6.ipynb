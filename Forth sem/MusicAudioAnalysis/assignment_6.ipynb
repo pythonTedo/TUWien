{
 "cells": [
  {
   "cell_type": "markdown",
   "metadata": {
    "deletable": false,
    "editable": false,
    "nbgrader": {
     "cell_type": "markdown",
     "checksum": "fc408101c7eae25dbf6de67e8bb85098",
     "grade": false,
     "grade_id": "cell-2e8dabd8897e1fea",
     "locked": true,
     "schema_version": 3,
     "solution": false,
     "task": false
    },
    "slideshow": {
     "slide_type": ""
    },
    "tags": []
   },
   "source": [
    "Before you turn this assignment in, make sure everything runs as expected. First, **restart the kernel** (in the menubar, select Kernel$\\rightarrow$Restart) and then **run all cells** (in the menubar, select Cell$\\rightarrow$Run All).\n",
    "\n",
    "Make sure you fill in any place that says \"YOUR ANSWER HERE\" or `YOUR CODE HERE` and remove the `raise NotImplementedError()` lines. \n",
    "\n",
    "Code blocks starting with a `# tests` comment provide unit tests which have to run without errors in order to get full points. Be aware that there might be further 'secret' tests to check correct implementation! I.e. the provided unit tests are necessary but not sufficient for full points!\n",
    "\n",
    "You are always welcome to add **additional plots, tests, or debug outputs**.\n",
    "However, make sure to: **1) not break the automated tests**, and **2) switch off any excessive debug output** when you submit your notebook!\n",
    "Note that there is a **hard limit of 720s for execution time** of individual cells when autograding!\n",
    "\n",
    "Please add your name and student ID below:"
   ]
  },
  {
   "cell_type": "code",
   "execution_count": 1,
   "metadata": {
    "deletable": false,
    "editable": true,
    "nbgrader": {
     "cell_type": "code",
     "checksum": "42bf76f4fa999d9c402aa6b2fae4b4d7",
     "grade": false,
     "grade_id": "cell-bc6886da45bcfc76",
     "locked": false,
     "schema_version": 3,
     "solution": true,
     "task": false
    },
    "revert": "NAME = \"\" \nSTUDENT_ID = \"\" \n# YOUR CODE HERE\nraise NotImplementedError()",
    "slideshow": {
     "slide_type": ""
    },
    "tags": []
   },
   "outputs": [],
   "source": [
    "NAME = \"Teodor Chakarov\" \n",
    "STUDENT_ID = \"12141198\" \n"
   ]
  },
  {
   "cell_type": "code",
   "execution_count": 2,
   "metadata": {
    "deletable": false,
    "editable": false,
    "nbgrader": {
     "cell_type": "code",
     "checksum": "9f7fdc89f976fb4ac999a0ede1705805",
     "grade": true,
     "grade_id": "name_and_id_test",
     "locked": true,
     "points": 0,
     "schema_version": 3,
     "solution": false,
     "task": false
    },
    "slideshow": {
     "slide_type": ""
    },
    "tags": []
   },
   "outputs": [],
   "source": [
    "assert len(NAME) > 0, \"Enter your name!\"\n",
    "assert len(STUDENT_ID) > 0, \"Enter your student ID!\""
   ]
  },
  {
   "cell_type": "markdown",
   "metadata": {
    "deletable": false,
    "editable": false,
    "nbgrader": {
     "cell_type": "markdown",
     "checksum": "39f8d2a53c8317248bec561e72b3a01e",
     "grade": false,
     "grade_id": "cell-af22af3c51ef2859",
     "locked": true,
     "schema_version": 3,
     "solution": false,
     "task": false
    }
   },
   "source": [
    "# Intelligent Audio and Music Analysis Assignment 6\n",
    "\n",
    "This assignment accounts for 50 points of the 3rd and last assignment block (100 points total)\n",
    "\n",
    "Assignment 6 and 7 are more free form than the previous assignments. The goal is to apply what has been practiced so far. For implementing assignments 6 and 7, follow the code structures from previous assignments and reuse as much code as possible. You can use any libraries, we recommend madmom, librosa, pyTorch, etc. (the libraries we have used so far).\n",
    "\n",
    "## Semantic Music Tagging\n",
    "\n",
    "Following the approach by [Choi et al. \\[2016\\]](https://arxiv.org/pdf/1606.00298.pdf) “Automatic Tagging Using Deep Convolutional Neural Networks”, a CNN architecture shall be implemented to predict semantic categories for short clips of music pieces. As suggested, for experiments, the MagnaTagATune dataset will be used.\n",
    "\n",
    "\n",
    "\n",
    "### GPU Support\n",
    "Our JupyterHub, unfortunately, does not yet provide GPU support. Nevertheless, this assignment can be run as-is on JupyterHub, however training of the neural network will take even longer than last time.\n",
    "\n",
    "In order to speed up training if you are in a hurry, you can run this notebook on any local machine with GPU and cuda support, or alternatively use infrastructure like [google colab](https://colab.research.google.com/) and drive, if you have a google account.\n",
    "\n",
    "Simply upload your solved notebook and output model file back to JupyterHub for your submission."
   ]
  },
  {
   "cell_type": "code",
   "execution_count": 3,
   "metadata": {
    "deletable": false,
    "editable": false,
    "nbgrader": {
     "cell_type": "code",
     "checksum": "400078195550afebd2b8a1ca29623e5e",
     "grade": false,
     "grade_id": "cell-a7ed23be263a52e5",
     "locked": true,
     "schema_version": 3,
     "solution": false,
     "task": false
    }
   },
   "outputs": [
    {
     "name": "stdout",
     "output_type": "stream",
     "text": [
      "=======================\n",
      "NOT running in colab...\n",
      "=======================\n"
     ]
    }
   ],
   "source": [
    "import os\n",
    "# This code block enables this notebook to run on google colab.\n",
    "try:\n",
    "    from google.colab import drive\n",
    "    print('Running in colab...\\n===================')\n",
    "    COLAB = True\n",
    "    !pip install madmom librosa # torch==1.4.0 torchvision==0.5.0 --upgrade\n",
    "    print('Installed dependencies!\\n=======================')\n",
    "\n",
    "    if not os.path.exists('audio'):\n",
    "        print('Downloading data...\\n===================')\n",
    "        !wget http://mi.soi.city.ac.uk/datasets/magnatagatune/clip_info_final.csv\n",
    "        !wget http://mi.soi.city.ac.uk/datasets/magnatagatune/annotations_final.csv\n",
    "        !wget http://mi.soi.city.ac.uk/datasets/magnatagatune/mp3.zip.001\n",
    "        !wget http://mi.soi.city.ac.uk/datasets/magnatagatune/mp3.zip.002\n",
    "        !wget http://mi.soi.city.ac.uk/datasets/magnatagatune/mp3.zip.003\n",
    "        !cat mp3.zip.* > mp3.zip\n",
    "        !mkdir audio\n",
    "        !unzip mp3.zip -d audio\n",
    "        !rm mp3.zip.*\n",
    "        \n",
    "        # optionally download cached features\n",
    "        !mkdir cache\n",
    "        !wget -O cache/feat_cache.npy \"http://www.ifs.tuwien.ac.at/~vogl/other/feat_cache.npy\"\n",
    "        !wget -O cache/name_cache.npy \"http://www.ifs.tuwien.ac.at/~vogl/other/name_cache.npy\"\n",
    "\n",
    "    print('===================\\nMake sure you activated GPU support: Edit->Notebook settings->Hardware acceleration->GPU\\n==================')\n",
    "except:\n",
    "    print('=======================\\nNOT running in colab...\\n=======================')\n",
    "    COLAB = False"
   ]
  },
  {
   "cell_type": "markdown",
   "metadata": {
    "deletable": false,
    "editable": false,
    "nbgrader": {
     "cell_type": "markdown",
     "checksum": "c12800dac62a9a35b91c92509952f284",
     "grade": false,
     "grade_id": "cell-fe37cd78135067a7",
     "locked": true,
     "schema_version": 3,
     "solution": false,
     "task": false
    }
   },
   "source": [
    "## Task 1: Dataset Preparation (20 Points)\n",
    "\n",
    "From the MagnaTagATune dataset Website, use the clip metadata, the zag\n",
    "annotations, and the audio data files. To save storage on the cluster, we already downloaded the files into the shared folder at: `~/shared/data/assignment_6/`\n",
    "\n",
    "Next, prepare the data in a way that allows to train a neural network and test performance:\n",
    "1. Extract features for the audio files (logarithmic mel-frequency spectrograms).\n",
    "2. Generating a training/validation/test split using the provided split definitions (Important: Use the information given in the clip metadata file to ensure that no clips extracted from the same track end up in different splits).\n",
    "3. Filter the tags such that only the 50 most frequent tags in the dataset remain."
   ]
  },
  {
   "cell_type": "code",
   "execution_count": 4,
   "metadata": {
    "deletable": false,
    "editable": false,
    "nbgrader": {
     "cell_type": "code",
     "checksum": "052dface10e5213b6cd7f7dfab394234",
     "grade": false,
     "grade_id": "cell-23e77a30691832c8",
     "locked": true,
     "schema_version": 3,
     "solution": false,
     "task": false
    }
   },
   "outputs": [
    {
     "name": "stdout",
     "output_type": "stream",
     "text": [
      "Total number of audio files: 25862\n"
     ]
    }
   ],
   "source": [
    "import os\n",
    "import numpy as np\n",
    "\n",
    "# get dataset path\n",
    "dataset_path = os.path.join(os.environ['HOME'], 'shared', '194.039-2023W', 'data', 'assignment_6')\n",
    "if os.path.exists('audio'):\n",
    "    dataset_path = '.'\n",
    "\n",
    "audio_path = os.path.join(dataset_path, 'audio')\n",
    "cache_path = os.path.join(dataset_path, 'cache')\n",
    "\n",
    "data_file_clip_info = os.path.join(dataset_path, 'clip_info_final.csv')\n",
    "data_file_annotations = os.path.join(dataset_path, 'annotations_final.csv')\n",
    "\n",
    "# collect list of audio files:\n",
    "sub_paths = os.listdir(audio_path)\n",
    "audio_file_paths = []\n",
    "for sub_path in sub_paths:\n",
    "    cur_path = os.path.join(audio_path, sub_path)\n",
    "    if not os.path.isdir(cur_path):\n",
    "        continue\n",
    "    audio_files = [af for af in os.listdir(cur_path) if af.endswith('.mp3')]\n",
    "    audio_file_paths.extend([os.path.join(audio_path, sub_path, af) for af in audio_files])\n",
    "\n",
    "audio_file_total_count = len(audio_file_paths)\n",
    "\n",
    "print(f'Total number of audio files: {audio_file_total_count}')"
   ]
  },
  {
   "cell_type": "markdown",
   "metadata": {
    "deletable": false,
    "editable": false,
    "nbgrader": {
     "cell_type": "markdown",
     "checksum": "9a84c8dd8053e759ebdc8cd3c9cf00bf",
     "grade": false,
     "grade_id": "cell-d92c736eab25f84c",
     "locked": true,
     "schema_version": 3,
     "solution": false,
     "task": false
    }
   },
   "source": [
    "### 1.1 Feature Extraction\n",
    "\n",
    "Iterate over the audio files and extract log mel-frequency spectrograms. You can use madmom or librose, and are free to copy your code from previous assignments. Make sure to use the provided variables, in order for the automated tests to pass.\n",
    "\n",
    "Since we are interested in global properties, Choi et al. \\[2016\\] uses parameters that result in a more coarse spectrogram. Additionally all audio files are in the dataset should have the common length of 29.1s, which results in feature matrices with a fixed shape."
   ]
  },
  {
   "cell_type": "code",
   "execution_count": 5,
   "metadata": {
    "deletable": false,
    "editable": false,
    "nbgrader": {
     "cell_type": "code",
     "checksum": "d980dba8d2b8e2cc0d6b10f84cbc99dd",
     "grade": false,
     "grade_id": "cell-ecddd1ca43d6c819",
     "locked": true,
     "schema_version": 3,
     "solution": false,
     "task": false
    }
   },
   "outputs": [],
   "source": [
    "audio_len = 29.124\n",
    "sample_rate = 12000\n",
    "fft_frame_size = 512\n",
    "num_mel_bands = 96\n",
    "hop_size = 256\n",
    "\n",
    "exp_feat_shape = (96, 1366)"
   ]
  },
  {
   "cell_type": "markdown",
   "metadata": {
    "deletable": false,
    "editable": false,
    "nbgrader": {
     "cell_type": "markdown",
     "checksum": "0520ef47c956ff067d47d7f4d9880785",
     "grade": false,
     "grade_id": "cell-84d189277e6b8b1b",
     "locked": true,
     "schema_version": 3,
     "solution": false,
     "task": false
    }
   },
   "source": [
    "**Implement the function below to extract the features from the list of audio files.** You can use `madmom` or `librosa` to extract the mel spectrograms. Be aware of the different ordering of dimensions for frequency bins and time of the two frameworks.\n",
    "\n",
    "**Note:** Make sure to be able to handle corrupt audio files (e.g. try/except block), there are a couple of corrupt audio files in the dataset."
   ]
  },
  {
   "cell_type": "code",
   "execution_count": 6,
   "metadata": {
    "deletable": false,
    "nbgrader": {
     "cell_type": "code",
     "checksum": "8c8d2f135fb7197bb072a577ea62b748",
     "grade": false,
     "grade_id": "cell-0e4198c9c0ba9e75",
     "locked": false,
     "schema_version": 3,
     "solution": true,
     "task": false
    },
    "revert": "import sys\n\ndef extract_features(file_list):\n    features = []  # list containing features for each audio file\n    file_names = []  # audio file names for features (indices should correspond!), cut path and file extension, only leave names\n    # iterate over files and extract features...\n    # YOUR CODE HERE\n    raise NotImplementedError()\n    print(sys.getsizeof(features))\n    return np.asarray(features), np.asarray(file_names)"
   },
   "outputs": [],
   "source": [
    "import sys\n",
    "import librosa\n",
    "\n",
    "def extract_features(file_list):\n",
    "    features = []  # list containing features for each audio file\n",
    "    file_names = []  # audio file names for features (indices should correspond!), cut path and file extension, only leave names\n",
    "    # iterate over files and extract features...\n",
    "    # YOUR CODE HERE\n",
    "    for file in file_list:\n",
    "        try:\n",
    "            y, sr = librosa.load(file, sr=sample_rate, duration=audio_len)\n",
    "            spec = librosa.feature.melspectrogram(y=y, sr=sample_rate, n_fft=fft_frame_size, hop_length=hop_size, n_mels=num_mel_bands)\n",
    "            #log_S = librosa.power_to_db(spec)\n",
    "            features.append(spec)\n",
    "            file_name = os.path.splitext(os.path.basename(file))[0]\n",
    "            file_names.append(file_name)\n",
    "        except Exception as e:\n",
    "            print(f\"Error processing {file}: {e}\")\n",
    "            \n",
    "    print(sys.getsizeof(features))\n",
    "    return np.asarray(features), np.asarray(file_names)"
   ]
  },
  {
   "cell_type": "code",
   "execution_count": 7,
   "metadata": {
    "deletable": false,
    "editable": false,
    "nbgrader": {
     "cell_type": "code",
     "checksum": "4116225186670d61d6a079707c6ca2f8",
     "grade": true,
     "grade_id": "cell-625aaac284ca79b0",
     "locked": true,
     "points": 5,
     "schema_version": 3,
     "solution": false,
     "task": false
    }
   },
   "outputs": [
    {
     "name": "stdout",
     "output_type": "stream",
     "text": [
      "184\n",
      "Calculating features for 10 files took: 1.47s. Full dataset (25862) will take: 3803.45s.\n",
      "Public tests successful!\n",
      "score = 2.0\n"
     ]
    },
    {
     "data": {
      "text/plain": [
       "2.0"
      ]
     },
     "execution_count": 7,
     "metadata": {},
     "output_type": "execute_result"
    }
   ],
   "source": [
    "# tests # DO NOT COPY OR MODIFY THIS CELL!!\n",
    "\n",
    "from time import time as get_time\n",
    "\n",
    "t1 = get_time()\n",
    "num_test_files = 10\n",
    "test_feats, test_names = extract_features(audio_file_paths[:num_test_files])\n",
    "t_calc = get_time()-t1\n",
    "print(f\"Calculating features for {num_test_files} files took: {t_calc:.2f}s. Full dataset ({audio_file_total_count}) will take: {t_calc/num_test_files*audio_file_total_count:.2f}s.\")\n",
    "\n",
    "assert len(test_feats) == num_test_files, \"not all features calculated!\"\n",
    "assert all([cur_feat.shape == exp_feat_shape for cur_feat in test_feats]), \"incorrect features shape!\"\n",
    "score=2.0\n",
    "print('Public tests successful!')\n",
    "print(f\"score = {score}\")\n",
    "score"
   ]
  },
  {
   "cell_type": "markdown",
   "metadata": {
    "deletable": false,
    "editable": false,
    "nbgrader": {
     "cell_type": "markdown",
     "checksum": "71ea054fbeab02b6f43e666215dfec89",
     "grade": false,
     "grade_id": "cell-ccd683a5d9bdab60",
     "locked": true,
     "schema_version": 3,
     "solution": false,
     "task": false
    }
   },
   "source": [
    "As you can see from the test above, extracting the features takes quite some time. To save you the time when restarting the kernel, and/or save disk space on the cluster, we already cached the features and stored them in a numpy file. If you run this notebook somewhere else (e.g. Colab), be prepared that the feature extraction will take significant time.\n",
    "You can also copy the numpy arrays if this is faster than recalculating all features. Also be aware that the cached features file is approximately 14GB."
   ]
  },
  {
   "cell_type": "code",
   "execution_count": 8,
   "metadata": {
    "deletable": false,
    "editable": false,
    "nbgrader": {
     "cell_type": "code",
     "checksum": "373575710f88639c4c09cccfb8f86dea",
     "grade": false,
     "grade_id": "cell-52c46eb12aabcb30",
     "locked": true,
     "schema_version": 3,
     "solution": false,
     "task": false
    }
   },
   "outputs": [
    {
     "name": "stdout",
     "output_type": "stream",
     "text": [
      "Loaded feature cache. \n"
     ]
    }
   ],
   "source": [
    "feat_cache_file = os.path.join(cache_path, 'feat_cache.npy')\n",
    "name_cache_file = os.path.join(cache_path, 'name_cache.npy')\n",
    "if not os.path.exists(feat_cache_file) or not os.path.exists(name_cache_file):\n",
    "    t1 = get_time()\n",
    "    features, file_names = extract_features(audio_file_paths)\n",
    "    np.save(feat_cache_file, features)\n",
    "    np.save(name_cache_file, file_names)\n",
    "    print(f\"Recalculated all features. Took: {get_time()-t1} seconds.\")\n",
    "else:\n",
    "    features = np.load(feat_cache_file, allow_pickle=True, mmap_mode='r')\n",
    "    file_names = np.load(name_cache_file, allow_pickle=True, mmap_mode='r')\n",
    "    print(f\"Loaded feature cache. \")"
   ]
  },
  {
   "cell_type": "markdown",
   "metadata": {
    "deletable": false,
    "editable": false,
    "nbgrader": {
     "cell_type": "markdown",
     "checksum": "0edfc853cf4fb41332ef8d63686c08f0",
     "grade": false,
     "grade_id": "cell-637f55e6274bdd99",
     "locked": true,
     "schema_version": 3,
     "solution": false,
     "task": false
    }
   },
   "source": [
    "The next cell is a workaround for the limited infrastructure. If you have enough hardware resources, you can run the example with the full data."
   ]
  },
  {
   "cell_type": "code",
   "execution_count": 9,
   "metadata": {
    "revert": "# subsample features and names to make data size more manageable.\n# if you have powerful infrastructure you can run with full data and set use_subsample to False.\nuse_subsample = True\ndata_size = len(features)\nif use_subsample:\n    indices = list(range(data_size))\n\n    fraction = 0.25\n    data_size = int(data_size * fraction)\n    import random\n    random.shuffle(indices)\n    indices = indices[:data_size]\n\n    features = features[indices]\n    file_names = file_names[indices]\n    \ndata_size = len(features)\nprint(f'number of datapoints: {data_size}')"
   },
   "outputs": [
    {
     "name": "stdout",
     "output_type": "stream",
     "text": [
      "number of datapoints: 6465\n"
     ]
    }
   ],
   "source": [
    "# subsample features and names to make data size more manageable.\n",
    "# if you have powerful infrastructure you can run with full data and set use_subsample to False.\n",
    "use_subsample = True\n",
    "data_size = len(features)\n",
    "if use_subsample:\n",
    "    indices = list(range(data_size))\n",
    "\n",
    "    fraction = 0.25\n",
    "    data_size = int(data_size * fraction)\n",
    "    import random\n",
    "    random.shuffle(indices)\n",
    "    indices = indices[:data_size]\n",
    "\n",
    "    features = features[indices]\n",
    "    file_names = file_names[indices]\n",
    "    \n",
    "data_size = len(features)\n",
    "print(f'number of datapoints: {data_size}')"
   ]
  },
  {
   "cell_type": "code",
   "execution_count": 10,
   "metadata": {
    "deletable": false,
    "editable": false,
    "nbgrader": {
     "cell_type": "code",
     "checksum": "14b7f25ae0521a9e584699b6f2c99053",
     "grade": true,
     "grade_id": "cell-5c525475f5e08496",
     "locked": true,
     "points": 2,
     "schema_version": 3,
     "solution": false,
     "task": false
    }
   },
   "outputs": [
    {
     "name": "stdout",
     "output_type": "stream",
     "text": [
      "All tests successful!\n"
     ]
    }
   ],
   "source": [
    "# tests # DO NOT COPY OR MODIFY THIS CELL!!\n",
    "\n",
    "assert features[0].shape == (96, 1366)\n",
    "\n",
    "print('All tests successful!')"
   ]
  },
  {
   "cell_type": "markdown",
   "metadata": {
    "deletable": false,
    "editable": false,
    "nbgrader": {
     "cell_type": "markdown",
     "checksum": "b434796d14e970e9f04632ae0fbf4bd2",
     "grade": false,
     "grade_id": "cell-88bd2a921720331f",
     "locked": true,
     "schema_version": 3,
     "solution": false,
     "task": false
    }
   },
   "source": [
    "### 1.2 Collect and Preprocess Tags\n",
    "\n",
    "The file referenced by `data_file_annotations` contains the annotations of the dataset. It is a comma-separated-values file (csv), you can use e.g. the python package [`csv`](https://docs.python.org/3/library/csv.html) or [`pandas`](https://pandas.pydata.org/docs/user_guide/10min.html) to open and work on the data. Note that `csv` is simple and easy to use, but offers little data handling support, while `pandas` is more complex but also more powerful.\n",
    "Once you loaded the data from the file, inspect the data. You will find, that each row represents an audio clip, and there are columns for each annotated tag, as well as for the path to the audio file `mp3_path` and some unique ID `clip_id`.\n",
    "Extract all tags, gather a set of unique tags, and count how often each tag is used.\n",
    "Then only keep the 50 most frequent tags `most_freq_tags`.\n",
    "\n",
    "The returned list of tags represents our classes, and indices in this list represent the unique ID for the corresponding class - so after the definition of the `class_names` list, do not change the order of this list later in the notebook, and reference classes / class labels as indices of this list / names in this list.\n",
    "\n",
    "**Implement the function below to build the list of class names and training targets.**"
   ]
  },
  {
   "cell_type": "code",
   "execution_count": 11,
   "metadata": {
    "deletable": false,
    "editable": false,
    "nbgrader": {
     "cell_type": "code",
     "checksum": "f6c4529ae089cf9d50fc56433aa45669",
     "grade": false,
     "grade_id": "cell-a23709d93d5428e7",
     "locked": true,
     "schema_version": 3,
     "solution": false,
     "task": false
    }
   },
   "outputs": [],
   "source": [
    "DEFAULT_NUM_CLASSES = 50"
   ]
  },
  {
   "cell_type": "code",
   "execution_count": 12,
   "metadata": {
    "deletable": false,
    "nbgrader": {
     "cell_type": "code",
     "checksum": "4ee8a90d4a89ad9ed72599a8596aef08",
     "grade": false,
     "grade_id": "cell-d54b144c084cd5aa",
     "locked": false,
     "schema_version": 3,
     "solution": true,
     "task": false
    },
    "revert": "def create_targets(num_classes = DEFAULT_NUM_CLASSES, annot_file=data_file_annotations):\n    # read annotations from data_file_annotations\n    # extract 50 most frequent tags\n    most_freq_tags = []  #TODO: fill with most frequent tags\n    class_names = most_freq_tags\n\n    # buld targets for the neural network training:\n    # creat an array with binary on/off values for each tag in most_freq_tags (target array); \n    # create these target arrays for each of the rows in the annotation file.\n    # each row in the annotation file references a audio file ('clip_id' / 'mp3_path').\n    # store an entry in the dictionary below using the audio name ('mp3_path' column without path and extension, \n    # as for the features list) as key and the target array as value\n    targ_dict = {}  #TODO: fill with targets\n\n    # YOUR CODE HERE\n    raise NotImplementedError()\n    return class_names, targ_dict"
   },
   "outputs": [],
   "source": [
    "import pandas as pd\n",
    "def create_targets(num_classes = DEFAULT_NUM_CLASSES, annot_file=data_file_annotations):\n",
    "    # read annotations from data_file_annotations\n",
    "    # extract 50 most frequent tags\n",
    "    most_freq_tags = []  #TODO: fill with most frequent tags\n",
    "    class_names = most_freq_tags\n",
    "\n",
    "    # buld targets for the neural network training:\n",
    "    # creat an array with binary on/off values for each tag in most_freq_tags (target array); \n",
    "    # create these target arrays for each of the rows in the annotation file.\n",
    "    # each row in the annotation file references a audio file ('clip_id' / 'mp3_path').\n",
    "    # store an entry in the dictionary below using the audio name ('mp3_path' column without path and extension, \n",
    "    # as for the features list) as key and the target array as value\n",
    "    targ_dict = {}  #TODO: fill with targets\n",
    "    df = pd.read_csv(annot_file, sep=\"\\t\")\n",
    "    tags_df = df.drop(columns=['clip_id', 'mp3_path'])\n",
    "    tag_freq = tags_df.sum().sort_values(ascending=False)\n",
    "\n",
    "    most_freq_tags = tag_freq.nlargest(num_classes).index.tolist()\n",
    "    class_names = most_freq_tags\n",
    "    for _, row in df.iterrows():\n",
    "        # Create a binary target array for the most frequent tags\n",
    "        targets = [1 if row[tag] > 0 else 0 for tag in most_freq_tags]\n",
    "        # Extract filename without path and extension\n",
    "        mp3_path = row['mp3_path']\n",
    "        file_name = os.path.splitext(os.path.basename(mp3_path))[0]\n",
    "        \n",
    "        # Store the target array in dictionary with the filename as key\n",
    "        targ_dict[file_name] = np.array(targets)\n",
    "\n",
    "    return class_names, targ_dict"
   ]
  },
  {
   "cell_type": "code",
   "execution_count": 13,
   "metadata": {
    "deletable": false,
    "editable": false,
    "nbgrader": {
     "cell_type": "code",
     "checksum": "9bcd95fcaa74216abd23a1e6fb94a947",
     "grade": false,
     "grade_id": "cell-d5001e3dd4f0382c",
     "locked": true,
     "schema_version": 3,
     "solution": false,
     "task": false
    }
   },
   "outputs": [
    {
     "name": "stdout",
     "output_type": "stream",
     "text": [
      "most frequent tags: ['guitar', 'classical', 'slow', 'techno', 'strings', 'drums', 'electronic', 'rock', 'fast', 'piano', 'ambient', 'beat', 'violin', 'vocal', 'synth', 'female', 'indian', 'opera', 'male', 'singing', 'vocals', 'no vocals', 'harpsichord', 'loud', 'quiet', 'flute', 'woman', 'male vocal', 'no vocal', 'pop', 'soft', 'sitar', 'solo', 'man', 'classic', 'choir', 'voice', 'new age', 'dance', 'female vocal', 'male voice', 'beats', 'harp', 'cello', 'no voice', 'weird', 'country', 'female voice', 'metal', 'choral']\n"
     ]
    }
   ],
   "source": [
    "class_names, targ_dict = create_targets()\n",
    "\n",
    "print(f'most frequent tags: {class_names}')"
   ]
  },
  {
   "cell_type": "code",
   "execution_count": 14,
   "metadata": {
    "deletable": false,
    "editable": false,
    "nbgrader": {
     "cell_type": "code",
     "checksum": "fa7d571b9550f5bc86e7ae77ee3ed2da",
     "grade": true,
     "grade_id": "cell-5a8f67659428c345",
     "locked": true,
     "points": 5,
     "schema_version": 3,
     "solution": false,
     "task": false
    }
   },
   "outputs": [
    {
     "name": "stdout",
     "output_type": "stream",
     "text": [
      "Public tests successful!\n",
      "score = 2.0\n"
     ]
    },
    {
     "data": {
      "text/plain": [
       "2.0"
      ]
     },
     "execution_count": 14,
     "metadata": {},
     "output_type": "execute_result"
    }
   ],
   "source": [
    "# tests # DO NOT COPY OR MODIFY THIS CELL!!\n",
    "\n",
    "assert len(class_names) == DEFAULT_NUM_CLASSES\n",
    "\n",
    "assert len(targ_dict.keys()) >= audio_file_total_count\n",
    "\n",
    "assert next(iter(targ_dict.values())).shape == (DEFAULT_NUM_CLASSES, ), f\"invalid shape for targets, expected ({DEFAULT_NUM_CLASSES}, )\"\n",
    "print('Public tests successful!')\n",
    "score = 2.0\n",
    "print(f\"score = {score}\")\n",
    "score"
   ]
  },
  {
   "cell_type": "markdown",
   "metadata": {
    "deletable": false,
    "editable": false,
    "nbgrader": {
     "cell_type": "markdown",
     "checksum": "ac0f60adc29b092185de90367439b975",
     "grade": false,
     "grade_id": "cell-57187004bb828831",
     "locked": true,
     "schema_version": 3,
     "solution": false,
     "task": false
    }
   },
   "source": [
    "### Task 1.3 Generating Dataset Splits\n",
    "Divide the data into training, validation, and test splits. For validation use approximately 5% and for testing hold out approximately 15% of the total data.\n",
    "Consider that there maybe be multiple clips of the same track. Different clips of the same track must be in the same split (all in either train, valid, or test), to counteract overfitting.\n",
    "\n",
    "To identify the individual tracks and clips of the same track, we need to look into the file `'clip_info_final.csv'`. The path to this file is stored in `data_file_clip_info`.\n",
    "\n",
    "You can identify individual tracks by their `original_url` column, however, for some files the `original_url` is not provided. So to be save, use a combination of the following columns to identify unique entries: `[\"track_number\", \"title\", \"artist\", \"album\", \"url\", \"original_url\"]`.\n",
    "Note that individual tracks will have a varying count of clips.\n",
    "\n",
    "The easiest way to divide the data into train, valid, and test split, is to divide the tracks (unique rows from above) into the splits, and assume that the number of clips will average out over all tracks, so that in the end we get approximately the desired split sizes (the exact number is not so important). You are free to accomplish this in any other way if you prefer.\n"
   ]
  },
  {
   "cell_type": "code",
   "execution_count": 15,
   "metadata": {
    "deletable": false,
    "editable": false,
    "nbgrader": {
     "cell_type": "code",
     "checksum": "075566dd384b5fe99678556a3ed5dbc7",
     "grade": false,
     "grade_id": "cell-0008272fc2e0c668",
     "locked": true,
     "schema_version": 3,
     "solution": false,
     "task": false
    }
   },
   "outputs": [],
   "source": [
    "DEFAULT_TEST_PERC = 0.15\n",
    "DEFAULT_VALID_PERC = 0.05"
   ]
  },
  {
   "cell_type": "code",
   "execution_count": 16,
   "metadata": {
    "deletable": false,
    "nbgrader": {
     "cell_type": "code",
     "checksum": "b25255d4301fbe1ddb6cbd86374b887e",
     "grade": false,
     "grade_id": "cell-8f12e075aaf308ec",
     "locked": false,
     "schema_version": 3,
     "solution": true,
     "task": false
    },
    "revert": "# to split features, targets, and names into train, valid, and test split, it is easiest to just \n# generate indices to our overall feature/name/target lists.\n# the indices should be randomly drawn, but also put samples of the same original track in the same split.\n# feel free to change this cell, if you choose to define your splits in another way.\n\ndef get_split_indices(file_names_list, clip_info_file, \n                      test_perc=DEFAULT_TEST_PERC, valid_perc=DEFAULT_VALID_PERC):\n    train_perc = 1-test_perc-valid_perc\n    \n    # YOUR CODE HERE\n    raise NotImplementedError()\n    return test_indcs, valid_indcs, train_indcs"
   },
   "outputs": [],
   "source": [
    "# to split features, targets, and names into train, valid, and test split, it is easiest to just \n",
    "# generate indices to our overall feature/name/target lists.\n",
    "# the indices should be randomly drawn, but also put samples of the same original track in the same split.\n",
    "# feel free to change this cell, if you choose to define your splits in another way.\n",
    "def modify_string(s):\n",
    "    if isinstance(s, str):\n",
    "        # Find the first occurrence of '/'\n",
    "        slash_index = s.find('/')\n",
    "        if slash_index != -1:\n",
    "            # Extract substring from the first '/' to the end, and then remove '.mp3'\n",
    "            return s[slash_index + 1:].replace('.mp3', '')\n",
    "        else:\n",
    "            # If '/' is not found, just remove '.mp3'\n",
    "            return s.replace('.mp3', '')\n",
    "    else:\n",
    "        # Return the original value if it's not a string\n",
    "        return s\n",
    "\n",
    "\n",
    "def get_split_indices(file_names_list, clip_info_file, \n",
    "                      test_perc=DEFAULT_TEST_PERC, valid_perc=DEFAULT_VALID_PERC):\n",
    "    train_perc = 1-test_perc-valid_perc\n",
    "    \n",
    "    # YOUR CODE HERE\n",
    "    clip_info = pd.read_csv(clip_info_file, sep=\"\\t\")\n",
    "    clip_info['string_column'] = clip_info['mp3_path'].apply(modify_string)\n",
    "    clip_info_filtered = clip_info[clip_info['string_column'].isin(list(file_names))]\n",
    "\n",
    "    # Create a mapping of file names to their indices in file_names_list\n",
    "    file_name_to_index = {name: index for index, name in enumerate(file_names_list)}\n",
    "    mapped_indices = clip_info_filtered['string_column'].map(file_name_to_index).dropna()\n",
    "    \n",
    "    # Shuffle and split the indices\n",
    "    shuffled_indices = mapped_indices.sample(frac=1, random_state=42).tolist()\n",
    "    num_test = int(len(shuffled_indices) * test_perc)\n",
    "    num_valid = int(len(shuffled_indices) * valid_perc)\n",
    "\n",
    "    test_indices = shuffled_indices[:num_test]\n",
    "    valid_indices = shuffled_indices[num_test:num_test + num_valid]\n",
    "    train_indices = shuffled_indices[num_test + num_valid:]\n",
    "\n",
    "    return test_indices, valid_indices, train_indices"
   ]
  },
  {
   "cell_type": "code",
   "execution_count": 17,
   "metadata": {
    "revert": "# feel free to change this, if you define your splits other than by indices...\n\ntest_indcs, valid_indcs, train_indcs = get_split_indices(list(file_names), data_file_clip_info)\n\ntest_feats = features[test_indcs]\nvalid_feats = features[valid_indcs]\ntrain_feats = features[train_indcs]\n\ntest_names = file_names[test_indcs]\nvalid_names = file_names[valid_indcs]\ntrain_names = file_names[train_indcs]\n\ntrain_targs = np.asarray([targ_dict[cur_name] for cur_name in train_names])\nvalid_targs = np.asarray([targ_dict[cur_name] for cur_name in valid_names])\ntest_targs = np.asarray([targ_dict[cur_name] for cur_name in test_names])"
   },
   "outputs": [],
   "source": [
    "# feel free to change this, if you define your splits other than by indices...\n",
    "\n",
    "test_indcs, valid_indcs, train_indcs = get_split_indices(list(file_names), data_file_clip_info)\n",
    "\n",
    "test_feats = features[test_indcs]\n",
    "valid_feats = features[valid_indcs]\n",
    "train_feats = features[train_indcs]\n",
    "\n",
    "test_names = file_names[test_indcs]\n",
    "valid_names = file_names[valid_indcs]\n",
    "train_names = file_names[train_indcs]\n",
    "\n",
    "train_targs = np.asarray([targ_dict[cur_name] for cur_name in train_names])\n",
    "valid_targs = np.asarray([targ_dict[cur_name] for cur_name in valid_names])\n",
    "test_targs = np.asarray([targ_dict[cur_name] for cur_name in test_names])"
   ]
  },
  {
   "cell_type": "code",
   "execution_count": 18,
   "metadata": {
    "deletable": false,
    "editable": false,
    "nbgrader": {
     "cell_type": "code",
     "checksum": "9c38c57aa27132e26a61315552a660a5",
     "grade": true,
     "grade_id": "cell-2323f169a8decf8a",
     "locked": true,
     "points": 3,
     "schema_version": 3,
     "solution": false,
     "task": false
    }
   },
   "outputs": [
    {
     "name": "stdout",
     "output_type": "stream",
     "text": [
      "All tests successful!\n"
     ]
    }
   ],
   "source": [
    "# tests # DO NOT COPY OR MODIFY THIS CELL!!\n",
    "\n",
    "tmp_test_perc=DEFAULT_TEST_PERC\n",
    "tmp_valid_perc=DEFAULT_VALID_PERC\n",
    "tmp_train_perc = 1-tmp_test_perc-tmp_valid_perc\n",
    "\n",
    "# we assume for spliting by tracks, that the split sizes should be within +-20%\n",
    "assert int(data_size*tmp_train_perc*0.8) <= len(train_indcs) \\\n",
    "                        <= int(data_size*tmp_train_perc*1.2)\n",
    "assert int(data_size*tmp_valid_perc*0.8) <= len(valid_indcs) \\\n",
    "                        <= int(data_size*tmp_valid_perc*1.2)\n",
    "assert int(data_size*tmp_test_perc*0.8) <= len(test_indcs) \\\n",
    "                        <= int(data_size*tmp_test_perc*1.2)\n",
    "\n",
    "print('All tests successful!')"
   ]
  },
  {
   "cell_type": "markdown",
   "metadata": {
    "deletable": false,
    "editable": false,
    "nbgrader": {
     "cell_type": "markdown",
     "checksum": "8eefdc21c9c7ae563f10e7d1e19d9c97",
     "grade": false,
     "grade_id": "cell-b6b5773d5570419c",
     "locked": true,
     "schema_version": 3,
     "solution": false,
     "task": false
    }
   },
   "source": [
    "### 1.4 Dataset Class \n",
    "\n",
    "**Implement a torch dataset** as we did for assignment 5. In this case the dataset is quite simple, since we will return one file as one training example.\n",
    "The total count, therefore, is the length of the feature list, and the `getitem` method should just return the feature/target combination at the provided index.\n",
    "Remember to convert the return values for `getitem` to torch tensors."
   ]
  },
  {
   "cell_type": "code",
   "execution_count": 19,
   "metadata": {},
   "outputs": [
    {
     "data": {
      "text/plain": [
       "(2, 96, 1366)"
      ]
     },
     "execution_count": 19,
     "metadata": {},
     "output_type": "execute_result"
    }
   ],
   "source": [
    "train_feats[:2].shape"
   ]
  },
  {
   "cell_type": "code",
   "execution_count": 20,
   "metadata": {},
   "outputs": [
    {
     "data": {
      "text/plain": [
       "(2, 50)"
      ]
     },
     "execution_count": 20,
     "metadata": {},
     "output_type": "execute_result"
    }
   ],
   "source": [
    "train_targs[:2].shape"
   ]
  },
  {
   "cell_type": "code",
   "execution_count": 21,
   "metadata": {
    "revert": "import torch\nfrom torch.utils.data import Dataset\n\nif not COLAB:\n    torch.set_num_threads(16)  # we have to set the number of threads < 64, this is a workaround"
   },
   "outputs": [],
   "source": [
    "import torch\n",
    "from torch.utils.data import Dataset\n",
    "\n",
    "if not COLAB:\n",
    "    torch.set_num_threads(16)  # we have to set the number of threads < 64, this is a workaround"
   ]
  },
  {
   "cell_type": "code",
   "execution_count": 22,
   "metadata": {
    "deletable": false,
    "nbgrader": {
     "cell_type": "code",
     "checksum": "f3cb937bbd0c949422876fae88d4bc96",
     "grade": false,
     "grade_id": "cell-0205946a361e6895",
     "locked": false,
     "schema_version": 3,
     "solution": true,
     "task": false
    },
    "revert": "class MagnaSet(Dataset):\n    def __init__(self, features, targets):\n        super(MagnaSet, self).__init__()\n        # YOUR CODE HERE\n        raise NotImplementedError()\n\n    def __len__(self):\n        # YOUR CODE HERE\n        raise NotImplementedError()\n\n    def __getitem__(self, idx):\n        # YOUR CODE HERE\n        raise NotImplementedError()"
   },
   "outputs": [],
   "source": [
    "class MagnaSet(Dataset):\n",
    "    def __init__(self, features, targets):\n",
    "        super(MagnaSet, self).__init__()\n",
    "        # YOUR CODE HERE\n",
    "        self.features = torch.Tensor(features)\n",
    "        self.targets = torch.Tensor(targets)\n",
    "\n",
    "    def __len__(self):\n",
    "        # YOUR CODE HERE\n",
    "        return len(self.features)\n",
    "\n",
    "    def __getitem__(self, idx):\n",
    "        # YOUR CODE HERE\n",
    "        feature = self.features[idx]\n",
    "        target = self.targets[idx]\n",
    "        return feature, target"
   ]
  },
  {
   "cell_type": "code",
   "execution_count": 23,
   "metadata": {
    "deletable": false,
    "editable": false,
    "nbgrader": {
     "cell_type": "code",
     "checksum": "ff5c9a5a8e2c2da1139c85163a00fdee",
     "grade": true,
     "grade_id": "cell-3079327571d8fe84",
     "locked": true,
     "points": 5,
     "schema_version": 3,
     "solution": false,
     "task": false
    }
   },
   "outputs": [
    {
     "name": "stdout",
     "output_type": "stream",
     "text": [
      "All tests successful!\n"
     ]
    }
   ],
   "source": [
    "# tests # DO NOT COPY OR MODIFY THIS CELL!!\n",
    "tmp_num_samples = 100\n",
    "tmp_test_feats = np.asarray([np.random.rand(*exp_feat_shape) for _ in range(tmp_num_samples)])\n",
    "tmp_test_targs = np.asarray([np.random.rand(DEFAULT_NUM_CLASSES) for _ in range(tmp_num_samples)])\n",
    "\n",
    "tmp_test_dataset = MagnaSet(tmp_test_feats, tmp_test_targs)\n",
    "\n",
    "assert len(tmp_test_dataset) == tmp_num_samples, \"dataset returns wrong length\"\n",
    "\n",
    "tmp_ex_feat, tmp_ex_targ = tmp_test_dataset[10]\n",
    "assert tmp_ex_feat.shape == exp_feat_shape\n",
    "assert tmp_ex_targ.shape == (DEFAULT_NUM_CLASSES, )\n",
    "assert np.allclose(tmp_ex_feat, tmp_test_feats[10])\n",
    "tmp_ex_feat, tmp_ex_targ = tmp_test_dataset[0]\n",
    "assert tmp_ex_feat.shape == exp_feat_shape\n",
    "assert tmp_ex_targ.shape == (DEFAULT_NUM_CLASSES, )\n",
    "assert np.allclose(tmp_ex_feat, tmp_test_feats[0])\n",
    "tmp_ex_feat, tmp_ex_targ = tmp_test_dataset[tmp_num_samples-1]\n",
    "assert tmp_ex_feat.shape == exp_feat_shape\n",
    "assert tmp_ex_targ.shape == (DEFAULT_NUM_CLASSES, )\n",
    "assert np.allclose(tmp_ex_feat, tmp_test_feats[tmp_num_samples-1])\n",
    "\n",
    "try:\n",
    "    tmp_ex_feat, tmp_ex_targ = tmp_test_dataset[tmp_num_samples]\n",
    "    assert False, \"this should produce an out of index error!\"\n",
    "except:\n",
    "    assert True\n",
    "\n",
    "print('All tests successful!')"
   ]
  },
  {
   "cell_type": "markdown",
   "metadata": {
    "deletable": false,
    "editable": false,
    "nbgrader": {
     "cell_type": "markdown",
     "checksum": "22dba9f579626736df8d6d9ec1149fd0",
     "grade": false,
     "grade_id": "cell-b486d15cd814f352",
     "locked": true,
     "schema_version": 3,
     "solution": false,
     "task": false
    }
   },
   "source": [
    "## Task 2: Neural Network Implementaion (5 Points)\n",
    "\n",
    "Implement the neural network architecture outlined by Choi et al. \\[2016\\]. The model usees the Mel-spectrograms as inputs and produces a 50-value vector as output (representing the probabilities for labels). Since multiple labels can apply, sigmoid outputs should be used. \n",
    "\n",
    "Note that the FCN-4 architecture described in the paper lacks implementation details and is revisited in the github repository to the paper. So, instead follow the MusicTaggerCNN [KERAS reference implementation](https://github.com/keunwoochoi/music-auto_tagging-keras/blob/master/music_tagger_cnn.py) by the same authors to reproduce the architecture using pyTorch.\n",
    "\n",
    "The architecture consists of 5 CNN layers (with 3x3 kernels all; and 64, 128, 128, 128, 64 channels respectively), and a fully connected output layer with 50 nodes. Use batch-normalization and max-pooling (with 2x4, 2x4, 2x4, 3x5, 4x4 kernels) after each convolutional layer, and as activation functions use ELU (`torch_func.elu`).\n",
    "\n",
    "**Implement the pytorch network below.** Make sure to use the debug flag to log the shape after each layer (as we did in assignment 5), in order to be able to check the architecture!"
   ]
  },
  {
   "cell_type": "code",
   "execution_count": 24,
   "metadata": {
    "deletable": false,
    "nbgrader": {
     "cell_type": "code",
     "checksum": "ff57107b159b0b87a3cf300dc311c7bd",
     "grade": false,
     "grade_id": "cell-3adfd44ac136d1cc",
     "locked": false,
     "schema_version": 3,
     "solution": true,
     "task": false
    },
    "revert": "import torch.nn as nn\nimport torch.nn.functional as torch_func\n\nclass MusicTaggerCNN(nn.Module):\n    def __init__(self, debug=False, num_classes=DEFAULT_NUM_CLASSES):\n        super(MusicTaggerCNN, self).__init__()\n        self.debug = debug # use the debug flag again to produce shape outputs in the forward function.\n        \n        #initialize modules for neural network\n        # YOUR CODE HERE\n        raise NotImplementedError()\n\n    def forward(self, x):\n        x = x.unsqueeze(1)\n        # YOUR CODE HERE\n        raise NotImplementedError()\n        return y"
   },
   "outputs": [],
   "source": [
    "import torch.nn as nn\n",
    "import torch.nn.functional as torch_func\n",
    "import torch.nn.functional as F\n",
    "\n",
    "class MusicTaggerCNN(nn.Module):\n",
    "    def __init__(self, debug=False, num_classes=DEFAULT_NUM_CLASSES):\n",
    "        super(MusicTaggerCNN, self).__init__()\n",
    "        self.debug = debug # use the debug flag again to produce shape outputs in the forward function.\n",
    "        \n",
    "        #initialize modules for neural network\n",
    "        # YOUR CODE HERE\n",
    "        self.conv1 = nn.Conv2d(1, 64, kernel_size=(3, 3), padding=(1, 1))\n",
    "        self.bn1 = nn.BatchNorm2d(64)\n",
    "\n",
    "        self.conv2 = nn.Conv2d(64, 128, kernel_size=(3, 3), padding=(1, 1))\n",
    "        self.bn2 = nn.BatchNorm2d(128)\n",
    "\n",
    "        self.conv3 = nn.Conv2d(128, 128, kernel_size=(3, 3), padding=(1, 1))\n",
    "        self.bn3 = nn.BatchNorm2d(128)\n",
    "\n",
    "        self.conv4 = nn.Conv2d(128, 128, kernel_size=(3, 3), padding=(1, 1))\n",
    "        self.bn4 = nn.BatchNorm2d(128)\n",
    "\n",
    "        self.conv5 = nn.Conv2d(128, 64, kernel_size=(3, 3), padding=(1, 1))\n",
    "        self.bn5 = nn.BatchNorm2d(64)\n",
    "\n",
    "        self.fc = nn.Linear(64, num_classes)\n",
    "\n",
    "    def forward(self, x):\n",
    "        x = x.unsqueeze(1)\n",
    "        # YOUR CODE HERE\n",
    "        if self.debug:\n",
    "            print(\"Input shape:\", x.shape)\n",
    "\n",
    "        x = torch_func.elu(self.bn1(self.conv1(x)))\n",
    "        x = torch_func.max_pool2d(x, kernel_size=(2, 4))\n",
    "        if self.debug:\n",
    "            print(\"After Conv1 shape:\", x.shape)\n",
    "        \n",
    "        x = torch_func.elu(self.bn2(self.conv2(x)))\n",
    "        x = torch_func.max_pool2d(x, kernel_size=(2, 4))\n",
    "        if self.debug:\n",
    "            print(\"After Conv2 shape:\", x.shape)\n",
    "        \n",
    "        x = torch_func.elu(self.bn3(self.conv3(x)))\n",
    "        x = torch_func.max_pool2d(x, kernel_size=(2, 4))\n",
    "        if self.debug:\n",
    "            print(\"After Conv3 shape:\", x.shape)\n",
    "        \n",
    "        x = torch_func.elu(self.bn4(self.conv4(x)))\n",
    "        x = torch_func.max_pool2d(x, (3, 5))\n",
    "        if self.debug:\n",
    "            print(\"After Conv4 shape:\", x.shape)\n",
    "\n",
    "        x = torch_func.elu(self.bn5(self.conv5(x)))\n",
    "        x = torch_func.max_pool2d(x, (4, 4))\n",
    "        if self.debug:\n",
    "            print(\"After Conv5 shape:\", x.shape)\n",
    "\n",
    "        x = torch.flatten(x, 1)\n",
    "        y = torch.sigmoid(self.fc(x))\n",
    "        \n",
    "        if self.debug:\n",
    "            print(\"Output shape:\", x.shape)\n",
    "\n",
    "        return y"
   ]
  },
  {
   "cell_type": "code",
   "execution_count": 25,
   "metadata": {
    "deletable": false,
    "editable": false,
    "nbgrader": {
     "cell_type": "code",
     "checksum": "b9347d122fe27e193f4337dac27f5f53",
     "grade": true,
     "grade_id": "cell-827a55ef5cfbd4bb",
     "locked": true,
     "points": 5,
     "schema_version": 3,
     "solution": false,
     "task": false
    }
   },
   "outputs": [
    {
     "name": "stdout",
     "output_type": "stream",
     "text": [
      "Input shape: torch.Size([1, 1, 96, 1366])\n",
      "After Conv1 shape: torch.Size([1, 64, 48, 341])\n",
      "After Conv2 shape: torch.Size([1, 128, 24, 85])\n",
      "After Conv3 shape: torch.Size([1, 128, 12, 21])\n",
      "After Conv4 shape: torch.Size([1, 128, 4, 4])\n",
      "After Conv5 shape: torch.Size([1, 64, 1, 1])\n",
      "Output shape: torch.Size([1, 64])\n",
      "Input shape: torch.Size([20, 1, 96, 1366])\n",
      "After Conv1 shape: torch.Size([20, 64, 48, 341])\n",
      "After Conv2 shape: torch.Size([20, 128, 24, 85])\n",
      "After Conv3 shape: torch.Size([20, 128, 12, 21])\n",
      "After Conv4 shape: torch.Size([20, 128, 4, 4])\n",
      "After Conv5 shape: torch.Size([20, 64, 1, 1])\n",
      "Output shape: torch.Size([20, 64])\n",
      "Found modules:\n",
      "1:\tConv2d(1, 64, kernel_size=(3, 3), stride=(1, 1), padding=(1, 1))\n",
      "2:\tBatchNorm2d(64, eps=1e-05, momentum=0.1, affine=True, track_running_stats=True)\n",
      "3:\tConv2d(64, 128, kernel_size=(3, 3), stride=(1, 1), padding=(1, 1))\n",
      "4:\tBatchNorm2d(128, eps=1e-05, momentum=0.1, affine=True, track_running_stats=True)\n",
      "5:\tConv2d(128, 128, kernel_size=(3, 3), stride=(1, 1), padding=(1, 1))\n",
      "6:\tBatchNorm2d(128, eps=1e-05, momentum=0.1, affine=True, track_running_stats=True)\n",
      "7:\tConv2d(128, 128, kernel_size=(3, 3), stride=(1, 1), padding=(1, 1))\n",
      "8:\tBatchNorm2d(128, eps=1e-05, momentum=0.1, affine=True, track_running_stats=True)\n",
      "9:\tConv2d(128, 64, kernel_size=(3, 3), stride=(1, 1), padding=(1, 1))\n",
      "10:\tBatchNorm2d(64, eps=1e-05, momentum=0.1, affine=True, track_running_stats=True)\n",
      "11:\tLinear(in_features=64, out_features=50, bias=True)\n",
      "-----------\n",
      "All tests successful!\n"
     ]
    }
   ],
   "source": [
    "# tests # DO NOT COPY OR MODIFY THIS CELL!!\n",
    "net = MusicTaggerCNN(debug=True)\n",
    "\n",
    "batches = 1\n",
    "output = net.forward(torch.rand(batches, *exp_feat_shape))\n",
    "assert output.shape == (batches, DEFAULT_NUM_CLASSES)\n",
    "batches = 20\n",
    "output = net.forward(torch.rand(batches, *exp_feat_shape))\n",
    "assert output.shape == (batches, DEFAULT_NUM_CLASSES)\n",
    "\n",
    "module_list = net.__dict__['_modules'].values()\n",
    "\n",
    "num_modules = len(module_list)\n",
    "assert num_modules == 11, \"expected 11 modules!\"\n",
    "\n",
    "num_conv2d = 0\n",
    "num_bn2d = 0\n",
    "num_lin = 0\n",
    "# count modules...\n",
    "print(\"Found modules:\")\n",
    "for idx, module in enumerate(module_list):\n",
    "    print(\"{}:\\t{}\".format(idx+1, module))\n",
    "    if isinstance(module, nn.Conv2d):\n",
    "        num_conv2d += 1\n",
    "    if isinstance(module, nn.BatchNorm2d):\n",
    "        num_bn2d += 1\n",
    "    if isinstance(module, nn.Linear):\n",
    "        num_lin += 1\n",
    "print('-----------')\n",
    "\n",
    "assert num_conv2d == 5, \"expected 5 2D convolutional layers!\"\n",
    "assert num_bn2d == 5, \"expected 5 2D batchnorm layers!\"\n",
    "assert num_lin == 1, \"expected 1 dense layers!\"\n",
    "\n",
    "print('All tests successful!')"
   ]
  },
  {
   "cell_type": "markdown",
   "metadata": {
    "deletable": false,
    "editable": false,
    "nbgrader": {
     "cell_type": "markdown",
     "checksum": "4445134c3eabb1a0cc3832fe215f5394",
     "grade": false,
     "grade_id": "cell-7ed9fd4763443ab9",
     "locked": true,
     "schema_version": 3,
     "solution": false,
     "task": false
    }
   },
   "source": [
    "## Task 3: Network Training (10 Points)\n",
    "\n",
    "Train the network using ADAM optimization and binary cross-entropy as loss function.\n",
    "Whenever applicable, you can reuse code you built for assignment 5, if you want.\n",
    "\n",
    "### 3.1 Functions for Training, Testing, and Inference\n",
    "\n",
    "Very similar to assignment 5, **implement the soubroutines below** to make the main training function more readable:"
   ]
  },
  {
   "cell_type": "code",
   "execution_count": 26,
   "metadata": {
    "deletable": false,
    "nbgrader": {
     "cell_type": "code",
     "checksum": "56fb285c80c4d3841558c85afb8b6718",
     "grade": false,
     "grade_id": "cell-270c85061ac5fdbe",
     "locked": false,
     "schema_version": 3,
     "solution": true,
     "task": false
    },
    "revert": "# helper functions for training - you can copy and modify from the last assignment\n\nfrom time import time as get_time\n\n\ndef train_epoch_cnn(model, train_loader, optimizer, args):\n    # performs one epoch of training\n    # YOUR CODE HERE\n    raise NotImplementedError()\n\n\ndef test_cnn(model, test_loader, args):\n    # runs inference over the test dataset and calculates overall loss (for validation and testing)\n    # YOUR CODE HERE\n    raise NotImplementedError()\n    return test_loss\n\n\ndef inference_cnn(model, data, args):\n    # runs inference over a single instance (for actual use of the model on real data)\n    # YOUR CODE HERE\n    raise NotImplementedError()\n    return output"
   },
   "outputs": [],
   "source": [
    "# helper functions for training - you can copy and modify from the last assignment\n",
    "\n",
    "from time import time as get_time\n",
    "\n",
    "def train_epoch_cnn(model, train_loader, optimizer, args):\n",
    "    # performs one epoch of training\n",
    "    # YOUR CODE HERE\n",
    "    model.train()  # Set model to training mode\n",
    "    start_time = get_time()\n",
    "    total_loss = 0.0\n",
    "    for batch_idx, (data, target) in enumerate(train_loader):\n",
    "        data, target = data.to(args.device), target.to(args.device)\n",
    "        optimizer.zero_grad()\n",
    "        output = model(data)\n",
    "        # loss = torch_func.binary_cross_entropy_with_logits(output, target.float())\n",
    "        loss = torch_func.binary_cross_entropy(output, target.float())\n",
    "        loss.backward()\n",
    "        optimizer.step()\n",
    "        total_loss += loss.item()\n",
    "\n",
    "        cur_time = get_time()\n",
    "        if cur_time - start_time > args.log_interval or batch_idx == len(train_loader)-1:\n",
    "            print('[{}/{} ({:.0f}%)]\\tloss: {:.6f}, took {:.2f}s'.format(\n",
    "                   batch_idx * len(data), len(train_loader.dataset),\n",
    "                   100. * batch_idx / len(train_loader), loss.item(), cur_time - start_time))\n",
    "            start_time = cur_time\n",
    "            \n",
    "    return total_loss / len(train_loader)\n",
    "\n",
    "\n",
    "def test_cnn(model, test_loader, args):\n",
    "    # runs inference over the test dataset and calculates overall loss (for validation and testing)\n",
    "    # YOUR CODE HERE\n",
    "    model.eval()\n",
    "    test_loss = 0.0\n",
    "    with torch.no_grad():\n",
    "        for data, target in test_loader:\n",
    "            data, target = data.to(args.device), target.to(args.device)\n",
    "            output = model(data)\n",
    "            # test_loss += torch_func.binary_cross_entropy_with_logits(output, target.float(), reduction='sum').item()\n",
    "            test_loss += torch_func.binary_cross_entropy(output, target.float(), reduction='sum').item()\n",
    "\n",
    "    test_loss /= len(test_loader.dataset)\n",
    "    print(f\"test loss:, {test_loss:.4f}\")\n",
    "    return test_loss\n",
    "\n",
    "\n",
    "def inference_cnn(model, data, args):\n",
    "    # runs inference over a single instance (for actual use of the model on real data)\n",
    "    # YOUR CODE HERE\n",
    "    model.eval() \n",
    "    in_shape = data.shape\n",
    "    data = torch.from_numpy(data[None, :, :]).to(args.device)\n",
    "    with torch.no_grad():\n",
    "        output = model(data)[0, :].cpu()\n",
    "    return output"
   ]
  },
  {
   "cell_type": "markdown",
   "metadata": {
    "deletable": false,
    "editable": false,
    "nbgrader": {
     "cell_type": "markdown",
     "checksum": "1928d2dca9902ea7e843a2d97f1b932a",
     "grade": false,
     "grade_id": "cell-68a60280cc4bceff",
     "locked": true,
     "schema_version": 3,
     "solution": false,
     "task": false
    }
   },
   "source": [
    "### 3.2 Hyperparameters\n",
    "\n",
    "In this assignment a set of hyperparameters is provided. These should work more or less, so there is no need to invest time for an usable first results. \n",
    "If you feel like it, you can play around with them once you have a running model."
   ]
  },
  {
   "cell_type": "code",
   "execution_count": 27,
   "metadata": {
    "revert": "# training hyper parameters: go with these defaults at first\n\nCNN_MODEL_NAME = 'cnn_tagger_'\n\n# Helper class for neural network hyper-parameters\n# Do not change them until you have a working model\nclass Args:\n    pass\n\nDEFAULT_ARGS = Args()\n# general params\nDEFAULT_ARGS.use_cuda = True\nDEFAULT_ARGS.seed = 1\n\n# architecture setup\nDEFAULT_ARGS.batch_size = 48\nDEFAULT_ARGS.out_num = DEFAULT_NUM_CLASSES\n\n# optimizer parameters\nDEFAULT_ARGS.lr = 0.1\n\n# training protocoll\nDEFAULT_ARGS.max_epochs = 1000\nDEFAULT_ARGS.patience = 3\nDEFAULT_ARGS.refinement = 2  # restart training after patience runs out with the best model, decrease lr by...\nDEFAULT_ARGS.lr_fac = 0.1    # ... the learning rate factor lr_fac: lr_new = lr_old*lr_fac\nDEFAULT_ARGS.log_interval = 10  # seconds"
   },
   "outputs": [],
   "source": [
    "# training hyper parameters: go with these defaults at first\n",
    "\n",
    "CNN_MODEL_NAME = 'cnn_tagger_'\n",
    "\n",
    "# Helper class for neural network hyper-parameters\n",
    "# Do not change them until you have a working model\n",
    "class Args:\n",
    "    pass\n",
    "\n",
    "DEFAULT_ARGS = Args()\n",
    "# general params\n",
    "DEFAULT_ARGS.use_cuda = True\n",
    "DEFAULT_ARGS.seed = 1\n",
    "\n",
    "# architecture setup\n",
    "DEFAULT_ARGS.batch_size = 48\n",
    "DEFAULT_ARGS.out_num = DEFAULT_NUM_CLASSES\n",
    "\n",
    "# optimizer parameters\n",
    "DEFAULT_ARGS.lr = 0.1\n",
    "\n",
    "# training protocoll\n",
    "DEFAULT_ARGS.max_epochs = 1000\n",
    "DEFAULT_ARGS.patience = 3\n",
    "DEFAULT_ARGS.refinement = 2  # restart training after patience runs out with the best model, decrease lr by...\n",
    "DEFAULT_ARGS.lr_fac = 0.1    # ... the learning rate factor lr_fac: lr_new = lr_old*lr_fac\n",
    "DEFAULT_ARGS.log_interval = 10  # seconds"
   ]
  },
  {
   "cell_type": "code",
   "execution_count": 28,
   "metadata": {},
   "outputs": [],
   "source": [
    "DEFAULT_ARGS.device = torch.device(\"cuda\" if DEFAULT_ARGS.use_cuda and torch.cuda.is_available() else \"cpu\")"
   ]
  },
  {
   "cell_type": "markdown",
   "metadata": {
    "deletable": false,
    "editable": false,
    "nbgrader": {
     "cell_type": "markdown",
     "checksum": "793efd27c45a154277fd927e6b8299d0",
     "grade": false,
     "grade_id": "cell-fccbc9a438ded054",
     "locked": true,
     "schema_version": 3,
     "solution": false,
     "task": false
    }
   },
   "source": [
    "### 3.3 Main Training Function\n",
    "\n",
    "In the next function, implement the main loop for training the `MusicTaggerCNN` network.\n",
    "For training, you should use an early stopping training protocoll with patience, like we did in assignment 5.\n",
    "You can mostly copy paste what you programmed there.\n",
    "However, this time also implement a learning rate schedule:\n",
    "After patience runs out, reload the best model and reduce the learning rate using the `lr_fac`: `lr_new = lr_old*lr_fac` and reset patience.\n",
    "This is done `arg.refinement` times (we call restarting the training with a reduced training rate a refinement run in this context).\n",
    "To update the learning rate of the optimizer you can use the following code snippet:\n",
    "\n",
    "```\n",
    "for param_group in optimizer.param_groups:\n",
    "        param_group['lr'] = lr\n",
    "```\n",
    "\n",
    "\n",
    "Write the network model to a file, whenever a better validation loss was achieved. If `load_model` is a filename, load the provided file, if it is set to true, load the last trained model (same behaviour as in assignment 5).\n",
    "As optimizer use `torch.optim.Adam`, the default parameters, except learning rate, should be fine.\n",
    "\n",
    "**Note: don't forget to reload the best model after training finishes!**\n",
    "\n",
    "**Implement the missing code parts** in the code cell below."
   ]
  },
  {
   "cell_type": "code",
   "execution_count": 29,
   "metadata": {},
   "outputs": [
    {
     "data": {
      "text/plain": [
       "((5173, 96, 1366), (5173, 50))"
      ]
     },
     "execution_count": 29,
     "metadata": {},
     "output_type": "execute_result"
    }
   ],
   "source": [
    "train_feats.shape, train_targs.shape"
   ]
  },
  {
   "cell_type": "code",
   "execution_count": 30,
   "metadata": {
    "deletable": false,
    "nbgrader": {
     "cell_type": "code",
     "checksum": "65cd56eda9b8629160c69cf433311a05",
     "grade": false,
     "grade_id": "cell-8937a00f2f650d8e",
     "locked": false,
     "schema_version": 3,
     "solution": true,
     "task": false
    },
    "revert": "# main training loop, start with your implementation from the last assignment and modify to accompany \n# the leraning rate scedule.\n\ndef train_cnn(smoke_test=False, load_model=False, args=DEFAULT_ARGS):\n    \"\"\"\n    Run CNN training using the datasets.\n    :param smoke_test: bool, run a quick pseudo training to check if everything works\n    :param load_model: bool or string, load the last trained model (if set to True), or the model in file (string)\n    :param args: hyperparameters for training\n    :return: trained model\n    \"\"\"\n    if smoke_test:  # set hyperparameters to run a quick pseudo training...\n        max_epochs = 2\n        use_train_feats = train_feats[:2]\n        use_valid_feats = valid_feats[:2]\n        use_test_feats = test_feats[:2]\n    else:\n        max_epochs = args.max_epochs\n        use_train_feats = train_feats\n        use_valid_feats = valid_feats\n        use_test_feats = test_feats\n    \n    # 1) setup pytorch\n    # 2) create model and optimizer, use Adam\n    # 3) setup datasets and loaders for training, evaluation and testing\n    # YOUR CODE HERE\n    raise NotImplementedError()\n    \n    # find model filename for last run, and next free filename for model\n    model_cnt = 0\n    new_model_file = os.path.join(CNN_MODEL_NAME + str(model_cnt) + '.model')\n    last_model_file = None\n    while os.path.exists(new_model_file):\n        model_cnt += 1\n        last_model_file = new_model_file\n        new_model_file = os.path.join(CNN_MODEL_NAME + str(model_cnt) + '.model')\n    if load_model is None or not load_model:  # let's train\n        # train model for max_epochs epochs, output loss after log_intervall seconds.\n        # for each epoch run once on validation set, \n        # write model to disk if validation loss decreased\n        # if validation loss increased, check for early stopping with patience and refinements\n        # after model is trained, perform a run on test set and output loss (don't forget to reload best model!)\n        \n        # YOUR CODE HERE\n        raise NotImplementedError()\n        \n    else:  # we should just load a model...\n        if not isinstance(load_model, str) or not os.path.exists(load_model):\n            load_model = last_model_file\n        if load_model is None or not os.path.exists(load_model):\n            print('Model file not found, unable to load...')\n        else:\n            model.load_state_dict(torch.load(load_model, map_location=args.device))\n            print(\"Model file loaded: {}\".format(load_model))\n    \n    return model\n"
   },
   "outputs": [],
   "source": [
    "# main training loop, start with your implementation from the last assignment and modify to accompany \n",
    "# the leraning rate scedule.\n",
    "import torch.optim as optim\n",
    "from torch.utils.data import DataLoader\n",
    "import time\n",
    "\n",
    "def train_cnn(smoke_test=False, load_model=False, args=DEFAULT_ARGS):\n",
    "    \"\"\"\n",
    "    Run CNN training using the datasets.\n",
    "    :param smoke_test: bool, run a quick pseudo training to check if everything works\n",
    "    :param load_model: bool or string, load the last trained model (if set to True), or the model in file (string)\n",
    "    :param args: hyperparameters for training\n",
    "    :return: trained model\n",
    "    \"\"\"\n",
    "    if smoke_test:  # set hyperparameters to run a quick pseudo training...\n",
    "        max_epochs = 2\n",
    "        use_train_feats = train_feats[:2]\n",
    "        use_valid_feats = valid_feats[:2]\n",
    "        use_test_feats = test_feats[:2]\n",
    "    else:\n",
    "        max_epochs = args.max_epochs\n",
    "        use_train_feats = train_feats\n",
    "        use_valid_feats = valid_feats\n",
    "        use_test_feats = test_feats\n",
    "    \n",
    "    # 1) setup pytorch\n",
    "    # 2) create model and optimizer, use Adam\n",
    "    # 3) setup datasets and loaders for training, evaluation and testing\n",
    "    # YOUR CODE HERE\n",
    "    device = torch.device(\"cuda\" if torch.cuda.is_available() else \"cpu\")\n",
    "    torch.manual_seed(args.seed)\n",
    "    model = MusicTaggerCNN(num_classes=args.out_num).to(device)\n",
    "    optimizer = torch.optim.Adam(model.parameters(), lr=args.lr)\n",
    "\n",
    "    train_dataset = MagnaSet(use_train_feats, train_targs)\n",
    "    valid_dataset = MagnaSet(use_valid_feats, valid_targs)\n",
    "    test_dataset = MagnaSet(use_test_feats, test_targs)\n",
    "\n",
    "    train_loader = DataLoader(train_dataset, batch_size=args.batch_size, shuffle=True)\n",
    "    valid_loader = DataLoader(valid_dataset, batch_size=args.batch_size, shuffle=False)\n",
    "    test_loader = DataLoader(test_dataset, batch_size=args.batch_size, shuffle=False)\n",
    "    \n",
    "    # find model filename for last run, and next free filename for model\n",
    "    model_cnt = 0\n",
    "    new_model_file = os.path.join(CNN_MODEL_NAME + str(model_cnt) + '.model')\n",
    "    last_model_file = None\n",
    "    while os.path.exists(new_model_file):\n",
    "        model_cnt += 1\n",
    "        last_model_file = new_model_file\n",
    "        new_model_file = os.path.join(CNN_MODEL_NAME + str(model_cnt) + '.model')\n",
    "    if load_model is None or not load_model:  # let's train\n",
    "        # train model for max_epochs epochs, output loss after log_intervall seconds.\n",
    "        # for each epoch run once on validation set, \n",
    "        # write model to disk if validation loss decreased\n",
    "        # if validation loss increased, check for early stopping with patience and refinements\n",
    "        # after model is trained, perform a run on test set and output loss (don't forget to reload best model!)\n",
    "        \n",
    "        # YOUR CODE HERE\n",
    "        best_valid_loss = float('inf')\n",
    "        patience_counter = 0\n",
    "        cur_patience = args.patience\n",
    "        cur_refinement = args.refinement\n",
    "        start_time = get_time()\n",
    "        \n",
    "        for epoch in range(1, max_epochs + 1):\n",
    "            start_epoch_time = get_time()\n",
    "            train_loss = train_epoch_cnn(model, train_loader, optimizer, args)\n",
    "            valid_loss = test_cnn(model, valid_loader, args)\n",
    "\n",
    "            if valid_loss < best_valid_loss:\n",
    "                torch.save(model.state_dict(), new_model_file)\n",
    "                best_valid_loss = valid_loss\n",
    "                cur_patience = args.patience\n",
    "\n",
    "            else:\n",
    "                patience_counter += 1\n",
    "                if patience_counter >= args.patience:\n",
    "                    patience_counter = 0\n",
    "                    for param_group in optimizer.param_groups:\n",
    "                        param_group['lr'] *= args.lr_fac\n",
    "\n",
    "                    if args.refinement > 0:\n",
    "                        model.load_state_dict(torch.load(last_model_file, map_location=args.device))\n",
    "                        args.refinement -= 1\n",
    "\n",
    "            if args.log_interval > 0 and epoch % args.log_interval == 0:\n",
    "                print(f\"Epoch {epoch}/{max_epochs} => \"\n",
    "                      f\"Train Loss: {train_loss:.4f}, \"\n",
    "                      f\"Validation Loss: {valid_loss:.4f}, \"\n",
    "                      f\"Epoch Time: {get_time() - start_epoch_time:.2f}s\")\n",
    "\n",
    "        # Test the model using the best model\n",
    "        model.load_state_dict(torch.load(new_model_file, map_location=args.device))\n",
    "        test_loss = test_cnn(model, test_loader, args)\n",
    "        print(f\"Final Test Loss: {test_loss:.4f}\")\n",
    "        print(f\"Total Time: {get_time() - start_time:.2f}s\")\n",
    "        \n",
    "    else:  # we should just load a model...\n",
    "        if not isinstance(load_model, str) or not os.path.exists(load_model):\n",
    "            load_model = last_model_file\n",
    "        if load_model is None or not os.path.exists(load_model):\n",
    "            print('Model file not found, unable to load...')\n",
    "        else:\n",
    "            model.load_state_dict(torch.load(load_model, map_location=args.device))\n",
    "            print(\"Model file loaded: {}\".format(load_model))\n",
    "    \n",
    "    return model\n"
   ]
  },
  {
   "cell_type": "markdown",
   "metadata": {
    "deletable": false,
    "editable": false,
    "nbgrader": {
     "cell_type": "markdown",
     "checksum": "e91f7e991b2434b44c4b8b91c99ab64a",
     "grade": false,
     "grade_id": "cell-117f002acba1864e",
     "locked": true,
     "schema_version": 3,
     "solution": false,
     "task": false
    }
   },
   "source": [
    "Run the smoke test first, to make sure everything is ok:"
   ]
  },
  {
   "cell_type": "code",
   "execution_count": 31,
   "metadata": {
    "deletable": false,
    "editable": false,
    "nbgrader": {
     "cell_type": "code",
     "checksum": "0778b6c7ba29c716272d41b2977db81c",
     "grade": true,
     "grade_id": "cell-dc3fc247439670b2",
     "locked": true,
     "points": 10,
     "schema_version": 3,
     "solution": false,
     "task": false
    }
   },
   "outputs": [
    {
     "name": "stdout",
     "output_type": "stream",
     "text": [
      "[0/2 (0%)]\tloss: 0.871097, took 0.28s\n",
      "test loss:, 400.0000\n",
      "[0/2 (0%)]\tloss: 0.114555, took 0.26s\n",
      "test loss:, 400.0000\n",
      "test loss:, 650.0000\n",
      "Final Test Loss: 650.0000\n",
      "Total Time: 0.84s\n",
      "All tests successful!\n"
     ]
    }
   ],
   "source": [
    "# tests\n",
    "\n",
    "model = train_cnn(smoke_test=True)  # just a quick run to check everything is working\n",
    "\n",
    "print('All tests successful!')"
   ]
  },
  {
   "cell_type": "markdown",
   "metadata": {
    "deletable": false,
    "editable": false,
    "nbgrader": {
     "cell_type": "markdown",
     "checksum": "1b46667a772475897924af66daccb36e",
     "grade": false,
     "grade_id": "cell-6455c9ed1bc34764",
     "locked": true,
     "schema_version": 3,
     "solution": false,
     "task": false
    }
   },
   "source": [
    "### 3.4 Train Run\n",
    "Now that everything works, run the training for real.\n",
    "Execute the next cells to start a network training. Be aware that on JupyterHub, **a full training run will take around 24h.**\n",
    "As mentioned in the beginning of the notebook, you are free to run the notebook on CUDA enabled infrastructure e.g. on google colab, on which the training will run much faster.\n",
    "\n",
    "**ATTENTION**: For the submitted version, we only want to load the already trained model, so you have to set the switch below (SUBMISSION) to `True`! Additionally, make sure no new training is started when executing the final version before submission!!"
   ]
  },
  {
   "cell_type": "code",
   "execution_count": 32,
   "metadata": {
    "revert": "SUBMISSION = False"
   },
   "outputs": [],
   "source": [
    "SUBMISSION = True"
   ]
  },
  {
   "cell_type": "code",
   "execution_count": 33,
   "metadata": {
    "deletable": false,
    "editable": false,
    "nbgrader": {
     "cell_type": "code",
     "checksum": "260fd6488dfc7b41d1e6ead35a7d231e",
     "grade": true,
     "grade_id": "cell-1587da57b1fc0382",
     "locked": true,
     "points": 0,
     "schema_version": 3,
     "solution": false,
     "task": false
    }
   },
   "outputs": [],
   "source": [
    "# tests # DO NOT COPY OR MODIFY THIS CELL!!"
   ]
  },
  {
   "cell_type": "code",
   "execution_count": 34,
   "metadata": {
    "revert": "if not SUBMISSION:\n    model = train_cnn()\nelse:\n    model = train_cnn(load_model=True)\n    # you can set a specific model file for submission, if you trained multiple models using e.g.:\n    # load_model='best_cnn_adt.model'"
   },
   "outputs": [
    {
     "name": "stdout",
     "output_type": "stream",
     "text": [
      "Model file loaded: cnn_tagger_1.model\n"
     ]
    }
   ],
   "source": [
    "if not SUBMISSION:\n",
    "    model = train_cnn()\n",
    "else:\n",
    "    model = train_cnn(load_model=True)\n",
    "    # you can set a specific model file for submission, if you trained multiple models using e.g.:\n",
    "    # load_model='best_cnn_adt.model'"
   ]
  },
  {
   "cell_type": "markdown",
   "metadata": {
    "deletable": false,
    "editable": false,
    "nbgrader": {
     "cell_type": "markdown",
     "checksum": "70fd05555733407f8e8ba28ec927cfd9",
     "grade": false,
     "grade_id": "cell-055d123bc9c2fdd8",
     "locked": true,
     "schema_version": 3,
     "solution": false,
     "task": false
    }
   },
   "source": [
    "## Task 4: Inference on Test Data (5 Points)\n",
    "Now that we have a trained model, we want to use it to do audio tagging. In order to do this, we have to apply the model on a the extracted features.\n",
    "Since we are interested in calculating the area-under-curve (AUC) for the receiver operating characteristic (ROC, true-positive-rate v.s. false-positive-rate plot for different detection thresholds), return the raw class probabilities (direct sigmoid outputs), instead of the thresholded classes."
   ]
  },
  {
   "cell_type": "code",
   "execution_count": 35,
   "metadata": {
    "deletable": false,
    "nbgrader": {
     "cell_type": "code",
     "checksum": "f5522b3b2f51da5ae67717e606217fb1",
     "grade": false,
     "grade_id": "cell-b7e671b8b07acf8f",
     "locked": false,
     "schema_version": 3,
     "solution": true,
     "task": false
    },
    "revert": "def extract_tags_for_all(model, feats, args=DEFAULT_ARGS):\n    detection_list = []\n    # YOUR CODE HERE\n    raise NotImplementedError()\n    return np.asarray(detection_list)\n\nprint(len(test_feats))"
   },
   "outputs": [
    {
     "name": "stdout",
     "output_type": "stream",
     "text": [
      "969\n"
     ]
    }
   ],
   "source": [
    "def extract_tags_for_all(model, feats, args=DEFAULT_ARGS):\n",
    "    detection_list = []\n",
    "    # YOUR CODE HERE\n",
    "    for feat in feats:\n",
    "        cnn_t = inference_cnn(model, feat, args)\n",
    "        detection_list.append(cnn_t.numpy())\n",
    "    return np.asarray(detection_list)\n",
    "\n",
    "print(len(test_feats))"
   ]
  },
  {
   "cell_type": "code",
   "execution_count": 36,
   "metadata": {
    "deletable": false,
    "editable": false,
    "nbgrader": {
     "cell_type": "code",
     "checksum": "46ad309326ebc9fa9f50b7cdc9969375",
     "grade": false,
     "grade_id": "cell-724574e6819def5a",
     "locked": true,
     "schema_version": 3,
     "solution": false,
     "task": false
    }
   },
   "outputs": [
    {
     "name": "stdout",
     "output_type": "stream",
     "text": [
      "Time used for tag estimation: 59.6 seconds.\n"
     ]
    }
   ],
   "source": [
    "t1 = get_time()\n",
    "detected_tags = extract_tags_for_all(model, test_feats)\n",
    "print(\"Time used for tag estimation: {:.1f} seconds.\".format(get_time()-t1))\n",
    "test_targs = np.asarray(test_targs)"
   ]
  },
  {
   "cell_type": "code",
   "execution_count": 37,
   "metadata": {
    "deletable": false,
    "editable": false,
    "nbgrader": {
     "cell_type": "code",
     "checksum": "d8d9bec7db013960281560aaeb330179",
     "grade": true,
     "grade_id": "cell-23511d0abe598ede",
     "locked": true,
     "points": 3,
     "schema_version": 3,
     "solution": false,
     "task": false
    }
   },
   "outputs": [
    {
     "name": "stdout",
     "output_type": "stream",
     "text": [
      "All tests successful!\n"
     ]
    }
   ],
   "source": [
    "# tests # DO NOT COPY OR MODIFY THIS CELL!!\n",
    "\n",
    "assert len(detected_tags) == len(test_feats), \"generate detections for all test samples!!\"\n",
    "\n",
    "assert 0.0 < np.median(detected_tags) < 1.0, \"return sigmoid outputs, without applying a threshold!!\"\n",
    "\n",
    "print('All tests successful!')"
   ]
  },
  {
   "cell_type": "markdown",
   "metadata": {
    "deletable": false,
    "editable": false,
    "nbgrader": {
     "cell_type": "markdown",
     "checksum": "a723bc081f0e0bbd7aa911af5bf96b41",
     "grade": false,
     "grade_id": "cell-c25215e093ae1c6f",
     "locked": true,
     "schema_version": 3,
     "solution": false,
     "task": false
    }
   },
   "source": [
    "### 4.1 Plot Prediction\n",
    "Create a visual representation of the predicted class activations for an example of the test data, and compare it to the true labels."
   ]
  },
  {
   "cell_type": "code",
   "execution_count": 38,
   "metadata": {
    "deletable": false,
    "nbgrader": {
     "cell_type": "code",
     "checksum": "f362d62a5cbd002a4739c8c171a38315",
     "grade": false,
     "grade_id": "cell-4b0dc3bf28370adb",
     "locked": false,
     "schema_version": 3,
     "solution": true,
     "task": false
    },
    "revert": "# visual inspection, plot an activation vector v.s. the true labels as a bar chart or similar.\n\nsample_idx = 44  # you can play around with this value :)\n\n# YOUR CODE HERE\nraise NotImplementedError()"
   },
   "outputs": [
    {
     "data": {
      "image/png": "[encoded data removed]",
      "text/plain": [
       "<Figure size 1200x400 with 2 Axes>"
      ]
     },
     "metadata": {},
     "output_type": "display_data"
    }
   ],
   "source": [
    "import matplotlib.pyplot as plt\n",
    "sample_idx = 44  # you can play around with this value :)\n",
    "\n",
    "# YOUR CODE HERE\n",
    "sample_feat = test_feats[sample_idx][0]\n",
    "sample_true_label = test_targs[sample_idx]\n",
    "\n",
    "fig, ax = plt.subplots(1, 2, figsize=(12, 4))\n",
    "\n",
    "ax[0].bar(range(len(sample_feat)), sample_feat, color='blue')\n",
    "ax[0].set_title('Predicted Labels')\n",
    "ax[0].set_xlabel('Index')\n",
    "ax[0].set_ylabel('Probability')\n",
    "\n",
    "ax[1].bar(range(len(sample_true_label)), sample_true_label, color='orange')\n",
    "ax[1].set_title('True Labels')\n",
    "ax[1].set_xlabel('Class Index')\n",
    "ax[1].set_ylabel('Label')\n",
    "\n",
    "plt.show()"
   ]
  },
  {
   "cell_type": "code",
   "execution_count": 39,
   "metadata": {
    "deletable": false,
    "editable": false,
    "nbgrader": {
     "cell_type": "code",
     "checksum": "298b335028f9ac3b811a79fad72196ef",
     "grade": true,
     "grade_id": "cell-d1edab0d3d5652c7",
     "locked": true,
     "points": 2,
     "schema_version": 3,
     "solution": false,
     "task": false
    }
   },
   "outputs": [],
   "source": [
    "# tests # DO NOT COPY OR MODIFY THIS CELL!!"
   ]
  },
  {
   "cell_type": "markdown",
   "metadata": {
    "deletable": false,
    "editable": false,
    "nbgrader": {
     "cell_type": "markdown",
     "checksum": "24763b990acc38fcc1448b1bd3365738",
     "grade": false,
     "grade_id": "cell-9383b897d03184e3",
     "locked": true,
     "schema_version": 3,
     "solution": false,
     "task": false
    }
   },
   "source": [
    "## Task 5: Evaluation (10 Points)\n",
    "\n",
    "### 5.1 AOC of ROC\n",
    "\n",
    "Use the detections and targets of the test set to estimate the performance of the trained network using area-under-curve of the ROC (you can use the sklearn implementations). \n"
   ]
  },
  {
   "cell_type": "code",
   "execution_count": 42,
   "metadata": {
    "deletable": false,
    "nbgrader": {
     "cell_type": "code",
     "checksum": "7099eb312d2a5727a45effb96cfc5658",
     "grade": false,
     "grade_id": "cell-14f8f5030f935262",
     "locked": false,
     "schema_version": 3,
     "solution": true,
     "task": false
    },
    "revert": "def calc_roc_auc(true_tags, detected_tags, num_classes):\n    # Calculate true positive (tpr) and false positive rates (fpr) for applicable thresholds and compute \n    # ROC curve and area under ROC curve. \n    # Since we have a multiclass setup, use micro-average evaluation: count true and false positives for all \n    # classes and all instances, and then calculate the metrics.\n    # To get an exhaustive list of thresholds that will result in different values for tpr and fpr, it is most \n    # efficient to use unique values of the detected probabilities. However, you do not have to worry about the \n    # thresholds if you use the sklearn functions.\n    \n    # YOUR CODE HERE\n    raise NotImplementedError()\n    # return area under curve, true positive rates, and false positive rates (we will use them for plotting)\n    return micro_roc_auc, micro_tpr, micro_fpr\n"
   },
   "outputs": [],
   "source": [
    "def calc_roc_auc(true_tags, detected_tags, num_classes):\n",
    "    # Calculate true positive (tpr) and false positive rates (fpr) for applicable thresholds and compute \n",
    "    # ROC curve and area under ROC curve. \n",
    "    # Since we have a multiclass setup, use micro-average evaluation: count true and false positives for all \n",
    "    # classes and all instances, and then calculate the metrics.\n",
    "    # To get an exhaustive list of thresholds that will result in different values for tpr and fpr, it is most \n",
    "    # efficient to use unique values of the detected probabilities. However, you do not have to worry about the \n",
    "    # thresholds if you use the sklearn functions.\n",
    "    from sklearn.metrics import roc_curve, auc\n",
    "    \n",
    "    true_tags_flattened = np.ravel(true_tags)\n",
    "    detected_tags_flattened = np.ravel(detected_tags)\n",
    "\n",
    "    micro_fpr, micro_tpr, _ = roc_curve(true_tags_flattened, detected_tags_flattened)\n",
    "    micro_roc_auc = auc(micro_fpr, micro_tpr)\n",
    "    # return area under curve, true positive rates, and false positive rates (we will use them for plotting)\n",
    "    return micro_roc_auc, micro_tpr, micro_fpr\n"
   ]
  },
  {
   "cell_type": "code",
   "execution_count": 43,
   "metadata": {
    "deletable": false,
    "editable": false,
    "nbgrader": {
     "cell_type": "code",
     "checksum": "14972d688a3c261a09fe8e6ec58257a8",
     "grade": false,
     "grade_id": "cell-93c8bd9f0f0d9a13",
     "locked": true,
     "schema_version": 3,
     "solution": false,
     "task": false
    }
   },
   "outputs": [
    {
     "name": "stdout",
     "output_type": "stream",
     "text": [
      "Final AOC-ROC score of trained model: 0.8601365203489437\n"
     ]
    }
   ],
   "source": [
    "final_score, micro_tpr, micro_fpr = calc_roc_auc(test_targs, detected_tags, len(class_names))\n",
    "print(f'Final AOC-ROC score of trained model: {final_score}')"
   ]
  },
  {
   "cell_type": "code",
   "execution_count": 44,
   "metadata": {
    "deletable": false,
    "editable": false,
    "nbgrader": {
     "cell_type": "code",
     "checksum": "376e783f49f85fb4335d88e31dadd438",
     "grade": true,
     "grade_id": "cell-bc71f08913607d11",
     "locked": true,
     "points": 5,
     "schema_version": 3,
     "solution": false,
     "task": false
    }
   },
   "outputs": [
    {
     "name": "stdout",
     "output_type": "stream",
     "text": [
      "Public tests successful!\n",
      "score = 2.0\n"
     ]
    },
    {
     "data": {
      "text/plain": [
       "2.0"
      ]
     },
     "execution_count": 44,
     "metadata": {},
     "output_type": "execute_result"
    }
   ],
   "source": [
    "# tests # DO NOT COPY OR MODIFY THIS CELL!!\n",
    "\n",
    "# you should be able to achieve this AOC score\n",
    "assert final_score > 0.8\n",
    "\n",
    "print('Public tests successful!')\n",
    "score = 2.0\n",
    "print(f\"score = {score}\")\n",
    "score"
   ]
  },
  {
   "cell_type": "markdown",
   "metadata": {
    "deletable": false,
    "editable": false,
    "nbgrader": {
     "cell_type": "markdown",
     "checksum": "4e79cefca2d6a4428cb9b71adfaa7f21",
     "grade": false,
     "grade_id": "cell-28ce1486130b5e5c",
     "locked": true,
     "schema_version": 3,
     "solution": false,
     "task": false
    }
   },
   "source": [
    "### 5.2 Plot ROC\n",
    "\n",
    "Plot an ROC curve for micro-average evaluation of the test detections. The values for the test detections should have been saved in `final_score`, `micro_tpr`, and `micro_fpr` in the previous cells."
   ]
  },
  {
   "cell_type": "code",
   "execution_count": 45,
   "metadata": {
    "deletable": false,
    "nbgrader": {
     "cell_type": "code",
     "checksum": "285c916bce8c8f1e64622ac8f770d3c8",
     "grade": false,
     "grade_id": "cell-a8349ff3553e8bce",
     "locked": false,
     "schema_version": 3,
     "solution": true,
     "task": false
    },
    "revert": "def plot_roc_for_class(fpr, tpr, roc_auc):\n    import matplotlib.pyplot as plt\n    plt.figure()\n    # YOUR CODE HERE\n    raise NotImplementedError()\n    plt.show()"
   },
   "outputs": [],
   "source": [
    "def plot_roc_for_class(fpr, tpr, roc_auc):\n",
    "    import matplotlib.pyplot as plt\n",
    "    plt.figure()\n",
    "    # YOUR CODE HERE\n",
    "    plt.plot(fpr, tpr, color='darkorange', lw=2, label='ROC curve (area = {:.2f})'.format(roc_auc))\n",
    "    plt.plot([0, 1], [0, 1], color='navy', lw=2, linestyle='--')\n",
    "    plt.xlim([0.0, 1.0])\n",
    "    plt.ylim([0.0, 1.05])\n",
    "    plt.xlabel('False Positive Rate')\n",
    "    plt.ylabel('True Positive Rate')\n",
    "    plt.title('Receiver Operating Characteristic (ROC)')\n",
    "    plt.legend(loc='lower right')\n",
    "    plt.show()"
   ]
  },
  {
   "cell_type": "code",
   "execution_count": 46,
   "metadata": {
    "deletable": false,
    "editable": false,
    "nbgrader": {
     "cell_type": "code",
     "checksum": "d7bce58abccec5721559e5878b226673",
     "grade": false,
     "grade_id": "cell-8d940bfc3175431b",
     "locked": true,
     "schema_version": 3,
     "solution": false,
     "task": false
    }
   },
   "outputs": [
    {
     "data": {
      "image/png": "[encoded data removed]",
      "text/plain": [
       "<Figure size 640x480 with 1 Axes>"
      ]
     },
     "metadata": {},
     "output_type": "display_data"
    }
   ],
   "source": [
    "plot_roc_for_class(micro_fpr, micro_tpr, final_score)"
   ]
  },
  {
   "cell_type": "code",
   "execution_count": 47,
   "metadata": {
    "deletable": false,
    "editable": false,
    "nbgrader": {
     "cell_type": "code",
     "checksum": "43649125271fadea697bc995ea5b09bf",
     "grade": true,
     "grade_id": "cell-b7abcf1de5115831",
     "locked": true,
     "points": 5,
     "schema_version": 3,
     "solution": false,
     "task": false
    }
   },
   "outputs": [],
   "source": [
    "# tests # DO NOT COPY OR MODIFY THIS CELL!!\n"
   ]
  },
  {
   "cell_type": "markdown",
   "metadata": {
    "revert": "## Congratulations, you are done!\n\nReminder:\nBefore you turn this assignment in, make sure everything runs as expected. First, **restart the kernel** (in the menubar, select Kernel$\\rightarrow$Restart) and then **run all cells** (in the menubar, select Cell$\\rightarrow$Run All)."
   },
   "source": [
    "## Congratulations, you are done!\n",
    "\n",
    "Reminder:\n",
    "Before you turn this assignment in, make sure everything runs as expected. First, **restart the kernel** (in the menubar, select Kernel$\\rightarrow$Restart) and then **run all cells** (in the menubar, select Cell$\\rightarrow$Run All)."
   ]
  },
  {
   "cell_type": "code",
   "execution_count": null,
   "metadata": {},
   "outputs": [],
   "source": []
  }
 ],
 "metadata": {
  "kernelspec": {
   "display_name": "Python 3 (ipykernel)",
   "language": "python",
   "name": "python3"
  },
  "language_info": {
   "codemirror_mode": {
    "name": "ipython",
    "version": 3
   },
   "file_extension": ".py",
   "mimetype": "text/x-python",
   "name": "python",
   "nbconvert_exporter": "python",
   "pygments_lexer": "ipython3",
   "version": "3.10.12"
  }
 },
 "nbformat": 4,
 "nbformat_minor": 4
}
