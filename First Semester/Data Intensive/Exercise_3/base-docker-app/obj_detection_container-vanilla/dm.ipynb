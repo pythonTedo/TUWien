{
 "cells": [
  {
   "cell_type": "code",
   "execution_count": 2,
   "metadata": {},
   "outputs": [],
   "source": [
    "from PIL import Image\n",
    "import tensorflow as tf\n",
    "from tensorflow.keras.preprocessing import image_dataset_from_directory\n",
    "import tensorflow_hub as hub"
   ]
  },
  {
   "cell_type": "code",
   "execution_count": 3,
   "metadata": {},
   "outputs": [
    {
     "ename": "NameError",
     "evalue": "name 'img' is not defined",
     "output_type": "error",
     "traceback": [
      "\u001b[0;31m---------------------------------------------------------------------------\u001b[0m",
      "\u001b[0;31mNameError\u001b[0m                                 Traceback (most recent call last)",
      "\u001b[1;32m/mnt/d/Tu/data-intensive/Exercise_3/base-docker-app/obj_detection_container-vanilla/dm.ipynb Cell 2'\u001b[0m in \u001b[0;36m<cell line: 1>\u001b[0;34m()\u001b[0m\n\u001b[0;32m----> <a href='vscode-notebook-cell://wsl%2Bubuntu/mnt/d/Tu/data-intensive/Exercise_3/base-docker-app/obj_detection_container-vanilla/dm.ipynb#ch0000002vscode-remote?line=0'>1</a>\u001b[0m converted_img  \u001b[39m=\u001b[39m tf\u001b[39m.\u001b[39mimage\u001b[39m.\u001b[39mconvert_image_dtype(img, tf\u001b[39m.\u001b[39mfloat32)[tf\u001b[39m.\u001b[39mnewaxis, \u001b[39m.\u001b[39m\u001b[39m.\u001b[39m\u001b[39m.\u001b[39m]\n",
      "\u001b[0;31mNameError\u001b[0m: name 'img' is not defined"
     ]
    }
   ],
   "source": [
    "converted_img  = tf.image.convert_image_dtype(img, tf.float32)[tf.newaxis, ...]"
   ]
  },
  {
   "cell_type": "code",
   "execution_count": 4,
   "metadata": {},
   "outputs": [],
   "source": [
    "directory = \"test2017/test2017/\""
   ]
  },
  {
   "cell_type": "code",
   "execution_count": 5,
   "metadata": {},
   "outputs": [
    {
     "name": "stderr",
     "output_type": "stream",
     "text": [
      "2022-06-20 22:33:40.553240: I tensorflow/stream_executor/cuda/cuda_gpu_executor.cc:961] could not open file to read NUMA node: /sys/bus/pci/devices/0000:01:00.0/numa_node\n",
      "Your kernel may have been built without NUMA support.\n",
      "2022-06-20 22:33:40.589571: I tensorflow/stream_executor/cuda/cuda_gpu_executor.cc:961] could not open file to read NUMA node: /sys/bus/pci/devices/0000:01:00.0/numa_node\n",
      "Your kernel may have been built without NUMA support.\n",
      "2022-06-20 22:33:40.590077: I tensorflow/stream_executor/cuda/cuda_gpu_executor.cc:961] could not open file to read NUMA node: /sys/bus/pci/devices/0000:01:00.0/numa_node\n",
      "Your kernel may have been built without NUMA support.\n",
      "2022-06-20 22:33:40.592515: I tensorflow/core/platform/cpu_feature_guard.cc:193] This TensorFlow binary is optimized with oneAPI Deep Neural Network Library (oneDNN) to use the following CPU instructions in performance-critical operations:  AVX2 FMA\n",
      "To enable them in other operations, rebuild TensorFlow with the appropriate compiler flags.\n",
      "2022-06-20 22:33:40.594775: I tensorflow/stream_executor/cuda/cuda_gpu_executor.cc:961] could not open file to read NUMA node: /sys/bus/pci/devices/0000:01:00.0/numa_node\n",
      "Your kernel may have been built without NUMA support.\n",
      "2022-06-20 22:33:40.595256: I tensorflow/stream_executor/cuda/cuda_gpu_executor.cc:961] could not open file to read NUMA node: /sys/bus/pci/devices/0000:01:00.0/numa_node\n",
      "Your kernel may have been built without NUMA support.\n",
      "2022-06-20 22:33:40.595655: I tensorflow/stream_executor/cuda/cuda_gpu_executor.cc:961] could not open file to read NUMA node: /sys/bus/pci/devices/0000:01:00.0/numa_node\n",
      "Your kernel may have been built without NUMA support.\n",
      "2022-06-20 22:33:42.073463: I tensorflow/stream_executor/cuda/cuda_gpu_executor.cc:961] could not open file to read NUMA node: /sys/bus/pci/devices/0000:01:00.0/numa_node\n",
      "Your kernel may have been built without NUMA support.\n",
      "2022-06-20 22:33:42.074382: I tensorflow/stream_executor/cuda/cuda_gpu_executor.cc:961] could not open file to read NUMA node: /sys/bus/pci/devices/0000:01:00.0/numa_node\n",
      "Your kernel may have been built without NUMA support.\n",
      "2022-06-20 22:33:42.074586: I tensorflow/core/common_runtime/gpu/gpu_device.cc:1616] Could not identify NUMA node of platform GPU id 0, defaulting to 0.  Your kernel may not have been built with NUMA support.\n",
      "2022-06-20 22:33:42.075189: I tensorflow/stream_executor/cuda/cuda_gpu_executor.cc:961] could not open file to read NUMA node: /sys/bus/pci/devices/0000:01:00.0/numa_node\n",
      "Your kernel may have been built without NUMA support.\n",
      "2022-06-20 22:33:42.075416: I tensorflow/core/common_runtime/gpu/gpu_device.cc:1532] Created device /job:localhost/replica:0/task:0/device:GPU:0 with 5446 MB memory:  -> device: 0, name: NVIDIA GeForce RTX 3070 Laptop GPU, pci bus id: 0000:01:00.0, compute capability: 8.6\n"
     ]
    }
   ],
   "source": [
    "image = tf.io.read_file(\"test2017/test2017/000000000001.jpg\")"
   ]
  },
  {
   "cell_type": "code",
   "execution_count": 7,
   "metadata": {},
   "outputs": [],
   "source": [
    "new_img = tf.image.decode_image(image, dtype=tf.float32)[tf.newaxis, ...]"
   ]
  },
  {
   "cell_type": "code",
   "execution_count": 8,
   "metadata": {},
   "outputs": [
    {
     "name": "stdout",
     "output_type": "stream",
     "text": [
      "INFO:tensorflow:Saver not created because there are no variables in the graph to restore\n"
     ]
    },
    {
     "name": "stderr",
     "output_type": "stream",
     "text": [
      "INFO:tensorflow:Saver not created because there are no variables in the graph to restore\n"
     ]
    }
   ],
   "source": [
    "module_handle = \"https://tfhub.dev/google/openimages_v4/ssd/mobilenet_v2/1\"\n",
    "detector = hub.load(module_handle).signatures['default']"
   ]
  },
  {
   "cell_type": "code",
   "execution_count": 9,
   "metadata": {},
   "outputs": [
    {
     "name": "stderr",
     "output_type": "stream",
     "text": [
      "2022-06-20 22:34:06.418065: W tensorflow/core/framework/cpu_allocator_impl.cc:82] Allocation of 18524160 exceeds 10% of free system memory.\n",
      "2022-06-20 22:34:06.809524: W tensorflow/core/framework/cpu_allocator_impl.cc:82] Allocation of 18524160 exceeds 10% of free system memory.\n",
      "2022-06-20 22:34:09.021854: W tensorflow/core/framework/cpu_allocator_impl.cc:82] Allocation of 18524160 exceeds 10% of free system memory.\n",
      "2022-06-20 22:34:09.242490: W tensorflow/core/framework/cpu_allocator_impl.cc:82] Allocation of 18524160 exceeds 10% of free system memory.\n",
      "2022-06-20 22:34:13.175750: I tensorflow/stream_executor/cuda/cuda_dnn.cc:384] Loaded cuDNN version 8100\n",
      "2022-06-20 22:34:15.616221: I tensorflow/core/platform/default/subprocess.cc:304] Start cannot spawn child process: No such file or directory\n",
      "2022-06-20 22:34:15.655904: I tensorflow/core/platform/default/subprocess.cc:304] Start cannot spawn child process: No such file or directory\n",
      "2022-06-20 22:34:15.657400: W tensorflow/stream_executor/gpu/asm_compiler.cc:80] Couldn't get ptxas version string: INTERNAL: Couldn't invoke ptxas --version\n",
      "2022-06-20 22:34:15.692380: I tensorflow/core/platform/default/subprocess.cc:304] Start cannot spawn child process: No such file or directory\n",
      "2022-06-20 22:34:15.692996: W tensorflow/stream_executor/gpu/redzone_allocator.cc:314] INTERNAL: Failed to launch ptxas\n",
      "Relying on driver to perform ptx compilation. \n",
      "Modify $PATH to customize ptxas location.\n",
      "This message will be only logged once.\n"
     ]
    }
   ],
   "source": [
    "result = detector(new_img)"
   ]
  },
  {
   "cell_type": "code",
   "execution_count": 10,
   "metadata": {},
   "outputs": [
    {
     "data": {
      "text/plain": [
       "{'detection_class_labels': <tf.Tensor: shape=(100,), dtype=int64, numpy=\n",
       " array([571, 571, 409, 391, 571, 391, 334, 535, 571, 391, 391, 391, 391,\n",
       "        391, 391, 391, 571, 552, 391, 391, 334, 334, 391, 391, 571, 409,\n",
       "        391, 391, 391, 571, 571, 334, 334, 409, 334, 334, 391, 391, 571,\n",
       "        571, 334, 334, 571, 391, 391, 334, 334, 334, 334, 391, 571, 334,\n",
       "        334, 409, 391, 571, 334, 334, 391, 391, 391, 391, 391, 409, 334,\n",
       "        391, 571, 391, 334, 334, 400, 334, 334, 391, 409, 571, 391, 334,\n",
       "        334, 334, 334, 334, 409, 334, 334, 571, 334, 571, 334, 391, 334,\n",
       "        334, 571, 334, 391, 571, 409, 334, 391, 334])>,\n",
       " 'detection_class_entities': <tf.Tensor: shape=(100,), dtype=string, numpy=\n",
       " array([b'Car', b'Car', b'Wheel', b'Tree', b'Car', b'Tree', b'Plant',\n",
       "        b'Van', b'Car', b'Tree', b'Tree', b'Tree', b'Tree', b'Tree',\n",
       "        b'Tree', b'Tree', b'Car', b'Tire', b'Tree', b'Tree', b'Plant',\n",
       "        b'Plant', b'Tree', b'Tree', b'Car', b'Wheel', b'Tree', b'Tree',\n",
       "        b'Tree', b'Car', b'Car', b'Plant', b'Plant', b'Wheel', b'Plant',\n",
       "        b'Plant', b'Tree', b'Tree', b'Car', b'Car', b'Plant', b'Plant',\n",
       "        b'Car', b'Tree', b'Tree', b'Plant', b'Plant', b'Plant', b'Plant',\n",
       "        b'Tree', b'Car', b'Plant', b'Plant', b'Wheel', b'Tree', b'Car',\n",
       "        b'Plant', b'Plant', b'Tree', b'Tree', b'Tree', b'Tree', b'Tree',\n",
       "        b'Wheel', b'Plant', b'Tree', b'Car', b'Tree', b'Plant', b'Plant',\n",
       "        b'Truck', b'Plant', b'Plant', b'Tree', b'Wheel', b'Car', b'Tree',\n",
       "        b'Plant', b'Plant', b'Plant', b'Plant', b'Plant', b'Wheel',\n",
       "        b'Plant', b'Plant', b'Car', b'Plant', b'Car', b'Plant', b'Tree',\n",
       "        b'Plant', b'Plant', b'Car', b'Plant', b'Tree', b'Car', b'Wheel',\n",
       "        b'Plant', b'Tree', b'Plant'], dtype=object)>,\n",
       " 'detection_boxes': <tf.Tensor: shape=(100, 4), dtype=float32, numpy=\n",
       " array([[0.2642774 , 0.06183758, 0.6523623 , 0.7125883 ],\n",
       "        [0.22215435, 0.43048993, 0.45084664, 0.9834081 ],\n",
       "        [0.3423826 , 0.8507832 , 0.46255505, 0.9596293 ],\n",
       "        [0.        , 0.        , 0.70043117, 0.37323317],\n",
       "        [0.24908601, 0.10053244, 0.5039102 , 0.6223315 ],\n",
       "        [0.        , 0.0098768 , 0.51629883, 0.4611411 ],\n",
       "        [0.55706435, 0.39544505, 0.99862856, 0.9716734 ],\n",
       "        [0.10764009, 0.42089862, 0.44658297, 0.9982099 ],\n",
       "        [0.06381086, 0.4172403 , 0.43829367, 0.99736917],\n",
       "        [0.00908669, 0.37461668, 0.2468606 , 0.54818785],\n",
       "        [0.00948352, 0.00370982, 0.44615924, 0.33044326],\n",
       "        [0.00467135, 0.10959107, 0.31545734, 0.5675407 ],\n",
       "        [0.02517784, 0.00680354, 0.6558969 , 0.17560491],\n",
       "        [0.00371847, 0.3132086 , 0.24261352, 0.50020146],\n",
       "        [0.00975761, 0.00353815, 0.36131772, 0.18353482],\n",
       "        [0.01575857, 0.28777412, 0.2737265 , 0.42420003],\n",
       "        [0.20658197, 0.35847494, 0.5191127 , 0.7839637 ],\n",
       "        [0.3423826 , 0.8507832 , 0.46255505, 0.9596293 ],\n",
       "        [0.00647995, 0.        , 0.97527933, 0.48728162],\n",
       "        [0.21039885, 0.        , 0.6622816 , 0.26004487],\n",
       "        [0.57940996, 0.41169864, 0.977406  , 0.7409702 ],\n",
       "        [0.5893201 , 0.61201316, 0.99354655, 0.99555415],\n",
       "        [0.        , 0.        , 0.2511379 , 0.32691357],\n",
       "        [0.3884471 , 0.00171044, 0.6537941 , 0.13441601],\n",
       "        [0.16549873, 0.3907286 , 0.33058128, 0.59690374],\n",
       "        [0.51075315, 0.6315692 , 0.59340894, 0.69050854],\n",
       "        [0.        , 0.        , 0.5436024 , 0.05128302],\n",
       "        [0.        , 0.02849844, 0.64325714, 0.6536726 ],\n",
       "        [0.00361553, 0.0272432 , 0.20613128, 0.5183252 ],\n",
       "        [0.27194136, 0.648485  , 0.4557677 , 1.        ],\n",
       "        [0.22415149, 0.26848954, 0.37175357, 0.5153188 ],\n",
       "        [0.9078355 , 0.3036836 , 0.9736991 , 0.39046487],\n",
       "        [0.61123997, 0.01361428, 0.95762056, 0.41218597],\n",
       "        [0.5667919 , 0.373612  , 0.6673428 , 0.43515235],\n",
       "        [0.5381196 , 0.5165829 , 0.86200005, 0.9911168 ],\n",
       "        [0.6180709 , 0.18104948, 0.66841644, 0.22238286],\n",
       "        [0.        , 0.31962532, 0.18459992, 0.47872055],\n",
       "        [0.        , 0.        , 0.3979076 , 0.71108896],\n",
       "        [0.21400037, 0.3673577 , 0.37621662, 0.5581249 ],\n",
       "        [0.14512649, 0.20560625, 0.47311857, 0.9131578 ],\n",
       "        [0.60460484, 0.2909599 , 1.        , 0.8196716 ],\n",
       "        [0.3845887 , 0.52053016, 0.999292  , 0.96297437],\n",
       "        [0.3574913 , 0.04267189, 0.67444676, 0.58102727],\n",
       "        [0.16149965, 0.00219458, 0.41297486, 0.21919754],\n",
       "        [0.        , 0.2074663 , 0.1804194 , 0.36508435],\n",
       "        [0.6648416 , 0.4336954 , 0.85314924, 0.655783  ],\n",
       "        [0.5706554 , 0.5177609 , 0.8547433 , 0.67790425],\n",
       "        [0.5318408 , 0.41416356, 0.8228743 , 0.8003919 ],\n",
       "        [0.68692154, 0.43261552, 0.9587458 , 0.6052469 ],\n",
       "        [0.        , 0.2233049 , 0.47536683, 0.49434426],\n",
       "        [0.30846548, 0.15425965, 0.5903467 , 0.7527796 ],\n",
       "        [0.61513853, 0.00249806, 1.        , 0.58815646],\n",
       "        [0.47008353, 0.10825089, 1.        , 0.9747882 ],\n",
       "        [0.3173785 , 0.41349447, 0.38874087, 0.4878282 ],\n",
       "        [0.3048066 , 0.00452968, 0.60602695, 0.15511748],\n",
       "        [0.17833956, 0.2683611 , 0.30478275, 0.52625614],\n",
       "        [0.38353962, 0.00864172, 0.86892396, 0.39195454],\n",
       "        [0.50905883, 0.7092598 , 0.9536979 , 0.9892395 ],\n",
       "        [0.        , 0.03338567, 0.35437953, 0.25686565],\n",
       "        [0.        , 0.2632894 , 0.24700779, 0.62272924],\n",
       "        [0.09992264, 0.        , 0.43881446, 0.5421674 ],\n",
       "        [0.        , 0.15863934, 0.23323779, 0.32753375],\n",
       "        [0.        , 0.02698369, 0.24416728, 0.20730343],\n",
       "        [0.2840805 , 0.455139  , 0.3693493 , 0.5180721 ],\n",
       "        [0.69626725, 0.33719143, 1.        , 1.        ],\n",
       "        [0.        , 0.13980754, 0.3500946 , 0.34816962],\n",
       "        [0.21066867, 0.05713017, 0.5569687 , 0.42948675],\n",
       "        [0.00675352, 0.23181614, 0.28239828, 0.36784127],\n",
       "        [0.92090034, 0.27623162, 0.997172  , 0.40363792],\n",
       "        [0.7739376 , 0.5117605 , 0.97718215, 0.81175697],\n",
       "        [0.10764009, 0.42089862, 0.44658297, 0.9982099 ],\n",
       "        [0.651149  , 0.69127697, 0.91564065, 0.8374823 ],\n",
       "        [0.29590145, 0.74293506, 0.9619875 , 1.        ],\n",
       "        [0.0088357 , 0.09720364, 0.29999873, 0.2870089 ],\n",
       "        [0.5603204 , 0.33743545, 0.6671312 , 0.38007358],\n",
       "        [0.09196399, 0.08659387, 0.58226264, 0.7997973 ],\n",
       "        [0.00820887, 0.        , 0.2966569 , 0.46218926],\n",
       "        [0.7295476 , 0.59087455, 0.93067205, 0.8347434 ],\n",
       "        [0.6197687 , 0.45824695, 0.92437905, 0.6439649 ],\n",
       "        [0.58588547, 0.44847307, 0.7893482 , 0.6870496 ],\n",
       "        [0.65836865, 0.6444235 , 0.861682  , 0.88980484],\n",
       "        [0.6080812 , 0.078364  , 0.6850816 , 0.18182845],\n",
       "        [0.5013792 , 0.348292  , 0.631676  , 0.44689238],\n",
       "        [0.4347484 , 0.37999955, 0.87049973, 0.7250018 ],\n",
       "        [0.71618664, 0.6421586 , 0.90762997, 0.86720276],\n",
       "        [0.38175723, 0.05056236, 0.41888985, 0.1040698 ],\n",
       "        [0.7178166 , 0.4356115 , 1.        , 0.86450946],\n",
       "        [0.2659527 , 0.2529696 , 0.42370135, 0.491003  ],\n",
       "        [0.9669726 , 0.44667754, 0.99932146, 0.48188958],\n",
       "        [0.        , 0.2634638 , 0.09600993, 0.5455418 ],\n",
       "        [0.62849945, 0.04385368, 0.66969436, 0.0840245 ],\n",
       "        [0.4698323 , 0.4269408 , 0.93158257, 0.8365718 ],\n",
       "        [0.20146883, 0.4327049 , 0.27838346, 0.5303837 ],\n",
       "        [0.51334727, 0.        , 0.9812577 , 0.2738214 ],\n",
       "        [0.04064477, 0.4113631 , 0.2735961 , 0.5729356 ],\n",
       "        [0.17988291, 0.1004134 , 0.72391677, 0.5729858 ],\n",
       "        [0.31819195, 0.52954614, 0.3705197 , 0.57920086],\n",
       "        [0.5685905 , 0.03431875, 0.66014004, 0.09158389],\n",
       "        [0.        , 0.39763805, 0.04558709, 0.5249169 ],\n",
       "        [0.7276312 , 0.72473097, 0.8223864 , 0.79869163]], dtype=float32)>,\n",
       " 'detection_class_names': <tf.Tensor: shape=(100,), dtype=string, numpy=\n",
       " array([b'/m/0k4j', b'/m/0k4j', b'/m/083wq', b'/m/07j7r', b'/m/0k4j',\n",
       "        b'/m/07j7r', b'/m/05s2s', b'/m/0h2r6', b'/m/0k4j', b'/m/07j7r',\n",
       "        b'/m/07j7r', b'/m/07j7r', b'/m/07j7r', b'/m/07j7r', b'/m/07j7r',\n",
       "        b'/m/07j7r', b'/m/0k4j', b'/m/0h9mv', b'/m/07j7r', b'/m/07j7r',\n",
       "        b'/m/05s2s', b'/m/05s2s', b'/m/07j7r', b'/m/07j7r', b'/m/0k4j',\n",
       "        b'/m/083wq', b'/m/07j7r', b'/m/07j7r', b'/m/07j7r', b'/m/0k4j',\n",
       "        b'/m/0k4j', b'/m/05s2s', b'/m/05s2s', b'/m/083wq', b'/m/05s2s',\n",
       "        b'/m/05s2s', b'/m/07j7r', b'/m/07j7r', b'/m/0k4j', b'/m/0k4j',\n",
       "        b'/m/05s2s', b'/m/05s2s', b'/m/0k4j', b'/m/07j7r', b'/m/07j7r',\n",
       "        b'/m/05s2s', b'/m/05s2s', b'/m/05s2s', b'/m/05s2s', b'/m/07j7r',\n",
       "        b'/m/0k4j', b'/m/05s2s', b'/m/05s2s', b'/m/083wq', b'/m/07j7r',\n",
       "        b'/m/0k4j', b'/m/05s2s', b'/m/05s2s', b'/m/07j7r', b'/m/07j7r',\n",
       "        b'/m/07j7r', b'/m/07j7r', b'/m/07j7r', b'/m/083wq', b'/m/05s2s',\n",
       "        b'/m/07j7r', b'/m/0k4j', b'/m/07j7r', b'/m/05s2s', b'/m/05s2s',\n",
       "        b'/m/07r04', b'/m/05s2s', b'/m/05s2s', b'/m/07j7r', b'/m/083wq',\n",
       "        b'/m/0k4j', b'/m/07j7r', b'/m/05s2s', b'/m/05s2s', b'/m/05s2s',\n",
       "        b'/m/05s2s', b'/m/05s2s', b'/m/083wq', b'/m/05s2s', b'/m/05s2s',\n",
       "        b'/m/0k4j', b'/m/05s2s', b'/m/0k4j', b'/m/05s2s', b'/m/07j7r',\n",
       "        b'/m/05s2s', b'/m/05s2s', b'/m/0k4j', b'/m/05s2s', b'/m/07j7r',\n",
       "        b'/m/0k4j', b'/m/083wq', b'/m/05s2s', b'/m/07j7r', b'/m/05s2s'],\n",
       "       dtype=object)>,\n",
       " 'detection_scores': <tf.Tensor: shape=(100,), dtype=float32, numpy=\n",
       " array([0.7455802 , 0.3616462 , 0.28399432, 0.24245171, 0.18503506,\n",
       "        0.18193671, 0.1640706 , 0.1548261 , 0.15258884, 0.1524911 ,\n",
       "        0.14828798, 0.14373226, 0.14340317, 0.14098117, 0.13563304,\n",
       "        0.13391735, 0.13193938, 0.12985542, 0.12720546, 0.12594302,\n",
       "        0.1259321 , 0.12503481, 0.12271582, 0.12188031, 0.12045218,\n",
       "        0.12032684, 0.11983731, 0.11819816, 0.1178156 , 0.11753023,\n",
       "        0.11739872, 0.11689459, 0.11667366, 0.11664806, 0.11625595,\n",
       "        0.11595821, 0.11586957, 0.11549596, 0.11510006, 0.1149274 ,\n",
       "        0.11382347, 0.11350762, 0.11291958, 0.11051624, 0.11037871,\n",
       "        0.11005021, 0.1096944 , 0.10947088, 0.10912712, 0.10824961,\n",
       "        0.10822531, 0.10806268, 0.10793949, 0.10737293, 0.10716932,\n",
       "        0.10690989, 0.10686719, 0.10666537, 0.10605891, 0.10571259,\n",
       "        0.10541359, 0.10507116, 0.1046504 , 0.10460738, 0.10459011,\n",
       "        0.10418689, 0.10369175, 0.10347588, 0.10295093, 0.10277455,\n",
       "        0.10269824, 0.10229076, 0.10115286, 0.10078631, 0.09964216,\n",
       "        0.09931664, 0.09918991, 0.0986364 , 0.09810929, 0.09807915,\n",
       "        0.09776199, 0.09714878, 0.09714212, 0.09708592, 0.09655081,\n",
       "        0.09633721, 0.09631081, 0.09624992, 0.09617864, 0.09605844,\n",
       "        0.09588914, 0.09587437, 0.09564779, 0.09564602, 0.09527062,\n",
       "        0.09464019, 0.0944394 , 0.09382557, 0.09360912, 0.09344444],\n",
       "       dtype=float32)>}"
      ]
     },
     "execution_count": 10,
     "metadata": {},
     "output_type": "execute_result"
    },
    {
     "ename": "",
     "evalue": "",
     "output_type": "error",
     "traceback": [
      "\u001b[1;31mThe Kernel crashed while executing code in the the current cell or a previous cell. Please review the code in the cell(s) to identify a possible cause of the failure. Click <a href='https://aka.ms/vscodeJupyterKernelCrash'>here</a> for more info. View Jupyter <a href='command:jupyter.viewOutput'>log</a> for further details."
     ]
    }
   ],
   "source": [
    "result"
   ]
  },
  {
   "cell_type": "code",
   "execution_count": null,
   "metadata": {},
   "outputs": [],
   "source": []
  }
 ],
 "metadata": {
  "kernelspec": {
   "display_name": "Python 3.9.12 ('tf_original')",
   "language": "python",
   "name": "python3"
  },
  "language_info": {
   "codemirror_mode": {
    "name": "ipython",
    "version": 3
   },
   "file_extension": ".py",
   "mimetype": "text/x-python",
   "name": "python",
   "nbconvert_exporter": "python",
   "pygments_lexer": "ipython3",
   "version": "3.9.12"
  },
  "orig_nbformat": 4,
  "vscode": {
   "interpreter": {
    "hash": "51360d1f19632e415447e3a59d488bfa3b6173f2a211692924d67a174b4e0510"
   }
  }
 },
 "nbformat": 4,
 "nbformat_minor": 2
}
