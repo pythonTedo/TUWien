{
 "cells": [
  {
   "cell_type": "code",
   "execution_count": 44,
   "id": "84711325",
   "metadata": {},
   "outputs": [],
   "source": [
    "import findspark\n",
    "findspark.init()\n",
    "findspark.find()\n",
    "import pyspark\n",
    "findspark.find()\n",
    "from pyspark.sql.functions import split, explode\n",
    "from pyspark.sql.functions import regexp_replace, trim, col, lower, concat\n",
    "import re\n",
    "from pyspark.sql import SparkSession\n",
    "import pyspark.sql.functions as F\n",
    "import os\n",
    "conf=pyspark.SparkConf().setAppName('SparkApp1').setMaster('local')\n",
    "sc=pyspark.SparkContext(conf=conf)\n",
    "spark=SparkSession(sc)"
   ]
  },
  {
   "cell_type": "markdown",
   "id": "7cbaf1ef",
   "metadata": {},
   "source": [
    "I am  initializing a pyspark session, while reading the json data and selecting only two columns."
   ]
  },
  {
   "cell_type": "code",
   "execution_count": 50,
   "id": "2de85e56",
   "metadata": {},
   "outputs": [],
   "source": [
    "data = spark.read.json(\"reviews_devset.json\", multiLine = \"False\").select(\"category\", \"reviewText\")"
   ]
  },
  {
   "cell_type": "markdown",
   "id": "1092486f",
   "metadata": {},
   "source": [
    "## Data Preprocessing\n",
    "\n",
    "Here i am selecting reviewText and splitting with the regex pattern. Then i am mapping for each category a word from reviewText."
   ]
  },
  {
   "cell_type": "code",
   "execution_count": 51,
   "id": "748bb732",
   "metadata": {},
   "outputs": [],
   "source": [
    "delimiters = [' ', '(', ')', '[', ']', '{', '}', '.', '!', '?', ',', ';',':','+','=','-','_','\"','`',\"'\",'~','#','@','&','*','%','€','$','§','/','0','1','2','3','4','5','6','7','8','9']\n",
    "\n",
    "regexPattern = '|'.join(map(re.escape, delimiters))\n",
    "\n",
    "df = data.select(data.category, data.reviewText)\n",
    "df = df.withColumn(\"reviewText\", split(col(\"reviewText\"),  regexPattern))\n",
    "SplitData=df.rdd.flatMap(lambda x: [(x['category'], w) for w in x[\"reviewText\"]]).collect()\n"
   ]
  },
  {
   "cell_type": "markdown",
   "id": "dce264b0",
   "metadata": {},
   "source": [
    "I am mapping ((the category , word), 1). I am spliting the words as tokens and making them lowercase. Then I am removing the stopwords in english and getting words with length > 0"
   ]
  },
  {
   "cell_type": "code",
   "execution_count": 52,
   "id": "de24e638",
   "metadata": {},
   "outputs": [],
   "source": [
    "stopwords = set(sc.textFile(\"stopwords.txt\").collect())\n",
    "\n",
    "new_df=sc.parallelize(SplitData)\n",
    "rdd_new = new_df.map(lambda x: ((x[0],x[1]), 1) ) \\\n",
    "             .filter(lambda x: x[0][1].lower() not in stopwords and len(x[0][1])>0)\\\n",
    "             .reduceByKey(lambda x, y: x + y) \\\n",
    "             .map(lambda x: (\"\",[(x[0][0].lower(),x[0][1].lower(),x[1])]))\n"
   ]
  },
  {
   "cell_type": "markdown",
   "id": "bd9cb973",
   "metadata": {},
   "source": [
    "prevData stores the old data. We are creating aList and two dictionaries wordCounts and CatCounts.\n",
    "\n",
    "In the for loop the category, word and the count are saved in a aList. **ct** gets the name of the category from this list and wrd gets the word from the list. Both of them are used in dictionary. **wordCounts[wrd]** stores the number for all the appearances of given word in all categories. **CatCounts[ct]** sums all the words in the category. **totalWords** counts the total amount of words. **count** gets the number of records from the aList"
   ]
  },
  {
   "cell_type": "code",
   "execution_count": 53,
   "id": "9d6808d9",
   "metadata": {},
   "outputs": [],
   "source": [
    "prevData=rdd_new.collect()\n",
    "wrd=\"\"\n",
    "totalWords=0\n",
    "aList= []\n",
    "CatCounts = {}\n",
    "wordCounts={}\n",
    "\n",
    "for i,row in enumerate(prevData):\n",
    "    aList.append(row[1][0])\n",
    "    \n",
    "    ct=aList[i][0]\n",
    "    wrd=aList[i][1]\n",
    "    \n",
    "    if wrd in wordCounts:\n",
    "        wordCounts[wrd] = wordCounts[wrd]+aList[i][2]    \n",
    "    else:\n",
    "        wordCounts[wrd] = aList[i][2]\n",
    "        \n",
    "    if ct in CatCounts:\n",
    "        CatCounts[ct] = CatCounts[ct]+aList[i][2]    \n",
    "    else:\n",
    "        CatCounts[ct] = aList[i][2]\n",
    "        \n",
    "    totalWords+=row[1][0][2]\n",
    "\n",
    "count = len(aList) "
   ]
  },
  {
   "cell_type": "markdown",
   "id": "41c444b9",
   "metadata": {},
   "source": [
    "In this for loop the category and word are taken again. \"val\" is used to calculate the expected value of the current word from the current category. In the variable \"values\" the chi^2 values are being calculated. The current variable is extracted from the expected and powered by 2. Then its divided by the expected value. The chi^2 value is saved in the list variables, which is used to concatenate the values from \"variables\" and the list with categories, the word and the count of the words. Then the list is sorted alphabetically by category and the values are sorted descending."
   ]
  },
  {
   "cell_type": "code",
   "execution_count": 54,
   "id": "bcebe626",
   "metadata": {},
   "outputs": [],
   "source": [
    "variables=[]\n",
    "for i in range(0,count):\n",
    "    ct=aList[i][0]\n",
    "    wrd=aList[i][1]\n",
    "    val=wordCounts[wrd]*CatCounts[ct]/totalWords\n",
    "    values=pow((aList[i][2]-val),2)/val\n",
    "    variables.append(values)\n",
    "\n",
    "ListAll = []  \n",
    "for aList, variables in zip(aList, variables):\n",
    "    ListAll.append(aList + (variables,))\n",
    "    \n",
    "ListAll.sort(key=lambda row: (row[0], -row[3]))"
   ]
  },
  {
   "cell_type": "markdown",
   "id": "8600783a",
   "metadata": {},
   "source": [
    "In the next loop i am storing the first 75 chi values, sored by descending for each category. I am storing the data inside the \"s\" string varable.\n",
    "If the first check is true then in ListPrintAllVals the name of the category and the \"s\" variable, in which is accumulated the words with their chi^2 values are saved. The second check is used to accumulate in \"s\" the top 75 terms with their values, as it was mentioned in the task. Also, the list \"ListWords\" is filled with all the words, found in these top 75, whithout duplicates.\n",
    "When the loop finishes the ListWords is sorted alphabetically. In ListPrintAllValues is appended the list with the unique words, separated with \" \". All the records from ListPrintAllValues are saved in output_rdd.txt"
   ]
  },
  {
   "cell_type": "code",
   "execution_count": 55,
   "id": "c489df14",
   "metadata": {},
   "outputs": [],
   "source": [
    "ListPrintAllVals=[]\n",
    "ListWords=[]\n",
    "\n",
    "oldct=\"\"\n",
    "if count>0:\n",
    "    oldct=ListAll[0][0]\n",
    "cntr=0\n",
    "s=\"\"\n",
    "ct=\"\"\n",
    "for i in range(0,count):\n",
    "            cntr=cntr+1\n",
    "            ct=ListAll[i][0]\n",
    "            if oldct!=ct:\n",
    "                cntr=0\n",
    "                ListPrintAllVals.append(\"<\" + oldct +\"> \" + (s) + \"\")\n",
    "                s=''\n",
    "                oldct=ct\n",
    "            if cntr<76:\n",
    "                s =s + ListAll[i][1] + \":\" +  str(ListAll[i][3]) + \" \"\n",
    "                if ListAll[i][1] not in ListWords:\n",
    "                    ListWords.append(ListAll[i][1])\n",
    "                    \n",
    "if s!='':\n",
    "    ListPrintAllVals.append(\"<\" + oldct +\"> \" + (s) + \"\")  \n",
    "s=\"\"      \n",
    "\n",
    "ListWords.sort()\n",
    "separator = \" \"\n",
    "\n",
    "ListPrintAllVals.append(separator.join(map(str, ListWords)))\n",
    "\n",
    "with open('output_rdd.txt', 'w') as filehandle:\n",
    "     for item in ListPrintAllVals:\n",
    "         filehandle.write('%s\\n' % item)\n",
    "        \n"
   ]
  }
 ],
 "metadata": {
  "kernelspec": {
   "display_name": "Python 3 (ipykernel)",
   "language": "python",
   "name": "python3"
  },
  "language_info": {
   "codemirror_mode": {
    "name": "ipython",
    "version": 3
   },
   "file_extension": ".py",
   "mimetype": "text/x-python",
   "name": "python",
   "nbconvert_exporter": "python",
   "pygments_lexer": "ipython3",
   "version": "3.9.7"
  }
 },
 "nbformat": 4,
 "nbformat_minor": 5
}
