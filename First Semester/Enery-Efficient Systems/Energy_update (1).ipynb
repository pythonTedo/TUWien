{
  "cells": [
    {
      "cell_type": "code",
      "execution_count": null,
      "metadata": {
        "colab": {
          "base_uri": "https://localhost:8080/"
        },
        "id": "N7kW9edhzajI",
        "outputId": "e91f6e79-814b-4564-9215-fec09305e9a7"
      },
      "outputs": [
        {
          "name": "stdout",
          "output_type": "stream",
          "text": [
            "Mounted at /content/gdrive\n"
          ]
        }
      ],
      "source": [
        "from google.colab import drive\n",
        "drive.mount('/content/gdrive')\n"
      ]
    },
    {
      "cell_type": "code",
      "execution_count": null,
      "metadata": {
        "id": "k6wULVNvzoDc"
      },
      "outputs": [],
      "source": [
        "import pandas as pd\n",
        "import matplotlib.pyplot as plt\n",
        "import seaborn as sns\n",
        "import numpy as np\n",
        "import tensorflow as tf\n",
        "import random\n",
        "import glob\n",
        "\n",
        "from sklearn.preprocessing import MinMaxScaler\n",
        "from lightgbm import LGBMRegressor\n",
        "from tensorflow.keras.models import Sequential\n",
        "from tensorflow.keras.layers import LSTM, Dropout, Bidirectional, Dense\n",
        "from tensorflow.keras.callbacks import EarlyStopping\n",
        "from tensorflow.keras.optimizers import Adam"
      ]
    },
    {
      "cell_type": "code",
      "execution_count": null,
      "metadata": {
        "id": "vSPMCIHczage"
      },
      "outputs": [],
      "source": [
        "df = pd.read_csv(\"/content/gdrive/MyDrive/ml/reduced_vm.csv\")"
      ]
    },
    {
      "cell_type": "code",
      "execution_count": null,
      "metadata": {
        "id": "7n_-3AlXIx-t"
      },
      "outputs": [],
      "source": [
        "path = \"/content/gdrive/MyDrive/ml/faststore\"\n",
        "all_files = glob.glob(path + \"/*.csv\")\n",
        "\n",
        "li = []\n",
        "\n",
        "for filename in all_files:\n",
        "    df = pd.read_csv(filename, index_col=None, header=0, delimiter=\";\")\n",
        "    #if (len(df[df['\\tCPU cores']])/df.shape[0] < 0.7):\n",
        "    li.append(df)\n",
        "\n",
        "new_df = pd.concat(li, axis=0, ignore_index=True)"
      ]
    },
    {
      "cell_type": "code",
      "execution_count": null,
      "metadata": {
        "id": "TuRzUS-NzaeD"
      },
      "outputs": [],
      "source": [
        "df.drop('Unnamed: 0', axis=1, inplace=True)"
      ]
    },
    {
      "cell_type": "code",
      "execution_count": null,
      "metadata": {
        "colab": {
          "base_uri": "https://localhost:8080/",
          "height": 520
        },
        "id": "xSr7sj6OOQ0i",
        "outputId": "b6f14304-7bbd-4f96-c41e-b808720155f8"
      },
      "outputs": [
        {
          "data": {
            "text/html": [
              "\n",
              "  <div id=\"df-4f863c5d-d2cc-4d06-a315-a4809fe7e22e\">\n",
              "    <div class=\"colab-df-container\">\n",
              "      <div>\n",
              "<style scoped>\n",
              "    .dataframe tbody tr th:only-of-type {\n",
              "        vertical-align: middle;\n",
              "    }\n",
              "\n",
              "    .dataframe tbody tr th {\n",
              "        vertical-align: top;\n",
              "    }\n",
              "\n",
              "    .dataframe thead th {\n",
              "        text-align: right;\n",
              "    }\n",
              "</style>\n",
              "<table border=\"1\" class=\"dataframe\">\n",
              "  <thead>\n",
              "    <tr style=\"text-align: right;\">\n",
              "      <th></th>\n",
              "      <th>Timestamp [ms]</th>\n",
              "      <th>CPU cores</th>\n",
              "      <th>CPU capacity provisioned [MHZ]</th>\n",
              "      <th>CPU usage [MHZ]</th>\n",
              "      <th>CPU usage [%]</th>\n",
              "      <th>Memory capacity provisioned [KB]</th>\n",
              "      <th>Memory usage [KB]</th>\n",
              "      <th>Disk read throughput [KB/s]</th>\n",
              "      <th>Disk write throughput [KB/s]</th>\n",
              "      <th>Network received throughput [KB/s]</th>\n",
              "      <th>Network transmitted throughput [KB/s]</th>\n",
              "    </tr>\n",
              "  </thead>\n",
              "  <tbody>\n",
              "    <tr>\n",
              "      <th>0</th>\n",
              "      <td>1376314846</td>\n",
              "      <td>4</td>\n",
              "      <td>11703.998240</td>\n",
              "      <td>10912.027692</td>\n",
              "      <td>93.233333</td>\n",
              "      <td>67108864.0</td>\n",
              "      <td>6.129274e+06</td>\n",
              "      <td>0.133333</td>\n",
              "      <td>15981.600000</td>\n",
              "      <td>0.000000</td>\n",
              "      <td>2.133333</td>\n",
              "    </tr>\n",
              "    <tr>\n",
              "      <th>1</th>\n",
              "      <td>1376315146</td>\n",
              "      <td>4</td>\n",
              "      <td>11703.998240</td>\n",
              "      <td>10890.570362</td>\n",
              "      <td>93.050000</td>\n",
              "      <td>67108864.0</td>\n",
              "      <td>6.755624e+06</td>\n",
              "      <td>1.333333</td>\n",
              "      <td>19137.333333</td>\n",
              "      <td>0.000000</td>\n",
              "      <td>2.600000</td>\n",
              "    </tr>\n",
              "    <tr>\n",
              "      <th>2</th>\n",
              "      <td>1376315446</td>\n",
              "      <td>4</td>\n",
              "      <td>11703.998240</td>\n",
              "      <td>10434.114431</td>\n",
              "      <td>89.150000</td>\n",
              "      <td>67108864.0</td>\n",
              "      <td>8.947846e+06</td>\n",
              "      <td>2.533333</td>\n",
              "      <td>19974.933333</td>\n",
              "      <td>535.666667</td>\n",
              "      <td>23.933333</td>\n",
              "    </tr>\n",
              "    <tr>\n",
              "      <th>3</th>\n",
              "      <td>1376315746</td>\n",
              "      <td>4</td>\n",
              "      <td>11703.998240</td>\n",
              "      <td>10539.450415</td>\n",
              "      <td>90.050000</td>\n",
              "      <td>67108864.0</td>\n",
              "      <td>1.879048e+07</td>\n",
              "      <td>5.466667</td>\n",
              "      <td>8791.800000</td>\n",
              "      <td>349.666667</td>\n",
              "      <td>5.466667</td>\n",
              "    </tr>\n",
              "    <tr>\n",
              "      <th>4</th>\n",
              "      <td>1376316046</td>\n",
              "      <td>4</td>\n",
              "      <td>11703.998240</td>\n",
              "      <td>10951.041020</td>\n",
              "      <td>93.566667</td>\n",
              "      <td>67108864.0</td>\n",
              "      <td>9.305761e+06</td>\n",
              "      <td>5.400000</td>\n",
              "      <td>15679.533333</td>\n",
              "      <td>0.000000</td>\n",
              "      <td>2.066667</td>\n",
              "    </tr>\n",
              "    <tr>\n",
              "      <th>...</th>\n",
              "      <td>...</td>\n",
              "      <td>...</td>\n",
              "      <td>...</td>\n",
              "      <td>...</td>\n",
              "      <td>...</td>\n",
              "      <td>...</td>\n",
              "      <td>...</td>\n",
              "      <td>...</td>\n",
              "      <td>...</td>\n",
              "      <td>...</td>\n",
              "      <td>...</td>\n",
              "    </tr>\n",
              "    <tr>\n",
              "      <th>9073636</th>\n",
              "      <td>1378905598</td>\n",
              "      <td>4</td>\n",
              "      <td>9599.998716</td>\n",
              "      <td>0.000000</td>\n",
              "      <td>0.000000</td>\n",
              "      <td>522288.0</td>\n",
              "      <td>2.306640e+04</td>\n",
              "      <td>0.000000</td>\n",
              "      <td>0.000000</td>\n",
              "      <td>0.000000</td>\n",
              "      <td>0.000000</td>\n",
              "    </tr>\n",
              "    <tr>\n",
              "      <th>9073637</th>\n",
              "      <td>1378905898</td>\n",
              "      <td>4</td>\n",
              "      <td>9599.998716</td>\n",
              "      <td>0.000000</td>\n",
              "      <td>0.000000</td>\n",
              "      <td>522288.0</td>\n",
              "      <td>2.131893e+04</td>\n",
              "      <td>0.000000</td>\n",
              "      <td>0.000000</td>\n",
              "      <td>0.000000</td>\n",
              "      <td>0.000000</td>\n",
              "    </tr>\n",
              "    <tr>\n",
              "      <th>9073638</th>\n",
              "      <td>1378906198</td>\n",
              "      <td>4</td>\n",
              "      <td>9599.998716</td>\n",
              "      <td>0.000000</td>\n",
              "      <td>0.000000</td>\n",
              "      <td>522288.0</td>\n",
              "      <td>1.502880e+04</td>\n",
              "      <td>0.000000</td>\n",
              "      <td>0.000000</td>\n",
              "      <td>0.000000</td>\n",
              "      <td>0.000000</td>\n",
              "    </tr>\n",
              "    <tr>\n",
              "      <th>9073639</th>\n",
              "      <td>1378906498</td>\n",
              "      <td>4</td>\n",
              "      <td>9599.998716</td>\n",
              "      <td>0.000000</td>\n",
              "      <td>0.000000</td>\n",
              "      <td>522288.0</td>\n",
              "      <td>1.747360e+04</td>\n",
              "      <td>0.000000</td>\n",
              "      <td>0.000000</td>\n",
              "      <td>0.000000</td>\n",
              "      <td>0.000000</td>\n",
              "    </tr>\n",
              "    <tr>\n",
              "      <th>9073640</th>\n",
              "      <td>1378906798</td>\n",
              "      <td>4</td>\n",
              "      <td>9599.998716</td>\n",
              "      <td>0.000000</td>\n",
              "      <td>0.000000</td>\n",
              "      <td>522288.0</td>\n",
              "      <td>2.621227e+04</td>\n",
              "      <td>0.000000</td>\n",
              "      <td>0.333333</td>\n",
              "      <td>0.000000</td>\n",
              "      <td>0.000000</td>\n",
              "    </tr>\n",
              "  </tbody>\n",
              "</table>\n",
              "<p>9073641 rows × 11 columns</p>\n",
              "</div>\n",
              "      <button class=\"colab-df-convert\" onclick=\"convertToInteractive('df-4f863c5d-d2cc-4d06-a315-a4809fe7e22e')\"\n",
              "              title=\"Convert this dataframe to an interactive table.\"\n",
              "              style=\"display:none;\">\n",
              "        \n",
              "  <svg xmlns=\"http://www.w3.org/2000/svg\" height=\"24px\"viewBox=\"0 0 24 24\"\n",
              "       width=\"24px\">\n",
              "    <path d=\"M0 0h24v24H0V0z\" fill=\"none\"/>\n",
              "    <path d=\"M18.56 5.44l.94 2.06.94-2.06 2.06-.94-2.06-.94-.94-2.06-.94 2.06-2.06.94zm-11 1L8.5 8.5l.94-2.06 2.06-.94-2.06-.94L8.5 2.5l-.94 2.06-2.06.94zm10 10l.94 2.06.94-2.06 2.06-.94-2.06-.94-.94-2.06-.94 2.06-2.06.94z\"/><path d=\"M17.41 7.96l-1.37-1.37c-.4-.4-.92-.59-1.43-.59-.52 0-1.04.2-1.43.59L10.3 9.45l-7.72 7.72c-.78.78-.78 2.05 0 2.83L4 21.41c.39.39.9.59 1.41.59.51 0 1.02-.2 1.41-.59l7.78-7.78 2.81-2.81c.8-.78.8-2.07 0-2.86zM5.41 20L4 18.59l7.72-7.72 1.47 1.35L5.41 20z\"/>\n",
              "  </svg>\n",
              "      </button>\n",
              "      \n",
              "  <style>\n",
              "    .colab-df-container {\n",
              "      display:flex;\n",
              "      flex-wrap:wrap;\n",
              "      gap: 12px;\n",
              "    }\n",
              "\n",
              "    .colab-df-convert {\n",
              "      background-color: #E8F0FE;\n",
              "      border: none;\n",
              "      border-radius: 50%;\n",
              "      cursor: pointer;\n",
              "      display: none;\n",
              "      fill: #1967D2;\n",
              "      height: 32px;\n",
              "      padding: 0 0 0 0;\n",
              "      width: 32px;\n",
              "    }\n",
              "\n",
              "    .colab-df-convert:hover {\n",
              "      background-color: #E2EBFA;\n",
              "      box-shadow: 0px 1px 2px rgba(60, 64, 67, 0.3), 0px 1px 3px 1px rgba(60, 64, 67, 0.15);\n",
              "      fill: #174EA6;\n",
              "    }\n",
              "\n",
              "    [theme=dark] .colab-df-convert {\n",
              "      background-color: #3B4455;\n",
              "      fill: #D2E3FC;\n",
              "    }\n",
              "\n",
              "    [theme=dark] .colab-df-convert:hover {\n",
              "      background-color: #434B5C;\n",
              "      box-shadow: 0px 1px 3px 1px rgba(0, 0, 0, 0.15);\n",
              "      filter: drop-shadow(0px 1px 2px rgba(0, 0, 0, 0.3));\n",
              "      fill: #FFFFFF;\n",
              "    }\n",
              "  </style>\n",
              "\n",
              "      <script>\n",
              "        const buttonEl =\n",
              "          document.querySelector('#df-4f863c5d-d2cc-4d06-a315-a4809fe7e22e button.colab-df-convert');\n",
              "        buttonEl.style.display =\n",
              "          google.colab.kernel.accessAllowed ? 'block' : 'none';\n",
              "\n",
              "        async function convertToInteractive(key) {\n",
              "          const element = document.querySelector('#df-4f863c5d-d2cc-4d06-a315-a4809fe7e22e');\n",
              "          const dataTable =\n",
              "            await google.colab.kernel.invokeFunction('convertToInteractive',\n",
              "                                                     [key], {});\n",
              "          if (!dataTable) return;\n",
              "\n",
              "          const docLinkHtml = 'Like what you see? Visit the ' +\n",
              "            '<a target=\"_blank\" href=https://colab.research.google.com/notebooks/data_table.ipynb>data table notebook</a>'\n",
              "            + ' to learn more about interactive tables.';\n",
              "          element.innerHTML = '';\n",
              "          dataTable['output_type'] = 'display_data';\n",
              "          await google.colab.output.renderOutput(dataTable, element);\n",
              "          const docLink = document.createElement('div');\n",
              "          docLink.innerHTML = docLinkHtml;\n",
              "          element.appendChild(docLink);\n",
              "        }\n",
              "      </script>\n",
              "    </div>\n",
              "  </div>\n",
              "  "
            ],
            "text/plain": [
              "         Timestamp [ms]  CPU cores  CPU capacity provisioned [MHZ]  \\\n",
              "0            1376314846          4                    11703.998240   \n",
              "1            1376315146          4                    11703.998240   \n",
              "2            1376315446          4                    11703.998240   \n",
              "3            1376315746          4                    11703.998240   \n",
              "4            1376316046          4                    11703.998240   \n",
              "...                 ...        ...                             ...   \n",
              "9073636      1378905598          4                     9599.998716   \n",
              "9073637      1378905898          4                     9599.998716   \n",
              "9073638      1378906198          4                     9599.998716   \n",
              "9073639      1378906498          4                     9599.998716   \n",
              "9073640      1378906798          4                     9599.998716   \n",
              "\n",
              "         CPU usage [MHZ]  CPU usage [%]  Memory capacity provisioned [KB]  \\\n",
              "0           10912.027692      93.233333                        67108864.0   \n",
              "1           10890.570362      93.050000                        67108864.0   \n",
              "2           10434.114431      89.150000                        67108864.0   \n",
              "3           10539.450415      90.050000                        67108864.0   \n",
              "4           10951.041020      93.566667                        67108864.0   \n",
              "...                  ...            ...                               ...   \n",
              "9073636         0.000000       0.000000                          522288.0   \n",
              "9073637         0.000000       0.000000                          522288.0   \n",
              "9073638         0.000000       0.000000                          522288.0   \n",
              "9073639         0.000000       0.000000                          522288.0   \n",
              "9073640         0.000000       0.000000                          522288.0   \n",
              "\n",
              "         Memory usage [KB]  Disk read throughput [KB/s]  \\\n",
              "0             6.129274e+06                     0.133333   \n",
              "1             6.755624e+06                     1.333333   \n",
              "2             8.947846e+06                     2.533333   \n",
              "3             1.879048e+07                     5.466667   \n",
              "4             9.305761e+06                     5.400000   \n",
              "...                    ...                          ...   \n",
              "9073636       2.306640e+04                     0.000000   \n",
              "9073637       2.131893e+04                     0.000000   \n",
              "9073638       1.502880e+04                     0.000000   \n",
              "9073639       1.747360e+04                     0.000000   \n",
              "9073640       2.621227e+04                     0.000000   \n",
              "\n",
              "         Disk write throughput [KB/s]  Network received throughput [KB/s]  \\\n",
              "0                        15981.600000                            0.000000   \n",
              "1                        19137.333333                            0.000000   \n",
              "2                        19974.933333                          535.666667   \n",
              "3                         8791.800000                          349.666667   \n",
              "4                        15679.533333                            0.000000   \n",
              "...                               ...                                 ...   \n",
              "9073636                      0.000000                            0.000000   \n",
              "9073637                      0.000000                            0.000000   \n",
              "9073638                      0.000000                            0.000000   \n",
              "9073639                      0.000000                            0.000000   \n",
              "9073640                      0.333333                            0.000000   \n",
              "\n",
              "         Network transmitted throughput [KB/s]  \n",
              "0                                     2.133333  \n",
              "1                                     2.600000  \n",
              "2                                    23.933333  \n",
              "3                                     5.466667  \n",
              "4                                     2.066667  \n",
              "...                                        ...  \n",
              "9073636                               0.000000  \n",
              "9073637                               0.000000  \n",
              "9073638                               0.000000  \n",
              "9073639                               0.000000  \n",
              "9073640                               0.000000  \n",
              "\n",
              "[9073641 rows x 11 columns]"
            ]
          },
          "execution_count": 4,
          "metadata": {},
          "output_type": "execute_result"
        }
      ],
      "source": [
        "df"
      ]
    },
    {
      "cell_type": "code",
      "execution_count": null,
      "metadata": {
        "id": "1QEPkOr3zabz"
      },
      "outputs": [],
      "source": [
        "df = df[['Timestamp [ms]', 'CPU usage [MHZ]']] # \"Memory usage [KB]\"\n",
        "df = df.sort_values(\"Timestamp [ms]\")\n",
        "df = df.groupby(\"Timestamp [ms]\").mean()"
      ]
    },
    {
      "cell_type": "code",
      "execution_count": null,
      "metadata": {
        "colab": {
          "base_uri": "https://localhost:8080/",
          "height": 455
        },
        "id": "_V4Z8SX3zxP6",
        "outputId": "0154db24-f807-4201-a747-9c1c702b457b"
      },
      "outputs": [
        {
          "data": {
            "text/html": [
              "\n",
              "  <div id=\"df-08205b54-4240-4527-9c7a-5b8af53d0590\">\n",
              "    <div class=\"colab-df-container\">\n",
              "      <div>\n",
              "<style scoped>\n",
              "    .dataframe tbody tr th:only-of-type {\n",
              "        vertical-align: middle;\n",
              "    }\n",
              "\n",
              "    .dataframe tbody tr th {\n",
              "        vertical-align: top;\n",
              "    }\n",
              "\n",
              "    .dataframe thead th {\n",
              "        text-align: right;\n",
              "    }\n",
              "</style>\n",
              "<table border=\"1\" class=\"dataframe\">\n",
              "  <thead>\n",
              "    <tr style=\"text-align: right;\">\n",
              "      <th></th>\n",
              "      <th>CPU usage [MHZ]</th>\n",
              "    </tr>\n",
              "    <tr>\n",
              "      <th>Timestamp [ms]</th>\n",
              "      <th></th>\n",
              "    </tr>\n",
              "  </thead>\n",
              "  <tbody>\n",
              "    <tr>\n",
              "      <th>1376314846</th>\n",
              "      <td>639.632054</td>\n",
              "    </tr>\n",
              "    <tr>\n",
              "      <th>1376315146</th>\n",
              "      <td>737.429794</td>\n",
              "    </tr>\n",
              "    <tr>\n",
              "      <th>1376315446</th>\n",
              "      <td>690.064562</td>\n",
              "    </tr>\n",
              "    <tr>\n",
              "      <th>1376315746</th>\n",
              "      <td>573.742385</td>\n",
              "    </tr>\n",
              "    <tr>\n",
              "      <th>1376316046</th>\n",
              "      <td>559.744521</td>\n",
              "    </tr>\n",
              "    <tr>\n",
              "      <th>...</th>\n",
              "      <td>...</td>\n",
              "    </tr>\n",
              "    <tr>\n",
              "      <th>1378906198</th>\n",
              "      <td>1185.984316</td>\n",
              "    </tr>\n",
              "    <tr>\n",
              "      <th>1378906421</th>\n",
              "      <td>19.066664</td>\n",
              "    </tr>\n",
              "    <tr>\n",
              "      <th>1378906498</th>\n",
              "      <td>1163.354251</td>\n",
              "    </tr>\n",
              "    <tr>\n",
              "      <th>1378906721</th>\n",
              "      <td>17.333331</td>\n",
              "    </tr>\n",
              "    <tr>\n",
              "      <th>1378906798</th>\n",
              "      <td>1426.295771</td>\n",
              "    </tr>\n",
              "  </tbody>\n",
              "</table>\n",
              "<p>11301 rows × 1 columns</p>\n",
              "</div>\n",
              "      <button class=\"colab-df-convert\" onclick=\"convertToInteractive('df-08205b54-4240-4527-9c7a-5b8af53d0590')\"\n",
              "              title=\"Convert this dataframe to an interactive table.\"\n",
              "              style=\"display:none;\">\n",
              "        \n",
              "  <svg xmlns=\"http://www.w3.org/2000/svg\" height=\"24px\"viewBox=\"0 0 24 24\"\n",
              "       width=\"24px\">\n",
              "    <path d=\"M0 0h24v24H0V0z\" fill=\"none\"/>\n",
              "    <path d=\"M18.56 5.44l.94 2.06.94-2.06 2.06-.94-2.06-.94-.94-2.06-.94 2.06-2.06.94zm-11 1L8.5 8.5l.94-2.06 2.06-.94-2.06-.94L8.5 2.5l-.94 2.06-2.06.94zm10 10l.94 2.06.94-2.06 2.06-.94-2.06-.94-.94-2.06-.94 2.06-2.06.94z\"/><path d=\"M17.41 7.96l-1.37-1.37c-.4-.4-.92-.59-1.43-.59-.52 0-1.04.2-1.43.59L10.3 9.45l-7.72 7.72c-.78.78-.78 2.05 0 2.83L4 21.41c.39.39.9.59 1.41.59.51 0 1.02-.2 1.41-.59l7.78-7.78 2.81-2.81c.8-.78.8-2.07 0-2.86zM5.41 20L4 18.59l7.72-7.72 1.47 1.35L5.41 20z\"/>\n",
              "  </svg>\n",
              "      </button>\n",
              "      \n",
              "  <style>\n",
              "    .colab-df-container {\n",
              "      display:flex;\n",
              "      flex-wrap:wrap;\n",
              "      gap: 12px;\n",
              "    }\n",
              "\n",
              "    .colab-df-convert {\n",
              "      background-color: #E8F0FE;\n",
              "      border: none;\n",
              "      border-radius: 50%;\n",
              "      cursor: pointer;\n",
              "      display: none;\n",
              "      fill: #1967D2;\n",
              "      height: 32px;\n",
              "      padding: 0 0 0 0;\n",
              "      width: 32px;\n",
              "    }\n",
              "\n",
              "    .colab-df-convert:hover {\n",
              "      background-color: #E2EBFA;\n",
              "      box-shadow: 0px 1px 2px rgba(60, 64, 67, 0.3), 0px 1px 3px 1px rgba(60, 64, 67, 0.15);\n",
              "      fill: #174EA6;\n",
              "    }\n",
              "\n",
              "    [theme=dark] .colab-df-convert {\n",
              "      background-color: #3B4455;\n",
              "      fill: #D2E3FC;\n",
              "    }\n",
              "\n",
              "    [theme=dark] .colab-df-convert:hover {\n",
              "      background-color: #434B5C;\n",
              "      box-shadow: 0px 1px 3px 1px rgba(0, 0, 0, 0.15);\n",
              "      filter: drop-shadow(0px 1px 2px rgba(0, 0, 0, 0.3));\n",
              "      fill: #FFFFFF;\n",
              "    }\n",
              "  </style>\n",
              "\n",
              "      <script>\n",
              "        const buttonEl =\n",
              "          document.querySelector('#df-08205b54-4240-4527-9c7a-5b8af53d0590 button.colab-df-convert');\n",
              "        buttonEl.style.display =\n",
              "          google.colab.kernel.accessAllowed ? 'block' : 'none';\n",
              "\n",
              "        async function convertToInteractive(key) {\n",
              "          const element = document.querySelector('#df-08205b54-4240-4527-9c7a-5b8af53d0590');\n",
              "          const dataTable =\n",
              "            await google.colab.kernel.invokeFunction('convertToInteractive',\n",
              "                                                     [key], {});\n",
              "          if (!dataTable) return;\n",
              "\n",
              "          const docLinkHtml = 'Like what you see? Visit the ' +\n",
              "            '<a target=\"_blank\" href=https://colab.research.google.com/notebooks/data_table.ipynb>data table notebook</a>'\n",
              "            + ' to learn more about interactive tables.';\n",
              "          element.innerHTML = '';\n",
              "          dataTable['output_type'] = 'display_data';\n",
              "          await google.colab.output.renderOutput(dataTable, element);\n",
              "          const docLink = document.createElement('div');\n",
              "          docLink.innerHTML = docLinkHtml;\n",
              "          element.appendChild(docLink);\n",
              "        }\n",
              "      </script>\n",
              "    </div>\n",
              "  </div>\n",
              "  "
            ],
            "text/plain": [
              "                CPU usage [MHZ]\n",
              "Timestamp [ms]                 \n",
              "1376314846           639.632054\n",
              "1376315146           737.429794\n",
              "1376315446           690.064562\n",
              "1376315746           573.742385\n",
              "1376316046           559.744521\n",
              "...                         ...\n",
              "1378906198          1185.984316\n",
              "1378906421            19.066664\n",
              "1378906498          1163.354251\n",
              "1378906721            17.333331\n",
              "1378906798          1426.295771\n",
              "\n",
              "[11301 rows x 1 columns]"
            ]
          },
          "execution_count": 6,
          "metadata": {},
          "output_type": "execute_result"
        }
      ],
      "source": [
        "df"
      ]
    },
    {
      "cell_type": "code",
      "execution_count": null,
      "metadata": {
        "id": "Ex_lXbMN0QK3"
      },
      "outputs": [],
      "source": [
        "for i in range(1,50):\n",
        "    df[f\" {i}diff\"] = df[\"CPU usage [MHZ]\"].diff(i)\n",
        "\n",
        "df = df.dropna()"
      ]
    },
    {
      "cell_type": "code",
      "execution_count": null,
      "metadata": {
        "id": "yhtIJNTiKkkR"
      },
      "outputs": [],
      "source": [
        "x = df.drop([\"CPU usage [MHZ]\"], axis=1)\n",
        "y = df['CPU usage [MHZ]']"
      ]
    },
    {
      "cell_type": "code",
      "execution_count": null,
      "metadata": {
        "colab": {
          "base_uri": "https://localhost:8080/",
          "height": 536
        },
        "id": "qmYjeT6EJ3Ml",
        "outputId": "3630d0b2-263e-44ec-bac3-0e4ec2af1ba8"
      },
      "outputs": [
        {
          "data": {
            "text/html": [
              "\n",
              "  <div id=\"df-9b9bc17c-c9eb-4350-a8af-457479e345df\">\n",
              "    <div class=\"colab-df-container\">\n",
              "      <div>\n",
              "<style scoped>\n",
              "    .dataframe tbody tr th:only-of-type {\n",
              "        vertical-align: middle;\n",
              "    }\n",
              "\n",
              "    .dataframe tbody tr th {\n",
              "        vertical-align: top;\n",
              "    }\n",
              "\n",
              "    .dataframe thead th {\n",
              "        text-align: right;\n",
              "    }\n",
              "</style>\n",
              "<table border=\"1\" class=\"dataframe\">\n",
              "  <thead>\n",
              "    <tr style=\"text-align: right;\">\n",
              "      <th></th>\n",
              "      <th>1diff</th>\n",
              "      <th>2diff</th>\n",
              "      <th>3diff</th>\n",
              "      <th>4diff</th>\n",
              "      <th>5diff</th>\n",
              "      <th>6diff</th>\n",
              "      <th>7diff</th>\n",
              "      <th>8diff</th>\n",
              "      <th>9diff</th>\n",
              "      <th>10diff</th>\n",
              "      <th>...</th>\n",
              "      <th>40diff</th>\n",
              "      <th>41diff</th>\n",
              "      <th>42diff</th>\n",
              "      <th>43diff</th>\n",
              "      <th>44diff</th>\n",
              "      <th>45diff</th>\n",
              "      <th>46diff</th>\n",
              "      <th>47diff</th>\n",
              "      <th>48diff</th>\n",
              "      <th>49diff</th>\n",
              "    </tr>\n",
              "    <tr>\n",
              "      <th>Timestamp [ms]</th>\n",
              "      <th></th>\n",
              "      <th></th>\n",
              "      <th></th>\n",
              "      <th></th>\n",
              "      <th></th>\n",
              "      <th></th>\n",
              "      <th></th>\n",
              "      <th></th>\n",
              "      <th></th>\n",
              "      <th></th>\n",
              "      <th></th>\n",
              "      <th></th>\n",
              "      <th></th>\n",
              "      <th></th>\n",
              "      <th></th>\n",
              "      <th></th>\n",
              "      <th></th>\n",
              "      <th></th>\n",
              "      <th></th>\n",
              "      <th></th>\n",
              "      <th></th>\n",
              "    </tr>\n",
              "  </thead>\n",
              "  <tbody>\n",
              "    <tr>\n",
              "      <th>1376329547</th>\n",
              "      <td>91.131040</td>\n",
              "      <td>72.717385</td>\n",
              "      <td>-2.536079</td>\n",
              "      <td>-150.815723</td>\n",
              "      <td>-110.244528</td>\n",
              "      <td>-25.762034</td>\n",
              "      <td>20.166011</td>\n",
              "      <td>13.553034</td>\n",
              "      <td>-21.337377</td>\n",
              "      <td>-162.619161</td>\n",
              "      <td>...</td>\n",
              "      <td>626.068860</td>\n",
              "      <td>712.505879</td>\n",
              "      <td>685.813762</td>\n",
              "      <td>541.570882</td>\n",
              "      <td>587.526170</td>\n",
              "      <td>619.249235</td>\n",
              "      <td>605.251371</td>\n",
              "      <td>488.929195</td>\n",
              "      <td>441.563962</td>\n",
              "      <td>539.361703</td>\n",
              "    </tr>\n",
              "    <tr>\n",
              "      <th>1376329847</th>\n",
              "      <td>36.604529</td>\n",
              "      <td>127.735569</td>\n",
              "      <td>109.321914</td>\n",
              "      <td>34.068450</td>\n",
              "      <td>-114.211194</td>\n",
              "      <td>-73.639998</td>\n",
              "      <td>10.842495</td>\n",
              "      <td>56.770540</td>\n",
              "      <td>50.157563</td>\n",
              "      <td>15.267152</td>\n",
              "      <td>...</td>\n",
              "      <td>661.009239</td>\n",
              "      <td>662.673389</td>\n",
              "      <td>749.110408</td>\n",
              "      <td>722.418291</td>\n",
              "      <td>578.175412</td>\n",
              "      <td>624.130699</td>\n",
              "      <td>655.853765</td>\n",
              "      <td>641.855900</td>\n",
              "      <td>525.533724</td>\n",
              "      <td>478.168491</td>\n",
              "    </tr>\n",
              "    <tr>\n",
              "      <th>1376330147</th>\n",
              "      <td>-2.007063</td>\n",
              "      <td>34.597466</td>\n",
              "      <td>125.728506</td>\n",
              "      <td>107.314851</td>\n",
              "      <td>32.061387</td>\n",
              "      <td>-116.218257</td>\n",
              "      <td>-75.647062</td>\n",
              "      <td>8.835432</td>\n",
              "      <td>54.763477</td>\n",
              "      <td>48.150500</td>\n",
              "      <td>...</td>\n",
              "      <td>735.679796</td>\n",
              "      <td>659.002176</td>\n",
              "      <td>660.666326</td>\n",
              "      <td>747.103345</td>\n",
              "      <td>720.411228</td>\n",
              "      <td>576.168348</td>\n",
              "      <td>622.123636</td>\n",
              "      <td>653.846701</td>\n",
              "      <td>639.848837</td>\n",
              "      <td>523.526661</td>\n",
              "    </tr>\n",
              "    <tr>\n",
              "      <th>1376330447</th>\n",
              "      <td>-29.866328</td>\n",
              "      <td>-31.873392</td>\n",
              "      <td>4.731138</td>\n",
              "      <td>95.862178</td>\n",
              "      <td>77.448523</td>\n",
              "      <td>2.195059</td>\n",
              "      <td>-146.084585</td>\n",
              "      <td>-105.513390</td>\n",
              "      <td>-21.030896</td>\n",
              "      <td>24.897149</td>\n",
              "      <td>...</td>\n",
              "      <td>725.786294</td>\n",
              "      <td>705.813468</td>\n",
              "      <td>629.135848</td>\n",
              "      <td>630.799998</td>\n",
              "      <td>717.237017</td>\n",
              "      <td>690.544900</td>\n",
              "      <td>546.302020</td>\n",
              "      <td>592.257308</td>\n",
              "      <td>623.980373</td>\n",
              "      <td>609.982509</td>\n",
              "    </tr>\n",
              "    <tr>\n",
              "      <th>1376330747</th>\n",
              "      <td>-72.811350</td>\n",
              "      <td>-102.677678</td>\n",
              "      <td>-104.684741</td>\n",
              "      <td>-68.080212</td>\n",
              "      <td>23.050828</td>\n",
              "      <td>4.637173</td>\n",
              "      <td>-70.616291</td>\n",
              "      <td>-218.895935</td>\n",
              "      <td>-178.324739</td>\n",
              "      <td>-93.842246</td>\n",
              "      <td>...</td>\n",
              "      <td>603.715064</td>\n",
              "      <td>652.974944</td>\n",
              "      <td>633.002118</td>\n",
              "      <td>556.324498</td>\n",
              "      <td>557.988648</td>\n",
              "      <td>644.425667</td>\n",
              "      <td>617.733550</td>\n",
              "      <td>473.490670</td>\n",
              "      <td>519.445958</td>\n",
              "      <td>551.169023</td>\n",
              "    </tr>\n",
              "    <tr>\n",
              "      <th>...</th>\n",
              "      <td>...</td>\n",
              "      <td>...</td>\n",
              "      <td>...</td>\n",
              "      <td>...</td>\n",
              "      <td>...</td>\n",
              "      <td>...</td>\n",
              "      <td>...</td>\n",
              "      <td>...</td>\n",
              "      <td>...</td>\n",
              "      <td>...</td>\n",
              "      <td>...</td>\n",
              "      <td>...</td>\n",
              "      <td>...</td>\n",
              "      <td>...</td>\n",
              "      <td>...</td>\n",
              "      <td>...</td>\n",
              "      <td>...</td>\n",
              "      <td>...</td>\n",
              "      <td>...</td>\n",
              "      <td>...</td>\n",
              "      <td>...</td>\n",
              "    </tr>\n",
              "    <tr>\n",
              "      <th>1378906198</th>\n",
              "      <td>1161.717653</td>\n",
              "      <td>-40.470485</td>\n",
              "      <td>1159.984320</td>\n",
              "      <td>-82.440972</td>\n",
              "      <td>1163.450986</td>\n",
              "      <td>-469.776240</td>\n",
              "      <td>1161.717653</td>\n",
              "      <td>-528.402606</td>\n",
              "      <td>1159.984320</td>\n",
              "      <td>-550.373928</td>\n",
              "      <td>...</td>\n",
              "      <td>1159.984320</td>\n",
              "      <td>-316.300619</td>\n",
              "      <td>1159.984320</td>\n",
              "      <td>39.384320</td>\n",
              "      <td>1159.984320</td>\n",
              "      <td>248.826628</td>\n",
              "      <td>1161.717653</td>\n",
              "      <td>251.097319</td>\n",
              "      <td>1159.984320</td>\n",
              "      <td>245.795538</td>\n",
              "    </tr>\n",
              "    <tr>\n",
              "      <th>1378906421</th>\n",
              "      <td>-1166.917653</td>\n",
              "      <td>-5.199999</td>\n",
              "      <td>-1207.388137</td>\n",
              "      <td>-6.933332</td>\n",
              "      <td>-1249.358625</td>\n",
              "      <td>-3.466666</td>\n",
              "      <td>-1636.693893</td>\n",
              "      <td>-5.199999</td>\n",
              "      <td>-1695.320258</td>\n",
              "      <td>-6.933332</td>\n",
              "      <td>...</td>\n",
              "      <td>-1512.046192</td>\n",
              "      <td>-6.933332</td>\n",
              "      <td>-1483.218272</td>\n",
              "      <td>-6.933332</td>\n",
              "      <td>-1127.533332</td>\n",
              "      <td>-6.933332</td>\n",
              "      <td>-918.091025</td>\n",
              "      <td>-5.199999</td>\n",
              "      <td>-915.820334</td>\n",
              "      <td>-6.933332</td>\n",
              "    </tr>\n",
              "    <tr>\n",
              "      <th>1378906498</th>\n",
              "      <td>1144.287587</td>\n",
              "      <td>-22.630065</td>\n",
              "      <td>1139.087588</td>\n",
              "      <td>-63.100550</td>\n",
              "      <td>1137.354255</td>\n",
              "      <td>-105.071038</td>\n",
              "      <td>1140.820921</td>\n",
              "      <td>-492.406305</td>\n",
              "      <td>1139.087588</td>\n",
              "      <td>-551.032671</td>\n",
              "      <td>...</td>\n",
              "      <td>1137.354255</td>\n",
              "      <td>-367.758604</td>\n",
              "      <td>1137.354255</td>\n",
              "      <td>-338.930684</td>\n",
              "      <td>1137.354255</td>\n",
              "      <td>16.754255</td>\n",
              "      <td>1137.354255</td>\n",
              "      <td>226.196563</td>\n",
              "      <td>1139.087588</td>\n",
              "      <td>228.467254</td>\n",
              "    </tr>\n",
              "    <tr>\n",
              "      <th>1378906721</th>\n",
              "      <td>-1146.020921</td>\n",
              "      <td>-1.733333</td>\n",
              "      <td>-1168.650986</td>\n",
              "      <td>-6.933332</td>\n",
              "      <td>-1209.121470</td>\n",
              "      <td>-8.666665</td>\n",
              "      <td>-1251.091958</td>\n",
              "      <td>-5.199999</td>\n",
              "      <td>-1638.427226</td>\n",
              "      <td>-6.933332</td>\n",
              "      <td>...</td>\n",
              "      <td>-1513.961043</td>\n",
              "      <td>-8.666665</td>\n",
              "      <td>-1513.779525</td>\n",
              "      <td>-8.666665</td>\n",
              "      <td>-1484.951605</td>\n",
              "      <td>-8.666665</td>\n",
              "      <td>-1129.266665</td>\n",
              "      <td>-8.666665</td>\n",
              "      <td>-919.824358</td>\n",
              "      <td>-6.933332</td>\n",
              "    </tr>\n",
              "    <tr>\n",
              "      <th>1378906798</th>\n",
              "      <td>1408.962440</td>\n",
              "      <td>262.941520</td>\n",
              "      <td>1407.229107</td>\n",
              "      <td>240.311455</td>\n",
              "      <td>1402.029108</td>\n",
              "      <td>199.840970</td>\n",
              "      <td>1400.295775</td>\n",
              "      <td>157.870482</td>\n",
              "      <td>1403.762441</td>\n",
              "      <td>-229.464786</td>\n",
              "      <td>...</td>\n",
              "      <td>1402.029108</td>\n",
              "      <td>-104.998603</td>\n",
              "      <td>1400.295775</td>\n",
              "      <td>-104.817085</td>\n",
              "      <td>1400.295775</td>\n",
              "      <td>-75.989165</td>\n",
              "      <td>1400.295775</td>\n",
              "      <td>279.695775</td>\n",
              "      <td>1400.295775</td>\n",
              "      <td>489.138082</td>\n",
              "    </tr>\n",
              "  </tbody>\n",
              "</table>\n",
              "<p>11252 rows × 49 columns</p>\n",
              "</div>\n",
              "      <button class=\"colab-df-convert\" onclick=\"convertToInteractive('df-9b9bc17c-c9eb-4350-a8af-457479e345df')\"\n",
              "              title=\"Convert this dataframe to an interactive table.\"\n",
              "              style=\"display:none;\">\n",
              "        \n",
              "  <svg xmlns=\"http://www.w3.org/2000/svg\" height=\"24px\"viewBox=\"0 0 24 24\"\n",
              "       width=\"24px\">\n",
              "    <path d=\"M0 0h24v24H0V0z\" fill=\"none\"/>\n",
              "    <path d=\"M18.56 5.44l.94 2.06.94-2.06 2.06-.94-2.06-.94-.94-2.06-.94 2.06-2.06.94zm-11 1L8.5 8.5l.94-2.06 2.06-.94-2.06-.94L8.5 2.5l-.94 2.06-2.06.94zm10 10l.94 2.06.94-2.06 2.06-.94-2.06-.94-.94-2.06-.94 2.06-2.06.94z\"/><path d=\"M17.41 7.96l-1.37-1.37c-.4-.4-.92-.59-1.43-.59-.52 0-1.04.2-1.43.59L10.3 9.45l-7.72 7.72c-.78.78-.78 2.05 0 2.83L4 21.41c.39.39.9.59 1.41.59.51 0 1.02-.2 1.41-.59l7.78-7.78 2.81-2.81c.8-.78.8-2.07 0-2.86zM5.41 20L4 18.59l7.72-7.72 1.47 1.35L5.41 20z\"/>\n",
              "  </svg>\n",
              "      </button>\n",
              "      \n",
              "  <style>\n",
              "    .colab-df-container {\n",
              "      display:flex;\n",
              "      flex-wrap:wrap;\n",
              "      gap: 12px;\n",
              "    }\n",
              "\n",
              "    .colab-df-convert {\n",
              "      background-color: #E8F0FE;\n",
              "      border: none;\n",
              "      border-radius: 50%;\n",
              "      cursor: pointer;\n",
              "      display: none;\n",
              "      fill: #1967D2;\n",
              "      height: 32px;\n",
              "      padding: 0 0 0 0;\n",
              "      width: 32px;\n",
              "    }\n",
              "\n",
              "    .colab-df-convert:hover {\n",
              "      background-color: #E2EBFA;\n",
              "      box-shadow: 0px 1px 2px rgba(60, 64, 67, 0.3), 0px 1px 3px 1px rgba(60, 64, 67, 0.15);\n",
              "      fill: #174EA6;\n",
              "    }\n",
              "\n",
              "    [theme=dark] .colab-df-convert {\n",
              "      background-color: #3B4455;\n",
              "      fill: #D2E3FC;\n",
              "    }\n",
              "\n",
              "    [theme=dark] .colab-df-convert:hover {\n",
              "      background-color: #434B5C;\n",
              "      box-shadow: 0px 1px 3px 1px rgba(0, 0, 0, 0.15);\n",
              "      filter: drop-shadow(0px 1px 2px rgba(0, 0, 0, 0.3));\n",
              "      fill: #FFFFFF;\n",
              "    }\n",
              "  </style>\n",
              "\n",
              "      <script>\n",
              "        const buttonEl =\n",
              "          document.querySelector('#df-9b9bc17c-c9eb-4350-a8af-457479e345df button.colab-df-convert');\n",
              "        buttonEl.style.display =\n",
              "          google.colab.kernel.accessAllowed ? 'block' : 'none';\n",
              "\n",
              "        async function convertToInteractive(key) {\n",
              "          const element = document.querySelector('#df-9b9bc17c-c9eb-4350-a8af-457479e345df');\n",
              "          const dataTable =\n",
              "            await google.colab.kernel.invokeFunction('convertToInteractive',\n",
              "                                                     [key], {});\n",
              "          if (!dataTable) return;\n",
              "\n",
              "          const docLinkHtml = 'Like what you see? Visit the ' +\n",
              "            '<a target=\"_blank\" href=https://colab.research.google.com/notebooks/data_table.ipynb>data table notebook</a>'\n",
              "            + ' to learn more about interactive tables.';\n",
              "          element.innerHTML = '';\n",
              "          dataTable['output_type'] = 'display_data';\n",
              "          await google.colab.output.renderOutput(dataTable, element);\n",
              "          const docLink = document.createElement('div');\n",
              "          docLink.innerHTML = docLinkHtml;\n",
              "          element.appendChild(docLink);\n",
              "        }\n",
              "      </script>\n",
              "    </div>\n",
              "  </div>\n",
              "  "
            ],
            "text/plain": [
              "                      1diff       2diff        3diff       4diff        5diff  \\\n",
              "Timestamp [ms]                                                                  \n",
              "1376329547        91.131040   72.717385    -2.536079 -150.815723  -110.244528   \n",
              "1376329847        36.604529  127.735569   109.321914   34.068450  -114.211194   \n",
              "1376330147        -2.007063   34.597466   125.728506  107.314851    32.061387   \n",
              "1376330447       -29.866328  -31.873392     4.731138   95.862178    77.448523   \n",
              "1376330747       -72.811350 -102.677678  -104.684741  -68.080212    23.050828   \n",
              "...                     ...         ...          ...         ...          ...   \n",
              "1378906198      1161.717653  -40.470485  1159.984320  -82.440972  1163.450986   \n",
              "1378906421     -1166.917653   -5.199999 -1207.388137   -6.933332 -1249.358625   \n",
              "1378906498      1144.287587  -22.630065  1139.087588  -63.100550  1137.354255   \n",
              "1378906721     -1146.020921   -1.733333 -1168.650986   -6.933332 -1209.121470   \n",
              "1378906798      1408.962440  262.941520  1407.229107  240.311455  1402.029108   \n",
              "\n",
              "                     6diff        7diff       8diff        9diff      10diff  \\\n",
              "Timestamp [ms]                                                                 \n",
              "1376329547      -25.762034    20.166011   13.553034   -21.337377 -162.619161   \n",
              "1376329847      -73.639998    10.842495   56.770540    50.157563   15.267152   \n",
              "1376330147     -116.218257   -75.647062    8.835432    54.763477   48.150500   \n",
              "1376330447        2.195059  -146.084585 -105.513390   -21.030896   24.897149   \n",
              "1376330747        4.637173   -70.616291 -218.895935  -178.324739  -93.842246   \n",
              "...                    ...          ...         ...          ...         ...   \n",
              "1378906198     -469.776240  1161.717653 -528.402606  1159.984320 -550.373928   \n",
              "1378906421       -3.466666 -1636.693893   -5.199999 -1695.320258   -6.933332   \n",
              "1378906498     -105.071038  1140.820921 -492.406305  1139.087588 -551.032671   \n",
              "1378906721       -8.666665 -1251.091958   -5.199999 -1638.427226   -6.933332   \n",
              "1378906798      199.840970  1400.295775  157.870482  1403.762441 -229.464786   \n",
              "\n",
              "                ...       40diff      41diff       42diff      43diff  \\\n",
              "Timestamp [ms]  ...                                                     \n",
              "1376329547      ...   626.068860  712.505879   685.813762  541.570882   \n",
              "1376329847      ...   661.009239  662.673389   749.110408  722.418291   \n",
              "1376330147      ...   735.679796  659.002176   660.666326  747.103345   \n",
              "1376330447      ...   725.786294  705.813468   629.135848  630.799998   \n",
              "1376330747      ...   603.715064  652.974944   633.002118  556.324498   \n",
              "...             ...          ...         ...          ...         ...   \n",
              "1378906198      ...  1159.984320 -316.300619  1159.984320   39.384320   \n",
              "1378906421      ... -1512.046192   -6.933332 -1483.218272   -6.933332   \n",
              "1378906498      ...  1137.354255 -367.758604  1137.354255 -338.930684   \n",
              "1378906721      ... -1513.961043   -8.666665 -1513.779525   -8.666665   \n",
              "1378906798      ...  1402.029108 -104.998603  1400.295775 -104.817085   \n",
              "\n",
              "                     44diff      45diff       46diff      47diff       48diff  \\\n",
              "Timestamp [ms]                                                                  \n",
              "1376329547       587.526170  619.249235   605.251371  488.929195   441.563962   \n",
              "1376329847       578.175412  624.130699   655.853765  641.855900   525.533724   \n",
              "1376330147       720.411228  576.168348   622.123636  653.846701   639.848837   \n",
              "1376330447       717.237017  690.544900   546.302020  592.257308   623.980373   \n",
              "1376330747       557.988648  644.425667   617.733550  473.490670   519.445958   \n",
              "...                     ...         ...          ...         ...          ...   \n",
              "1378906198      1159.984320  248.826628  1161.717653  251.097319  1159.984320   \n",
              "1378906421     -1127.533332   -6.933332  -918.091025   -5.199999  -915.820334   \n",
              "1378906498      1137.354255   16.754255  1137.354255  226.196563  1139.087588   \n",
              "1378906721     -1484.951605   -8.666665 -1129.266665   -8.666665  -919.824358   \n",
              "1378906798      1400.295775  -75.989165  1400.295775  279.695775  1400.295775   \n",
              "\n",
              "                    49diff  \n",
              "Timestamp [ms]              \n",
              "1376329547      539.361703  \n",
              "1376329847      478.168491  \n",
              "1376330147      523.526661  \n",
              "1376330447      609.982509  \n",
              "1376330747      551.169023  \n",
              "...                    ...  \n",
              "1378906198      245.795538  \n",
              "1378906421       -6.933332  \n",
              "1378906498      228.467254  \n",
              "1378906721       -6.933332  \n",
              "1378906798      489.138082  \n",
              "\n",
              "[11252 rows x 49 columns]"
            ]
          },
          "execution_count": 9,
          "metadata": {},
          "output_type": "execute_result"
        }
      ],
      "source": [
        "x"
      ]
    },
    {
      "cell_type": "code",
      "execution_count": null,
      "metadata": {
        "id": "4xuobvNszxNK"
      },
      "outputs": [],
      "source": [
        "scaler = MinMaxScaler()\n",
        "x = scaler.fit_transform(x)\n",
        "#df_scaled = pd.DataFrame(transformed, columns=df.columns)"
      ]
    },
    {
      "cell_type": "code",
      "execution_count": null,
      "metadata": {
        "id": "Nh2frZ2x0QIb"
      },
      "outputs": [],
      "source": [
        "train = x[:(int(x.shape[0] * 0.9))]\n",
        "test = x[-(int(x.shape[0] * 0.1)):]\n",
        "\n",
        "y_train = y.head(int(y.shape[0] * 0.9))\n",
        "y_test = y.tail(int(y.shape[0] * 0.1))"
      ]
    },
    {
      "cell_type": "code",
      "execution_count": null,
      "metadata": {
        "colab": {
          "base_uri": "https://localhost:8080/"
        },
        "id": "bP2K75Y4LIsJ",
        "outputId": "d625535d-04cf-47c1-f4f0-df15df2feda4"
      },
      "outputs": [
        {
          "data": {
            "text/plain": [
              "((10126, 49), (10126,), (1125, 49), (1125,))"
            ]
          },
          "execution_count": 12,
          "metadata": {},
          "output_type": "execute_result"
        }
      ],
      "source": [
        "train.shape, y_train.shape, test.shape, y_test.shape"
      ]
    },
    {
      "cell_type": "code",
      "execution_count": null,
      "metadata": {
        "id": "JPZZij8Q0QGQ"
      },
      "outputs": [],
      "source": [
        "def create_dataset(X, y, time_steps=1):\n",
        "    Xs, ys = [], []\n",
        "    for i in range(len(X) - time_steps):\n",
        "        v = X.iloc[i:(i + time_steps)].values\n",
        "        Xs.append(v)\n",
        "        ys.append(y.iloc[i + time_steps])\n",
        "    return np.array(Xs), np.array(ys)"
      ]
    },
    {
      "cell_type": "code",
      "execution_count": null,
      "metadata": {
        "id": "OUQpXx-l0QD1"
      },
      "outputs": [],
      "source": [
        "time_steps = 1000 # 300ms * 1000 timesteps = 5 mins"
      ]
    },
    {
      "cell_type": "code",
      "execution_count": null,
      "metadata": {
        "colab": {
          "base_uri": "https://localhost:8080/"
        },
        "id": "xcevQeK00QBX",
        "outputId": "1de6a1a6-51fd-44e0-acbd-bad7cc8831b9"
      },
      "outputs": [
        {
          "data": {
            "text/plain": [
              "((9126, 1000, 49), (125, 1000, 49))"
            ]
          },
          "execution_count": 15,
          "metadata": {},
          "output_type": "execute_result"
        }
      ],
      "source": [
        "X_train, y_train = create_dataset(pd.DataFrame(train), y_train, time_steps)\n",
        "X_test, y_test = create_dataset(pd.DataFrame(test), y_test, time_steps)\n",
        "\n",
        "X_train.shape, X_test.shape"
      ]
    },
    {
      "cell_type": "code",
      "execution_count": null,
      "metadata": {
        "id": "ILOHPR7c0P_L"
      },
      "outputs": [],
      "source": [
        "model1 = Sequential()\n",
        "model1.add(Bidirectional(LSTM(units=120, return_sequences=True, input_shape=(X_train.shape[1], X_train.shape[2]))))\n",
        "model1.add(Bidirectional(LSTM(units=120)))\n",
        "model1.add(Dropout(0.2))\n",
        "model1.add(Dense(units=1))\n",
        "model1.compile(loss='mean_squared_error', optimizer=Adam(0.01))"
      ]
    },
    {
      "cell_type": "code",
      "execution_count": null,
      "metadata": {
        "id": "LkyncqDNzxKf"
      },
      "outputs": [],
      "source": [
        "callback = tf.keras.callbacks.EarlyStopping(monitor='val_loss', patience=8)"
      ]
    },
    {
      "cell_type": "code",
      "execution_count": null,
      "metadata": {
        "colab": {
          "background_save": true,
          "base_uri": "https://localhost:8080/"
        },
        "id": "179MqT180f2A",
        "outputId": "ffdb0cd9-e923-4ce2-fea1-7899b05dd053"
      },
      "outputs": [
        {
          "name": "stdout",
          "output_type": "stream",
          "text": [
            "Epoch 1/40\n",
            "129/129 [==============================] - 39s 216ms/step - loss: 996362.5625 - val_loss: 263325.0312\n",
            "Epoch 2/40\n",
            "129/129 [==============================] - 25s 196ms/step - loss: 748323.2500 - val_loss: 222313.6875\n",
            "Epoch 3/40\n",
            "129/129 [==============================] - 26s 199ms/step - loss: 602777.2500 - val_loss: 233648.6875\n",
            "Epoch 4/40\n",
            "129/129 [==============================] - 26s 198ms/step - loss: 525714.8750 - val_loss: 265500.8125\n",
            "Epoch 5/40\n",
            "129/129 [==============================] - 26s 201ms/step - loss: 487890.6875 - val_loss: 299503.2188\n",
            "Epoch 6/40\n",
            "129/129 [==============================] - 26s 200ms/step - loss: 469668.5625 - val_loss: 327824.9688\n",
            "Epoch 7/40\n",
            "129/129 [==============================] - 26s 198ms/step - loss: 461160.6562 - val_loss: 348540.5000\n",
            "Epoch 8/40\n",
            "129/129 [==============================] - 26s 200ms/step - loss: 457122.6562 - val_loss: 362635.2500\n",
            "Epoch 9/40\n",
            "129/129 [==============================] - 26s 200ms/step - loss: 455589.0625 - val_loss: 371469.0312\n",
            "Epoch 10/40\n",
            "129/129 [==============================] - 26s 204ms/step - loss: 455243.9688 - val_loss: 377021.3125\n"
          ]
        }
      ],
      "source": [
        "history1 = model1.fit(\n",
        "    X_train, y_train,\n",
        "    epochs=40,\n",
        "    batch_size=64,\n",
        "    validation_split=0.1,\n",
        "    shuffle=False,\n",
        "    callbacks=[callback],\n",
        ")"
      ]
    },
    {
      "cell_type": "code",
      "execution_count": null,
      "metadata": {
        "colab": {
          "base_uri": "https://localhost:8080/",
          "height": 283
        },
        "id": "vBOvYEL8O_YM",
        "outputId": "df435619-1407-4625-f59e-434846ed86eb"
      },
      "outputs": [
        {
          "data": {
            "text/plain": [
              "[<matplotlib.lines.Line2D at 0x7f8edcd08190>]"
            ]
          },
          "execution_count": 79,
          "metadata": {},
          "output_type": "execute_result"
        },
        {
          "data": {
            "image/png": "[encoded data removed]",
            "text/plain": [
              "<Figure size 432x288 with 1 Axes>"
            ]
          },
          "metadata": {},
          "output_type": "display_data"
        }
      ],
      "source": [
        "plt.plot(y_test)"
      ]
    },
    {
      "cell_type": "code",
      "execution_count": null,
      "metadata": {
        "colab": {
          "base_uri": "https://localhost:8080/",
          "height": 621
        },
        "id": "WUyVQQKM0fz5",
        "outputId": "7394a5d2-12ad-417f-cd5f-5cc645ced40e"
      },
      "outputs": [
        {
          "data": {
            "image/png": "[encoded data removed]",
            "text/plain": [
              "<Figure size 864x720 with 1 Axes>"
            ]
          },
          "metadata": {},
          "output_type": "display_data"
        }
      ],
      "source": [
        "plt.figure(figsize =  (12,10))\n",
        "# summarize history for accuracy\n",
        "plt.plot(history1.history['loss'])\n",
        "plt.plot(history1.history['val_loss'])\n",
        "plt.ylabel('loss')\n",
        "plt.xlabel('epoch')\n",
        "plt.title('model loss')\n",
        "plt.legend(['train', 'test'], loc='upper left')\n",
        "plt.show()"
      ]
    },
    {
      "cell_type": "code",
      "execution_count": null,
      "metadata": {
        "id": "nnNKlPXx2Qmf"
      },
      "outputs": [],
      "source": [
        "tf_predict = model1.predict(X_test)"
      ]
    },
    {
      "cell_type": "code",
      "execution_count": null,
      "metadata": {
        "colab": {
          "base_uri": "https://localhost:8080/",
          "height": 610
        },
        "id": "jLTV_tXk2QkP",
        "outputId": "9a0b08ac-0940-482e-81bf-eced29daa1ba"
      },
      "outputs": [
        {
          "data": {
            "text/plain": [
              "<matplotlib.legend.Legend at 0x7f8ecf21a550>"
            ]
          },
          "execution_count": 81,
          "metadata": {},
          "output_type": "execute_result"
        },
        {
          "data": {
            "image/png": "[encoded data removed]",
            "text/plain": [
              "<Figure size 864x720 with 1 Axes>"
            ]
          },
          "metadata": {},
          "output_type": "display_data"
        }
      ],
      "source": [
        "plt.figure(figsize=(12,10))\n",
        "plt.plot(tf_predict)\n",
        "plt.plot(y_test, alpha=0.6)\n",
        "plt.legend([\"predicted value\", \"true value\"])"
      ]
    },
    {
      "cell_type": "code",
      "execution_count": null,
      "metadata": {
        "id": "kl6wkUmwQkN2"
      },
      "outputs": [],
      "source": [
        "from lightgbm import LGBMRegressor"
      ]
    },
    {
      "cell_type": "code",
      "execution_count": null,
      "metadata": {
        "id": "k0Cepqhc24CK"
      },
      "outputs": [],
      "source": [
        "lgbm = LGBMRegressor()"
      ]
    },
    {
      "cell_type": "code",
      "execution_count": null,
      "metadata": {
        "colab": {
          "base_uri": "https://localhost:8080/"
        },
        "id": "_XiIVzxFQnND",
        "outputId": "fb93ba79-6918-4662-b453-d08e7b4a96a0"
      },
      "outputs": [
        {
          "data": {
            "text/plain": [
              "LGBMRegressor()"
            ]
          },
          "execution_count": 92,
          "metadata": {},
          "output_type": "execute_result"
        }
      ],
      "source": [
        "lgbm.fit(train, y_train)"
      ]
    },
    {
      "cell_type": "code",
      "execution_count": null,
      "metadata": {
        "id": "C5RUfnLJQnKy"
      },
      "outputs": [],
      "source": [
        "preds = lgbm.predict(test)"
      ]
    },
    {
      "cell_type": "code",
      "execution_count": null,
      "metadata": {
        "colab": {
          "base_uri": "https://localhost:8080/",
          "height": 623
        },
        "id": "6LzTQnE3QnIa",
        "outputId": "83f0e414-8f74-4bfe-84c5-b1d28421a566"
      },
      "outputs": [
        {
          "data": {
            "text/plain": [
              "<matplotlib.legend.Legend at 0x7f8edcd17850>"
            ]
          },
          "execution_count": 94,
          "metadata": {},
          "output_type": "execute_result"
        },
        {
          "data": {
            "image/png": "[encoded data removed]",
            "text/plain": [
              "<Figure size 864x720 with 1 Axes>"
            ]
          },
          "metadata": {},
          "output_type": "display_data"
        }
      ],
      "source": [
        "plt.figure(figsize=(12,10))\n",
        "plt.plot(preds)\n",
        "plt.plot(y_test, alpha=0.6)\n",
        "plt.legend([\"predicted value\", \"true value\"])"
      ]
    },
    {
      "cell_type": "code",
      "execution_count": null,
      "metadata": {
        "id": "18x7pJh5QnGL"
      },
      "outputs": [],
      "source": []
    },
    {
      "cell_type": "code",
      "execution_count": null,
      "metadata": {
        "id": "3hfh6-POQnD8"
      },
      "outputs": [],
      "source": []
    },
    {
      "cell_type": "code",
      "execution_count": null,
      "metadata": {
        "id": "v2hIVw0j2Qhq"
      },
      "outputs": [],
      "source": [
        "pm1 = {\n",
        "    \"num_cores\": 8,\n",
        "    \"cpu_freq\": 2266,\n",
        "    \"power_consume\": [260, 380, 436, 474, 509, 546, 587, 629, 669, 710, 748]\n",
        "}\n",
        "\n",
        "pm2 = {\n",
        "    \"num_cores\": 12,\n",
        "    \"cpu_freq\": 2933,\n",
        "    \"power_consume\": [204, 315, 340, 361, 387, 419, 457, 494, 530, 562, 596]\n",
        "}\n",
        "\n",
        "pm3 = {\n",
        "    \"num_cores\": 12,\n",
        "    \"cpu_freq\": 2933,\n",
        "    \"power_consume\": [62.3, 105, 119, 130, 142, 153, 164, 181, 200, 220, 244]\n",
        "}\n",
        "\n",
        "pm4 = {\n",
        "    \"num_cores\": 8,\n",
        "    \"cpu_freq\": 2200,\n",
        "    \"power_consume\": [53.8, 77.1, 87.4, 98,4, 112, 122, 140, 160, 177, 199, 230]\n",
        "}\n",
        "\n",
        "pm5 = {\n",
        "    \"num_cores\": 8,\n",
        "    \"cpu_freq\": 2400,\n",
        "    \"power_consume\": [94.6, 144, 164, 183, 200, 220, 244, 273, 315, 364, 402]\n",
        "}\n",
        "\n",
        "\n",
        "pc_types = [pm1, pm2, pm3, pm4, pm5]"
      ]
    },
    {
      "cell_type": "code",
      "execution_count": null,
      "metadata": {
        "id": "nprRIS4h2Qfk"
      },
      "outputs": [],
      "source": [
        "def power_consume_range(ar):\n",
        "  li = []\n",
        "  for v, pos in enumerate(ar):\n",
        "\n",
        "    li.append(pos)\n",
        "    if pos != ar[-1]:\n",
        "      value = (ar[v+1]- pos) / 10\n",
        "      next_value = pos\n",
        "\n",
        "      for i in range(9):\n",
        "        next_value += value\n",
        "        li.append(next_value)\n",
        "\n",
        "  return(li)\n",
        ""
      ]
    },
    {
      "cell_type": "code",
      "execution_count": null,
      "metadata": {
        "id": "0Xfc62YE0fxw"
      },
      "outputs": [],
      "source": [
        "class PM:\n",
        "  def __init__(self, num_cores, cpu_freq, power_consume):\n",
        "    self.num_cores = num_cores\n",
        "    self.cpu_freq = cpu_freq\n",
        "    self.cpu_capacity = self.num_cores * self.cpu_freq\n",
        "    self.rest_capacity = self.cpu_capacity\n",
        "    self.power_consume = power_consume\n",
        "    self.target_load = 0\n",
        "    self.power_consumtion = 0\n",
        "\n",
        "  def calculate_cpacity(self, inbound_capacity_provisioning):\n",
        "    if (self.rest_capacity > inbound_capacity_provisioning):\n",
        "      self.rest_capacity -= inbound_capacity_provisioning\n",
        "      self.target_load = 100 - ((self.rest_capacity/self.cpu_capacity) * 100)\n",
        "      self.power_consumtion += self.power_consume[round(self.target_load)]\n",
        "\n",
        "      dictionary = {\n",
        "        \"message\": \"VM added\",\n",
        "        \"Rest Capacity\": self.rest_capacity,\n",
        "        \"Power Consumption\": self.power_consumtion\n",
        "      }\n",
        "      return dictionary\n",
        "\n",
        "    else:\n",
        "\n",
        "      dictionary = {\n",
        "        \"message\": \"No available space\",\n",
        "        \"Rest Capacity\": self.rest_capacity\n",
        "      }\n",
        "      return dictionary"
      ]
    },
    {
      "cell_type": "code",
      "execution_count": null,
      "metadata": {
        "id": "o8vU28piIe7U"
      },
      "outputs": [],
      "source": [
        "datacenter = []"
      ]
    },
    {
      "cell_type": "code",
      "execution_count": null,
      "metadata": {
        "id": "Kl3cj2tMHwn0"
      },
      "outputs": [],
      "source": [
        "for pc in pc_types:\n",
        "  for i in range(20):\n",
        "    datacenter.append(PM(num_cores=pc['num_cores'], cpu_freq=pc['cpu_freq'], power_consume=power_consume_range(pc['power_consume'])))"
      ]
    },
    {
      "cell_type": "code",
      "execution_count": null,
      "metadata": {
        "id": "g0Vw9gJx0fvc"
      },
      "outputs": [],
      "source": [
        "# 1000 = 5mins\n",
        "# 3600000 = 1hour\n",
        "\n",
        "class VM:\n",
        "  ts = 1000\n",
        "  def __init__(self, num_cores, CPU_provisioned, CPU_usage, time_of_start):\n",
        "    self.num_cores = num_cores\n",
        "    self.CPU_provisioned = CPU_provisioned\n",
        "    self.CPU_usage = CPU_usage\n",
        "    self.time_of_start = time_of_start\n",
        "    self.current_time = self.time_of_start\n",
        "    self.time_passed = []\n",
        "\n",
        "  def work(self):\n",
        "    my_values = []\n",
        "    for i in range(1000):\n",
        "      my_values.append(random.choice(self.CPU_usage))\n",
        "\n",
        "    work_history = {\n",
        "        \"time_stamp\": self.current_time + self.ts, # for every 5min\n",
        "        \"cpu_usage\": my_values\n",
        "    }\n",
        "\n",
        "    self.time_passed.append(work_history)\n",
        ""
      ]
    },
    {
      "cell_type": "code",
      "execution_count": null,
      "metadata": {
        "id": "lEcy1mzgkyf9"
      },
      "outputs": [],
      "source": [
        "# Initializing the timespams of the VMs\n",
        "\n",
        "nums = [1, 10, 100, 1000, ]\n",
        "for i in range(1001, 1023):\n",
        "  nums.append(i)\n",
        "\n",
        "#288000 24 hours in the array\n",
        "times = [0,]\n",
        "value = 0\n",
        "for i in range(288):\n",
        "  value += 1000\n",
        "\n",
        "  times.append(value)"
      ]
    },
    {
      "cell_type": "code",
      "execution_count": null,
      "metadata": {
        "colab": {
          "base_uri": "https://localhost:8080/"
        },
        "id": "8vZtkrznjNQ8",
        "outputId": "ccbc055c-139c-4cb0-bec6-0c2a1295b15d"
      },
      "outputs": [
        {
          "name": "stderr",
          "output_type": "stream",
          "text": [
            "/usr/local/lib/python3.7/dist-packages/pandas/util/_decorators.py:311: ParserWarning: Falling back to the 'python' engine because the 'c' engine does not support regex separators (separators > 1 char and different from '\\s+' are interpreted as regex); you can avoid this warning by specifying engine='python'.\n",
            "  return func(*args, **kwargs)\n"
          ]
        }
      ],
      "source": [
        "vms = []\n",
        "choice = random.choice(nums)\n",
        "counter = 0\n",
        "while counter < 500:\n",
        "  data = pd.read_csv(f\"/content/gdrive/MyDrive/ml/faststore/{choice}.csv\", delimiter=\";\\t\")\n",
        "  if data[\"CPU cores\"].unique()[0] > 0:\n",
        "    vm = VM(num_cores=data[\"CPU cores\"].unique()[0], CPU_provisioned=data[\"CPU capacity provisioned [MHZ]\"].unique()[0], CPU_usage=data[\"CPU usage [MHZ]\"].unique(),\n",
        "            time_of_start=random.choice(times))\n",
        "    counter += 1\n",
        "\n",
        "    vms.append(vm)"
      ]
    },
    {
      "cell_type": "code",
      "execution_count": null,
      "metadata": {
        "id": "pqrDaSPkysvU"
      },
      "outputs": [],
      "source": [
        "demo_vm = vms[0]"
      ]
    },
    {
      "cell_type": "code",
      "execution_count": null,
      "metadata": {
        "id": "c_SS1bUNnRUd"
      },
      "outputs": [],
      "source": [
        "demo_vm.work()"
      ]
    },
    {
      "cell_type": "code",
      "execution_count": null,
      "metadata": {
        "colab": {
          "base_uri": "https://localhost:8080/",
          "height": 287
        },
        "id": "cryJfYoHtFsc",
        "outputId": "59799a64-db83-44dc-93b0-5cafc84a7b6b"
      },
      "outputs": [
        {
          "data": {
            "text/plain": [
              "[<matplotlib.lines.Line2D at 0x7f8edd35db90>]"
            ]
          },
          "execution_count": 198,
          "metadata": {},
          "output_type": "execute_result"
        },
        {
          "data": {
            "image/png": "[encoded data removed]",
            "text/plain": [
              "<Figure size 432x288 with 1 Axes>"
            ]
          },
          "metadata": {},
          "output_type": "display_data"
        }
      ],
      "source": [
        "plt.plot(demo_vm.time_passed[0]['cpu_usage'])"
      ]
    },
    {
      "cell_type": "code",
      "execution_count": null,
      "metadata": {
        "id": "UvhI-wLrtFqO"
      },
      "outputs": [],
      "source": [
        "129000"
      ]
    },
    {
      "cell_type": "code",
      "execution_count": null,
      "metadata": {
        "colab": {
          "base_uri": "https://localhost:8080/",
          "height": 207
        },
        "id": "rYysRMILtFni",
        "outputId": "9332e3b4-cf57-43e2-a7dc-1b9f2e935320"
      },
      "outputs": [
        {
          "ename": "TypeError",
          "evalue": "ignored",
          "output_type": "error",
          "traceback": [
            "\u001b[0;31m---------------------------------------------------------------------------\u001b[0m",
            "\u001b[0;31mTypeError\u001b[0m                                 Traceback (most recent call last)",
            "\u001b[0;32m<ipython-input-186-a50fce42670b>\u001b[0m in \u001b[0;36m<module>\u001b[0;34m()\u001b[0m\n\u001b[1;32m      1\u001b[0m \u001b[0mbv\u001b[0m \u001b[0;34m=\u001b[0m \u001b[0;34m[\u001b[0m\u001b[0;36m10\u001b[0m\u001b[0;34m,\u001b[0m \u001b[0;36m30\u001b[0m\u001b[0;34m,\u001b[0m \u001b[0;36m40\u001b[0m\u001b[0;34m]\u001b[0m\u001b[0;34m\u001b[0m\u001b[0;34m\u001b[0m\u001b[0m\n\u001b[1;32m      2\u001b[0m \u001b[0;34m\u001b[0m\u001b[0m\n\u001b[0;32m----> 3\u001b[0;31m \u001b[0mrandom\u001b[0m\u001b[0;34m.\u001b[0m\u001b[0mchoice\u001b[0m\u001b[0;34m(\u001b[0m\u001b[0mbv\u001b[0m\u001b[0;34m,\u001b[0m \u001b[0;36m2\u001b[0m\u001b[0;34m)\u001b[0m\u001b[0;34m\u001b[0m\u001b[0;34m\u001b[0m\u001b[0m\n\u001b[0m",
            "\u001b[0;31mTypeError\u001b[0m: choice() takes 2 positional arguments but 3 were given"
          ]
        }
      ],
      "source": [
        "bv = [10, 30, 40]\n",
        "\n",
        "[value for value in range(0, 5)]\n"
      ]
    },
    {
      "cell_type": "code",
      "execution_count": null,
      "metadata": {
        "id": "rEPyqpjNtFix"
      },
      "outputs": [],
      "source": []
    },
    {
      "cell_type": "code",
      "execution_count": null,
      "metadata": {
        "colab": {
          "base_uri": "https://localhost:8080/"
        },
        "id": "PopLdfMttFe_",
        "outputId": "bd5fe11c-f7d8-44c6-9e22-377bd2bc3aef"
      },
      "outputs": [
        {
          "name": "stderr",
          "output_type": "stream",
          "text": [
            "/usr/local/lib/python3.7/dist-packages/pandas/util/_decorators.py:311: ParserWarning: Falling back to the 'python' engine because the 'c' engine does not support regex separators (separators > 1 char and different from '\\s+' are interpreted as regex); you can avoid this warning by specifying engine='python'.\n",
            "  return func(*args, **kwargs)\n"
          ]
        }
      ],
      "source": [
        "data = pd.read_csv(f\"/content/gdrive/MyDrive/ml/faststore/10.csv\", delimiter=\";\\t\")"
      ]
    },
    {
      "cell_type": "code",
      "execution_count": null,
      "metadata": {
        "colab": {
          "base_uri": "https://localhost:8080/",
          "height": 502
        },
        "id": "XcQMGD5Q3Ku9",
        "outputId": "d5ca9daa-dbcb-40f3-ac71-42a849d26a9b"
      },
      "outputs": [
        {
          "data": {
            "text/html": [
              "\n",
              "  <div id=\"df-19dc61dd-f287-460d-bc67-f4516b73e189\">\n",
              "    <div class=\"colab-df-container\">\n",
              "      <div>\n",
              "<style scoped>\n",
              "    .dataframe tbody tr th:only-of-type {\n",
              "        vertical-align: middle;\n",
              "    }\n",
              "\n",
              "    .dataframe tbody tr th {\n",
              "        vertical-align: top;\n",
              "    }\n",
              "\n",
              "    .dataframe thead th {\n",
              "        text-align: right;\n",
              "    }\n",
              "</style>\n",
              "<table border=\"1\" class=\"dataframe\">\n",
              "  <thead>\n",
              "    <tr style=\"text-align: right;\">\n",
              "      <th></th>\n",
              "      <th>Timestamp [ms]</th>\n",
              "      <th>CPU cores</th>\n",
              "      <th>CPU capacity provisioned [MHZ]</th>\n",
              "      <th>CPU usage [MHZ]</th>\n",
              "      <th>CPU usage [%]</th>\n",
              "      <th>Memory capacity provisioned [KB]</th>\n",
              "      <th>Memory usage [KB]</th>\n",
              "      <th>Disk read throughput [KB/s]</th>\n",
              "      <th>Disk write throughput [KB/s]</th>\n",
              "      <th>Network received throughput [KB/s]</th>\n",
              "      <th>Network transmitted throughput [KB/s]</th>\n",
              "    </tr>\n",
              "  </thead>\n",
              "  <tbody>\n",
              "    <tr>\n",
              "      <th>0</th>\n",
              "      <td>1376314846</td>\n",
              "      <td>0</td>\n",
              "      <td>0.0</td>\n",
              "      <td>0.0</td>\n",
              "      <td>0.0</td>\n",
              "      <td>0.0</td>\n",
              "      <td>0.0</td>\n",
              "      <td>0.0</td>\n",
              "      <td>0.0</td>\n",
              "      <td>0.0</td>\n",
              "      <td>0.0</td>\n",
              "    </tr>\n",
              "    <tr>\n",
              "      <th>1</th>\n",
              "      <td>1376315146</td>\n",
              "      <td>0</td>\n",
              "      <td>0.0</td>\n",
              "      <td>0.0</td>\n",
              "      <td>0.0</td>\n",
              "      <td>0.0</td>\n",
              "      <td>0.0</td>\n",
              "      <td>0.0</td>\n",
              "      <td>0.0</td>\n",
              "      <td>0.0</td>\n",
              "      <td>0.0</td>\n",
              "    </tr>\n",
              "    <tr>\n",
              "      <th>2</th>\n",
              "      <td>1376315446</td>\n",
              "      <td>0</td>\n",
              "      <td>0.0</td>\n",
              "      <td>0.0</td>\n",
              "      <td>0.0</td>\n",
              "      <td>0.0</td>\n",
              "      <td>0.0</td>\n",
              "      <td>0.0</td>\n",
              "      <td>0.0</td>\n",
              "      <td>0.0</td>\n",
              "      <td>0.0</td>\n",
              "    </tr>\n",
              "    <tr>\n",
              "      <th>3</th>\n",
              "      <td>1376315746</td>\n",
              "      <td>0</td>\n",
              "      <td>0.0</td>\n",
              "      <td>0.0</td>\n",
              "      <td>0.0</td>\n",
              "      <td>0.0</td>\n",
              "      <td>0.0</td>\n",
              "      <td>0.0</td>\n",
              "      <td>0.0</td>\n",
              "      <td>0.0</td>\n",
              "      <td>0.0</td>\n",
              "    </tr>\n",
              "    <tr>\n",
              "      <th>4</th>\n",
              "      <td>1376316046</td>\n",
              "      <td>0</td>\n",
              "      <td>0.0</td>\n",
              "      <td>0.0</td>\n",
              "      <td>0.0</td>\n",
              "      <td>0.0</td>\n",
              "      <td>0.0</td>\n",
              "      <td>0.0</td>\n",
              "      <td>0.0</td>\n",
              "      <td>0.0</td>\n",
              "      <td>0.0</td>\n",
              "    </tr>\n",
              "    <tr>\n",
              "      <th>...</th>\n",
              "      <td>...</td>\n",
              "      <td>...</td>\n",
              "      <td>...</td>\n",
              "      <td>...</td>\n",
              "      <td>...</td>\n",
              "      <td>...</td>\n",
              "      <td>...</td>\n",
              "      <td>...</td>\n",
              "      <td>...</td>\n",
              "      <td>...</td>\n",
              "      <td>...</td>\n",
              "    </tr>\n",
              "    <tr>\n",
              "      <th>16135</th>\n",
              "      <td>1378906392</td>\n",
              "      <td>0</td>\n",
              "      <td>0.0</td>\n",
              "      <td>0.0</td>\n",
              "      <td>0.0</td>\n",
              "      <td>0.0</td>\n",
              "      <td>0.0</td>\n",
              "      <td>0.0</td>\n",
              "      <td>0.0</td>\n",
              "      <td>0.0</td>\n",
              "      <td>0.0</td>\n",
              "    </tr>\n",
              "    <tr>\n",
              "      <th>16136</th>\n",
              "      <td>1378906498</td>\n",
              "      <td>0</td>\n",
              "      <td>0.0</td>\n",
              "      <td>0.0</td>\n",
              "      <td>0.0</td>\n",
              "      <td>0.0</td>\n",
              "      <td>0.0</td>\n",
              "      <td>0.0</td>\n",
              "      <td>0.0</td>\n",
              "      <td>0.0</td>\n",
              "      <td>0.0</td>\n",
              "    </tr>\n",
              "    <tr>\n",
              "      <th>16137</th>\n",
              "      <td>1378906692</td>\n",
              "      <td>0</td>\n",
              "      <td>0.0</td>\n",
              "      <td>0.0</td>\n",
              "      <td>0.0</td>\n",
              "      <td>0.0</td>\n",
              "      <td>0.0</td>\n",
              "      <td>0.0</td>\n",
              "      <td>0.0</td>\n",
              "      <td>0.0</td>\n",
              "      <td>0.0</td>\n",
              "    </tr>\n",
              "    <tr>\n",
              "      <th>16138</th>\n",
              "      <td>1378906692</td>\n",
              "      <td>0</td>\n",
              "      <td>0.0</td>\n",
              "      <td>0.0</td>\n",
              "      <td>0.0</td>\n",
              "      <td>0.0</td>\n",
              "      <td>0.0</td>\n",
              "      <td>0.0</td>\n",
              "      <td>0.0</td>\n",
              "      <td>0.0</td>\n",
              "      <td>0.0</td>\n",
              "    </tr>\n",
              "    <tr>\n",
              "      <th>16139</th>\n",
              "      <td>1378906798</td>\n",
              "      <td>0</td>\n",
              "      <td>0.0</td>\n",
              "      <td>0.0</td>\n",
              "      <td>0.0</td>\n",
              "      <td>0.0</td>\n",
              "      <td>0.0</td>\n",
              "      <td>0.0</td>\n",
              "      <td>0.0</td>\n",
              "      <td>0.0</td>\n",
              "      <td>0.0</td>\n",
              "    </tr>\n",
              "  </tbody>\n",
              "</table>\n",
              "<p>16140 rows × 11 columns</p>\n",
              "</div>\n",
              "      <button class=\"colab-df-convert\" onclick=\"convertToInteractive('df-19dc61dd-f287-460d-bc67-f4516b73e189')\"\n",
              "              title=\"Convert this dataframe to an interactive table.\"\n",
              "              style=\"display:none;\">\n",
              "        \n",
              "  <svg xmlns=\"http://www.w3.org/2000/svg\" height=\"24px\"viewBox=\"0 0 24 24\"\n",
              "       width=\"24px\">\n",
              "    <path d=\"M0 0h24v24H0V0z\" fill=\"none\"/>\n",
              "    <path d=\"M18.56 5.44l.94 2.06.94-2.06 2.06-.94-2.06-.94-.94-2.06-.94 2.06-2.06.94zm-11 1L8.5 8.5l.94-2.06 2.06-.94-2.06-.94L8.5 2.5l-.94 2.06-2.06.94zm10 10l.94 2.06.94-2.06 2.06-.94-2.06-.94-.94-2.06-.94 2.06-2.06.94z\"/><path d=\"M17.41 7.96l-1.37-1.37c-.4-.4-.92-.59-1.43-.59-.52 0-1.04.2-1.43.59L10.3 9.45l-7.72 7.72c-.78.78-.78 2.05 0 2.83L4 21.41c.39.39.9.59 1.41.59.51 0 1.02-.2 1.41-.59l7.78-7.78 2.81-2.81c.8-.78.8-2.07 0-2.86zM5.41 20L4 18.59l7.72-7.72 1.47 1.35L5.41 20z\"/>\n",
              "  </svg>\n",
              "      </button>\n",
              "      \n",
              "  <style>\n",
              "    .colab-df-container {\n",
              "      display:flex;\n",
              "      flex-wrap:wrap;\n",
              "      gap: 12px;\n",
              "    }\n",
              "\n",
              "    .colab-df-convert {\n",
              "      background-color: #E8F0FE;\n",
              "      border: none;\n",
              "      border-radius: 50%;\n",
              "      cursor: pointer;\n",
              "      display: none;\n",
              "      fill: #1967D2;\n",
              "      height: 32px;\n",
              "      padding: 0 0 0 0;\n",
              "      width: 32px;\n",
              "    }\n",
              "\n",
              "    .colab-df-convert:hover {\n",
              "      background-color: #E2EBFA;\n",
              "      box-shadow: 0px 1px 2px rgba(60, 64, 67, 0.3), 0px 1px 3px 1px rgba(60, 64, 67, 0.15);\n",
              "      fill: #174EA6;\n",
              "    }\n",
              "\n",
              "    [theme=dark] .colab-df-convert {\n",
              "      background-color: #3B4455;\n",
              "      fill: #D2E3FC;\n",
              "    }\n",
              "\n",
              "    [theme=dark] .colab-df-convert:hover {\n",
              "      background-color: #434B5C;\n",
              "      box-shadow: 0px 1px 3px 1px rgba(0, 0, 0, 0.15);\n",
              "      filter: drop-shadow(0px 1px 2px rgba(0, 0, 0, 0.3));\n",
              "      fill: #FFFFFF;\n",
              "    }\n",
              "  </style>\n",
              "\n",
              "      <script>\n",
              "        const buttonEl =\n",
              "          document.querySelector('#df-19dc61dd-f287-460d-bc67-f4516b73e189 button.colab-df-convert');\n",
              "        buttonEl.style.display =\n",
              "          google.colab.kernel.accessAllowed ? 'block' : 'none';\n",
              "\n",
              "        async function convertToInteractive(key) {\n",
              "          const element = document.querySelector('#df-19dc61dd-f287-460d-bc67-f4516b73e189');\n",
              "          const dataTable =\n",
              "            await google.colab.kernel.invokeFunction('convertToInteractive',\n",
              "                                                     [key], {});\n",
              "          if (!dataTable) return;\n",
              "\n",
              "          const docLinkHtml = 'Like what you see? Visit the ' +\n",
              "            '<a target=\"_blank\" href=https://colab.research.google.com/notebooks/data_table.ipynb>data table notebook</a>'\n",
              "            + ' to learn more about interactive tables.';\n",
              "          element.innerHTML = '';\n",
              "          dataTable['output_type'] = 'display_data';\n",
              "          await google.colab.output.renderOutput(dataTable, element);\n",
              "          const docLink = document.createElement('div');\n",
              "          docLink.innerHTML = docLinkHtml;\n",
              "          element.appendChild(docLink);\n",
              "        }\n",
              "      </script>\n",
              "    </div>\n",
              "  </div>\n",
              "  "
            ],
            "text/plain": [
              "       Timestamp [ms]  CPU cores  CPU capacity provisioned [MHZ]  \\\n",
              "0          1376314846          0                             0.0   \n",
              "1          1376315146          0                             0.0   \n",
              "2          1376315446          0                             0.0   \n",
              "3          1376315746          0                             0.0   \n",
              "4          1376316046          0                             0.0   \n",
              "...               ...        ...                             ...   \n",
              "16135      1378906392          0                             0.0   \n",
              "16136      1378906498          0                             0.0   \n",
              "16137      1378906692          0                             0.0   \n",
              "16138      1378906692          0                             0.0   \n",
              "16139      1378906798          0                             0.0   \n",
              "\n",
              "       CPU usage [MHZ]  CPU usage [%]  Memory capacity provisioned [KB]  \\\n",
              "0                  0.0            0.0                               0.0   \n",
              "1                  0.0            0.0                               0.0   \n",
              "2                  0.0            0.0                               0.0   \n",
              "3                  0.0            0.0                               0.0   \n",
              "4                  0.0            0.0                               0.0   \n",
              "...                ...            ...                               ...   \n",
              "16135              0.0            0.0                               0.0   \n",
              "16136              0.0            0.0                               0.0   \n",
              "16137              0.0            0.0                               0.0   \n",
              "16138              0.0            0.0                               0.0   \n",
              "16139              0.0            0.0                               0.0   \n",
              "\n",
              "       Memory usage [KB]  Disk read throughput [KB/s]  \\\n",
              "0                    0.0                          0.0   \n",
              "1                    0.0                          0.0   \n",
              "2                    0.0                          0.0   \n",
              "3                    0.0                          0.0   \n",
              "4                    0.0                          0.0   \n",
              "...                  ...                          ...   \n",
              "16135                0.0                          0.0   \n",
              "16136                0.0                          0.0   \n",
              "16137                0.0                          0.0   \n",
              "16138                0.0                          0.0   \n",
              "16139                0.0                          0.0   \n",
              "\n",
              "       Disk write throughput [KB/s]  Network received throughput [KB/s]  \\\n",
              "0                               0.0                                 0.0   \n",
              "1                               0.0                                 0.0   \n",
              "2                               0.0                                 0.0   \n",
              "3                               0.0                                 0.0   \n",
              "4                               0.0                                 0.0   \n",
              "...                             ...                                 ...   \n",
              "16135                           0.0                                 0.0   \n",
              "16136                           0.0                                 0.0   \n",
              "16137                           0.0                                 0.0   \n",
              "16138                           0.0                                 0.0   \n",
              "16139                           0.0                                 0.0   \n",
              "\n",
              "       Network transmitted throughput [KB/s]  \n",
              "0                                        0.0  \n",
              "1                                        0.0  \n",
              "2                                        0.0  \n",
              "3                                        0.0  \n",
              "4                                        0.0  \n",
              "...                                      ...  \n",
              "16135                                    0.0  \n",
              "16136                                    0.0  \n",
              "16137                                    0.0  \n",
              "16138                                    0.0  \n",
              "16139                                    0.0  \n",
              "\n",
              "[16140 rows x 11 columns]"
            ]
          },
          "execution_count": 206,
          "metadata": {},
          "output_type": "execute_result"
        }
      ],
      "source": [
        "data"
      ]
    },
    {
      "cell_type": "code",
      "execution_count": null,
      "metadata": {
        "id": "Kcf_yWFCp99M"
      },
      "outputs": [],
      "source": [
        "import numpy as np\n"
      ]
    },
    {
      "cell_type": "code",
      "execution_count": null,
      "metadata": {
        "colab": {
          "base_uri": "https://localhost:8080/"
        },
        "id": "7LsLteWq3Loa",
        "outputId": "dd1c165c-3105-436b-f62d-291401efad2f"
      },
      "outputs": [
        {
          "data": {
            "text/plain": [
              "2.0"
            ]
          },
          "execution_count": 7,
          "metadata": {},
          "output_type": "execute_result"
        }
      ],
      "source": [
        "np.average([2,2,])"
      ]
    },
    {
      "cell_type": "code",
      "execution_count": null,
      "metadata": {
        "id": "XMzo1g4TqFnt"
      },
      "outputs": [],
      "source": []
    }
  ],
  "metadata": {
    "accelerator": "GPU",
    "colab": {
      "provenance": []
    },
    "kernelspec": {
      "display_name": "Python 3",
      "name": "python3"
    }
  },
  "nbformat": 4,
  "nbformat_minor": 0
}