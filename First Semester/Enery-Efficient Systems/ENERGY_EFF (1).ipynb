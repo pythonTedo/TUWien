{
  "nbformat": 4,
  "nbformat_minor": 0,
  "metadata": {
    "colab": {
      "provenance": []
    },
    "kernelspec": {
      "name": "python3",
      "display_name": "Python 3"
    },
    "language_info": {
      "name": "python"
    }
  },
  "cells": [
    {
      "cell_type": "code",
      "execution_count": null,
      "metadata": {
        "colab": {
          "base_uri": "https://localhost:8080/"
        },
        "id": "VxIg4W4hlXId",
        "outputId": "963323f0-5626-4c59-e333-4095046e507a"
      },
      "outputs": [
        {
          "output_type": "stream",
          "name": "stdout",
          "text": [
            "Mounted at /content/gdrive\n"
          ]
        }
      ],
      "source": [
        "from google.colab import drive\n",
        "drive.mount('/content/gdrive')"
      ]
    },
    {
      "cell_type": "code",
      "source": [
        "import pandas as pd\n",
        "import numpy as np\n",
        "import matplotlib.pyplot as plt\n",
        "import glob\n",
        "import seaborn as sns\n",
        "import random\n",
        "\n",
        "from sklearn.preprocessing import MinMaxScaler\n",
        "from sklearn.metrics import mean_squared_error,mean_absolute_error, r2_score\n",
        "from sklearn.linear_model import LinearRegression, ElasticNet\n",
        "from lightgbm import LGBMRegressor\n",
        "from sklearn.tree import DecisionTreeRegressor\n",
        "\n",
        "import tensorflow as tf\n",
        "from tensorflow.keras.models import Sequential, load_model\n",
        "from tensorflow.keras.layers import LSTM, Dropout, Bidirectional, Dense\n"
      ],
      "metadata": {
        "id": "SG05jlpeloFE"
      },
      "execution_count": null,
      "outputs": []
    },
    {
      "cell_type": "code",
      "source": [
        "path = \"/content/faststore/\"\n",
        "all_files = glob.glob(path + \"/*.csv\")\n",
        "\n",
        "li = []\n",
        "\n",
        "for filename in all_files:\n",
        "    df = pd.read_csv(filename, index_col=None, header=0, delimiter=\";\")\n",
        "    li.append(df)\n",
        "\n",
        "new_df = pd.concat(li, axis=0, ignore_index=True)"
      ],
      "metadata": {
        "id": "bQ4ZmuizltpL"
      },
      "execution_count": null,
      "outputs": []
    },
    {
      "cell_type": "code",
      "source": [
        "new_df.columns = new_df.columns.str.replace(\"\\t\", \"\")"
      ],
      "metadata": {
        "id": "iDJT1jBtlvNE"
      },
      "execution_count": null,
      "outputs": []
    },
    {
      "cell_type": "code",
      "source": [
        "col = [\"Timestamp [ms]\", 'CPU cores', 'CPU capacity provisioned [MHZ]', 'CPU usage [MHZ]', 'Memory usage [KB]']"
      ],
      "metadata": {
        "id": "C6t0ebRQlw1b"
      },
      "execution_count": null,
      "outputs": []
    },
    {
      "cell_type": "code",
      "source": [
        "df = new_df[col]"
      ],
      "metadata": {
        "id": "x_vlMr4clxjV"
      },
      "execution_count": null,
      "outputs": []
    },
    {
      "cell_type": "code",
      "source": [
        "df = df.sort_values(\"Timestamp [ms]\")\n",
        "df = df.groupby(\"Timestamp [ms]\").mean()"
      ],
      "metadata": {
        "id": "9jW_R0Yglxgz"
      },
      "execution_count": null,
      "outputs": []
    },
    {
      "cell_type": "code",
      "source": [
        "y = df['CPU usage [MHZ]']"
      ],
      "metadata": {
        "id": "IU0iYNU-rZc-"
      },
      "execution_count": null,
      "outputs": []
    },
    {
      "cell_type": "code",
      "source": [
        "scaler = MinMaxScaler()\n",
        "df_scaled = pd.DataFrame(scaler.fit_transform(df), columns=df.columns)"
      ],
      "metadata": {
        "id": "wdOYaLuzlxen"
      },
      "execution_count": null,
      "outputs": []
    },
    {
      "cell_type": "code",
      "source": [
        "df_scaled = df_scaled.set_index(df.index)"
      ],
      "metadata": {
        "id": "Ttp0ortblxcr"
      },
      "execution_count": null,
      "outputs": []
    },
    {
      "cell_type": "code",
      "source": [
        "for col in df_scaled.columns:\n",
        "    for i in range(1,1001):\n",
        "        df_scaled[col + f\" {i}shifted\"] = df_scaled[col].shift(i)"
      ],
      "metadata": {
        "colab": {
          "base_uri": "https://localhost:8080/"
        },
        "id": "aytHZ-Wrlxag",
        "outputId": "814e8a77-957e-4cbd-ffef-e123b7825348"
      },
      "execution_count": null,
      "outputs": [
        {
          "output_type": "stream",
          "name": "stderr",
          "text": [
            "/usr/local/lib/python3.7/dist-packages/ipykernel_launcher.py:3: PerformanceWarning: DataFrame is highly fragmented.  This is usually the result of calling `frame.insert` many times, which has poor performance.  Consider joining all columns at once using pd.concat(axis=1) instead.  To get a de-fragmented frame, use `newframe = frame.copy()`\n",
            "  This is separate from the ipykernel package so we can avoid doing imports until\n"
          ]
        }
      ]
    },
    {
      "cell_type": "code",
      "source": [
        "df_scaled = df_scaled.dropna()"
      ],
      "metadata": {
        "id": "e7BSGjPDlxYP"
      },
      "execution_count": null,
      "outputs": []
    },
    {
      "cell_type": "code",
      "source": [
        "x = df_scaled.drop(['CPU capacity provisioned [MHZ]', \"CPU cores\", \"Memory usage [KB]\", \"CPU usage [MHZ]\"], axis=1)"
      ],
      "metadata": {
        "id": "y_-Jlv2Zo2Yv"
      },
      "execution_count": null,
      "outputs": []
    },
    {
      "cell_type": "code",
      "source": [
        "train = x.head(int(df_scaled.shape[0] * 0.9))\n",
        "test = x.tail(int(df_scaled.shape[0] * 0.1))\n",
        "\n",
        "y_train = y.head(int(df_scaled.shape[0] * 0.9))\n",
        "y_test = y.tail(int(df_scaled.shape[0] * 0.1))"
      ],
      "metadata": {
        "id": "nBY7VOlDl73h"
      },
      "execution_count": null,
      "outputs": []
    },
    {
      "cell_type": "code",
      "source": [
        "train.shape, test.shape, y_train.shape, y_test.shape"
      ],
      "metadata": {
        "colab": {
          "base_uri": "https://localhost:8080/"
        },
        "id": "Vr9LdVJOl71a",
        "outputId": "1598d6e5-3a5c-408a-9a5f-dbf7b81f93f4"
      },
      "execution_count": null,
      "outputs": [
        {
          "output_type": "execute_result",
          "data": {
            "text/plain": [
              "((55917, 4000), (6213, 4000), (55917,), (6213,))"
            ]
          },
          "metadata": {},
          "execution_count": 14
        }
      ]
    },
    {
      "cell_type": "code",
      "source": [
        "def get_model_score(pipeline, X_train, X_test, y_train, y_test):\n",
        "\n",
        "    pipeline.fit(X_train, y_train)\n",
        "\n",
        "    r2_score_train = r2_score(y_train, pipeline.predict(X_train))\n",
        "    r2_score_test = r2_score(y_test, pipeline.predict(X_test))\n",
        "\n",
        "    mae_train = mean_absolute_error(y_train, pipeline.predict(X_train))\n",
        "    mae_test = mean_absolute_error(y_test, pipeline.predict(X_test))\n",
        "\n",
        "    mse_train = mean_squared_error(y_train, pipeline.predict(X_train))\n",
        "    mse_test = mean_squared_error(y_test, pipeline.predict(X_test))\n",
        "\n",
        "    print(\"R2 score_train: \", r2_score_train)\n",
        "    print(\"R2 score_test: \", r2_score_test)\n",
        "    print(\"Train Mean Squeare Error: \", mse_train)\n",
        "    print(\"Test Mean Squeare Error: \", mse_test)\n",
        "    print(\"Train Mean Abosulte Error: \", mae_train)\n",
        "    print(\"Test Mean Abosulte Error: \", mae_test)"
      ],
      "metadata": {
        "id": "PX4JwOHRmHQk"
      },
      "execution_count": null,
      "outputs": []
    },
    {
      "cell_type": "code",
      "source": [
        "def get_scores(pipeline, X_train, X_test, y_train, y_test):\n",
        "\n",
        "    r2_score_train = r2_score(y_train, pipeline.predict(X_train))\n",
        "    r2_score_test = r2_score(y_test, pipeline.predict(X_test))\n",
        "\n",
        "    mae_train = mean_absolute_error(y_train, pipeline.predict(X_train))\n",
        "    mae_test = mean_absolute_error(y_test, pipeline.predict(X_test))\n",
        "\n",
        "    mse_train = mean_squared_error(y_train, pipeline.predict(X_train))\n",
        "    mse_test = mean_squared_error(y_test, pipeline.predict(X_test))\n",
        "\n",
        "    rmse_train = mean_squared_error(y_train, pipeline.predict(X_train), squared=False)\n",
        "    rmse_test = mean_squared_error(y_test, pipeline.predict(X_test), squared=False)\n",
        "\n",
        "    print(\"R2 score_train: \", r2_score_train)\n",
        "    print(\"R2 score_test: \", r2_score_test)\n",
        "    print(\"Train Mean Squeare Error: \", mse_train)\n",
        "    print(\"Test Mean Squeare Error: \", mse_test)\n",
        "    print(\"Train Root Mean Squeare Error: \", rmse_train)\n",
        "    print(\"Test Root Mean Squeare Error: \", rmse_test)\n",
        "    print(\"Train Mean Abosulte Error: \", mae_train)\n",
        "    print(\"Test Mean Abosulte Error: \", mae_test)"
      ],
      "metadata": {
        "id": "qUn7WOOgF24a"
      },
      "execution_count": null,
      "outputs": []
    },
    {
      "cell_type": "code",
      "source": [
        "get_model_score(LinearRegression(), train, test, y_train, y_test)"
      ],
      "metadata": {
        "colab": {
          "base_uri": "https://localhost:8080/"
        },
        "id": "V2ax4twFmHNt",
        "outputId": "bc5f622f-558e-448e-bd74-bc77517ef5d7"
      },
      "execution_count": null,
      "outputs": [
        {
          "output_type": "stream",
          "name": "stdout",
          "text": [
            "R2 score_train:  1.0\n",
            "R2 score_test:  -0.6978824853560635\n",
            "Train Mean Squeare Error:  3.656847832885403e-24\n",
            "Test Mean Squeare Error:  59335.8733964335\n",
            "Train Mean Abosulte Error:  1.3840589471107848e-12\n",
            "Test Mean Abosulte Error:  74.30168789498752\n"
          ]
        }
      ]
    },
    {
      "cell_type": "code",
      "source": [
        "get_model_score(ElasticNet(), train, test, y_train, y_test)"
      ],
      "metadata": {
        "colab": {
          "base_uri": "https://localhost:8080/"
        },
        "id": "WCk_lKkiqSVh",
        "outputId": "2eec7679-74bc-4cb3-c4d2-7a5d0ebc6d4c"
      },
      "execution_count": null,
      "outputs": [
        {
          "output_type": "stream",
          "name": "stdout",
          "text": [
            "R2 score_train:  0.6847637727914717\n",
            "R2 score_test:  -0.30949966438457355\n",
            "Train Mean Squeare Error:  86588.72436762051\n",
            "Test Mean Squeare Error:  45763.06485799025\n",
            "Train Mean Abosulte Error:  151.2112199470243\n",
            "Test Mean Abosulte Error:  111.86898368237621\n"
          ]
        }
      ]
    },
    {
      "cell_type": "code",
      "source": [
        "get_model_score(LGBMRegressor(), train, test, y_train, y_test)"
      ],
      "metadata": {
        "colab": {
          "base_uri": "https://localhost:8080/"
        },
        "id": "cC1heHaVqSTP",
        "outputId": "1b43527a-e65d-473f-b713-6fd038f588c3"
      },
      "execution_count": null,
      "outputs": [
        {
          "output_type": "stream",
          "name": "stdout",
          "text": [
            "R2 score_train:  0.9999672932402698\n",
            "R2 score_test:  -0.6980652743533362\n",
            "Train Mean Squeare Error:  8.983855149874529\n",
            "Test Mean Squeare Error:  59342.261320741556\n",
            "Train Mean Abosulte Error:  0.3878329739418105\n",
            "Test Mean Abosulte Error:  74.30135437871986\n"
          ]
        }
      ]
    },
    {
      "cell_type": "code",
      "source": [
        "get_model_score(DecisionTreeRegressor(), train, test, y_train, y_test)"
      ],
      "metadata": {
        "colab": {
          "base_uri": "https://localhost:8080/"
        },
        "id": "ne_Sd13jqSRO",
        "outputId": "25da9dab-73ce-4351-c48e-e3e22faf668d"
      },
      "execution_count": null,
      "outputs": [
        {
          "output_type": "stream",
          "name": "stdout",
          "text": [
            "R2 score_train:  1.0\n",
            "R2 score_test:  -0.6979861391250832\n",
            "Train Mean Squeare Error:  2.62316080480119e-13\n",
            "Test Mean Squeare Error:  59339.49578312319\n",
            "Train Mean Abosulte Error:  7.04116960114605e-08\n",
            "Test Mean Abosulte Error:  74.3053381878517\n"
          ]
        }
      ]
    },
    {
      "cell_type": "code",
      "source": [
        "lgbm = LGBMRegressor(min_data_in_leaf=70, max_depth=i)\n",
        "lgbm.fit(train, y_train)\n",
        "get_scores(lgbm, train, test, y_train, y_test)"
      ],
      "metadata": {
        "colab": {
          "base_uri": "https://localhost:8080/"
        },
        "id": "HGO5ukacFHna",
        "outputId": "4fec9cb8-9139-439a-f27a-a98361dd1bef"
      },
      "execution_count": null,
      "outputs": [
        {
          "output_type": "stream",
          "name": "stdout",
          "text": [
            "R2 score_train:  0.9999096118110006\n",
            "R2 score_test:  -0.698021668866281\n",
            "Train Mean Squeare Error:  24.827723807850493\n",
            "Test Mean Squeare Error:  59340.73744044854\n",
            "Train Root Mean Squeare Error:  4.982742598996109\n",
            "Test Root Mean Squeare Error:  243.5995431860424\n",
            "Train Mean Abosulte Error:  0.4561812764881908\n",
            "Test Mean Abosulte Error:  74.30464763914732\n"
          ]
        }
      ]
    },
    {
      "cell_type": "code",
      "source": [
        "lgbm_preds = lgbm.predict(test)"
      ],
      "metadata": {
        "id": "hapY2c3fFHio"
      },
      "execution_count": null,
      "outputs": []
    },
    {
      "cell_type": "code",
      "source": [
        "lgbm_preds"
      ],
      "metadata": {
        "colab": {
          "base_uri": "https://localhost:8080/"
        },
        "id": "kD0su9puUiIU",
        "outputId": "9a3eaa80-0ec6-4f4f-e654-d08cf75d8ff1"
      },
      "execution_count": null,
      "outputs": [
        {
          "output_type": "execute_result",
          "data": {
            "text/plain": [
              "array([1.01375436e-02, 7.30521955e+00, 1.01375436e-02, ...,\n",
              "       1.01375436e-02, 1.01375436e-02, 2.59622986e+01])"
            ]
          },
          "metadata": {},
          "execution_count": 26
        }
      ]
    },
    {
      "cell_type": "code",
      "source": [
        "plt.figure(figsize=(12,10))\n",
        "plt.plot(lgbm_preds)\n",
        "plt.plot(y_test.to_numpy(), alpha=0.6)\n",
        "plt.legend([\"predicted value\", \"true value\"])"
      ],
      "metadata": {
        "colab": {
          "base_uri": "https://localhost:8080/",
          "height": 609
        },
        "id": "E3vK0Qh3FHgE",
        "outputId": "6490bdb3-2e2d-494a-cd67-25a14cbd5f10"
      },
      "execution_count": null,
      "outputs": [
        {
          "output_type": "execute_result",
          "data": {
            "text/plain": [
              "<matplotlib.legend.Legend at 0x7f591c1dd950>"
            ]
          },
          "metadata": {},
          "execution_count": 40
        },
        {
          "output_type": "display_data",
          "data": {
            "text/plain": [
              "<Figure size 864x720 with 1 Axes>"
            ],
            "image/png": "[encoded data removed]"
          },
          "metadata": {
            "needs_background": "light"
          }
        }
      ]
    },
    {
      "cell_type": "code",
      "source": [
        "y_test.to_numpy()"
      ],
      "metadata": {
        "colab": {
          "base_uri": "https://localhost:8080/"
        },
        "id": "oo_fqZwWFHba",
        "outputId": "f638df68-9fc7-4ec8-d9dc-3d70cdbe9ad2"
      },
      "execution_count": null,
      "outputs": [
        {
          "output_type": "execute_result",
          "data": {
            "text/plain": [
              "array([   7.40605956,    0.        ,    0.        , ...,    0.        ,\n",
              "          0.        , 1294.61770404])"
            ]
          },
          "metadata": {},
          "execution_count": 31
        }
      ]
    },
    {
      "cell_type": "code",
      "source": [],
      "metadata": {
        "id": "lygvugMYFHY2"
      },
      "execution_count": null,
      "outputs": []
    },
    {
      "cell_type": "code",
      "source": [],
      "metadata": {
        "id": "ZoGCWTiiFHWg"
      },
      "execution_count": null,
      "outputs": []
    },
    {
      "cell_type": "code",
      "source": [
        "model = Sequential([\n",
        "                    Dense(20, activation='relu'),\n",
        "                    Dropout(0.1),\n",
        "                    Dense(40, activation='relu'),\n",
        "                    Dropout(0.1),\n",
        "                    Dense(80, activation='relu'),\n",
        "                    Dropout(0.1),\n",
        "                    Dense(120, activation='relu'),\n",
        "                    Dropout(0.1),\n",
        "                    Dense(120, activation='relu'),\n",
        "                    Dropout(0.1),\n",
        "                    Dense(80, activation='relu'),\n",
        "                    Dropout(0.1),\n",
        "                    Dense(40, activation='relu'),\n",
        "                    Dropout(0.1),\n",
        "                    Dense(20, activation='relu'),\n",
        "                    Dropout(0.1),\n",
        "                    Dense(1)\n",
        "])\n",
        "model.compile(loss='mean_squared_error', optimizer='adam')"
      ],
      "metadata": {
        "id": "vYmbCG8hxuaL"
      },
      "execution_count": null,
      "outputs": []
    },
    {
      "cell_type": "code",
      "source": [
        "model.summary()"
      ],
      "metadata": {
        "colab": {
          "base_uri": "https://localhost:8080/"
        },
        "id": "yEsAzyFi32sS",
        "outputId": "f2f691bc-0170-499e-edcb-d2639c1252b0"
      },
      "execution_count": null,
      "outputs": [
        {
          "output_type": "stream",
          "name": "stdout",
          "text": [
            "Model: \"sequential_7\"\n",
            "_________________________________________________________________\n",
            " Layer (type)                Output Shape              Param #   \n",
            "=================================================================\n",
            " dense_26 (Dense)            (None, 20)                80020     \n",
            "                                                                 \n",
            " dropout_23 (Dropout)        (None, 20)                0         \n",
            "                                                                 \n",
            " dense_27 (Dense)            (None, 40)                840       \n",
            "                                                                 \n",
            " dropout_24 (Dropout)        (None, 40)                0         \n",
            "                                                                 \n",
            " dense_28 (Dense)            (None, 80)                3280      \n",
            "                                                                 \n",
            " dropout_25 (Dropout)        (None, 80)                0         \n",
            "                                                                 \n",
            " dense_29 (Dense)            (None, 120)               9720      \n",
            "                                                                 \n",
            " dropout_26 (Dropout)        (None, 120)               0         \n",
            "                                                                 \n",
            " dense_30 (Dense)            (None, 120)               14520     \n",
            "                                                                 \n",
            " dropout_27 (Dropout)        (None, 120)               0         \n",
            "                                                                 \n",
            " dense_31 (Dense)            (None, 80)                9680      \n",
            "                                                                 \n",
            " dropout_28 (Dropout)        (None, 80)                0         \n",
            "                                                                 \n",
            " dense_32 (Dense)            (None, 40)                3240      \n",
            "                                                                 \n",
            " dropout_29 (Dropout)        (None, 40)                0         \n",
            "                                                                 \n",
            " dense_33 (Dense)            (None, 20)                820       \n",
            "                                                                 \n",
            " dropout_30 (Dropout)        (None, 20)                0         \n",
            "                                                                 \n",
            " dense_34 (Dense)            (None, 1)                 21        \n",
            "                                                                 \n",
            "=================================================================\n",
            "Total params: 122,141\n",
            "Trainable params: 122,141\n",
            "Non-trainable params: 0\n",
            "_________________________________________________________________\n"
          ]
        }
      ]
    },
    {
      "cell_type": "code",
      "source": [
        "history = model.fit(\n",
        "    train.to_numpy(), y_train,\n",
        "    epochs=200,\n",
        "    batch_size=32,\n",
        "    validation_split=0.2,\n",
        "    shuffle=False\n",
        ")"
      ],
      "metadata": {
        "colab": {
          "base_uri": "https://localhost:8080/"
        },
        "id": "TsaYjMHw0WSc",
        "outputId": "817e00a5-a09c-4c70-df7a-4f6ae0cd793d"
      },
      "execution_count": null,
      "outputs": [
        {
          "output_type": "stream",
          "name": "stdout",
          "text": [
            "Epoch 1/200\n",
            "1398/1398 [==============================] - 9s 6ms/step - loss: 184558.2344 - val_loss: 8110.3477\n",
            "Epoch 2/200\n",
            "1398/1398 [==============================] - 8s 6ms/step - loss: 124197.0781 - val_loss: 5608.4565\n",
            "Epoch 3/200\n",
            "1398/1398 [==============================] - 7s 5ms/step - loss: 112029.4219 - val_loss: 5227.7983\n",
            "Epoch 4/200\n",
            "1398/1398 [==============================] - 7s 5ms/step - loss: 102018.1797 - val_loss: 5450.1953\n",
            "Epoch 5/200\n",
            "1398/1398 [==============================] - 7s 5ms/step - loss: 75857.9375 - val_loss: 5894.8882\n",
            "Epoch 6/200\n",
            "1398/1398 [==============================] - 7s 5ms/step - loss: 71492.3125 - val_loss: 7278.1572\n",
            "Epoch 7/200\n",
            "1398/1398 [==============================] - 7s 5ms/step - loss: 67311.0859 - val_loss: 6743.5308\n",
            "Epoch 8/200\n",
            "1398/1398 [==============================] - 7s 5ms/step - loss: 68694.1094 - val_loss: 9189.6191\n",
            "Epoch 9/200\n",
            "1398/1398 [==============================] - 8s 6ms/step - loss: 67259.5938 - val_loss: 9671.0391\n",
            "Epoch 10/200\n",
            "1398/1398 [==============================] - 7s 5ms/step - loss: 75881.1016 - val_loss: 9158.7393\n",
            "Epoch 11/200\n",
            "1398/1398 [==============================] - 7s 5ms/step - loss: 50709.2422 - val_loss: 9050.9131\n",
            "Epoch 12/200\n",
            "1398/1398 [==============================] - 7s 5ms/step - loss: 46609.8125 - val_loss: 8638.1836\n",
            "Epoch 13/200\n",
            "1398/1398 [==============================] - 7s 5ms/step - loss: 48973.6289 - val_loss: 8707.1270\n",
            "Epoch 14/200\n",
            "1398/1398 [==============================] - 7s 5ms/step - loss: 39210.9375 - val_loss: 10624.7070\n",
            "Epoch 15/200\n",
            "1398/1398 [==============================] - 7s 5ms/step - loss: 41691.5000 - val_loss: 9437.8447\n",
            "Epoch 16/200\n",
            "1398/1398 [==============================] - 7s 5ms/step - loss: 50318.6289 - val_loss: 9538.2021\n",
            "Epoch 17/200\n",
            "1398/1398 [==============================] - 8s 5ms/step - loss: 40920.8164 - val_loss: 9914.1777\n",
            "Epoch 18/200\n",
            "1398/1398 [==============================] - 7s 5ms/step - loss: 36176.3125 - val_loss: 9965.6748\n",
            "Epoch 19/200\n",
            "1398/1398 [==============================] - 8s 5ms/step - loss: 40629.0664 - val_loss: 9874.8701\n",
            "Epoch 20/200\n",
            "1398/1398 [==============================] - 7s 5ms/step - loss: 46014.4375 - val_loss: 8236.4072\n",
            "Epoch 21/200\n",
            "1398/1398 [==============================] - 8s 6ms/step - loss: 44229.3906 - val_loss: 9388.4805\n",
            "Epoch 22/200\n",
            "1398/1398 [==============================] - 7s 5ms/step - loss: 41439.9961 - val_loss: 11278.6016\n",
            "Epoch 23/200\n",
            "1398/1398 [==============================] - 7s 5ms/step - loss: 58482.5156 - val_loss: 9686.5566\n",
            "Epoch 24/200\n",
            "1398/1398 [==============================] - 7s 5ms/step - loss: 65441.1445 - val_loss: 9380.0820\n",
            "Epoch 25/200\n",
            "1398/1398 [==============================] - 7s 5ms/step - loss: 39330.2773 - val_loss: 10596.5869\n",
            "Epoch 26/200\n",
            "1398/1398 [==============================] - 7s 5ms/step - loss: 34922.1719 - val_loss: 8573.3193\n",
            "Epoch 27/200\n",
            "1398/1398 [==============================] - 8s 5ms/step - loss: 39354.1797 - val_loss: 9430.4639\n",
            "Epoch 28/200\n",
            "1398/1398 [==============================] - 8s 6ms/step - loss: 33304.8867 - val_loss: 11259.6748\n",
            "Epoch 29/200\n",
            "1398/1398 [==============================] - 7s 5ms/step - loss: 49047.2656 - val_loss: 9701.5537\n",
            "Epoch 30/200\n",
            "1398/1398 [==============================] - 7s 5ms/step - loss: 40692.0117 - val_loss: 9776.4951\n",
            "Epoch 31/200\n",
            "1398/1398 [==============================] - 8s 5ms/step - loss: 37101.2695 - val_loss: 9480.9092\n",
            "Epoch 32/200\n",
            "1398/1398 [==============================] - 7s 5ms/step - loss: 35365.9883 - val_loss: 10703.6064\n",
            "Epoch 33/200\n",
            "1398/1398 [==============================] - 7s 5ms/step - loss: 36386.1406 - val_loss: 10220.8564\n",
            "Epoch 34/200\n",
            "1398/1398 [==============================] - 8s 5ms/step - loss: 46681.9297 - val_loss: 11238.1279\n",
            "Epoch 35/200\n",
            "1398/1398 [==============================] - 7s 5ms/step - loss: 33199.6719 - val_loss: 9927.2471\n",
            "Epoch 36/200\n",
            "1398/1398 [==============================] - 7s 5ms/step - loss: 32602.2090 - val_loss: 10949.9424\n",
            "Epoch 37/200\n",
            "1398/1398 [==============================] - 7s 5ms/step - loss: 31146.9609 - val_loss: 10841.2402\n",
            "Epoch 38/200\n",
            "1398/1398 [==============================] - 7s 5ms/step - loss: 29882.5195 - val_loss: 10147.7900\n",
            "Epoch 39/200\n",
            "1398/1398 [==============================] - 7s 5ms/step - loss: 33498.8125 - val_loss: 10063.5508\n",
            "Epoch 40/200\n",
            "1398/1398 [==============================] - 7s 5ms/step - loss: 32226.5820 - val_loss: 10000.5898\n",
            "Epoch 41/200\n",
            "1398/1398 [==============================] - 7s 5ms/step - loss: 30821.6523 - val_loss: 10073.4893\n",
            "Epoch 42/200\n",
            "1398/1398 [==============================] - 7s 5ms/step - loss: 27875.2305 - val_loss: 9850.9502\n",
            "Epoch 43/200\n",
            "1398/1398 [==============================] - 7s 5ms/step - loss: 28834.2539 - val_loss: 10182.4160\n",
            "Epoch 44/200\n",
            "1398/1398 [==============================] - 7s 5ms/step - loss: 31879.8594 - val_loss: 10047.9268\n",
            "Epoch 45/200\n",
            "1398/1398 [==============================] - 7s 5ms/step - loss: 24234.3828 - val_loss: 9876.3818\n",
            "Epoch 46/200\n",
            "1398/1398 [==============================] - 7s 5ms/step - loss: 27333.6895 - val_loss: 10113.0039\n",
            "Epoch 47/200\n",
            "1398/1398 [==============================] - 8s 6ms/step - loss: 27134.5527 - val_loss: 9646.7129\n",
            "Epoch 48/200\n",
            "1398/1398 [==============================] - 7s 5ms/step - loss: 23977.0684 - val_loss: 10538.7617\n",
            "Epoch 49/200\n",
            "1398/1398 [==============================] - 7s 5ms/step - loss: 22554.2988 - val_loss: 9698.0361\n",
            "Epoch 50/200\n",
            "1398/1398 [==============================] - 7s 5ms/step - loss: 24342.4102 - val_loss: 10839.0615\n",
            "Epoch 51/200\n",
            "1398/1398 [==============================] - 7s 5ms/step - loss: 27225.8281 - val_loss: 10497.8623\n",
            "Epoch 52/200\n",
            "1398/1398 [==============================] - 7s 5ms/step - loss: 31415.1172 - val_loss: 11007.7891\n",
            "Epoch 53/200\n",
            "1398/1398 [==============================] - 7s 5ms/step - loss: 22711.3691 - val_loss: 11506.1504\n",
            "Epoch 54/200\n",
            "1398/1398 [==============================] - 7s 5ms/step - loss: 24242.5020 - val_loss: 10349.7744\n",
            "Epoch 55/200\n",
            "1398/1398 [==============================] - 7s 5ms/step - loss: 22391.1934 - val_loss: 11311.0449\n",
            "Epoch 56/200\n",
            "1398/1398 [==============================] - 8s 5ms/step - loss: 27018.1777 - val_loss: 10320.8135\n",
            "Epoch 57/200\n",
            "1398/1398 [==============================] - 7s 5ms/step - loss: 21736.6816 - val_loss: 11094.4033\n",
            "Epoch 58/200\n",
            "1398/1398 [==============================] - 8s 6ms/step - loss: 19525.4492 - val_loss: 10737.1836\n",
            "Epoch 59/200\n",
            "1398/1398 [==============================] - 8s 5ms/step - loss: 21548.6426 - val_loss: 11030.9033\n",
            "Epoch 60/200\n",
            "1398/1398 [==============================] - 7s 5ms/step - loss: 20682.1152 - val_loss: 11152.9326\n",
            "Epoch 61/200\n",
            "1398/1398 [==============================] - 7s 5ms/step - loss: 19224.5645 - val_loss: 10430.6680\n",
            "Epoch 62/200\n",
            "1398/1398 [==============================] - 7s 5ms/step - loss: 19830.1230 - val_loss: 10193.4863\n",
            "Epoch 63/200\n",
            "1398/1398 [==============================] - 8s 5ms/step - loss: 24200.4297 - val_loss: 10261.3936\n",
            "Epoch 64/200\n",
            "1398/1398 [==============================] - 7s 5ms/step - loss: 20194.8633 - val_loss: 11246.7900\n",
            "Epoch 65/200\n",
            "1398/1398 [==============================] - 8s 5ms/step - loss: 17501.9941 - val_loss: 10859.6768\n",
            "Epoch 66/200\n",
            "1398/1398 [==============================] - 8s 6ms/step - loss: 20687.4590 - val_loss: 10420.9609\n",
            "Epoch 67/200\n",
            "1398/1398 [==============================] - 8s 6ms/step - loss: 18362.0898 - val_loss: 10475.6387\n",
            "Epoch 68/200\n",
            "1398/1398 [==============================] - 7s 5ms/step - loss: 21397.5918 - val_loss: 11052.6006\n",
            "Epoch 69/200\n",
            "1398/1398 [==============================] - 8s 6ms/step - loss: 27494.4395 - val_loss: 10737.6328\n",
            "Epoch 70/200\n",
            "1398/1398 [==============================] - 7s 5ms/step - loss: 21754.7871 - val_loss: 11255.4121\n",
            "Epoch 71/200\n",
            "1398/1398 [==============================] - 8s 6ms/step - loss: 20890.2031 - val_loss: 10630.2617\n",
            "Epoch 72/200\n",
            "1398/1398 [==============================] - 8s 6ms/step - loss: 22442.3691 - val_loss: 10828.0020\n",
            "Epoch 73/200\n",
            "1398/1398 [==============================] - 7s 5ms/step - loss: 19719.5508 - val_loss: 10259.5449\n",
            "Epoch 74/200\n",
            "1398/1398 [==============================] - 7s 5ms/step - loss: 17840.3691 - val_loss: 10337.8379\n",
            "Epoch 75/200\n",
            "1398/1398 [==============================] - 8s 6ms/step - loss: 18468.3887 - val_loss: 11087.3340\n",
            "Epoch 76/200\n",
            "1398/1398 [==============================] - 8s 6ms/step - loss: 20202.2539 - val_loss: 11840.3203\n",
            "Epoch 77/200\n",
            "1398/1398 [==============================] - 8s 6ms/step - loss: 18561.3398 - val_loss: 9965.7354\n",
            "Epoch 78/200\n",
            "1398/1398 [==============================] - 7s 5ms/step - loss: 16260.4883 - val_loss: 10151.0000\n",
            "Epoch 79/200\n",
            "1398/1398 [==============================] - 7s 5ms/step - loss: 17233.3184 - val_loss: 11147.5010\n",
            "Epoch 80/200\n",
            "1398/1398 [==============================] - 8s 6ms/step - loss: 17148.5469 - val_loss: 10532.4395\n",
            "Epoch 81/200\n",
            "1398/1398 [==============================] - 8s 6ms/step - loss: 15303.2334 - val_loss: 11032.7402\n",
            "Epoch 82/200\n",
            "1398/1398 [==============================] - 8s 6ms/step - loss: 16573.7617 - val_loss: 11998.6992\n",
            "Epoch 83/200\n",
            "1398/1398 [==============================] - 8s 6ms/step - loss: 19792.9961 - val_loss: 10798.6270\n",
            "Epoch 84/200\n",
            "1398/1398 [==============================] - 8s 5ms/step - loss: 17596.0938 - val_loss: 11268.1104\n",
            "Epoch 85/200\n",
            "1398/1398 [==============================] - 7s 5ms/step - loss: 18368.3711 - val_loss: 11201.9932\n",
            "Epoch 86/200\n",
            "1398/1398 [==============================] - 7s 5ms/step - loss: 16697.2090 - val_loss: 12242.5137\n",
            "Epoch 87/200\n",
            "1398/1398 [==============================] - 7s 5ms/step - loss: 16982.2734 - val_loss: 12746.5283\n",
            "Epoch 88/200\n",
            "1398/1398 [==============================] - 7s 5ms/step - loss: 17196.7246 - val_loss: 11948.7363\n",
            "Epoch 89/200\n",
            "1398/1398 [==============================] - 8s 5ms/step - loss: 17816.6230 - val_loss: 11098.1748\n",
            "Epoch 90/200\n",
            "1398/1398 [==============================] - 8s 6ms/step - loss: 27124.3320 - val_loss: 11325.2686\n",
            "Epoch 91/200\n",
            "1398/1398 [==============================] - 7s 5ms/step - loss: 23595.1484 - val_loss: 10673.1328\n",
            "Epoch 92/200\n",
            "1398/1398 [==============================] - 8s 6ms/step - loss: 17157.2402 - val_loss: 10448.3828\n",
            "Epoch 93/200\n",
            "1398/1398 [==============================] - 7s 5ms/step - loss: 16620.2969 - val_loss: 11524.9961\n",
            "Epoch 94/200\n",
            "1398/1398 [==============================] - 7s 5ms/step - loss: 19407.0176 - val_loss: 11044.5869\n",
            "Epoch 95/200\n",
            "1398/1398 [==============================] - 7s 5ms/step - loss: 18390.0605 - val_loss: 10723.3125\n",
            "Epoch 96/200\n",
            "1398/1398 [==============================] - 8s 5ms/step - loss: 19450.3379 - val_loss: 10622.0068\n",
            "Epoch 97/200\n",
            "1398/1398 [==============================] - 7s 5ms/step - loss: 20946.7637 - val_loss: 10540.9316\n",
            "Epoch 98/200\n",
            "1398/1398 [==============================] - 7s 5ms/step - loss: 21378.4258 - val_loss: 10491.0723\n",
            "Epoch 99/200\n",
            "1398/1398 [==============================] - 7s 5ms/step - loss: 19936.5234 - val_loss: 10857.4229\n",
            "Epoch 100/200\n",
            "1398/1398 [==============================] - 7s 5ms/step - loss: 19607.1211 - val_loss: 10961.9238\n",
            "Epoch 101/200\n",
            "1398/1398 [==============================] - 7s 5ms/step - loss: 23634.2539 - val_loss: 11009.9902\n",
            "Epoch 102/200\n",
            "1398/1398 [==============================] - 7s 5ms/step - loss: 19364.2207 - val_loss: 11498.4180\n",
            "Epoch 103/200\n",
            "1398/1398 [==============================] - 7s 5ms/step - loss: 17829.7617 - val_loss: 11530.6660\n",
            "Epoch 104/200\n",
            "1398/1398 [==============================] - 8s 5ms/step - loss: 22015.4199 - val_loss: 11753.6250\n",
            "Epoch 105/200\n",
            "1398/1398 [==============================] - 8s 5ms/step - loss: 20774.4668 - val_loss: 10531.9160\n",
            "Epoch 106/200\n",
            "1398/1398 [==============================] - 8s 6ms/step - loss: 22921.5137 - val_loss: 10822.1250\n",
            "Epoch 107/200\n",
            "1398/1398 [==============================] - 8s 6ms/step - loss: 22589.3750 - val_loss: 10778.7803\n",
            "Epoch 108/200\n",
            "1398/1398 [==============================] - 7s 5ms/step - loss: 23089.3047 - val_loss: 10579.5264\n",
            "Epoch 109/200\n",
            "1398/1398 [==============================] - 7s 5ms/step - loss: 19746.5195 - val_loss: 9843.9287\n",
            "Epoch 110/200\n",
            "1398/1398 [==============================] - 8s 6ms/step - loss: 17613.4922 - val_loss: 10404.9424\n",
            "Epoch 111/200\n",
            "1398/1398 [==============================] - 7s 5ms/step - loss: 17651.9512 - val_loss: 11098.0625\n",
            "Epoch 112/200\n",
            "1398/1398 [==============================] - 8s 6ms/step - loss: 17327.7246 - val_loss: 11596.8613\n",
            "Epoch 113/200\n",
            "1398/1398 [==============================] - 7s 5ms/step - loss: 20806.6934 - val_loss: 10627.8027\n",
            "Epoch 114/200\n",
            "1398/1398 [==============================] - 8s 6ms/step - loss: 18528.9961 - val_loss: 11268.6836\n",
            "Epoch 115/200\n",
            "1398/1398 [==============================] - 8s 5ms/step - loss: 21660.1914 - val_loss: 10671.7100\n",
            "Epoch 116/200\n",
            "1398/1398 [==============================] - 8s 6ms/step - loss: 20057.9863 - val_loss: 10614.7100\n",
            "Epoch 117/200\n",
            "1398/1398 [==============================] - 8s 5ms/step - loss: 16838.1582 - val_loss: 10903.9229\n",
            "Epoch 118/200\n",
            "1398/1398 [==============================] - 7s 5ms/step - loss: 14694.9473 - val_loss: 11270.4102\n",
            "Epoch 119/200\n",
            "1398/1398 [==============================] - 7s 5ms/step - loss: 15656.0498 - val_loss: 10512.1270\n",
            "Epoch 120/200\n",
            "1398/1398 [==============================] - 8s 6ms/step - loss: 17194.0742 - val_loss: 10505.1367\n",
            "Epoch 121/200\n",
            "1398/1398 [==============================] - 7s 5ms/step - loss: 14768.4082 - val_loss: 10418.9346\n",
            "Epoch 122/200\n",
            "1398/1398 [==============================] - 8s 6ms/step - loss: 18082.7480 - val_loss: 10429.5508\n",
            "Epoch 123/200\n",
            "1398/1398 [==============================] - 7s 5ms/step - loss: 18044.3066 - val_loss: 10737.1094\n",
            "Epoch 124/200\n",
            "1398/1398 [==============================] - 7s 5ms/step - loss: 19623.9062 - val_loss: 11115.8037\n",
            "Epoch 125/200\n",
            "1398/1398 [==============================] - 7s 5ms/step - loss: 14852.8232 - val_loss: 11843.6748\n",
            "Epoch 126/200\n",
            "1398/1398 [==============================] - 7s 5ms/step - loss: 17943.7676 - val_loss: 10918.4150\n",
            "Epoch 127/200\n",
            "1398/1398 [==============================] - 7s 5ms/step - loss: 14094.0967 - val_loss: 11361.5742\n",
            "Epoch 128/200\n",
            "1398/1398 [==============================] - 7s 5ms/step - loss: 16396.4082 - val_loss: 11242.0645\n",
            "Epoch 129/200\n",
            "1398/1398 [==============================] - 7s 5ms/step - loss: 30350.0605 - val_loss: 9574.9033\n",
            "Epoch 130/200\n",
            "1398/1398 [==============================] - 7s 5ms/step - loss: 15512.1709 - val_loss: 10450.5508\n",
            "Epoch 131/200\n",
            "1398/1398 [==============================] - 8s 5ms/step - loss: 19305.1699 - val_loss: 10732.9092\n",
            "Epoch 132/200\n",
            "1398/1398 [==============================] - 7s 5ms/step - loss: 19100.5215 - val_loss: 10892.4795\n",
            "Epoch 133/200\n",
            "1398/1398 [==============================] - 7s 5ms/step - loss: 13725.4521 - val_loss: 10926.9668\n",
            "Epoch 134/200\n",
            "1398/1398 [==============================] - 7s 5ms/step - loss: 12437.7539 - val_loss: 10545.3623\n",
            "Epoch 135/200\n",
            "1398/1398 [==============================] - 7s 5ms/step - loss: 13342.8975 - val_loss: 10691.1230\n",
            "Epoch 136/200\n",
            "1398/1398 [==============================] - 7s 5ms/step - loss: 12873.2295 - val_loss: 10783.4668\n",
            "Epoch 137/200\n",
            "1398/1398 [==============================] - 7s 5ms/step - loss: 13476.7051 - val_loss: 11264.1553\n",
            "Epoch 138/200\n",
            "1398/1398 [==============================] - 7s 5ms/step - loss: 12108.8691 - val_loss: 11447.3584\n",
            "Epoch 139/200\n",
            "1398/1398 [==============================] - 8s 6ms/step - loss: 15321.4121 - val_loss: 10492.1465\n",
            "Epoch 140/200\n",
            "1398/1398 [==============================] - 8s 5ms/step - loss: 15306.0137 - val_loss: 10939.7061\n",
            "Epoch 141/200\n",
            "1398/1398 [==============================] - 7s 5ms/step - loss: 13911.1602 - val_loss: 11453.8291\n",
            "Epoch 142/200\n",
            "1398/1398 [==============================] - 7s 5ms/step - loss: 15393.9346 - val_loss: 10522.4678\n",
            "Epoch 143/200\n",
            "1398/1398 [==============================] - 7s 5ms/step - loss: 12127.3154 - val_loss: 10926.4600\n",
            "Epoch 144/200\n",
            "1398/1398 [==============================] - 7s 5ms/step - loss: 13894.3594 - val_loss: 10493.9023\n",
            "Epoch 145/200\n",
            "1398/1398 [==============================] - 7s 5ms/step - loss: 16280.2920 - val_loss: 11810.6816\n",
            "Epoch 146/200\n",
            "1398/1398 [==============================] - 7s 5ms/step - loss: 14319.7910 - val_loss: 11385.8076\n",
            "Epoch 147/200\n",
            "1398/1398 [==============================] - 7s 5ms/step - loss: 16510.8047 - val_loss: 11210.6729\n",
            "Epoch 148/200\n",
            "1398/1398 [==============================] - 7s 5ms/step - loss: 14568.2871 - val_loss: 11796.3867\n",
            "Epoch 149/200\n",
            "1398/1398 [==============================] - 7s 5ms/step - loss: 14889.6963 - val_loss: 11146.7490\n",
            "Epoch 150/200\n",
            "1398/1398 [==============================] - 7s 5ms/step - loss: 13730.2529 - val_loss: 10890.5977\n",
            "Epoch 151/200\n",
            "1398/1398 [==============================] - 8s 5ms/step - loss: 13765.0137 - val_loss: 11405.8369\n",
            "Epoch 152/200\n",
            "1398/1398 [==============================] - 7s 5ms/step - loss: 14492.2178 - val_loss: 10746.7031\n",
            "Epoch 153/200\n",
            "1398/1398 [==============================] - 7s 5ms/step - loss: 14023.5459 - val_loss: 11292.4375\n",
            "Epoch 154/200\n",
            "1398/1398 [==============================] - 8s 6ms/step - loss: 15116.8320 - val_loss: 11127.2578\n",
            "Epoch 155/200\n",
            "1398/1398 [==============================] - 8s 6ms/step - loss: 19640.6055 - val_loss: 10722.4668\n",
            "Epoch 156/200\n",
            "1398/1398 [==============================] - 8s 6ms/step - loss: 16068.3018 - val_loss: 11176.4648\n",
            "Epoch 157/200\n",
            "1398/1398 [==============================] - 8s 6ms/step - loss: 18130.3066 - val_loss: 10490.6982\n",
            "Epoch 158/200\n",
            "1398/1398 [==============================] - 7s 5ms/step - loss: 19200.0352 - val_loss: 10188.0605\n",
            "Epoch 159/200\n",
            "1398/1398 [==============================] - 7s 5ms/step - loss: 19283.2559 - val_loss: 10668.6777\n",
            "Epoch 160/200\n",
            "1398/1398 [==============================] - 8s 6ms/step - loss: 18672.8613 - val_loss: 10123.3350\n",
            "Epoch 161/200\n",
            "1398/1398 [==============================] - 8s 6ms/step - loss: 19968.7168 - val_loss: 9714.7705\n",
            "Epoch 162/200\n",
            "1398/1398 [==============================] - 8s 5ms/step - loss: 17418.9180 - val_loss: 10751.7432\n",
            "Epoch 163/200\n",
            "1398/1398 [==============================] - 7s 5ms/step - loss: 14590.6562 - val_loss: 10581.8467\n",
            "Epoch 164/200\n",
            "1398/1398 [==============================] - 7s 5ms/step - loss: 15434.0020 - val_loss: 10125.6475\n",
            "Epoch 165/200\n",
            "1398/1398 [==============================] - 7s 5ms/step - loss: 14230.1377 - val_loss: 10632.5361\n",
            "Epoch 166/200\n",
            "1398/1398 [==============================] - 7s 5ms/step - loss: 15208.4316 - val_loss: 10087.2686\n",
            "Epoch 167/200\n",
            "1398/1398 [==============================] - 7s 5ms/step - loss: 15732.5869 - val_loss: 10343.3213\n",
            "Epoch 168/200\n",
            "1398/1398 [==============================] - 7s 5ms/step - loss: 16565.9629 - val_loss: 10622.9873\n",
            "Epoch 169/200\n",
            "1398/1398 [==============================] - 7s 5ms/step - loss: 12867.0391 - val_loss: 10783.9746\n",
            "Epoch 170/200\n",
            "1398/1398 [==============================] - 8s 5ms/step - loss: 11991.2402 - val_loss: 10756.6494\n",
            "Epoch 171/200\n",
            "1398/1398 [==============================] - 7s 5ms/step - loss: 15246.1680 - val_loss: 10606.8184\n",
            "Epoch 172/200\n",
            "1398/1398 [==============================] - 8s 5ms/step - loss: 16416.8281 - val_loss: 10385.8809\n",
            "Epoch 173/200\n",
            "1398/1398 [==============================] - 8s 5ms/step - loss: 15888.8809 - val_loss: 10633.9795\n",
            "Epoch 174/200\n",
            "1398/1398 [==============================] - 7s 5ms/step - loss: 12556.4111 - val_loss: 10808.5361\n",
            "Epoch 175/200\n",
            "1398/1398 [==============================] - 8s 5ms/step - loss: 14860.8545 - val_loss: 9946.5449\n",
            "Epoch 176/200\n",
            "1398/1398 [==============================] - 7s 5ms/step - loss: 16833.3633 - val_loss: 10391.7939\n",
            "Epoch 177/200\n",
            "1398/1398 [==============================] - 7s 5ms/step - loss: 13088.3115 - val_loss: 10869.3545\n",
            "Epoch 178/200\n",
            "1398/1398 [==============================] - 8s 6ms/step - loss: 12358.0215 - val_loss: 10984.2363\n",
            "Epoch 179/200\n",
            "1398/1398 [==============================] - 7s 5ms/step - loss: 12009.3047 - val_loss: 10651.7363\n",
            "Epoch 180/200\n",
            "1398/1398 [==============================] - 7s 5ms/step - loss: 11941.9424 - val_loss: 10305.2461\n",
            "Epoch 181/200\n",
            "1398/1398 [==============================] - 7s 5ms/step - loss: 11218.9180 - val_loss: 10346.0918\n",
            "Epoch 182/200\n",
            "1398/1398 [==============================] - 7s 5ms/step - loss: 12608.0527 - val_loss: 11004.9531\n",
            "Epoch 183/200\n",
            "1398/1398 [==============================] - 8s 6ms/step - loss: 12994.0029 - val_loss: 11201.5879\n",
            "Epoch 184/200\n",
            "1398/1398 [==============================] - 7s 5ms/step - loss: 13749.8252 - val_loss: 10663.6553\n",
            "Epoch 185/200\n",
            "1398/1398 [==============================] - 8s 6ms/step - loss: 14838.9893 - val_loss: 10929.0039\n",
            "Epoch 186/200\n",
            "1398/1398 [==============================] - 8s 5ms/step - loss: 14055.7969 - val_loss: 10069.2988\n",
            "Epoch 187/200\n",
            "1398/1398 [==============================] - 7s 5ms/step - loss: 13436.1182 - val_loss: 10871.0605\n",
            "Epoch 188/200\n",
            "1398/1398 [==============================] - 7s 5ms/step - loss: 11542.0039 - val_loss: 10791.0908\n",
            "Epoch 189/200\n",
            "1398/1398 [==============================] - 8s 5ms/step - loss: 10323.2812 - val_loss: 10608.3018\n",
            "Epoch 190/200\n",
            "1398/1398 [==============================] - 7s 5ms/step - loss: 10777.0850 - val_loss: 11401.0625\n",
            "Epoch 191/200\n",
            "1398/1398 [==============================] - 8s 5ms/step - loss: 10678.1055 - val_loss: 10704.1689\n",
            "Epoch 192/200\n",
            "1398/1398 [==============================] - 8s 6ms/step - loss: 11029.1416 - val_loss: 11025.7764\n",
            "Epoch 193/200\n",
            "1398/1398 [==============================] - 14s 10ms/step - loss: 12088.3486 - val_loss: 10414.7129\n",
            "Epoch 194/200\n",
            "1398/1398 [==============================] - 8s 6ms/step - loss: 17589.2031 - val_loss: 9967.0762\n",
            "Epoch 195/200\n",
            "1398/1398 [==============================] - 11s 8ms/step - loss: 14730.0664 - val_loss: 10701.9668\n",
            "Epoch 196/200\n",
            "1398/1398 [==============================] - 11s 8ms/step - loss: 12222.6309 - val_loss: 10690.1328\n",
            "Epoch 197/200\n",
            "1398/1398 [==============================] - 7s 5ms/step - loss: 11838.6973 - val_loss: 10825.2705\n",
            "Epoch 198/200\n",
            "1398/1398 [==============================] - 9s 7ms/step - loss: 11297.8369 - val_loss: 10789.8887\n",
            "Epoch 199/200\n",
            "1398/1398 [==============================] - 9s 6ms/step - loss: 10205.0889 - val_loss: 11478.0254\n",
            "Epoch 200/200\n",
            "1398/1398 [==============================] - 9s 6ms/step - loss: 10823.4521 - val_loss: 10913.5127\n"
          ]
        }
      ]
    },
    {
      "cell_type": "code",
      "source": [
        "model.save(\"/content/my_mode\")"
      ],
      "metadata": {
        "colab": {
          "base_uri": "https://localhost:8080/"
        },
        "id": "R5SIcx290YIM",
        "outputId": "343f6486-0f99-4ce3-8264-0c9804efc510"
      },
      "execution_count": null,
      "outputs": [
        {
          "output_type": "stream",
          "name": "stdout",
          "text": [
            "INFO:tensorflow:Assets written to: /content/my_mode/assets\n"
          ]
        }
      ]
    },
    {
      "cell_type": "code",
      "source": [
        "plt.figure(figsize =  (12,10))\n",
        "# summarize history for accuracy\n",
        "plt.plot(history.history['loss'])\n",
        "plt.plot(history.history['val_loss'])\n",
        "plt.ylabel('loss')\n",
        "plt.xlabel('epoch')\n",
        "plt.title('model loss')\n",
        "plt.legend(['train', 'test'], loc='upper left')\n",
        "plt.show()"
      ],
      "metadata": {
        "colab": {
          "base_uri": "https://localhost:8080/",
          "height": 621
        },
        "id": "9uiW6cO60hnV",
        "outputId": "fab72683-f7ce-4073-86ca-d9125f86d2ef"
      },
      "execution_count": null,
      "outputs": [
        {
          "output_type": "display_data",
          "data": {
            "text/plain": [
              "<Figure size 864x720 with 1 Axes>"
            ],
            "image/png": "[encoded data removed]"
          },
          "metadata": {
            "needs_background": "light"
          }
        }
      ]
    },
    {
      "cell_type": "code",
      "source": [
        "mean_absolute_error(y_test, model.predict(test.to_numpy()))"
      ],
      "metadata": {
        "colab": {
          "base_uri": "https://localhost:8080/"
        },
        "id": "cqEq7DzP1Brj",
        "outputId": "24034169-9ab1-404c-d664-2c741578a56b"
      },
      "execution_count": null,
      "outputs": [
        {
          "output_type": "execute_result",
          "data": {
            "text/plain": [
              "64.77895036488002"
            ]
          },
          "metadata": {},
          "execution_count": 61
        }
      ]
    },
    {
      "cell_type": "code",
      "source": [
        "mean_absolute_error(y_train, model.predict(train.to_numpy()))"
      ],
      "metadata": {
        "colab": {
          "base_uri": "https://localhost:8080/"
        },
        "id": "kcxwZSb-Az7X",
        "outputId": "94cf5fe4-e1a2-45f8-9e8e-1a07cb6822b3"
      },
      "execution_count": null,
      "outputs": [
        {
          "output_type": "execute_result",
          "data": {
            "text/plain": [
              "97.36432047291753"
            ]
          },
          "metadata": {},
          "execution_count": 62
        }
      ]
    },
    {
      "cell_type": "code",
      "source": [
        "mean_squared_error(y_train, model.predict(train.to_numpy()), squared=False)"
      ],
      "metadata": {
        "colab": {
          "base_uri": "https://localhost:8080/"
        },
        "id": "ZGl5c55FBJn7",
        "outputId": "968236e3-2202-4d95-ea49-8dd841a5f01f"
      },
      "execution_count": null,
      "outputs": [
        {
          "output_type": "execute_result",
          "data": {
            "text/plain": [
              "276.9230536433658"
            ]
          },
          "metadata": {},
          "execution_count": 65
        }
      ]
    },
    {
      "cell_type": "code",
      "source": [
        "mean_squared_error(y_test, model.predict(test.to_numpy()), squared=False)"
      ],
      "metadata": {
        "colab": {
          "base_uri": "https://localhost:8080/"
        },
        "id": "k3UarPKIBcvO",
        "outputId": "f120da94-70f9-4a68-b938-ee158a19cb00"
      },
      "execution_count": null,
      "outputs": [
        {
          "output_type": "execute_result",
          "data": {
            "text/plain": [
              "213.73785377434317"
            ]
          },
          "metadata": {},
          "execution_count": 66
        }
      ]
    },
    {
      "cell_type": "code",
      "source": [
        "!zip -r /content/my_mode.zip /content/my_mode"
      ],
      "metadata": {
        "colab": {
          "base_uri": "https://localhost:8080/"
        },
        "id": "aTIiG-SqCuFB",
        "outputId": "715f9a6f-b8f9-4540-b92b-4863ea9682f3"
      },
      "execution_count": null,
      "outputs": [
        {
          "output_type": "stream",
          "name": "stdout",
          "text": [
            "  adding: content/my_mode/ (stored 0%)\n",
            "  adding: content/my_mode/keras_metadata.pb (deflated 93%)\n",
            "  adding: content/my_mode/variables/ (stored 0%)\n",
            "  adding: content/my_mode/variables/variables.data-00000-of-00001 (deflated 30%)\n",
            "  adding: content/my_mode/variables/variables.index (deflated 70%)\n",
            "  adding: content/my_mode/saved_model.pb (deflated 91%)\n",
            "  adding: content/my_mode/assets/ (stored 0%)\n"
          ]
        }
      ]
    },
    {
      "cell_type": "code",
      "source": [
        "from google.colab import files\n",
        "files.download(\"/content/my_mode.zip\")"
      ],
      "metadata": {
        "colab": {
          "base_uri": "https://localhost:8080/",
          "height": 17
        },
        "id": "Fh5QMuS2Epce",
        "outputId": "0672215a-892a-43d7-e410-08a4739e1d43"
      },
      "execution_count": null,
      "outputs": [
        {
          "output_type": "display_data",
          "data": {
            "text/plain": [
              "<IPython.core.display.Javascript object>"
            ],
            "application/javascript": [
              "\n",
              "    async function download(id, filename, size) {\n",
              "      if (!google.colab.kernel.accessAllowed) {\n",
              "        return;\n",
              "      }\n",
              "      const div = document.createElement('div');\n",
              "      const label = document.createElement('label');\n",
              "      label.textContent = `Downloading \"${filename}\": `;\n",
              "      div.appendChild(label);\n",
              "      const progress = document.createElement('progress');\n",
              "      progress.max = size;\n",
              "      div.appendChild(progress);\n",
              "      document.body.appendChild(div);\n",
              "\n",
              "      const buffers = [];\n",
              "      let downloaded = 0;\n",
              "\n",
              "      const channel = await google.colab.kernel.comms.open(id);\n",
              "      // Send a message to notify the kernel that we're ready.\n",
              "      channel.send({})\n",
              "\n",
              "      for await (const message of channel.messages) {\n",
              "        // Send a message to notify the kernel that we're ready.\n",
              "        channel.send({})\n",
              "        if (message.buffers) {\n",
              "          for (const buffer of message.buffers) {\n",
              "            buffers.push(buffer);\n",
              "            downloaded += buffer.byteLength;\n",
              "            progress.value = downloaded;\n",
              "          }\n",
              "        }\n",
              "      }\n",
              "      const blob = new Blob(buffers, {type: 'application/binary'});\n",
              "      const a = document.createElement('a');\n",
              "      a.href = window.URL.createObjectURL(blob);\n",
              "      a.download = filename;\n",
              "      div.appendChild(a);\n",
              "      a.click();\n",
              "      div.remove();\n",
              "    }\n",
              "  "
            ]
          },
          "metadata": {}
        },
        {
          "output_type": "display_data",
          "data": {
            "text/plain": [
              "<IPython.core.display.Javascript object>"
            ],
            "application/javascript": [
              "download(\"download_3945fdad-2b1e-427f-aac8-a0364748c996\", \"my_mode.zip\", 1065270)"
            ]
          },
          "metadata": {}
        }
      ]
    },
    {
      "cell_type": "code",
      "source": [
        "new_tf_model = load_model(\"/content/my_mode\")"
      ],
      "metadata": {
        "id": "fTacpPyZEx54"
      },
      "execution_count": null,
      "outputs": []
    },
    {
      "cell_type": "code",
      "source": [
        "tf_predict = new_tf_model.predict(test.to_numpy())"
      ],
      "metadata": {
        "id": "icNq7YIZEx3j"
      },
      "execution_count": null,
      "outputs": []
    },
    {
      "cell_type": "code",
      "source": [
        "plt.figure(figsize=(12,10))\n",
        "plt.plot(tf_predict)\n",
        "plt.plot(y_test.to_numpy(), alpha=0.6)\n",
        "plt.legend([\"predicted value\", \"true value\"])"
      ],
      "metadata": {
        "colab": {
          "base_uri": "https://localhost:8080/",
          "height": 609
        },
        "id": "YvVlR_92Ex0_",
        "outputId": "8efdcaee-d248-4848-e940-a4f806c831f6"
      },
      "execution_count": null,
      "outputs": [
        {
          "output_type": "execute_result",
          "data": {
            "text/plain": [
              "<matplotlib.legend.Legend at 0x7f5917638050>"
            ]
          },
          "metadata": {},
          "execution_count": 55
        },
        {
          "output_type": "display_data",
          "data": {
            "text/plain": [
              "<Figure size 864x720 with 1 Axes>"
            ],
            "image/png": "[encoded data removed]"
          },
          "metadata": {
            "needs_background": "light"
          }
        }
      ]
    },
    {
      "cell_type": "code",
      "source": [
        "len(tf_predict)"
      ],
      "metadata": {
        "colab": {
          "base_uri": "https://localhost:8080/"
        },
        "id": "gHX1wYNaExyV",
        "outputId": "69d53c17-95ab-4df4-c89d-9d36566b99f7"
      },
      "execution_count": null,
      "outputs": [
        {
          "output_type": "execute_result",
          "data": {
            "text/plain": [
              "55917"
            ]
          },
          "metadata": {},
          "execution_count": 46
        }
      ]
    },
    {
      "cell_type": "code",
      "source": [
        "len(y_test.to_numpy())"
      ],
      "metadata": {
        "colab": {
          "base_uri": "https://localhost:8080/"
        },
        "id": "9hoMlo8gExv5",
        "outputId": "ef9874ba-4347-4100-9d50-c0a729b92978"
      },
      "execution_count": null,
      "outputs": [
        {
          "output_type": "execute_result",
          "data": {
            "text/plain": [
              "6213"
            ]
          },
          "metadata": {},
          "execution_count": 47
        }
      ]
    },
    {
      "cell_type": "code",
      "source": [
        "tf_predict"
      ],
      "metadata": {
        "colab": {
          "base_uri": "https://localhost:8080/"
        },
        "id": "WUHvQ15vExtc",
        "outputId": "b6f90b04-8c08-4879-8849-4d81358aff8c"
      },
      "execution_count": null,
      "outputs": [
        {
          "output_type": "execute_result",
          "data": {
            "text/plain": [
              "array([[417.77042  ],\n",
              "       [412.73407  ],\n",
              "       [404.1756   ],\n",
              "       ...,\n",
              "       [  3.0936184],\n",
              "       [  3.0936184],\n",
              "       [  3.0936193]], dtype=float32)"
            ]
          },
          "metadata": {},
          "execution_count": 53
        }
      ]
    },
    {
      "cell_type": "code",
      "source": [],
      "metadata": {
        "id": "LRH95gBUExq_"
      },
      "execution_count": null,
      "outputs": []
    },
    {
      "cell_type": "code",
      "source": [],
      "metadata": {
        "id": "o-3XJSd4Exo2"
      },
      "execution_count": null,
      "outputs": []
    },
    {
      "cell_type": "code",
      "source": [],
      "metadata": {
        "id": "20w1gYyZExmc"
      },
      "execution_count": null,
      "outputs": []
    },
    {
      "cell_type": "code",
      "source": [],
      "metadata": {
        "id": "jZtoF32UExkJ"
      },
      "execution_count": null,
      "outputs": []
    },
    {
      "cell_type": "code",
      "source": [],
      "metadata": {
        "id": "NAMTOb2DExhm"
      },
      "execution_count": null,
      "outputs": []
    },
    {
      "cell_type": "code",
      "source": [],
      "metadata": {
        "id": "mUfFVtmYEp2M"
      },
      "execution_count": null,
      "outputs": []
    }
  ]
}