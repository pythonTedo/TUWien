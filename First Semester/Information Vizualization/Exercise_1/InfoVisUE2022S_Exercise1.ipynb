{
 "cells": [
  {
   "cell_type": "code",
   "execution_count": 1,
   "id": "ca0bb814",
   "metadata": {},
   "outputs": [],
   "source": [
    "import pandas as pd \n",
    "import numpy as np\n",
    "from sklearn.impute import SimpleImputer\n",
    "import matplotlib.pyplot as plt\n",
    "import seaborn as sns\n",
    "\n",
    "from sklearn.decomposition import PCA"
   ]
  },
  {
   "cell_type": "markdown",
   "id": "60ffc8c1",
   "metadata": {},
   "source": [
    "# Information Visualization\n",
    "## Exercise 1"
   ]
  },
  {
   "cell_type": "code",
   "execution_count": 2,
   "id": "6ea7fdde",
   "metadata": {},
   "outputs": [],
   "source": [
    "df = pd.read_csv(\"betterLifeIndexTable.csv\", sep=\";\", skiprows = 1)"
   ]
  },
  {
   "cell_type": "code",
   "execution_count": 3,
   "id": "51a6128e",
   "metadata": {},
   "outputs": [
    {
     "data": {
      "text/plain": [
       "Index(['Unnamed: 0', '  Dwellings without basic facilities',\n",
       "       '  Housing expenditure', '  Rooms per person',\n",
       "       '  Household net adjusted disposable income', '  Household net wealth',\n",
       "       '  Labour market insecurity', '  Employment rate',\n",
       "       '  Long-term unemployment rate', '  Personal earnings',\n",
       "       '  Quality of support network', '  Educational attainment',\n",
       "       '  Student skills', '  Years in education', '  Air pollution',\n",
       "       '  Water quality',\n",
       "       '  Stakeholder engagement for developing regulations',\n",
       "       '  Voter turnout', '  Life expectancy', '  Self-reported health',\n",
       "       '  Life satisfaction', '  Feeling safe walking alone at night',\n",
       "       '  Homicide rate', '  Employees working very long hours',\n",
       "       '  Time devoted to leisure and personal care'],\n",
       "      dtype='object')"
      ]
     },
     "execution_count": 3,
     "metadata": {},
     "output_type": "execute_result"
    }
   ],
   "source": [
    "df.columns"
   ]
  },
  {
   "cell_type": "markdown",
   "id": "758c3aa6",
   "metadata": {},
   "source": [
    "### Data Preprocess"
   ]
  },
  {
   "cell_type": "code",
   "execution_count": 4,
   "id": "dc17ce8e",
   "metadata": {},
   "outputs": [],
   "source": [
    "df.columns = df.columns.str.replace(\" \", \"\")"
   ]
  },
  {
   "cell_type": "code",
   "execution_count": 5,
   "id": "50e976c2",
   "metadata": {},
   "outputs": [],
   "source": [
    "df = df.rename(columns={\"Unnamed:0\": \"Countries\"})"
   ]
  },
  {
   "cell_type": "code",
   "execution_count": 6,
   "id": "c78d96b0",
   "metadata": {},
   "outputs": [
    {
     "data": {
      "text/html": [
       "<div>\n",
       "<style scoped>\n",
       "    .dataframe tbody tr th:only-of-type {\n",
       "        vertical-align: middle;\n",
       "    }\n",
       "\n",
       "    .dataframe tbody tr th {\n",
       "        vertical-align: top;\n",
       "    }\n",
       "\n",
       "    .dataframe thead th {\n",
       "        text-align: right;\n",
       "    }\n",
       "</style>\n",
       "<table border=\"1\" class=\"dataframe\">\n",
       "  <thead>\n",
       "    <tr style=\"text-align: right;\">\n",
       "      <th></th>\n",
       "      <th>Countries</th>\n",
       "      <th>Dwellingswithoutbasicfacilities</th>\n",
       "      <th>Housingexpenditure</th>\n",
       "      <th>Roomsperperson</th>\n",
       "      <th>Householdnetadjusteddisposableincome</th>\n",
       "      <th>Householdnetwealth</th>\n",
       "      <th>Labourmarketinsecurity</th>\n",
       "      <th>Employmentrate</th>\n",
       "      <th>Long-termunemploymentrate</th>\n",
       "      <th>Personalearnings</th>\n",
       "      <th>...</th>\n",
       "      <th>Waterquality</th>\n",
       "      <th>Stakeholderengagementfordevelopingregulations</th>\n",
       "      <th>Voterturnout</th>\n",
       "      <th>Lifeexpectancy</th>\n",
       "      <th>Self-reportedhealth</th>\n",
       "      <th>Lifesatisfaction</th>\n",
       "      <th>Feelingsafewalkingaloneatnight</th>\n",
       "      <th>Homiciderate</th>\n",
       "      <th>Employeesworkingverylonghours</th>\n",
       "      <th>Timedevotedtoleisureandpersonalcare</th>\n",
       "    </tr>\n",
       "  </thead>\n",
       "  <tbody>\n",
       "    <tr>\n",
       "      <th>0</th>\n",
       "      <td>Australia</td>\n",
       "      <td>..</td>\n",
       "      <td>20</td>\n",
       "      <td>..</td>\n",
       "      <td>32759</td>\n",
       "      <td>427064</td>\n",
       "      <td>5,4</td>\n",
       "      <td>73</td>\n",
       "      <td>1,31</td>\n",
       "      <td>49126</td>\n",
       "      <td>...</td>\n",
       "      <td>93</td>\n",
       "      <td>2,7</td>\n",
       "      <td>91</td>\n",
       "      <td>82,5</td>\n",
       "      <td>85</td>\n",
       "      <td>7,3</td>\n",
       "      <td>63,5</td>\n",
       "      <td>1,1</td>\n",
       "      <td>13,04</td>\n",
       "      <td>14,35</td>\n",
       "    </tr>\n",
       "    <tr>\n",
       "      <th>1</th>\n",
       "      <td>Austria</td>\n",
       "      <td>0,9</td>\n",
       "      <td>21</td>\n",
       "      <td>1,6</td>\n",
       "      <td>33541</td>\n",
       "      <td>308325</td>\n",
       "      <td>3,5</td>\n",
       "      <td>72</td>\n",
       "      <td>1,84</td>\n",
       "      <td>50349</td>\n",
       "      <td>...</td>\n",
       "      <td>92</td>\n",
       "      <td>1,3</td>\n",
       "      <td>80</td>\n",
       "      <td>81,7</td>\n",
       "      <td>70</td>\n",
       "      <td>7,1</td>\n",
       "      <td>80,6</td>\n",
       "      <td>0,5</td>\n",
       "      <td>6,66</td>\n",
       "      <td>14,55</td>\n",
       "    </tr>\n",
       "    <tr>\n",
       "      <th>2</th>\n",
       "      <td>Belgium</td>\n",
       "      <td>1,9</td>\n",
       "      <td>21</td>\n",
       "      <td>2,2</td>\n",
       "      <td>30364</td>\n",
       "      <td>386006</td>\n",
       "      <td>3,7</td>\n",
       "      <td>63</td>\n",
       "      <td>3,54</td>\n",
       "      <td>49675</td>\n",
       "      <td>...</td>\n",
       "      <td>84</td>\n",
       "      <td>2</td>\n",
       "      <td>89</td>\n",
       "      <td>81,5</td>\n",
       "      <td>74</td>\n",
       "      <td>6,9</td>\n",
       "      <td>70,1</td>\n",
       "      <td>1</td>\n",
       "      <td>4,75</td>\n",
       "      <td>15,7</td>\n",
       "    </tr>\n",
       "    <tr>\n",
       "      <th>3</th>\n",
       "      <td>Canada</td>\n",
       "      <td>0,2</td>\n",
       "      <td>22</td>\n",
       "      <td>2,6</td>\n",
       "      <td>30854</td>\n",
       "      <td>423849</td>\n",
       "      <td>6</td>\n",
       "      <td>73</td>\n",
       "      <td>0,77</td>\n",
       "      <td>47622</td>\n",
       "      <td>...</td>\n",
       "      <td>91</td>\n",
       "      <td>2,9</td>\n",
       "      <td>68</td>\n",
       "      <td>81,9</td>\n",
       "      <td>88</td>\n",
       "      <td>7,4</td>\n",
       "      <td>82,2</td>\n",
       "      <td>1,3</td>\n",
       "      <td>3,69</td>\n",
       "      <td>14,56</td>\n",
       "    </tr>\n",
       "    <tr>\n",
       "      <th>4</th>\n",
       "      <td>Chile</td>\n",
       "      <td>9,4</td>\n",
       "      <td>18</td>\n",
       "      <td>1,2</td>\n",
       "      <td>..</td>\n",
       "      <td>100967</td>\n",
       "      <td>8,7</td>\n",
       "      <td>63</td>\n",
       "      <td>..</td>\n",
       "      <td>25879</td>\n",
       "      <td>...</td>\n",
       "      <td>71</td>\n",
       "      <td>1,3</td>\n",
       "      <td>47</td>\n",
       "      <td>79,9</td>\n",
       "      <td>57</td>\n",
       "      <td>6,5</td>\n",
       "      <td>47,9</td>\n",
       "      <td>4,2</td>\n",
       "      <td>9,72</td>\n",
       "      <td>..</td>\n",
       "    </tr>\n",
       "  </tbody>\n",
       "</table>\n",
       "<p>5 rows × 25 columns</p>\n",
       "</div>"
      ],
      "text/plain": [
       "   Countries Dwellingswithoutbasicfacilities Housingexpenditure  \\\n",
       "0  Australia                              ..                 20   \n",
       "1    Austria                             0,9                 21   \n",
       "2    Belgium                             1,9                 21   \n",
       "3     Canada                             0,2                 22   \n",
       "4      Chile                             9,4                 18   \n",
       "\n",
       "  Roomsperperson Householdnetadjusteddisposableincome Householdnetwealth  \\\n",
       "0             ..                                32759             427064   \n",
       "1            1,6                                33541             308325   \n",
       "2            2,2                                30364             386006   \n",
       "3            2,6                                30854             423849   \n",
       "4            1,2                                   ..             100967   \n",
       "\n",
       "  Labourmarketinsecurity  Employmentrate Long-termunemploymentrate  \\\n",
       "0                    5,4              73                      1,31   \n",
       "1                    3,5              72                      1,84   \n",
       "2                    3,7              63                      3,54   \n",
       "3                      6              73                      0,77   \n",
       "4                    8,7              63                        ..   \n",
       "\n",
       "  Personalearnings  ...  Waterquality  \\\n",
       "0            49126  ...            93   \n",
       "1            50349  ...            92   \n",
       "2            49675  ...            84   \n",
       "3            47622  ...            91   \n",
       "4            25879  ...            71   \n",
       "\n",
       "  Stakeholderengagementfordevelopingregulations Voterturnout Lifeexpectancy  \\\n",
       "0                                           2,7           91           82,5   \n",
       "1                                           1,3           80           81,7   \n",
       "2                                             2           89           81,5   \n",
       "3                                           2,9           68           81,9   \n",
       "4                                           1,3           47           79,9   \n",
       "\n",
       "   Self-reportedhealth  Lifesatisfaction Feelingsafewalkingaloneatnight  \\\n",
       "0                   85               7,3                           63,5   \n",
       "1                   70               7,1                           80,6   \n",
       "2                   74               6,9                           70,1   \n",
       "3                   88               7,4                           82,2   \n",
       "4                   57               6,5                           47,9   \n",
       "\n",
       "   Homiciderate Employeesworkingverylonghours  \\\n",
       "0           1,1                         13,04   \n",
       "1           0,5                          6,66   \n",
       "2             1                          4,75   \n",
       "3           1,3                          3,69   \n",
       "4           4,2                          9,72   \n",
       "\n",
       "  Timedevotedtoleisureandpersonalcare  \n",
       "0                               14,35  \n",
       "1                               14,55  \n",
       "2                                15,7  \n",
       "3                               14,56  \n",
       "4                                  ..  \n",
       "\n",
       "[5 rows x 25 columns]"
      ]
     },
     "execution_count": 6,
     "metadata": {},
     "output_type": "execute_result"
    }
   ],
   "source": [
    "df.head()"
   ]
  },
  {
   "cell_type": "code",
   "execution_count": 7,
   "id": "7a6e2126",
   "metadata": {},
   "outputs": [
    {
     "data": {
      "text/plain": [
       "(41, 25)"
      ]
     },
     "execution_count": 7,
     "metadata": {},
     "output_type": "execute_result"
    }
   ],
   "source": [
    "df.shape"
   ]
  },
  {
   "cell_type": "code",
   "execution_count": 8,
   "id": "30e13ccb",
   "metadata": {},
   "outputs": [
    {
     "data": {
      "text/plain": [
       "array(['Australia', 'Austria', 'Belgium', 'Canada', 'Chile', 'Colombia',\n",
       "       'Czech Republic', 'Denmark', 'Estonia', 'Finland', 'France',\n",
       "       'Germany', 'Greece', 'Hungary', 'Iceland', 'Ireland', 'Israel',\n",
       "       'Italy', 'Japan', 'Korea', 'Latvia', 'Lithuania', 'Luxembourg',\n",
       "       'Mexico', 'Netherlands', 'New Zealand', 'Norway', 'Poland',\n",
       "       'Portugal', 'Slovak Republic', 'Slovenia', 'Spain', 'Sweden',\n",
       "       'Switzerland', 'Turkey', 'United Kingdom', 'United States',\n",
       "       'OECD - Total', 'Brazil', 'Russia', 'South Africa'], dtype=object)"
      ]
     },
     "execution_count": 8,
     "metadata": {},
     "output_type": "execute_result"
    }
   ],
   "source": [
    "df.Countries.unique()"
   ]
  },
  {
   "cell_type": "code",
   "execution_count": 9,
   "id": "50960a3b",
   "metadata": {},
   "outputs": [
    {
     "data": {
      "text/html": [
       "<div>\n",
       "<style scoped>\n",
       "    .dataframe tbody tr th:only-of-type {\n",
       "        vertical-align: middle;\n",
       "    }\n",
       "\n",
       "    .dataframe tbody tr th {\n",
       "        vertical-align: top;\n",
       "    }\n",
       "\n",
       "    .dataframe thead th {\n",
       "        text-align: right;\n",
       "    }\n",
       "</style>\n",
       "<table border=\"1\" class=\"dataframe\">\n",
       "  <thead>\n",
       "    <tr style=\"text-align: right;\">\n",
       "      <th></th>\n",
       "      <th>Countries</th>\n",
       "      <th>Dwellingswithoutbasicfacilities</th>\n",
       "      <th>Housingexpenditure</th>\n",
       "      <th>Roomsperperson</th>\n",
       "      <th>Householdnetadjusteddisposableincome</th>\n",
       "      <th>Householdnetwealth</th>\n",
       "      <th>Labourmarketinsecurity</th>\n",
       "      <th>Employmentrate</th>\n",
       "      <th>Long-termunemploymentrate</th>\n",
       "      <th>Personalearnings</th>\n",
       "      <th>...</th>\n",
       "      <th>Waterquality</th>\n",
       "      <th>Stakeholderengagementfordevelopingregulations</th>\n",
       "      <th>Voterturnout</th>\n",
       "      <th>Lifeexpectancy</th>\n",
       "      <th>Self-reportedhealth</th>\n",
       "      <th>Lifesatisfaction</th>\n",
       "      <th>Feelingsafewalkingaloneatnight</th>\n",
       "      <th>Homiciderate</th>\n",
       "      <th>Employeesworkingverylonghours</th>\n",
       "      <th>Timedevotedtoleisureandpersonalcare</th>\n",
       "    </tr>\n",
       "  </thead>\n",
       "  <tbody>\n",
       "    <tr>\n",
       "      <th>37</th>\n",
       "      <td>OECD - Total</td>\n",
       "      <td>4,4</td>\n",
       "      <td>20</td>\n",
       "      <td>1,8</td>\n",
       "      <td>33604</td>\n",
       "      <td>408376</td>\n",
       "      <td>7</td>\n",
       "      <td>68</td>\n",
       "      <td>1,78</td>\n",
       "      <td>43241</td>\n",
       "      <td>...</td>\n",
       "      <td>81</td>\n",
       "      <td>2,4</td>\n",
       "      <td>68</td>\n",
       "      <td>80,2</td>\n",
       "      <td>69</td>\n",
       "      <td>6,5</td>\n",
       "      <td>68,4</td>\n",
       "      <td>3,7</td>\n",
       "      <td>11,01</td>\n",
       "      <td>14,98</td>\n",
       "    </tr>\n",
       "  </tbody>\n",
       "</table>\n",
       "<p>1 rows × 25 columns</p>\n",
       "</div>"
      ],
      "text/plain": [
       "       Countries Dwellingswithoutbasicfacilities Housingexpenditure  \\\n",
       "37  OECD - Total                             4,4                 20   \n",
       "\n",
       "   Roomsperperson Householdnetadjusteddisposableincome Householdnetwealth  \\\n",
       "37            1,8                                33604             408376   \n",
       "\n",
       "   Labourmarketinsecurity  Employmentrate Long-termunemploymentrate  \\\n",
       "37                      7              68                      1,78   \n",
       "\n",
       "   Personalearnings  ...  Waterquality  \\\n",
       "37            43241  ...            81   \n",
       "\n",
       "   Stakeholderengagementfordevelopingregulations Voterturnout Lifeexpectancy  \\\n",
       "37                                           2,4           68           80,2   \n",
       "\n",
       "    Self-reportedhealth  Lifesatisfaction Feelingsafewalkingaloneatnight  \\\n",
       "37                   69               6,5                           68,4   \n",
       "\n",
       "    Homiciderate Employeesworkingverylonghours  \\\n",
       "37           3,7                         11,01   \n",
       "\n",
       "   Timedevotedtoleisureandpersonalcare  \n",
       "37                               14,98  \n",
       "\n",
       "[1 rows x 25 columns]"
      ]
     },
     "execution_count": 9,
     "metadata": {},
     "output_type": "execute_result"
    }
   ],
   "source": [
    "df[df.Countries == \"OECD - Total\"]"
   ]
  },
  {
   "cell_type": "code",
   "execution_count": 10,
   "id": "1243ed1b",
   "metadata": {},
   "outputs": [],
   "source": [
    "df.drop(index=37, inplace = True)"
   ]
  },
  {
   "cell_type": "code",
   "execution_count": 11,
   "id": "abb6edc6",
   "metadata": {},
   "outputs": [],
   "source": [
    "df = df.reset_index(drop=True)"
   ]
  },
  {
   "cell_type": "code",
   "execution_count": 12,
   "id": "64e2c97e",
   "metadata": {},
   "outputs": [
    {
     "data": {
      "text/plain": [
       "Countries                                        object\n",
       "Dwellingswithoutbasicfacilities                  object\n",
       "Housingexpenditure                               object\n",
       "Roomsperperson                                   object\n",
       "Householdnetadjusteddisposableincome             object\n",
       "Householdnetwealth                               object\n",
       "Labourmarketinsecurity                           object\n",
       "Employmentrate                                    int64\n",
       "Long-termunemploymentrate                        object\n",
       "Personalearnings                                 object\n",
       "Qualityofsupportnetwork                           int64\n",
       "Educationalattainment                            object\n",
       "Studentskills                                    object\n",
       "Yearsineducation                                 object\n",
       "Airpollution                                      int64\n",
       "Waterquality                                      int64\n",
       "Stakeholderengagementfordevelopingregulations    object\n",
       "Voterturnout                                      int64\n",
       "Lifeexpectancy                                   object\n",
       "Self-reportedhealth                              object\n",
       "Lifesatisfaction                                 object\n",
       "Feelingsafewalkingaloneatnight                   object\n",
       "Homiciderate                                     object\n",
       "Employeesworkingverylonghours                    object\n",
       "Timedevotedtoleisureandpersonalcare              object\n",
       "dtype: object"
      ]
     },
     "execution_count": 12,
     "metadata": {},
     "output_type": "execute_result"
    }
   ],
   "source": [
    "df.dtypes"
   ]
  },
  {
   "cell_type": "code",
   "execution_count": 13,
   "id": "e2ec6b74",
   "metadata": {},
   "outputs": [],
   "source": [
    "df = df.replace(\"..\", np.NaN)"
   ]
  },
  {
   "cell_type": "code",
   "execution_count": 14,
   "id": "7e356965",
   "metadata": {},
   "outputs": [
    {
     "data": {
      "text/plain": [
       "Countries                                         0\n",
       "Dwellingswithoutbasicfacilities                   3\n",
       "Housingexpenditure                                2\n",
       "Roomsperperson                                    3\n",
       "Householdnetadjusteddisposableincome             11\n",
       "Householdnetwealth                               12\n",
       "Labourmarketinsecurity                            7\n",
       "Employmentrate                                    0\n",
       "Long-termunemploymentrate                         2\n",
       "Personalearnings                                  5\n",
       "Qualityofsupportnetwork                           0\n",
       "Educationalattainment                             1\n",
       "Studentskills                                     1\n",
       "Yearsineducation                                  1\n",
       "Airpollution                                      0\n",
       "Waterquality                                      0\n",
       "Stakeholderengagementfordevelopingregulations     2\n",
       "Voterturnout                                      0\n",
       "Lifeexpectancy                                    0\n",
       "Self-reportedhealth                               3\n",
       "Lifesatisfaction                                  0\n",
       "Feelingsafewalkingaloneatnight                    0\n",
       "Homiciderate                                      0\n",
       "Employeesworkingverylonghours                     2\n",
       "Timedevotedtoleisureandpersonalcare              18\n",
       "dtype: int64"
      ]
     },
     "execution_count": 14,
     "metadata": {},
     "output_type": "execute_result"
    }
   ],
   "source": [
    "df.isnull().sum()"
   ]
  },
  {
   "cell_type": "code",
   "execution_count": 15,
   "id": "81b15885",
   "metadata": {},
   "outputs": [
    {
     "data": {
      "text/html": [
       "<div>\n",
       "<style scoped>\n",
       "    .dataframe tbody tr th:only-of-type {\n",
       "        vertical-align: middle;\n",
       "    }\n",
       "\n",
       "    .dataframe tbody tr th {\n",
       "        vertical-align: top;\n",
       "    }\n",
       "\n",
       "    .dataframe thead th {\n",
       "        text-align: right;\n",
       "    }\n",
       "</style>\n",
       "<table border=\"1\" class=\"dataframe\">\n",
       "  <thead>\n",
       "    <tr style=\"text-align: right;\">\n",
       "      <th></th>\n",
       "      <th>Countries</th>\n",
       "      <th>Dwellingswithoutbasicfacilities</th>\n",
       "      <th>Housingexpenditure</th>\n",
       "      <th>Roomsperperson</th>\n",
       "      <th>Householdnetadjusteddisposableincome</th>\n",
       "      <th>Householdnetwealth</th>\n",
       "      <th>Labourmarketinsecurity</th>\n",
       "      <th>Employmentrate</th>\n",
       "      <th>Long-termunemploymentrate</th>\n",
       "      <th>Personalearnings</th>\n",
       "      <th>Qualityofsupportnetwork</th>\n",
       "      <th>Educationalattainment</th>\n",
       "      <th>Studentskills</th>\n",
       "      <th>Yearsineducation</th>\n",
       "      <th>Airpollution</th>\n",
       "      <th>Waterquality</th>\n",
       "      <th>Stakeholderengagementfordevelopingregulations</th>\n",
       "      <th>Voterturnout</th>\n",
       "      <th>Lifeexpectancy</th>\n",
       "      <th>Self-reportedhealth</th>\n",
       "      <th>Lifesatisfaction</th>\n",
       "      <th>Feelingsafewalkingaloneatnight</th>\n",
       "      <th>Homiciderate</th>\n",
       "      <th>Employeesworkingverylonghours</th>\n",
       "      <th>Timedevotedtoleisureandpersonalcare</th>\n",
       "    </tr>\n",
       "  </thead>\n",
       "  <tbody>\n",
       "    <tr>\n",
       "      <th>0</th>\n",
       "      <td>Australia</td>\n",
       "      <td>NaN</td>\n",
       "      <td>20</td>\n",
       "      <td>NaN</td>\n",
       "      <td>32759</td>\n",
       "      <td>427064</td>\n",
       "      <td>5,4</td>\n",
       "      <td>73</td>\n",
       "      <td>1,31</td>\n",
       "      <td>49126</td>\n",
       "      <td>95</td>\n",
       "      <td>81</td>\n",
       "      <td>502</td>\n",
       "      <td>21</td>\n",
       "      <td>5</td>\n",
       "      <td>93</td>\n",
       "      <td>2,7</td>\n",
       "      <td>91</td>\n",
       "      <td>82,5</td>\n",
       "      <td>85</td>\n",
       "      <td>7,3</td>\n",
       "      <td>63,5</td>\n",
       "      <td>1,1</td>\n",
       "      <td>13,04</td>\n",
       "      <td>14,35</td>\n",
       "    </tr>\n",
       "    <tr>\n",
       "      <th>1</th>\n",
       "      <td>Austria</td>\n",
       "      <td>0,9</td>\n",
       "      <td>21</td>\n",
       "      <td>1,6</td>\n",
       "      <td>33541</td>\n",
       "      <td>308325</td>\n",
       "      <td>3,5</td>\n",
       "      <td>72</td>\n",
       "      <td>1,84</td>\n",
       "      <td>50349</td>\n",
       "      <td>92</td>\n",
       "      <td>85</td>\n",
       "      <td>492</td>\n",
       "      <td>17</td>\n",
       "      <td>16</td>\n",
       "      <td>92</td>\n",
       "      <td>1,3</td>\n",
       "      <td>80</td>\n",
       "      <td>81,7</td>\n",
       "      <td>70</td>\n",
       "      <td>7,1</td>\n",
       "      <td>80,6</td>\n",
       "      <td>0,5</td>\n",
       "      <td>6,66</td>\n",
       "      <td>14,55</td>\n",
       "    </tr>\n",
       "    <tr>\n",
       "      <th>2</th>\n",
       "      <td>Belgium</td>\n",
       "      <td>1,9</td>\n",
       "      <td>21</td>\n",
       "      <td>2,2</td>\n",
       "      <td>30364</td>\n",
       "      <td>386006</td>\n",
       "      <td>3,7</td>\n",
       "      <td>63</td>\n",
       "      <td>3,54</td>\n",
       "      <td>49675</td>\n",
       "      <td>91</td>\n",
       "      <td>77</td>\n",
       "      <td>503</td>\n",
       "      <td>19,3</td>\n",
       "      <td>15</td>\n",
       "      <td>84</td>\n",
       "      <td>2</td>\n",
       "      <td>89</td>\n",
       "      <td>81,5</td>\n",
       "      <td>74</td>\n",
       "      <td>6,9</td>\n",
       "      <td>70,1</td>\n",
       "      <td>1</td>\n",
       "      <td>4,75</td>\n",
       "      <td>15,7</td>\n",
       "    </tr>\n",
       "    <tr>\n",
       "      <th>3</th>\n",
       "      <td>Canada</td>\n",
       "      <td>0,2</td>\n",
       "      <td>22</td>\n",
       "      <td>2,6</td>\n",
       "      <td>30854</td>\n",
       "      <td>423849</td>\n",
       "      <td>6</td>\n",
       "      <td>73</td>\n",
       "      <td>0,77</td>\n",
       "      <td>47622</td>\n",
       "      <td>93</td>\n",
       "      <td>91</td>\n",
       "      <td>523</td>\n",
       "      <td>17,3</td>\n",
       "      <td>7</td>\n",
       "      <td>91</td>\n",
       "      <td>2,9</td>\n",
       "      <td>68</td>\n",
       "      <td>81,9</td>\n",
       "      <td>88</td>\n",
       "      <td>7,4</td>\n",
       "      <td>82,2</td>\n",
       "      <td>1,3</td>\n",
       "      <td>3,69</td>\n",
       "      <td>14,56</td>\n",
       "    </tr>\n",
       "    <tr>\n",
       "      <th>4</th>\n",
       "      <td>Chile</td>\n",
       "      <td>9,4</td>\n",
       "      <td>18</td>\n",
       "      <td>1,2</td>\n",
       "      <td>NaN</td>\n",
       "      <td>100967</td>\n",
       "      <td>8,7</td>\n",
       "      <td>63</td>\n",
       "      <td>NaN</td>\n",
       "      <td>25879</td>\n",
       "      <td>85</td>\n",
       "      <td>65</td>\n",
       "      <td>443</td>\n",
       "      <td>17,5</td>\n",
       "      <td>16</td>\n",
       "      <td>71</td>\n",
       "      <td>1,3</td>\n",
       "      <td>47</td>\n",
       "      <td>79,9</td>\n",
       "      <td>57</td>\n",
       "      <td>6,5</td>\n",
       "      <td>47,9</td>\n",
       "      <td>4,2</td>\n",
       "      <td>9,72</td>\n",
       "      <td>NaN</td>\n",
       "    </tr>\n",
       "  </tbody>\n",
       "</table>\n",
       "</div>"
      ],
      "text/plain": [
       "   Countries Dwellingswithoutbasicfacilities Housingexpenditure  \\\n",
       "0  Australia                             NaN                 20   \n",
       "1    Austria                             0,9                 21   \n",
       "2    Belgium                             1,9                 21   \n",
       "3     Canada                             0,2                 22   \n",
       "4      Chile                             9,4                 18   \n",
       "\n",
       "  Roomsperperson Householdnetadjusteddisposableincome Householdnetwealth  \\\n",
       "0            NaN                                32759             427064   \n",
       "1            1,6                                33541             308325   \n",
       "2            2,2                                30364             386006   \n",
       "3            2,6                                30854             423849   \n",
       "4            1,2                                  NaN             100967   \n",
       "\n",
       "  Labourmarketinsecurity  Employmentrate Long-termunemploymentrate  \\\n",
       "0                    5,4              73                      1,31   \n",
       "1                    3,5              72                      1,84   \n",
       "2                    3,7              63                      3,54   \n",
       "3                      6              73                      0,77   \n",
       "4                    8,7              63                       NaN   \n",
       "\n",
       "  Personalearnings  Qualityofsupportnetwork Educationalattainment  \\\n",
       "0            49126                       95                    81   \n",
       "1            50349                       92                    85   \n",
       "2            49675                       91                    77   \n",
       "3            47622                       93                    91   \n",
       "4            25879                       85                    65   \n",
       "\n",
       "  Studentskills Yearsineducation  Airpollution  Waterquality  \\\n",
       "0           502               21             5            93   \n",
       "1           492               17            16            92   \n",
       "2           503             19,3            15            84   \n",
       "3           523             17,3             7            91   \n",
       "4           443             17,5            16            71   \n",
       "\n",
       "  Stakeholderengagementfordevelopingregulations  Voterturnout Lifeexpectancy  \\\n",
       "0                                           2,7            91           82,5   \n",
       "1                                           1,3            80           81,7   \n",
       "2                                             2            89           81,5   \n",
       "3                                           2,9            68           81,9   \n",
       "4                                           1,3            47           79,9   \n",
       "\n",
       "  Self-reportedhealth Lifesatisfaction Feelingsafewalkingaloneatnight  \\\n",
       "0                  85              7,3                           63,5   \n",
       "1                  70              7,1                           80,6   \n",
       "2                  74              6,9                           70,1   \n",
       "3                  88              7,4                           82,2   \n",
       "4                  57              6,5                           47,9   \n",
       "\n",
       "  Homiciderate Employeesworkingverylonghours  \\\n",
       "0          1,1                         13,04   \n",
       "1          0,5                          6,66   \n",
       "2            1                          4,75   \n",
       "3          1,3                          3,69   \n",
       "4          4,2                          9,72   \n",
       "\n",
       "  Timedevotedtoleisureandpersonalcare  \n",
       "0                               14,35  \n",
       "1                               14,55  \n",
       "2                                15,7  \n",
       "3                               14,56  \n",
       "4                                 NaN  "
      ]
     },
     "execution_count": 15,
     "metadata": {},
     "output_type": "execute_result"
    }
   ],
   "source": [
    "pd.set_option('display.max_columns', None)\n",
    "df.head(5)"
   ]
  },
  {
   "cell_type": "code",
   "execution_count": 16,
   "id": "24010db6",
   "metadata": {},
   "outputs": [],
   "source": [
    "for col in df.columns[1:]:\n",
    "    if (col in [\"Employmentrate\", \"Qualityofsupportnetwork\", \"Airpollution\", \"Waterquality\", \"Voterturnout\"]):\n",
    "        continue\n",
    "    df[col] = df[col].str.replace(',', '.')\n",
    "    df[col] = df[col].astype(float)"
   ]
  },
  {
   "cell_type": "code",
   "execution_count": 17,
   "id": "4a5fd25e",
   "metadata": {},
   "outputs": [
    {
     "data": {
      "text/plain": [
       "Countries                                         object\n",
       "Dwellingswithoutbasicfacilities                  float64\n",
       "Housingexpenditure                               float64\n",
       "Roomsperperson                                   float64\n",
       "Householdnetadjusteddisposableincome             float64\n",
       "Householdnetwealth                               float64\n",
       "Labourmarketinsecurity                           float64\n",
       "Employmentrate                                     int64\n",
       "Long-termunemploymentrate                        float64\n",
       "Personalearnings                                 float64\n",
       "Qualityofsupportnetwork                            int64\n",
       "Educationalattainment                            float64\n",
       "Studentskills                                    float64\n",
       "Yearsineducation                                 float64\n",
       "Airpollution                                       int64\n",
       "Waterquality                                       int64\n",
       "Stakeholderengagementfordevelopingregulations    float64\n",
       "Voterturnout                                       int64\n",
       "Lifeexpectancy                                   float64\n",
       "Self-reportedhealth                              float64\n",
       "Lifesatisfaction                                 float64\n",
       "Feelingsafewalkingaloneatnight                   float64\n",
       "Homiciderate                                     float64\n",
       "Employeesworkingverylonghours                    float64\n",
       "Timedevotedtoleisureandpersonalcare              float64\n",
       "dtype: object"
      ]
     },
     "execution_count": 17,
     "metadata": {},
     "output_type": "execute_result"
    }
   ],
   "source": [
    "df.dtypes"
   ]
  },
  {
   "cell_type": "markdown",
   "id": "5e1a6c96",
   "metadata": {},
   "source": [
    "I am going to use Simple Imputer to add mean value for each column. \n",
    "We have the most NaN values in columns **Householdnetwealth, Householdnetadjusteddisposableincome and Labourmarketinsecurity**"
   ]
  },
  {
   "cell_type": "code",
   "execution_count": 18,
   "id": "fccd0269",
   "metadata": {},
   "outputs": [
    {
     "data": {
      "text/plain": [
       "SimpleImputer()"
      ]
     },
     "execution_count": 18,
     "metadata": {},
     "output_type": "execute_result"
    }
   ],
   "source": [
    "imp = SimpleImputer(missing_values=np.nan, strategy='mean')\n",
    "imp.fit(df.drop(\"Countries\", axis = 1))"
   ]
  },
  {
   "cell_type": "code",
   "execution_count": 19,
   "id": "78232832",
   "metadata": {},
   "outputs": [],
   "source": [
    "imputed = imp.transform(df.drop(\"Countries\", axis = 1))"
   ]
  },
  {
   "cell_type": "code",
   "execution_count": 20,
   "id": "53c0104c",
   "metadata": {},
   "outputs": [],
   "source": [
    "df_imputed = pd.DataFrame(imputed, columns=df.columns[1:])"
   ]
  },
  {
   "cell_type": "code",
   "execution_count": 21,
   "id": "6a4ba95a",
   "metadata": {},
   "outputs": [],
   "source": [
    "df_imputed[\"Countries\"] = df.Countries"
   ]
  },
  {
   "cell_type": "code",
   "execution_count": 22,
   "id": "ec406cf2",
   "metadata": {},
   "outputs": [
    {
     "data": {
      "text/html": [
       "<div>\n",
       "<style scoped>\n",
       "    .dataframe tbody tr th:only-of-type {\n",
       "        vertical-align: middle;\n",
       "    }\n",
       "\n",
       "    .dataframe tbody tr th {\n",
       "        vertical-align: top;\n",
       "    }\n",
       "\n",
       "    .dataframe thead th {\n",
       "        text-align: right;\n",
       "    }\n",
       "</style>\n",
       "<table border=\"1\" class=\"dataframe\">\n",
       "  <thead>\n",
       "    <tr style=\"text-align: right;\">\n",
       "      <th></th>\n",
       "      <th>Dwellingswithoutbasicfacilities</th>\n",
       "      <th>Housingexpenditure</th>\n",
       "      <th>Roomsperperson</th>\n",
       "      <th>Householdnetadjusteddisposableincome</th>\n",
       "      <th>Householdnetwealth</th>\n",
       "      <th>Labourmarketinsecurity</th>\n",
       "      <th>Employmentrate</th>\n",
       "      <th>Long-termunemploymentrate</th>\n",
       "      <th>Personalearnings</th>\n",
       "      <th>Qualityofsupportnetwork</th>\n",
       "      <th>Educationalattainment</th>\n",
       "      <th>Studentskills</th>\n",
       "      <th>Yearsineducation</th>\n",
       "      <th>Airpollution</th>\n",
       "      <th>Waterquality</th>\n",
       "      <th>Stakeholderengagementfordevelopingregulations</th>\n",
       "      <th>Voterturnout</th>\n",
       "      <th>Lifeexpectancy</th>\n",
       "      <th>Self-reportedhealth</th>\n",
       "      <th>Lifesatisfaction</th>\n",
       "      <th>Feelingsafewalkingaloneatnight</th>\n",
       "      <th>Homiciderate</th>\n",
       "      <th>Employeesworkingverylonghours</th>\n",
       "      <th>Timedevotedtoleisureandpersonalcare</th>\n",
       "      <th>Countries</th>\n",
       "    </tr>\n",
       "  </thead>\n",
       "  <tbody>\n",
       "    <tr>\n",
       "      <th>0</th>\n",
       "      <td>5.075676</td>\n",
       "      <td>20.0</td>\n",
       "      <td>1.632432</td>\n",
       "      <td>32759.000000</td>\n",
       "      <td>427064.0</td>\n",
       "      <td>5.4</td>\n",
       "      <td>73.0</td>\n",
       "      <td>1.310000</td>\n",
       "      <td>49126.0</td>\n",
       "      <td>95.0</td>\n",
       "      <td>81.0</td>\n",
       "      <td>502.0</td>\n",
       "      <td>21.0</td>\n",
       "      <td>5.0</td>\n",
       "      <td>93.0</td>\n",
       "      <td>2.7</td>\n",
       "      <td>91.0</td>\n",
       "      <td>82.5</td>\n",
       "      <td>85.0</td>\n",
       "      <td>7.3</td>\n",
       "      <td>63.5</td>\n",
       "      <td>1.1</td>\n",
       "      <td>13.04</td>\n",
       "      <td>14.350000</td>\n",
       "      <td>Australia</td>\n",
       "    </tr>\n",
       "    <tr>\n",
       "      <th>1</th>\n",
       "      <td>0.900000</td>\n",
       "      <td>21.0</td>\n",
       "      <td>1.600000</td>\n",
       "      <td>33541.000000</td>\n",
       "      <td>308325.0</td>\n",
       "      <td>3.5</td>\n",
       "      <td>72.0</td>\n",
       "      <td>1.840000</td>\n",
       "      <td>50349.0</td>\n",
       "      <td>92.0</td>\n",
       "      <td>85.0</td>\n",
       "      <td>492.0</td>\n",
       "      <td>17.0</td>\n",
       "      <td>16.0</td>\n",
       "      <td>92.0</td>\n",
       "      <td>1.3</td>\n",
       "      <td>80.0</td>\n",
       "      <td>81.7</td>\n",
       "      <td>70.0</td>\n",
       "      <td>7.1</td>\n",
       "      <td>80.6</td>\n",
       "      <td>0.5</td>\n",
       "      <td>6.66</td>\n",
       "      <td>14.550000</td>\n",
       "      <td>Austria</td>\n",
       "    </tr>\n",
       "    <tr>\n",
       "      <th>2</th>\n",
       "      <td>1.900000</td>\n",
       "      <td>21.0</td>\n",
       "      <td>2.200000</td>\n",
       "      <td>30364.000000</td>\n",
       "      <td>386006.0</td>\n",
       "      <td>3.7</td>\n",
       "      <td>63.0</td>\n",
       "      <td>3.540000</td>\n",
       "      <td>49675.0</td>\n",
       "      <td>91.0</td>\n",
       "      <td>77.0</td>\n",
       "      <td>503.0</td>\n",
       "      <td>19.3</td>\n",
       "      <td>15.0</td>\n",
       "      <td>84.0</td>\n",
       "      <td>2.0</td>\n",
       "      <td>89.0</td>\n",
       "      <td>81.5</td>\n",
       "      <td>74.0</td>\n",
       "      <td>6.9</td>\n",
       "      <td>70.1</td>\n",
       "      <td>1.0</td>\n",
       "      <td>4.75</td>\n",
       "      <td>15.700000</td>\n",
       "      <td>Belgium</td>\n",
       "    </tr>\n",
       "    <tr>\n",
       "      <th>3</th>\n",
       "      <td>0.200000</td>\n",
       "      <td>22.0</td>\n",
       "      <td>2.600000</td>\n",
       "      <td>30854.000000</td>\n",
       "      <td>423849.0</td>\n",
       "      <td>6.0</td>\n",
       "      <td>73.0</td>\n",
       "      <td>0.770000</td>\n",
       "      <td>47622.0</td>\n",
       "      <td>93.0</td>\n",
       "      <td>91.0</td>\n",
       "      <td>523.0</td>\n",
       "      <td>17.3</td>\n",
       "      <td>7.0</td>\n",
       "      <td>91.0</td>\n",
       "      <td>2.9</td>\n",
       "      <td>68.0</td>\n",
       "      <td>81.9</td>\n",
       "      <td>88.0</td>\n",
       "      <td>7.4</td>\n",
       "      <td>82.2</td>\n",
       "      <td>1.3</td>\n",
       "      <td>3.69</td>\n",
       "      <td>14.560000</td>\n",
       "      <td>Canada</td>\n",
       "    </tr>\n",
       "    <tr>\n",
       "      <th>4</th>\n",
       "      <td>9.400000</td>\n",
       "      <td>18.0</td>\n",
       "      <td>1.200000</td>\n",
       "      <td>27807.310345</td>\n",
       "      <td>100967.0</td>\n",
       "      <td>8.7</td>\n",
       "      <td>63.0</td>\n",
       "      <td>2.836842</td>\n",
       "      <td>25879.0</td>\n",
       "      <td>85.0</td>\n",
       "      <td>65.0</td>\n",
       "      <td>443.0</td>\n",
       "      <td>17.5</td>\n",
       "      <td>16.0</td>\n",
       "      <td>71.0</td>\n",
       "      <td>1.3</td>\n",
       "      <td>47.0</td>\n",
       "      <td>79.9</td>\n",
       "      <td>57.0</td>\n",
       "      <td>6.5</td>\n",
       "      <td>47.9</td>\n",
       "      <td>4.2</td>\n",
       "      <td>9.72</td>\n",
       "      <td>15.084545</td>\n",
       "      <td>Chile</td>\n",
       "    </tr>\n",
       "  </tbody>\n",
       "</table>\n",
       "</div>"
      ],
      "text/plain": [
       "   Dwellingswithoutbasicfacilities  Housingexpenditure  Roomsperperson  \\\n",
       "0                         5.075676                20.0        1.632432   \n",
       "1                         0.900000                21.0        1.600000   \n",
       "2                         1.900000                21.0        2.200000   \n",
       "3                         0.200000                22.0        2.600000   \n",
       "4                         9.400000                18.0        1.200000   \n",
       "\n",
       "   Householdnetadjusteddisposableincome  Householdnetwealth  \\\n",
       "0                          32759.000000            427064.0   \n",
       "1                          33541.000000            308325.0   \n",
       "2                          30364.000000            386006.0   \n",
       "3                          30854.000000            423849.0   \n",
       "4                          27807.310345            100967.0   \n",
       "\n",
       "   Labourmarketinsecurity  Employmentrate  Long-termunemploymentrate  \\\n",
       "0                     5.4            73.0                   1.310000   \n",
       "1                     3.5            72.0                   1.840000   \n",
       "2                     3.7            63.0                   3.540000   \n",
       "3                     6.0            73.0                   0.770000   \n",
       "4                     8.7            63.0                   2.836842   \n",
       "\n",
       "   Personalearnings  Qualityofsupportnetwork  Educationalattainment  \\\n",
       "0           49126.0                     95.0                   81.0   \n",
       "1           50349.0                     92.0                   85.0   \n",
       "2           49675.0                     91.0                   77.0   \n",
       "3           47622.0                     93.0                   91.0   \n",
       "4           25879.0                     85.0                   65.0   \n",
       "\n",
       "   Studentskills  Yearsineducation  Airpollution  Waterquality  \\\n",
       "0          502.0              21.0           5.0          93.0   \n",
       "1          492.0              17.0          16.0          92.0   \n",
       "2          503.0              19.3          15.0          84.0   \n",
       "3          523.0              17.3           7.0          91.0   \n",
       "4          443.0              17.5          16.0          71.0   \n",
       "\n",
       "   Stakeholderengagementfordevelopingregulations  Voterturnout  \\\n",
       "0                                            2.7          91.0   \n",
       "1                                            1.3          80.0   \n",
       "2                                            2.0          89.0   \n",
       "3                                            2.9          68.0   \n",
       "4                                            1.3          47.0   \n",
       "\n",
       "   Lifeexpectancy  Self-reportedhealth  Lifesatisfaction  \\\n",
       "0            82.5                 85.0               7.3   \n",
       "1            81.7                 70.0               7.1   \n",
       "2            81.5                 74.0               6.9   \n",
       "3            81.9                 88.0               7.4   \n",
       "4            79.9                 57.0               6.5   \n",
       "\n",
       "   Feelingsafewalkingaloneatnight  Homiciderate  \\\n",
       "0                            63.5           1.1   \n",
       "1                            80.6           0.5   \n",
       "2                            70.1           1.0   \n",
       "3                            82.2           1.3   \n",
       "4                            47.9           4.2   \n",
       "\n",
       "   Employeesworkingverylonghours  Timedevotedtoleisureandpersonalcare  \\\n",
       "0                          13.04                            14.350000   \n",
       "1                           6.66                            14.550000   \n",
       "2                           4.75                            15.700000   \n",
       "3                           3.69                            14.560000   \n",
       "4                           9.72                            15.084545   \n",
       "\n",
       "   Countries  \n",
       "0  Australia  \n",
       "1    Austria  \n",
       "2    Belgium  \n",
       "3     Canada  \n",
       "4      Chile  "
      ]
     },
     "execution_count": 22,
     "metadata": {},
     "output_type": "execute_result"
    }
   ],
   "source": [
    "df_imputed.head()"
   ]
  },
  {
   "cell_type": "markdown",
   "id": "54775f15",
   "metadata": {},
   "source": [
    "### Data Visualization"
   ]
  },
  {
   "cell_type": "markdown",
   "id": "c2a5deca",
   "metadata": {},
   "source": [
    "#### Air Pollution\n",
    "\n",
    "Top 8 Countries with High Airpollution index "
   ]
  },
  {
   "cell_type": "code",
   "execution_count": 23,
   "id": "f237f14e",
   "metadata": {},
   "outputs": [
    {
     "data": {
      "image/png": "[encoded data removed]",
      "text/plain": [
       "<Figure size 864x576 with 1 Axes>"
      ]
     },
     "metadata": {
      "needs_background": "light"
     },
     "output_type": "display_data"
    }
   ],
   "source": [
    "plt.figure(figsize=(12, 8))\n",
    "sns.barplot(x= df_imputed.Countries, y=df_imputed.Airpollution, order=df_imputed.sort_values(\"Airpollution\",ascending=False).Countries[:8])\n",
    "plt.show()"
   ]
  },
  {
   "cell_type": "markdown",
   "id": "84a00095",
   "metadata": {},
   "source": [
    "Top 8 Countries with Low Airpollution index"
   ]
  },
  {
   "cell_type": "code",
   "execution_count": 24,
   "id": "8ce11f8b",
   "metadata": {},
   "outputs": [
    {
     "data": {
      "image/png": "[encoded data removed]",
      "text/plain": [
       "<Figure size 864x576 with 1 Axes>"
      ]
     },
     "metadata": {
      "needs_background": "light"
     },
     "output_type": "display_data"
    }
   ],
   "source": [
    "plt.figure(figsize=(12, 8))\n",
    "sns.barplot(x= df_imputed.Countries, y=df_imputed.Airpollution, order=df_imputed.sort_values(\"Airpollution\", ascending=False).Countries[-8:])\n",
    "plt.show()"
   ]
  },
  {
   "cell_type": "code",
   "execution_count": 25,
   "id": "bdce0802",
   "metadata": {},
   "outputs": [
    {
     "data": {
      "image/png": "[encoded data removed]",
      "text/plain": [
       "<Figure size 720x576 with 1 Axes>"
      ]
     },
     "metadata": {
      "needs_background": "light"
     },
     "output_type": "display_data"
    }
   ],
   "source": [
    "plt.figure(figsize=(10,8))\n",
    "plt.title(\"Earnings with Life expectancy\")\n",
    "plt.scatter(df_imputed.Lifeexpectancy, df_imputed.Personalearnings)\n",
    "plt.xlabel(\"Life expectancy\")\n",
    "plt.ylabel(\"Personal earnings\")\n",
    "plt.show()"
   ]
  },
  {
   "cell_type": "markdown",
   "id": "1053c804",
   "metadata": {},
   "source": [
    "We see the higher life expectancy is growing with the perosnal earnings."
   ]
  },
  {
   "cell_type": "code",
   "execution_count": 26,
   "id": "48268e87",
   "metadata": {},
   "outputs": [
    {
     "data": {
      "image/png": "[encoded data removed]",
      "text/plain": [
       "<Figure size 576x432 with 1 Axes>"
      ]
     },
     "metadata": {
      "needs_background": "light"
     },
     "output_type": "display_data"
    }
   ],
   "source": [
    "plt.figure(figsize=(8,6))\n",
    "plt.title(\"Life Expectancy\")\n",
    "plt.boxplot(df_imputed.Lifeexpectancy)\n",
    "plt.show()"
   ]
  },
  {
   "cell_type": "code",
   "execution_count": 27,
   "id": "e009c940",
   "metadata": {},
   "outputs": [
    {
     "data": {
      "image/png": "[encoded data removed]",
      "text/plain": [
       "<Figure size 720x576 with 1 Axes>"
      ]
     },
     "metadata": {
      "needs_background": "light"
     },
     "output_type": "display_data"
    }
   ],
   "source": [
    "plt.figure(figsize=(10,8))\n",
    "plt.title(\"Waterquality with Life expectancy\")\n",
    "plt.scatter(df_imputed.Lifeexpectancy, df_imputed.Waterquality)\n",
    "plt.xlabel(\"Life expectancy\")\n",
    "plt.ylabel(\"Water Quality\")\n",
    "plt.show()"
   ]
  },
  {
   "cell_type": "markdown",
   "id": "604555ed",
   "metadata": {},
   "source": [
    "We have better life expectancy with higher water quality"
   ]
  },
  {
   "cell_type": "code",
   "execution_count": 28,
   "id": "a9ea97a0",
   "metadata": {},
   "outputs": [],
   "source": [
    "df_imputed.to_csv(\"./betterLifeIndex_imputed.csv\")"
   ]
  },
  {
   "cell_type": "code",
   "execution_count": 29,
   "id": "3b2cb829",
   "metadata": {},
   "outputs": [
    {
     "data": {
      "text/plain": [
       "<AxesSubplot:>"
      ]
     },
     "execution_count": 29,
     "metadata": {},
     "output_type": "execute_result"
    },
    {
     "data": {
      "image/png": "[encoded data removed]",
      "text/plain": [
       "<Figure size 720x576 with 2 Axes>"
      ]
     },
     "metadata": {
      "needs_background": "light"
     },
     "output_type": "display_data"
    }
   ],
   "source": [
    "plt.figure(figsize=(10,8))\n",
    "sns.heatmap(df_imputed.corr())"
   ]
  },
  {
   "cell_type": "code",
   "execution_count": 30,
   "id": "64ee0e78",
   "metadata": {},
   "outputs": [],
   "source": [
    "pca = PCA(n_components=15)"
   ]
  },
  {
   "cell_type": "code",
   "execution_count": 31,
   "id": "2189bc19",
   "metadata": {},
   "outputs": [],
   "source": [
    "df_2 = df_imputed.set_index(\"Countries\")"
   ]
  },
  {
   "cell_type": "code",
   "execution_count": 32,
   "id": "17edcd87",
   "metadata": {},
   "outputs": [],
   "source": [
    "df_pca = pca.fit_transform(df_2)"
   ]
  },
  {
   "cell_type": "code",
   "execution_count": 33,
   "id": "e17a55cf",
   "metadata": {},
   "outputs": [
    {
     "data": {
      "text/plain": [
       "<AxesSubplot:>"
      ]
     },
     "execution_count": 33,
     "metadata": {},
     "output_type": "execute_result"
    },
    {
     "data": {
      "image/png": "[encoded data removed]",
      "text/plain": [
       "<Figure size 720x576 with 2 Axes>"
      ]
     },
     "metadata": {
      "needs_background": "light"
     },
     "output_type": "display_data"
    }
   ],
   "source": [
    "plt.figure(figsize=(10,8))\n",
    "sns.heatmap(np.corrcoef(df_pca, rowvar=False))"
   ]
  },
  {
   "cell_type": "code",
   "execution_count": 35,
   "id": "94261582",
   "metadata": {},
   "outputs": [
    {
     "name": "stdout",
     "output_type": "stream",
     "text": [
      "<class 'pandas.core.frame.DataFrame'>\n",
      "RangeIndex: 40 entries, 0 to 39\n",
      "Data columns (total 25 columns):\n",
      " #   Column                                         Non-Null Count  Dtype  \n",
      "---  ------                                         --------------  -----  \n",
      " 0   Dwellingswithoutbasicfacilities                40 non-null     float64\n",
      " 1   Housingexpenditure                             40 non-null     float64\n",
      " 2   Roomsperperson                                 40 non-null     float64\n",
      " 3   Householdnetadjusteddisposableincome           40 non-null     float64\n",
      " 4   Householdnetwealth                             40 non-null     float64\n",
      " 5   Labourmarketinsecurity                         40 non-null     float64\n",
      " 6   Employmentrate                                 40 non-null     float64\n",
      " 7   Long-termunemploymentrate                      40 non-null     float64\n",
      " 8   Personalearnings                               40 non-null     float64\n",
      " 9   Qualityofsupportnetwork                        40 non-null     float64\n",
      " 10  Educationalattainment                          40 non-null     float64\n",
      " 11  Studentskills                                  40 non-null     float64\n",
      " 12  Yearsineducation                               40 non-null     float64\n",
      " 13  Airpollution                                   40 non-null     float64\n",
      " 14  Waterquality                                   40 non-null     float64\n",
      " 15  Stakeholderengagementfordevelopingregulations  40 non-null     float64\n",
      " 16  Voterturnout                                   40 non-null     float64\n",
      " 17  Lifeexpectancy                                 40 non-null     float64\n",
      " 18  Self-reportedhealth                            40 non-null     float64\n",
      " 19  Lifesatisfaction                               40 non-null     float64\n",
      " 20  Feelingsafewalkingaloneatnight                 40 non-null     float64\n",
      " 21  Homiciderate                                   40 non-null     float64\n",
      " 22  Employeesworkingverylonghours                  40 non-null     float64\n",
      " 23  Timedevotedtoleisureandpersonalcare            40 non-null     float64\n",
      " 24  Countries                                      40 non-null     object \n",
      "dtypes: float64(24), object(1)\n",
      "memory usage: 7.9+ KB\n"
     ]
    }
   ],
   "source": [
    "df_imputed.info()"
   ]
  },
  {
   "cell_type": "code",
   "execution_count": null,
   "id": "e61c14f7",
   "metadata": {},
   "outputs": [],
   "source": []
  },
  {
   "cell_type": "code",
   "execution_count": null,
   "id": "daf0aacf",
   "metadata": {},
   "outputs": [],
   "source": []
  }
 ],
 "metadata": {
  "kernelspec": {
   "display_name": "Python 3 (ipykernel)",
   "language": "python",
   "name": "python3"
  },
  "language_info": {
   "codemirror_mode": {
    "name": "ipython",
    "version": 3
   },
   "file_extension": ".py",
   "mimetype": "text/x-python",
   "name": "python",
   "nbconvert_exporter": "python",
   "pygments_lexer": "ipython3",
   "version": "3.9.10"
  }
 },
 "nbformat": 4,
 "nbformat_minor": 5
}
