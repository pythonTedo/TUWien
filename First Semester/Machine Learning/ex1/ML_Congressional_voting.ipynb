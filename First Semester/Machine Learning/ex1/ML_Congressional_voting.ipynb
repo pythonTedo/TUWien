{
 "cells": [
  {
   "cell_type": "markdown",
   "id": "41d52706",
   "metadata": {},
   "source": [
    "# Kaggle compet - Congressional Voting"
   ]
  },
  {
   "cell_type": "markdown",
   "id": "f053e099",
   "metadata": {},
   "source": [
    "https://www.kaggle.com/competitions/184702-tu-ml-ss-22-congressional-voting/data"
   ]
  },
  {
   "cell_type": "code",
   "execution_count": 6,
   "id": "964f6af1",
   "metadata": {},
   "outputs": [],
   "source": [
    "import pandas as pd\n",
    "import numpy as np\n",
    "import seaborn as sns\n",
    "import matplotlib.pyplot as plt\n",
    "import math"
   ]
  },
  {
   "cell_type": "markdown",
   "id": "03de3849",
   "metadata": {},
   "source": [
    "## Load dataset"
   ]
  },
  {
   "cell_type": "code",
   "execution_count": 7,
   "id": "5cfc62d9",
   "metadata": {},
   "outputs": [
    {
     "data": {
      "text/html": [
       "<div>\n",
       "<style scoped>\n",
       "    .dataframe tbody tr th:only-of-type {\n",
       "        vertical-align: middle;\n",
       "    }\n",
       "\n",
       "    .dataframe tbody tr th {\n",
       "        vertical-align: top;\n",
       "    }\n",
       "\n",
       "    .dataframe thead th {\n",
       "        text-align: right;\n",
       "    }\n",
       "</style>\n",
       "<table border=\"1\" class=\"dataframe\">\n",
       "  <thead>\n",
       "    <tr style=\"text-align: right;\">\n",
       "      <th></th>\n",
       "      <th>ID</th>\n",
       "      <th>class</th>\n",
       "      <th>handicapped-infants</th>\n",
       "      <th>water-project-cost-sharing</th>\n",
       "      <th>adoption-of-the-budget-resolution</th>\n",
       "      <th>physician-fee-freeze</th>\n",
       "      <th>el-salvador-aid</th>\n",
       "      <th>religious-groups-in-schools</th>\n",
       "      <th>anti-satellite-test-ban</th>\n",
       "      <th>aid-to-nicaraguan-contras</th>\n",
       "      <th>mx-missile</th>\n",
       "      <th>immigration</th>\n",
       "      <th>synfuels-crporation-cutback</th>\n",
       "      <th>education-spending</th>\n",
       "      <th>superfund-right-to-sue</th>\n",
       "      <th>crime</th>\n",
       "      <th>duty-free-exports</th>\n",
       "      <th>export-administration-act-south-africa</th>\n",
       "    </tr>\n",
       "  </thead>\n",
       "  <tbody>\n",
       "    <tr>\n",
       "      <th>0</th>\n",
       "      <td>15</td>\n",
       "      <td>republican</td>\n",
       "      <td>n</td>\n",
       "      <td>y</td>\n",
       "      <td>n</td>\n",
       "      <td>y</td>\n",
       "      <td>y</td>\n",
       "      <td>y</td>\n",
       "      <td>n</td>\n",
       "      <td>n</td>\n",
       "      <td>n</td>\n",
       "      <td>n</td>\n",
       "      <td>n</td>\n",
       "      <td>y</td>\n",
       "      <td>unknown</td>\n",
       "      <td>unknown</td>\n",
       "      <td>n</td>\n",
       "      <td>unknown</td>\n",
       "    </tr>\n",
       "    <tr>\n",
       "      <th>1</th>\n",
       "      <td>326</td>\n",
       "      <td>democrat</td>\n",
       "      <td>n</td>\n",
       "      <td>y</td>\n",
       "      <td>n</td>\n",
       "      <td>n</td>\n",
       "      <td>y</td>\n",
       "      <td>y</td>\n",
       "      <td>n</td>\n",
       "      <td>n</td>\n",
       "      <td>unknown</td>\n",
       "      <td>n</td>\n",
       "      <td>n</td>\n",
       "      <td>y</td>\n",
       "      <td>y</td>\n",
       "      <td>y</td>\n",
       "      <td>n</td>\n",
       "      <td>y</td>\n",
       "    </tr>\n",
       "    <tr>\n",
       "      <th>2</th>\n",
       "      <td>93</td>\n",
       "      <td>democrat</td>\n",
       "      <td>y</td>\n",
       "      <td>y</td>\n",
       "      <td>y</td>\n",
       "      <td>n</td>\n",
       "      <td>n</td>\n",
       "      <td>n</td>\n",
       "      <td>y</td>\n",
       "      <td>y</td>\n",
       "      <td>n</td>\n",
       "      <td>y</td>\n",
       "      <td>y</td>\n",
       "      <td>n</td>\n",
       "      <td>n</td>\n",
       "      <td>unknown</td>\n",
       "      <td>y</td>\n",
       "      <td>y</td>\n",
       "    </tr>\n",
       "    <tr>\n",
       "      <th>3</th>\n",
       "      <td>350</td>\n",
       "      <td>republican</td>\n",
       "      <td>n</td>\n",
       "      <td>y</td>\n",
       "      <td>y</td>\n",
       "      <td>y</td>\n",
       "      <td>y</td>\n",
       "      <td>y</td>\n",
       "      <td>y</td>\n",
       "      <td>y</td>\n",
       "      <td>y</td>\n",
       "      <td>n</td>\n",
       "      <td>n</td>\n",
       "      <td>y</td>\n",
       "      <td>y</td>\n",
       "      <td>y</td>\n",
       "      <td>n</td>\n",
       "      <td>y</td>\n",
       "    </tr>\n",
       "    <tr>\n",
       "      <th>4</th>\n",
       "      <td>283</td>\n",
       "      <td>republican</td>\n",
       "      <td>y</td>\n",
       "      <td>n</td>\n",
       "      <td>n</td>\n",
       "      <td>y</td>\n",
       "      <td>y</td>\n",
       "      <td>y</td>\n",
       "      <td>n</td>\n",
       "      <td>n</td>\n",
       "      <td>n</td>\n",
       "      <td>y</td>\n",
       "      <td>n</td>\n",
       "      <td>unknown</td>\n",
       "      <td>y</td>\n",
       "      <td>y</td>\n",
       "      <td>n</td>\n",
       "      <td>n</td>\n",
       "    </tr>\n",
       "    <tr>\n",
       "      <th>...</th>\n",
       "      <td>...</td>\n",
       "      <td>...</td>\n",
       "      <td>...</td>\n",
       "      <td>...</td>\n",
       "      <td>...</td>\n",
       "      <td>...</td>\n",
       "      <td>...</td>\n",
       "      <td>...</td>\n",
       "      <td>...</td>\n",
       "      <td>...</td>\n",
       "      <td>...</td>\n",
       "      <td>...</td>\n",
       "      <td>...</td>\n",
       "      <td>...</td>\n",
       "      <td>...</td>\n",
       "      <td>...</td>\n",
       "      <td>...</td>\n",
       "      <td>...</td>\n",
       "    </tr>\n",
       "    <tr>\n",
       "      <th>213</th>\n",
       "      <td>290</td>\n",
       "      <td>democrat</td>\n",
       "      <td>y</td>\n",
       "      <td>y</td>\n",
       "      <td>y</td>\n",
       "      <td>n</td>\n",
       "      <td>y</td>\n",
       "      <td>y</td>\n",
       "      <td>n</td>\n",
       "      <td>y</td>\n",
       "      <td>n</td>\n",
       "      <td>y</td>\n",
       "      <td>y</td>\n",
       "      <td>n</td>\n",
       "      <td>y</td>\n",
       "      <td>y</td>\n",
       "      <td>n</td>\n",
       "      <td>unknown</td>\n",
       "    </tr>\n",
       "    <tr>\n",
       "      <th>214</th>\n",
       "      <td>286</td>\n",
       "      <td>democrat</td>\n",
       "      <td>n</td>\n",
       "      <td>n</td>\n",
       "      <td>y</td>\n",
       "      <td>n</td>\n",
       "      <td>n</td>\n",
       "      <td>y</td>\n",
       "      <td>y</td>\n",
       "      <td>y</td>\n",
       "      <td>y</td>\n",
       "      <td>y</td>\n",
       "      <td>y</td>\n",
       "      <td>n</td>\n",
       "      <td>n</td>\n",
       "      <td>n</td>\n",
       "      <td>y</td>\n",
       "      <td>y</td>\n",
       "    </tr>\n",
       "    <tr>\n",
       "      <th>215</th>\n",
       "      <td>95</td>\n",
       "      <td>democrat</td>\n",
       "      <td>y</td>\n",
       "      <td>n</td>\n",
       "      <td>y</td>\n",
       "      <td>n</td>\n",
       "      <td>y</td>\n",
       "      <td>y</td>\n",
       "      <td>n</td>\n",
       "      <td>n</td>\n",
       "      <td>n</td>\n",
       "      <td>n</td>\n",
       "      <td>n</td>\n",
       "      <td>n</td>\n",
       "      <td>n</td>\n",
       "      <td>n</td>\n",
       "      <td>n</td>\n",
       "      <td>y</td>\n",
       "    </tr>\n",
       "    <tr>\n",
       "      <th>216</th>\n",
       "      <td>372</td>\n",
       "      <td>democrat</td>\n",
       "      <td>y</td>\n",
       "      <td>y</td>\n",
       "      <td>y</td>\n",
       "      <td>n</td>\n",
       "      <td>unknown</td>\n",
       "      <td>n</td>\n",
       "      <td>y</td>\n",
       "      <td>y</td>\n",
       "      <td>y</td>\n",
       "      <td>y</td>\n",
       "      <td>n</td>\n",
       "      <td>n</td>\n",
       "      <td>n</td>\n",
       "      <td>n</td>\n",
       "      <td>y</td>\n",
       "      <td>unknown</td>\n",
       "    </tr>\n",
       "    <tr>\n",
       "      <th>217</th>\n",
       "      <td>360</td>\n",
       "      <td>republican</td>\n",
       "      <td>n</td>\n",
       "      <td>n</td>\n",
       "      <td>n</td>\n",
       "      <td>y</td>\n",
       "      <td>y</td>\n",
       "      <td>y</td>\n",
       "      <td>n</td>\n",
       "      <td>n</td>\n",
       "      <td>n</td>\n",
       "      <td>y</td>\n",
       "      <td>unknown</td>\n",
       "      <td>y</td>\n",
       "      <td>y</td>\n",
       "      <td>y</td>\n",
       "      <td>n</td>\n",
       "      <td>y</td>\n",
       "    </tr>\n",
       "  </tbody>\n",
       "</table>\n",
       "<p>218 rows × 18 columns</p>\n",
       "</div>"
      ],
      "text/plain": [
       "      ID       class handicapped-infants water-project-cost-sharing  \\\n",
       "0     15  republican                   n                          y   \n",
       "1    326    democrat                   n                          y   \n",
       "2     93    democrat                   y                          y   \n",
       "3    350  republican                   n                          y   \n",
       "4    283  republican                   y                          n   \n",
       "..   ...         ...                 ...                        ...   \n",
       "213  290    democrat                   y                          y   \n",
       "214  286    democrat                   n                          n   \n",
       "215   95    democrat                   y                          n   \n",
       "216  372    democrat                   y                          y   \n",
       "217  360  republican                   n                          n   \n",
       "\n",
       "    adoption-of-the-budget-resolution physician-fee-freeze el-salvador-aid  \\\n",
       "0                                   n                    y               y   \n",
       "1                                   n                    n               y   \n",
       "2                                   y                    n               n   \n",
       "3                                   y                    y               y   \n",
       "4                                   n                    y               y   \n",
       "..                                ...                  ...             ...   \n",
       "213                                 y                    n               y   \n",
       "214                                 y                    n               n   \n",
       "215                                 y                    n               y   \n",
       "216                                 y                    n         unknown   \n",
       "217                                 n                    y               y   \n",
       "\n",
       "    religious-groups-in-schools anti-satellite-test-ban  \\\n",
       "0                             y                       n   \n",
       "1                             y                       n   \n",
       "2                             n                       y   \n",
       "3                             y                       y   \n",
       "4                             y                       n   \n",
       "..                          ...                     ...   \n",
       "213                           y                       n   \n",
       "214                           y                       y   \n",
       "215                           y                       n   \n",
       "216                           n                       y   \n",
       "217                           y                       n   \n",
       "\n",
       "    aid-to-nicaraguan-contras mx-missile immigration  \\\n",
       "0                           n          n           n   \n",
       "1                           n    unknown           n   \n",
       "2                           y          n           y   \n",
       "3                           y          y           n   \n",
       "4                           n          n           y   \n",
       "..                        ...        ...         ...   \n",
       "213                         y          n           y   \n",
       "214                         y          y           y   \n",
       "215                         n          n           n   \n",
       "216                         y          y           y   \n",
       "217                         n          n           y   \n",
       "\n",
       "    synfuels-crporation-cutback education-spending superfund-right-to-sue  \\\n",
       "0                             n                  y                unknown   \n",
       "1                             n                  y                      y   \n",
       "2                             y                  n                      n   \n",
       "3                             n                  y                      y   \n",
       "4                             n            unknown                      y   \n",
       "..                          ...                ...                    ...   \n",
       "213                           y                  n                      y   \n",
       "214                           y                  n                      n   \n",
       "215                           n                  n                      n   \n",
       "216                           n                  n                      n   \n",
       "217                     unknown                  y                      y   \n",
       "\n",
       "       crime duty-free-exports export-administration-act-south-africa  \n",
       "0    unknown                 n                                unknown  \n",
       "1          y                 n                                      y  \n",
       "2    unknown                 y                                      y  \n",
       "3          y                 n                                      y  \n",
       "4          y                 n                                      n  \n",
       "..       ...               ...                                    ...  \n",
       "213        y                 n                                unknown  \n",
       "214        n                 y                                      y  \n",
       "215        n                 n                                      y  \n",
       "216        n                 y                                unknown  \n",
       "217        y                 n                                      y  \n",
       "\n",
       "[218 rows x 18 columns]"
      ]
     },
     "execution_count": 7,
     "metadata": {},
     "output_type": "execute_result"
    }
   ],
   "source": [
    "df  = pd.read_csv(\"CongressionalVotingID.shuf.lrn.csv\", sep=',')\n",
    "df"
   ]
  },
  {
   "cell_type": "markdown",
   "id": "5e43eb54",
   "metadata": {},
   "source": [
    "- 1 target \n",
    "\n",
    "- 17 attributs : all the attributs seems to be qualitive except the ID \n",
    "\n",
    "218 samples"
   ]
  },
  {
   "cell_type": "markdown",
   "id": "85241051",
   "metadata": {},
   "source": [
    "## Target\n",
    "\n",
    "we have 147 democrats and 71 republicans"
   ]
  },
  {
   "cell_type": "code",
   "execution_count": 8,
   "id": "eff7b3a5",
   "metadata": {},
   "outputs": [],
   "source": [
    "target = df[\"class\"]"
   ]
  },
  {
   "cell_type": "code",
   "execution_count": 9,
   "id": "77d6ee27",
   "metadata": {},
   "outputs": [
    {
     "data": {
      "text/plain": [
       "(array(['democrat', 'republican'], dtype=object), array([147,  71]))"
      ]
     },
     "execution_count": 9,
     "metadata": {},
     "output_type": "execute_result"
    }
   ],
   "source": [
    "np.unique(target, return_counts=True)"
   ]
  },
  {
   "cell_type": "code",
   "execution_count": 10,
   "id": "fece9af6",
   "metadata": {},
   "outputs": [
    {
     "data": {
      "text/plain": [
       "Text(0.5, 1.0, 'Target distribution')"
      ]
     },
     "execution_count": 10,
     "metadata": {},
     "output_type": "execute_result"
    },
    {
     "data": {
      "image/png": "[encoded data removed]",
      "text/plain": [
       "<Figure size 432x288 with 1 Axes>"
      ]
     },
     "metadata": {},
     "output_type": "display_data"
    }
   ],
   "source": [
    "target.value_counts().plot.pie(autopct='%1.1f%%').set_title(\"Target distribution\")"
   ]
  },
  {
   "cell_type": "code",
   "execution_count": 11,
   "id": "8a9d9d94",
   "metadata": {},
   "outputs": [
    {
     "data": {
      "text/plain": [
       "0"
      ]
     },
     "execution_count": 11,
     "metadata": {},
     "output_type": "execute_result"
    }
   ],
   "source": [
    "target.isna().sum()"
   ]
  },
  {
   "cell_type": "code",
   "execution_count": 12,
   "id": "0a026212",
   "metadata": {},
   "outputs": [
    {
     "data": {
      "text/plain": [
       "0"
      ]
     },
     "execution_count": 12,
     "metadata": {},
     "output_type": "execute_result"
    }
   ],
   "source": [
    "target.isnull().sum()"
   ]
  },
  {
   "cell_type": "markdown",
   "id": "bcc8cc4b",
   "metadata": {},
   "source": [
    "## Data\n",
    "\n",
    "the ID is unique for all samples \n",
    "\n",
    "Each attributes is a True False attribute and has some nan values noted as \"unknown\""
   ]
  },
  {
   "cell_type": "code",
   "execution_count": 13,
   "id": "c5373bfe",
   "metadata": {},
   "outputs": [
    {
     "data": {
      "text/html": [
       "<div>\n",
       "<style scoped>\n",
       "    .dataframe tbody tr th:only-of-type {\n",
       "        vertical-align: middle;\n",
       "    }\n",
       "\n",
       "    .dataframe tbody tr th {\n",
       "        vertical-align: top;\n",
       "    }\n",
       "\n",
       "    .dataframe thead th {\n",
       "        text-align: right;\n",
       "    }\n",
       "</style>\n",
       "<table border=\"1\" class=\"dataframe\">\n",
       "  <thead>\n",
       "    <tr style=\"text-align: right;\">\n",
       "      <th></th>\n",
       "      <th>ID</th>\n",
       "      <th>handicapped-infants</th>\n",
       "      <th>water-project-cost-sharing</th>\n",
       "      <th>adoption-of-the-budget-resolution</th>\n",
       "      <th>physician-fee-freeze</th>\n",
       "      <th>el-salvador-aid</th>\n",
       "      <th>religious-groups-in-schools</th>\n",
       "      <th>anti-satellite-test-ban</th>\n",
       "      <th>aid-to-nicaraguan-contras</th>\n",
       "      <th>mx-missile</th>\n",
       "      <th>immigration</th>\n",
       "      <th>synfuels-crporation-cutback</th>\n",
       "      <th>education-spending</th>\n",
       "      <th>superfund-right-to-sue</th>\n",
       "      <th>crime</th>\n",
       "      <th>duty-free-exports</th>\n",
       "      <th>export-administration-act-south-africa</th>\n",
       "    </tr>\n",
       "  </thead>\n",
       "  <tbody>\n",
       "    <tr>\n",
       "      <th>0</th>\n",
       "      <td>15</td>\n",
       "      <td>n</td>\n",
       "      <td>y</td>\n",
       "      <td>n</td>\n",
       "      <td>y</td>\n",
       "      <td>y</td>\n",
       "      <td>y</td>\n",
       "      <td>n</td>\n",
       "      <td>n</td>\n",
       "      <td>n</td>\n",
       "      <td>n</td>\n",
       "      <td>n</td>\n",
       "      <td>y</td>\n",
       "      <td>unknown</td>\n",
       "      <td>unknown</td>\n",
       "      <td>n</td>\n",
       "      <td>unknown</td>\n",
       "    </tr>\n",
       "    <tr>\n",
       "      <th>1</th>\n",
       "      <td>326</td>\n",
       "      <td>n</td>\n",
       "      <td>y</td>\n",
       "      <td>n</td>\n",
       "      <td>n</td>\n",
       "      <td>y</td>\n",
       "      <td>y</td>\n",
       "      <td>n</td>\n",
       "      <td>n</td>\n",
       "      <td>unknown</td>\n",
       "      <td>n</td>\n",
       "      <td>n</td>\n",
       "      <td>y</td>\n",
       "      <td>y</td>\n",
       "      <td>y</td>\n",
       "      <td>n</td>\n",
       "      <td>y</td>\n",
       "    </tr>\n",
       "    <tr>\n",
       "      <th>2</th>\n",
       "      <td>93</td>\n",
       "      <td>y</td>\n",
       "      <td>y</td>\n",
       "      <td>y</td>\n",
       "      <td>n</td>\n",
       "      <td>n</td>\n",
       "      <td>n</td>\n",
       "      <td>y</td>\n",
       "      <td>y</td>\n",
       "      <td>n</td>\n",
       "      <td>y</td>\n",
       "      <td>y</td>\n",
       "      <td>n</td>\n",
       "      <td>n</td>\n",
       "      <td>unknown</td>\n",
       "      <td>y</td>\n",
       "      <td>y</td>\n",
       "    </tr>\n",
       "    <tr>\n",
       "      <th>3</th>\n",
       "      <td>350</td>\n",
       "      <td>n</td>\n",
       "      <td>y</td>\n",
       "      <td>y</td>\n",
       "      <td>y</td>\n",
       "      <td>y</td>\n",
       "      <td>y</td>\n",
       "      <td>y</td>\n",
       "      <td>y</td>\n",
       "      <td>y</td>\n",
       "      <td>n</td>\n",
       "      <td>n</td>\n",
       "      <td>y</td>\n",
       "      <td>y</td>\n",
       "      <td>y</td>\n",
       "      <td>n</td>\n",
       "      <td>y</td>\n",
       "    </tr>\n",
       "    <tr>\n",
       "      <th>4</th>\n",
       "      <td>283</td>\n",
       "      <td>y</td>\n",
       "      <td>n</td>\n",
       "      <td>n</td>\n",
       "      <td>y</td>\n",
       "      <td>y</td>\n",
       "      <td>y</td>\n",
       "      <td>n</td>\n",
       "      <td>n</td>\n",
       "      <td>n</td>\n",
       "      <td>y</td>\n",
       "      <td>n</td>\n",
       "      <td>unknown</td>\n",
       "      <td>y</td>\n",
       "      <td>y</td>\n",
       "      <td>n</td>\n",
       "      <td>n</td>\n",
       "    </tr>\n",
       "    <tr>\n",
       "      <th>...</th>\n",
       "      <td>...</td>\n",
       "      <td>...</td>\n",
       "      <td>...</td>\n",
       "      <td>...</td>\n",
       "      <td>...</td>\n",
       "      <td>...</td>\n",
       "      <td>...</td>\n",
       "      <td>...</td>\n",
       "      <td>...</td>\n",
       "      <td>...</td>\n",
       "      <td>...</td>\n",
       "      <td>...</td>\n",
       "      <td>...</td>\n",
       "      <td>...</td>\n",
       "      <td>...</td>\n",
       "      <td>...</td>\n",
       "      <td>...</td>\n",
       "    </tr>\n",
       "    <tr>\n",
       "      <th>213</th>\n",
       "      <td>290</td>\n",
       "      <td>y</td>\n",
       "      <td>y</td>\n",
       "      <td>y</td>\n",
       "      <td>n</td>\n",
       "      <td>y</td>\n",
       "      <td>y</td>\n",
       "      <td>n</td>\n",
       "      <td>y</td>\n",
       "      <td>n</td>\n",
       "      <td>y</td>\n",
       "      <td>y</td>\n",
       "      <td>n</td>\n",
       "      <td>y</td>\n",
       "      <td>y</td>\n",
       "      <td>n</td>\n",
       "      <td>unknown</td>\n",
       "    </tr>\n",
       "    <tr>\n",
       "      <th>214</th>\n",
       "      <td>286</td>\n",
       "      <td>n</td>\n",
       "      <td>n</td>\n",
       "      <td>y</td>\n",
       "      <td>n</td>\n",
       "      <td>n</td>\n",
       "      <td>y</td>\n",
       "      <td>y</td>\n",
       "      <td>y</td>\n",
       "      <td>y</td>\n",
       "      <td>y</td>\n",
       "      <td>y</td>\n",
       "      <td>n</td>\n",
       "      <td>n</td>\n",
       "      <td>n</td>\n",
       "      <td>y</td>\n",
       "      <td>y</td>\n",
       "    </tr>\n",
       "    <tr>\n",
       "      <th>215</th>\n",
       "      <td>95</td>\n",
       "      <td>y</td>\n",
       "      <td>n</td>\n",
       "      <td>y</td>\n",
       "      <td>n</td>\n",
       "      <td>y</td>\n",
       "      <td>y</td>\n",
       "      <td>n</td>\n",
       "      <td>n</td>\n",
       "      <td>n</td>\n",
       "      <td>n</td>\n",
       "      <td>n</td>\n",
       "      <td>n</td>\n",
       "      <td>n</td>\n",
       "      <td>n</td>\n",
       "      <td>n</td>\n",
       "      <td>y</td>\n",
       "    </tr>\n",
       "    <tr>\n",
       "      <th>216</th>\n",
       "      <td>372</td>\n",
       "      <td>y</td>\n",
       "      <td>y</td>\n",
       "      <td>y</td>\n",
       "      <td>n</td>\n",
       "      <td>unknown</td>\n",
       "      <td>n</td>\n",
       "      <td>y</td>\n",
       "      <td>y</td>\n",
       "      <td>y</td>\n",
       "      <td>y</td>\n",
       "      <td>n</td>\n",
       "      <td>n</td>\n",
       "      <td>n</td>\n",
       "      <td>n</td>\n",
       "      <td>y</td>\n",
       "      <td>unknown</td>\n",
       "    </tr>\n",
       "    <tr>\n",
       "      <th>217</th>\n",
       "      <td>360</td>\n",
       "      <td>n</td>\n",
       "      <td>n</td>\n",
       "      <td>n</td>\n",
       "      <td>y</td>\n",
       "      <td>y</td>\n",
       "      <td>y</td>\n",
       "      <td>n</td>\n",
       "      <td>n</td>\n",
       "      <td>n</td>\n",
       "      <td>y</td>\n",
       "      <td>unknown</td>\n",
       "      <td>y</td>\n",
       "      <td>y</td>\n",
       "      <td>y</td>\n",
       "      <td>n</td>\n",
       "      <td>y</td>\n",
       "    </tr>\n",
       "  </tbody>\n",
       "</table>\n",
       "<p>218 rows × 17 columns</p>\n",
       "</div>"
      ],
      "text/plain": [
       "      ID handicapped-infants water-project-cost-sharing  \\\n",
       "0     15                   n                          y   \n",
       "1    326                   n                          y   \n",
       "2     93                   y                          y   \n",
       "3    350                   n                          y   \n",
       "4    283                   y                          n   \n",
       "..   ...                 ...                        ...   \n",
       "213  290                   y                          y   \n",
       "214  286                   n                          n   \n",
       "215   95                   y                          n   \n",
       "216  372                   y                          y   \n",
       "217  360                   n                          n   \n",
       "\n",
       "    adoption-of-the-budget-resolution physician-fee-freeze el-salvador-aid  \\\n",
       "0                                   n                    y               y   \n",
       "1                                   n                    n               y   \n",
       "2                                   y                    n               n   \n",
       "3                                   y                    y               y   \n",
       "4                                   n                    y               y   \n",
       "..                                ...                  ...             ...   \n",
       "213                                 y                    n               y   \n",
       "214                                 y                    n               n   \n",
       "215                                 y                    n               y   \n",
       "216                                 y                    n         unknown   \n",
       "217                                 n                    y               y   \n",
       "\n",
       "    religious-groups-in-schools anti-satellite-test-ban  \\\n",
       "0                             y                       n   \n",
       "1                             y                       n   \n",
       "2                             n                       y   \n",
       "3                             y                       y   \n",
       "4                             y                       n   \n",
       "..                          ...                     ...   \n",
       "213                           y                       n   \n",
       "214                           y                       y   \n",
       "215                           y                       n   \n",
       "216                           n                       y   \n",
       "217                           y                       n   \n",
       "\n",
       "    aid-to-nicaraguan-contras mx-missile immigration  \\\n",
       "0                           n          n           n   \n",
       "1                           n    unknown           n   \n",
       "2                           y          n           y   \n",
       "3                           y          y           n   \n",
       "4                           n          n           y   \n",
       "..                        ...        ...         ...   \n",
       "213                         y          n           y   \n",
       "214                         y          y           y   \n",
       "215                         n          n           n   \n",
       "216                         y          y           y   \n",
       "217                         n          n           y   \n",
       "\n",
       "    synfuels-crporation-cutback education-spending superfund-right-to-sue  \\\n",
       "0                             n                  y                unknown   \n",
       "1                             n                  y                      y   \n",
       "2                             y                  n                      n   \n",
       "3                             n                  y                      y   \n",
       "4                             n            unknown                      y   \n",
       "..                          ...                ...                    ...   \n",
       "213                           y                  n                      y   \n",
       "214                           y                  n                      n   \n",
       "215                           n                  n                      n   \n",
       "216                           n                  n                      n   \n",
       "217                     unknown                  y                      y   \n",
       "\n",
       "       crime duty-free-exports export-administration-act-south-africa  \n",
       "0    unknown                 n                                unknown  \n",
       "1          y                 n                                      y  \n",
       "2    unknown                 y                                      y  \n",
       "3          y                 n                                      y  \n",
       "4          y                 n                                      n  \n",
       "..       ...               ...                                    ...  \n",
       "213        y                 n                                unknown  \n",
       "214        n                 y                                      y  \n",
       "215        n                 n                                      y  \n",
       "216        n                 y                                unknown  \n",
       "217        y                 n                                      y  \n",
       "\n",
       "[218 rows x 17 columns]"
      ]
     },
     "execution_count": 13,
     "metadata": {},
     "output_type": "execute_result"
    }
   ],
   "source": [
    "data = df.drop(columns=[\"class\"])\n",
    "data"
   ]
  },
  {
   "cell_type": "code",
   "execution_count": 14,
   "id": "73eadbd8",
   "metadata": {},
   "outputs": [
    {
     "data": {
      "text/plain": [
       "ID                                        218\n",
       "handicapped-infants                         3\n",
       "water-project-cost-sharing                  3\n",
       "adoption-of-the-budget-resolution           3\n",
       "physician-fee-freeze                        3\n",
       "el-salvador-aid                             3\n",
       "religious-groups-in-schools                 3\n",
       "anti-satellite-test-ban                     3\n",
       "aid-to-nicaraguan-contras                   3\n",
       "mx-missile                                  3\n",
       "immigration                                 3\n",
       "synfuels-crporation-cutback                 3\n",
       "education-spending                          3\n",
       "superfund-right-to-sue                      3\n",
       "crime                                       3\n",
       "duty-free-exports                           3\n",
       "export-administration-act-south-africa      3\n",
       "dtype: int64"
      ]
     },
     "execution_count": 14,
     "metadata": {},
     "output_type": "execute_result"
    }
   ],
   "source": [
    "data.nunique()"
   ]
  },
  {
   "cell_type": "markdown",
   "id": "d4b90f54",
   "metadata": {},
   "source": [
    "### Missing values"
   ]
  },
  {
   "cell_type": "code",
   "execution_count": 15,
   "id": "78d096e4",
   "metadata": {},
   "outputs": [
    {
     "data": {
      "image/png": "[encoded data removed]",
      "text/plain": [
       "<Figure size 1440x1440 with 17 Axes>"
      ]
     },
     "metadata": {},
     "output_type": "display_data"
    }
   ],
   "source": [
    "plt.figure(figsize=(20,20))\n",
    "\n",
    "for i, col in enumerate(data.columns) :\n",
    "    plt.subplot(6,3, i+1)\n",
    "    \n",
    "    values = data[col].value_counts().values.tolist()\n",
    "    label = data[col].value_counts().index.tolist()\n",
    "    \n",
    "    plt.pie(values, labels=label, autopct='%1.1f%%', shadow=True, startangle=90)\n",
    "    plt.title(col+\" distribution\")\n",
    "    \n",
    "plt.show()"
   ]
  },
  {
   "cell_type": "code",
   "execution_count": 16,
   "id": "9d60bd20",
   "metadata": {},
   "outputs": [
    {
     "name": "stderr",
     "output_type": "stream",
     "text": [
      "/home/artmoulini/anaconda3/lib/python3.8/site-packages/pandas/core/ops/array_ops.py:253: FutureWarning: elementwise comparison failed; returning scalar instead, but in the future will perform elementwise comparison\n",
      "  res_values = method(rvalues)\n"
     ]
    },
    {
     "data": {
      "text/plain": [
       "<AxesSubplot:>"
      ]
     },
     "execution_count": 16,
     "metadata": {},
     "output_type": "execute_result"
    },
    {
     "data": {
      "image/png": "[encoded data removed]",
      "text/plain": [
       "<Figure size 864x576 with 2 Axes>"
      ]
     },
     "metadata": {
      "needs_background": "light"
     },
     "output_type": "display_data"
    }
   ],
   "source": [
    "# Plot of all the missing values \n",
    "plt.figure(figsize=(12,8))\n",
    "sns.heatmap(data == \"unknown\")"
   ]
  },
  {
   "cell_type": "markdown",
   "id": "356f674f",
   "metadata": {},
   "source": [
    "We can already noticed that a row around 126 is missing a lot of values"
   ]
  },
  {
   "cell_type": "code",
   "execution_count": 17,
   "id": "9de921a5",
   "metadata": {},
   "outputs": [
    {
     "data": {
      "text/html": [
       "<div>\n",
       "<style scoped>\n",
       "    .dataframe tbody tr th:only-of-type {\n",
       "        vertical-align: middle;\n",
       "    }\n",
       "\n",
       "    .dataframe tbody tr th {\n",
       "        vertical-align: top;\n",
       "    }\n",
       "\n",
       "    .dataframe thead th {\n",
       "        text-align: right;\n",
       "    }\n",
       "</style>\n",
       "<table border=\"1\" class=\"dataframe\">\n",
       "  <thead>\n",
       "    <tr style=\"text-align: right;\">\n",
       "      <th></th>\n",
       "      <th>ID</th>\n",
       "      <th>handicapped-infants</th>\n",
       "      <th>water-project-cost-sharing</th>\n",
       "      <th>adoption-of-the-budget-resolution</th>\n",
       "      <th>physician-fee-freeze</th>\n",
       "      <th>el-salvador-aid</th>\n",
       "      <th>religious-groups-in-schools</th>\n",
       "      <th>anti-satellite-test-ban</th>\n",
       "      <th>aid-to-nicaraguan-contras</th>\n",
       "      <th>mx-missile</th>\n",
       "      <th>immigration</th>\n",
       "      <th>synfuels-crporation-cutback</th>\n",
       "      <th>education-spending</th>\n",
       "      <th>superfund-right-to-sue</th>\n",
       "      <th>crime</th>\n",
       "      <th>duty-free-exports</th>\n",
       "      <th>export-administration-act-south-africa</th>\n",
       "      <th>is_democrat</th>\n",
       "      <th>class</th>\n",
       "    </tr>\n",
       "  </thead>\n",
       "  <tbody>\n",
       "    <tr>\n",
       "      <th>0</th>\n",
       "      <td>15</td>\n",
       "      <td>False</td>\n",
       "      <td>True</td>\n",
       "      <td>False</td>\n",
       "      <td>True</td>\n",
       "      <td>True</td>\n",
       "      <td>True</td>\n",
       "      <td>False</td>\n",
       "      <td>False</td>\n",
       "      <td>False</td>\n",
       "      <td>False</td>\n",
       "      <td>False</td>\n",
       "      <td>True</td>\n",
       "      <td>NaN</td>\n",
       "      <td>NaN</td>\n",
       "      <td>False</td>\n",
       "      <td>NaN</td>\n",
       "      <td>False</td>\n",
       "      <td>republican</td>\n",
       "    </tr>\n",
       "    <tr>\n",
       "      <th>1</th>\n",
       "      <td>326</td>\n",
       "      <td>False</td>\n",
       "      <td>True</td>\n",
       "      <td>False</td>\n",
       "      <td>False</td>\n",
       "      <td>True</td>\n",
       "      <td>True</td>\n",
       "      <td>False</td>\n",
       "      <td>False</td>\n",
       "      <td>NaN</td>\n",
       "      <td>False</td>\n",
       "      <td>False</td>\n",
       "      <td>True</td>\n",
       "      <td>True</td>\n",
       "      <td>True</td>\n",
       "      <td>False</td>\n",
       "      <td>True</td>\n",
       "      <td>True</td>\n",
       "      <td>democrat</td>\n",
       "    </tr>\n",
       "    <tr>\n",
       "      <th>2</th>\n",
       "      <td>93</td>\n",
       "      <td>True</td>\n",
       "      <td>True</td>\n",
       "      <td>True</td>\n",
       "      <td>False</td>\n",
       "      <td>False</td>\n",
       "      <td>False</td>\n",
       "      <td>True</td>\n",
       "      <td>True</td>\n",
       "      <td>False</td>\n",
       "      <td>True</td>\n",
       "      <td>True</td>\n",
       "      <td>False</td>\n",
       "      <td>False</td>\n",
       "      <td>NaN</td>\n",
       "      <td>True</td>\n",
       "      <td>True</td>\n",
       "      <td>True</td>\n",
       "      <td>democrat</td>\n",
       "    </tr>\n",
       "    <tr>\n",
       "      <th>3</th>\n",
       "      <td>350</td>\n",
       "      <td>False</td>\n",
       "      <td>True</td>\n",
       "      <td>True</td>\n",
       "      <td>True</td>\n",
       "      <td>True</td>\n",
       "      <td>True</td>\n",
       "      <td>True</td>\n",
       "      <td>True</td>\n",
       "      <td>True</td>\n",
       "      <td>False</td>\n",
       "      <td>False</td>\n",
       "      <td>True</td>\n",
       "      <td>True</td>\n",
       "      <td>True</td>\n",
       "      <td>False</td>\n",
       "      <td>True</td>\n",
       "      <td>False</td>\n",
       "      <td>republican</td>\n",
       "    </tr>\n",
       "    <tr>\n",
       "      <th>4</th>\n",
       "      <td>283</td>\n",
       "      <td>True</td>\n",
       "      <td>False</td>\n",
       "      <td>False</td>\n",
       "      <td>True</td>\n",
       "      <td>True</td>\n",
       "      <td>True</td>\n",
       "      <td>False</td>\n",
       "      <td>False</td>\n",
       "      <td>False</td>\n",
       "      <td>True</td>\n",
       "      <td>False</td>\n",
       "      <td>NaN</td>\n",
       "      <td>True</td>\n",
       "      <td>True</td>\n",
       "      <td>False</td>\n",
       "      <td>False</td>\n",
       "      <td>False</td>\n",
       "      <td>republican</td>\n",
       "    </tr>\n",
       "    <tr>\n",
       "      <th>...</th>\n",
       "      <td>...</td>\n",
       "      <td>...</td>\n",
       "      <td>...</td>\n",
       "      <td>...</td>\n",
       "      <td>...</td>\n",
       "      <td>...</td>\n",
       "      <td>...</td>\n",
       "      <td>...</td>\n",
       "      <td>...</td>\n",
       "      <td>...</td>\n",
       "      <td>...</td>\n",
       "      <td>...</td>\n",
       "      <td>...</td>\n",
       "      <td>...</td>\n",
       "      <td>...</td>\n",
       "      <td>...</td>\n",
       "      <td>...</td>\n",
       "      <td>...</td>\n",
       "      <td>...</td>\n",
       "    </tr>\n",
       "    <tr>\n",
       "      <th>213</th>\n",
       "      <td>290</td>\n",
       "      <td>True</td>\n",
       "      <td>True</td>\n",
       "      <td>True</td>\n",
       "      <td>False</td>\n",
       "      <td>True</td>\n",
       "      <td>True</td>\n",
       "      <td>False</td>\n",
       "      <td>True</td>\n",
       "      <td>False</td>\n",
       "      <td>True</td>\n",
       "      <td>True</td>\n",
       "      <td>False</td>\n",
       "      <td>True</td>\n",
       "      <td>True</td>\n",
       "      <td>False</td>\n",
       "      <td>NaN</td>\n",
       "      <td>True</td>\n",
       "      <td>democrat</td>\n",
       "    </tr>\n",
       "    <tr>\n",
       "      <th>214</th>\n",
       "      <td>286</td>\n",
       "      <td>False</td>\n",
       "      <td>False</td>\n",
       "      <td>True</td>\n",
       "      <td>False</td>\n",
       "      <td>False</td>\n",
       "      <td>True</td>\n",
       "      <td>True</td>\n",
       "      <td>True</td>\n",
       "      <td>True</td>\n",
       "      <td>True</td>\n",
       "      <td>True</td>\n",
       "      <td>False</td>\n",
       "      <td>False</td>\n",
       "      <td>False</td>\n",
       "      <td>True</td>\n",
       "      <td>True</td>\n",
       "      <td>True</td>\n",
       "      <td>democrat</td>\n",
       "    </tr>\n",
       "    <tr>\n",
       "      <th>215</th>\n",
       "      <td>95</td>\n",
       "      <td>True</td>\n",
       "      <td>False</td>\n",
       "      <td>True</td>\n",
       "      <td>False</td>\n",
       "      <td>True</td>\n",
       "      <td>True</td>\n",
       "      <td>False</td>\n",
       "      <td>False</td>\n",
       "      <td>False</td>\n",
       "      <td>False</td>\n",
       "      <td>False</td>\n",
       "      <td>False</td>\n",
       "      <td>False</td>\n",
       "      <td>False</td>\n",
       "      <td>False</td>\n",
       "      <td>True</td>\n",
       "      <td>True</td>\n",
       "      <td>democrat</td>\n",
       "    </tr>\n",
       "    <tr>\n",
       "      <th>216</th>\n",
       "      <td>372</td>\n",
       "      <td>True</td>\n",
       "      <td>True</td>\n",
       "      <td>True</td>\n",
       "      <td>False</td>\n",
       "      <td>NaN</td>\n",
       "      <td>False</td>\n",
       "      <td>True</td>\n",
       "      <td>True</td>\n",
       "      <td>True</td>\n",
       "      <td>True</td>\n",
       "      <td>False</td>\n",
       "      <td>False</td>\n",
       "      <td>False</td>\n",
       "      <td>False</td>\n",
       "      <td>True</td>\n",
       "      <td>NaN</td>\n",
       "      <td>True</td>\n",
       "      <td>democrat</td>\n",
       "    </tr>\n",
       "    <tr>\n",
       "      <th>217</th>\n",
       "      <td>360</td>\n",
       "      <td>False</td>\n",
       "      <td>False</td>\n",
       "      <td>False</td>\n",
       "      <td>True</td>\n",
       "      <td>True</td>\n",
       "      <td>True</td>\n",
       "      <td>False</td>\n",
       "      <td>False</td>\n",
       "      <td>False</td>\n",
       "      <td>True</td>\n",
       "      <td>NaN</td>\n",
       "      <td>True</td>\n",
       "      <td>True</td>\n",
       "      <td>True</td>\n",
       "      <td>False</td>\n",
       "      <td>True</td>\n",
       "      <td>False</td>\n",
       "      <td>republican</td>\n",
       "    </tr>\n",
       "  </tbody>\n",
       "</table>\n",
       "<p>218 rows × 19 columns</p>\n",
       "</div>"
      ],
      "text/plain": [
       "      ID handicapped-infants water-project-cost-sharing  \\\n",
       "0     15               False                       True   \n",
       "1    326               False                       True   \n",
       "2     93                True                       True   \n",
       "3    350               False                       True   \n",
       "4    283                True                      False   \n",
       "..   ...                 ...                        ...   \n",
       "213  290                True                       True   \n",
       "214  286               False                      False   \n",
       "215   95                True                      False   \n",
       "216  372                True                       True   \n",
       "217  360               False                      False   \n",
       "\n",
       "    adoption-of-the-budget-resolution physician-fee-freeze el-salvador-aid  \\\n",
       "0                               False                 True            True   \n",
       "1                               False                False            True   \n",
       "2                                True                False           False   \n",
       "3                                True                 True            True   \n",
       "4                               False                 True            True   \n",
       "..                                ...                  ...             ...   \n",
       "213                              True                False            True   \n",
       "214                              True                False           False   \n",
       "215                              True                False            True   \n",
       "216                              True                False             NaN   \n",
       "217                             False                 True            True   \n",
       "\n",
       "    religious-groups-in-schools anti-satellite-test-ban  \\\n",
       "0                          True                   False   \n",
       "1                          True                   False   \n",
       "2                         False                    True   \n",
       "3                          True                    True   \n",
       "4                          True                   False   \n",
       "..                          ...                     ...   \n",
       "213                        True                   False   \n",
       "214                        True                    True   \n",
       "215                        True                   False   \n",
       "216                       False                    True   \n",
       "217                        True                   False   \n",
       "\n",
       "    aid-to-nicaraguan-contras mx-missile immigration  \\\n",
       "0                       False      False       False   \n",
       "1                       False        NaN       False   \n",
       "2                        True      False        True   \n",
       "3                        True       True       False   \n",
       "4                       False      False        True   \n",
       "..                        ...        ...         ...   \n",
       "213                      True      False        True   \n",
       "214                      True       True        True   \n",
       "215                     False      False       False   \n",
       "216                      True       True        True   \n",
       "217                     False      False        True   \n",
       "\n",
       "    synfuels-crporation-cutback education-spending superfund-right-to-sue  \\\n",
       "0                         False               True                    NaN   \n",
       "1                         False               True                   True   \n",
       "2                          True              False                  False   \n",
       "3                         False               True                   True   \n",
       "4                         False                NaN                   True   \n",
       "..                          ...                ...                    ...   \n",
       "213                        True              False                   True   \n",
       "214                        True              False                  False   \n",
       "215                       False              False                  False   \n",
       "216                       False              False                  False   \n",
       "217                         NaN               True                   True   \n",
       "\n",
       "     crime duty-free-exports export-administration-act-south-africa  \\\n",
       "0      NaN             False                                    NaN   \n",
       "1     True             False                                   True   \n",
       "2      NaN              True                                   True   \n",
       "3     True             False                                   True   \n",
       "4     True             False                                  False   \n",
       "..     ...               ...                                    ...   \n",
       "213   True             False                                    NaN   \n",
       "214  False              True                                   True   \n",
       "215  False             False                                   True   \n",
       "216  False              True                                    NaN   \n",
       "217   True             False                                   True   \n",
       "\n",
       "     is_democrat       class  \n",
       "0          False  republican  \n",
       "1           True    democrat  \n",
       "2           True    democrat  \n",
       "3          False  republican  \n",
       "4          False  republican  \n",
       "..           ...         ...  \n",
       "213         True    democrat  \n",
       "214         True    democrat  \n",
       "215         True    democrat  \n",
       "216         True    democrat  \n",
       "217        False  republican  \n",
       "\n",
       "[218 rows x 19 columns]"
      ]
     },
     "execution_count": 17,
     "metadata": {},
     "output_type": "execute_result"
    }
   ],
   "source": [
    "# Converting column values with True, False, Nan values instead of 'y','n', and 'unknown' :\n",
    "# easier for the data manipulation\n",
    "convert_data = data.copy()\n",
    "\n",
    "def convert_na(val):\n",
    "    if val == \"unknown\" :\n",
    "        return math.nan\n",
    "    return val == 'y'\n",
    "\n",
    "for col in convert_data.columns :\n",
    "    convert_data[col] = convert_data[col].apply(lambda x : convert_na(x))\n",
    "    \n",
    "convert_data[\"is_democrat\"] = target.apply(lambda x : x == \"democrat\")\n",
    "convert_data[\"class\"] = df[\"class\"]\n",
    "convert_data[\"ID\"] = df[\"ID\"]\n",
    "    \n",
    "convert_data"
   ]
  },
  {
   "cell_type": "code",
   "execution_count": 18,
   "id": "cd204012",
   "metadata": {},
   "outputs": [
    {
     "data": {
      "text/html": [
       "<div>\n",
       "<style scoped>\n",
       "    .dataframe tbody tr th:only-of-type {\n",
       "        vertical-align: middle;\n",
       "    }\n",
       "\n",
       "    .dataframe tbody tr th {\n",
       "        vertical-align: top;\n",
       "    }\n",
       "\n",
       "    .dataframe thead th {\n",
       "        text-align: right;\n",
       "    }\n",
       "</style>\n",
       "<table border=\"1\" class=\"dataframe\">\n",
       "  <thead>\n",
       "    <tr style=\"text-align: right;\">\n",
       "      <th></th>\n",
       "      <th>ID</th>\n",
       "      <th>handicapped-infants</th>\n",
       "      <th>water-project-cost-sharing</th>\n",
       "      <th>adoption-of-the-budget-resolution</th>\n",
       "      <th>physician-fee-freeze</th>\n",
       "      <th>el-salvador-aid</th>\n",
       "      <th>religious-groups-in-schools</th>\n",
       "      <th>anti-satellite-test-ban</th>\n",
       "      <th>aid-to-nicaraguan-contras</th>\n",
       "      <th>mx-missile</th>\n",
       "      <th>immigration</th>\n",
       "      <th>synfuels-crporation-cutback</th>\n",
       "      <th>education-spending</th>\n",
       "      <th>superfund-right-to-sue</th>\n",
       "      <th>crime</th>\n",
       "      <th>duty-free-exports</th>\n",
       "      <th>export-administration-act-south-africa</th>\n",
       "      <th>is_democrat</th>\n",
       "      <th>class</th>\n",
       "      <th>na_count</th>\n",
       "    </tr>\n",
       "  </thead>\n",
       "  <tbody>\n",
       "    <tr>\n",
       "      <th>0</th>\n",
       "      <td>15</td>\n",
       "      <td>False</td>\n",
       "      <td>True</td>\n",
       "      <td>False</td>\n",
       "      <td>True</td>\n",
       "      <td>True</td>\n",
       "      <td>True</td>\n",
       "      <td>False</td>\n",
       "      <td>False</td>\n",
       "      <td>False</td>\n",
       "      <td>False</td>\n",
       "      <td>False</td>\n",
       "      <td>True</td>\n",
       "      <td>NaN</td>\n",
       "      <td>NaN</td>\n",
       "      <td>False</td>\n",
       "      <td>NaN</td>\n",
       "      <td>False</td>\n",
       "      <td>republican</td>\n",
       "      <td>3</td>\n",
       "    </tr>\n",
       "    <tr>\n",
       "      <th>1</th>\n",
       "      <td>326</td>\n",
       "      <td>False</td>\n",
       "      <td>True</td>\n",
       "      <td>False</td>\n",
       "      <td>False</td>\n",
       "      <td>True</td>\n",
       "      <td>True</td>\n",
       "      <td>False</td>\n",
       "      <td>False</td>\n",
       "      <td>NaN</td>\n",
       "      <td>False</td>\n",
       "      <td>False</td>\n",
       "      <td>True</td>\n",
       "      <td>True</td>\n",
       "      <td>True</td>\n",
       "      <td>False</td>\n",
       "      <td>True</td>\n",
       "      <td>True</td>\n",
       "      <td>democrat</td>\n",
       "      <td>1</td>\n",
       "    </tr>\n",
       "    <tr>\n",
       "      <th>2</th>\n",
       "      <td>93</td>\n",
       "      <td>True</td>\n",
       "      <td>True</td>\n",
       "      <td>True</td>\n",
       "      <td>False</td>\n",
       "      <td>False</td>\n",
       "      <td>False</td>\n",
       "      <td>True</td>\n",
       "      <td>True</td>\n",
       "      <td>False</td>\n",
       "      <td>True</td>\n",
       "      <td>True</td>\n",
       "      <td>False</td>\n",
       "      <td>False</td>\n",
       "      <td>NaN</td>\n",
       "      <td>True</td>\n",
       "      <td>True</td>\n",
       "      <td>True</td>\n",
       "      <td>democrat</td>\n",
       "      <td>1</td>\n",
       "    </tr>\n",
       "    <tr>\n",
       "      <th>3</th>\n",
       "      <td>350</td>\n",
       "      <td>False</td>\n",
       "      <td>True</td>\n",
       "      <td>True</td>\n",
       "      <td>True</td>\n",
       "      <td>True</td>\n",
       "      <td>True</td>\n",
       "      <td>True</td>\n",
       "      <td>True</td>\n",
       "      <td>True</td>\n",
       "      <td>False</td>\n",
       "      <td>False</td>\n",
       "      <td>True</td>\n",
       "      <td>True</td>\n",
       "      <td>True</td>\n",
       "      <td>False</td>\n",
       "      <td>True</td>\n",
       "      <td>False</td>\n",
       "      <td>republican</td>\n",
       "      <td>0</td>\n",
       "    </tr>\n",
       "    <tr>\n",
       "      <th>4</th>\n",
       "      <td>283</td>\n",
       "      <td>True</td>\n",
       "      <td>False</td>\n",
       "      <td>False</td>\n",
       "      <td>True</td>\n",
       "      <td>True</td>\n",
       "      <td>True</td>\n",
       "      <td>False</td>\n",
       "      <td>False</td>\n",
       "      <td>False</td>\n",
       "      <td>True</td>\n",
       "      <td>False</td>\n",
       "      <td>NaN</td>\n",
       "      <td>True</td>\n",
       "      <td>True</td>\n",
       "      <td>False</td>\n",
       "      <td>False</td>\n",
       "      <td>False</td>\n",
       "      <td>republican</td>\n",
       "      <td>1</td>\n",
       "    </tr>\n",
       "    <tr>\n",
       "      <th>...</th>\n",
       "      <td>...</td>\n",
       "      <td>...</td>\n",
       "      <td>...</td>\n",
       "      <td>...</td>\n",
       "      <td>...</td>\n",
       "      <td>...</td>\n",
       "      <td>...</td>\n",
       "      <td>...</td>\n",
       "      <td>...</td>\n",
       "      <td>...</td>\n",
       "      <td>...</td>\n",
       "      <td>...</td>\n",
       "      <td>...</td>\n",
       "      <td>...</td>\n",
       "      <td>...</td>\n",
       "      <td>...</td>\n",
       "      <td>...</td>\n",
       "      <td>...</td>\n",
       "      <td>...</td>\n",
       "      <td>...</td>\n",
       "    </tr>\n",
       "    <tr>\n",
       "      <th>213</th>\n",
       "      <td>290</td>\n",
       "      <td>True</td>\n",
       "      <td>True</td>\n",
       "      <td>True</td>\n",
       "      <td>False</td>\n",
       "      <td>True</td>\n",
       "      <td>True</td>\n",
       "      <td>False</td>\n",
       "      <td>True</td>\n",
       "      <td>False</td>\n",
       "      <td>True</td>\n",
       "      <td>True</td>\n",
       "      <td>False</td>\n",
       "      <td>True</td>\n",
       "      <td>True</td>\n",
       "      <td>False</td>\n",
       "      <td>NaN</td>\n",
       "      <td>True</td>\n",
       "      <td>democrat</td>\n",
       "      <td>1</td>\n",
       "    </tr>\n",
       "    <tr>\n",
       "      <th>214</th>\n",
       "      <td>286</td>\n",
       "      <td>False</td>\n",
       "      <td>False</td>\n",
       "      <td>True</td>\n",
       "      <td>False</td>\n",
       "      <td>False</td>\n",
       "      <td>True</td>\n",
       "      <td>True</td>\n",
       "      <td>True</td>\n",
       "      <td>True</td>\n",
       "      <td>True</td>\n",
       "      <td>True</td>\n",
       "      <td>False</td>\n",
       "      <td>False</td>\n",
       "      <td>False</td>\n",
       "      <td>True</td>\n",
       "      <td>True</td>\n",
       "      <td>True</td>\n",
       "      <td>democrat</td>\n",
       "      <td>0</td>\n",
       "    </tr>\n",
       "    <tr>\n",
       "      <th>215</th>\n",
       "      <td>95</td>\n",
       "      <td>True</td>\n",
       "      <td>False</td>\n",
       "      <td>True</td>\n",
       "      <td>False</td>\n",
       "      <td>True</td>\n",
       "      <td>True</td>\n",
       "      <td>False</td>\n",
       "      <td>False</td>\n",
       "      <td>False</td>\n",
       "      <td>False</td>\n",
       "      <td>False</td>\n",
       "      <td>False</td>\n",
       "      <td>False</td>\n",
       "      <td>False</td>\n",
       "      <td>False</td>\n",
       "      <td>True</td>\n",
       "      <td>True</td>\n",
       "      <td>democrat</td>\n",
       "      <td>0</td>\n",
       "    </tr>\n",
       "    <tr>\n",
       "      <th>216</th>\n",
       "      <td>372</td>\n",
       "      <td>True</td>\n",
       "      <td>True</td>\n",
       "      <td>True</td>\n",
       "      <td>False</td>\n",
       "      <td>NaN</td>\n",
       "      <td>False</td>\n",
       "      <td>True</td>\n",
       "      <td>True</td>\n",
       "      <td>True</td>\n",
       "      <td>True</td>\n",
       "      <td>False</td>\n",
       "      <td>False</td>\n",
       "      <td>False</td>\n",
       "      <td>False</td>\n",
       "      <td>True</td>\n",
       "      <td>NaN</td>\n",
       "      <td>True</td>\n",
       "      <td>democrat</td>\n",
       "      <td>2</td>\n",
       "    </tr>\n",
       "    <tr>\n",
       "      <th>217</th>\n",
       "      <td>360</td>\n",
       "      <td>False</td>\n",
       "      <td>False</td>\n",
       "      <td>False</td>\n",
       "      <td>True</td>\n",
       "      <td>True</td>\n",
       "      <td>True</td>\n",
       "      <td>False</td>\n",
       "      <td>False</td>\n",
       "      <td>False</td>\n",
       "      <td>True</td>\n",
       "      <td>NaN</td>\n",
       "      <td>True</td>\n",
       "      <td>True</td>\n",
       "      <td>True</td>\n",
       "      <td>False</td>\n",
       "      <td>True</td>\n",
       "      <td>False</td>\n",
       "      <td>republican</td>\n",
       "      <td>1</td>\n",
       "    </tr>\n",
       "  </tbody>\n",
       "</table>\n",
       "<p>218 rows × 20 columns</p>\n",
       "</div>"
      ],
      "text/plain": [
       "      ID handicapped-infants water-project-cost-sharing  \\\n",
       "0     15               False                       True   \n",
       "1    326               False                       True   \n",
       "2     93                True                       True   \n",
       "3    350               False                       True   \n",
       "4    283                True                      False   \n",
       "..   ...                 ...                        ...   \n",
       "213  290                True                       True   \n",
       "214  286               False                      False   \n",
       "215   95                True                      False   \n",
       "216  372                True                       True   \n",
       "217  360               False                      False   \n",
       "\n",
       "    adoption-of-the-budget-resolution physician-fee-freeze el-salvador-aid  \\\n",
       "0                               False                 True            True   \n",
       "1                               False                False            True   \n",
       "2                                True                False           False   \n",
       "3                                True                 True            True   \n",
       "4                               False                 True            True   \n",
       "..                                ...                  ...             ...   \n",
       "213                              True                False            True   \n",
       "214                              True                False           False   \n",
       "215                              True                False            True   \n",
       "216                              True                False             NaN   \n",
       "217                             False                 True            True   \n",
       "\n",
       "    religious-groups-in-schools anti-satellite-test-ban  \\\n",
       "0                          True                   False   \n",
       "1                          True                   False   \n",
       "2                         False                    True   \n",
       "3                          True                    True   \n",
       "4                          True                   False   \n",
       "..                          ...                     ...   \n",
       "213                        True                   False   \n",
       "214                        True                    True   \n",
       "215                        True                   False   \n",
       "216                       False                    True   \n",
       "217                        True                   False   \n",
       "\n",
       "    aid-to-nicaraguan-contras mx-missile immigration  \\\n",
       "0                       False      False       False   \n",
       "1                       False        NaN       False   \n",
       "2                        True      False        True   \n",
       "3                        True       True       False   \n",
       "4                       False      False        True   \n",
       "..                        ...        ...         ...   \n",
       "213                      True      False        True   \n",
       "214                      True       True        True   \n",
       "215                     False      False       False   \n",
       "216                      True       True        True   \n",
       "217                     False      False        True   \n",
       "\n",
       "    synfuels-crporation-cutback education-spending superfund-right-to-sue  \\\n",
       "0                         False               True                    NaN   \n",
       "1                         False               True                   True   \n",
       "2                          True              False                  False   \n",
       "3                         False               True                   True   \n",
       "4                         False                NaN                   True   \n",
       "..                          ...                ...                    ...   \n",
       "213                        True              False                   True   \n",
       "214                        True              False                  False   \n",
       "215                       False              False                  False   \n",
       "216                       False              False                  False   \n",
       "217                         NaN               True                   True   \n",
       "\n",
       "     crime duty-free-exports export-administration-act-south-africa  \\\n",
       "0      NaN             False                                    NaN   \n",
       "1     True             False                                   True   \n",
       "2      NaN              True                                   True   \n",
       "3     True             False                                   True   \n",
       "4     True             False                                  False   \n",
       "..     ...               ...                                    ...   \n",
       "213   True             False                                    NaN   \n",
       "214  False              True                                   True   \n",
       "215  False             False                                   True   \n",
       "216  False              True                                    NaN   \n",
       "217   True             False                                   True   \n",
       "\n",
       "     is_democrat       class  na_count  \n",
       "0          False  republican         3  \n",
       "1           True    democrat         1  \n",
       "2           True    democrat         1  \n",
       "3          False  republican         0  \n",
       "4          False  republican         1  \n",
       "..           ...         ...       ...  \n",
       "213         True    democrat         1  \n",
       "214         True    democrat         0  \n",
       "215         True    democrat         0  \n",
       "216         True    democrat         2  \n",
       "217        False  republican         1  \n",
       "\n",
       "[218 rows x 20 columns]"
      ]
     },
     "execution_count": 18,
     "metadata": {},
     "output_type": "execute_result"
    }
   ],
   "source": [
    "convert_data['na_count']= convert_data.isna().sum(axis=1)\n",
    "convert_data"
   ]
  },
  {
   "cell_type": "code",
   "execution_count": 19,
   "id": "9ac124dd",
   "metadata": {},
   "outputs": [
    {
     "data": {
      "text/plain": [
       "(121, 20)"
      ]
     },
     "execution_count": 19,
     "metadata": {},
     "output_type": "execute_result"
    }
   ],
   "source": [
    "without_ms = convert_data[convert_data['na_count']== 0]\n",
    "without_ms.shape"
   ]
  },
  {
   "cell_type": "markdown",
   "id": "f54f6c65",
   "metadata": {},
   "source": [
    "There is only 121 rows without missing values "
   ]
  },
  {
   "cell_type": "code",
   "execution_count": 20,
   "id": "79d52c8a",
   "metadata": {},
   "outputs": [
    {
     "data": {
      "text/plain": [
       "48"
      ]
     },
     "execution_count": 20,
     "metadata": {},
     "output_type": "execute_result"
    }
   ],
   "source": [
    "# number of republicans without missing values \n",
    "without_ms[without_ms[\"class\"] == \"republican\"].shape[0]"
   ]
  },
  {
   "cell_type": "code",
   "execution_count": 21,
   "id": "6a553942",
   "metadata": {},
   "outputs": [
    {
     "data": {
      "text/plain": [
       "<AxesSubplot:xlabel='na_count', ylabel='count'>"
      ]
     },
     "execution_count": 21,
     "metadata": {},
     "output_type": "execute_result"
    },
    {
     "data": {
      "image/png": "[encoded data removed]",
      "text/plain": [
       "<Figure size 432x288 with 1 Axes>"
      ]
     },
     "metadata": {
      "needs_background": "light"
     },
     "output_type": "display_data"
    }
   ],
   "source": [
    "sns.countplot(data = convert_data, x=\"na_count\", hue=\"is_democrat\")"
   ]
  },
  {
   "cell_type": "markdown",
   "id": "9f131cae",
   "metadata": {},
   "source": [
    "a sample has 15 missing attribute : not really relevant "
   ]
  },
  {
   "cell_type": "markdown",
   "id": "f0909b96",
   "metadata": {},
   "source": [
    "### Sample with 15 missing values\n",
    "\n",
    "Its ID is 127, we just note it for the preprocessing -> we will drop this row"
   ]
  },
  {
   "cell_type": "code",
   "execution_count": 22,
   "id": "2b156e5e",
   "metadata": {},
   "outputs": [
    {
     "data": {
      "text/html": [
       "<div>\n",
       "<style scoped>\n",
       "    .dataframe tbody tr th:only-of-type {\n",
       "        vertical-align: middle;\n",
       "    }\n",
       "\n",
       "    .dataframe tbody tr th {\n",
       "        vertical-align: top;\n",
       "    }\n",
       "\n",
       "    .dataframe thead th {\n",
       "        text-align: right;\n",
       "    }\n",
       "</style>\n",
       "<table border=\"1\" class=\"dataframe\">\n",
       "  <thead>\n",
       "    <tr style=\"text-align: right;\">\n",
       "      <th></th>\n",
       "      <th>ID</th>\n",
       "      <th>handicapped-infants</th>\n",
       "      <th>water-project-cost-sharing</th>\n",
       "      <th>adoption-of-the-budget-resolution</th>\n",
       "      <th>physician-fee-freeze</th>\n",
       "      <th>el-salvador-aid</th>\n",
       "      <th>religious-groups-in-schools</th>\n",
       "      <th>anti-satellite-test-ban</th>\n",
       "      <th>aid-to-nicaraguan-contras</th>\n",
       "      <th>mx-missile</th>\n",
       "      <th>immigration</th>\n",
       "      <th>synfuels-crporation-cutback</th>\n",
       "      <th>education-spending</th>\n",
       "      <th>superfund-right-to-sue</th>\n",
       "      <th>crime</th>\n",
       "      <th>duty-free-exports</th>\n",
       "      <th>export-administration-act-south-africa</th>\n",
       "      <th>is_democrat</th>\n",
       "      <th>class</th>\n",
       "      <th>na_count</th>\n",
       "    </tr>\n",
       "  </thead>\n",
       "  <tbody>\n",
       "    <tr>\n",
       "      <th>127</th>\n",
       "      <td>184</td>\n",
       "      <td>NaN</td>\n",
       "      <td>NaN</td>\n",
       "      <td>NaN</td>\n",
       "      <td>NaN</td>\n",
       "      <td>NaN</td>\n",
       "      <td>NaN</td>\n",
       "      <td>NaN</td>\n",
       "      <td>NaN</td>\n",
       "      <td>True</td>\n",
       "      <td>NaN</td>\n",
       "      <td>NaN</td>\n",
       "      <td>NaN</td>\n",
       "      <td>NaN</td>\n",
       "      <td>NaN</td>\n",
       "      <td>NaN</td>\n",
       "      <td>NaN</td>\n",
       "      <td>True</td>\n",
       "      <td>democrat</td>\n",
       "      <td>15</td>\n",
       "    </tr>\n",
       "  </tbody>\n",
       "</table>\n",
       "</div>"
      ],
      "text/plain": [
       "      ID handicapped-infants water-project-cost-sharing  \\\n",
       "127  184                 NaN                        NaN   \n",
       "\n",
       "    adoption-of-the-budget-resolution physician-fee-freeze el-salvador-aid  \\\n",
       "127                               NaN                  NaN             NaN   \n",
       "\n",
       "    religious-groups-in-schools anti-satellite-test-ban  \\\n",
       "127                         NaN                     NaN   \n",
       "\n",
       "    aid-to-nicaraguan-contras mx-missile immigration  \\\n",
       "127                       NaN       True         NaN   \n",
       "\n",
       "    synfuels-crporation-cutback education-spending superfund-right-to-sue  \\\n",
       "127                         NaN                NaN                    NaN   \n",
       "\n",
       "    crime duty-free-exports export-administration-act-south-africa  \\\n",
       "127   NaN               NaN                                    NaN   \n",
       "\n",
       "     is_democrat     class  na_count  \n",
       "127         True  democrat        15  "
      ]
     },
     "execution_count": 22,
     "metadata": {},
     "output_type": "execute_result"
    }
   ],
   "source": [
    "convert_data[\"ID\"] = df[\"ID\"]\n",
    "sample = convert_data[convert_data[\"na_count\"] == 15] \n",
    "sample"
   ]
  },
  {
   "cell_type": "markdown",
   "id": "6d3f50b4",
   "metadata": {},
   "source": [
    "### Attributes Visualisation\n",
    "\n",
    "There is just water-project-cost-sharing that is not really relevant.\n",
    "\n",
    "We can try a model with and another without this attribute."
   ]
  },
  {
   "cell_type": "code",
   "execution_count": 23,
   "id": "eac1eadc",
   "metadata": {},
   "outputs": [],
   "source": [
    "data = df.drop(columns = [\"ID\"])"
   ]
  },
  {
   "cell_type": "code",
   "execution_count": 24,
   "id": "56856724",
   "metadata": {
    "scrolled": false
   },
   "outputs": [
    {
     "name": "stdout",
     "output_type": "stream",
     "text": [
      "handicapped-infants\n"
     ]
    },
    {
     "name": "stderr",
     "output_type": "stream",
     "text": [
      "/home/artmoulini/anaconda3/lib/python3.8/site-packages/seaborn/categorical.py:3714: UserWarning: The `factorplot` function has been renamed to `catplot`. The original name will be removed in a future release. Please update your code. Note that the default `kind` in `factorplot` (`'point'`) has changed `'strip'` in `catplot`.\n",
      "  warnings.warn(msg)\n"
     ]
    },
    {
     "data": {
      "image/png": "[encoded data removed]",
      "text/plain": [
       "<Figure size 720x360 with 2 Axes>"
      ]
     },
     "metadata": {
      "needs_background": "light"
     },
     "output_type": "display_data"
    },
    {
     "name": "stdout",
     "output_type": "stream",
     "text": [
      "water-project-cost-sharing\n"
     ]
    },
    {
     "name": "stderr",
     "output_type": "stream",
     "text": [
      "/home/artmoulini/anaconda3/lib/python3.8/site-packages/seaborn/categorical.py:3714: UserWarning: The `factorplot` function has been renamed to `catplot`. The original name will be removed in a future release. Please update your code. Note that the default `kind` in `factorplot` (`'point'`) has changed `'strip'` in `catplot`.\n",
      "  warnings.warn(msg)\n"
     ]
    },
    {
     "data": {
      "image/png": "[encoded data removed]",
      "text/plain": [
       "<Figure size 720x360 with 2 Axes>"
      ]
     },
     "metadata": {
      "needs_background": "light"
     },
     "output_type": "display_data"
    },
    {
     "name": "stdout",
     "output_type": "stream",
     "text": [
      "adoption-of-the-budget-resolution\n"
     ]
    },
    {
     "name": "stderr",
     "output_type": "stream",
     "text": [
      "/home/artmoulini/anaconda3/lib/python3.8/site-packages/seaborn/categorical.py:3714: UserWarning: The `factorplot` function has been renamed to `catplot`. The original name will be removed in a future release. Please update your code. Note that the default `kind` in `factorplot` (`'point'`) has changed `'strip'` in `catplot`.\n",
      "  warnings.warn(msg)\n"
     ]
    },
    {
     "data": {
      "image/png": "[encoded data removed]",
      "text/plain": [
       "<Figure size 720x360 with 2 Axes>"
      ]
     },
     "metadata": {
      "needs_background": "light"
     },
     "output_type": "display_data"
    },
    {
     "name": "stdout",
     "output_type": "stream",
     "text": [
      "physician-fee-freeze\n"
     ]
    },
    {
     "name": "stderr",
     "output_type": "stream",
     "text": [
      "/home/artmoulini/anaconda3/lib/python3.8/site-packages/seaborn/categorical.py:3714: UserWarning: The `factorplot` function has been renamed to `catplot`. The original name will be removed in a future release. Please update your code. Note that the default `kind` in `factorplot` (`'point'`) has changed `'strip'` in `catplot`.\n",
      "  warnings.warn(msg)\n"
     ]
    },
    {
     "data": {
      "image/png": "[encoded data removed]",
      "text/plain": [
       "<Figure size 720x360 with 2 Axes>"
      ]
     },
     "metadata": {
      "needs_background": "light"
     },
     "output_type": "display_data"
    },
    {
     "name": "stdout",
     "output_type": "stream",
     "text": [
      "el-salvador-aid\n"
     ]
    },
    {
     "name": "stderr",
     "output_type": "stream",
     "text": [
      "/home/artmoulini/anaconda3/lib/python3.8/site-packages/seaborn/categorical.py:3714: UserWarning: The `factorplot` function has been renamed to `catplot`. The original name will be removed in a future release. Please update your code. Note that the default `kind` in `factorplot` (`'point'`) has changed `'strip'` in `catplot`.\n",
      "  warnings.warn(msg)\n"
     ]
    },
    {
     "data": {
      "image/png": "[encoded data removed]",
      "text/plain": [
       "<Figure size 720x360 with 2 Axes>"
      ]
     },
     "metadata": {
      "needs_background": "light"
     },
     "output_type": "display_data"
    },
    {
     "name": "stdout",
     "output_type": "stream",
     "text": [
      "religious-groups-in-schools\n"
     ]
    },
    {
     "name": "stderr",
     "output_type": "stream",
     "text": [
      "/home/artmoulini/anaconda3/lib/python3.8/site-packages/seaborn/categorical.py:3714: UserWarning: The `factorplot` function has been renamed to `catplot`. The original name will be removed in a future release. Please update your code. Note that the default `kind` in `factorplot` (`'point'`) has changed `'strip'` in `catplot`.\n",
      "  warnings.warn(msg)\n"
     ]
    },
    {
     "data": {
      "image/png": "[encoded data removed]",
      "text/plain": [
       "<Figure size 720x360 with 2 Axes>"
      ]
     },
     "metadata": {
      "needs_background": "light"
     },
     "output_type": "display_data"
    },
    {
     "name": "stdout",
     "output_type": "stream",
     "text": [
      "anti-satellite-test-ban\n"
     ]
    },
    {
     "name": "stderr",
     "output_type": "stream",
     "text": [
      "/home/artmoulini/anaconda3/lib/python3.8/site-packages/seaborn/categorical.py:3714: UserWarning: The `factorplot` function has been renamed to `catplot`. The original name will be removed in a future release. Please update your code. Note that the default `kind` in `factorplot` (`'point'`) has changed `'strip'` in `catplot`.\n",
      "  warnings.warn(msg)\n"
     ]
    },
    {
     "data": {
      "image/png": "[encoded data removed]",
      "text/plain": [
       "<Figure size 720x360 with 2 Axes>"
      ]
     },
     "metadata": {
      "needs_background": "light"
     },
     "output_type": "display_data"
    },
    {
     "name": "stdout",
     "output_type": "stream",
     "text": [
      "aid-to-nicaraguan-contras\n"
     ]
    },
    {
     "name": "stderr",
     "output_type": "stream",
     "text": [
      "/home/artmoulini/anaconda3/lib/python3.8/site-packages/seaborn/categorical.py:3714: UserWarning: The `factorplot` function has been renamed to `catplot`. The original name will be removed in a future release. Please update your code. Note that the default `kind` in `factorplot` (`'point'`) has changed `'strip'` in `catplot`.\n",
      "  warnings.warn(msg)\n"
     ]
    },
    {
     "data": {
      "image/png": "[encoded data removed]",
      "text/plain": [
       "<Figure size 720x360 with 2 Axes>"
      ]
     },
     "metadata": {
      "needs_background": "light"
     },
     "output_type": "display_data"
    },
    {
     "name": "stdout",
     "output_type": "stream",
     "text": [
      "mx-missile\n"
     ]
    },
    {
     "name": "stderr",
     "output_type": "stream",
     "text": [
      "/home/artmoulini/anaconda3/lib/python3.8/site-packages/seaborn/categorical.py:3714: UserWarning: The `factorplot` function has been renamed to `catplot`. The original name will be removed in a future release. Please update your code. Note that the default `kind` in `factorplot` (`'point'`) has changed `'strip'` in `catplot`.\n",
      "  warnings.warn(msg)\n"
     ]
    },
    {
     "data": {
      "image/png": "[encoded data removed]",
      "text/plain": [
       "<Figure size 720x360 with 2 Axes>"
      ]
     },
     "metadata": {
      "needs_background": "light"
     },
     "output_type": "display_data"
    },
    {
     "name": "stdout",
     "output_type": "stream",
     "text": [
      "immigration\n"
     ]
    },
    {
     "name": "stderr",
     "output_type": "stream",
     "text": [
      "/home/artmoulini/anaconda3/lib/python3.8/site-packages/seaborn/categorical.py:3714: UserWarning: The `factorplot` function has been renamed to `catplot`. The original name will be removed in a future release. Please update your code. Note that the default `kind` in `factorplot` (`'point'`) has changed `'strip'` in `catplot`.\n",
      "  warnings.warn(msg)\n"
     ]
    },
    {
     "data": {
      "image/png": "[encoded data removed]",
      "text/plain": [
       "<Figure size 720x360 with 2 Axes>"
      ]
     },
     "metadata": {
      "needs_background": "light"
     },
     "output_type": "display_data"
    },
    {
     "name": "stdout",
     "output_type": "stream",
     "text": [
      "synfuels-crporation-cutback\n"
     ]
    },
    {
     "name": "stderr",
     "output_type": "stream",
     "text": [
      "/home/artmoulini/anaconda3/lib/python3.8/site-packages/seaborn/categorical.py:3714: UserWarning: The `factorplot` function has been renamed to `catplot`. The original name will be removed in a future release. Please update your code. Note that the default `kind` in `factorplot` (`'point'`) has changed `'strip'` in `catplot`.\n",
      "  warnings.warn(msg)\n"
     ]
    },
    {
     "data": {
      "image/png": "[encoded data removed]",
      "text/plain": [
       "<Figure size 720x360 with 2 Axes>"
      ]
     },
     "metadata": {
      "needs_background": "light"
     },
     "output_type": "display_data"
    },
    {
     "name": "stdout",
     "output_type": "stream",
     "text": [
      "education-spending\n"
     ]
    },
    {
     "name": "stderr",
     "output_type": "stream",
     "text": [
      "/home/artmoulini/anaconda3/lib/python3.8/site-packages/seaborn/categorical.py:3714: UserWarning: The `factorplot` function has been renamed to `catplot`. The original name will be removed in a future release. Please update your code. Note that the default `kind` in `factorplot` (`'point'`) has changed `'strip'` in `catplot`.\n",
      "  warnings.warn(msg)\n"
     ]
    },
    {
     "data": {
      "image/png": "[encoded data removed]",
      "text/plain": [
       "<Figure size 720x360 with 2 Axes>"
      ]
     },
     "metadata": {
      "needs_background": "light"
     },
     "output_type": "display_data"
    },
    {
     "name": "stdout",
     "output_type": "stream",
     "text": [
      "superfund-right-to-sue\n"
     ]
    },
    {
     "name": "stderr",
     "output_type": "stream",
     "text": [
      "/home/artmoulini/anaconda3/lib/python3.8/site-packages/seaborn/categorical.py:3714: UserWarning: The `factorplot` function has been renamed to `catplot`. The original name will be removed in a future release. Please update your code. Note that the default `kind` in `factorplot` (`'point'`) has changed `'strip'` in `catplot`.\n",
      "  warnings.warn(msg)\n"
     ]
    },
    {
     "data": {
      "image/png": "[encoded data removed]",
      "text/plain": [
       "<Figure size 720x360 with 2 Axes>"
      ]
     },
     "metadata": {
      "needs_background": "light"
     },
     "output_type": "display_data"
    },
    {
     "name": "stdout",
     "output_type": "stream",
     "text": [
      "crime\n"
     ]
    },
    {
     "name": "stderr",
     "output_type": "stream",
     "text": [
      "/home/artmoulini/anaconda3/lib/python3.8/site-packages/seaborn/categorical.py:3714: UserWarning: The `factorplot` function has been renamed to `catplot`. The original name will be removed in a future release. Please update your code. Note that the default `kind` in `factorplot` (`'point'`) has changed `'strip'` in `catplot`.\n",
      "  warnings.warn(msg)\n"
     ]
    },
    {
     "data": {
      "image/png": "[encoded data removed]",
      "text/plain": [
       "<Figure size 720x360 with 2 Axes>"
      ]
     },
     "metadata": {
      "needs_background": "light"
     },
     "output_type": "display_data"
    },
    {
     "name": "stdout",
     "output_type": "stream",
     "text": [
      "duty-free-exports\n"
     ]
    },
    {
     "name": "stderr",
     "output_type": "stream",
     "text": [
      "/home/artmoulini/anaconda3/lib/python3.8/site-packages/seaborn/categorical.py:3714: UserWarning: The `factorplot` function has been renamed to `catplot`. The original name will be removed in a future release. Please update your code. Note that the default `kind` in `factorplot` (`'point'`) has changed `'strip'` in `catplot`.\n",
      "  warnings.warn(msg)\n"
     ]
    },
    {
     "data": {
      "image/png": "[encoded data removed]",
      "text/plain": [
       "<Figure size 720x360 with 2 Axes>"
      ]
     },
     "metadata": {
      "needs_background": "light"
     },
     "output_type": "display_data"
    },
    {
     "name": "stdout",
     "output_type": "stream",
     "text": [
      "export-administration-act-south-africa\n"
     ]
    },
    {
     "name": "stderr",
     "output_type": "stream",
     "text": [
      "/home/artmoulini/anaconda3/lib/python3.8/site-packages/seaborn/categorical.py:3714: UserWarning: The `factorplot` function has been renamed to `catplot`. The original name will be removed in a future release. Please update your code. Note that the default `kind` in `factorplot` (`'point'`) has changed `'strip'` in `catplot`.\n",
      "  warnings.warn(msg)\n"
     ]
    },
    {
     "data": {
      "image/png": "[encoded data removed]",
      "text/plain": [
       "<Figure size 720x360 with 2 Axes>"
      ]
     },
     "metadata": {
      "needs_background": "light"
     },
     "output_type": "display_data"
    }
   ],
   "source": [
    "for col in data.columns :\n",
    "    if col != \"class\" :\n",
    "        print(col)\n",
    "        sns.factorplot(data=data, kind=\"count\", x=col, col=\"class\", order=['n', 'y', 'unknown'])\n",
    "        plt.show()"
   ]
  },
  {
   "cell_type": "code",
   "execution_count": 25,
   "id": "32057cc8",
   "metadata": {},
   "outputs": [
    {
     "name": "stderr",
     "output_type": "stream",
     "text": [
      "/home/artmoulini/anaconda3/lib/python3.8/site-packages/seaborn/categorical.py:3714: UserWarning: The `factorplot` function has been renamed to `catplot`. The original name will be removed in a future release. Please update your code. Note that the default `kind` in `factorplot` (`'point'`) has changed `'strip'` in `catplot`.\n",
      "  warnings.warn(msg)\n"
     ]
    },
    {
     "data": {
      "text/plain": [
       "<seaborn.axisgrid.FacetGrid at 0x7f1fe87e1a90>"
      ]
     },
     "execution_count": 25,
     "metadata": {},
     "output_type": "execute_result"
    },
    {
     "data": {
      "image/png": "[encoded data removed]",
      "text/plain": [
       "<Figure size 720x360 with 2 Axes>"
      ]
     },
     "metadata": {
      "needs_background": "light"
     },
     "output_type": "display_data"
    }
   ],
   "source": [
    "sns.factorplot(data=data, kind=\"count\", x=\"water-project-cost-sharing\", col=\"class\", order=['n', 'y', 'unknown'])"
   ]
  },
  {
   "cell_type": "code",
   "execution_count": 26,
   "id": "5988fcde",
   "metadata": {},
   "outputs": [
    {
     "name": "stdout",
     "output_type": "stream",
     "text": [
      "0.6914893617021277\n",
      "0.6470588235294118\n",
      "0.7272727272727273\n"
     ]
    },
    {
     "name": "stderr",
     "output_type": "stream",
     "text": [
      "<ipython-input-26-eb252d5298e8>:4: UserWarning: Boolean Series key will be reindexed to match DataFrame index.\n",
      "  x = repu[data[\"water-project-cost-sharing\"] == \"n\"].shape[0]\n",
      "<ipython-input-26-eb252d5298e8>:5: UserWarning: Boolean Series key will be reindexed to match DataFrame index.\n",
      "  y = demo[data[\"water-project-cost-sharing\"] == \"n\"].shape[0]\n",
      "<ipython-input-26-eb252d5298e8>:9: UserWarning: Boolean Series key will be reindexed to match DataFrame index.\n",
      "  x = repu[data[\"water-project-cost-sharing\"] == \"y\"].shape[0]\n",
      "<ipython-input-26-eb252d5298e8>:10: UserWarning: Boolean Series key will be reindexed to match DataFrame index.\n",
      "  y = demo[data[\"water-project-cost-sharing\"] == \"y\"].shape[0]\n",
      "<ipython-input-26-eb252d5298e8>:14: UserWarning: Boolean Series key will be reindexed to match DataFrame index.\n",
      "  x = repu[data[\"water-project-cost-sharing\"] == \"unknown\"].shape[0]\n",
      "<ipython-input-26-eb252d5298e8>:15: UserWarning: Boolean Series key will be reindexed to match DataFrame index.\n",
      "  y = demo[data[\"water-project-cost-sharing\"] == \"unknown\"].shape[0]\n"
     ]
    }
   ],
   "source": [
    "repu = data[data[\"class\"] == \"republican\"]\n",
    "demo = data[data[\"class\"] == \"democrat\"]\n",
    "\n",
    "x = repu[data[\"water-project-cost-sharing\"] == \"n\"].shape[0]\n",
    "y = demo[data[\"water-project-cost-sharing\"] == \"n\"].shape[0]\n",
    "\n",
    "print(y/(y+x))\n",
    "\n",
    "x = repu[data[\"water-project-cost-sharing\"] == \"y\"].shape[0]\n",
    "y = demo[data[\"water-project-cost-sharing\"] == \"y\"].shape[0]\n",
    "\n",
    "print(y/(y+x))\n",
    "\n",
    "x = repu[data[\"water-project-cost-sharing\"] == \"unknown\"].shape[0]\n",
    "y = demo[data[\"water-project-cost-sharing\"] == \"unknown\"].shape[0]\n",
    "\n",
    "print(y/(y+x))"
   ]
  },
  {
   "cell_type": "markdown",
   "id": "a2efa910",
   "metadata": {},
   "source": [
    "For the attribute water-project-cost-sharing, 69.15% of 'n', and 64.71% of 'y' are for the republican : too close to the 67% of overall republican --> no really relevant "
   ]
  },
  {
   "cell_type": "code",
   "execution_count": 27,
   "id": "a4c47fed",
   "metadata": {},
   "outputs": [
    {
     "name": "stderr",
     "output_type": "stream",
     "text": [
      "/home/artmoulini/anaconda3/lib/python3.8/site-packages/seaborn/categorical.py:3714: UserWarning: The `factorplot` function has been renamed to `catplot`. The original name will be removed in a future release. Please update your code. Note that the default `kind` in `factorplot` (`'point'`) has changed `'strip'` in `catplot`.\n",
      "  warnings.warn(msg)\n",
      "/home/artmoulini/anaconda3/lib/python3.8/site-packages/seaborn/categorical.py:3720: UserWarning: The `size` parameter has been renamed to `height`; please update your code.\n",
      "  warnings.warn(msg, UserWarning)\n"
     ]
    },
    {
     "data": {
      "text/plain": [
       "<seaborn.axisgrid.FacetGrid at 0x7f1fe9534970>"
      ]
     },
     "execution_count": 27,
     "metadata": {},
     "output_type": "execute_result"
    },
    {
     "data": {
      "image/png": "[encoded data removed]",
      "text/plain": [
       "<Figure size 648x324 with 2 Axes>"
      ]
     },
     "metadata": {},
     "output_type": "display_data"
    }
   ],
   "source": [
    "sns.set(font_scale=1.35)\n",
    "\n",
    "sns.factorplot(data=data, kind=\"count\", x=\"el-salvador-aid\", \n",
    "               col=\"class\", order=['n', 'y', 'unknown'],\n",
    "              size=4.5)"
   ]
  },
  {
   "cell_type": "code",
   "execution_count": 28,
   "id": "a3c36ff1",
   "metadata": {},
   "outputs": [
    {
     "name": "stdout",
     "output_type": "stream",
     "text": [
      "0.9629629629629629\n",
      "0.3431372549019608\n",
      "1.0\n"
     ]
    },
    {
     "name": "stderr",
     "output_type": "stream",
     "text": [
      "<ipython-input-28-4d85282d6ba6>:1: UserWarning: Boolean Series key will be reindexed to match DataFrame index.\n",
      "  x = repu[data[\"el-salvador-aid\"] == \"n\"].shape[0]\n",
      "<ipython-input-28-4d85282d6ba6>:2: UserWarning: Boolean Series key will be reindexed to match DataFrame index.\n",
      "  y = demo[data[\"el-salvador-aid\"] == \"n\"].shape[0]\n",
      "<ipython-input-28-4d85282d6ba6>:6: UserWarning: Boolean Series key will be reindexed to match DataFrame index.\n",
      "  x = repu[data[\"el-salvador-aid\"] == \"y\"].shape[0]\n",
      "<ipython-input-28-4d85282d6ba6>:7: UserWarning: Boolean Series key will be reindexed to match DataFrame index.\n",
      "  y = demo[data[\"el-salvador-aid\"] == \"y\"].shape[0]\n",
      "<ipython-input-28-4d85282d6ba6>:11: UserWarning: Boolean Series key will be reindexed to match DataFrame index.\n",
      "  x = repu[data[\"el-salvador-aid\"] == \"unknown\"].shape[0]\n",
      "<ipython-input-28-4d85282d6ba6>:12: UserWarning: Boolean Series key will be reindexed to match DataFrame index.\n",
      "  y = demo[data[\"el-salvador-aid\"] == \"unknown\"].shape[0]\n"
     ]
    }
   ],
   "source": [
    "x = repu[data[\"el-salvador-aid\"] == \"n\"].shape[0]\n",
    "y = demo[data[\"el-salvador-aid\"] == \"n\"].shape[0]\n",
    "\n",
    "print(y/(y+x))\n",
    "\n",
    "x = repu[data[\"el-salvador-aid\"] == \"y\"].shape[0]\n",
    "y = demo[data[\"el-salvador-aid\"] == \"y\"].shape[0]\n",
    "\n",
    "print(y/(y+x))\n",
    "\n",
    "x = repu[data[\"el-salvador-aid\"] == \"unknown\"].shape[0]\n",
    "y = demo[data[\"el-salvador-aid\"] == \"unknown\"].shape[0]\n",
    "\n",
    "print(y/(y+x))"
   ]
  },
  {
   "cell_type": "markdown",
   "id": "0809551e",
   "metadata": {},
   "source": [
    "## Preprocessing"
   ]
  },
  {
   "cell_type": "code",
   "execution_count": 29,
   "id": "41bf8dc4",
   "metadata": {},
   "outputs": [],
   "source": [
    "from sklearn.preprocessing import LabelEncoder\n",
    "from sklearn.preprocessing import OneHotEncoder\n",
    "\n",
    "from sklearn.pipeline import Pipeline\n",
    "from sklearn.compose import ColumnTransformer"
   ]
  },
  {
   "cell_type": "markdown",
   "id": "5adfa2c8",
   "metadata": {},
   "source": [
    "### Drop columns"
   ]
  },
  {
   "cell_type": "code",
   "execution_count": 30,
   "id": "4640d268",
   "metadata": {},
   "outputs": [],
   "source": [
    "def dropID(df) :\n",
    "    return df.drop(columns=[\"ID\"])"
   ]
  },
  {
   "cell_type": "code",
   "execution_count": 31,
   "id": "843636ad",
   "metadata": {},
   "outputs": [],
   "source": [
    "def dropWPCS(df) :\n",
    "    return df.drop(columns=[\"water-project-cost-sharing\"])"
   ]
  },
  {
   "cell_type": "markdown",
   "id": "aaeea8a1",
   "metadata": {},
   "source": [
    "### Encode attributes"
   ]
  },
  {
   "cell_type": "markdown",
   "id": "696c79c7",
   "metadata": {},
   "source": [
    "#### For target : democrat encoded to 1, republican to 0 "
   ]
  },
  {
   "cell_type": "code",
   "execution_count": 32,
   "id": "b3e1ea7d",
   "metadata": {},
   "outputs": [],
   "source": [
    "def label_enc(val) :\n",
    "    if val == \"democrat\" : \n",
    "        return 1\n",
    "    return 0"
   ]
  },
  {
   "cell_type": "code",
   "execution_count": 33,
   "id": "22c3c11a",
   "metadata": {},
   "outputs": [],
   "source": [
    "def label_encode(target) : \n",
    "    return target.apply(lambda x : label_enc(x))"
   ]
  },
  {
   "cell_type": "markdown",
   "id": "fd66d1ce",
   "metadata": {},
   "source": [
    "#### For Attributes : simple one hot encoder "
   ]
  },
  {
   "cell_type": "code",
   "execution_count": 34,
   "id": "f66ac9a2",
   "metadata": {},
   "outputs": [
    {
     "data": {
      "text/plain": [
       "[array(['n', 'unknown', 'y'], dtype=object)]"
      ]
     },
     "execution_count": 34,
     "metadata": {},
     "output_type": "execute_result"
    }
   ],
   "source": [
    "encoder = OneHotEncoder(handle_unknown='ignore')\n",
    "encoder.fit(data[[\"handicapped-infants\"]])\n",
    "encoder.categories_"
   ]
  },
  {
   "cell_type": "code",
   "execution_count": 35,
   "id": "9af08ae0",
   "metadata": {},
   "outputs": [],
   "source": [
    "def onehot(df, col):\n",
    "    encoder_df = pd.DataFrame(encoder.transform(df[[col]]).toarray()) \n",
    "    \n",
    "    col_name = []\n",
    "    for c in encoder.categories_ :\n",
    "        col_name.append(col + \"_\" + c)\n",
    "    \n",
    "    encoder_df.columns = col_name \n",
    "    return encoder_df"
   ]
  },
  {
   "cell_type": "code",
   "execution_count": 36,
   "id": "ae0fea15",
   "metadata": {},
   "outputs": [],
   "source": [
    "def encode(df) :\n",
    "    res = pd.DataFrame() \n",
    "    \n",
    "    for col in df :\n",
    "        df_encoded = onehot(df, col)\n",
    "        res = pd.concat([res, df_encoded], axis=1)\n",
    "        \n",
    "    return res"
   ]
  },
  {
   "cell_type": "markdown",
   "id": "1067d48e",
   "metadata": {},
   "source": [
    "### Preprocessing function"
   ]
  },
  {
   "cell_type": "code",
   "execution_count": 37,
   "id": "98bb4921",
   "metadata": {},
   "outputs": [],
   "source": [
    "def preprocessing(df) :\n",
    "    X = dropID(df)\n",
    "    X = encode(X)\n",
    "    X.columns = X.columns.get_level_values(0)\n",
    "    return X"
   ]
  },
  {
   "cell_type": "markdown",
   "id": "cd775b0c",
   "metadata": {},
   "source": [
    "## Train Test set "
   ]
  },
  {
   "cell_type": "code",
   "execution_count": 38,
   "id": "110b7abb",
   "metadata": {},
   "outputs": [],
   "source": [
    "from sklearn.model_selection import train_test_split"
   ]
  },
  {
   "cell_type": "code",
   "execution_count": 39,
   "id": "2700be19",
   "metadata": {},
   "outputs": [],
   "source": [
    "train, test = train_test_split(df, test_size=0.2, random_state=0)"
   ]
  },
  {
   "cell_type": "code",
   "execution_count": 40,
   "id": "2d9ae7dc",
   "metadata": {},
   "outputs": [
    {
     "data": {
      "text/plain": [
       "((174, 18), (44, 18))"
      ]
     },
     "execution_count": 40,
     "metadata": {},
     "output_type": "execute_result"
    }
   ],
   "source": [
    "train.shape, test.shape"
   ]
  },
  {
   "cell_type": "code",
   "execution_count": 41,
   "id": "5f4e4cc7",
   "metadata": {},
   "outputs": [],
   "source": [
    "#train = train[train[\"ID\"] != 184] \n",
    "y = label_encode(train[\"class\"])\n",
    "X = preprocessing(train.drop(columns=[\"class\"]))"
   ]
  },
  {
   "cell_type": "code",
   "execution_count": 42,
   "id": "9fd0019d",
   "metadata": {},
   "outputs": [
    {
     "data": {
      "text/plain": [
       "((174, 48), (174,))"
      ]
     },
     "execution_count": 42,
     "metadata": {},
     "output_type": "execute_result"
    }
   ],
   "source": [
    "X.shape, y.shape"
   ]
  },
  {
   "cell_type": "code",
   "execution_count": 43,
   "id": "a7e6a334",
   "metadata": {},
   "outputs": [],
   "source": [
    "y_test = label_encode(test[\"class\"])\n",
    "X_test = preprocessing(test.drop(columns=[\"class\"]))"
   ]
  },
  {
   "cell_type": "code",
   "execution_count": 44,
   "id": "664fb106",
   "metadata": {},
   "outputs": [
    {
     "data": {
      "text/plain": [
       "((44, 48), (44,))"
      ]
     },
     "execution_count": 44,
     "metadata": {},
     "output_type": "execute_result"
    }
   ],
   "source": [
    "X_test.shape, y_test.shape"
   ]
  },
  {
   "cell_type": "markdown",
   "id": "9f8878d1",
   "metadata": {},
   "source": [
    "## Model selection"
   ]
  },
  {
   "cell_type": "code",
   "execution_count": 45,
   "id": "1f4f9cc0",
   "metadata": {},
   "outputs": [],
   "source": [
    "from sklearn.tree import DecisionTreeClassifier\n",
    "from sklearn.ensemble import RandomForestClassifier, AdaBoostClassifier\n",
    "from sklearn.svm import SVC\n",
    "from sklearn.neighbors import KNeighborsClassifier\n",
    "from sklearn.model_selection import GridSearchCV, StratifiedKFold\n",
    "from lightgbm import LGBMClassifier\n",
    "\n",
    "import time\n",
    "\n",
    "from sklearn.metrics import f1_score, confusion_matrix, classification_report\n",
    "from sklearn.model_selection import learning_curve"
   ]
  },
  {
   "cell_type": "code",
   "execution_count": 46,
   "id": "1ac1cf3b",
   "metadata": {},
   "outputs": [],
   "source": [
    "# Classifiers\n",
    "classifiers = {\"RandomForest\" : RandomForestClassifier(random_state=0),\n",
    "              \"AdaBoost\" : AdaBoostClassifier(random_state=0),\n",
    "              \"KNN\" : KNeighborsClassifier(),\n",
    "              \"SVM\" : SVC(random_state=0),\n",
    "              \"LGBM\": LGBMClassifier(random_state=0)}\n",
    "\n",
    "# Grids for grid search\n",
    "RF_grid = {'n_estimators': [250, 300, 350, 400, 450],\n",
    "           'max_depth': [4, 5, 6, 7, 8]}\n",
    "\n",
    "Ada_grid = {'n_estimators': [100, 150,200, 250, 300, 350, 400],\n",
    "        'learning_rate': [0.2, 0.3, 0.04, 0.05, 0.06]}\n",
    "\n",
    "KNN_grid = {'n_neighbors': [1, 3, 5, 7, 9, 11],\n",
    "            'p': [1, 2]}\n",
    "\n",
    "SVC_grid = {'C': [0.25, 0.5, 0.75, 1, 2, 4, 10],\n",
    "            'kernel': ['linear', 'rbf'],\n",
    "            'gamma': ['scale', 'auto', 0.01, 0.1, 1, 10]}\n",
    "\n",
    "LGBM_grid = {\"max_depth\" : [2,4,6,8],\n",
    "        \"num_leaves\" : [2,4,6,8,10,12,15]}\n",
    "\n",
    "# Dictionary of all grids\n",
    "grid = {\n",
    "    \"RandomForest\" : RF_grid,\n",
    "    \"AdaBoost\" : Ada_grid,\n",
    "    \"KNN\" : KNN_grid,\n",
    "    \"SVM\" : SVC_grid,\n",
    "    \"LGBM\": LGBM_grid\n",
    "}"
   ]
  },
  {
   "cell_type": "code",
   "execution_count": 47,
   "id": "5b0fb4f7",
   "metadata": {},
   "outputs": [
    {
     "name": "stdout",
     "output_type": "stream",
     "text": [
      "Fitting 3 folds for each of 25 candidates, totalling 75 fits\n"
     ]
    },
    {
     "name": "stderr",
     "output_type": "stream",
     "text": [
      "[Parallel(n_jobs=6)]: Using backend LokyBackend with 6 concurrent workers.\n",
      "[Parallel(n_jobs=6)]: Done  29 tasks      | elapsed:    3.8s\n",
      "[Parallel(n_jobs=6)]: Done  75 out of  75 | elapsed:    9.6s finished\n"
     ]
    },
    {
     "name": "stdout",
     "output_type": "stream",
     "text": [
      "Model: RandomForest\n",
      "Training time (mins): 0.17\n",
      "[[16  0]\n",
      " [ 3 25]]\n",
      "              precision    recall  f1-score   support\n",
      "\n",
      "           0       0.84      1.00      0.91        16\n",
      "           1       1.00      0.89      0.94        28\n",
      "\n",
      "    accuracy                           0.93        44\n",
      "   macro avg       0.92      0.95      0.93        44\n",
      "weighted avg       0.94      0.93      0.93        44\n",
      "\n",
      "\n",
      "Fitting 3 folds for each of 35 candidates, totalling 105 fits\n"
     ]
    },
    {
     "name": "stderr",
     "output_type": "stream",
     "text": [
      "[Parallel(n_jobs=6)]: Using backend LokyBackend with 6 concurrent workers.\n",
      "[Parallel(n_jobs=6)]: Done  29 tasks      | elapsed:    2.7s\n",
      "[Parallel(n_jobs=6)]: Done 105 out of 105 | elapsed:   12.0s finished\n"
     ]
    },
    {
     "name": "stdout",
     "output_type": "stream",
     "text": [
      "Model: AdaBoost\n",
      "Training time (mins): 0.2\n",
      "[[15  1]\n",
      " [ 2 26]]\n",
      "              precision    recall  f1-score   support\n",
      "\n",
      "           0       0.88      0.94      0.91        16\n",
      "           1       0.96      0.93      0.95        28\n",
      "\n",
      "    accuracy                           0.93        44\n",
      "   macro avg       0.92      0.93      0.93        44\n",
      "weighted avg       0.93      0.93      0.93        44\n",
      "\n",
      "\n",
      "Fitting 3 folds for each of 12 candidates, totalling 36 fits\n",
      "Model: KNN\n",
      "Training time (mins): 0.0\n",
      "[[14  2]\n",
      " [ 3 25]]\n",
      "              precision    recall  f1-score   support\n",
      "\n",
      "           0       0.82      0.88      0.85        16\n",
      "           1       0.93      0.89      0.91        28\n",
      "\n",
      "    accuracy                           0.89        44\n",
      "   macro avg       0.87      0.88      0.88        44\n",
      "weighted avg       0.89      0.89      0.89        44\n",
      "\n",
      "\n",
      "Fitting 3 folds for each of 84 candidates, totalling 252 fits\n"
     ]
    },
    {
     "name": "stderr",
     "output_type": "stream",
     "text": [
      "[Parallel(n_jobs=6)]: Using backend LokyBackend with 6 concurrent workers.\n",
      "[Parallel(n_jobs=6)]: Done  36 out of  36 | elapsed:    0.1s finished\n",
      "[Parallel(n_jobs=6)]: Using backend LokyBackend with 6 concurrent workers.\n",
      "[Parallel(n_jobs=6)]: Done  56 tasks      | elapsed:    0.1s\n",
      "[Parallel(n_jobs=6)]: Done 252 out of 252 | elapsed:    0.4s finished\n",
      "[Parallel(n_jobs=6)]: Using backend LokyBackend with 6 concurrent workers.\n"
     ]
    },
    {
     "name": "stdout",
     "output_type": "stream",
     "text": [
      "Model: SVM\n",
      "Training time (mins): 0.01\n",
      "[[14  2]\n",
      " [ 4 24]]\n",
      "              precision    recall  f1-score   support\n",
      "\n",
      "           0       0.78      0.88      0.82        16\n",
      "           1       0.92      0.86      0.89        28\n",
      "\n",
      "    accuracy                           0.86        44\n",
      "   macro avg       0.85      0.87      0.86        44\n",
      "weighted avg       0.87      0.86      0.87        44\n",
      "\n",
      "\n",
      "Fitting 3 folds for each of 28 candidates, totalling 84 fits\n",
      "Model: LGBM\n",
      "Training time (mins): 0.01\n",
      "[[15  1]\n",
      " [ 2 26]]\n",
      "              precision    recall  f1-score   support\n",
      "\n",
      "           0       0.88      0.94      0.91        16\n",
      "           1       0.96      0.93      0.95        28\n",
      "\n",
      "    accuracy                           0.93        44\n",
      "   macro avg       0.92      0.93      0.93        44\n",
      "weighted avg       0.93      0.93      0.93        44\n",
      "\n",
      "\n"
     ]
    },
    {
     "name": "stderr",
     "output_type": "stream",
     "text": [
      "[Parallel(n_jobs=6)]: Done  84 out of  84 | elapsed:    0.5s finished\n"
     ]
    },
    {
     "data": {
      "text/html": [
       "<div>\n",
       "<style scoped>\n",
       "    .dataframe tbody tr th:only-of-type {\n",
       "        vertical-align: middle;\n",
       "    }\n",
       "\n",
       "    .dataframe tbody tr th {\n",
       "        vertical-align: top;\n",
       "    }\n",
       "\n",
       "    .dataframe thead th {\n",
       "        text-align: right;\n",
       "    }\n",
       "</style>\n",
       "<table border=\"1\" class=\"dataframe\">\n",
       "  <thead>\n",
       "    <tr style=\"text-align: right;\">\n",
       "      <th></th>\n",
       "      <th>Classifer</th>\n",
       "      <th>F1-Score</th>\n",
       "      <th>Training time</th>\n",
       "    </tr>\n",
       "  </thead>\n",
       "  <tbody>\n",
       "    <tr>\n",
       "      <th>0</th>\n",
       "      <td>RandomForest</td>\n",
       "      <td>0.931818</td>\n",
       "      <td>0.17</td>\n",
       "    </tr>\n",
       "    <tr>\n",
       "      <th>1</th>\n",
       "      <td>AdaBoost</td>\n",
       "      <td>0.931818</td>\n",
       "      <td>0.20</td>\n",
       "    </tr>\n",
       "    <tr>\n",
       "      <th>2</th>\n",
       "      <td>KNN</td>\n",
       "      <td>0.886364</td>\n",
       "      <td>0.00</td>\n",
       "    </tr>\n",
       "    <tr>\n",
       "      <th>3</th>\n",
       "      <td>SVM</td>\n",
       "      <td>0.863636</td>\n",
       "      <td>0.01</td>\n",
       "    </tr>\n",
       "    <tr>\n",
       "      <th>4</th>\n",
       "      <td>LGBM</td>\n",
       "      <td>0.931818</td>\n",
       "      <td>0.01</td>\n",
       "    </tr>\n",
       "  </tbody>\n",
       "</table>\n",
       "</div>"
      ],
      "text/plain": [
       "      Classifer  F1-Score  Training time\n",
       "0  RandomForest  0.931818           0.17\n",
       "1      AdaBoost  0.931818           0.20\n",
       "2           KNN  0.886364           0.00\n",
       "3           SVM  0.863636           0.01\n",
       "4          LGBM  0.931818           0.01"
      ]
     },
     "execution_count": 47,
     "metadata": {},
     "output_type": "execute_result"
    }
   ],
   "source": [
    "\n",
    "i=0\n",
    "clf_best_params=classifiers.copy()\n",
    "valid_scores=pd.DataFrame({'Classifer':list(classifiers.keys()), \n",
    "                           'F1-Score': np.zeros(len(classifiers)), \n",
    "                           'Training time': np.zeros(len(classifiers))})\n",
    "\n",
    "for key, classifier in classifiers.items():\n",
    "    start = time.time()\n",
    "    clf = GridSearchCV(classifier, param_grid=grid[key], scoring=\"accuracy\", cv = 3, verbose=2, n_jobs = 6)\n",
    "\n",
    "    # Train\n",
    "    clf.fit(X, y)\n",
    "\n",
    "    # Save params, score, time\n",
    "    clf_best_params[key] = clf.best_params_\n",
    "    valid_scores.iloc[i,1] = clf.score(X_test, y_test)\n",
    "    stop = time.time()\n",
    "    valid_scores.iloc[i,2] = np.round((stop - start)/60, 2)\n",
    "    \n",
    "    y_pred = clf.predict(X_test)\n",
    "    \n",
    "    print('Model:', key)\n",
    "    print('Training time (mins):', valid_scores.iloc[i,2])\n",
    "    print(confusion_matrix(y_test, y_pred))\n",
    "    print(classification_report(y_test, y_pred))\n",
    "    print('')\n",
    "    i+=1\n",
    "    \n",
    "valid_scores"
   ]
  },
  {
   "cell_type": "code",
   "execution_count": 48,
   "id": "6812c0fb",
   "metadata": {},
   "outputs": [
    {
     "data": {
      "text/plain": [
       "{'RandomForest': {'max_depth': 6, 'n_estimators': 300},\n",
       " 'AdaBoost': {'learning_rate': 0.2, 'n_estimators': 200},\n",
       " 'KNN': {'n_neighbors': 5, 'p': 1},\n",
       " 'SVM': {'C': 0.75, 'gamma': 'scale', 'kernel': 'rbf'},\n",
       " 'LGBM': {'max_depth': 2, 'num_leaves': 4}}"
      ]
     },
     "execution_count": 48,
     "metadata": {},
     "output_type": "execute_result"
    }
   ],
   "source": [
    "# Show best parameters from grid search\n",
    "clf_best_params"
   ]
  },
  {
   "cell_type": "markdown",
   "id": "15b15e24",
   "metadata": {},
   "source": [
    "## Final model"
   ]
  },
  {
   "cell_type": "code",
   "execution_count": 49,
   "id": "8b5bc573",
   "metadata": {},
   "outputs": [],
   "source": [
    "train = pd.read_csv(\"CongressionalVotingID.shuf.lrn.csv\", sep=',')\n",
    "test = pd.read_csv(\"CongressionalVotingID.shuf.tes.csv\", sep=',')\n",
    "\n",
    "# train set\n",
    "X_train = train.drop(columns=[\"class\"])\n",
    "y_train = train[\"class\"]\n",
    "\n",
    "# test set\n",
    "X_test = test"
   ]
  },
  {
   "cell_type": "code",
   "execution_count": 50,
   "id": "ba9234c0",
   "metadata": {},
   "outputs": [],
   "source": [
    "# Preprocessing\n",
    "X_train = preprocessing(X_train)\n",
    "X_test = preprocessing(X_test)\n",
    "\n",
    "y_train = label_encode(y_train)"
   ]
  },
  {
   "cell_type": "code",
   "execution_count": 51,
   "id": "f80661ee",
   "metadata": {},
   "outputs": [],
   "source": [
    "best_classifiers = {\n",
    "    \"AdaBoost\" : AdaBoostClassifier(**clf_best_params[\"AdaBoost\"], random_state=0),\n",
    "    \"LGBM\" : LGBMClassifier(**clf_best_params[\"LGBM\"], random_state=0)\n",
    "}"
   ]
  },
  {
   "cell_type": "code",
   "execution_count": 52,
   "id": "1f0ebb8f",
   "metadata": {},
   "outputs": [
    {
     "name": "stdout",
     "output_type": "stream",
     "text": [
      "Model: AdaBoost\n",
      "Average validation accuracy: 95.41\n",
      "Training time (mins): 0.04\n",
      "\n",
      "Model: LGBM\n",
      "Average validation accuracy: 95.41\n",
      "Training time (mins): 0.01\n",
      "\n"
     ]
    }
   ],
   "source": [
    "X_train = np.array(X_train.copy())\n",
    "y_train = np.array(y_train.copy())\n",
    "\n",
    "# Number of folds in cross validation\n",
    "FOLDS=10\n",
    "preds=np.zeros(len(X_test))\n",
    "\n",
    "for key, classifier in best_classifiers.items():\n",
    "    start = time.time()\n",
    "    \n",
    "    cv = StratifiedKFold(n_splits=FOLDS, shuffle=True, random_state=0)\n",
    "    \n",
    "    score=0\n",
    "    for fold, (train_idx, val_idx) in enumerate(cv.split(X_train, y_train)):\n",
    "        # Get training and validation sets\n",
    "        X_corss, X_valid = X_train[train_idx], X_train[val_idx]\n",
    "        y_cross, y_valid = y_train[train_idx], y_train[val_idx]\n",
    "\n",
    "        # Train model\n",
    "        clf = classifier\n",
    "        clf.fit(X_corss, y_cross)\n",
    "\n",
    "        # Make predictions and measure accuracy\n",
    "        preds += clf.predict_proba(X_test)[:,1]\n",
    "        score += clf.score(X_valid, y_valid)\n",
    "\n",
    "    # Average accuracy    \n",
    "    score=score/FOLDS\n",
    "    \n",
    "    # Stop timer\n",
    "    stop = time.time()\n",
    "\n",
    "    # Print accuracy and time\n",
    "    print('Model:', key)\n",
    "    print('Average validation accuracy:', np.round(100*score,2))\n",
    "    print('Training time (mins):', np.round((stop - start)/60,2))\n",
    "    print('')\n",
    "    \n",
    "# Ensemble predictions\n",
    "preds=preds/(FOLDS*len(best_classifiers))"
   ]
  },
  {
   "cell_type": "markdown",
   "id": "95401166",
   "metadata": {},
   "source": [
    "## Predictions"
   ]
  },
  {
   "cell_type": "code",
   "execution_count": 53,
   "id": "1180e627",
   "metadata": {},
   "outputs": [
    {
     "data": {
      "text/plain": [
       "array([0, 1, 1, 0, 0, 1, 1, 1, 1, 0, 0, 0, 0, 0, 0, 1, 0, 1, 1, 0, 1, 0,\n",
       "       0, 1, 1, 1, 1, 1, 1, 1, 0, 0, 1, 1, 1, 1, 0, 1, 1, 1, 1, 1, 0, 1,\n",
       "       0, 0, 0, 1, 1, 0, 0, 1, 1, 1, 1, 1, 1, 1, 0, 0, 1, 1, 0, 1, 1, 1,\n",
       "       0, 1, 1, 1, 1, 1, 0, 1, 0, 0, 1, 0, 0, 1, 1, 0, 1, 1, 1, 1, 1, 1,\n",
       "       0, 0, 1, 0, 1, 1, 1, 0, 0, 0, 1, 0, 1, 0, 0, 1, 1, 0, 1, 0, 1, 1,\n",
       "       1, 0, 0, 0, 1, 1, 1, 0, 1, 1, 1, 1, 0, 0, 0, 1, 0, 1, 1, 1, 1, 0,\n",
       "       1, 1, 1, 0, 0, 0, 0, 0, 1, 0, 0, 1, 1, 0, 1, 0, 1, 1, 1, 0, 1, 0,\n",
       "       0, 0, 1, 0, 0, 0, 1, 1, 0, 0, 0, 1, 1, 1, 0, 1, 1, 0, 1, 1, 1, 0,\n",
       "       0, 0, 0, 1, 0, 0, 0, 1, 1, 1, 1, 0, 0, 0, 0, 0, 0, 1, 1, 0, 1, 1,\n",
       "       1, 1, 0, 0, 0, 0, 0, 0, 1, 0, 1, 1, 1, 1, 1, 1, 0, 1, 0])"
      ]
     },
     "execution_count": 53,
     "metadata": {},
     "output_type": "execute_result"
    }
   ],
   "source": [
    "y_pred = np.round(preds).astype(int)\n",
    "y_pred"
   ]
  },
  {
   "cell_type": "code",
   "execution_count": 54,
   "id": "c06df2ca",
   "metadata": {},
   "outputs": [],
   "source": [
    "predictions = []\n",
    "for p in y_pred :\n",
    "    val = int(p)\n",
    "    if (p == 1):\n",
    "        predictions.append(\"democrat\")\n",
    "    else : \n",
    "        predictions.append(\"republican\")"
   ]
  },
  {
   "cell_type": "code",
   "execution_count": 55,
   "id": "0e97b78a",
   "metadata": {},
   "outputs": [
    {
     "data": {
      "text/plain": [
       "['republican',\n",
       " 'democrat',\n",
       " 'democrat',\n",
       " 'republican',\n",
       " 'republican',\n",
       " 'democrat',\n",
       " 'democrat',\n",
       " 'democrat',\n",
       " 'democrat',\n",
       " 'republican',\n",
       " 'republican',\n",
       " 'republican',\n",
       " 'republican',\n",
       " 'republican',\n",
       " 'republican',\n",
       " 'democrat',\n",
       " 'republican',\n",
       " 'democrat',\n",
       " 'democrat',\n",
       " 'republican',\n",
       " 'democrat',\n",
       " 'republican',\n",
       " 'republican',\n",
       " 'democrat',\n",
       " 'democrat',\n",
       " 'democrat',\n",
       " 'democrat',\n",
       " 'democrat',\n",
       " 'democrat',\n",
       " 'democrat',\n",
       " 'republican',\n",
       " 'republican',\n",
       " 'democrat',\n",
       " 'democrat',\n",
       " 'democrat',\n",
       " 'democrat',\n",
       " 'republican',\n",
       " 'democrat',\n",
       " 'democrat',\n",
       " 'democrat',\n",
       " 'democrat',\n",
       " 'democrat',\n",
       " 'republican',\n",
       " 'democrat',\n",
       " 'republican',\n",
       " 'republican',\n",
       " 'republican',\n",
       " 'democrat',\n",
       " 'democrat',\n",
       " 'republican',\n",
       " 'republican',\n",
       " 'democrat',\n",
       " 'democrat',\n",
       " 'democrat',\n",
       " 'democrat',\n",
       " 'democrat',\n",
       " 'democrat',\n",
       " 'democrat',\n",
       " 'republican',\n",
       " 'republican',\n",
       " 'democrat',\n",
       " 'democrat',\n",
       " 'republican',\n",
       " 'democrat',\n",
       " 'democrat',\n",
       " 'democrat',\n",
       " 'republican',\n",
       " 'democrat',\n",
       " 'democrat',\n",
       " 'democrat',\n",
       " 'democrat',\n",
       " 'democrat',\n",
       " 'republican',\n",
       " 'democrat',\n",
       " 'republican',\n",
       " 'republican',\n",
       " 'democrat',\n",
       " 'republican',\n",
       " 'republican',\n",
       " 'democrat',\n",
       " 'democrat',\n",
       " 'republican',\n",
       " 'democrat',\n",
       " 'democrat',\n",
       " 'democrat',\n",
       " 'democrat',\n",
       " 'democrat',\n",
       " 'democrat',\n",
       " 'republican',\n",
       " 'republican',\n",
       " 'democrat',\n",
       " 'republican',\n",
       " 'democrat',\n",
       " 'democrat',\n",
       " 'democrat',\n",
       " 'republican',\n",
       " 'republican',\n",
       " 'republican',\n",
       " 'democrat',\n",
       " 'republican',\n",
       " 'democrat',\n",
       " 'republican',\n",
       " 'republican',\n",
       " 'democrat',\n",
       " 'democrat',\n",
       " 'republican',\n",
       " 'democrat',\n",
       " 'republican',\n",
       " 'democrat',\n",
       " 'democrat',\n",
       " 'democrat',\n",
       " 'republican',\n",
       " 'republican',\n",
       " 'republican',\n",
       " 'democrat',\n",
       " 'democrat',\n",
       " 'democrat',\n",
       " 'republican',\n",
       " 'democrat',\n",
       " 'democrat',\n",
       " 'democrat',\n",
       " 'democrat',\n",
       " 'republican',\n",
       " 'republican',\n",
       " 'republican',\n",
       " 'democrat',\n",
       " 'republican',\n",
       " 'democrat',\n",
       " 'democrat',\n",
       " 'democrat',\n",
       " 'democrat',\n",
       " 'republican',\n",
       " 'democrat',\n",
       " 'democrat',\n",
       " 'democrat',\n",
       " 'republican',\n",
       " 'republican',\n",
       " 'republican',\n",
       " 'republican',\n",
       " 'republican',\n",
       " 'democrat',\n",
       " 'republican',\n",
       " 'republican',\n",
       " 'democrat',\n",
       " 'democrat',\n",
       " 'republican',\n",
       " 'democrat',\n",
       " 'republican',\n",
       " 'democrat',\n",
       " 'democrat',\n",
       " 'democrat',\n",
       " 'republican',\n",
       " 'democrat',\n",
       " 'republican',\n",
       " 'republican',\n",
       " 'republican',\n",
       " 'democrat',\n",
       " 'republican',\n",
       " 'republican',\n",
       " 'republican',\n",
       " 'democrat',\n",
       " 'democrat',\n",
       " 'republican',\n",
       " 'republican',\n",
       " 'republican',\n",
       " 'democrat',\n",
       " 'democrat',\n",
       " 'democrat',\n",
       " 'republican',\n",
       " 'democrat',\n",
       " 'democrat',\n",
       " 'republican',\n",
       " 'democrat',\n",
       " 'democrat',\n",
       " 'democrat',\n",
       " 'republican',\n",
       " 'republican',\n",
       " 'republican',\n",
       " 'republican',\n",
       " 'democrat',\n",
       " 'republican',\n",
       " 'republican',\n",
       " 'republican',\n",
       " 'democrat',\n",
       " 'democrat',\n",
       " 'democrat',\n",
       " 'democrat',\n",
       " 'republican',\n",
       " 'republican',\n",
       " 'republican',\n",
       " 'republican',\n",
       " 'republican',\n",
       " 'republican',\n",
       " 'democrat',\n",
       " 'democrat',\n",
       " 'republican',\n",
       " 'democrat',\n",
       " 'democrat',\n",
       " 'democrat',\n",
       " 'democrat',\n",
       " 'republican',\n",
       " 'republican',\n",
       " 'republican',\n",
       " 'republican',\n",
       " 'republican',\n",
       " 'republican',\n",
       " 'democrat',\n",
       " 'republican',\n",
       " 'democrat',\n",
       " 'democrat',\n",
       " 'democrat',\n",
       " 'democrat',\n",
       " 'democrat',\n",
       " 'democrat',\n",
       " 'republican',\n",
       " 'democrat',\n",
       " 'republican']"
      ]
     },
     "execution_count": 55,
     "metadata": {},
     "output_type": "execute_result"
    }
   ],
   "source": [
    "predictions"
   ]
  },
  {
   "cell_type": "code",
   "execution_count": 56,
   "id": "2b424428",
   "metadata": {},
   "outputs": [
    {
     "data": {
      "text/html": [
       "<div>\n",
       "<style scoped>\n",
       "    .dataframe tbody tr th:only-of-type {\n",
       "        vertical-align: middle;\n",
       "    }\n",
       "\n",
       "    .dataframe tbody tr th {\n",
       "        vertical-align: top;\n",
       "    }\n",
       "\n",
       "    .dataframe thead th {\n",
       "        text-align: right;\n",
       "    }\n",
       "</style>\n",
       "<table border=\"1\" class=\"dataframe\">\n",
       "  <thead>\n",
       "    <tr style=\"text-align: right;\">\n",
       "      <th></th>\n",
       "      <th>ID</th>\n",
       "      <th>class</th>\n",
       "    </tr>\n",
       "  </thead>\n",
       "  <tbody>\n",
       "    <tr>\n",
       "      <th>0</th>\n",
       "      <td>275</td>\n",
       "      <td>republican</td>\n",
       "    </tr>\n",
       "    <tr>\n",
       "      <th>1</th>\n",
       "      <td>266</td>\n",
       "      <td>democrat</td>\n",
       "    </tr>\n",
       "    <tr>\n",
       "      <th>2</th>\n",
       "      <td>247</td>\n",
       "      <td>democrat</td>\n",
       "    </tr>\n",
       "    <tr>\n",
       "      <th>3</th>\n",
       "      <td>328</td>\n",
       "      <td>republican</td>\n",
       "    </tr>\n",
       "    <tr>\n",
       "      <th>4</th>\n",
       "      <td>232</td>\n",
       "      <td>republican</td>\n",
       "    </tr>\n",
       "    <tr>\n",
       "      <th>...</th>\n",
       "      <td>...</td>\n",
       "      <td>...</td>\n",
       "    </tr>\n",
       "    <tr>\n",
       "      <th>212</th>\n",
       "      <td>291</td>\n",
       "      <td>democrat</td>\n",
       "    </tr>\n",
       "    <tr>\n",
       "      <th>213</th>\n",
       "      <td>76</td>\n",
       "      <td>democrat</td>\n",
       "    </tr>\n",
       "    <tr>\n",
       "      <th>214</th>\n",
       "      <td>123</td>\n",
       "      <td>republican</td>\n",
       "    </tr>\n",
       "    <tr>\n",
       "      <th>215</th>\n",
       "      <td>416</td>\n",
       "      <td>democrat</td>\n",
       "    </tr>\n",
       "    <tr>\n",
       "      <th>216</th>\n",
       "      <td>309</td>\n",
       "      <td>republican</td>\n",
       "    </tr>\n",
       "  </tbody>\n",
       "</table>\n",
       "<p>217 rows × 2 columns</p>\n",
       "</div>"
      ],
      "text/plain": [
       "      ID       class\n",
       "0    275  republican\n",
       "1    266    democrat\n",
       "2    247    democrat\n",
       "3    328  republican\n",
       "4    232  republican\n",
       "..   ...         ...\n",
       "212  291    democrat\n",
       "213   76    democrat\n",
       "214  123  republican\n",
       "215  416    democrat\n",
       "216  309  republican\n",
       "\n",
       "[217 rows x 2 columns]"
      ]
     },
     "execution_count": 56,
     "metadata": {},
     "output_type": "execute_result"
    }
   ],
   "source": [
    "final = pd.DataFrame()\n",
    "final[\"ID\"] = test[\"ID\"]\n",
    "final[\"class\"] = predictions\n",
    "\n",
    "final"
   ]
  },
  {
   "cell_type": "code",
   "execution_count": 57,
   "id": "f76ad349",
   "metadata": {},
   "outputs": [],
   "source": [
    "final.to_csv(\"groupe06.csv\", index=False)"
   ]
  },
  {
   "cell_type": "code",
   "execution_count": null,
   "id": "f5fb7842",
   "metadata": {},
   "outputs": [],
   "source": []
  }
 ],
 "metadata": {
  "kernelspec": {
   "display_name": "Python 3",
   "language": "python",
   "name": "python3"
  },
  "language_info": {
   "codemirror_mode": {
    "name": "ipython",
    "version": 3
   },
   "file_extension": ".py",
   "mimetype": "text/x-python",
   "name": "python",
   "nbconvert_exporter": "python",
   "pygments_lexer": "ipython3",
   "version": "3.8.8"
  }
 },
 "nbformat": 4,
 "nbformat_minor": 5
}
