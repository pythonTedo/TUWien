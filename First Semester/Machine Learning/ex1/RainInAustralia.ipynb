{
 "cells": [
  {
   "cell_type": "code",
   "execution_count": 22,
   "metadata": {},
   "outputs": [],
   "source": [
    "import pandas as pd\n",
    "import numpy as np\n",
    "import matplotlib.pyplot as plt\n",
    "import seaborn as sns\n",
    "\n",
    "from sklearn.impute import SimpleImputer\n",
    "from sklearn.preprocessing import OneHotEncoder, MinMaxScaler\n",
    "from sklearn.decomposition import PCA\n",
    "from sklearn.metrics import accuracy_score, f1_score, precision_score, recall_score, roc_auc_score, plot_confusion_matrix\n",
    "from sklearn.ensemble import RandomForestClassifier,  GradientBoostingClassifier\n",
    "from sklearn.naive_bayes import GaussianNB\n",
    "from sklearn.tree import DecisionTreeClassifier\n",
    "from sklearn.linear_model import LogisticRegression\n",
    "from sklearn.neighbors import KNeighborsClassifier\n",
    "from lightgbm import LGBMClassifier\n",
    "from sklearn.svm import SVC\n",
    "from sklearn.model_selection import GridSearchCV, train_test_split\n",
    "\n",
    "from imblearn.over_sampling import RandomOverSampler"
   ]
  },
  {
   "cell_type": "code",
   "execution_count": 23,
   "metadata": {},
   "outputs": [],
   "source": [
    "df = pd.read_csv(\"weatherAUS.csv\")"
   ]
  },
  {
   "cell_type": "code",
   "execution_count": 24,
   "metadata": {},
   "outputs": [
    {
     "data": {
      "text/plain": [
       "(145460, 23)"
      ]
     },
     "execution_count": 24,
     "metadata": {},
     "output_type": "execute_result"
    }
   ],
   "source": [
    "df.shape"
   ]
  },
  {
   "cell_type": "markdown",
   "metadata": {},
   "source": [
    "## Preprocess data"
   ]
  },
  {
   "cell_type": "code",
   "execution_count": 25,
   "metadata": {},
   "outputs": [
    {
     "data": {
      "text/html": [
       "<div>\n",
       "<style scoped>\n",
       "    .dataframe tbody tr th:only-of-type {\n",
       "        vertical-align: middle;\n",
       "    }\n",
       "\n",
       "    .dataframe tbody tr th {\n",
       "        vertical-align: top;\n",
       "    }\n",
       "\n",
       "    .dataframe thead th {\n",
       "        text-align: right;\n",
       "    }\n",
       "</style>\n",
       "<table border=\"1\" class=\"dataframe\">\n",
       "  <thead>\n",
       "    <tr style=\"text-align: right;\">\n",
       "      <th></th>\n",
       "      <th>Date</th>\n",
       "      <th>Location</th>\n",
       "      <th>MinTemp</th>\n",
       "      <th>MaxTemp</th>\n",
       "      <th>Rainfall</th>\n",
       "      <th>Evaporation</th>\n",
       "      <th>Sunshine</th>\n",
       "      <th>WindGustDir</th>\n",
       "      <th>WindGustSpeed</th>\n",
       "      <th>WindDir9am</th>\n",
       "      <th>...</th>\n",
       "      <th>Humidity9am</th>\n",
       "      <th>Humidity3pm</th>\n",
       "      <th>Pressure9am</th>\n",
       "      <th>Pressure3pm</th>\n",
       "      <th>Cloud9am</th>\n",
       "      <th>Cloud3pm</th>\n",
       "      <th>Temp9am</th>\n",
       "      <th>Temp3pm</th>\n",
       "      <th>RainToday</th>\n",
       "      <th>RainTomorrow</th>\n",
       "    </tr>\n",
       "  </thead>\n",
       "  <tbody>\n",
       "    <tr>\n",
       "      <th>0</th>\n",
       "      <td>2008-12-01</td>\n",
       "      <td>Albury</td>\n",
       "      <td>13.4</td>\n",
       "      <td>22.9</td>\n",
       "      <td>0.6</td>\n",
       "      <td>NaN</td>\n",
       "      <td>NaN</td>\n",
       "      <td>W</td>\n",
       "      <td>44.0</td>\n",
       "      <td>W</td>\n",
       "      <td>...</td>\n",
       "      <td>71.0</td>\n",
       "      <td>22.0</td>\n",
       "      <td>1007.7</td>\n",
       "      <td>1007.1</td>\n",
       "      <td>8.0</td>\n",
       "      <td>NaN</td>\n",
       "      <td>16.9</td>\n",
       "      <td>21.8</td>\n",
       "      <td>No</td>\n",
       "      <td>No</td>\n",
       "    </tr>\n",
       "    <tr>\n",
       "      <th>1</th>\n",
       "      <td>2008-12-02</td>\n",
       "      <td>Albury</td>\n",
       "      <td>7.4</td>\n",
       "      <td>25.1</td>\n",
       "      <td>0.0</td>\n",
       "      <td>NaN</td>\n",
       "      <td>NaN</td>\n",
       "      <td>WNW</td>\n",
       "      <td>44.0</td>\n",
       "      <td>NNW</td>\n",
       "      <td>...</td>\n",
       "      <td>44.0</td>\n",
       "      <td>25.0</td>\n",
       "      <td>1010.6</td>\n",
       "      <td>1007.8</td>\n",
       "      <td>NaN</td>\n",
       "      <td>NaN</td>\n",
       "      <td>17.2</td>\n",
       "      <td>24.3</td>\n",
       "      <td>No</td>\n",
       "      <td>No</td>\n",
       "    </tr>\n",
       "    <tr>\n",
       "      <th>2</th>\n",
       "      <td>2008-12-03</td>\n",
       "      <td>Albury</td>\n",
       "      <td>12.9</td>\n",
       "      <td>25.7</td>\n",
       "      <td>0.0</td>\n",
       "      <td>NaN</td>\n",
       "      <td>NaN</td>\n",
       "      <td>WSW</td>\n",
       "      <td>46.0</td>\n",
       "      <td>W</td>\n",
       "      <td>...</td>\n",
       "      <td>38.0</td>\n",
       "      <td>30.0</td>\n",
       "      <td>1007.6</td>\n",
       "      <td>1008.7</td>\n",
       "      <td>NaN</td>\n",
       "      <td>2.0</td>\n",
       "      <td>21.0</td>\n",
       "      <td>23.2</td>\n",
       "      <td>No</td>\n",
       "      <td>No</td>\n",
       "    </tr>\n",
       "    <tr>\n",
       "      <th>3</th>\n",
       "      <td>2008-12-04</td>\n",
       "      <td>Albury</td>\n",
       "      <td>9.2</td>\n",
       "      <td>28.0</td>\n",
       "      <td>0.0</td>\n",
       "      <td>NaN</td>\n",
       "      <td>NaN</td>\n",
       "      <td>NE</td>\n",
       "      <td>24.0</td>\n",
       "      <td>SE</td>\n",
       "      <td>...</td>\n",
       "      <td>45.0</td>\n",
       "      <td>16.0</td>\n",
       "      <td>1017.6</td>\n",
       "      <td>1012.8</td>\n",
       "      <td>NaN</td>\n",
       "      <td>NaN</td>\n",
       "      <td>18.1</td>\n",
       "      <td>26.5</td>\n",
       "      <td>No</td>\n",
       "      <td>No</td>\n",
       "    </tr>\n",
       "    <tr>\n",
       "      <th>4</th>\n",
       "      <td>2008-12-05</td>\n",
       "      <td>Albury</td>\n",
       "      <td>17.5</td>\n",
       "      <td>32.3</td>\n",
       "      <td>1.0</td>\n",
       "      <td>NaN</td>\n",
       "      <td>NaN</td>\n",
       "      <td>W</td>\n",
       "      <td>41.0</td>\n",
       "      <td>ENE</td>\n",
       "      <td>...</td>\n",
       "      <td>82.0</td>\n",
       "      <td>33.0</td>\n",
       "      <td>1010.8</td>\n",
       "      <td>1006.0</td>\n",
       "      <td>7.0</td>\n",
       "      <td>8.0</td>\n",
       "      <td>17.8</td>\n",
       "      <td>29.7</td>\n",
       "      <td>No</td>\n",
       "      <td>No</td>\n",
       "    </tr>\n",
       "    <tr>\n",
       "      <th>...</th>\n",
       "      <td>...</td>\n",
       "      <td>...</td>\n",
       "      <td>...</td>\n",
       "      <td>...</td>\n",
       "      <td>...</td>\n",
       "      <td>...</td>\n",
       "      <td>...</td>\n",
       "      <td>...</td>\n",
       "      <td>...</td>\n",
       "      <td>...</td>\n",
       "      <td>...</td>\n",
       "      <td>...</td>\n",
       "      <td>...</td>\n",
       "      <td>...</td>\n",
       "      <td>...</td>\n",
       "      <td>...</td>\n",
       "      <td>...</td>\n",
       "      <td>...</td>\n",
       "      <td>...</td>\n",
       "      <td>...</td>\n",
       "      <td>...</td>\n",
       "    </tr>\n",
       "    <tr>\n",
       "      <th>145455</th>\n",
       "      <td>2017-06-21</td>\n",
       "      <td>Uluru</td>\n",
       "      <td>2.8</td>\n",
       "      <td>23.4</td>\n",
       "      <td>0.0</td>\n",
       "      <td>NaN</td>\n",
       "      <td>NaN</td>\n",
       "      <td>E</td>\n",
       "      <td>31.0</td>\n",
       "      <td>SE</td>\n",
       "      <td>...</td>\n",
       "      <td>51.0</td>\n",
       "      <td>24.0</td>\n",
       "      <td>1024.6</td>\n",
       "      <td>1020.3</td>\n",
       "      <td>NaN</td>\n",
       "      <td>NaN</td>\n",
       "      <td>10.1</td>\n",
       "      <td>22.4</td>\n",
       "      <td>No</td>\n",
       "      <td>No</td>\n",
       "    </tr>\n",
       "    <tr>\n",
       "      <th>145456</th>\n",
       "      <td>2017-06-22</td>\n",
       "      <td>Uluru</td>\n",
       "      <td>3.6</td>\n",
       "      <td>25.3</td>\n",
       "      <td>0.0</td>\n",
       "      <td>NaN</td>\n",
       "      <td>NaN</td>\n",
       "      <td>NNW</td>\n",
       "      <td>22.0</td>\n",
       "      <td>SE</td>\n",
       "      <td>...</td>\n",
       "      <td>56.0</td>\n",
       "      <td>21.0</td>\n",
       "      <td>1023.5</td>\n",
       "      <td>1019.1</td>\n",
       "      <td>NaN</td>\n",
       "      <td>NaN</td>\n",
       "      <td>10.9</td>\n",
       "      <td>24.5</td>\n",
       "      <td>No</td>\n",
       "      <td>No</td>\n",
       "    </tr>\n",
       "    <tr>\n",
       "      <th>145457</th>\n",
       "      <td>2017-06-23</td>\n",
       "      <td>Uluru</td>\n",
       "      <td>5.4</td>\n",
       "      <td>26.9</td>\n",
       "      <td>0.0</td>\n",
       "      <td>NaN</td>\n",
       "      <td>NaN</td>\n",
       "      <td>N</td>\n",
       "      <td>37.0</td>\n",
       "      <td>SE</td>\n",
       "      <td>...</td>\n",
       "      <td>53.0</td>\n",
       "      <td>24.0</td>\n",
       "      <td>1021.0</td>\n",
       "      <td>1016.8</td>\n",
       "      <td>NaN</td>\n",
       "      <td>NaN</td>\n",
       "      <td>12.5</td>\n",
       "      <td>26.1</td>\n",
       "      <td>No</td>\n",
       "      <td>No</td>\n",
       "    </tr>\n",
       "    <tr>\n",
       "      <th>145458</th>\n",
       "      <td>2017-06-24</td>\n",
       "      <td>Uluru</td>\n",
       "      <td>7.8</td>\n",
       "      <td>27.0</td>\n",
       "      <td>0.0</td>\n",
       "      <td>NaN</td>\n",
       "      <td>NaN</td>\n",
       "      <td>SE</td>\n",
       "      <td>28.0</td>\n",
       "      <td>SSE</td>\n",
       "      <td>...</td>\n",
       "      <td>51.0</td>\n",
       "      <td>24.0</td>\n",
       "      <td>1019.4</td>\n",
       "      <td>1016.5</td>\n",
       "      <td>3.0</td>\n",
       "      <td>2.0</td>\n",
       "      <td>15.1</td>\n",
       "      <td>26.0</td>\n",
       "      <td>No</td>\n",
       "      <td>No</td>\n",
       "    </tr>\n",
       "    <tr>\n",
       "      <th>145459</th>\n",
       "      <td>2017-06-25</td>\n",
       "      <td>Uluru</td>\n",
       "      <td>14.9</td>\n",
       "      <td>NaN</td>\n",
       "      <td>0.0</td>\n",
       "      <td>NaN</td>\n",
       "      <td>NaN</td>\n",
       "      <td>NaN</td>\n",
       "      <td>NaN</td>\n",
       "      <td>ESE</td>\n",
       "      <td>...</td>\n",
       "      <td>62.0</td>\n",
       "      <td>36.0</td>\n",
       "      <td>1020.2</td>\n",
       "      <td>1017.9</td>\n",
       "      <td>8.0</td>\n",
       "      <td>8.0</td>\n",
       "      <td>15.0</td>\n",
       "      <td>20.9</td>\n",
       "      <td>No</td>\n",
       "      <td>NaN</td>\n",
       "    </tr>\n",
       "  </tbody>\n",
       "</table>\n",
       "<p>145460 rows × 23 columns</p>\n",
       "</div>"
      ],
      "text/plain": [
       "              Date Location  MinTemp  MaxTemp  Rainfall  Evaporation  \\\n",
       "0       2008-12-01   Albury     13.4     22.9       0.6          NaN   \n",
       "1       2008-12-02   Albury      7.4     25.1       0.0          NaN   \n",
       "2       2008-12-03   Albury     12.9     25.7       0.0          NaN   \n",
       "3       2008-12-04   Albury      9.2     28.0       0.0          NaN   \n",
       "4       2008-12-05   Albury     17.5     32.3       1.0          NaN   \n",
       "...            ...      ...      ...      ...       ...          ...   \n",
       "145455  2017-06-21    Uluru      2.8     23.4       0.0          NaN   \n",
       "145456  2017-06-22    Uluru      3.6     25.3       0.0          NaN   \n",
       "145457  2017-06-23    Uluru      5.4     26.9       0.0          NaN   \n",
       "145458  2017-06-24    Uluru      7.8     27.0       0.0          NaN   \n",
       "145459  2017-06-25    Uluru     14.9      NaN       0.0          NaN   \n",
       "\n",
       "        Sunshine WindGustDir  WindGustSpeed WindDir9am  ... Humidity9am  \\\n",
       "0            NaN           W           44.0          W  ...        71.0   \n",
       "1            NaN         WNW           44.0        NNW  ...        44.0   \n",
       "2            NaN         WSW           46.0          W  ...        38.0   \n",
       "3            NaN          NE           24.0         SE  ...        45.0   \n",
       "4            NaN           W           41.0        ENE  ...        82.0   \n",
       "...          ...         ...            ...        ...  ...         ...   \n",
       "145455       NaN           E           31.0         SE  ...        51.0   \n",
       "145456       NaN         NNW           22.0         SE  ...        56.0   \n",
       "145457       NaN           N           37.0         SE  ...        53.0   \n",
       "145458       NaN          SE           28.0        SSE  ...        51.0   \n",
       "145459       NaN         NaN            NaN        ESE  ...        62.0   \n",
       "\n",
       "        Humidity3pm  Pressure9am  Pressure3pm  Cloud9am  Cloud3pm  Temp9am  \\\n",
       "0              22.0       1007.7       1007.1       8.0       NaN     16.9   \n",
       "1              25.0       1010.6       1007.8       NaN       NaN     17.2   \n",
       "2              30.0       1007.6       1008.7       NaN       2.0     21.0   \n",
       "3              16.0       1017.6       1012.8       NaN       NaN     18.1   \n",
       "4              33.0       1010.8       1006.0       7.0       8.0     17.8   \n",
       "...             ...          ...          ...       ...       ...      ...   \n",
       "145455         24.0       1024.6       1020.3       NaN       NaN     10.1   \n",
       "145456         21.0       1023.5       1019.1       NaN       NaN     10.9   \n",
       "145457         24.0       1021.0       1016.8       NaN       NaN     12.5   \n",
       "145458         24.0       1019.4       1016.5       3.0       2.0     15.1   \n",
       "145459         36.0       1020.2       1017.9       8.0       8.0     15.0   \n",
       "\n",
       "        Temp3pm  RainToday  RainTomorrow  \n",
       "0          21.8         No            No  \n",
       "1          24.3         No            No  \n",
       "2          23.2         No            No  \n",
       "3          26.5         No            No  \n",
       "4          29.7         No            No  \n",
       "...         ...        ...           ...  \n",
       "145455     22.4         No            No  \n",
       "145456     24.5         No            No  \n",
       "145457     26.1         No            No  \n",
       "145458     26.0         No            No  \n",
       "145459     20.9         No           NaN  \n",
       "\n",
       "[145460 rows x 23 columns]"
      ]
     },
     "execution_count": 25,
     "metadata": {},
     "output_type": "execute_result"
    }
   ],
   "source": [
    "df"
   ]
  },
  {
   "cell_type": "code",
   "execution_count": 26,
   "metadata": {},
   "outputs": [
    {
     "data": {
      "text/plain": [
       "0         0.6\n",
       "1         0.0\n",
       "2         0.0\n",
       "3         0.0\n",
       "4         1.0\n",
       "         ... \n",
       "145455    0.0\n",
       "145456    0.0\n",
       "145457    0.0\n",
       "145458    0.0\n",
       "145459    0.0\n",
       "Name: Rainfall, Length: 145460, dtype: float64"
      ]
     },
     "execution_count": 26,
     "metadata": {},
     "output_type": "execute_result"
    }
   ],
   "source": [
    "df.Rainfall"
   ]
  },
  {
   "cell_type": "code",
   "execution_count": 27,
   "metadata": {},
   "outputs": [
    {
     "name": "stdout",
     "output_type": "stream",
     "text": [
      "<class 'pandas.core.frame.DataFrame'>\n",
      "RangeIndex: 145460 entries, 0 to 145459\n",
      "Data columns (total 23 columns):\n",
      " #   Column         Non-Null Count   Dtype  \n",
      "---  ------         --------------   -----  \n",
      " 0   Date           145460 non-null  object \n",
      " 1   Location       145460 non-null  object \n",
      " 2   MinTemp        143975 non-null  float64\n",
      " 3   MaxTemp        144199 non-null  float64\n",
      " 4   Rainfall       142199 non-null  float64\n",
      " 5   Evaporation    82670 non-null   float64\n",
      " 6   Sunshine       75625 non-null   float64\n",
      " 7   WindGustDir    135134 non-null  object \n",
      " 8   WindGustSpeed  135197 non-null  float64\n",
      " 9   WindDir9am     134894 non-null  object \n",
      " 10  WindDir3pm     141232 non-null  object \n",
      " 11  WindSpeed9am   143693 non-null  float64\n",
      " 12  WindSpeed3pm   142398 non-null  float64\n",
      " 13  Humidity9am    142806 non-null  float64\n",
      " 14  Humidity3pm    140953 non-null  float64\n",
      " 15  Pressure9am    130395 non-null  float64\n",
      " 16  Pressure3pm    130432 non-null  float64\n",
      " 17  Cloud9am       89572 non-null   float64\n",
      " 18  Cloud3pm       86102 non-null   float64\n",
      " 19  Temp9am        143693 non-null  float64\n",
      " 20  Temp3pm        141851 non-null  float64\n",
      " 21  RainToday      142199 non-null  object \n",
      " 22  RainTomorrow   142193 non-null  object \n",
      "dtypes: float64(16), object(7)\n",
      "memory usage: 25.5+ MB\n"
     ]
    }
   ],
   "source": [
    "df.info()"
   ]
  },
  {
   "cell_type": "code",
   "execution_count": 28,
   "metadata": {},
   "outputs": [
    {
     "data": {
      "text/plain": [
       "Date              0.000000\n",
       "Location          0.000000\n",
       "MinTemp           1.020899\n",
       "MaxTemp           0.866905\n",
       "Rainfall          2.241853\n",
       "Evaporation      43.166506\n",
       "Sunshine         48.009762\n",
       "WindGustDir       7.098859\n",
       "WindGustSpeed     7.055548\n",
       "WindDir9am        7.263853\n",
       "WindDir3pm        2.906641\n",
       "WindSpeed9am      1.214767\n",
       "WindSpeed3pm      2.105046\n",
       "Humidity9am       1.824557\n",
       "Humidity3pm       3.098446\n",
       "Pressure9am      10.356799\n",
       "Pressure3pm      10.331363\n",
       "Cloud9am         38.421559\n",
       "Cloud3pm         40.807095\n",
       "Temp9am           1.214767\n",
       "Temp3pm           2.481094\n",
       "RainToday         2.241853\n",
       "RainTomorrow      2.245978\n",
       "dtype: float64"
      ]
     },
     "execution_count": 28,
     "metadata": {},
     "output_type": "execute_result"
    }
   ],
   "source": [
    "(df.isnull().sum() / 145460) * 100\n"
   ]
  },
  {
   "cell_type": "code",
   "execution_count": 29,
   "metadata": {},
   "outputs": [],
   "source": [
    "df.Date = pd.to_datetime(df.Date)\n"
   ]
  },
  {
   "cell_type": "markdown",
   "metadata": {},
   "source": [
    "We can see we have 4 features with a lot of Nan values. Should i get rid of them or impute them ? \n",
    "\n",
    "I will create new dataframe with those columns for later now I will drop them"
   ]
  },
  {
   "cell_type": "code",
   "execution_count": 30,
   "metadata": {},
   "outputs": [
    {
     "data": {
      "text/plain": [
       "Text(0.5, 1.0, 'Rain Tomorrow')"
      ]
     },
     "execution_count": 30,
     "metadata": {},
     "output_type": "execute_result"
    },
    {
     "data": {
      "image/png": "[encoded data removed]",
      "text/plain": [
       "<Figure size 432x288 with 1 Axes>"
      ]
     },
     "metadata": {
      "needs_background": "light"
     },
     "output_type": "display_data"
    }
   ],
   "source": [
    "df.RainTomorrow.value_counts().plot(kind='bar')\n",
    "plt.title(\"Rain Tomorrow\")"
   ]
  },
  {
   "cell_type": "markdown",
   "metadata": {},
   "source": [
    "We can see hudge imbalance in our output label. It may affect the accuracy of the model in the end."
   ]
  },
  {
   "cell_type": "markdown",
   "metadata": {},
   "source": [
    "### Data Viz\n",
    "Lets understand the data"
   ]
  },
  {
   "cell_type": "code",
   "execution_count": 31,
   "metadata": {},
   "outputs": [
    {
     "data": {
      "image/png": "[encoded data removed]",
      "text/plain": [
       "<Figure size 576x288 with 1 Axes>"
      ]
     },
     "metadata": {
      "needs_background": "light"
     },
     "output_type": "display_data"
    }
   ],
   "source": [
    "plt.figure(figsize=(8,4))\n",
    "sns.countplot(x=df.Date.dt.year, hue=df.RainTomorrow)\n",
    "plt.title(\"Occurance of rain in Years\")\n",
    "plt.show()"
   ]
  },
  {
   "cell_type": "code",
   "execution_count": 32,
   "metadata": {},
   "outputs": [
    {
     "data": {
      "image/png": "[encoded data removed]",
      "text/plain": [
       "<Figure size 576x288 with 1 Axes>"
      ]
     },
     "metadata": {
      "needs_background": "light"
     },
     "output_type": "display_data"
    }
   ],
   "source": [
    "plt.figure(figsize=(8,4))\n",
    "sns.countplot(x=df.Date.dt.month, hue=df.RainTomorrow)\n",
    "plt.title(\"Occurance of rain in Months\")\n",
    "plt.show()"
   ]
  },
  {
   "cell_type": "markdown",
   "metadata": {},
   "source": [
    "We can see that it rains the most in the middle of the year, but not that high in comparison to other months"
   ]
  },
  {
   "cell_type": "code",
   "execution_count": 33,
   "metadata": {},
   "outputs": [
    {
     "data": {
      "image/png": "[encoded data removed]",
      "text/plain": [
       "<Figure size 576x288 with 1 Axes>"
      ]
     },
     "metadata": {
      "needs_background": "light"
     },
     "output_type": "display_data"
    }
   ],
   "source": [
    "plt.figure(figsize=(8,4))\n",
    "sns.scatterplot(x=df.Date.dt.month, y=df.Rainfall)\n",
    "plt.show()"
   ]
  },
  {
   "cell_type": "code",
   "execution_count": 34,
   "metadata": {},
   "outputs": [
    {
     "data": {
      "image/png": "[encoded data removed]",
      "text/plain": [
       "<Figure size 576x288 with 1 Axes>"
      ]
     },
     "metadata": {
      "needs_background": "light"
     },
     "output_type": "display_data"
    }
   ],
   "source": [
    "plt.figure(figsize=(8,4))\n",
    "sns.scatterplot(x=df.MaxTemp, y=df.Rainfall)\n",
    "plt.show()"
   ]
  },
  {
   "cell_type": "markdown",
   "metadata": {},
   "source": [
    "I will create Difference dataframe based on Temperature, Wind Speen, Pressure, Clouds and Humidity."
   ]
  },
  {
   "cell_type": "code",
   "execution_count": 35,
   "metadata": {},
   "outputs": [],
   "source": [
    "df_diffs = pd.DataFrame()\n",
    "df_diffs['Temp_diff'] = df['Temp3pm'] - df['Temp9am']\n",
    "df_diffs['Wind_diff'] = df['WindSpeed3pm'] - df['WindSpeed9am']\n",
    "df_diffs['Pressure_diff'] = df['Pressure3pm'] - df['Pressure9am']\n",
    "df_diffs['Cloud_diff'] = df['Cloud3pm'] - df['Cloud9am']\n",
    "df_diffs['Humidity_diff'] = df['Humidity3pm'] - df['Humidity9am']\n",
    "df_diffs['rain'] = df.RainTomorrow"
   ]
  },
  {
   "cell_type": "code",
   "execution_count": 36,
   "metadata": {},
   "outputs": [
    {
     "data": {
      "image/png": "[encoded data removed]",
      "text/plain": [
       "<Figure size 1440x720 with 5 Axes>"
      ]
     },
     "metadata": {
      "needs_background": "light"
     },
     "output_type": "display_data"
    }
   ],
   "source": [
    "x = (df_diffs[['Temp_diff','Wind_diff','Pressure_diff', 'Cloud_diff', 'Humidity_diff']])\n",
    "x.plot(grid =True, subplots = True,figsize = (20,10), fontsize = 20)\n",
    "plt.show()"
   ]
  },
  {
   "cell_type": "markdown",
   "metadata": {},
   "source": [
    "We can see we have NAN value, but the destrivution of the values is equal (+/- 10 for temp and pressure, 50 for wind and 100 for humidity)"
   ]
  },
  {
   "cell_type": "code",
   "execution_count": 37,
   "metadata": {},
   "outputs": [
    {
     "data": {
      "text/plain": [
       "Temp_diff         4247\n",
       "Wind_diff         3616\n",
       "Pressure_diff    15289\n",
       "Cloud_diff       63502\n",
       "Humidity_diff     5274\n",
       "rain              3267\n",
       "dtype: int64"
      ]
     },
     "execution_count": 37,
     "metadata": {},
     "output_type": "execute_result"
    }
   ],
   "source": [
    "df_diffs.isna().sum()"
   ]
  },
  {
   "cell_type": "code",
   "execution_count": 38,
   "metadata": {},
   "outputs": [
    {
     "data": {
      "text/plain": [
       "<AxesSubplot:>"
      ]
     },
     "execution_count": 38,
     "metadata": {},
     "output_type": "execute_result"
    },
    {
     "data": {
      "image/png": "[encoded data removed]",
      "text/plain": [
       "<Figure size 432x288 with 2 Axes>"
      ]
     },
     "metadata": {
      "needs_background": "light"
     },
     "output_type": "display_data"
    }
   ],
   "source": [
    "sns.heatmap(df_diffs.corr(), cmap = 'RdBu', annot = True)"
   ]
  },
  {
   "cell_type": "markdown",
   "metadata": {},
   "source": [
    "## Make Hypothesis"
   ]
  },
  {
   "cell_type": "markdown",
   "metadata": {},
   "source": [
    "### H0: We train models with the full dataset\n",
    "\n",
    "We are going to Label encode the object columns, drop columns who miss a lot of values and predict by classifying the next day "
   ]
  },
  {
   "cell_type": "code",
   "execution_count": 39,
   "metadata": {},
   "outputs": [],
   "source": [
    "missing_data = df[['Evaporation', 'Sunshine', 'Cloud9am', 'Cloud3pm', 'Location', 'Date']]"
   ]
  },
  {
   "cell_type": "code",
   "execution_count": 40,
   "metadata": {},
   "outputs": [],
   "source": [
    "impute_numeric = SimpleImputer(strategy=\"mean\")\n",
    "impute_label = SimpleImputer(strategy=\"most_frequent\")\n",
    "\n",
    "encoder = OneHotEncoder()\n",
    "scaler = MinMaxScaler()"
   ]
  },
  {
   "cell_type": "code",
   "execution_count": 46,
   "metadata": {},
   "outputs": [],
   "source": [
    "data_h0 = df.drop(missing_data, axis=1)"
   ]
  },
  {
   "cell_type": "code",
   "execution_count": 47,
   "metadata": {},
   "outputs": [],
   "source": [
    "data_h0['RainToday'] = [1 if i=='Yes' else 0 for i in df['RainToday']]\n",
    "data_h0['RainTomorrow'] = [1 if i=='Yes' else 0 for i in df['RainTomorrow']]"
   ]
  },
  {
   "cell_type": "code",
   "execution_count": 49,
   "metadata": {},
   "outputs": [],
   "source": [
    "numerical = [var for var in data_h0.columns if data_h0[var].dtype!='O']\n",
    "categorical = [var  for var in data_h0.columns if data_h0[var].dtype=='O']"
   ]
  },
  {
   "cell_type": "code",
   "execution_count": 51,
   "metadata": {},
   "outputs": [],
   "source": [
    "numeric_data_inputed = impute_numeric.fit_transform(data_h0[numerical])\n",
    "cat_data_inputed = pd.DataFrame(impute_label.fit_transform(data_h0[categorical]), columns=categorical)"
   ]
  },
  {
   "cell_type": "code",
   "execution_count": 52,
   "metadata": {},
   "outputs": [
    {
     "data": {
      "text/html": [
       "<div>\n",
       "<style scoped>\n",
       "    .dataframe tbody tr th:only-of-type {\n",
       "        vertical-align: middle;\n",
       "    }\n",
       "\n",
       "    .dataframe tbody tr th {\n",
       "        vertical-align: top;\n",
       "    }\n",
       "\n",
       "    .dataframe thead th {\n",
       "        text-align: right;\n",
       "    }\n",
       "</style>\n",
       "<table border=\"1\" class=\"dataframe\">\n",
       "  <thead>\n",
       "    <tr style=\"text-align: right;\">\n",
       "      <th></th>\n",
       "      <th>MinTemp</th>\n",
       "      <th>MaxTemp</th>\n",
       "      <th>Rainfall</th>\n",
       "      <th>WindGustSpeed</th>\n",
       "      <th>WindSpeed9am</th>\n",
       "      <th>WindSpeed3pm</th>\n",
       "      <th>Humidity9am</th>\n",
       "      <th>Humidity3pm</th>\n",
       "      <th>Pressure9am</th>\n",
       "      <th>Pressure3pm</th>\n",
       "      <th>Temp9am</th>\n",
       "      <th>Temp3pm</th>\n",
       "      <th>RainToday</th>\n",
       "      <th>RainTomorrow</th>\n",
       "    </tr>\n",
       "  </thead>\n",
       "  <tbody>\n",
       "    <tr>\n",
       "      <th>0</th>\n",
       "      <td>13.4</td>\n",
       "      <td>22.900000</td>\n",
       "      <td>0.6</td>\n",
       "      <td>44.00000</td>\n",
       "      <td>20.0</td>\n",
       "      <td>24.0</td>\n",
       "      <td>71.0</td>\n",
       "      <td>22.0</td>\n",
       "      <td>1007.7</td>\n",
       "      <td>1007.1</td>\n",
       "      <td>16.9</td>\n",
       "      <td>21.8</td>\n",
       "      <td>0.0</td>\n",
       "      <td>0.0</td>\n",
       "    </tr>\n",
       "    <tr>\n",
       "      <th>1</th>\n",
       "      <td>7.4</td>\n",
       "      <td>25.100000</td>\n",
       "      <td>0.0</td>\n",
       "      <td>44.00000</td>\n",
       "      <td>4.0</td>\n",
       "      <td>22.0</td>\n",
       "      <td>44.0</td>\n",
       "      <td>25.0</td>\n",
       "      <td>1010.6</td>\n",
       "      <td>1007.8</td>\n",
       "      <td>17.2</td>\n",
       "      <td>24.3</td>\n",
       "      <td>0.0</td>\n",
       "      <td>0.0</td>\n",
       "    </tr>\n",
       "    <tr>\n",
       "      <th>2</th>\n",
       "      <td>12.9</td>\n",
       "      <td>25.700000</td>\n",
       "      <td>0.0</td>\n",
       "      <td>46.00000</td>\n",
       "      <td>19.0</td>\n",
       "      <td>26.0</td>\n",
       "      <td>38.0</td>\n",
       "      <td>30.0</td>\n",
       "      <td>1007.6</td>\n",
       "      <td>1008.7</td>\n",
       "      <td>21.0</td>\n",
       "      <td>23.2</td>\n",
       "      <td>0.0</td>\n",
       "      <td>0.0</td>\n",
       "    </tr>\n",
       "    <tr>\n",
       "      <th>3</th>\n",
       "      <td>9.2</td>\n",
       "      <td>28.000000</td>\n",
       "      <td>0.0</td>\n",
       "      <td>24.00000</td>\n",
       "      <td>11.0</td>\n",
       "      <td>9.0</td>\n",
       "      <td>45.0</td>\n",
       "      <td>16.0</td>\n",
       "      <td>1017.6</td>\n",
       "      <td>1012.8</td>\n",
       "      <td>18.1</td>\n",
       "      <td>26.5</td>\n",
       "      <td>0.0</td>\n",
       "      <td>0.0</td>\n",
       "    </tr>\n",
       "    <tr>\n",
       "      <th>4</th>\n",
       "      <td>17.5</td>\n",
       "      <td>32.300000</td>\n",
       "      <td>1.0</td>\n",
       "      <td>41.00000</td>\n",
       "      <td>7.0</td>\n",
       "      <td>20.0</td>\n",
       "      <td>82.0</td>\n",
       "      <td>33.0</td>\n",
       "      <td>1010.8</td>\n",
       "      <td>1006.0</td>\n",
       "      <td>17.8</td>\n",
       "      <td>29.7</td>\n",
       "      <td>0.0</td>\n",
       "      <td>0.0</td>\n",
       "    </tr>\n",
       "    <tr>\n",
       "      <th>...</th>\n",
       "      <td>...</td>\n",
       "      <td>...</td>\n",
       "      <td>...</td>\n",
       "      <td>...</td>\n",
       "      <td>...</td>\n",
       "      <td>...</td>\n",
       "      <td>...</td>\n",
       "      <td>...</td>\n",
       "      <td>...</td>\n",
       "      <td>...</td>\n",
       "      <td>...</td>\n",
       "      <td>...</td>\n",
       "      <td>...</td>\n",
       "      <td>...</td>\n",
       "    </tr>\n",
       "    <tr>\n",
       "      <th>145455</th>\n",
       "      <td>2.8</td>\n",
       "      <td>23.400000</td>\n",
       "      <td>0.0</td>\n",
       "      <td>31.00000</td>\n",
       "      <td>13.0</td>\n",
       "      <td>11.0</td>\n",
       "      <td>51.0</td>\n",
       "      <td>24.0</td>\n",
       "      <td>1024.6</td>\n",
       "      <td>1020.3</td>\n",
       "      <td>10.1</td>\n",
       "      <td>22.4</td>\n",
       "      <td>0.0</td>\n",
       "      <td>0.0</td>\n",
       "    </tr>\n",
       "    <tr>\n",
       "      <th>145456</th>\n",
       "      <td>3.6</td>\n",
       "      <td>25.300000</td>\n",
       "      <td>0.0</td>\n",
       "      <td>22.00000</td>\n",
       "      <td>13.0</td>\n",
       "      <td>9.0</td>\n",
       "      <td>56.0</td>\n",
       "      <td>21.0</td>\n",
       "      <td>1023.5</td>\n",
       "      <td>1019.1</td>\n",
       "      <td>10.9</td>\n",
       "      <td>24.5</td>\n",
       "      <td>0.0</td>\n",
       "      <td>0.0</td>\n",
       "    </tr>\n",
       "    <tr>\n",
       "      <th>145457</th>\n",
       "      <td>5.4</td>\n",
       "      <td>26.900000</td>\n",
       "      <td>0.0</td>\n",
       "      <td>37.00000</td>\n",
       "      <td>9.0</td>\n",
       "      <td>9.0</td>\n",
       "      <td>53.0</td>\n",
       "      <td>24.0</td>\n",
       "      <td>1021.0</td>\n",
       "      <td>1016.8</td>\n",
       "      <td>12.5</td>\n",
       "      <td>26.1</td>\n",
       "      <td>0.0</td>\n",
       "      <td>0.0</td>\n",
       "    </tr>\n",
       "    <tr>\n",
       "      <th>145458</th>\n",
       "      <td>7.8</td>\n",
       "      <td>27.000000</td>\n",
       "      <td>0.0</td>\n",
       "      <td>28.00000</td>\n",
       "      <td>13.0</td>\n",
       "      <td>7.0</td>\n",
       "      <td>51.0</td>\n",
       "      <td>24.0</td>\n",
       "      <td>1019.4</td>\n",
       "      <td>1016.5</td>\n",
       "      <td>15.1</td>\n",
       "      <td>26.0</td>\n",
       "      <td>0.0</td>\n",
       "      <td>0.0</td>\n",
       "    </tr>\n",
       "    <tr>\n",
       "      <th>145459</th>\n",
       "      <td>14.9</td>\n",
       "      <td>23.221348</td>\n",
       "      <td>0.0</td>\n",
       "      <td>40.03523</td>\n",
       "      <td>17.0</td>\n",
       "      <td>17.0</td>\n",
       "      <td>62.0</td>\n",
       "      <td>36.0</td>\n",
       "      <td>1020.2</td>\n",
       "      <td>1017.9</td>\n",
       "      <td>15.0</td>\n",
       "      <td>20.9</td>\n",
       "      <td>0.0</td>\n",
       "      <td>0.0</td>\n",
       "    </tr>\n",
       "  </tbody>\n",
       "</table>\n",
       "<p>145460 rows × 14 columns</p>\n",
       "</div>"
      ],
      "text/plain": [
       "        MinTemp    MaxTemp  Rainfall  WindGustSpeed  WindSpeed9am  \\\n",
       "0          13.4  22.900000       0.6       44.00000          20.0   \n",
       "1           7.4  25.100000       0.0       44.00000           4.0   \n",
       "2          12.9  25.700000       0.0       46.00000          19.0   \n",
       "3           9.2  28.000000       0.0       24.00000          11.0   \n",
       "4          17.5  32.300000       1.0       41.00000           7.0   \n",
       "...         ...        ...       ...            ...           ...   \n",
       "145455      2.8  23.400000       0.0       31.00000          13.0   \n",
       "145456      3.6  25.300000       0.0       22.00000          13.0   \n",
       "145457      5.4  26.900000       0.0       37.00000           9.0   \n",
       "145458      7.8  27.000000       0.0       28.00000          13.0   \n",
       "145459     14.9  23.221348       0.0       40.03523          17.0   \n",
       "\n",
       "        WindSpeed3pm  Humidity9am  Humidity3pm  Pressure9am  Pressure3pm  \\\n",
       "0               24.0         71.0         22.0       1007.7       1007.1   \n",
       "1               22.0         44.0         25.0       1010.6       1007.8   \n",
       "2               26.0         38.0         30.0       1007.6       1008.7   \n",
       "3                9.0         45.0         16.0       1017.6       1012.8   \n",
       "4               20.0         82.0         33.0       1010.8       1006.0   \n",
       "...              ...          ...          ...          ...          ...   \n",
       "145455          11.0         51.0         24.0       1024.6       1020.3   \n",
       "145456           9.0         56.0         21.0       1023.5       1019.1   \n",
       "145457           9.0         53.0         24.0       1021.0       1016.8   \n",
       "145458           7.0         51.0         24.0       1019.4       1016.5   \n",
       "145459          17.0         62.0         36.0       1020.2       1017.9   \n",
       "\n",
       "        Temp9am  Temp3pm  RainToday  RainTomorrow  \n",
       "0          16.9     21.8        0.0           0.0  \n",
       "1          17.2     24.3        0.0           0.0  \n",
       "2          21.0     23.2        0.0           0.0  \n",
       "3          18.1     26.5        0.0           0.0  \n",
       "4          17.8     29.7        0.0           0.0  \n",
       "...         ...      ...        ...           ...  \n",
       "145455     10.1     22.4        0.0           0.0  \n",
       "145456     10.9     24.5        0.0           0.0  \n",
       "145457     12.5     26.1        0.0           0.0  \n",
       "145458     15.1     26.0        0.0           0.0  \n",
       "145459     15.0     20.9        0.0           0.0  \n",
       "\n",
       "[145460 rows x 14 columns]"
      ]
     },
     "execution_count": 52,
     "metadata": {},
     "output_type": "execute_result"
    }
   ],
   "source": [
    "data_h0_inputed = pd.DataFrame(numeric_data_inputed, columns=numerical)\n",
    "data_h0_inputed"
   ]
  },
  {
   "cell_type": "code",
   "execution_count": 53,
   "metadata": {},
   "outputs": [],
   "source": [
    "data_h0_inputed_scaled = scaler.fit_transform(data_h0_inputed)"
   ]
  },
  {
   "cell_type": "code",
   "execution_count": 54,
   "metadata": {},
   "outputs": [],
   "source": [
    "df_h0 = pd.DataFrame(data_h0_inputed_scaled, columns=numerical)\n",
    "df_h0['WindGustDir'] = cat_data_inputed['WindGustDir']\n"
   ]
  },
  {
   "cell_type": "code",
   "execution_count": 55,
   "metadata": {},
   "outputs": [
    {
     "data": {
      "text/html": [
       "<div>\n",
       "<style scoped>\n",
       "    .dataframe tbody tr th:only-of-type {\n",
       "        vertical-align: middle;\n",
       "    }\n",
       "\n",
       "    .dataframe tbody tr th {\n",
       "        vertical-align: top;\n",
       "    }\n",
       "\n",
       "    .dataframe thead th {\n",
       "        text-align: right;\n",
       "    }\n",
       "</style>\n",
       "<table border=\"1\" class=\"dataframe\">\n",
       "  <thead>\n",
       "    <tr style=\"text-align: right;\">\n",
       "      <th></th>\n",
       "      <th>MinTemp</th>\n",
       "      <th>MaxTemp</th>\n",
       "      <th>Rainfall</th>\n",
       "      <th>WindGustSpeed</th>\n",
       "      <th>WindSpeed9am</th>\n",
       "      <th>WindSpeed3pm</th>\n",
       "      <th>Humidity9am</th>\n",
       "      <th>Humidity3pm</th>\n",
       "      <th>Pressure9am</th>\n",
       "      <th>Pressure3pm</th>\n",
       "      <th>Temp9am</th>\n",
       "      <th>Temp3pm</th>\n",
       "      <th>RainToday</th>\n",
       "      <th>RainTomorrow</th>\n",
       "      <th>WindGustDir</th>\n",
       "    </tr>\n",
       "  </thead>\n",
       "  <tbody>\n",
       "    <tr>\n",
       "      <th>0</th>\n",
       "      <td>0.516509</td>\n",
       "      <td>0.523629</td>\n",
       "      <td>0.001617</td>\n",
       "      <td>0.294574</td>\n",
       "      <td>0.153846</td>\n",
       "      <td>0.275862</td>\n",
       "      <td>0.71</td>\n",
       "      <td>0.22</td>\n",
       "      <td>0.449587</td>\n",
       "      <td>0.48</td>\n",
       "      <td>0.508439</td>\n",
       "      <td>0.522073</td>\n",
       "      <td>0.0</td>\n",
       "      <td>0.0</td>\n",
       "      <td>W</td>\n",
       "    </tr>\n",
       "  </tbody>\n",
       "</table>\n",
       "</div>"
      ],
      "text/plain": [
       "    MinTemp   MaxTemp  Rainfall  WindGustSpeed  WindSpeed9am  WindSpeed3pm  \\\n",
       "0  0.516509  0.523629  0.001617       0.294574      0.153846      0.275862   \n",
       "\n",
       "   Humidity9am  Humidity3pm  Pressure9am  Pressure3pm   Temp9am   Temp3pm  \\\n",
       "0         0.71         0.22     0.449587         0.48  0.508439  0.522073   \n",
       "\n",
       "   RainToday  RainTomorrow WindGustDir  \n",
       "0        0.0           0.0           W  "
      ]
     },
     "execution_count": 55,
     "metadata": {},
     "output_type": "execute_result"
    }
   ],
   "source": [
    "df_h0.head(1)"
   ]
  },
  {
   "cell_type": "code",
   "execution_count": 56,
   "metadata": {},
   "outputs": [],
   "source": [
    "x_h0 = df_h0.drop(\"RainTomorrow\", axis = 1)\n",
    "y_h0 = df_h0['RainTomorrow']"
   ]
  },
  {
   "cell_type": "code",
   "execution_count": 57,
   "metadata": {},
   "outputs": [
    {
     "data": {
      "text/plain": [
       "0.0    113583\n",
       "1.0     31877\n",
       "Name: RainTomorrow, dtype: int64"
      ]
     },
     "execution_count": 57,
     "metadata": {},
     "output_type": "execute_result"
    }
   ],
   "source": [
    "y_h0.value_counts()"
   ]
  },
  {
   "cell_type": "code",
   "execution_count": 58,
   "metadata": {},
   "outputs": [],
   "source": [
    "enc = encoder.fit_transform(x_h0[['WindGustDir']])\n",
    "x_h0 = x_h0.drop(\"WindGustDir\", axis = 1)\n",
    "\n",
    "for i in encoder.categories_:\n",
    "    x_h0[i] = enc.todense()"
   ]
  },
  {
   "cell_type": "code",
   "execution_count": 59,
   "metadata": {},
   "outputs": [
    {
     "name": "stdout",
     "output_type": "stream",
     "text": [
      "<class 'pandas.core.frame.DataFrame'>\n",
      "RangeIndex: 145460 entries, 0 to 145459\n",
      "Data columns (total 29 columns):\n",
      " #   Column         Non-Null Count   Dtype  \n",
      "---  ------         --------------   -----  \n",
      " 0   MinTemp        145460 non-null  float64\n",
      " 1   MaxTemp        145460 non-null  float64\n",
      " 2   Rainfall       145460 non-null  float64\n",
      " 3   WindGustSpeed  145460 non-null  float64\n",
      " 4   WindSpeed9am   145460 non-null  float64\n",
      " 5   WindSpeed3pm   145460 non-null  float64\n",
      " 6   Humidity9am    145460 non-null  float64\n",
      " 7   Humidity3pm    145460 non-null  float64\n",
      " 8   Pressure9am    145460 non-null  float64\n",
      " 9   Pressure3pm    145460 non-null  float64\n",
      " 10  Temp9am        145460 non-null  float64\n",
      " 11  Temp3pm        145460 non-null  float64\n",
      " 12  RainToday      145460 non-null  float64\n",
      " 13  E              145460 non-null  float64\n",
      " 14  ENE            145460 non-null  float64\n",
      " 15  ESE            145460 non-null  float64\n",
      " 16  N              145460 non-null  float64\n",
      " 17  NE             145460 non-null  float64\n",
      " 18  NNE            145460 non-null  float64\n",
      " 19  NNW            145460 non-null  float64\n",
      " 20  NW             145460 non-null  float64\n",
      " 21  S              145460 non-null  float64\n",
      " 22  SE             145460 non-null  float64\n",
      " 23  SSE            145460 non-null  float64\n",
      " 24  SSW            145460 non-null  float64\n",
      " 25  SW             145460 non-null  float64\n",
      " 26  W              145460 non-null  float64\n",
      " 27  WNW            145460 non-null  float64\n",
      " 28  WSW            145460 non-null  float64\n",
      "dtypes: float64(29)\n",
      "memory usage: 32.2 MB\n"
     ]
    }
   ],
   "source": [
    "x_h0.info()"
   ]
  },
  {
   "cell_type": "code",
   "execution_count": 60,
   "metadata": {},
   "outputs": [],
   "source": [
    "x_train_h0, x_test_h0, y_train_h0, y_test_h0 = train_test_split(x_h0, y_h0, test_size=0.2, stratify=y_h0)"
   ]
  },
  {
   "cell_type": "code",
   "execution_count": 61,
   "metadata": {},
   "outputs": [],
   "source": [
    "x_val_h0, x_test_h0, y_val_h0, y_test_h0 = train_test_split(x_test_h0, y_test_h0, test_size=0.2, stratify=y_test_h0)"
   ]
  },
  {
   "cell_type": "code",
   "execution_count": 62,
   "metadata": {},
   "outputs": [
    {
     "data": {
      "text/plain": [
       "<AxesSubplot:>"
      ]
     },
     "execution_count": 62,
     "metadata": {},
     "output_type": "execute_result"
    },
    {
     "data": {
      "image/png": "[encoded data removed]",
      "text/plain": [
       "<Figure size 1080x864 with 2 Axes>"
      ]
     },
     "metadata": {
      "needs_background": "light"
     },
     "output_type": "display_data"
    }
   ],
   "source": [
    "plt.figure(figsize=(15, 12))\n",
    "sns.heatmap(data_h0_inputed.corr(), cmap = 'RdBu', annot = True, linewidths=1, linecolor='black')"
   ]
  },
  {
   "cell_type": "markdown",
   "metadata": {},
   "source": [
    "### H1: Ovesample the data"
   ]
  },
  {
   "cell_type": "code",
   "execution_count": 63,
   "metadata": {},
   "outputs": [],
   "source": [
    "scaler_h1 = MinMaxScaler()\n",
    "scaler_h1_pca = MinMaxScaler()"
   ]
  },
  {
   "cell_type": "code",
   "execution_count": 64,
   "metadata": {},
   "outputs": [],
   "source": [
    "x_h1 = data_h0_inputed.drop(\"RainTomorrow\", axis=1)\n",
    "y_h1 = data_h0_inputed.RainTomorrow"
   ]
  },
  {
   "cell_type": "code",
   "execution_count": 65,
   "metadata": {},
   "outputs": [
    {
     "data": {
      "text/plain": [
       "(145460, 13)"
      ]
     },
     "execution_count": 65,
     "metadata": {},
     "output_type": "execute_result"
    }
   ],
   "source": [
    "x_scaled = scaler_h1.fit_transform(x_h1)\n",
    "x_scaled.shape"
   ]
  },
  {
   "cell_type": "code",
   "execution_count": 66,
   "metadata": {},
   "outputs": [],
   "source": [
    "oversample = RandomOverSampler(sampling_strategy='all')\n",
    "x_train_over, y_trian_over = oversample.fit_resample(x_scaled, y_h1)"
   ]
  },
  {
   "cell_type": "code",
   "execution_count": 67,
   "metadata": {},
   "outputs": [
    {
     "data": {
      "text/plain": [
       "0.0    113583\n",
       "1.0    113583\n",
       "Name: RainTomorrow, dtype: int64"
      ]
     },
     "execution_count": 67,
     "metadata": {},
     "output_type": "execute_result"
    }
   ],
   "source": [
    "y_trian_over.value_counts()"
   ]
  },
  {
   "cell_type": "code",
   "execution_count": 68,
   "metadata": {},
   "outputs": [],
   "source": [
    "x_train_h1, x_test_h1, y_train_h1, y_test_h1 = train_test_split(x_train_over, y_trian_over, test_size=0.3, stratify=y_trian_over)"
   ]
  },
  {
   "cell_type": "markdown",
   "metadata": {},
   "source": [
    "### H2: Time Series"
   ]
  },
  {
   "cell_type": "code",
   "execution_count": 69,
   "metadata": {},
   "outputs": [],
   "source": [
    "data_h2 = df.copy()\n",
    "data_h2.set_index(\"Date\")\n",
    "data_2 = data_h2[['RainToday']].set_index(df.Date)"
   ]
  },
  {
   "cell_type": "code",
   "execution_count": 70,
   "metadata": {},
   "outputs": [],
   "source": [
    "data_2.replace({'No': 0, 'Yes': 1},inplace = True)"
   ]
  },
  {
   "cell_type": "code",
   "execution_count": 71,
   "metadata": {},
   "outputs": [],
   "source": [
    "time_test = data_2.tail(int(145460*0.2))"
   ]
  },
  {
   "cell_type": "code",
   "execution_count": 72,
   "metadata": {},
   "outputs": [
    {
     "data": {
      "text/html": [
       "<div>\n",
       "<style scoped>\n",
       "    .dataframe tbody tr th:only-of-type {\n",
       "        vertical-align: middle;\n",
       "    }\n",
       "\n",
       "    .dataframe tbody tr th {\n",
       "        vertical-align: top;\n",
       "    }\n",
       "\n",
       "    .dataframe thead th {\n",
       "        text-align: right;\n",
       "    }\n",
       "</style>\n",
       "<table border=\"1\" class=\"dataframe\">\n",
       "  <thead>\n",
       "    <tr style=\"text-align: right;\">\n",
       "      <th></th>\n",
       "      <th>RainToday</th>\n",
       "    </tr>\n",
       "    <tr>\n",
       "      <th>Date</th>\n",
       "      <th></th>\n",
       "    </tr>\n",
       "  </thead>\n",
       "  <tbody>\n",
       "    <tr>\n",
       "      <th>2008-12-01</th>\n",
       "      <td>0.0</td>\n",
       "    </tr>\n",
       "    <tr>\n",
       "      <th>2008-12-02</th>\n",
       "      <td>0.0</td>\n",
       "    </tr>\n",
       "    <tr>\n",
       "      <th>2008-12-03</th>\n",
       "      <td>0.0</td>\n",
       "    </tr>\n",
       "    <tr>\n",
       "      <th>2008-12-04</th>\n",
       "      <td>0.0</td>\n",
       "    </tr>\n",
       "    <tr>\n",
       "      <th>2008-12-05</th>\n",
       "      <td>0.0</td>\n",
       "    </tr>\n",
       "    <tr>\n",
       "      <th>...</th>\n",
       "      <td>...</td>\n",
       "    </tr>\n",
       "    <tr>\n",
       "      <th>2017-06-21</th>\n",
       "      <td>0.0</td>\n",
       "    </tr>\n",
       "    <tr>\n",
       "      <th>2017-06-22</th>\n",
       "      <td>0.0</td>\n",
       "    </tr>\n",
       "    <tr>\n",
       "      <th>2017-06-23</th>\n",
       "      <td>0.0</td>\n",
       "    </tr>\n",
       "    <tr>\n",
       "      <th>2017-06-24</th>\n",
       "      <td>0.0</td>\n",
       "    </tr>\n",
       "    <tr>\n",
       "      <th>2017-06-25</th>\n",
       "      <td>0.0</td>\n",
       "    </tr>\n",
       "  </tbody>\n",
       "</table>\n",
       "<p>145460 rows × 1 columns</p>\n",
       "</div>"
      ],
      "text/plain": [
       "            RainToday\n",
       "Date                 \n",
       "2008-12-01        0.0\n",
       "2008-12-02        0.0\n",
       "2008-12-03        0.0\n",
       "2008-12-04        0.0\n",
       "2008-12-05        0.0\n",
       "...               ...\n",
       "2017-06-21        0.0\n",
       "2017-06-22        0.0\n",
       "2017-06-23        0.0\n",
       "2017-06-24        0.0\n",
       "2017-06-25        0.0\n",
       "\n",
       "[145460 rows x 1 columns]"
      ]
     },
     "execution_count": 72,
     "metadata": {},
     "output_type": "execute_result"
    }
   ],
   "source": [
    "data_2"
   ]
  },
  {
   "cell_type": "code",
   "execution_count": 73,
   "metadata": {},
   "outputs": [
    {
     "name": "stderr",
     "output_type": "stream",
     "text": [
      "/tmp/ipykernel_31800/1298324753.py:3: SettingWithCopyWarning: \n",
      "A value is trying to be set on a copy of a slice from a DataFrame.\n",
      "Try using .loc[row_indexer,col_indexer] = value instead\n",
      "\n",
      "See the caveats in the documentation: https://pandas.pydata.org/pandas-docs/stable/user_guide/indexing.html#returning-a-view-versus-a-copy\n",
      "  time_test[\"RainToday_lag{}\".format(lag)] = time_test['RainToday'].shift(lag)\n",
      "/tmp/ipykernel_31800/1298324753.py:3: SettingWithCopyWarning: \n",
      "A value is trying to be set on a copy of a slice from a DataFrame.\n",
      "Try using .loc[row_indexer,col_indexer] = value instead\n",
      "\n",
      "See the caveats in the documentation: https://pandas.pydata.org/pandas-docs/stable/user_guide/indexing.html#returning-a-view-versus-a-copy\n",
      "  time_test[\"RainToday_lag{}\".format(lag)] = time_test['RainToday'].shift(lag)\n",
      "/tmp/ipykernel_31800/1298324753.py:3: SettingWithCopyWarning: \n",
      "A value is trying to be set on a copy of a slice from a DataFrame.\n",
      "Try using .loc[row_indexer,col_indexer] = value instead\n",
      "\n",
      "See the caveats in the documentation: https://pandas.pydata.org/pandas-docs/stable/user_guide/indexing.html#returning-a-view-versus-a-copy\n",
      "  time_test[\"RainToday_lag{}\".format(lag)] = time_test['RainToday'].shift(lag)\n",
      "/tmp/ipykernel_31800/1298324753.py:3: SettingWithCopyWarning: \n",
      "A value is trying to be set on a copy of a slice from a DataFrame.\n",
      "Try using .loc[row_indexer,col_indexer] = value instead\n",
      "\n",
      "See the caveats in the documentation: https://pandas.pydata.org/pandas-docs/stable/user_guide/indexing.html#returning-a-view-versus-a-copy\n",
      "  time_test[\"RainToday_lag{}\".format(lag)] = time_test['RainToday'].shift(lag)\n",
      "/tmp/ipykernel_31800/1298324753.py:3: SettingWithCopyWarning: \n",
      "A value is trying to be set on a copy of a slice from a DataFrame.\n",
      "Try using .loc[row_indexer,col_indexer] = value instead\n",
      "\n",
      "See the caveats in the documentation: https://pandas.pydata.org/pandas-docs/stable/user_guide/indexing.html#returning-a-view-versus-a-copy\n",
      "  time_test[\"RainToday_lag{}\".format(lag)] = time_test['RainToday'].shift(lag)\n",
      "/tmp/ipykernel_31800/1298324753.py:3: SettingWithCopyWarning: \n",
      "A value is trying to be set on a copy of a slice from a DataFrame.\n",
      "Try using .loc[row_indexer,col_indexer] = value instead\n",
      "\n",
      "See the caveats in the documentation: https://pandas.pydata.org/pandas-docs/stable/user_guide/indexing.html#returning-a-view-versus-a-copy\n",
      "  time_test[\"RainToday_lag{}\".format(lag)] = time_test['RainToday'].shift(lag)\n",
      "/tmp/ipykernel_31800/1298324753.py:3: SettingWithCopyWarning: \n",
      "A value is trying to be set on a copy of a slice from a DataFrame.\n",
      "Try using .loc[row_indexer,col_indexer] = value instead\n",
      "\n",
      "See the caveats in the documentation: https://pandas.pydata.org/pandas-docs/stable/user_guide/indexing.html#returning-a-view-versus-a-copy\n",
      "  time_test[\"RainToday_lag{}\".format(lag)] = time_test['RainToday'].shift(lag)\n",
      "/tmp/ipykernel_31800/1298324753.py:3: SettingWithCopyWarning: \n",
      "A value is trying to be set on a copy of a slice from a DataFrame.\n",
      "Try using .loc[row_indexer,col_indexer] = value instead\n",
      "\n",
      "See the caveats in the documentation: https://pandas.pydata.org/pandas-docs/stable/user_guide/indexing.html#returning-a-view-versus-a-copy\n",
      "  time_test[\"RainToday_lag{}\".format(lag)] = time_test['RainToday'].shift(lag)\n",
      "/tmp/ipykernel_31800/1298324753.py:3: SettingWithCopyWarning: \n",
      "A value is trying to be set on a copy of a slice from a DataFrame.\n",
      "Try using .loc[row_indexer,col_indexer] = value instead\n",
      "\n",
      "See the caveats in the documentation: https://pandas.pydata.org/pandas-docs/stable/user_guide/indexing.html#returning-a-view-versus-a-copy\n",
      "  time_test[\"RainToday_lag{}\".format(lag)] = time_test['RainToday'].shift(lag)\n",
      "/tmp/ipykernel_31800/1298324753.py:3: SettingWithCopyWarning: \n",
      "A value is trying to be set on a copy of a slice from a DataFrame.\n",
      "Try using .loc[row_indexer,col_indexer] = value instead\n",
      "\n",
      "See the caveats in the documentation: https://pandas.pydata.org/pandas-docs/stable/user_guide/indexing.html#returning-a-view-versus-a-copy\n",
      "  time_test[\"RainToday_lag{}\".format(lag)] = time_test['RainToday'].shift(lag)\n",
      "/tmp/ipykernel_31800/1298324753.py:3: SettingWithCopyWarning: \n",
      "A value is trying to be set on a copy of a slice from a DataFrame.\n",
      "Try using .loc[row_indexer,col_indexer] = value instead\n",
      "\n",
      "See the caveats in the documentation: https://pandas.pydata.org/pandas-docs/stable/user_guide/indexing.html#returning-a-view-versus-a-copy\n",
      "  time_test[\"RainToday_lag{}\".format(lag)] = time_test['RainToday'].shift(lag)\n",
      "/tmp/ipykernel_31800/1298324753.py:3: SettingWithCopyWarning: \n",
      "A value is trying to be set on a copy of a slice from a DataFrame.\n",
      "Try using .loc[row_indexer,col_indexer] = value instead\n",
      "\n",
      "See the caveats in the documentation: https://pandas.pydata.org/pandas-docs/stable/user_guide/indexing.html#returning-a-view-versus-a-copy\n",
      "  time_test[\"RainToday_lag{}\".format(lag)] = time_test['RainToday'].shift(lag)\n",
      "/tmp/ipykernel_31800/1298324753.py:3: SettingWithCopyWarning: \n",
      "A value is trying to be set on a copy of a slice from a DataFrame.\n",
      "Try using .loc[row_indexer,col_indexer] = value instead\n",
      "\n",
      "See the caveats in the documentation: https://pandas.pydata.org/pandas-docs/stable/user_guide/indexing.html#returning-a-view-versus-a-copy\n",
      "  time_test[\"RainToday_lag{}\".format(lag)] = time_test['RainToday'].shift(lag)\n",
      "/tmp/ipykernel_31800/1298324753.py:3: SettingWithCopyWarning: \n",
      "A value is trying to be set on a copy of a slice from a DataFrame.\n",
      "Try using .loc[row_indexer,col_indexer] = value instead\n",
      "\n",
      "See the caveats in the documentation: https://pandas.pydata.org/pandas-docs/stable/user_guide/indexing.html#returning-a-view-versus-a-copy\n",
      "  time_test[\"RainToday_lag{}\".format(lag)] = time_test['RainToday'].shift(lag)\n",
      "/tmp/ipykernel_31800/1298324753.py:3: SettingWithCopyWarning: \n",
      "A value is trying to be set on a copy of a slice from a DataFrame.\n",
      "Try using .loc[row_indexer,col_indexer] = value instead\n",
      "\n",
      "See the caveats in the documentation: https://pandas.pydata.org/pandas-docs/stable/user_guide/indexing.html#returning-a-view-versus-a-copy\n",
      "  time_test[\"RainToday_lag{}\".format(lag)] = time_test['RainToday'].shift(lag)\n",
      "/tmp/ipykernel_31800/1298324753.py:3: SettingWithCopyWarning: \n",
      "A value is trying to be set on a copy of a slice from a DataFrame.\n",
      "Try using .loc[row_indexer,col_indexer] = value instead\n",
      "\n",
      "See the caveats in the documentation: https://pandas.pydata.org/pandas-docs/stable/user_guide/indexing.html#returning-a-view-versus-a-copy\n",
      "  time_test[\"RainToday_lag{}\".format(lag)] = time_test['RainToday'].shift(lag)\n",
      "/tmp/ipykernel_31800/1298324753.py:3: SettingWithCopyWarning: \n",
      "A value is trying to be set on a copy of a slice from a DataFrame.\n",
      "Try using .loc[row_indexer,col_indexer] = value instead\n",
      "\n",
      "See the caveats in the documentation: https://pandas.pydata.org/pandas-docs/stable/user_guide/indexing.html#returning-a-view-versus-a-copy\n",
      "  time_test[\"RainToday_lag{}\".format(lag)] = time_test['RainToday'].shift(lag)\n",
      "/tmp/ipykernel_31800/1298324753.py:3: SettingWithCopyWarning: \n",
      "A value is trying to be set on a copy of a slice from a DataFrame.\n",
      "Try using .loc[row_indexer,col_indexer] = value instead\n",
      "\n",
      "See the caveats in the documentation: https://pandas.pydata.org/pandas-docs/stable/user_guide/indexing.html#returning-a-view-versus-a-copy\n",
      "  time_test[\"RainToday_lag{}\".format(lag)] = time_test['RainToday'].shift(lag)\n",
      "/tmp/ipykernel_31800/1298324753.py:3: SettingWithCopyWarning: \n",
      "A value is trying to be set on a copy of a slice from a DataFrame.\n",
      "Try using .loc[row_indexer,col_indexer] = value instead\n",
      "\n",
      "See the caveats in the documentation: https://pandas.pydata.org/pandas-docs/stable/user_guide/indexing.html#returning-a-view-versus-a-copy\n",
      "  time_test[\"RainToday_lag{}\".format(lag)] = time_test['RainToday'].shift(lag)\n",
      "/tmp/ipykernel_31800/1298324753.py:3: SettingWithCopyWarning: \n",
      "A value is trying to be set on a copy of a slice from a DataFrame.\n",
      "Try using .loc[row_indexer,col_indexer] = value instead\n",
      "\n",
      "See the caveats in the documentation: https://pandas.pydata.org/pandas-docs/stable/user_guide/indexing.html#returning-a-view-versus-a-copy\n",
      "  time_test[\"RainToday_lag{}\".format(lag)] = time_test['RainToday'].shift(lag)\n",
      "/tmp/ipykernel_31800/1298324753.py:3: SettingWithCopyWarning: \n",
      "A value is trying to be set on a copy of a slice from a DataFrame.\n",
      "Try using .loc[row_indexer,col_indexer] = value instead\n",
      "\n",
      "See the caveats in the documentation: https://pandas.pydata.org/pandas-docs/stable/user_guide/indexing.html#returning-a-view-versus-a-copy\n",
      "  time_test[\"RainToday_lag{}\".format(lag)] = time_test['RainToday'].shift(lag)\n",
      "/tmp/ipykernel_31800/1298324753.py:3: SettingWithCopyWarning: \n",
      "A value is trying to be set on a copy of a slice from a DataFrame.\n",
      "Try using .loc[row_indexer,col_indexer] = value instead\n",
      "\n",
      "See the caveats in the documentation: https://pandas.pydata.org/pandas-docs/stable/user_guide/indexing.html#returning-a-view-versus-a-copy\n",
      "  time_test[\"RainToday_lag{}\".format(lag)] = time_test['RainToday'].shift(lag)\n",
      "/tmp/ipykernel_31800/1298324753.py:3: SettingWithCopyWarning: \n",
      "A value is trying to be set on a copy of a slice from a DataFrame.\n",
      "Try using .loc[row_indexer,col_indexer] = value instead\n",
      "\n",
      "See the caveats in the documentation: https://pandas.pydata.org/pandas-docs/stable/user_guide/indexing.html#returning-a-view-versus-a-copy\n",
      "  time_test[\"RainToday_lag{}\".format(lag)] = time_test['RainToday'].shift(lag)\n",
      "/tmp/ipykernel_31800/1298324753.py:3: SettingWithCopyWarning: \n",
      "A value is trying to be set on a copy of a slice from a DataFrame.\n",
      "Try using .loc[row_indexer,col_indexer] = value instead\n",
      "\n",
      "See the caveats in the documentation: https://pandas.pydata.org/pandas-docs/stable/user_guide/indexing.html#returning-a-view-versus-a-copy\n",
      "  time_test[\"RainToday_lag{}\".format(lag)] = time_test['RainToday'].shift(lag)\n",
      "/tmp/ipykernel_31800/1298324753.py:3: SettingWithCopyWarning: \n",
      "A value is trying to be set on a copy of a slice from a DataFrame.\n",
      "Try using .loc[row_indexer,col_indexer] = value instead\n",
      "\n",
      "See the caveats in the documentation: https://pandas.pydata.org/pandas-docs/stable/user_guide/indexing.html#returning-a-view-versus-a-copy\n",
      "  time_test[\"RainToday_lag{}\".format(lag)] = time_test['RainToday'].shift(lag)\n",
      "/tmp/ipykernel_31800/1298324753.py:3: SettingWithCopyWarning: \n",
      "A value is trying to be set on a copy of a slice from a DataFrame.\n",
      "Try using .loc[row_indexer,col_indexer] = value instead\n",
      "\n",
      "See the caveats in the documentation: https://pandas.pydata.org/pandas-docs/stable/user_guide/indexing.html#returning-a-view-versus-a-copy\n",
      "  time_test[\"RainToday_lag{}\".format(lag)] = time_test['RainToday'].shift(lag)\n",
      "/tmp/ipykernel_31800/1298324753.py:3: SettingWithCopyWarning: \n",
      "A value is trying to be set on a copy of a slice from a DataFrame.\n",
      "Try using .loc[row_indexer,col_indexer] = value instead\n",
      "\n",
      "See the caveats in the documentation: https://pandas.pydata.org/pandas-docs/stable/user_guide/indexing.html#returning-a-view-versus-a-copy\n",
      "  time_test[\"RainToday_lag{}\".format(lag)] = time_test['RainToday'].shift(lag)\n",
      "/tmp/ipykernel_31800/1298324753.py:3: SettingWithCopyWarning: \n",
      "A value is trying to be set on a copy of a slice from a DataFrame.\n",
      "Try using .loc[row_indexer,col_indexer] = value instead\n",
      "\n",
      "See the caveats in the documentation: https://pandas.pydata.org/pandas-docs/stable/user_guide/indexing.html#returning-a-view-versus-a-copy\n",
      "  time_test[\"RainToday_lag{}\".format(lag)] = time_test['RainToday'].shift(lag)\n",
      "/tmp/ipykernel_31800/1298324753.py:3: SettingWithCopyWarning: \n",
      "A value is trying to be set on a copy of a slice from a DataFrame.\n",
      "Try using .loc[row_indexer,col_indexer] = value instead\n",
      "\n",
      "See the caveats in the documentation: https://pandas.pydata.org/pandas-docs/stable/user_guide/indexing.html#returning-a-view-versus-a-copy\n",
      "  time_test[\"RainToday_lag{}\".format(lag)] = time_test['RainToday'].shift(lag)\n"
     ]
    },
    {
     "data": {
      "text/html": [
       "<div>\n",
       "<style scoped>\n",
       "    .dataframe tbody tr th:only-of-type {\n",
       "        vertical-align: middle;\n",
       "    }\n",
       "\n",
       "    .dataframe tbody tr th {\n",
       "        vertical-align: top;\n",
       "    }\n",
       "\n",
       "    .dataframe thead th {\n",
       "        text-align: right;\n",
       "    }\n",
       "</style>\n",
       "<table border=\"1\" class=\"dataframe\">\n",
       "  <thead>\n",
       "    <tr style=\"text-align: right;\">\n",
       "      <th></th>\n",
       "      <th>RainToday</th>\n",
       "      <th>RainToday_lag1</th>\n",
       "      <th>RainToday_lag2</th>\n",
       "      <th>RainToday_lag3</th>\n",
       "      <th>RainToday_lag4</th>\n",
       "      <th>RainToday_lag5</th>\n",
       "      <th>RainToday_lag6</th>\n",
       "      <th>RainToday_lag7</th>\n",
       "      <th>RainToday_lag8</th>\n",
       "      <th>RainToday_lag9</th>\n",
       "      <th>...</th>\n",
       "      <th>RainToday_lag20</th>\n",
       "      <th>RainToday_lag21</th>\n",
       "      <th>RainToday_lag22</th>\n",
       "      <th>RainToday_lag23</th>\n",
       "      <th>RainToday_lag24</th>\n",
       "      <th>RainToday_lag25</th>\n",
       "      <th>RainToday_lag26</th>\n",
       "      <th>RainToday_lag27</th>\n",
       "      <th>RainToday_lag28</th>\n",
       "      <th>RainToday_lag29</th>\n",
       "    </tr>\n",
       "    <tr>\n",
       "      <th>Date</th>\n",
       "      <th></th>\n",
       "      <th></th>\n",
       "      <th></th>\n",
       "      <th></th>\n",
       "      <th></th>\n",
       "      <th></th>\n",
       "      <th></th>\n",
       "      <th></th>\n",
       "      <th></th>\n",
       "      <th></th>\n",
       "      <th></th>\n",
       "      <th></th>\n",
       "      <th></th>\n",
       "      <th></th>\n",
       "      <th></th>\n",
       "      <th></th>\n",
       "      <th></th>\n",
       "      <th></th>\n",
       "      <th></th>\n",
       "      <th></th>\n",
       "      <th></th>\n",
       "    </tr>\n",
       "  </thead>\n",
       "  <tbody>\n",
       "    <tr>\n",
       "      <th>2009-01-15</th>\n",
       "      <td>0.0</td>\n",
       "      <td>0.0</td>\n",
       "      <td>0.0</td>\n",
       "      <td>0.0</td>\n",
       "      <td>0.0</td>\n",
       "      <td>0.0</td>\n",
       "      <td>0.0</td>\n",
       "      <td>0.0</td>\n",
       "      <td>0.0</td>\n",
       "      <td>0.0</td>\n",
       "      <td>...</td>\n",
       "      <td>0.0</td>\n",
       "      <td>0.0</td>\n",
       "      <td>0.0</td>\n",
       "      <td>0.0</td>\n",
       "      <td>0.0</td>\n",
       "      <td>0.0</td>\n",
       "      <td>0.0</td>\n",
       "      <td>1.0</td>\n",
       "      <td>1.0</td>\n",
       "      <td>0.0</td>\n",
       "    </tr>\n",
       "    <tr>\n",
       "      <th>2009-01-16</th>\n",
       "      <td>0.0</td>\n",
       "      <td>0.0</td>\n",
       "      <td>0.0</td>\n",
       "      <td>0.0</td>\n",
       "      <td>0.0</td>\n",
       "      <td>0.0</td>\n",
       "      <td>0.0</td>\n",
       "      <td>0.0</td>\n",
       "      <td>0.0</td>\n",
       "      <td>0.0</td>\n",
       "      <td>...</td>\n",
       "      <td>0.0</td>\n",
       "      <td>0.0</td>\n",
       "      <td>0.0</td>\n",
       "      <td>0.0</td>\n",
       "      <td>0.0</td>\n",
       "      <td>0.0</td>\n",
       "      <td>0.0</td>\n",
       "      <td>0.0</td>\n",
       "      <td>1.0</td>\n",
       "      <td>1.0</td>\n",
       "    </tr>\n",
       "    <tr>\n",
       "      <th>2009-01-17</th>\n",
       "      <td>0.0</td>\n",
       "      <td>0.0</td>\n",
       "      <td>0.0</td>\n",
       "      <td>0.0</td>\n",
       "      <td>0.0</td>\n",
       "      <td>0.0</td>\n",
       "      <td>0.0</td>\n",
       "      <td>0.0</td>\n",
       "      <td>0.0</td>\n",
       "      <td>0.0</td>\n",
       "      <td>...</td>\n",
       "      <td>0.0</td>\n",
       "      <td>0.0</td>\n",
       "      <td>0.0</td>\n",
       "      <td>0.0</td>\n",
       "      <td>0.0</td>\n",
       "      <td>0.0</td>\n",
       "      <td>0.0</td>\n",
       "      <td>0.0</td>\n",
       "      <td>0.0</td>\n",
       "      <td>1.0</td>\n",
       "    </tr>\n",
       "    <tr>\n",
       "      <th>2009-01-18</th>\n",
       "      <td>0.0</td>\n",
       "      <td>0.0</td>\n",
       "      <td>0.0</td>\n",
       "      <td>0.0</td>\n",
       "      <td>0.0</td>\n",
       "      <td>0.0</td>\n",
       "      <td>0.0</td>\n",
       "      <td>0.0</td>\n",
       "      <td>0.0</td>\n",
       "      <td>0.0</td>\n",
       "      <td>...</td>\n",
       "      <td>0.0</td>\n",
       "      <td>0.0</td>\n",
       "      <td>0.0</td>\n",
       "      <td>0.0</td>\n",
       "      <td>0.0</td>\n",
       "      <td>0.0</td>\n",
       "      <td>0.0</td>\n",
       "      <td>0.0</td>\n",
       "      <td>0.0</td>\n",
       "      <td>0.0</td>\n",
       "    </tr>\n",
       "    <tr>\n",
       "      <th>2009-01-19</th>\n",
       "      <td>0.0</td>\n",
       "      <td>0.0</td>\n",
       "      <td>0.0</td>\n",
       "      <td>0.0</td>\n",
       "      <td>0.0</td>\n",
       "      <td>0.0</td>\n",
       "      <td>0.0</td>\n",
       "      <td>0.0</td>\n",
       "      <td>0.0</td>\n",
       "      <td>0.0</td>\n",
       "      <td>...</td>\n",
       "      <td>1.0</td>\n",
       "      <td>0.0</td>\n",
       "      <td>0.0</td>\n",
       "      <td>0.0</td>\n",
       "      <td>0.0</td>\n",
       "      <td>0.0</td>\n",
       "      <td>0.0</td>\n",
       "      <td>0.0</td>\n",
       "      <td>0.0</td>\n",
       "      <td>0.0</td>\n",
       "    </tr>\n",
       "    <tr>\n",
       "      <th>...</th>\n",
       "      <td>...</td>\n",
       "      <td>...</td>\n",
       "      <td>...</td>\n",
       "      <td>...</td>\n",
       "      <td>...</td>\n",
       "      <td>...</td>\n",
       "      <td>...</td>\n",
       "      <td>...</td>\n",
       "      <td>...</td>\n",
       "      <td>...</td>\n",
       "      <td>...</td>\n",
       "      <td>...</td>\n",
       "      <td>...</td>\n",
       "      <td>...</td>\n",
       "      <td>...</td>\n",
       "      <td>...</td>\n",
       "      <td>...</td>\n",
       "      <td>...</td>\n",
       "      <td>...</td>\n",
       "      <td>...</td>\n",
       "      <td>...</td>\n",
       "    </tr>\n",
       "    <tr>\n",
       "      <th>2017-06-21</th>\n",
       "      <td>0.0</td>\n",
       "      <td>0.0</td>\n",
       "      <td>0.0</td>\n",
       "      <td>0.0</td>\n",
       "      <td>0.0</td>\n",
       "      <td>0.0</td>\n",
       "      <td>0.0</td>\n",
       "      <td>0.0</td>\n",
       "      <td>0.0</td>\n",
       "      <td>0.0</td>\n",
       "      <td>...</td>\n",
       "      <td>0.0</td>\n",
       "      <td>0.0</td>\n",
       "      <td>0.0</td>\n",
       "      <td>0.0</td>\n",
       "      <td>0.0</td>\n",
       "      <td>0.0</td>\n",
       "      <td>0.0</td>\n",
       "      <td>0.0</td>\n",
       "      <td>0.0</td>\n",
       "      <td>0.0</td>\n",
       "    </tr>\n",
       "    <tr>\n",
       "      <th>2017-06-22</th>\n",
       "      <td>0.0</td>\n",
       "      <td>0.0</td>\n",
       "      <td>0.0</td>\n",
       "      <td>0.0</td>\n",
       "      <td>0.0</td>\n",
       "      <td>0.0</td>\n",
       "      <td>0.0</td>\n",
       "      <td>0.0</td>\n",
       "      <td>0.0</td>\n",
       "      <td>0.0</td>\n",
       "      <td>...</td>\n",
       "      <td>0.0</td>\n",
       "      <td>0.0</td>\n",
       "      <td>0.0</td>\n",
       "      <td>0.0</td>\n",
       "      <td>0.0</td>\n",
       "      <td>0.0</td>\n",
       "      <td>0.0</td>\n",
       "      <td>0.0</td>\n",
       "      <td>0.0</td>\n",
       "      <td>0.0</td>\n",
       "    </tr>\n",
       "    <tr>\n",
       "      <th>2017-06-23</th>\n",
       "      <td>0.0</td>\n",
       "      <td>0.0</td>\n",
       "      <td>0.0</td>\n",
       "      <td>0.0</td>\n",
       "      <td>0.0</td>\n",
       "      <td>0.0</td>\n",
       "      <td>0.0</td>\n",
       "      <td>0.0</td>\n",
       "      <td>0.0</td>\n",
       "      <td>0.0</td>\n",
       "      <td>...</td>\n",
       "      <td>0.0</td>\n",
       "      <td>0.0</td>\n",
       "      <td>0.0</td>\n",
       "      <td>0.0</td>\n",
       "      <td>0.0</td>\n",
       "      <td>0.0</td>\n",
       "      <td>0.0</td>\n",
       "      <td>0.0</td>\n",
       "      <td>0.0</td>\n",
       "      <td>0.0</td>\n",
       "    </tr>\n",
       "    <tr>\n",
       "      <th>2017-06-24</th>\n",
       "      <td>0.0</td>\n",
       "      <td>0.0</td>\n",
       "      <td>0.0</td>\n",
       "      <td>0.0</td>\n",
       "      <td>0.0</td>\n",
       "      <td>0.0</td>\n",
       "      <td>0.0</td>\n",
       "      <td>0.0</td>\n",
       "      <td>0.0</td>\n",
       "      <td>0.0</td>\n",
       "      <td>...</td>\n",
       "      <td>0.0</td>\n",
       "      <td>0.0</td>\n",
       "      <td>0.0</td>\n",
       "      <td>0.0</td>\n",
       "      <td>0.0</td>\n",
       "      <td>0.0</td>\n",
       "      <td>0.0</td>\n",
       "      <td>0.0</td>\n",
       "      <td>0.0</td>\n",
       "      <td>0.0</td>\n",
       "    </tr>\n",
       "    <tr>\n",
       "      <th>2017-06-25</th>\n",
       "      <td>0.0</td>\n",
       "      <td>0.0</td>\n",
       "      <td>0.0</td>\n",
       "      <td>0.0</td>\n",
       "      <td>0.0</td>\n",
       "      <td>0.0</td>\n",
       "      <td>0.0</td>\n",
       "      <td>0.0</td>\n",
       "      <td>0.0</td>\n",
       "      <td>0.0</td>\n",
       "      <td>...</td>\n",
       "      <td>0.0</td>\n",
       "      <td>0.0</td>\n",
       "      <td>0.0</td>\n",
       "      <td>0.0</td>\n",
       "      <td>0.0</td>\n",
       "      <td>0.0</td>\n",
       "      <td>0.0</td>\n",
       "      <td>0.0</td>\n",
       "      <td>0.0</td>\n",
       "      <td>0.0</td>\n",
       "    </tr>\n",
       "  </tbody>\n",
       "</table>\n",
       "<p>120935 rows × 30 columns</p>\n",
       "</div>"
      ],
      "text/plain": [
       "            RainToday  RainToday_lag1  RainToday_lag2  RainToday_lag3  \\\n",
       "Date                                                                    \n",
       "2009-01-15        0.0             0.0             0.0             0.0   \n",
       "2009-01-16        0.0             0.0             0.0             0.0   \n",
       "2009-01-17        0.0             0.0             0.0             0.0   \n",
       "2009-01-18        0.0             0.0             0.0             0.0   \n",
       "2009-01-19        0.0             0.0             0.0             0.0   \n",
       "...               ...             ...             ...             ...   \n",
       "2017-06-21        0.0             0.0             0.0             0.0   \n",
       "2017-06-22        0.0             0.0             0.0             0.0   \n",
       "2017-06-23        0.0             0.0             0.0             0.0   \n",
       "2017-06-24        0.0             0.0             0.0             0.0   \n",
       "2017-06-25        0.0             0.0             0.0             0.0   \n",
       "\n",
       "            RainToday_lag4  RainToday_lag5  RainToday_lag6  RainToday_lag7  \\\n",
       "Date                                                                         \n",
       "2009-01-15             0.0             0.0             0.0             0.0   \n",
       "2009-01-16             0.0             0.0             0.0             0.0   \n",
       "2009-01-17             0.0             0.0             0.0             0.0   \n",
       "2009-01-18             0.0             0.0             0.0             0.0   \n",
       "2009-01-19             0.0             0.0             0.0             0.0   \n",
       "...                    ...             ...             ...             ...   \n",
       "2017-06-21             0.0             0.0             0.0             0.0   \n",
       "2017-06-22             0.0             0.0             0.0             0.0   \n",
       "2017-06-23             0.0             0.0             0.0             0.0   \n",
       "2017-06-24             0.0             0.0             0.0             0.0   \n",
       "2017-06-25             0.0             0.0             0.0             0.0   \n",
       "\n",
       "            RainToday_lag8  RainToday_lag9  ...  RainToday_lag20  \\\n",
       "Date                                        ...                    \n",
       "2009-01-15             0.0             0.0  ...              0.0   \n",
       "2009-01-16             0.0             0.0  ...              0.0   \n",
       "2009-01-17             0.0             0.0  ...              0.0   \n",
       "2009-01-18             0.0             0.0  ...              0.0   \n",
       "2009-01-19             0.0             0.0  ...              1.0   \n",
       "...                    ...             ...  ...              ...   \n",
       "2017-06-21             0.0             0.0  ...              0.0   \n",
       "2017-06-22             0.0             0.0  ...              0.0   \n",
       "2017-06-23             0.0             0.0  ...              0.0   \n",
       "2017-06-24             0.0             0.0  ...              0.0   \n",
       "2017-06-25             0.0             0.0  ...              0.0   \n",
       "\n",
       "            RainToday_lag21  RainToday_lag22  RainToday_lag23  \\\n",
       "Date                                                            \n",
       "2009-01-15              0.0              0.0              0.0   \n",
       "2009-01-16              0.0              0.0              0.0   \n",
       "2009-01-17              0.0              0.0              0.0   \n",
       "2009-01-18              0.0              0.0              0.0   \n",
       "2009-01-19              0.0              0.0              0.0   \n",
       "...                     ...              ...              ...   \n",
       "2017-06-21              0.0              0.0              0.0   \n",
       "2017-06-22              0.0              0.0              0.0   \n",
       "2017-06-23              0.0              0.0              0.0   \n",
       "2017-06-24              0.0              0.0              0.0   \n",
       "2017-06-25              0.0              0.0              0.0   \n",
       "\n",
       "            RainToday_lag24  RainToday_lag25  RainToday_lag26  \\\n",
       "Date                                                            \n",
       "2009-01-15              0.0              0.0              0.0   \n",
       "2009-01-16              0.0              0.0              0.0   \n",
       "2009-01-17              0.0              0.0              0.0   \n",
       "2009-01-18              0.0              0.0              0.0   \n",
       "2009-01-19              0.0              0.0              0.0   \n",
       "...                     ...              ...              ...   \n",
       "2017-06-21              0.0              0.0              0.0   \n",
       "2017-06-22              0.0              0.0              0.0   \n",
       "2017-06-23              0.0              0.0              0.0   \n",
       "2017-06-24              0.0              0.0              0.0   \n",
       "2017-06-25              0.0              0.0              0.0   \n",
       "\n",
       "            RainToday_lag27  RainToday_lag28  RainToday_lag29  \n",
       "Date                                                           \n",
       "2009-01-15              1.0              1.0              0.0  \n",
       "2009-01-16              0.0              1.0              1.0  \n",
       "2009-01-17              0.0              0.0              1.0  \n",
       "2009-01-18              0.0              0.0              0.0  \n",
       "2009-01-19              0.0              0.0              0.0  \n",
       "...                     ...              ...              ...  \n",
       "2017-06-21              0.0              0.0              0.0  \n",
       "2017-06-22              0.0              0.0              0.0  \n",
       "2017-06-23              0.0              0.0              0.0  \n",
       "2017-06-24              0.0              0.0              0.0  \n",
       "2017-06-25              0.0              0.0              0.0  \n",
       "\n",
       "[120935 rows x 30 columns]"
      ]
     },
     "execution_count": 73,
     "metadata": {},
     "output_type": "execute_result"
    }
   ],
   "source": [
    "for lag in range(1, 30):\n",
    "    data_2[\"RainToday_lag{}\".format(lag)] = data_2[\"RainToday\"].shift(lag)\n",
    "    time_test[\"RainToday_lag{}\".format(lag)] = time_test['RainToday'].shift(lag)\n",
    "data_2 = data_2.dropna()\n",
    "time_test = time_test.dropna()\n",
    "data_2"
   ]
  },
  {
   "cell_type": "code",
   "execution_count": 74,
   "metadata": {},
   "outputs": [],
   "source": [
    "train_x_h2 = data_2.drop(\"RainToday\", axis=1)\n",
    "train_y_h2 = data_2.RainToday\n",
    "\n",
    "test_x_h2 = time_test.drop(\"RainToday\", axis=1)\n",
    "test_y_h2 = time_test.RainToday"
   ]
  },
  {
   "cell_type": "markdown",
   "metadata": {},
   "source": [
    "## Experiments\n",
    "\n",
    "### H0:  Test models with the whole data"
   ]
  },
  {
   "cell_type": "code",
   "execution_count": 75,
   "metadata": {},
   "outputs": [],
   "source": [
    "def GetModelScores (estimator, X_train, X_test, y_train, y_test):\n",
    "    scores_train = pd.DataFrame(columns= ['Accuracy','F1 Score','Precision','Recall','ROC_AUC'])\n",
    "    scores_test = pd.DataFrame(columns= ['Accuracy','F1 Score','Precision','Recall','ROC_AUC'])\n",
    "    \n",
    "    model = estimator\n",
    "    model.fit(X_train, y_train)\n",
    "    \n",
    "    prediction_train = model.predict(X_train)\n",
    "    prediction_test = model.predict(X_test)\n",
    "    \n",
    "    try:\n",
    "        score_train = model.predict_proba(X_train)[:,1]\n",
    "        roc_train= roc_auc_score(y_train, score_train, average = \"weighted\")\n",
    "    except:\n",
    "        roc_train = 0\n",
    "        \n",
    "    try:\n",
    "        score_test = model.predict_proba(X_test)[:,1]\n",
    "        roc_test= roc_auc_score(y_test, score_test, average = \"weighted\")\n",
    "    except:\n",
    "        roc_test = 0\n",
    "    \n",
    "    \n",
    "    \n",
    "    scores_train['Accuracy'] = accuracy_score(y_train, prediction_train)*100,\n",
    "    scores_train['F1 Score'] = f1_score(y_train, prediction_train, average = \"weighted\")*100,\n",
    "    scores_train['Precision'] = precision_score(y_train, prediction_train, average = \"weighted\")*100,\n",
    "    scores_train['Recall'] = recall_score(y_train, prediction_train, average = \"weighted\")*100,\n",
    "    scores_train['ROC_AUC'] = roc_train*100\n",
    "    \n",
    "       \n",
    "    scores_test['Accuracy'] = accuracy_score(y_test, prediction_test)*100,\n",
    "    scores_test['F1 Score'] = f1_score(y_test, prediction_test, average = \"weighted\")*100,\n",
    "    scores_test['Precision'] = precision_score(y_test, prediction_test, average = \"weighted\")*100,\n",
    "    scores_test['Recall'] = recall_score(y_test, prediction_test, average = \"weighted\")*100,\n",
    "    scores_test['ROC_AUC'] = roc_test*100\n",
    "    \n",
    "    print(scores_train)\n",
    "    print(scores_test)"
   ]
  },
  {
   "cell_type": "code",
   "execution_count": 93,
   "metadata": {},
   "outputs": [],
   "source": [
    "def GetOnlyScores (estimator, y_test, X_test, y_train, X_train):\n",
    "    scores_train = pd.DataFrame(columns= ['Accuracy','F1 Score','Precision','Recall','ROC_AUC'])\n",
    "    scores_test = pd.DataFrame(columns= ['Accuracy','F1 Score','Precision','Recall','ROC_AUC'])\n",
    "    \n",
    "    prediction_train = estimator.predict(X_train)\n",
    "    prediction_test = estimator.predict(X_test)\n",
    "    \n",
    "    try:\n",
    "        score_train = estimator.predict_proba(X_train)[:,1]\n",
    "        roc_train= roc_auc_score(y_train, score_train, average = \"weighted\")\n",
    "    except:\n",
    "        roc_train = 0\n",
    "        \n",
    "    try:\n",
    "        score_test = estimator.predict_proba(X_test)[:,1]\n",
    "        roc_test= roc_auc_score(y_test, score_test, average = \"weighted\")\n",
    "    except:\n",
    "        roc_test = 0\n",
    "    \n",
    "   \n",
    "    scores_train['Accuracy'] = accuracy_score(y_train, prediction_train)*100,\n",
    "    scores_train['F1 Score'] = f1_score(y_train, prediction_train, average = \"weighted\")*100,\n",
    "    scores_train['Precision'] = precision_score(y_train, prediction_train, average = \"weighted\")*100,\n",
    "    scores_train['Recall'] = recall_score(y_train, prediction_train, average = \"weighted\")*100,\n",
    "    scores_train['ROC_AUC'] = roc_train*100\n",
    "       \n",
    "    scores_test['Accuracy'] = accuracy_score(y_test, prediction_test)*100,\n",
    "    scores_test['F1 Score'] = f1_score(y_test, prediction_test, average = \"weighted\")*100,\n",
    "    scores_test['Precision'] = precision_score(y_test, prediction_test, average = \"weighted\")*100,\n",
    "    scores_test['Recall'] = recall_score(y_test, prediction_test, average = \"weighted\")*100,\n",
    "    scores_test['ROC_AUC'] = roc_test*100\n",
    "\n",
    "    \n",
    "    print(scores_train)\n",
    "    print(scores_test)"
   ]
  },
  {
   "cell_type": "code",
   "execution_count": 76,
   "metadata": {},
   "outputs": [
    {
     "name": "stdout",
     "output_type": "stream",
     "text": [
      "    Accuracy   F1 Score  Precision     Recall   ROC_AUC\n",
      "0  84.066926  82.717355  82.897453  84.066926  85.10737\n",
      "    Accuracy   F1 Score  Precision     Recall    ROC_AUC\n",
      "0  83.770893  82.361153  82.531107  83.770893  84.616613\n"
     ]
    },
    {
     "name": "stderr",
     "output_type": "stream",
     "text": [
      "/home/teodor98/anaconda3/envs/tf/lib/python3.9/site-packages/sklearn/linear_model/_logistic.py:814: ConvergenceWarning: lbfgs failed to converge (status=1):\n",
      "STOP: TOTAL NO. of ITERATIONS REACHED LIMIT.\n",
      "\n",
      "Increase the number of iterations (max_iter) or scale the data as shown in:\n",
      "    https://scikit-learn.org/stable/modules/preprocessing.html\n",
      "Please also refer to the documentation for alternative solver options:\n",
      "    https://scikit-learn.org/stable/modules/linear_model.html#logistic-regression\n",
      "  n_iter_i = _check_optimize_result(\n"
     ]
    }
   ],
   "source": [
    "GetModelScores(LogisticRegression(), x_train_h0, x_val_h0, y_train_h0, y_val_h0)"
   ]
  },
  {
   "cell_type": "code",
   "execution_count": 77,
   "metadata": {},
   "outputs": [
    {
     "name": "stdout",
     "output_type": "stream",
     "text": [
      "    Accuracy   F1 Score  Precision     Recall    ROC_AUC\n",
      "0  99.992266  99.992265  99.992267  99.992266  99.991018\n",
      "    Accuracy   F1 Score  Precision     Recall   ROC_AUC\n",
      "0  84.832209  83.548583  83.839692  84.832209  86.55878\n"
     ]
    }
   ],
   "source": [
    "GetModelScores(RandomForestClassifier(), x_train_h0, x_val_h0, y_train_h0, y_val_h0)"
   ]
  },
  {
   "cell_type": "code",
   "execution_count": 78,
   "metadata": {},
   "outputs": [
    {
     "name": "stdout",
     "output_type": "stream",
     "text": [
      "    Accuracy   F1 Score  Precision     Recall    ROC_AUC\n",
      "0  87.527499  86.805623  86.957141  87.527499  92.955748\n",
      "   Accuracy   F1 Score  Precision    Recall    ROC_AUC\n",
      "0  82.86856  81.838961  81.602898  82.86856  80.176118\n"
     ]
    }
   ],
   "source": [
    "GetModelScores(KNeighborsClassifier(), x_train_h0, x_val_h0, y_train_h0, y_val_h0)"
   ]
  },
  {
   "cell_type": "code",
   "execution_count": 79,
   "metadata": {},
   "outputs": [
    {
     "name": "stdout",
     "output_type": "stream",
     "text": [
      "    Accuracy   F1 Score  Precision     Recall    ROC_AUC\n",
      "0  99.993985  99.993984  99.993985  99.993985  99.999983\n",
      "    Accuracy   F1 Score  Precision     Recall    ROC_AUC\n",
      "0  77.278391  77.458064  77.653933  77.278391  67.568946\n"
     ]
    }
   ],
   "source": [
    "GetModelScores(DecisionTreeClassifier(), x_train_h0, x_val_h0, y_train_h0, y_val_h0)"
   ]
  },
  {
   "cell_type": "code",
   "execution_count": 80,
   "metadata": {},
   "outputs": [
    {
     "name": "stdout",
     "output_type": "stream",
     "text": [
      "    Accuracy  F1 Score  Precision     Recall  ROC_AUC\n",
      "0  84.382304  82.41345  83.577059  84.382304        0\n",
      "    Accuracy   F1 Score  Precision     Recall  ROC_AUC\n",
      "0  84.028703  82.000356  83.091964  84.028703        0\n"
     ]
    }
   ],
   "source": [
    "GetModelScores(SVC(), x_train_h0, x_val_h0, y_train_h0, y_val_h0)"
   ]
  },
  {
   "cell_type": "code",
   "execution_count": 81,
   "metadata": {},
   "outputs": [
    {
     "name": "stdout",
     "output_type": "stream",
     "text": [
      "    Accuracy   F1 Score  Precision     Recall    ROC_AUC\n",
      "0  85.834594  84.795462  85.023159  85.834594  88.701078\n",
      "   Accuracy   F1 Score  Precision    Recall   ROC_AUC\n",
      "0  84.77635  83.607325  83.759829  84.77635  86.73108\n"
     ]
    }
   ],
   "source": [
    "GetModelScores(LGBMClassifier(), x_train_h0, x_val_h0, y_train_h0, y_val_h0)"
   ]
  },
  {
   "cell_type": "code",
   "execution_count": 82,
   "metadata": {},
   "outputs": [],
   "source": [
    "params_tree = {\n",
    "    \"n_estimators\": [200],\n",
    "    \"max_depth\": [120]\n",
    "}"
   ]
  },
  {
   "cell_type": "code",
   "execution_count": 83,
   "metadata": {},
   "outputs": [],
   "source": [
    "gs_tree = GridSearchCV(RandomForestClassifier(), params_tree, cv=5, scoring=\"f1\")\n"
   ]
  },
  {
   "cell_type": "code",
   "execution_count": 84,
   "metadata": {},
   "outputs": [
    {
     "data": {
      "text/plain": [
       "GridSearchCV(cv=5, estimator=RandomForestClassifier(),\n",
       "             param_grid={'max_depth': [120], 'n_estimators': [200]},\n",
       "             scoring='f1')"
      ]
     },
     "execution_count": 84,
     "metadata": {},
     "output_type": "execute_result"
    }
   ],
   "source": [
    "gs_tree.fit(x_train_h0, y_train_h0)"
   ]
  },
  {
   "cell_type": "code",
   "execution_count": 85,
   "metadata": {},
   "outputs": [
    {
     "data": {
      "text/plain": [
       "RandomForestClassifier(max_depth=120, n_estimators=200)"
      ]
     },
     "execution_count": 85,
     "metadata": {},
     "output_type": "execute_result"
    }
   ],
   "source": [
    "gs_tree.best_estimator_"
   ]
  },
  {
   "cell_type": "code",
   "execution_count": 86,
   "metadata": {},
   "outputs": [
    {
     "name": "stderr",
     "output_type": "stream",
     "text": [
      "/home/teodor98/anaconda3/envs/tf/lib/python3.9/site-packages/sklearn/utils/deprecation.py:87: FutureWarning: Function plot_confusion_matrix is deprecated; Function `plot_confusion_matrix` is deprecated in 1.0 and will be removed in 1.2. Use one of the class methods: ConfusionMatrixDisplay.from_predictions or ConfusionMatrixDisplay.from_estimator.\n",
      "  warnings.warn(msg, category=FutureWarning)\n"
     ]
    },
    {
     "data": {
      "text/plain": [
       "<sklearn.metrics._plot.confusion_matrix.ConfusionMatrixDisplay at 0x7f701595e520>"
      ]
     },
     "execution_count": 86,
     "metadata": {},
     "output_type": "execute_result"
    },
    {
     "data": {
      "image/png": "[encoded data removed]",
      "text/plain": [
       "<Figure size 432x288 with 2 Axes>"
      ]
     },
     "metadata": {
      "needs_background": "light"
     },
     "output_type": "display_data"
    }
   ],
   "source": [
    "plot_confusion_matrix(gs_tree, x_val_h0, y_val_h0)"
   ]
  },
  {
   "cell_type": "code",
   "execution_count": 99,
   "metadata": {},
   "outputs": [],
   "source": [
    "params_lgbm = {\n",
    "    \"learning_rate\": [0.1],\n",
    "    \"n_estimators\": [100, 200, 300],\n",
    "    \"num_leaves\": [15, 30, 60, 120]\n",
    "}"
   ]
  },
  {
   "cell_type": "code",
   "execution_count": 100,
   "metadata": {},
   "outputs": [
    {
     "data": {
      "text/plain": [
       "LGBMClassifier(n_estimators=300, num_leaves=120)"
      ]
     },
     "execution_count": 100,
     "metadata": {},
     "output_type": "execute_result"
    }
   ],
   "source": [
    "gs_lgbm = GridSearchCV(LGBMClassifier(), params_lgbm, cv=5, scoring=\"f1\")\n",
    "gs_lgbm.fit(x_train_h0, y_train_h0)\n",
    "gs_lgbm.best_estimator_"
   ]
  },
  {
   "cell_type": "code",
   "execution_count": 101,
   "metadata": {},
   "outputs": [
    {
     "name": "stderr",
     "output_type": "stream",
     "text": [
      "/home/teodor98/anaconda3/envs/tf/lib/python3.9/site-packages/sklearn/utils/deprecation.py:87: FutureWarning: Function plot_confusion_matrix is deprecated; Function `plot_confusion_matrix` is deprecated in 1.0 and will be removed in 1.2. Use one of the class methods: ConfusionMatrixDisplay.from_predictions or ConfusionMatrixDisplay.from_estimator.\n",
      "  warnings.warn(msg, category=FutureWarning)\n"
     ]
    },
    {
     "data": {
      "text/plain": [
       "<sklearn.metrics._plot.confusion_matrix.ConfusionMatrixDisplay at 0x7f7014a9f2e0>"
      ]
     },
     "execution_count": 101,
     "metadata": {},
     "output_type": "execute_result"
    },
    {
     "data": {
      "image/png": "[encoded data removed]",
      "text/plain": [
       "<Figure size 432x288 with 2 Axes>"
      ]
     },
     "metadata": {
      "needs_background": "light"
     },
     "output_type": "display_data"
    }
   ],
   "source": [
    "plot_confusion_matrix(gs_lgbm, x_val_h0, y_val_h0)"
   ]
  },
  {
   "cell_type": "code",
   "execution_count": 102,
   "metadata": {},
   "outputs": [
    {
     "name": "stdout",
     "output_type": "stream",
     "text": [
      "    Accuracy   F1 Score  Precision     Recall    ROC_AUC\n",
      "0  92.281383  91.932629  92.218949  92.281383  97.214413\n",
      "    Accuracy   F1 Score  Precision     Recall    ROC_AUC\n",
      "0  85.111503  84.146573  84.169128  85.111503  87.145568\n"
     ]
    }
   ],
   "source": [
    "GetOnlyScores(gs_lgbm, y_val_h0, x_val_h0, y_train_h0, x_train_h0)"
   ]
  },
  {
   "cell_type": "code",
   "execution_count": 98,
   "metadata": {},
   "outputs": [
    {
     "name": "stdout",
     "output_type": "stream",
     "text": [
      "    Accuracy   F1 Score  Precision     Recall    ROC_AUC\n",
      "0  87.848893  87.064494  87.357365  87.848893  92.432705\n",
      "    Accuracy   F1 Score  Precision     Recall    ROC_AUC\n",
      "0  85.072831  84.053923  84.117405  85.072831  87.079911\n"
     ]
    }
   ],
   "source": [
    "GetOnlyScores(gs_lgbm, y_val_h0, x_val_h0, y_train_h0, x_train_h0)"
   ]
  },
  {
   "cell_type": "markdown",
   "metadata": {},
   "source": [
    "It looks like the data, as big as it is, really good describes the target value. The basic models even can distinguish it."
   ]
  },
  {
   "cell_type": "markdown",
   "metadata": {},
   "source": [
    "### H1: Test models with low\n",
    " dimensional data"
   ]
  },
  {
   "cell_type": "code",
   "execution_count": null,
   "metadata": {},
   "outputs": [
    {
     "data": {
      "text/plain": [
       "(116368, 13)"
      ]
     },
     "execution_count": 421,
     "metadata": {},
     "output_type": "execute_result"
    }
   ],
   "source": [
    "x_train_h1.shape"
   ]
  },
  {
   "cell_type": "code",
   "execution_count": 90,
   "metadata": {},
   "outputs": [
    {
     "name": "stdout",
     "output_type": "stream",
     "text": [
      "    Accuracy   F1 Score  Precision     Recall    ROC_AUC\n",
      "0  99.986165  99.986165  99.986168  99.986165  99.999969\n",
      "    Accuracy   F1 Score  Precision     Recall   ROC_AUC\n",
      "0  89.537784  89.491229   90.25105  89.537784  89.54017\n"
     ]
    }
   ],
   "source": [
    "GetModelScores(DecisionTreeClassifier(), x_train_h1, x_test_h1, y_train_h1, y_test_h1)"
   ]
  },
  {
   "cell_type": "code",
   "execution_count": 91,
   "metadata": {},
   "outputs": [
    {
     "name": "stdout",
     "output_type": "stream",
     "text": [
      "    Accuracy   F1 Score  Precision     Recall    ROC_AUC\n",
      "0  79.968054  79.963573  79.994885  79.968054  88.556441\n",
      "    Accuracy   F1 Score  Precision     Recall    ROC_AUC\n",
      "0  79.474688  79.470408  79.499288  79.474688  87.882072\n"
     ]
    }
   ],
   "source": [
    "GetModelScores(LGBMClassifier(), x_train_h1, x_test_h1, y_train_h1, y_test_h1)"
   ]
  },
  {
   "cell_type": "code",
   "execution_count": null,
   "metadata": {},
   "outputs": [
    {
     "name": "stdout",
     "output_type": "stream",
     "text": [
      "    Accuracy   F1 Score  Precision     Recall    ROC_AUC\n",
      "0  99.989309  99.989309  99.989311  99.989309  99.992538\n",
      "    Accuracy   F1 Score  Precision     Recall    ROC_AUC\n",
      "0  93.492296  93.484516  93.701035  93.492296  98.591148\n"
     ]
    }
   ],
   "source": [
    "GetModelScores(RandomForestClassifier(),  x_train_h1, x_test_h1, y_train_h1, y_test_h1)"
   ]
  },
  {
   "cell_type": "code",
   "execution_count": null,
   "metadata": {},
   "outputs": [
    {
     "name": "stdout",
     "output_type": "stream",
     "text": [
      "   Accuracy   F1 Score  Precision    Recall    ROC_AUC\n",
      "0  87.36668  87.326108   87.85136  87.36668  95.848718\n",
      "    Accuracy   F1 Score  Precision     Recall    ROC_AUC\n",
      "0  80.691123  80.635117  81.050328  80.691123  88.733996\n"
     ]
    }
   ],
   "source": [
    "GetModelScores(KNeighborsClassifier(),  x_train_h1, x_test_h1, y_train_h1, y_test_h1)"
   ]
  },
  {
   "cell_type": "code",
   "execution_count": 106,
   "metadata": {},
   "outputs": [],
   "source": [
    "params_tree = {\n",
    "    \"n_estimators\": [100, 150],\n",
    "    \"max_depth\": [40, 80]\n",
    "}"
   ]
  },
  {
   "cell_type": "code",
   "execution_count": 107,
   "metadata": {},
   "outputs": [],
   "source": [
    "gs_tree_h1 = GridSearchCV(RandomForestClassifier(), params_tree, cv=5, scoring=\"f1\")"
   ]
  },
  {
   "cell_type": "code",
   "execution_count": 108,
   "metadata": {},
   "outputs": [
    {
     "data": {
      "text/plain": [
       "GridSearchCV(cv=5, estimator=RandomForestClassifier(),\n",
       "             param_grid={'max_depth': [10, 40, 80, 120],\n",
       "                         'n_estimators': [50, 100, 150, 200]},\n",
       "             scoring='f1')"
      ]
     },
     "execution_count": 108,
     "metadata": {},
     "output_type": "execute_result"
    }
   ],
   "source": [
    "gs_tree_h1.fit(x_train_h1, y_train_h1)"
   ]
  },
  {
   "cell_type": "code",
   "execution_count": 109,
   "metadata": {},
   "outputs": [
    {
     "data": {
      "text/plain": [
       "RandomForestClassifier(max_depth=80, n_estimators=150)"
      ]
     },
     "execution_count": 109,
     "metadata": {},
     "output_type": "execute_result"
    }
   ],
   "source": [
    "gs_tree_h1.best_estimator_"
   ]
  },
  {
   "cell_type": "code",
   "execution_count": 103,
   "metadata": {},
   "outputs": [
    {
     "data": {
      "text/plain": [
       "RandomForestClassifier()"
      ]
     },
     "execution_count": 103,
     "metadata": {},
     "output_type": "execute_result"
    }
   ],
   "source": [
    "forest_over = RandomForestClassifier()\n",
    "forest_over.fit(x_train_h1, y_train_h1)"
   ]
  },
  {
   "cell_type": "code",
   "execution_count": 110,
   "metadata": {},
   "outputs": [
    {
     "name": "stderr",
     "output_type": "stream",
     "text": [
      "/home/teodor98/anaconda3/envs/tf/lib/python3.9/site-packages/sklearn/utils/deprecation.py:87: FutureWarning: Function plot_confusion_matrix is deprecated; Function `plot_confusion_matrix` is deprecated in 1.0 and will be removed in 1.2. Use one of the class methods: ConfusionMatrixDisplay.from_predictions or ConfusionMatrixDisplay.from_estimator.\n",
      "  warnings.warn(msg, category=FutureWarning)\n"
     ]
    },
    {
     "data": {
      "text/plain": [
       "<sklearn.metrics._plot.confusion_matrix.ConfusionMatrixDisplay at 0x7f7017924670>"
      ]
     },
     "execution_count": 110,
     "metadata": {},
     "output_type": "execute_result"
    },
    {
     "data": {
      "image/png": "[encoded data removed]",
      "text/plain": [
       "<Figure size 432x288 with 2 Axes>"
      ]
     },
     "metadata": {
      "needs_background": "light"
     },
     "output_type": "display_data"
    }
   ],
   "source": [
    "plot_confusion_matrix(gs_tree_h1, x_test_h1, y_test_h1)"
   ]
  },
  {
   "cell_type": "code",
   "execution_count": 111,
   "metadata": {},
   "outputs": [
    {
     "name": "stdout",
     "output_type": "stream",
     "text": [
      "    Accuracy   F1 Score  Precision     Recall    ROC_AUC\n",
      "0  99.986165  99.986165  99.986168  99.986165  99.991357\n",
      "    Accuracy   F1 Score  Precision     Recall    ROC_AUC\n",
      "0  93.674248  93.668103  93.844441  93.674248  98.615514\n"
     ]
    }
   ],
   "source": [
    "GetOnlyScores(gs_tree_h1, y_test_h1, x_test_h1, y_train_h1, x_train_h1)"
   ]
  },
  {
   "cell_type": "markdown",
   "metadata": {},
   "source": [
    "### H2: Time Series"
   ]
  },
  {
   "cell_type": "code",
   "execution_count": null,
   "metadata": {},
   "outputs": [
    {
     "name": "stdout",
     "output_type": "stream",
     "text": [
      "    Accuracy  F1 Score  Precision     Recall    ROC_AUC\n",
      "0  78.763799  74.25918  75.127415  78.763799  72.501816\n",
      "    Accuracy   F1 Score  Precision     Recall    ROC_AUC\n",
      "0  81.552415  77.837678  78.364883  81.552415  77.003173\n"
     ]
    }
   ],
   "source": [
    "GetModelScores(GradientBoostingClassifier(),  train_x_h2, test_x_h2, train_y_h2, test_y_h2)"
   ]
  },
  {
   "cell_type": "code",
   "execution_count": null,
   "metadata": {},
   "outputs": [
    {
     "name": "stdout",
     "output_type": "stream",
     "text": [
      "    Accuracy   F1 Score  Precision     Recall    ROC_AUC\n",
      "0  79.660975  74.901364  77.064218  79.660975  74.254216\n",
      "    Accuracy   F1 Score  Precision     Recall    ROC_AUC\n",
      "0  82.365993  78.441555   79.98497  82.365993  78.300881\n"
     ]
    }
   ],
   "source": [
    "GetModelScores(LGBMClassifier(),  train_x_h2, test_x_h2, train_y_h2, test_y_h2)"
   ]
  },
  {
   "cell_type": "code",
   "execution_count": null,
   "metadata": {},
   "outputs": [
    {
     "name": "stdout",
     "output_type": "stream",
     "text": [
      "    Accuracy   F1 Score  Precision     Recall    ROC_AUC\n",
      "0  95.633191  95.498661  95.706331  95.633191  96.935257\n",
      "    Accuracy   F1 Score  Precision     Recall    ROC_AUC\n",
      "0  95.889291  95.738106  95.961701  95.889291  96.381039\n"
     ]
    }
   ],
   "source": [
    "GetModelScores(RandomForestClassifier(),  train_x_h2, test_x_h2, train_y_h2, test_y_h2)"
   ]
  },
  {
   "cell_type": "code",
   "execution_count": null,
   "metadata": {},
   "outputs": [
    {
     "name": "stdout",
     "output_type": "stream",
     "text": [
      "    Accuracy   F1 Score  Precision     Recall  ROC_AUC\n",
      "0  83.644106  81.786465  82.506357  83.644106  85.1894\n",
      "    Accuracy   F1 Score  Precision     Recall    ROC_AUC\n",
      "0  84.962435  83.236892   83.57804  84.962435  85.779778\n"
     ]
    }
   ],
   "source": [
    "GetModelScores(KNeighborsClassifier(),  train_x_h2, test_x_h2, train_y_h2, test_y_h2)"
   ]
  },
  {
   "cell_type": "code",
   "execution_count": 92,
   "metadata": {},
   "outputs": [
    {
     "name": "stdout",
     "output_type": "stream",
     "text": [
      "    Accuracy   F1 Score  Precision     Recall    ROC_AUC\n",
      "0  95.633191  95.475027  95.782077  95.633191  98.665976\n",
      "    Accuracy   F1 Score  Precision     Recall    ROC_AUC\n",
      "0  95.904862  95.732321   96.04588  95.904862  98.229199\n"
     ]
    }
   ],
   "source": [
    "GetModelScores(DecisionTreeClassifier(),  train_x_h2, test_x_h2, train_y_h2, test_y_h2)"
   ]
  },
  {
   "cell_type": "code",
   "execution_count": null,
   "metadata": {},
   "outputs": [
    {
     "data": {
      "text/plain": [
       "RandomForestClassifier()"
      ]
     },
     "execution_count": 433,
     "metadata": {},
     "output_type": "execute_result"
    }
   ],
   "source": [
    "forest_ts = RandomForestClassifier()\n",
    "forest_ts.fit(train_x_h2, train_y_h2)"
   ]
  },
  {
   "cell_type": "code",
   "execution_count": null,
   "metadata": {},
   "outputs": [
    {
     "name": "stderr",
     "output_type": "stream",
     "text": [
      "/home/teodor98/anaconda3/envs/tf/lib/python3.9/site-packages/sklearn/utils/deprecation.py:87: FutureWarning: Function plot_confusion_matrix is deprecated; Function `plot_confusion_matrix` is deprecated in 1.0 and will be removed in 1.2. Use one of the class methods: ConfusionMatrixDisplay.from_predictions or ConfusionMatrixDisplay.from_estimator.\n",
      "  warnings.warn(msg, category=FutureWarning)\n"
     ]
    },
    {
     "data": {
      "text/plain": [
       "<sklearn.metrics._plot.confusion_matrix.ConfusionMatrixDisplay at 0x7f4295a55370>"
      ]
     },
     "execution_count": 434,
     "metadata": {},
     "output_type": "execute_result"
    },
    {
     "data": {
      "image/png": "[encoded data removed]",
      "text/plain": [
       "<Figure size 432x288 with 2 Axes>"
      ]
     },
     "metadata": {
      "needs_background": "light"
     },
     "output_type": "display_data"
    }
   ],
   "source": [
    "plot_confusion_matrix(forest_ts, test_x_h2, test_y_h2)"
   ]
  },
  {
   "cell_type": "code",
   "execution_count": null,
   "metadata": {},
   "outputs": [],
   "source": []
  }
 ],
 "metadata": {
  "interpreter": {
   "hash": "eb43e61904852746031c088fb76da88e81b942e6b39d9edfadc2c42eb68ea21c"
  },
  "kernelspec": {
   "display_name": "Python 3.9.7 ('tf')",
   "language": "python",
   "name": "python3"
  },
  "language_info": {
   "codemirror_mode": {
    "name": "ipython",
    "version": 3
   },
   "file_extension": ".py",
   "mimetype": "text/x-python",
   "name": "python",
   "nbconvert_exporter": "python",
   "pygments_lexer": "ipython3",
   "version": "3.9.7"
  },
  "orig_nbformat": 4
 },
 "nbformat": 4,
 "nbformat_minor": 2
}
