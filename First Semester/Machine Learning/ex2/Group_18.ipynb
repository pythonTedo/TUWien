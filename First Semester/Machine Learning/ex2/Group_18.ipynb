{
 "cells": [
  {
   "cell_type": "markdown",
   "metadata": {},
   "source": [
    "## Imports "
   ]
  },
  {
   "cell_type": "code",
   "execution_count": 186,
   "metadata": {},
   "outputs": [],
   "source": [
    "import numpy as np\n",
    "import pandas as pd\n",
    "import matplotlib.pyplot as plt\n",
    "import seaborn as sns\n",
    "import time\n",
    "from numpy.linalg import norm\n",
    "\n",
    "from sklearn.linear_model import Ridge\n",
    "from sklearn.datasets import make_regression\n",
    "from sklearn.metrics import mean_squared_error\n",
    "from sklearn.preprocessing import MinMaxScaler, OneHotEncoder\n",
    "from sklearn.model_selection import train_test_split, GridSearchCV\n",
    "from sklearn.tree import DecisionTreeRegressor\n",
    "from sklearn.ensemble import AdaBoostRegressor, GradientBoostingRegressor\n",
    "from sklearn.neighbors import KNeighborsRegressor\n",
    "\n",
    "from sklearn.pipeline import Pipeline, make_pipeline\n",
    "from sklearn.model_selection import KFold, cross_val_score\n",
    "from sklearn.metrics import mean_squared_error,mean_absolute_error, r2_score, median_absolute_error\n",
    "from sklearn.impute import SimpleImputer"
   ]
  },
  {
   "cell_type": "markdown",
   "metadata": {},
   "source": [
    "## Gradient Descent Algorithm Implementation"
   ]
  },
  {
   "cell_type": "code",
   "execution_count": 173,
   "metadata": {},
   "outputs": [],
   "source": [
    "class LinearRegression:\n",
    "    def __init__(self, learning_rate=0.1, itterations=1000, alpha=0.1):\n",
    "        self.learning_rate = learning_rate\n",
    "        self.itterations = itterations\n",
    "        self.alpha = alpha\n",
    "        self.weights = None\n",
    "\n",
    "    def _get_predictions(self, x):\n",
    "        return np.dot(x, self.weights)\n",
    "\n",
    "    def _update_params(self, dw):\n",
    "        self.weights -= self.learning_rate * dw\n",
    "        #return self.weights\n",
    "\n",
    "    def fit(self, x, y):\n",
    "        self.n_samples, self.n_features = x.shape\n",
    "        self.weights = np.zeros(self.n_features)\n",
    "\n",
    "        def calculate_gradients(x, y, y_pred):\n",
    "            error =  y_pred - y\n",
    "            #error = np.sqrt(sum(y_pred - y)/len(y))\n",
    "            #dw = (1 / self.n_samples) * np.dot(x.T, error)\n",
    "            dw = (-( 2*(x.T).dot(y - y_pred)) + (2 * self.alpha * self.weights)) / self.n_samples\n",
    "            return dw\n",
    "\n",
    "        for iter in range(self.itterations):\n",
    "            #print(\"iter \", iter)\n",
    "            y_pred = self._get_predictions(x)\n",
    "            params = calculate_gradients(x, y, y_pred)\n",
    "            #print(\"new gradients\", params)\n",
    "            self._update_params(params)\n",
    "            #print(\"new weights\", self.weights)\n",
    "\n",
    "    def predict(self, x):\n",
    "        y_pred = self._get_predictions(x)\n",
    "        return y_pred\n",
    "        \n",
    "\n",
    "    def score(self, x_pred, x_true):\n",
    "        rmse = np.sqrt(sum(x_pred - x_true)/len(x_pred))\n",
    "        return rmse\n",
    "            "
   ]
  },
  {
   "cell_type": "markdown",
   "metadata": {},
   "source": [
    "## K-NN Algorithm Implementation"
   ]
  },
  {
   "cell_type": "code",
   "execution_count": 242,
   "metadata": {},
   "outputs": [],
   "source": [
    "class My_KNN :\n",
    "    def __init__(self, k_neighbours = 5, metric = \"euclidean\"):\n",
    "        self.k_neighbours = k_neighbours\n",
    "        self.metric = metric\n",
    "\n",
    "    def fit(self, X_train, y_train):\n",
    "        self.X_train = np.array(X_train)\n",
    "        self.y_train = np.array(y_train)\n",
    "\n",
    "    def predict(self, X_test):\n",
    "        # convert into array\n",
    "        X_test = np.array(X_test)\n",
    "        # predictions\n",
    "        y_pred = []\n",
    "        \n",
    "        metric_funct = self._euclidean\n",
    "        if self.metric == \"manhattan\" :\n",
    "            metric_funct = self._manhattan\n",
    "        if self.metric == \"cosine\" :\n",
    "            metric_funct = self._cosine\n",
    "            \n",
    "        for row in range(len(X_test)) :\n",
    "            distance = metric_funct(X_test[row])\n",
    "            y_pred.append(self.y_train[np.argsort(distance, axis = 0)[:self.k_neighbours]].mean())\n",
    "\n",
    "        return y_pred\n",
    "    \n",
    "    def _euclidean(self, row) : \n",
    "        return np.sqrt(np.sum((self.X_train - row)**2, axis = 1))\n",
    "    \n",
    "    def _manhattan(self, row) :\n",
    "        return np.sum(np.absolute(self.X_train - row), axis = 1)\n",
    "    \n",
    "    def _cosine(self, row) :\n",
    "        return 1 - np.dot(X_train, row)/(norm(X_train, axis=1)*norm(row))\n",
    "    \n",
    "    def _find_best_k (self, X_test, y_test, k_from, k_to, step, metric) :\n",
    "        X_test, y_test = np.array(X_test), np.array(y_test)\n",
    "        scores = []\n",
    "        metric_funct = self._euclidean\n",
    "        if metric == \"manhattan\" :\n",
    "            metric_funct = self._manhattan\n",
    "        if metric == \"cosine\" :\n",
    "            metric_funct = self._cosine\n",
    "        \n",
    "        distances = []\n",
    "        for row in range(len(X_test)) :\n",
    "            distance = metric_funct(X_test[row])\n",
    "            distances.append(np.argsort(distance, axis = 0))\n",
    "        \n",
    "        for i in range(k_from, k_to, step) :\n",
    "            y_pred = []\n",
    "            for row in range(len(X_test)) :\n",
    "                y_pred.append(self.y_train[distances[row][:i]].mean())\n",
    "            scores.append(self.score(y_pred, y_test))\n",
    "            \n",
    "        k = np.arange(k_from,k_to,step)\n",
    "        plt.plot(k, scores, label = metric)\n",
    "        plt.title(\"RMSE according to K\")\n",
    "        plt.xlabel(\"k_neighbours\")\n",
    "        plt.ylabel(\"RMSE\")\n",
    "        plt.legend(loc=\"upper right\")\n",
    "        return k[np.argmin(scores)], np.min(scores) \n",
    "    \n",
    "    def best_params (self, X_test, y_test, k_from = 1, k_to = 20, step = 2) :\n",
    "        metrics = [\"euclidean\", \"manhattan\", \"cosine\"]\n",
    "        k_values = []\n",
    "        scores = []\n",
    "        \n",
    "        for metric in metrics :\n",
    "            print(\"search k for metric\", metric)\n",
    "            start = time.time()\n",
    "            \n",
    "            k, score = self._find_best_k(X_test, y_test, k_from, k_to, step, metric)\n",
    "            k_values.append(k)\n",
    "            scores.append(score)\n",
    "            \n",
    "            end = time.time()\n",
    "            print(\"done in\", (end-start)/60, \"min\")\n",
    "        \n",
    "        return {\n",
    "            \"metric\" : metrics[np.argmin(scores)], \n",
    "            \"k_neighbours\" : k_values[np.argmin(scores)]\n",
    "        }\n",
    "\n",
    "    def score(self, y_true, y_pred):\n",
    "        y_true = np.array(y_true)\n",
    "        y_pred = np.array(y_pred)\n",
    "        rmse = np.sqrt(((y_true - y_pred)**2).mean())\n",
    "        return rmse"
   ]
  },
  {
   "cell_type": "markdown",
   "metadata": {},
   "source": [
    "# Data sets"
   ]
  },
  {
   "cell_type": "markdown",
   "metadata": {},
   "source": [
    "## Diamonds"
   ]
  },
  {
   "cell_type": "markdown",
   "metadata": {},
   "source": [
    "### Baseline Model"
   ]
  },
  {
   "cell_type": "code",
   "execution_count": 96,
   "metadata": {},
   "outputs": [],
   "source": [
    "diamond = pd.read_csv(\"data/diamonds_dataset.csv\")"
   ]
  },
  {
   "cell_type": "code",
   "execution_count": 97,
   "metadata": {},
   "outputs": [
    {
     "data": {
      "text/html": [
       "<div>\n",
       "<style scoped>\n",
       "    .dataframe tbody tr th:only-of-type {\n",
       "        vertical-align: middle;\n",
       "    }\n",
       "\n",
       "    .dataframe tbody tr th {\n",
       "        vertical-align: top;\n",
       "    }\n",
       "\n",
       "    .dataframe thead th {\n",
       "        text-align: right;\n",
       "    }\n",
       "</style>\n",
       "<table border=\"1\" class=\"dataframe\">\n",
       "  <thead>\n",
       "    <tr style=\"text-align: right;\">\n",
       "      <th></th>\n",
       "      <th>id</th>\n",
       "      <th>url</th>\n",
       "      <th>shape</th>\n",
       "      <th>price</th>\n",
       "      <th>carat</th>\n",
       "      <th>cut</th>\n",
       "      <th>color</th>\n",
       "      <th>clarity</th>\n",
       "      <th>report</th>\n",
       "      <th>type</th>\n",
       "      <th>date_fetched</th>\n",
       "    </tr>\n",
       "  </thead>\n",
       "  <tbody>\n",
       "    <tr>\n",
       "      <th>0</th>\n",
       "      <td>10086429</td>\n",
       "      <td>https://www.brilliantearth.com//loose-diamonds...</td>\n",
       "      <td>Round</td>\n",
       "      <td>400</td>\n",
       "      <td>0.30</td>\n",
       "      <td>Very Good</td>\n",
       "      <td>J</td>\n",
       "      <td>SI2</td>\n",
       "      <td>GIA</td>\n",
       "      <td>natural</td>\n",
       "      <td>2020-11-29 12-26 PM</td>\n",
       "    </tr>\n",
       "    <tr>\n",
       "      <th>1</th>\n",
       "      <td>10016334</td>\n",
       "      <td>https://www.brilliantearth.com//loose-diamonds...</td>\n",
       "      <td>Emerald</td>\n",
       "      <td>400</td>\n",
       "      <td>0.31</td>\n",
       "      <td>Ideal</td>\n",
       "      <td>I</td>\n",
       "      <td>SI1</td>\n",
       "      <td>GIA</td>\n",
       "      <td>natural</td>\n",
       "      <td>2020-11-29 12-26 PM</td>\n",
       "    </tr>\n",
       "    <tr>\n",
       "      <th>2</th>\n",
       "      <td>9947216</td>\n",
       "      <td>https://www.brilliantearth.com//loose-diamonds...</td>\n",
       "      <td>Emerald</td>\n",
       "      <td>400</td>\n",
       "      <td>0.30</td>\n",
       "      <td>Ideal</td>\n",
       "      <td>I</td>\n",
       "      <td>VS2</td>\n",
       "      <td>GIA</td>\n",
       "      <td>natural</td>\n",
       "      <td>2020-11-29 12-26 PM</td>\n",
       "    </tr>\n",
       "    <tr>\n",
       "      <th>3</th>\n",
       "      <td>10083437</td>\n",
       "      <td>https://www.brilliantearth.com//loose-diamonds...</td>\n",
       "      <td>Round</td>\n",
       "      <td>400</td>\n",
       "      <td>0.30</td>\n",
       "      <td>Ideal</td>\n",
       "      <td>I</td>\n",
       "      <td>SI2</td>\n",
       "      <td>GIA</td>\n",
       "      <td>natural</td>\n",
       "      <td>2020-11-29 12-26 PM</td>\n",
       "    </tr>\n",
       "    <tr>\n",
       "      <th>4</th>\n",
       "      <td>9946136</td>\n",
       "      <td>https://www.brilliantearth.com//loose-diamonds...</td>\n",
       "      <td>Emerald</td>\n",
       "      <td>400</td>\n",
       "      <td>0.30</td>\n",
       "      <td>Ideal</td>\n",
       "      <td>I</td>\n",
       "      <td>SI1</td>\n",
       "      <td>GIA</td>\n",
       "      <td>natural</td>\n",
       "      <td>2020-11-29 12-26 PM</td>\n",
       "    </tr>\n",
       "    <tr>\n",
       "      <th>...</th>\n",
       "      <td>...</td>\n",
       "      <td>...</td>\n",
       "      <td>...</td>\n",
       "      <td>...</td>\n",
       "      <td>...</td>\n",
       "      <td>...</td>\n",
       "      <td>...</td>\n",
       "      <td>...</td>\n",
       "      <td>...</td>\n",
       "      <td>...</td>\n",
       "      <td>...</td>\n",
       "    </tr>\n",
       "    <tr>\n",
       "      <th>119302</th>\n",
       "      <td>10081678</td>\n",
       "      <td>https://www.brilliantearth.com//lab-diamonds-s...</td>\n",
       "      <td>Round</td>\n",
       "      <td>99040</td>\n",
       "      <td>5.71</td>\n",
       "      <td>Super Ideal</td>\n",
       "      <td>D</td>\n",
       "      <td>VVS2</td>\n",
       "      <td>GCAL</td>\n",
       "      <td>lab</td>\n",
       "      <td>2020-11-29 12-26 PM</td>\n",
       "    </tr>\n",
       "    <tr>\n",
       "      <th>119303</th>\n",
       "      <td>9521564</td>\n",
       "      <td>https://www.brilliantearth.com//lab-diamonds-s...</td>\n",
       "      <td>Cushion</td>\n",
       "      <td>107330</td>\n",
       "      <td>15.32</td>\n",
       "      <td>Very Good</td>\n",
       "      <td>G</td>\n",
       "      <td>SI2</td>\n",
       "      <td>IGI</td>\n",
       "      <td>lab</td>\n",
       "      <td>2020-11-29 12-26 PM</td>\n",
       "    </tr>\n",
       "    <tr>\n",
       "      <th>119304</th>\n",
       "      <td>9896730</td>\n",
       "      <td>https://www.brilliantearth.com//lab-diamonds-s...</td>\n",
       "      <td>Cushion</td>\n",
       "      <td>110110</td>\n",
       "      <td>10.05</td>\n",
       "      <td>Ideal</td>\n",
       "      <td>D</td>\n",
       "      <td>SI2</td>\n",
       "      <td>IGI</td>\n",
       "      <td>lab</td>\n",
       "      <td>2020-11-29 12-26 PM</td>\n",
       "    </tr>\n",
       "    <tr>\n",
       "      <th>119305</th>\n",
       "      <td>9756570</td>\n",
       "      <td>https://www.brilliantearth.com//lab-diamonds-s...</td>\n",
       "      <td>Oval</td>\n",
       "      <td>126030</td>\n",
       "      <td>10.33</td>\n",
       "      <td>Fair</td>\n",
       "      <td>D</td>\n",
       "      <td>VS2</td>\n",
       "      <td>IGI</td>\n",
       "      <td>lab</td>\n",
       "      <td>2020-11-29 12-26 PM</td>\n",
       "    </tr>\n",
       "    <tr>\n",
       "      <th>119306</th>\n",
       "      <td>9293400</td>\n",
       "      <td>https://www.brilliantearth.com//lab-diamonds-s...</td>\n",
       "      <td>Cushion</td>\n",
       "      <td>141710</td>\n",
       "      <td>10.25</td>\n",
       "      <td>Good</td>\n",
       "      <td>E</td>\n",
       "      <td>VS1</td>\n",
       "      <td>IGI</td>\n",
       "      <td>lab</td>\n",
       "      <td>2020-11-29 12-26 PM</td>\n",
       "    </tr>\n",
       "  </tbody>\n",
       "</table>\n",
       "<p>119307 rows × 11 columns</p>\n",
       "</div>"
      ],
      "text/plain": [
       "              id                                                url    shape  \\\n",
       "0       10086429  https://www.brilliantearth.com//loose-diamonds...    Round   \n",
       "1       10016334  https://www.brilliantearth.com//loose-diamonds...  Emerald   \n",
       "2        9947216  https://www.brilliantearth.com//loose-diamonds...  Emerald   \n",
       "3       10083437  https://www.brilliantearth.com//loose-diamonds...    Round   \n",
       "4        9946136  https://www.brilliantearth.com//loose-diamonds...  Emerald   \n",
       "...          ...                                                ...      ...   \n",
       "119302  10081678  https://www.brilliantearth.com//lab-diamonds-s...    Round   \n",
       "119303   9521564  https://www.brilliantearth.com//lab-diamonds-s...  Cushion   \n",
       "119304   9896730  https://www.brilliantearth.com//lab-diamonds-s...  Cushion   \n",
       "119305   9756570  https://www.brilliantearth.com//lab-diamonds-s...     Oval   \n",
       "119306   9293400  https://www.brilliantearth.com//lab-diamonds-s...  Cushion   \n",
       "\n",
       "         price  carat          cut color clarity report     type  \\\n",
       "0          400   0.30    Very Good     J     SI2    GIA  natural   \n",
       "1          400   0.31        Ideal     I     SI1    GIA  natural   \n",
       "2          400   0.30        Ideal     I     VS2    GIA  natural   \n",
       "3          400   0.30        Ideal     I     SI2    GIA  natural   \n",
       "4          400   0.30        Ideal     I     SI1    GIA  natural   \n",
       "...        ...    ...          ...   ...     ...    ...      ...   \n",
       "119302   99040   5.71  Super Ideal     D    VVS2   GCAL      lab   \n",
       "119303  107330  15.32    Very Good     G     SI2    IGI      lab   \n",
       "119304  110110  10.05        Ideal     D     SI2    IGI      lab   \n",
       "119305  126030  10.33         Fair     D     VS2    IGI      lab   \n",
       "119306  141710  10.25         Good     E     VS1    IGI      lab   \n",
       "\n",
       "               date_fetched  \n",
       "0       2020-11-29 12-26 PM  \n",
       "1       2020-11-29 12-26 PM  \n",
       "2       2020-11-29 12-26 PM  \n",
       "3       2020-11-29 12-26 PM  \n",
       "4       2020-11-29 12-26 PM  \n",
       "...                     ...  \n",
       "119302  2020-11-29 12-26 PM  \n",
       "119303  2020-11-29 12-26 PM  \n",
       "119304  2020-11-29 12-26 PM  \n",
       "119305  2020-11-29 12-26 PM  \n",
       "119306  2020-11-29 12-26 PM  \n",
       "\n",
       "[119307 rows x 11 columns]"
      ]
     },
     "execution_count": 97,
     "metadata": {},
     "output_type": "execute_result"
    }
   ],
   "source": [
    "diamond"
   ]
  },
  {
   "cell_type": "code",
   "execution_count": 98,
   "metadata": {},
   "outputs": [
    {
     "data": {
      "text/plain": [
       "id              0\n",
       "url             0\n",
       "shape           0\n",
       "price           0\n",
       "carat           0\n",
       "cut             0\n",
       "color           0\n",
       "clarity         0\n",
       "report          0\n",
       "type            0\n",
       "date_fetched    0\n",
       "dtype: int64"
      ]
     },
     "execution_count": 98,
     "metadata": {},
     "output_type": "execute_result"
    }
   ],
   "source": [
    "diamond.isna().sum()"
   ]
  },
  {
   "cell_type": "code",
   "execution_count": 99,
   "metadata": {},
   "outputs": [
    {
     "data": {
      "text/plain": [
       "array(['Very Good', 'Ideal', 'Super Ideal', 'Good', 'Fair'], dtype=object)"
      ]
     },
     "execution_count": 99,
     "metadata": {},
     "output_type": "execute_result"
    }
   ],
   "source": [
    "diamond['cut'].unique()"
   ]
  },
  {
   "cell_type": "code",
   "execution_count": 100,
   "metadata": {},
   "outputs": [
    {
     "data": {
      "text/plain": [
       "array(['J', 'I', 'E', 'F', 'G', 'H', 'D'], dtype=object)"
      ]
     },
     "execution_count": 100,
     "metadata": {},
     "output_type": "execute_result"
    }
   ],
   "source": [
    "diamond['color'].unique()"
   ]
  },
  {
   "cell_type": "code",
   "execution_count": 101,
   "metadata": {},
   "outputs": [
    {
     "data": {
      "text/plain": [
       "array(['Round', 'Emerald', 'Marquise', 'Princess', 'Pear', 'Heart',\n",
       "       'Oval', 'Cushion', 'Asscher', 'Radiant'], dtype=object)"
      ]
     },
     "execution_count": 101,
     "metadata": {},
     "output_type": "execute_result"
    }
   ],
   "source": [
    "diamond['shape'].unique()"
   ]
  },
  {
   "cell_type": "code",
   "execution_count": 102,
   "metadata": {},
   "outputs": [
    {
     "data": {
      "text/plain": [
       "array(['natural', 'lab'], dtype=object)"
      ]
     },
     "execution_count": 102,
     "metadata": {},
     "output_type": "execute_result"
    }
   ],
   "source": [
    "diamond['type'].unique()"
   ]
  },
  {
   "cell_type": "code",
   "execution_count": 103,
   "metadata": {},
   "outputs": [],
   "source": [
    "diamond.drop(['id', 'url', 'date_fetched', 'report', 'type', 'cut'], axis=1, inplace=True)"
   ]
  },
  {
   "cell_type": "code",
   "execution_count": 104,
   "metadata": {},
   "outputs": [
    {
     "data": {
      "text/html": [
       "<div>\n",
       "<style scoped>\n",
       "    .dataframe tbody tr th:only-of-type {\n",
       "        vertical-align: middle;\n",
       "    }\n",
       "\n",
       "    .dataframe tbody tr th {\n",
       "        vertical-align: top;\n",
       "    }\n",
       "\n",
       "    .dataframe thead th {\n",
       "        text-align: right;\n",
       "    }\n",
       "</style>\n",
       "<table border=\"1\" class=\"dataframe\">\n",
       "  <thead>\n",
       "    <tr style=\"text-align: right;\">\n",
       "      <th></th>\n",
       "      <th>shape</th>\n",
       "      <th>price</th>\n",
       "      <th>carat</th>\n",
       "      <th>color</th>\n",
       "      <th>clarity</th>\n",
       "    </tr>\n",
       "  </thead>\n",
       "  <tbody>\n",
       "    <tr>\n",
       "      <th>0</th>\n",
       "      <td>Round</td>\n",
       "      <td>400</td>\n",
       "      <td>0.30</td>\n",
       "      <td>J</td>\n",
       "      <td>SI2</td>\n",
       "    </tr>\n",
       "    <tr>\n",
       "      <th>1</th>\n",
       "      <td>Emerald</td>\n",
       "      <td>400</td>\n",
       "      <td>0.31</td>\n",
       "      <td>I</td>\n",
       "      <td>SI1</td>\n",
       "    </tr>\n",
       "    <tr>\n",
       "      <th>2</th>\n",
       "      <td>Emerald</td>\n",
       "      <td>400</td>\n",
       "      <td>0.30</td>\n",
       "      <td>I</td>\n",
       "      <td>VS2</td>\n",
       "    </tr>\n",
       "    <tr>\n",
       "      <th>3</th>\n",
       "      <td>Round</td>\n",
       "      <td>400</td>\n",
       "      <td>0.30</td>\n",
       "      <td>I</td>\n",
       "      <td>SI2</td>\n",
       "    </tr>\n",
       "    <tr>\n",
       "      <th>4</th>\n",
       "      <td>Emerald</td>\n",
       "      <td>400</td>\n",
       "      <td>0.30</td>\n",
       "      <td>I</td>\n",
       "      <td>SI1</td>\n",
       "    </tr>\n",
       "    <tr>\n",
       "      <th>...</th>\n",
       "      <td>...</td>\n",
       "      <td>...</td>\n",
       "      <td>...</td>\n",
       "      <td>...</td>\n",
       "      <td>...</td>\n",
       "    </tr>\n",
       "    <tr>\n",
       "      <th>119302</th>\n",
       "      <td>Round</td>\n",
       "      <td>99040</td>\n",
       "      <td>5.71</td>\n",
       "      <td>D</td>\n",
       "      <td>VVS2</td>\n",
       "    </tr>\n",
       "    <tr>\n",
       "      <th>119303</th>\n",
       "      <td>Cushion</td>\n",
       "      <td>107330</td>\n",
       "      <td>15.32</td>\n",
       "      <td>G</td>\n",
       "      <td>SI2</td>\n",
       "    </tr>\n",
       "    <tr>\n",
       "      <th>119304</th>\n",
       "      <td>Cushion</td>\n",
       "      <td>110110</td>\n",
       "      <td>10.05</td>\n",
       "      <td>D</td>\n",
       "      <td>SI2</td>\n",
       "    </tr>\n",
       "    <tr>\n",
       "      <th>119305</th>\n",
       "      <td>Oval</td>\n",
       "      <td>126030</td>\n",
       "      <td>10.33</td>\n",
       "      <td>D</td>\n",
       "      <td>VS2</td>\n",
       "    </tr>\n",
       "    <tr>\n",
       "      <th>119306</th>\n",
       "      <td>Cushion</td>\n",
       "      <td>141710</td>\n",
       "      <td>10.25</td>\n",
       "      <td>E</td>\n",
       "      <td>VS1</td>\n",
       "    </tr>\n",
       "  </tbody>\n",
       "</table>\n",
       "<p>119307 rows × 5 columns</p>\n",
       "</div>"
      ],
      "text/plain": [
       "          shape   price  carat color clarity\n",
       "0         Round     400   0.30     J     SI2\n",
       "1       Emerald     400   0.31     I     SI1\n",
       "2       Emerald     400   0.30     I     VS2\n",
       "3         Round     400   0.30     I     SI2\n",
       "4       Emerald     400   0.30     I     SI1\n",
       "...         ...     ...    ...   ...     ...\n",
       "119302    Round   99040   5.71     D    VVS2\n",
       "119303  Cushion  107330  15.32     G     SI2\n",
       "119304  Cushion  110110  10.05     D     SI2\n",
       "119305     Oval  126030  10.33     D     VS2\n",
       "119306  Cushion  141710  10.25     E     VS1\n",
       "\n",
       "[119307 rows x 5 columns]"
      ]
     },
     "execution_count": 104,
     "metadata": {},
     "output_type": "execute_result"
    }
   ],
   "source": [
    "diamond"
   ]
  },
  {
   "cell_type": "code",
   "execution_count": 105,
   "metadata": {},
   "outputs": [],
   "source": [
    "diamond_enc = pd.get_dummies(diamond[['shape', 'color', 'clarity']])\n",
    "diamond_enc['price'] = diamond.price\n",
    "diamond_enc['carat'] = diamond.carat\n"
   ]
  },
  {
   "cell_type": "code",
   "execution_count": 106,
   "metadata": {},
   "outputs": [
    {
     "data": {
      "text/html": [
       "<div>\n",
       "<style scoped>\n",
       "    .dataframe tbody tr th:only-of-type {\n",
       "        vertical-align: middle;\n",
       "    }\n",
       "\n",
       "    .dataframe tbody tr th {\n",
       "        vertical-align: top;\n",
       "    }\n",
       "\n",
       "    .dataframe thead th {\n",
       "        text-align: right;\n",
       "    }\n",
       "</style>\n",
       "<table border=\"1\" class=\"dataframe\">\n",
       "  <thead>\n",
       "    <tr style=\"text-align: right;\">\n",
       "      <th></th>\n",
       "      <th>shape_Asscher</th>\n",
       "      <th>shape_Cushion</th>\n",
       "      <th>shape_Emerald</th>\n",
       "      <th>shape_Heart</th>\n",
       "      <th>shape_Marquise</th>\n",
       "      <th>shape_Oval</th>\n",
       "      <th>shape_Pear</th>\n",
       "      <th>shape_Princess</th>\n",
       "      <th>shape_Radiant</th>\n",
       "      <th>shape_Round</th>\n",
       "      <th>...</th>\n",
       "      <th>clarity_FL</th>\n",
       "      <th>clarity_IF</th>\n",
       "      <th>clarity_SI1</th>\n",
       "      <th>clarity_SI2</th>\n",
       "      <th>clarity_VS1</th>\n",
       "      <th>clarity_VS2</th>\n",
       "      <th>clarity_VVS1</th>\n",
       "      <th>clarity_VVS2</th>\n",
       "      <th>price</th>\n",
       "      <th>carat</th>\n",
       "    </tr>\n",
       "  </thead>\n",
       "  <tbody>\n",
       "    <tr>\n",
       "      <th>0</th>\n",
       "      <td>0</td>\n",
       "      <td>0</td>\n",
       "      <td>0</td>\n",
       "      <td>0</td>\n",
       "      <td>0</td>\n",
       "      <td>0</td>\n",
       "      <td>0</td>\n",
       "      <td>0</td>\n",
       "      <td>0</td>\n",
       "      <td>1</td>\n",
       "      <td>...</td>\n",
       "      <td>0</td>\n",
       "      <td>0</td>\n",
       "      <td>0</td>\n",
       "      <td>1</td>\n",
       "      <td>0</td>\n",
       "      <td>0</td>\n",
       "      <td>0</td>\n",
       "      <td>0</td>\n",
       "      <td>400</td>\n",
       "      <td>0.30</td>\n",
       "    </tr>\n",
       "    <tr>\n",
       "      <th>1</th>\n",
       "      <td>0</td>\n",
       "      <td>0</td>\n",
       "      <td>1</td>\n",
       "      <td>0</td>\n",
       "      <td>0</td>\n",
       "      <td>0</td>\n",
       "      <td>0</td>\n",
       "      <td>0</td>\n",
       "      <td>0</td>\n",
       "      <td>0</td>\n",
       "      <td>...</td>\n",
       "      <td>0</td>\n",
       "      <td>0</td>\n",
       "      <td>1</td>\n",
       "      <td>0</td>\n",
       "      <td>0</td>\n",
       "      <td>0</td>\n",
       "      <td>0</td>\n",
       "      <td>0</td>\n",
       "      <td>400</td>\n",
       "      <td>0.31</td>\n",
       "    </tr>\n",
       "    <tr>\n",
       "      <th>2</th>\n",
       "      <td>0</td>\n",
       "      <td>0</td>\n",
       "      <td>1</td>\n",
       "      <td>0</td>\n",
       "      <td>0</td>\n",
       "      <td>0</td>\n",
       "      <td>0</td>\n",
       "      <td>0</td>\n",
       "      <td>0</td>\n",
       "      <td>0</td>\n",
       "      <td>...</td>\n",
       "      <td>0</td>\n",
       "      <td>0</td>\n",
       "      <td>0</td>\n",
       "      <td>0</td>\n",
       "      <td>0</td>\n",
       "      <td>1</td>\n",
       "      <td>0</td>\n",
       "      <td>0</td>\n",
       "      <td>400</td>\n",
       "      <td>0.30</td>\n",
       "    </tr>\n",
       "    <tr>\n",
       "      <th>3</th>\n",
       "      <td>0</td>\n",
       "      <td>0</td>\n",
       "      <td>0</td>\n",
       "      <td>0</td>\n",
       "      <td>0</td>\n",
       "      <td>0</td>\n",
       "      <td>0</td>\n",
       "      <td>0</td>\n",
       "      <td>0</td>\n",
       "      <td>1</td>\n",
       "      <td>...</td>\n",
       "      <td>0</td>\n",
       "      <td>0</td>\n",
       "      <td>0</td>\n",
       "      <td>1</td>\n",
       "      <td>0</td>\n",
       "      <td>0</td>\n",
       "      <td>0</td>\n",
       "      <td>0</td>\n",
       "      <td>400</td>\n",
       "      <td>0.30</td>\n",
       "    </tr>\n",
       "    <tr>\n",
       "      <th>4</th>\n",
       "      <td>0</td>\n",
       "      <td>0</td>\n",
       "      <td>1</td>\n",
       "      <td>0</td>\n",
       "      <td>0</td>\n",
       "      <td>0</td>\n",
       "      <td>0</td>\n",
       "      <td>0</td>\n",
       "      <td>0</td>\n",
       "      <td>0</td>\n",
       "      <td>...</td>\n",
       "      <td>0</td>\n",
       "      <td>0</td>\n",
       "      <td>1</td>\n",
       "      <td>0</td>\n",
       "      <td>0</td>\n",
       "      <td>0</td>\n",
       "      <td>0</td>\n",
       "      <td>0</td>\n",
       "      <td>400</td>\n",
       "      <td>0.30</td>\n",
       "    </tr>\n",
       "    <tr>\n",
       "      <th>...</th>\n",
       "      <td>...</td>\n",
       "      <td>...</td>\n",
       "      <td>...</td>\n",
       "      <td>...</td>\n",
       "      <td>...</td>\n",
       "      <td>...</td>\n",
       "      <td>...</td>\n",
       "      <td>...</td>\n",
       "      <td>...</td>\n",
       "      <td>...</td>\n",
       "      <td>...</td>\n",
       "      <td>...</td>\n",
       "      <td>...</td>\n",
       "      <td>...</td>\n",
       "      <td>...</td>\n",
       "      <td>...</td>\n",
       "      <td>...</td>\n",
       "      <td>...</td>\n",
       "      <td>...</td>\n",
       "      <td>...</td>\n",
       "      <td>...</td>\n",
       "    </tr>\n",
       "    <tr>\n",
       "      <th>119302</th>\n",
       "      <td>0</td>\n",
       "      <td>0</td>\n",
       "      <td>0</td>\n",
       "      <td>0</td>\n",
       "      <td>0</td>\n",
       "      <td>0</td>\n",
       "      <td>0</td>\n",
       "      <td>0</td>\n",
       "      <td>0</td>\n",
       "      <td>1</td>\n",
       "      <td>...</td>\n",
       "      <td>0</td>\n",
       "      <td>0</td>\n",
       "      <td>0</td>\n",
       "      <td>0</td>\n",
       "      <td>0</td>\n",
       "      <td>0</td>\n",
       "      <td>0</td>\n",
       "      <td>1</td>\n",
       "      <td>99040</td>\n",
       "      <td>5.71</td>\n",
       "    </tr>\n",
       "    <tr>\n",
       "      <th>119303</th>\n",
       "      <td>0</td>\n",
       "      <td>1</td>\n",
       "      <td>0</td>\n",
       "      <td>0</td>\n",
       "      <td>0</td>\n",
       "      <td>0</td>\n",
       "      <td>0</td>\n",
       "      <td>0</td>\n",
       "      <td>0</td>\n",
       "      <td>0</td>\n",
       "      <td>...</td>\n",
       "      <td>0</td>\n",
       "      <td>0</td>\n",
       "      <td>0</td>\n",
       "      <td>1</td>\n",
       "      <td>0</td>\n",
       "      <td>0</td>\n",
       "      <td>0</td>\n",
       "      <td>0</td>\n",
       "      <td>107330</td>\n",
       "      <td>15.32</td>\n",
       "    </tr>\n",
       "    <tr>\n",
       "      <th>119304</th>\n",
       "      <td>0</td>\n",
       "      <td>1</td>\n",
       "      <td>0</td>\n",
       "      <td>0</td>\n",
       "      <td>0</td>\n",
       "      <td>0</td>\n",
       "      <td>0</td>\n",
       "      <td>0</td>\n",
       "      <td>0</td>\n",
       "      <td>0</td>\n",
       "      <td>...</td>\n",
       "      <td>0</td>\n",
       "      <td>0</td>\n",
       "      <td>0</td>\n",
       "      <td>1</td>\n",
       "      <td>0</td>\n",
       "      <td>0</td>\n",
       "      <td>0</td>\n",
       "      <td>0</td>\n",
       "      <td>110110</td>\n",
       "      <td>10.05</td>\n",
       "    </tr>\n",
       "    <tr>\n",
       "      <th>119305</th>\n",
       "      <td>0</td>\n",
       "      <td>0</td>\n",
       "      <td>0</td>\n",
       "      <td>0</td>\n",
       "      <td>0</td>\n",
       "      <td>1</td>\n",
       "      <td>0</td>\n",
       "      <td>0</td>\n",
       "      <td>0</td>\n",
       "      <td>0</td>\n",
       "      <td>...</td>\n",
       "      <td>0</td>\n",
       "      <td>0</td>\n",
       "      <td>0</td>\n",
       "      <td>0</td>\n",
       "      <td>0</td>\n",
       "      <td>1</td>\n",
       "      <td>0</td>\n",
       "      <td>0</td>\n",
       "      <td>126030</td>\n",
       "      <td>10.33</td>\n",
       "    </tr>\n",
       "    <tr>\n",
       "      <th>119306</th>\n",
       "      <td>0</td>\n",
       "      <td>1</td>\n",
       "      <td>0</td>\n",
       "      <td>0</td>\n",
       "      <td>0</td>\n",
       "      <td>0</td>\n",
       "      <td>0</td>\n",
       "      <td>0</td>\n",
       "      <td>0</td>\n",
       "      <td>0</td>\n",
       "      <td>...</td>\n",
       "      <td>0</td>\n",
       "      <td>0</td>\n",
       "      <td>0</td>\n",
       "      <td>0</td>\n",
       "      <td>1</td>\n",
       "      <td>0</td>\n",
       "      <td>0</td>\n",
       "      <td>0</td>\n",
       "      <td>141710</td>\n",
       "      <td>10.25</td>\n",
       "    </tr>\n",
       "  </tbody>\n",
       "</table>\n",
       "<p>119307 rows × 27 columns</p>\n",
       "</div>"
      ],
      "text/plain": [
       "        shape_Asscher  shape_Cushion  shape_Emerald  shape_Heart  \\\n",
       "0                   0              0              0            0   \n",
       "1                   0              0              1            0   \n",
       "2                   0              0              1            0   \n",
       "3                   0              0              0            0   \n",
       "4                   0              0              1            0   \n",
       "...               ...            ...            ...          ...   \n",
       "119302              0              0              0            0   \n",
       "119303              0              1              0            0   \n",
       "119304              0              1              0            0   \n",
       "119305              0              0              0            0   \n",
       "119306              0              1              0            0   \n",
       "\n",
       "        shape_Marquise  shape_Oval  shape_Pear  shape_Princess  shape_Radiant  \\\n",
       "0                    0           0           0               0              0   \n",
       "1                    0           0           0               0              0   \n",
       "2                    0           0           0               0              0   \n",
       "3                    0           0           0               0              0   \n",
       "4                    0           0           0               0              0   \n",
       "...                ...         ...         ...             ...            ...   \n",
       "119302               0           0           0               0              0   \n",
       "119303               0           0           0               0              0   \n",
       "119304               0           0           0               0              0   \n",
       "119305               0           1           0               0              0   \n",
       "119306               0           0           0               0              0   \n",
       "\n",
       "        shape_Round  ...  clarity_FL  clarity_IF  clarity_SI1  clarity_SI2  \\\n",
       "0                 1  ...           0           0            0            1   \n",
       "1                 0  ...           0           0            1            0   \n",
       "2                 0  ...           0           0            0            0   \n",
       "3                 1  ...           0           0            0            1   \n",
       "4                 0  ...           0           0            1            0   \n",
       "...             ...  ...         ...         ...          ...          ...   \n",
       "119302            1  ...           0           0            0            0   \n",
       "119303            0  ...           0           0            0            1   \n",
       "119304            0  ...           0           0            0            1   \n",
       "119305            0  ...           0           0            0            0   \n",
       "119306            0  ...           0           0            0            0   \n",
       "\n",
       "        clarity_VS1  clarity_VS2  clarity_VVS1  clarity_VVS2   price  carat  \n",
       "0                 0            0             0             0     400   0.30  \n",
       "1                 0            0             0             0     400   0.31  \n",
       "2                 0            1             0             0     400   0.30  \n",
       "3                 0            0             0             0     400   0.30  \n",
       "4                 0            0             0             0     400   0.30  \n",
       "...             ...          ...           ...           ...     ...    ...  \n",
       "119302            0            0             0             1   99040   5.71  \n",
       "119303            0            0             0             0  107330  15.32  \n",
       "119304            0            0             0             0  110110  10.05  \n",
       "119305            0            1             0             0  126030  10.33  \n",
       "119306            1            0             0             0  141710  10.25  \n",
       "\n",
       "[119307 rows x 27 columns]"
      ]
     },
     "execution_count": 106,
     "metadata": {},
     "output_type": "execute_result"
    }
   ],
   "source": [
    "diamond_enc"
   ]
  },
  {
   "cell_type": "code",
   "execution_count": 107,
   "metadata": {},
   "outputs": [],
   "source": [
    "x_diamonds = diamond_enc.drop(\"price\", axis=1)\n",
    "y_diamonds = diamond_enc['price']"
   ]
  },
  {
   "cell_type": "code",
   "execution_count": 108,
   "metadata": {},
   "outputs": [],
   "source": [
    "scaler = MinMaxScaler()\n",
    "x_diamonds_scaled = scaler.fit_transform(x_diamonds)"
   ]
  },
  {
   "cell_type": "code",
   "execution_count": 109,
   "metadata": {},
   "outputs": [],
   "source": [
    "x_diamonds_train, x_diamonds_test, y_diamonds_train, y_diamonds_test = train_test_split(x_diamonds_scaled, y_diamonds, test_size=0.2)"
   ]
  },
  {
   "cell_type": "code",
   "execution_count": 110,
   "metadata": {},
   "outputs": [
    {
     "data": {
      "text/plain": [
       "((95445, 26), (95445,), (23862, 26), (23862,))"
      ]
     },
     "execution_count": 110,
     "metadata": {},
     "output_type": "execute_result"
    }
   ],
   "source": [
    "x_diamonds_train.shape, y_diamonds_train.shape, x_diamonds_test.shape, y_diamonds_test.shape"
   ]
  },
  {
   "cell_type": "code",
   "execution_count": 111,
   "metadata": {},
   "outputs": [],
   "source": [
    "x_diamonds_train = pd.DataFrame(x_diamonds_train)"
   ]
  },
  {
   "cell_type": "code",
   "execution_count": 112,
   "metadata": {},
   "outputs": [],
   "source": [
    "def get_model_score(pipeline, X_train, X_test, y_train, y_test):\n",
    "    \n",
    "    pipeline.fit(X_train, y_train)\n",
    "    \n",
    "    cv = cross_val_score(pipeline, X_train, y_train, scoring = 'r2', cv = 5)\n",
    "    cv_score = cv.mean()\n",
    "    \n",
    "    r2_score_train = r2_score(y_train, pipeline.predict(X_train))\n",
    "    r2_score_test = r2_score(y_test, pipeline.predict(X_test))\n",
    "    \n",
    "    mse_train = mean_absolute_error(y_train, pipeline.predict(X_train))\n",
    "    mse_test = mean_absolute_error(y_test, pipeline.predict(X_test))\n",
    "    \n",
    "    mae_train = median_absolute_error(y_train, pipeline.predict(X_train))\n",
    "    mae_test = median_absolute_error(y_test, pipeline.predict(X_test)) \n",
    "    \n",
    "    print(\"Mean CV score: \",cv_score)\n",
    "    print(\"R2 score_train: \", r2_score_train)\n",
    "    print(\"R2 score_test: \", r2_score_test)\n",
    "    print(\"Train Mean Squeare Error: \", mse_train)\n",
    "    print(\"Test Mean Squeare Error: \", mse_test)\n",
    "    print(\"Train Mean Absolute Error: \", mae_train)\n",
    "    print(\"Test Mean Absolute Error: \", mae_test)"
   ]
  },
  {
   "cell_type": "markdown",
   "metadata": {},
   "source": [
    "### Baseline Model"
   ]
  },
  {
   "cell_type": "code",
   "execution_count": 113,
   "metadata": {},
   "outputs": [],
   "source": [
    "linear = Pipeline([\n",
    "    ('scaler', MinMaxScaler()),\n",
    "    ('lin_reg', Ridge())\n",
    "])"
   ]
  },
  {
   "cell_type": "code",
   "execution_count": 114,
   "metadata": {},
   "outputs": [
    {
     "name": "stdout",
     "output_type": "stream",
     "text": [
      "Mean CV score:  0.4136791676856399\n",
      "R2 score_train:  0.3747580633266553\n",
      "R2 score_test:  0.33738380750892305\n",
      "Train Mean Squeare Error:  2211.093026448925\n",
      "Test Mean Squeare Error:  2278.109880354553\n",
      "Train Mean Absolute Error:  1478.2907866666965\n",
      "Test Mean Absolute Error:  1481.357279075225\n"
     ]
    }
   ],
   "source": [
    "get_model_score(linear, x_diamonds_train, x_diamonds_test, y_diamonds_train, y_diamonds_test)"
   ]
  },
  {
   "cell_type": "code",
   "execution_count": 115,
   "metadata": {},
   "outputs": [],
   "source": [
    "dt = Pipeline([\n",
    "    ('scaler', MinMaxScaler()),\n",
    "    ('df_reg', DecisionTreeRegressor(min_samples_split=4))\n",
    "])"
   ]
  },
  {
   "cell_type": "code",
   "execution_count": 116,
   "metadata": {},
   "outputs": [
    {
     "name": "stdout",
     "output_type": "stream",
     "text": [
      "Mean CV score:  0.3938138631855661\n",
      "R2 score_train:  0.9487883192657246\n",
      "R2 score_test:  0.4536715628807486\n",
      "Train Mean Squeare Error:  599.49528697441\n",
      "Test Mean Squeare Error:  1079.4278768938602\n",
      "Train Mean Absolute Error:  173.33333333333337\n",
      "Test Mean Absolute Error:  236.58116883116884\n"
     ]
    }
   ],
   "source": [
    "get_model_score(dt, x_diamonds_train, x_diamonds_test, y_diamonds_train, y_diamonds_test)"
   ]
  },
  {
   "cell_type": "code",
   "execution_count": 117,
   "metadata": {},
   "outputs": [],
   "source": [
    "ada = Pipeline([\n",
    "    ('scaler', MinMaxScaler()),\n",
    "    ('ada_reg', AdaBoostRegressor())\n",
    "])"
   ]
  },
  {
   "cell_type": "code",
   "execution_count": 118,
   "metadata": {},
   "outputs": [
    {
     "name": "stdout",
     "output_type": "stream",
     "text": [
      "Mean CV score:  0.38713256010795594\n",
      "R2 score_train:  0.7315996328561147\n",
      "R2 score_test:  0.6162610081147095\n",
      "Train Mean Squeare Error:  2331.2037564358893\n",
      "Test Mean Squeare Error:  2427.4596414054226\n",
      "Train Mean Absolute Error:  1804.42067517929\n",
      "Test Mean Absolute Error:  1804.42067517929\n"
     ]
    }
   ],
   "source": [
    "get_model_score(ada, x_diamonds_train, x_diamonds_test, y_diamonds_train, y_diamonds_test)"
   ]
  },
  {
   "cell_type": "code",
   "execution_count": 119,
   "metadata": {},
   "outputs": [],
   "source": [
    "grad = Pipeline([\n",
    "    ('scaler', MinMaxScaler()),\n",
    "    ('grad_reg', GradientBoostingRegressor())\n",
    "])"
   ]
  },
  {
   "cell_type": "code",
   "execution_count": 120,
   "metadata": {},
   "outputs": [
    {
     "name": "stdout",
     "output_type": "stream",
     "text": [
      "Mean CV score:  0.5748093231068842\n",
      "R2 score_train:  0.8964823649987931\n",
      "R2 score_test:  0.6958328506406151\n",
      "Train Mean Squeare Error:  1134.9044706116574\n",
      "Test Mean Squeare Error:  1233.3003543914228\n",
      "Train Mean Absolute Error:  551.68127796658\n",
      "Test Mean Absolute Error:  551.68127796658\n"
     ]
    }
   ],
   "source": [
    "get_model_score(grad, x_diamonds_train, x_diamonds_test, y_diamonds_train, y_diamonds_test)"
   ]
  },
  {
   "cell_type": "markdown",
   "metadata": {},
   "source": [
    "### Gradient Descent"
   ]
  },
  {
   "cell_type": "code",
   "execution_count": 121,
   "metadata": {},
   "outputs": [],
   "source": [
    "my_lr = Pipeline([\n",
    "    ('scaler', MinMaxScaler()),\n",
    "    ('lr_reg', LinearRegression(alpha=1, itterations=1000))\n",
    "])"
   ]
  },
  {
   "cell_type": "code",
   "execution_count": 122,
   "metadata": {},
   "outputs": [
    {
     "name": "stdout",
     "output_type": "stream",
     "text": [
      "Mean CV score:  0.23189597058120723\n",
      "R2 score_train:  0.1892344839554666\n",
      "R2 score_test:  0.15323878882438302\n",
      "Train Mean Squeare Error:  1918.9965752142384\n",
      "Test Mean Squeare Error:  2010.7567269211424\n",
      "Train Mean Absolute Error:  1208.5846668472439\n",
      "Test Mean Absolute Error:  1216.2947261271938\n"
     ]
    }
   ],
   "source": [
    "get_model_score(my_lr, x_diamonds_train, x_diamonds_test, y_diamonds_train, y_diamonds_test)"
   ]
  },
  {
   "cell_type": "code",
   "execution_count": 123,
   "metadata": {},
   "outputs": [],
   "source": [
    "dictDiamonds = {}"
   ]
  },
  {
   "cell_type": "markdown",
   "metadata": {},
   "source": [
    "The model has no regularization."
   ]
  },
  {
   "cell_type": "code",
   "execution_count": 124,
   "metadata": {},
   "outputs": [],
   "source": [
    "learning_rates = [0.0001, 0.001, 0.01, 0.1, 1]\n",
    "\n",
    "for i in learning_rates:\n",
    "\n",
    "    lr = LinearRegression(learning_rate=i, itterations=1000, alpha=1)\n",
    "    lr.fit(x_diamonds_train.to_numpy(), y_diamonds_train)\n",
    "    preds = lr.predict(x_diamonds_train)\n",
    "    dictDiamonds[i] = mean_absolute_error(y_diamonds_train, preds)"
   ]
  },
  {
   "cell_type": "code",
   "execution_count": 125,
   "metadata": {},
   "outputs": [
    {
     "data": {
      "image/png": "[encoded data removed]",
      "text/plain": [
       "<Figure size 432x288 with 1 Axes>"
      ]
     },
     "metadata": {
      "needs_background": "light"
     },
     "output_type": "display_data"
    }
   ],
   "source": [
    "plt.plot(dictDiamonds.values())\n",
    "plt.xticks(range(len(dictDiamonds.keys())), dictDiamonds.keys())\n",
    "plt.title(\"Mean Squared Error for 1000 iterations\")\n",
    "plt.xlabel(\"Learning rate\")\n",
    "plt.ylabel(\"Mean Squared Error\")\n",
    "plt.show()"
   ]
  },
  {
   "cell_type": "code",
   "execution_count": 126,
   "metadata": {},
   "outputs": [
    {
     "data": {
      "text/plain": [
       "<seaborn.axisgrid.JointGrid at 0x7ff9c8d10ac0>"
      ]
     },
     "execution_count": 126,
     "metadata": {},
     "output_type": "execute_result"
    },
    {
     "data": {
      "image/png": "[encoded data removed]",
      "text/plain": [
       "<Figure size 504x504 with 3 Axes>"
      ]
     },
     "metadata": {
      "needs_background": "light"
     },
     "output_type": "display_data"
    }
   ],
   "source": [
    "sns.jointplot(x=x_diamonds_train[25], y=y_diamonds_train,\n",
    "                  kind=\"reg\", truncate=False,\n",
    "                  color=\"m\", height=7)\n"
   ]
  },
  {
   "cell_type": "code",
   "execution_count": 127,
   "metadata": {},
   "outputs": [
    {
     "data": {
      "image/png": "[encoded data removed]",
      "text/plain": [
       "<Figure size 504x504 with 3 Axes>"
      ]
     },
     "metadata": {
      "needs_background": "light"
     },
     "output_type": "display_data"
    }
   ],
   "source": [
    "sns.jointplot(x=x_diamonds_train[25], y=preds,\n",
    "                  kind=\"reg\", truncate=False,\n",
    "                  color=\"m\", height=7)\n",
    "plt.show()"
   ]
  },
  {
   "cell_type": "markdown",
   "metadata": {},
   "source": [
    "### Apply regularization"
   ]
  },
  {
   "cell_type": "code",
   "execution_count": 128,
   "metadata": {},
   "outputs": [],
   "source": [
    "reg_diamonds = {}\n",
    "\n",
    "alpha = [1, 0.1,0.01, 0.001, 0.0001]\n",
    "\n",
    "for i in learning_rates:\n",
    "\n",
    "    lr = LinearRegression(learning_rate=0.1, itterations=1000, alpha=i)\n",
    "    lr.fit(x_diamonds_train.to_numpy(), y_diamonds_train)\n",
    "    preds = lr.predict(x_diamonds_train)\n",
    "    reg_diamonds[i] = mean_squared_error(y_diamonds_train, preds)"
   ]
  },
  {
   "cell_type": "code",
   "execution_count": 129,
   "metadata": {},
   "outputs": [
    {
     "data": {
      "image/png": "[encoded data removed]",
      "text/plain": [
       "<Figure size 720x576 with 1 Axes>"
      ]
     },
     "metadata": {
      "needs_background": "light"
     },
     "output_type": "display_data"
    }
   ],
   "source": [
    "plt.figure(figsize=(10,8))\n",
    "plt.plot(reg_diamonds.values())\n",
    "plt.xticks(range(len(reg_diamonds.keys())), reg_diamonds.keys())\n",
    "plt.title(\"Mean Squared Error for 1000 iterations with regularization\")\n",
    "plt.xlabel(\"alpha\")\n",
    "plt.ylabel(\"Mean Squared Error\")\n",
    "plt.show()"
   ]
  },
  {
   "cell_type": "markdown",
   "metadata": {},
   "source": [
    "### K-NN"
   ]
  },
  {
   "cell_type": "code",
   "execution_count": 38,
   "metadata": {},
   "outputs": [],
   "source": [
    "def knn_score(pipeline, X_train, X_test, y_train, y_test):\n",
    "    \n",
    "    pipeline.fit(X_train, y_train)\n",
    "    \n",
    "    start = time.time()\n",
    "    y_pred_test = pipeline.predict(X_test)\n",
    "    end = time.time()\n",
    "    \n",
    "    r2_score_test = r2_score(y_test, y_pred_test)\n",
    "    \n",
    "    mse_test = mean_absolute_error(y_test, y_pred_test)\n",
    "    \n",
    "    mae_test = median_absolute_error(y_test, y_pred_test)\n",
    "    \n",
    "    print(\"R2 score_test: \", r2_score_test)\n",
    "    print(\"Test Mean Squeare Error: \", mse_test)\n",
    "    print(\"Test Mean Absolute Error: \", mae_test)\n",
    "    print(\"Predicting time :\", (end - start)/60, \"min\")"
   ]
  },
  {
   "cell_type": "code",
   "execution_count": 39,
   "metadata": {},
   "outputs": [],
   "source": [
    "my_knn = Pipeline([\n",
    "    ('scaler', MinMaxScaler()),\n",
    "    ('lr_reg', My_KNN(k_neighbours = 7))\n",
    "])"
   ]
  },
  {
   "cell_type": "code",
   "execution_count": 40,
   "metadata": {},
   "outputs": [
    {
     "name": "stdout",
     "output_type": "stream",
     "text": [
      "R2 score_test:  0.3116251711596786\n",
      "Test Mean Squeare Error:  1144.107427230384\n",
      "Test Mean Absolute Error:  287.1428571428571\n",
      "Predicting time : 4.561395514011383 min\n"
     ]
    }
   ],
   "source": [
    "knn_score(my_knn, x_diamonds_train, x_diamonds_test, y_diamonds_train, y_diamonds_test)"
   ]
  },
  {
   "cell_type": "markdown",
   "metadata": {},
   "source": [
    "#### Comparaison with scikit-learn knn algorithm"
   ]
  },
  {
   "cell_type": "code",
   "execution_count": 130,
   "metadata": {},
   "outputs": [],
   "source": [
    "sk_knn = Pipeline([\n",
    "    ('scaler', MinMaxScaler()),\n",
    "    ('lr_reg', KNeighborsRegressor(n_neighbors = 7))\n",
    "])"
   ]
  },
  {
   "cell_type": "code",
   "execution_count": 225,
   "metadata": {},
   "outputs": [
    {
     "name": "stdout",
     "output_type": "stream",
     "text": [
      "R2 score_test:  0.3555279666500579\n",
      "Test Mean Squeare Error:  1135.0198163248199\n",
      "Test Mean Absolute Error:  281.42857142857144\n",
      "Predicting time : 0.4027336597442627 min\n"
     ]
    }
   ],
   "source": [
    "knn_score(sk_knn, x_diamonds_train, x_diamonds_test, y_diamonds_train, y_diamonds_test)"
   ]
  },
  {
   "cell_type": "code",
   "execution_count": 131,
   "metadata": {},
   "outputs": [
    {
     "name": "stdout",
     "output_type": "stream",
     "text": [
      "Mean CV score:  0.5017338476836457\n",
      "R2 score_train:  0.6171158677653876\n",
      "R2 score_test:  0.3555279666500579\n",
      "Train Mean Squeare Error:  950.1545542309333\n",
      "Test Mean Squeare Error:  1135.0198163248199\n",
      "Train Mean Absolute Error:  251.42857142857133\n",
      "Test Mean Absolute Error:  281.42857142857144\n"
     ]
    }
   ],
   "source": [
    "get_model_score(sk_knn, x_diamonds_train, x_diamonds_test, y_diamonds_train, y_diamonds_test)"
   ]
  },
  {
   "cell_type": "markdown",
   "metadata": {},
   "source": [
    "## New York Airbnb"
   ]
  },
  {
   "cell_type": "code",
   "execution_count": 133,
   "metadata": {},
   "outputs": [
    {
     "name": "stderr",
     "output_type": "stream",
     "text": [
      "/tmp/ipykernel_5893/4215441625.py:1: DtypeWarning: Columns (17) have mixed types. Specify dtype option on import or set low_memory=False.\n",
      "  air = pd.read_csv(\"./data/New York Airbnb_4 dec 2021.csv\")\n"
     ]
    }
   ],
   "source": [
    "air = pd.read_csv(\"./data/New York Airbnb_4 dec 2021.csv\")"
   ]
  },
  {
   "cell_type": "code",
   "execution_count": 134,
   "metadata": {},
   "outputs": [
    {
     "data": {
      "text/html": [
       "<div>\n",
       "<style scoped>\n",
       "    .dataframe tbody tr th:only-of-type {\n",
       "        vertical-align: middle;\n",
       "    }\n",
       "\n",
       "    .dataframe tbody tr th {\n",
       "        vertical-align: top;\n",
       "    }\n",
       "\n",
       "    .dataframe thead th {\n",
       "        text-align: right;\n",
       "    }\n",
       "</style>\n",
       "<table border=\"1\" class=\"dataframe\">\n",
       "  <thead>\n",
       "    <tr style=\"text-align: right;\">\n",
       "      <th></th>\n",
       "      <th>id</th>\n",
       "      <th>name</th>\n",
       "      <th>host_id</th>\n",
       "      <th>host_name</th>\n",
       "      <th>neighbourhood_group</th>\n",
       "      <th>neighbourhood</th>\n",
       "      <th>latitude</th>\n",
       "      <th>longitude</th>\n",
       "      <th>room_type</th>\n",
       "      <th>price</th>\n",
       "      <th>minimum_nights</th>\n",
       "      <th>number_of_reviews</th>\n",
       "      <th>last_review</th>\n",
       "      <th>reviews_per_month</th>\n",
       "      <th>calculated_host_listings_count</th>\n",
       "      <th>availability_365</th>\n",
       "      <th>number_of_reviews_ltm</th>\n",
       "      <th>license</th>\n",
       "    </tr>\n",
       "  </thead>\n",
       "  <tbody>\n",
       "    <tr>\n",
       "      <th>0</th>\n",
       "      <td>2595</td>\n",
       "      <td>Skylit Midtown Castle</td>\n",
       "      <td>2845</td>\n",
       "      <td>Jennifer</td>\n",
       "      <td>Manhattan</td>\n",
       "      <td>Midtown</td>\n",
       "      <td>40.753560</td>\n",
       "      <td>-73.985590</td>\n",
       "      <td>Entire home/apt</td>\n",
       "      <td>150</td>\n",
       "      <td>30</td>\n",
       "      <td>48</td>\n",
       "      <td>2019-11-04</td>\n",
       "      <td>0.33</td>\n",
       "      <td>3</td>\n",
       "      <td>338</td>\n",
       "      <td>0</td>\n",
       "      <td>NaN</td>\n",
       "    </tr>\n",
       "    <tr>\n",
       "      <th>1</th>\n",
       "      <td>3831</td>\n",
       "      <td>Whole flr w/private bdrm, bath &amp; kitchen(pls r...</td>\n",
       "      <td>4869</td>\n",
       "      <td>LisaRoxanne</td>\n",
       "      <td>Brooklyn</td>\n",
       "      <td>Bedford-Stuyvesant</td>\n",
       "      <td>40.684940</td>\n",
       "      <td>-73.957650</td>\n",
       "      <td>Entire home/apt</td>\n",
       "      <td>75</td>\n",
       "      <td>1</td>\n",
       "      <td>409</td>\n",
       "      <td>2021-10-22</td>\n",
       "      <td>4.86</td>\n",
       "      <td>1</td>\n",
       "      <td>194</td>\n",
       "      <td>32</td>\n",
       "      <td>NaN</td>\n",
       "    </tr>\n",
       "    <tr>\n",
       "      <th>2</th>\n",
       "      <td>5121</td>\n",
       "      <td>BlissArtsSpace!</td>\n",
       "      <td>7356</td>\n",
       "      <td>Garon</td>\n",
       "      <td>Brooklyn</td>\n",
       "      <td>Bedford-Stuyvesant</td>\n",
       "      <td>40.685350</td>\n",
       "      <td>-73.955120</td>\n",
       "      <td>Private room</td>\n",
       "      <td>60</td>\n",
       "      <td>30</td>\n",
       "      <td>50</td>\n",
       "      <td>2016-06-05</td>\n",
       "      <td>0.52</td>\n",
       "      <td>2</td>\n",
       "      <td>365</td>\n",
       "      <td>0</td>\n",
       "      <td>NaN</td>\n",
       "    </tr>\n",
       "    <tr>\n",
       "      <th>3</th>\n",
       "      <td>5136</td>\n",
       "      <td>Spacious Brooklyn Duplex, Patio + Garden</td>\n",
       "      <td>7378</td>\n",
       "      <td>Rebecca</td>\n",
       "      <td>Brooklyn</td>\n",
       "      <td>Sunset Park</td>\n",
       "      <td>40.662650</td>\n",
       "      <td>-73.994540</td>\n",
       "      <td>Entire home/apt</td>\n",
       "      <td>275</td>\n",
       "      <td>5</td>\n",
       "      <td>2</td>\n",
       "      <td>2021-08-08</td>\n",
       "      <td>0.02</td>\n",
       "      <td>1</td>\n",
       "      <td>123</td>\n",
       "      <td>1</td>\n",
       "      <td>NaN</td>\n",
       "    </tr>\n",
       "    <tr>\n",
       "      <th>4</th>\n",
       "      <td>5178</td>\n",
       "      <td>Large Furnished Room Near B'way</td>\n",
       "      <td>8967</td>\n",
       "      <td>Shunichi</td>\n",
       "      <td>Manhattan</td>\n",
       "      <td>Midtown</td>\n",
       "      <td>40.764570</td>\n",
       "      <td>-73.983170</td>\n",
       "      <td>Private room</td>\n",
       "      <td>68</td>\n",
       "      <td>2</td>\n",
       "      <td>507</td>\n",
       "      <td>2021-11-08</td>\n",
       "      <td>3.68</td>\n",
       "      <td>1</td>\n",
       "      <td>192</td>\n",
       "      <td>33</td>\n",
       "      <td>NaN</td>\n",
       "    </tr>\n",
       "    <tr>\n",
       "      <th>...</th>\n",
       "      <td>...</td>\n",
       "      <td>...</td>\n",
       "      <td>...</td>\n",
       "      <td>...</td>\n",
       "      <td>...</td>\n",
       "      <td>...</td>\n",
       "      <td>...</td>\n",
       "      <td>...</td>\n",
       "      <td>...</td>\n",
       "      <td>...</td>\n",
       "      <td>...</td>\n",
       "      <td>...</td>\n",
       "      <td>...</td>\n",
       "      <td>...</td>\n",
       "      <td>...</td>\n",
       "      <td>...</td>\n",
       "      <td>...</td>\n",
       "      <td>...</td>\n",
       "    </tr>\n",
       "    <tr>\n",
       "      <th>38272</th>\n",
       "      <td>53662330</td>\n",
       "      <td>HUGE PRIVATE ROOM, AWESOME LOCATION</td>\n",
       "      <td>100146245</td>\n",
       "      <td>Serin</td>\n",
       "      <td>Staten Island</td>\n",
       "      <td>Port Richmond</td>\n",
       "      <td>40.632222</td>\n",
       "      <td>-74.136715</td>\n",
       "      <td>Private room</td>\n",
       "      <td>79</td>\n",
       "      <td>1</td>\n",
       "      <td>0</td>\n",
       "      <td>NaN</td>\n",
       "      <td>NaN</td>\n",
       "      <td>6</td>\n",
       "      <td>359</td>\n",
       "      <td>0</td>\n",
       "      <td>NaN</td>\n",
       "    </tr>\n",
       "    <tr>\n",
       "      <th>38273</th>\n",
       "      <td>53662542</td>\n",
       "      <td>LARGE PRVT ROOM, QUIET RESIDENCE PERFECTLOCATION</td>\n",
       "      <td>100146245</td>\n",
       "      <td>Serin</td>\n",
       "      <td>Staten Island</td>\n",
       "      <td>Port Richmond</td>\n",
       "      <td>40.630502</td>\n",
       "      <td>-74.136142</td>\n",
       "      <td>Private room</td>\n",
       "      <td>76</td>\n",
       "      <td>1</td>\n",
       "      <td>0</td>\n",
       "      <td>NaN</td>\n",
       "      <td>NaN</td>\n",
       "      <td>6</td>\n",
       "      <td>359</td>\n",
       "      <td>0</td>\n",
       "      <td>NaN</td>\n",
       "    </tr>\n",
       "    <tr>\n",
       "      <th>38274</th>\n",
       "      <td>53662772</td>\n",
       "      <td>King Room - Midtown Manhattan</td>\n",
       "      <td>337879004</td>\n",
       "      <td>Sinem</td>\n",
       "      <td>Manhattan</td>\n",
       "      <td>Midtown</td>\n",
       "      <td>40.753887</td>\n",
       "      <td>-73.980536</td>\n",
       "      <td>Private room</td>\n",
       "      <td>116</td>\n",
       "      <td>1</td>\n",
       "      <td>0</td>\n",
       "      <td>NaN</td>\n",
       "      <td>NaN</td>\n",
       "      <td>13</td>\n",
       "      <td>11</td>\n",
       "      <td>0</td>\n",
       "      <td>NaN</td>\n",
       "    </tr>\n",
       "    <tr>\n",
       "      <th>38275</th>\n",
       "      <td>53663081</td>\n",
       "      <td>King Room - Bryant Park.</td>\n",
       "      <td>337879004</td>\n",
       "      <td>Sinem</td>\n",
       "      <td>Manhattan</td>\n",
       "      <td>Midtown</td>\n",
       "      <td>40.755569</td>\n",
       "      <td>-73.981976</td>\n",
       "      <td>Private room</td>\n",
       "      <td>106</td>\n",
       "      <td>1</td>\n",
       "      <td>0</td>\n",
       "      <td>NaN</td>\n",
       "      <td>NaN</td>\n",
       "      <td>13</td>\n",
       "      <td>3</td>\n",
       "      <td>0</td>\n",
       "      <td>NaN</td>\n",
       "    </tr>\n",
       "    <tr>\n",
       "      <th>38276</th>\n",
       "      <td>53665099</td>\n",
       "      <td>★Luxury in the ❤of Bklyn | Fast Wi-Fi | Sleeps...</td>\n",
       "      <td>60105727</td>\n",
       "      <td>Lee</td>\n",
       "      <td>Brooklyn</td>\n",
       "      <td>Cypress Hills</td>\n",
       "      <td>40.677560</td>\n",
       "      <td>-73.894990</td>\n",
       "      <td>Entire home/apt</td>\n",
       "      <td>689</td>\n",
       "      <td>1</td>\n",
       "      <td>0</td>\n",
       "      <td>NaN</td>\n",
       "      <td>NaN</td>\n",
       "      <td>1</td>\n",
       "      <td>312</td>\n",
       "      <td>0</td>\n",
       "      <td>NaN</td>\n",
       "    </tr>\n",
       "  </tbody>\n",
       "</table>\n",
       "<p>38277 rows × 18 columns</p>\n",
       "</div>"
      ],
      "text/plain": [
       "             id                                               name    host_id  \\\n",
       "0          2595                              Skylit Midtown Castle       2845   \n",
       "1          3831  Whole flr w/private bdrm, bath & kitchen(pls r...       4869   \n",
       "2          5121                                    BlissArtsSpace!       7356   \n",
       "3          5136           Spacious Brooklyn Duplex, Patio + Garden       7378   \n",
       "4          5178                   Large Furnished Room Near B'way　       8967   \n",
       "...         ...                                                ...        ...   \n",
       "38272  53662330                HUGE PRIVATE ROOM, AWESOME LOCATION  100146245   \n",
       "38273  53662542   LARGE PRVT ROOM, QUIET RESIDENCE PERFECTLOCATION  100146245   \n",
       "38274  53662772                      King Room - Midtown Manhattan  337879004   \n",
       "38275  53663081                           King Room - Bryant Park.  337879004   \n",
       "38276  53665099  ★Luxury in the ❤of Bklyn | Fast Wi-Fi | Sleeps...   60105727   \n",
       "\n",
       "         host_name neighbourhood_group       neighbourhood   latitude  \\\n",
       "0         Jennifer           Manhattan             Midtown  40.753560   \n",
       "1      LisaRoxanne            Brooklyn  Bedford-Stuyvesant  40.684940   \n",
       "2            Garon            Brooklyn  Bedford-Stuyvesant  40.685350   \n",
       "3          Rebecca            Brooklyn         Sunset Park  40.662650   \n",
       "4         Shunichi           Manhattan             Midtown  40.764570   \n",
       "...            ...                 ...                 ...        ...   \n",
       "38272        Serin       Staten Island       Port Richmond  40.632222   \n",
       "38273        Serin       Staten Island       Port Richmond  40.630502   \n",
       "38274        Sinem           Manhattan             Midtown  40.753887   \n",
       "38275        Sinem           Manhattan             Midtown  40.755569   \n",
       "38276          Lee            Brooklyn       Cypress Hills  40.677560   \n",
       "\n",
       "       longitude        room_type  price  minimum_nights  number_of_reviews  \\\n",
       "0     -73.985590  Entire home/apt    150              30                 48   \n",
       "1     -73.957650  Entire home/apt     75               1                409   \n",
       "2     -73.955120     Private room     60              30                 50   \n",
       "3     -73.994540  Entire home/apt    275               5                  2   \n",
       "4     -73.983170     Private room     68               2                507   \n",
       "...          ...              ...    ...             ...                ...   \n",
       "38272 -74.136715     Private room     79               1                  0   \n",
       "38273 -74.136142     Private room     76               1                  0   \n",
       "38274 -73.980536     Private room    116               1                  0   \n",
       "38275 -73.981976     Private room    106               1                  0   \n",
       "38276 -73.894990  Entire home/apt    689               1                  0   \n",
       "\n",
       "      last_review  reviews_per_month  calculated_host_listings_count  \\\n",
       "0      2019-11-04               0.33                               3   \n",
       "1      2021-10-22               4.86                               1   \n",
       "2      2016-06-05               0.52                               2   \n",
       "3      2021-08-08               0.02                               1   \n",
       "4      2021-11-08               3.68                               1   \n",
       "...           ...                ...                             ...   \n",
       "38272         NaN                NaN                               6   \n",
       "38273         NaN                NaN                               6   \n",
       "38274         NaN                NaN                              13   \n",
       "38275         NaN                NaN                              13   \n",
       "38276         NaN                NaN                               1   \n",
       "\n",
       "       availability_365  number_of_reviews_ltm license  \n",
       "0                   338                      0     NaN  \n",
       "1                   194                     32     NaN  \n",
       "2                   365                      0     NaN  \n",
       "3                   123                      1     NaN  \n",
       "4                   192                     33     NaN  \n",
       "...                 ...                    ...     ...  \n",
       "38272               359                      0     NaN  \n",
       "38273               359                      0     NaN  \n",
       "38274                11                      0     NaN  \n",
       "38275                 3                      0     NaN  \n",
       "38276               312                      0     NaN  \n",
       "\n",
       "[38277 rows x 18 columns]"
      ]
     },
     "execution_count": 134,
     "metadata": {},
     "output_type": "execute_result"
    }
   ],
   "source": [
    "air"
   ]
  },
  {
   "cell_type": "code",
   "execution_count": 135,
   "metadata": {},
   "outputs": [
    {
     "data": {
      "text/plain": [
       "neighbourhood_group                  0\n",
       "neighbourhood                        0\n",
       "latitude                             0\n",
       "longitude                            0\n",
       "room_type                            0\n",
       "price                                0\n",
       "minimum_nights                       0\n",
       "number_of_reviews                    0\n",
       "reviews_per_month                 9504\n",
       "calculated_host_listings_count       0\n",
       "availability_365                     0\n",
       "number_of_reviews_ltm                0\n",
       "dtype: int64"
      ]
     },
     "execution_count": 135,
     "metadata": {},
     "output_type": "execute_result"
    }
   ],
   "source": [
    "nyc_model = air.drop(columns=['name','id' ,'host_id','host_name', \n",
    "                                   'last_review', 'license'])\n",
    "nyc_model.isnull().sum()"
   ]
  },
  {
   "cell_type": "code",
   "execution_count": 136,
   "metadata": {},
   "outputs": [
    {
     "data": {
      "text/plain": [
       "neighbourhood_group               0\n",
       "neighbourhood                     0\n",
       "latitude                          0\n",
       "longitude                         0\n",
       "room_type                         0\n",
       "price                             0\n",
       "minimum_nights                    0\n",
       "number_of_reviews                 0\n",
       "reviews_per_month                 0\n",
       "calculated_host_listings_count    0\n",
       "availability_365                  0\n",
       "number_of_reviews_ltm             0\n",
       "dtype: int64"
      ]
     },
     "execution_count": 136,
     "metadata": {},
     "output_type": "execute_result"
    }
   ],
   "source": [
    "mean = nyc_model['reviews_per_month'].mean()\n",
    "nyc_model['reviews_per_month'].fillna(mean, inplace=True)\n",
    "nyc_model.isnull().sum()"
   ]
  },
  {
   "cell_type": "code",
   "execution_count": 137,
   "metadata": {},
   "outputs": [
    {
     "data": {
      "text/html": [
       "<div>\n",
       "<style scoped>\n",
       "    .dataframe tbody tr th:only-of-type {\n",
       "        vertical-align: middle;\n",
       "    }\n",
       "\n",
       "    .dataframe tbody tr th {\n",
       "        vertical-align: top;\n",
       "    }\n",
       "\n",
       "    .dataframe thead th {\n",
       "        text-align: right;\n",
       "    }\n",
       "</style>\n",
       "<table border=\"1\" class=\"dataframe\">\n",
       "  <thead>\n",
       "    <tr style=\"text-align: right;\">\n",
       "      <th></th>\n",
       "      <th>neighbourhood_group</th>\n",
       "      <th>neighbourhood</th>\n",
       "      <th>latitude</th>\n",
       "      <th>longitude</th>\n",
       "      <th>room_type</th>\n",
       "      <th>price</th>\n",
       "      <th>minimum_nights</th>\n",
       "      <th>number_of_reviews</th>\n",
       "      <th>reviews_per_month</th>\n",
       "      <th>calculated_host_listings_count</th>\n",
       "      <th>availability_365</th>\n",
       "      <th>number_of_reviews_ltm</th>\n",
       "    </tr>\n",
       "  </thead>\n",
       "  <tbody>\n",
       "    <tr>\n",
       "      <th>0</th>\n",
       "      <td>Manhattan</td>\n",
       "      <td>Midtown</td>\n",
       "      <td>40.753560</td>\n",
       "      <td>-73.985590</td>\n",
       "      <td>Entire home/apt</td>\n",
       "      <td>150</td>\n",
       "      <td>30</td>\n",
       "      <td>48</td>\n",
       "      <td>0.330000</td>\n",
       "      <td>3</td>\n",
       "      <td>338</td>\n",
       "      <td>0</td>\n",
       "    </tr>\n",
       "    <tr>\n",
       "      <th>1</th>\n",
       "      <td>Brooklyn</td>\n",
       "      <td>Bedford-Stuyvesant</td>\n",
       "      <td>40.684940</td>\n",
       "      <td>-73.957650</td>\n",
       "      <td>Entire home/apt</td>\n",
       "      <td>75</td>\n",
       "      <td>1</td>\n",
       "      <td>409</td>\n",
       "      <td>4.860000</td>\n",
       "      <td>1</td>\n",
       "      <td>194</td>\n",
       "      <td>32</td>\n",
       "    </tr>\n",
       "    <tr>\n",
       "      <th>2</th>\n",
       "      <td>Brooklyn</td>\n",
       "      <td>Bedford-Stuyvesant</td>\n",
       "      <td>40.685350</td>\n",
       "      <td>-73.955120</td>\n",
       "      <td>Private room</td>\n",
       "      <td>60</td>\n",
       "      <td>30</td>\n",
       "      <td>50</td>\n",
       "      <td>0.520000</td>\n",
       "      <td>2</td>\n",
       "      <td>365</td>\n",
       "      <td>0</td>\n",
       "    </tr>\n",
       "    <tr>\n",
       "      <th>3</th>\n",
       "      <td>Brooklyn</td>\n",
       "      <td>Sunset Park</td>\n",
       "      <td>40.662650</td>\n",
       "      <td>-73.994540</td>\n",
       "      <td>Entire home/apt</td>\n",
       "      <td>275</td>\n",
       "      <td>5</td>\n",
       "      <td>2</td>\n",
       "      <td>0.020000</td>\n",
       "      <td>1</td>\n",
       "      <td>123</td>\n",
       "      <td>1</td>\n",
       "    </tr>\n",
       "    <tr>\n",
       "      <th>4</th>\n",
       "      <td>Manhattan</td>\n",
       "      <td>Midtown</td>\n",
       "      <td>40.764570</td>\n",
       "      <td>-73.983170</td>\n",
       "      <td>Private room</td>\n",
       "      <td>68</td>\n",
       "      <td>2</td>\n",
       "      <td>507</td>\n",
       "      <td>3.680000</td>\n",
       "      <td>1</td>\n",
       "      <td>192</td>\n",
       "      <td>33</td>\n",
       "    </tr>\n",
       "    <tr>\n",
       "      <th>...</th>\n",
       "      <td>...</td>\n",
       "      <td>...</td>\n",
       "      <td>...</td>\n",
       "      <td>...</td>\n",
       "      <td>...</td>\n",
       "      <td>...</td>\n",
       "      <td>...</td>\n",
       "      <td>...</td>\n",
       "      <td>...</td>\n",
       "      <td>...</td>\n",
       "      <td>...</td>\n",
       "      <td>...</td>\n",
       "    </tr>\n",
       "    <tr>\n",
       "      <th>38272</th>\n",
       "      <td>Staten Island</td>\n",
       "      <td>Port Richmond</td>\n",
       "      <td>40.632222</td>\n",
       "      <td>-74.136715</td>\n",
       "      <td>Private room</td>\n",
       "      <td>79</td>\n",
       "      <td>1</td>\n",
       "      <td>0</td>\n",
       "      <td>1.721019</td>\n",
       "      <td>6</td>\n",
       "      <td>359</td>\n",
       "      <td>0</td>\n",
       "    </tr>\n",
       "    <tr>\n",
       "      <th>38273</th>\n",
       "      <td>Staten Island</td>\n",
       "      <td>Port Richmond</td>\n",
       "      <td>40.630502</td>\n",
       "      <td>-74.136142</td>\n",
       "      <td>Private room</td>\n",
       "      <td>76</td>\n",
       "      <td>1</td>\n",
       "      <td>0</td>\n",
       "      <td>1.721019</td>\n",
       "      <td>6</td>\n",
       "      <td>359</td>\n",
       "      <td>0</td>\n",
       "    </tr>\n",
       "    <tr>\n",
       "      <th>38274</th>\n",
       "      <td>Manhattan</td>\n",
       "      <td>Midtown</td>\n",
       "      <td>40.753887</td>\n",
       "      <td>-73.980536</td>\n",
       "      <td>Private room</td>\n",
       "      <td>116</td>\n",
       "      <td>1</td>\n",
       "      <td>0</td>\n",
       "      <td>1.721019</td>\n",
       "      <td>13</td>\n",
       "      <td>11</td>\n",
       "      <td>0</td>\n",
       "    </tr>\n",
       "    <tr>\n",
       "      <th>38275</th>\n",
       "      <td>Manhattan</td>\n",
       "      <td>Midtown</td>\n",
       "      <td>40.755569</td>\n",
       "      <td>-73.981976</td>\n",
       "      <td>Private room</td>\n",
       "      <td>106</td>\n",
       "      <td>1</td>\n",
       "      <td>0</td>\n",
       "      <td>1.721019</td>\n",
       "      <td>13</td>\n",
       "      <td>3</td>\n",
       "      <td>0</td>\n",
       "    </tr>\n",
       "    <tr>\n",
       "      <th>38276</th>\n",
       "      <td>Brooklyn</td>\n",
       "      <td>Cypress Hills</td>\n",
       "      <td>40.677560</td>\n",
       "      <td>-73.894990</td>\n",
       "      <td>Entire home/apt</td>\n",
       "      <td>689</td>\n",
       "      <td>1</td>\n",
       "      <td>0</td>\n",
       "      <td>1.721019</td>\n",
       "      <td>1</td>\n",
       "      <td>312</td>\n",
       "      <td>0</td>\n",
       "    </tr>\n",
       "  </tbody>\n",
       "</table>\n",
       "<p>38277 rows × 12 columns</p>\n",
       "</div>"
      ],
      "text/plain": [
       "      neighbourhood_group       neighbourhood   latitude  longitude  \\\n",
       "0               Manhattan             Midtown  40.753560 -73.985590   \n",
       "1                Brooklyn  Bedford-Stuyvesant  40.684940 -73.957650   \n",
       "2                Brooklyn  Bedford-Stuyvesant  40.685350 -73.955120   \n",
       "3                Brooklyn         Sunset Park  40.662650 -73.994540   \n",
       "4               Manhattan             Midtown  40.764570 -73.983170   \n",
       "...                   ...                 ...        ...        ...   \n",
       "38272       Staten Island       Port Richmond  40.632222 -74.136715   \n",
       "38273       Staten Island       Port Richmond  40.630502 -74.136142   \n",
       "38274           Manhattan             Midtown  40.753887 -73.980536   \n",
       "38275           Manhattan             Midtown  40.755569 -73.981976   \n",
       "38276            Brooklyn       Cypress Hills  40.677560 -73.894990   \n",
       "\n",
       "             room_type  price  minimum_nights  number_of_reviews  \\\n",
       "0      Entire home/apt    150              30                 48   \n",
       "1      Entire home/apt     75               1                409   \n",
       "2         Private room     60              30                 50   \n",
       "3      Entire home/apt    275               5                  2   \n",
       "4         Private room     68               2                507   \n",
       "...                ...    ...             ...                ...   \n",
       "38272     Private room     79               1                  0   \n",
       "38273     Private room     76               1                  0   \n",
       "38274     Private room    116               1                  0   \n",
       "38275     Private room    106               1                  0   \n",
       "38276  Entire home/apt    689               1                  0   \n",
       "\n",
       "       reviews_per_month  calculated_host_listings_count  availability_365  \\\n",
       "0               0.330000                               3               338   \n",
       "1               4.860000                               1               194   \n",
       "2               0.520000                               2               365   \n",
       "3               0.020000                               1               123   \n",
       "4               3.680000                               1               192   \n",
       "...                  ...                             ...               ...   \n",
       "38272           1.721019                               6               359   \n",
       "38273           1.721019                               6               359   \n",
       "38274           1.721019                              13                11   \n",
       "38275           1.721019                              13                 3   \n",
       "38276           1.721019                               1               312   \n",
       "\n",
       "       number_of_reviews_ltm  \n",
       "0                          0  \n",
       "1                         32  \n",
       "2                          0  \n",
       "3                          1  \n",
       "4                         33  \n",
       "...                      ...  \n",
       "38272                      0  \n",
       "38273                      0  \n",
       "38274                      0  \n",
       "38275                      0  \n",
       "38276                      0  \n",
       "\n",
       "[38277 rows x 12 columns]"
      ]
     },
     "execution_count": 137,
     "metadata": {},
     "output_type": "execute_result"
    }
   ],
   "source": [
    "nyc_model"
   ]
  },
  {
   "cell_type": "code",
   "execution_count": 138,
   "metadata": {},
   "outputs": [],
   "source": [
    "nyc_model['neighbourhood_group']= nyc_model['neighbourhood_group'].astype(\"category\").cat.codes\n",
    "nyc_model['neighbourhood'] = nyc_model['neighbourhood'].astype(\"category\").cat.codes\n",
    "nyc_model['room_type'] = nyc_model['room_type'].astype(\"category\").cat.codes"
   ]
  },
  {
   "cell_type": "code",
   "execution_count": 139,
   "metadata": {},
   "outputs": [
    {
     "data": {
      "text/plain": [
       "<AxesSubplot:>"
      ]
     },
     "execution_count": 139,
     "metadata": {},
     "output_type": "execute_result"
    },
    {
     "data": {
      "image/png": "[encoded data removed]",
      "text/plain": [
       "<Figure size 720x576 with 2 Axes>"
      ]
     },
     "metadata": {
      "needs_background": "light"
     },
     "output_type": "display_data"
    }
   ],
   "source": [
    "plt.figure(figsize=(10,8))\n",
    "sns.heatmap(nyc_model.corr())"
   ]
  },
  {
   "cell_type": "code",
   "execution_count": 140,
   "metadata": {},
   "outputs": [],
   "source": [
    "nyc_model.drop([\"latitude\", \"longitude\"], axis=1, inplace=True)"
   ]
  },
  {
   "cell_type": "code",
   "execution_count": 141,
   "metadata": {},
   "outputs": [],
   "source": [
    "x = nyc_model.drop(\"price\", axis=1)\n",
    "y = nyc_model.price"
   ]
  },
  {
   "cell_type": "code",
   "execution_count": 142,
   "metadata": {},
   "outputs": [],
   "source": [
    "x_air_train, x_air_test, y_air_train, y_air_test = train_test_split(x, y, test_size=0.2)"
   ]
  },
  {
   "cell_type": "code",
   "execution_count": 228,
   "metadata": {},
   "outputs": [
    {
     "data": {
      "text/plain": [
       "((30621, 9), (7656, 9))"
      ]
     },
     "execution_count": 228,
     "metadata": {},
     "output_type": "execute_result"
    }
   ],
   "source": [
    "x_air_train.shape, x_air_test.shape"
   ]
  },
  {
   "cell_type": "markdown",
   "metadata": {},
   "source": [
    "### Base models"
   ]
  },
  {
   "cell_type": "code",
   "execution_count": 143,
   "metadata": {},
   "outputs": [],
   "source": [
    "linear = Pipeline([\n",
    "    ('scaler', MinMaxScaler()),\n",
    "    ('lin_reg', Ridge())\n",
    "])"
   ]
  },
  {
   "cell_type": "code",
   "execution_count": 144,
   "metadata": {
    "scrolled": true
   },
   "outputs": [
    {
     "name": "stdout",
     "output_type": "stream",
     "text": [
      "Mean CV score:  0.048093962278839886\n",
      "R2 score_train:  0.04426651835886908\n",
      "R2 score_test:  0.04660684022432493\n",
      "Train Mean Squeare Error:  99.64354084457213\n",
      "Test Mean Squeare Error:  102.75397636986301\n",
      "Train Mean Absolute Error:  63.25788249134166\n",
      "Test Mean Absolute Error:  63.130582450473156\n"
     ]
    }
   ],
   "source": [
    "get_model_score(linear, x_air_train, x_air_test, y_air_train, y_air_test)"
   ]
  },
  {
   "cell_type": "code",
   "execution_count": 145,
   "metadata": {},
   "outputs": [],
   "source": [
    "dt = Pipeline([\n",
    "    ('scaler', MinMaxScaler()),\n",
    "    ('df_reg', DecisionTreeRegressor(min_samples_split=4))\n",
    "])"
   ]
  },
  {
   "cell_type": "code",
   "execution_count": 146,
   "metadata": {},
   "outputs": [
    {
     "name": "stdout",
     "output_type": "stream",
     "text": [
      "Mean CV score:  -0.45298907295228863\n",
      "R2 score_train:  0.7664997188219426\n",
      "R2 score_test:  -0.3249423175606667\n",
      "Train Mean Squeare Error:  28.454898423575894\n",
      "Test Mean Squeare Error:  104.46429643081795\n",
      "Train Mean Absolute Error:  5.0\n",
      "Test Mean Absolute Error:  35.0\n"
     ]
    }
   ],
   "source": [
    "get_model_score(dt, x_air_train, x_air_test, y_air_train, y_air_test)"
   ]
  },
  {
   "cell_type": "code",
   "execution_count": 147,
   "metadata": {},
   "outputs": [],
   "source": [
    "ada = Pipeline([\n",
    "    ('scaler', MinMaxScaler()),\n",
    "    ('ada_reg', AdaBoostRegressor())\n",
    "])"
   ]
  },
  {
   "cell_type": "code",
   "execution_count": 148,
   "metadata": {
    "scrolled": true
   },
   "outputs": [
    {
     "name": "stdout",
     "output_type": "stream",
     "text": [
      "Mean CV score:  -0.4516022372156453\n",
      "R2 score_train:  -0.5371714761038644\n",
      "R2 score_test:  -0.4055884067665416\n",
      "Train Mean Squeare Error:  187.84445242966325\n",
      "Test Mean Squeare Error:  189.44046678729177\n",
      "Train Mean Absolute Error:  116.75426375210185\n",
      "Test Mean Absolute Error:  116.9989317190421\n"
     ]
    }
   ],
   "source": [
    "get_model_score(ada, x_air_train, x_air_test, y_air_train, y_air_test)"
   ]
  },
  {
   "cell_type": "code",
   "execution_count": 149,
   "metadata": {},
   "outputs": [],
   "source": [
    "grad = Pipeline([\n",
    "    ('scaler', MinMaxScaler()),\n",
    "    ('grad_reg', GradientBoostingRegressor())\n",
    "])"
   ]
  },
  {
   "cell_type": "code",
   "execution_count": 150,
   "metadata": {},
   "outputs": [
    {
     "name": "stdout",
     "output_type": "stream",
     "text": [
      "Mean CV score:  0.12199920797639315\n",
      "R2 score_train:  0.1703116501697456\n",
      "R2 score_test:  0.14807190825984806\n",
      "Train Mean Squeare Error:  86.52029197818845\n",
      "Test Mean Squeare Error:  90.13194733973278\n",
      "Train Mean Absolute Error:  48.60162299841054\n",
      "Test Mean Absolute Error:  48.855124059176035\n"
     ]
    }
   ],
   "source": [
    "get_model_score(grad, x_air_train, x_air_test, y_air_train, y_air_test)"
   ]
  },
  {
   "cell_type": "markdown",
   "metadata": {},
   "source": [
    "### Gradient Descent"
   ]
  },
  {
   "cell_type": "code",
   "execution_count": 151,
   "metadata": {},
   "outputs": [],
   "source": [
    "my_lr = Pipeline([\n",
    "    ('scaler', MinMaxScaler()),\n",
    "    ('lr_reg', LinearRegression(alpha=1, itterations=1000, learning_rate=0.1))\n",
    "])"
   ]
  },
  {
   "cell_type": "code",
   "execution_count": 152,
   "metadata": {},
   "outputs": [
    {
     "name": "stdout",
     "output_type": "stream",
     "text": [
      "Mean CV score:  0.011688548958330847\n",
      "R2 score_train:  0.011160881380421706\n",
      "R2 score_test:  0.022552898906905927\n",
      "Train Mean Squeare Error:  107.67346848331715\n",
      "Test Mean Squeare Error:  110.22444071322641\n",
      "Train Mean Absolute Error:  64.18636360423872\n",
      "Test Mean Absolute Error:  63.87253637470313\n"
     ]
    }
   ],
   "source": [
    "get_model_score(my_lr, x_air_train, x_air_test, y_air_train, y_air_test)"
   ]
  },
  {
   "cell_type": "code",
   "execution_count": 153,
   "metadata": {},
   "outputs": [],
   "source": [
    "params = {\n",
    "    \"learning_rate\": [0.001, 0.01, 0.1, 1],\n",
    "    'alpha': [0.001, 0.01, 0.1, 1]\n",
    "}"
   ]
  },
  {
   "cell_type": "code",
   "execution_count": 154,
   "metadata": {},
   "outputs": [],
   "source": [
    "scaler = MinMaxScaler()\n",
    "x_air_train_scaled = scaler.fit_transform(x_air_train)\n",
    "x_air_test_scaled = scaler.fit_transform(x_air_test)"
   ]
  },
  {
   "cell_type": "code",
   "execution_count": 155,
   "metadata": {},
   "outputs": [],
   "source": [
    "grids = {}\n",
    "\n",
    "for lern_rate in params['learning_rate']:\n",
    "    for a in params['alpha']:\n",
    "        lr = LinearRegression(learning_rate=lern_rate, itterations=1000, alpha=a)\n",
    "        lr.fit(x_air_train_scaled, y_air_train.values)\n",
    "        preds_train = lr.predict(x_air_train_scaled)\n",
    "        preds_test = lr.predict(x_air_test_scaled)\n",
    "        #mse_train = mean_squared_error(y_air_train.to_numpy(), preds_train)\n",
    "        mse_test = mean_squared_error(y_air_test.to_numpy(), preds_test) \n",
    "        \n",
    "        #grids[f\"{lern_rate}_{a}_train\"] = mse_train\n",
    "        grids[f\"lr_{lern_rate}_reg_{a}_test\"] = mse_test        "
   ]
  },
  {
   "cell_type": "code",
   "execution_count": 156,
   "metadata": {},
   "outputs": [
    {
     "data": {
      "image/png": "[encoded data removed]",
      "text/plain": [
       "<Figure size 1080x864 with 1 Axes>"
      ]
     },
     "metadata": {
      "needs_background": "light"
     },
     "output_type": "display_data"
    }
   ],
   "source": [
    "plt.figure(figsize=(15,12))\n",
    "plt.plot(grids.values())\n",
    "plt.xticks(range(len(grids.keys())), grids.keys())\n",
    "plt.title(\"Mean Squared Error for 1000 iterations with regularization\")\n",
    "plt.xlabel(\"alpha\")\n",
    "plt.ylabel(\"Mean Squared Error\")\n",
    "plt.xticks(rotation = 50)\n",
    "plt.show()"
   ]
  },
  {
   "cell_type": "markdown",
   "metadata": {},
   "source": [
    "### K-NN"
   ]
  },
  {
   "cell_type": "code",
   "execution_count": 160,
   "metadata": {},
   "outputs": [],
   "source": [
    "my_knn = Pipeline([\n",
    "    ('scaler', MinMaxScaler()),\n",
    "    ('knn_reg', My_KNN(k_neighbours = 7))\n",
    "])"
   ]
  },
  {
   "cell_type": "code",
   "execution_count": 161,
   "metadata": {},
   "outputs": [
    {
     "name": "stdout",
     "output_type": "stream",
     "text": [
      "R2 score_test:  0.08729840311445292\n",
      "Test Mean Squeare Error:  93.08493805045529\n",
      "Test Mean Absolute Error:  36.0\n",
      "Predicting time : 0.23675545454025268 min\n"
     ]
    }
   ],
   "source": [
    "knn_score(my_knn, x_air_train, x_air_test, y_air_train, y_air_test)"
   ]
  },
  {
   "cell_type": "markdown",
   "metadata": {},
   "source": [
    "#### Comparaison with scikit-learn knn algorithm"
   ]
  },
  {
   "cell_type": "code",
   "execution_count": 162,
   "metadata": {},
   "outputs": [],
   "source": [
    "sk_knn = Pipeline([\n",
    "    ('scaler', MinMaxScaler()),\n",
    "    ('knn_reg', KNeighborsRegressor(n_neighbors= 7))\n",
    "])"
   ]
  },
  {
   "cell_type": "code",
   "execution_count": 163,
   "metadata": {},
   "outputs": [
    {
     "name": "stdout",
     "output_type": "stream",
     "text": [
      "R2 score_test:  0.09323063940000609\n",
      "Test Mean Squeare Error:  92.981881624123\n",
      "Test Mean Absolute Error:  35.85714285714286\n",
      "Predicting time : 0.0034331440925598144 min\n"
     ]
    }
   ],
   "source": [
    "knn_score(sk_knn, x_air_train, x_air_test, y_air_train, y_air_test)"
   ]
  },
  {
   "cell_type": "code",
   "execution_count": 164,
   "metadata": {},
   "outputs": [
    {
     "name": "stdout",
     "output_type": "stream",
     "text": [
      "Mean CV score:  0.05051995911890565\n",
      "R2 score_train:  0.29685359867137173\n",
      "R2 score_test:  0.09323063940000609\n",
      "Train Mean Squeare Error:  77.58646960302687\n",
      "Test Mean Squeare Error:  92.981881624123\n",
      "Train Mean Absolute Error:  29.85714285714286\n",
      "Test Mean Absolute Error:  35.85714285714286\n"
     ]
    }
   ],
   "source": [
    "get_model_score(sk_knn, x_air_train, x_air_test, y_air_train, y_air_test)"
   ]
  },
  {
   "cell_type": "markdown",
   "metadata": {},
   "source": [
    "#### Finding the best parameters for this data set"
   ]
  },
  {
   "cell_type": "code",
   "execution_count": 167,
   "metadata": {},
   "outputs": [],
   "source": [
    "minmax = MinMaxScaler()\n",
    "X_train = minmax.fit_transform(np.array(x_air_train))\n",
    "X_test = minmax.transform(np.array(x_air_test))"
   ]
  },
  {
   "cell_type": "code",
   "execution_count": 171,
   "metadata": {},
   "outputs": [
    {
     "data": {
      "text/plain": [
       "array([[0.75      , 0.12669683, 0.        , ..., 0.        , 0.3890411 ,\n",
       "        0.04334365],\n",
       "       [0.25      , 0.97737557, 0.        , ..., 0.        , 0.00273973,\n",
       "        0.00154799],\n",
       "       [0.25      , 0.18552036, 0.66666667, ..., 0.        , 0.33424658,\n",
       "        0.        ],\n",
       "       ...,\n",
       "       [0.5       , 0.91855204, 0.        , ..., 0.04285714, 0.95068493,\n",
       "        0.        ],\n",
       "       [0.25      , 0.12217195, 0.        , ..., 0.        , 0.23013699,\n",
       "        0.00464396],\n",
       "       [0.25      , 0.97737557, 0.        , ..., 0.        , 0.        ,\n",
       "        0.        ]])"
      ]
     },
     "execution_count": 171,
     "metadata": {},
     "output_type": "execute_result"
    }
   ],
   "source": [
    "X_test"
   ]
  },
  {
   "cell_type": "code",
   "execution_count": 187,
   "metadata": {},
   "outputs": [
    {
     "data": {
      "text/plain": [
       "296.65369704679705"
      ]
     },
     "execution_count": 187,
     "metadata": {},
     "output_type": "execute_result"
    }
   ],
   "source": [
    "model = My_KNN(k_neighbours=60, metric = \"cosine\")\n",
    "model.fit(X_train, y_air_train)\n",
    "y_pred = model.predict(X_test)\n",
    "\n",
    "model.score(y_pred, y_air_test)"
   ]
  },
  {
   "cell_type": "code",
   "execution_count": 236,
   "metadata": {},
   "outputs": [
    {
     "name": "stdout",
     "output_type": "stream",
     "text": [
      "search k for metric euclidean\n",
      "done in 0.24379454056421915 min\n",
      "search k for metric manhattan\n",
      "done in 0.24490572611490885 min\n",
      "search k for metric cosine\n",
      "done in 0.278230345249176 min\n",
      "tot 46.017427921295166 min\n",
      "{'metric': 'manhattan', 'k_neighbours': 9}\n"
     ]
    },
    {
     "data": {
      "image/png": "[encoded data removed]",
      "text/plain": [
       "<Figure size 432x288 with 1 Axes>"
      ]
     },
     "metadata": {
      "needs_background": "light"
     },
     "output_type": "display_data"
    }
   ],
   "source": [
    "start = time.time()\n",
    "\n",
    "knn = My_KNN()\n",
    "knn.fit(X_train, y_air_train)\n",
    "best_params = knn.best_params(X_test, y_air_test, 3, 40, 2)\n",
    "\n",
    "end = time.time()\n",
    "print(\"tot\", end - start, \"min\")\n",
    "print(best_params)"
   ]
  },
  {
   "cell_type": "code",
   "execution_count": 241,
   "metadata": {},
   "outputs": [
    {
     "data": {
      "text/plain": [
       "{'metric': 'manhattan', 'k_neighbours': 8}"
      ]
     },
     "execution_count": 241,
     "metadata": {},
     "output_type": "execute_result"
    }
   ],
   "source": [
    "best_params"
   ]
  },
  {
   "cell_type": "markdown",
   "metadata": {},
   "source": [
    "## FPS"
   ]
  },
  {
   "cell_type": "code",
   "execution_count": 193,
   "metadata": {},
   "outputs": [],
   "source": [
    "columns = [\"CpuName\", 'CpuNumberOfCores', 'CpuNumberOfThreads', 'CpuBaseClock', 'CpuCacheL1', 'CpuCacheL2', 'CpuCacheL3', 'CpuDieSize', 'CpuFrequency', 'CpuMultiplier', 'CpuMultiplierUnlocked', 'CpuProcessSize', 'CpuTDP', 'CpuNumberOfTransistors', 'CpuTurboClock', 'GpuName', 'GpuArchitecture', 'GpuBandwidth', 'GpuBaseClock', 'GpuBoostClock', 'GpuBus', 'GpuNumberOfComputeUnits', 'GpuDieSize', 'GpuDirectX', 'GpuNumberOfExecutionUnits', 'GpuFP32Performance', 'GpuMemoryBus', 'GpuMemorySize', 'GpuMemoryType', 'GpuOpenCL', 'GpuOpenGL', 'GpuPixelRate', 'GpuProcessSize', 'GpuNumberOfROPs', 'GpuShaderModel', 'GpuNumberOfShadingUnits', 'GpuNumberOfTMUs', 'GpuTextureRate', 'GpuNumberOfTransistors', 'GpuVulkan', 'GameName', 'GameResolution', 'GameSetting', 'Dataset', 'FPS']"
   ]
  },
  {
   "cell_type": "code",
   "execution_count": 194,
   "metadata": {},
   "outputs": [
    {
     "name": "stderr",
     "output_type": "stream",
     "text": [
      "/tmp/ipykernel_5893/1903944840.py:1: DtypeWarning: Columns (6,17,22,25,26,27,29,34,35,38) have mixed types. Specify dtype option on import or set low_memory=False.\n",
      "  fps = pd.read_csv(\"./data/fps-in-video-games.csv\", delimiter=\",\", names=columns)\n"
     ]
    }
   ],
   "source": [
    "fps = pd.read_csv(\"./data/fps-in-video-games.csv\", delimiter=\",\", names=columns)"
   ]
  },
  {
   "cell_type": "code",
   "execution_count": 195,
   "metadata": {},
   "outputs": [
    {
     "data": {
      "text/html": [
       "<div>\n",
       "<style scoped>\n",
       "    .dataframe tbody tr th:only-of-type {\n",
       "        vertical-align: middle;\n",
       "    }\n",
       "\n",
       "    .dataframe tbody tr th {\n",
       "        vertical-align: top;\n",
       "    }\n",
       "\n",
       "    .dataframe thead th {\n",
       "        text-align: right;\n",
       "    }\n",
       "</style>\n",
       "<table border=\"1\" class=\"dataframe\">\n",
       "  <thead>\n",
       "    <tr style=\"text-align: right;\">\n",
       "      <th></th>\n",
       "      <th>CpuName</th>\n",
       "      <th>CpuNumberOfCores</th>\n",
       "      <th>CpuNumberOfThreads</th>\n",
       "      <th>CpuBaseClock</th>\n",
       "      <th>CpuCacheL1</th>\n",
       "      <th>CpuCacheL2</th>\n",
       "      <th>CpuCacheL3</th>\n",
       "      <th>CpuDieSize</th>\n",
       "      <th>CpuFrequency</th>\n",
       "      <th>CpuMultiplier</th>\n",
       "      <th>...</th>\n",
       "      <th>GpuNumberOfShadingUnits</th>\n",
       "      <th>GpuNumberOfTMUs</th>\n",
       "      <th>GpuTextureRate</th>\n",
       "      <th>GpuNumberOfTransistors</th>\n",
       "      <th>GpuVulkan</th>\n",
       "      <th>GameName</th>\n",
       "      <th>GameResolution</th>\n",
       "      <th>GameSetting</th>\n",
       "      <th>Dataset</th>\n",
       "      <th>FPS</th>\n",
       "    </tr>\n",
       "  </thead>\n",
       "  <tbody>\n",
       "    <tr>\n",
       "      <th>0</th>\n",
       "      <td>'Intel Core i7-920'</td>\n",
       "      <td>4</td>\n",
       "      <td>8</td>\n",
       "      <td>133</td>\n",
       "      <td>256</td>\n",
       "      <td>1024</td>\n",
       "      <td>8</td>\n",
       "      <td>0.000263</td>\n",
       "      <td>2666</td>\n",
       "      <td>20.0</td>\n",
       "      <td>...</td>\n",
       "      <td>2304</td>\n",
       "      <td>144</td>\n",
       "      <td>182300</td>\n",
       "      <td>5700</td>\n",
       "      <td>1.2.131</td>\n",
       "      <td>counterStrikeGlobalOffensive</td>\n",
       "      <td>1080</td>\n",
       "      <td>low</td>\n",
       "      <td>userbenchmark</td>\n",
       "      <td>70.0</td>\n",
       "    </tr>\n",
       "    <tr>\n",
       "      <th>1</th>\n",
       "      <td>'Intel Core i7-920'</td>\n",
       "      <td>4</td>\n",
       "      <td>8</td>\n",
       "      <td>133</td>\n",
       "      <td>256</td>\n",
       "      <td>1024</td>\n",
       "      <td>8</td>\n",
       "      <td>0.000263</td>\n",
       "      <td>2666</td>\n",
       "      <td>20.0</td>\n",
       "      <td>...</td>\n",
       "      <td>2304</td>\n",
       "      <td>144</td>\n",
       "      <td>182300</td>\n",
       "      <td>5700</td>\n",
       "      <td>1.2.131</td>\n",
       "      <td>counterStrikeGlobalOffensive</td>\n",
       "      <td>1080</td>\n",
       "      <td>low</td>\n",
       "      <td>userbenchmark</td>\n",
       "      <td>230.0</td>\n",
       "    </tr>\n",
       "    <tr>\n",
       "      <th>2</th>\n",
       "      <td>'Intel Core i5-4690'</td>\n",
       "      <td>4</td>\n",
       "      <td>4</td>\n",
       "      <td>100</td>\n",
       "      <td>256</td>\n",
       "      <td>1024</td>\n",
       "      <td>6</td>\n",
       "      <td>0.000177</td>\n",
       "      <td>3400</td>\n",
       "      <td>34.0</td>\n",
       "      <td>...</td>\n",
       "      <td>2560</td>\n",
       "      <td>160</td>\n",
       "      <td>277300</td>\n",
       "      <td>7200</td>\n",
       "      <td>1.2.131</td>\n",
       "      <td>counterStrikeGlobalOffensive</td>\n",
       "      <td>1080</td>\n",
       "      <td>low</td>\n",
       "      <td>userbenchmark</td>\n",
       "      <td>250.0</td>\n",
       "    </tr>\n",
       "    <tr>\n",
       "      <th>3</th>\n",
       "      <td>'Intel Core i5-4690'</td>\n",
       "      <td>4</td>\n",
       "      <td>4</td>\n",
       "      <td>100</td>\n",
       "      <td>256</td>\n",
       "      <td>1024</td>\n",
       "      <td>6</td>\n",
       "      <td>0.000177</td>\n",
       "      <td>3400</td>\n",
       "      <td>34.0</td>\n",
       "      <td>...</td>\n",
       "      <td>2560</td>\n",
       "      <td>160</td>\n",
       "      <td>277300</td>\n",
       "      <td>7200</td>\n",
       "      <td>1.2.131</td>\n",
       "      <td>counterStrikeGlobalOffensive</td>\n",
       "      <td>1080</td>\n",
       "      <td>low</td>\n",
       "      <td>userbenchmark</td>\n",
       "      <td>300.0</td>\n",
       "    </tr>\n",
       "    <tr>\n",
       "      <th>4</th>\n",
       "      <td>'Intel Core i5-4690'</td>\n",
       "      <td>4</td>\n",
       "      <td>4</td>\n",
       "      <td>100</td>\n",
       "      <td>256</td>\n",
       "      <td>1024</td>\n",
       "      <td>6</td>\n",
       "      <td>0.000177</td>\n",
       "      <td>3400</td>\n",
       "      <td>34.0</td>\n",
       "      <td>...</td>\n",
       "      <td>896</td>\n",
       "      <td>56</td>\n",
       "      <td>61600</td>\n",
       "      <td>2080</td>\n",
       "      <td>1.2.131</td>\n",
       "      <td>counterStrikeGlobalOffensive</td>\n",
       "      <td>1080</td>\n",
       "      <td>low</td>\n",
       "      <td>userbenchmark</td>\n",
       "      <td>200.0</td>\n",
       "    </tr>\n",
       "    <tr>\n",
       "      <th>...</th>\n",
       "      <td>...</td>\n",
       "      <td>...</td>\n",
       "      <td>...</td>\n",
       "      <td>...</td>\n",
       "      <td>...</td>\n",
       "      <td>...</td>\n",
       "      <td>...</td>\n",
       "      <td>...</td>\n",
       "      <td>...</td>\n",
       "      <td>...</td>\n",
       "      <td>...</td>\n",
       "      <td>...</td>\n",
       "      <td>...</td>\n",
       "      <td>...</td>\n",
       "      <td>...</td>\n",
       "      <td>...</td>\n",
       "      <td>...</td>\n",
       "      <td>...</td>\n",
       "      <td>...</td>\n",
       "      <td>...</td>\n",
       "      <td>...</td>\n",
       "    </tr>\n",
       "    <tr>\n",
       "      <th>425828</th>\n",
       "      <td>'AMD Ryzen 5 3600'</td>\n",
       "      <td>6</td>\n",
       "      <td>12</td>\n",
       "      <td>100</td>\n",
       "      <td>576</td>\n",
       "      <td>3072</td>\n",
       "      <td>32</td>\n",
       "      <td>0.000074</td>\n",
       "      <td>3600</td>\n",
       "      <td>36.0</td>\n",
       "      <td>...</td>\n",
       "      <td>2048</td>\n",
       "      <td>128</td>\n",
       "      <td>159200</td>\n",
       "      <td>5700</td>\n",
       "      <td>1.2.131</td>\n",
       "      <td>rainbowSixSiege</td>\n",
       "      <td>1080</td>\n",
       "      <td>max</td>\n",
       "      <td>fpsbenchmark</td>\n",
       "      <td>51.5</td>\n",
       "    </tr>\n",
       "    <tr>\n",
       "      <th>425829</th>\n",
       "      <td>'AMD Ryzen 5 2600X'</td>\n",
       "      <td>6</td>\n",
       "      <td>12</td>\n",
       "      <td>100</td>\n",
       "      <td>576</td>\n",
       "      <td>3072</td>\n",
       "      <td>16</td>\n",
       "      <td>0.000192</td>\n",
       "      <td>3600</td>\n",
       "      <td>36.0</td>\n",
       "      <td>...</td>\n",
       "      <td>2048</td>\n",
       "      <td>128</td>\n",
       "      <td>159200</td>\n",
       "      <td>5700</td>\n",
       "      <td>1.2.131</td>\n",
       "      <td>rainbowSixSiege</td>\n",
       "      <td>1080</td>\n",
       "      <td>max</td>\n",
       "      <td>fpsbenchmark</td>\n",
       "      <td>49.9</td>\n",
       "    </tr>\n",
       "    <tr>\n",
       "      <th>425830</th>\n",
       "      <td>'AMD Ryzen 5 1600X'</td>\n",
       "      <td>6</td>\n",
       "      <td>12</td>\n",
       "      <td>100</td>\n",
       "      <td>576</td>\n",
       "      <td>3072</td>\n",
       "      <td>16</td>\n",
       "      <td>0.000192</td>\n",
       "      <td>3600</td>\n",
       "      <td>36.0</td>\n",
       "      <td>...</td>\n",
       "      <td>2048</td>\n",
       "      <td>128</td>\n",
       "      <td>159200</td>\n",
       "      <td>5700</td>\n",
       "      <td>1.2.131</td>\n",
       "      <td>rainbowSixSiege</td>\n",
       "      <td>1080</td>\n",
       "      <td>max</td>\n",
       "      <td>fpsbenchmark</td>\n",
       "      <td>46.9</td>\n",
       "    </tr>\n",
       "    <tr>\n",
       "      <th>425831</th>\n",
       "      <td>'AMD Ryzen 5 2600'</td>\n",
       "      <td>6</td>\n",
       "      <td>12</td>\n",
       "      <td>100</td>\n",
       "      <td>576</td>\n",
       "      <td>3072</td>\n",
       "      <td>16</td>\n",
       "      <td>0.000192</td>\n",
       "      <td>3400</td>\n",
       "      <td>34.0</td>\n",
       "      <td>...</td>\n",
       "      <td>2048</td>\n",
       "      <td>128</td>\n",
       "      <td>159200</td>\n",
       "      <td>5700</td>\n",
       "      <td>1.2.131</td>\n",
       "      <td>rainbowSixSiege</td>\n",
       "      <td>1080</td>\n",
       "      <td>max</td>\n",
       "      <td>fpsbenchmark</td>\n",
       "      <td>46.4</td>\n",
       "    </tr>\n",
       "    <tr>\n",
       "      <th>425832</th>\n",
       "      <td>'AMD Ryzen 7 1700X'</td>\n",
       "      <td>8</td>\n",
       "      <td>16</td>\n",
       "      <td>100</td>\n",
       "      <td>768</td>\n",
       "      <td>4096</td>\n",
       "      <td>16</td>\n",
       "      <td>0.000192</td>\n",
       "      <td>3400</td>\n",
       "      <td>34.0</td>\n",
       "      <td>...</td>\n",
       "      <td>2048</td>\n",
       "      <td>128</td>\n",
       "      <td>159200</td>\n",
       "      <td>5700</td>\n",
       "      <td>1.2.131</td>\n",
       "      <td>rainbowSixSiege</td>\n",
       "      <td>1080</td>\n",
       "      <td>max</td>\n",
       "      <td>fpsbenchmark</td>\n",
       "      <td>45.2</td>\n",
       "    </tr>\n",
       "  </tbody>\n",
       "</table>\n",
       "<p>425833 rows × 45 columns</p>\n",
       "</div>"
      ],
      "text/plain": [
       "                     CpuName  CpuNumberOfCores  CpuNumberOfThreads  \\\n",
       "0        'Intel Core i7-920'                 4                   8   \n",
       "1        'Intel Core i7-920'                 4                   8   \n",
       "2       'Intel Core i5-4690'                 4                   4   \n",
       "3       'Intel Core i5-4690'                 4                   4   \n",
       "4       'Intel Core i5-4690'                 4                   4   \n",
       "...                      ...               ...                 ...   \n",
       "425828    'AMD Ryzen 5 3600'                 6                  12   \n",
       "425829   'AMD Ryzen 5 2600X'                 6                  12   \n",
       "425830   'AMD Ryzen 5 1600X'                 6                  12   \n",
       "425831    'AMD Ryzen 5 2600'                 6                  12   \n",
       "425832   'AMD Ryzen 7 1700X'                 8                  16   \n",
       "\n",
       "        CpuBaseClock  CpuCacheL1  CpuCacheL2 CpuCacheL3 CpuDieSize  \\\n",
       "0                133         256        1024          8   0.000263   \n",
       "1                133         256        1024          8   0.000263   \n",
       "2                100         256        1024          6   0.000177   \n",
       "3                100         256        1024          6   0.000177   \n",
       "4                100         256        1024          6   0.000177   \n",
       "...              ...         ...         ...        ...        ...   \n",
       "425828           100         576        3072         32   0.000074   \n",
       "425829           100         576        3072         16   0.000192   \n",
       "425830           100         576        3072         16   0.000192   \n",
       "425831           100         576        3072         16   0.000192   \n",
       "425832           100         768        4096         16   0.000192   \n",
       "\n",
       "        CpuFrequency  CpuMultiplier  ...  GpuNumberOfShadingUnits  \\\n",
       "0               2666           20.0  ...                     2304   \n",
       "1               2666           20.0  ...                     2304   \n",
       "2               3400           34.0  ...                     2560   \n",
       "3               3400           34.0  ...                     2560   \n",
       "4               3400           34.0  ...                      896   \n",
       "...              ...            ...  ...                      ...   \n",
       "425828          3600           36.0  ...                     2048   \n",
       "425829          3600           36.0  ...                     2048   \n",
       "425830          3600           36.0  ...                     2048   \n",
       "425831          3400           34.0  ...                     2048   \n",
       "425832          3400           34.0  ...                     2048   \n",
       "\n",
       "        GpuNumberOfTMUs  GpuTextureRate GpuNumberOfTransistors  GpuVulkan  \\\n",
       "0                   144          182300                   5700    1.2.131   \n",
       "1                   144          182300                   5700    1.2.131   \n",
       "2                   160          277300                   7200    1.2.131   \n",
       "3                   160          277300                   7200    1.2.131   \n",
       "4                    56           61600                   2080    1.2.131   \n",
       "...                 ...             ...                    ...        ...   \n",
       "425828              128          159200                   5700    1.2.131   \n",
       "425829              128          159200                   5700    1.2.131   \n",
       "425830              128          159200                   5700    1.2.131   \n",
       "425831              128          159200                   5700    1.2.131   \n",
       "425832              128          159200                   5700    1.2.131   \n",
       "\n",
       "                            GameName GameResolution GameSetting  \\\n",
       "0       counterStrikeGlobalOffensive           1080         low   \n",
       "1       counterStrikeGlobalOffensive           1080         low   \n",
       "2       counterStrikeGlobalOffensive           1080         low   \n",
       "3       counterStrikeGlobalOffensive           1080         low   \n",
       "4       counterStrikeGlobalOffensive           1080         low   \n",
       "...                              ...            ...         ...   \n",
       "425828               rainbowSixSiege           1080         max   \n",
       "425829               rainbowSixSiege           1080         max   \n",
       "425830               rainbowSixSiege           1080         max   \n",
       "425831               rainbowSixSiege           1080         max   \n",
       "425832               rainbowSixSiege           1080         max   \n",
       "\n",
       "              Dataset    FPS  \n",
       "0       userbenchmark   70.0  \n",
       "1       userbenchmark  230.0  \n",
       "2       userbenchmark  250.0  \n",
       "3       userbenchmark  300.0  \n",
       "4       userbenchmark  200.0  \n",
       "...               ...    ...  \n",
       "425828   fpsbenchmark   51.5  \n",
       "425829   fpsbenchmark   49.9  \n",
       "425830   fpsbenchmark   46.9  \n",
       "425831   fpsbenchmark   46.4  \n",
       "425832   fpsbenchmark   45.2  \n",
       "\n",
       "[425833 rows x 45 columns]"
      ]
     },
     "execution_count": 195,
     "metadata": {},
     "output_type": "execute_result"
    }
   ],
   "source": [
    "fps"
   ]
  },
  {
   "cell_type": "code",
   "execution_count": 196,
   "metadata": {},
   "outputs": [
    {
     "data": {
      "text/plain": [
       "358"
      ]
     },
     "execution_count": 196,
     "metadata": {},
     "output_type": "execute_result"
    }
   ],
   "source": [
    "fps.CpuName.nunique()"
   ]
  },
  {
   "cell_type": "code",
   "execution_count": 197,
   "metadata": {},
   "outputs": [],
   "source": [
    "fps_numeric = fps.drop(['CpuName', 'CpuMultiplierUnlocked', 'GpuName', 'GpuArchitecture', 'GpuBus', 'GpuDirectX', 'GpuMemoryType', 'GpuOpenCL', 'GpuOpenGL', 'GpuShaderModel', 'GpuVulkan', 'Dataset', 'CpuCacheL3'], axis = 1)"
   ]
  },
  {
   "cell_type": "code",
   "execution_count": 198,
   "metadata": {},
   "outputs": [],
   "source": [
    "fps_numeric['GameName'] = fps_numeric['GameName'].astype(\"category\").cat.codes\n",
    "fps_numeric['GameSetting'] = fps_numeric['GameSetting'].astype(\"category\").cat.codes"
   ]
  },
  {
   "cell_type": "code",
   "execution_count": 199,
   "metadata": {},
   "outputs": [
    {
     "name": "stdout",
     "output_type": "stream",
     "text": [
      "<class 'pandas.core.frame.DataFrame'>\n",
      "RangeIndex: 425833 entries, 0 to 425832\n",
      "Data columns (total 32 columns):\n",
      " #   Column                     Non-Null Count   Dtype  \n",
      "---  ------                     --------------   -----  \n",
      " 0   CpuNumberOfCores           425833 non-null  int64  \n",
      " 1   CpuNumberOfThreads         425833 non-null  int64  \n",
      " 2   CpuBaseClock               425833 non-null  int64  \n",
      " 3   CpuCacheL1                 425833 non-null  int64  \n",
      " 4   CpuCacheL2                 425833 non-null  int64  \n",
      " 5   CpuDieSize                 425833 non-null  object \n",
      " 6   CpuFrequency               425833 non-null  int64  \n",
      " 7   CpuMultiplier              425833 non-null  float64\n",
      " 8   CpuProcessSize             425833 non-null  int64  \n",
      " 9   CpuTDP                     425833 non-null  int64  \n",
      " 10  CpuNumberOfTransistors     425833 non-null  object \n",
      " 11  CpuTurboClock              425833 non-null  int64  \n",
      " 12  GpuBandwidth               425833 non-null  object \n",
      " 13  GpuBaseClock               425833 non-null  int64  \n",
      " 14  GpuBoostClock              425833 non-null  int64  \n",
      " 15  GpuNumberOfComputeUnits    425833 non-null  object \n",
      " 16  GpuDieSize                 425833 non-null  object \n",
      " 17  GpuNumberOfExecutionUnits  425833 non-null  object \n",
      " 18  GpuFP32Performance         425833 non-null  object \n",
      " 19  GpuMemoryBus               425833 non-null  object \n",
      " 20  GpuMemorySize              425833 non-null  object \n",
      " 21  GpuPixelRate               425833 non-null  int64  \n",
      " 22  GpuProcessSize             425833 non-null  int64  \n",
      " 23  GpuNumberOfROPs            425833 non-null  int64  \n",
      " 24  GpuNumberOfShadingUnits    425833 non-null  object \n",
      " 25  GpuNumberOfTMUs            425833 non-null  int64  \n",
      " 26  GpuTextureRate             425833 non-null  int64  \n",
      " 27  GpuNumberOfTransistors     425833 non-null  object \n",
      " 28  GameName                   425833 non-null  int8   \n",
      " 29  GameResolution             425833 non-null  int64  \n",
      " 30  GameSetting                425833 non-null  int8   \n",
      " 31  FPS                        425833 non-null  float64\n",
      "dtypes: float64(2), int64(17), int8(2), object(11)\n",
      "memory usage: 98.3+ MB\n"
     ]
    }
   ],
   "source": [
    "fps_numeric.info()"
   ]
  },
  {
   "cell_type": "code",
   "execution_count": 200,
   "metadata": {},
   "outputs": [],
   "source": [
    "fps_numeric= fps_numeric.replace(\"?\", np.NaN)"
   ]
  },
  {
   "cell_type": "code",
   "execution_count": 201,
   "metadata": {},
   "outputs": [
    {
     "data": {
      "text/plain": [
       "CpuNumberOfCores                  0\n",
       "CpuNumberOfThreads                0\n",
       "CpuBaseClock                      0\n",
       "CpuCacheL1                        0\n",
       "CpuCacheL2                        0\n",
       "CpuDieSize                   202534\n",
       "CpuFrequency                      0\n",
       "CpuMultiplier                     0\n",
       "CpuProcessSize                    0\n",
       "CpuTDP                            0\n",
       "CpuNumberOfTransistors       226039\n",
       "CpuTurboClock                     0\n",
       "GpuBandwidth                  15441\n",
       "GpuBaseClock                      0\n",
       "GpuBoostClock                     0\n",
       "GpuNumberOfComputeUnits      357107\n",
       "GpuDieSize                    11196\n",
       "GpuNumberOfExecutionUnits    412935\n",
       "GpuFP32Performance               56\n",
       "GpuMemoryBus                  15441\n",
       "GpuMemorySize                 15441\n",
       "GpuPixelRate                      0\n",
       "GpuProcessSize                    0\n",
       "GpuNumberOfROPs                   0\n",
       "GpuNumberOfShadingUnits          56\n",
       "GpuNumberOfTMUs                   0\n",
       "GpuTextureRate                    0\n",
       "GpuNumberOfTransistors        11539\n",
       "GameName                          0\n",
       "GameResolution                    0\n",
       "GameSetting                       0\n",
       "FPS                               0\n",
       "dtype: int64"
      ]
     },
     "execution_count": 201,
     "metadata": {},
     "output_type": "execute_result"
    }
   ],
   "source": [
    "fps_numeric.isna().sum()"
   ]
  },
  {
   "cell_type": "markdown",
   "metadata": {},
   "source": [
    "I will drop more columns that have a lot of missing values"
   ]
  },
  {
   "cell_type": "code",
   "execution_count": 202,
   "metadata": {},
   "outputs": [],
   "source": [
    "fps_numeric = fps_numeric.drop(['CpuDieSize', 'CpuNumberOfTransistors', 'GpuNumberOfComputeUnits', 'GpuNumberOfExecutionUnits'], axis=1)"
   ]
  },
  {
   "cell_type": "code",
   "execution_count": 203,
   "metadata": {},
   "outputs": [],
   "source": [
    "inp = SimpleImputer()"
   ]
  },
  {
   "cell_type": "code",
   "execution_count": 204,
   "metadata": {},
   "outputs": [],
   "source": [
    "fps_numeric_imputed = inp.fit_transform(fps_numeric)\n",
    "fps_numeric_imputed = pd.DataFrame(fps_numeric_imputed, columns=fps_numeric.columns)"
   ]
  },
  {
   "cell_type": "code",
   "execution_count": 205,
   "metadata": {},
   "outputs": [
    {
     "name": "stdout",
     "output_type": "stream",
     "text": [
      "<class 'pandas.core.frame.DataFrame'>\n",
      "RangeIndex: 425833 entries, 0 to 425832\n",
      "Data columns (total 28 columns):\n",
      " #   Column                   Non-Null Count   Dtype  \n",
      "---  ------                   --------------   -----  \n",
      " 0   CpuNumberOfCores         425833 non-null  float64\n",
      " 1   CpuNumberOfThreads       425833 non-null  float64\n",
      " 2   CpuBaseClock             425833 non-null  float64\n",
      " 3   CpuCacheL1               425833 non-null  float64\n",
      " 4   CpuCacheL2               425833 non-null  float64\n",
      " 5   CpuFrequency             425833 non-null  float64\n",
      " 6   CpuMultiplier            425833 non-null  float64\n",
      " 7   CpuProcessSize           425833 non-null  float64\n",
      " 8   CpuTDP                   425833 non-null  float64\n",
      " 9   CpuTurboClock            425833 non-null  float64\n",
      " 10  GpuBandwidth             425833 non-null  float64\n",
      " 11  GpuBaseClock             425833 non-null  float64\n",
      " 12  GpuBoostClock            425833 non-null  float64\n",
      " 13  GpuDieSize               425833 non-null  float64\n",
      " 14  GpuFP32Performance       425833 non-null  float64\n",
      " 15  GpuMemoryBus             425833 non-null  float64\n",
      " 16  GpuMemorySize            425833 non-null  float64\n",
      " 17  GpuPixelRate             425833 non-null  float64\n",
      " 18  GpuProcessSize           425833 non-null  float64\n",
      " 19  GpuNumberOfROPs          425833 non-null  float64\n",
      " 20  GpuNumberOfShadingUnits  425833 non-null  float64\n",
      " 21  GpuNumberOfTMUs          425833 non-null  float64\n",
      " 22  GpuTextureRate           425833 non-null  float64\n",
      " 23  GpuNumberOfTransistors   425833 non-null  float64\n",
      " 24  GameName                 425833 non-null  float64\n",
      " 25  GameResolution           425833 non-null  float64\n",
      " 26  GameSetting              425833 non-null  float64\n",
      " 27  FPS                      425833 non-null  float64\n",
      "dtypes: float64(28)\n",
      "memory usage: 91.0 MB\n"
     ]
    }
   ],
   "source": [
    "fps_numeric_imputed.info()"
   ]
  },
  {
   "cell_type": "code",
   "execution_count": 206,
   "metadata": {},
   "outputs": [],
   "source": [
    "x = fps_numeric_imputed.drop(\"FPS\", axis = 1)\n",
    "y = fps_numeric_imputed.FPS\n",
    "\n",
    "sc = MinMaxScaler()\n",
    "x_scaled = sc.fit_transform(x)\n",
    "\n",
    "x_fps_train, x_fps_test, y_fps_train, y_fps_test = train_test_split(x, y, test_size=0.2)"
   ]
  },
  {
   "cell_type": "code",
   "execution_count": 207,
   "metadata": {},
   "outputs": [
    {
     "data": {
      "text/plain": [
       "((340666, 27), (85167, 27), (340666,), (85167,))"
      ]
     },
     "execution_count": 207,
     "metadata": {},
     "output_type": "execute_result"
    }
   ],
   "source": [
    "x_fps_train.shape, x_fps_test.shape, y_fps_train.shape, y_fps_test.shape"
   ]
  },
  {
   "cell_type": "code",
   "execution_count": 230,
   "metadata": {},
   "outputs": [
    {
     "data": {
      "text/plain": [
       "11497491"
      ]
     },
     "execution_count": 230,
     "metadata": {},
     "output_type": "execute_result"
    }
   ],
   "source": [
    "(85167 + 340666) * 27"
   ]
  },
  {
   "cell_type": "markdown",
   "metadata": {},
   "source": [
    "### Baseline Models"
   ]
  },
  {
   "cell_type": "code",
   "execution_count": 208,
   "metadata": {},
   "outputs": [],
   "source": [
    "linear = Pipeline([\n",
    "    ('scaler', MinMaxScaler()),\n",
    "    ('lin_reg', Ridge())\n",
    "])"
   ]
  },
  {
   "cell_type": "code",
   "execution_count": 209,
   "metadata": {},
   "outputs": [
    {
     "name": "stdout",
     "output_type": "stream",
     "text": [
      "Mean CV score:  0.21523647361683382\n",
      "R2 score_train:  0.21542970034147635\n",
      "R2 score_test:  0.21717639119013932\n",
      "Train Mean Squeare Error:  59.128746284026334\n",
      "Test Mean Squeare Error:  59.00346057524842\n",
      "Train Mean Absolute Error:  48.63579463795698\n",
      "Test Mean Absolute Error:  48.63504272216434\n"
     ]
    }
   ],
   "source": [
    "get_model_score(linear, x_fps_train, x_fps_test, y_fps_train, y_fps_test)"
   ]
  },
  {
   "cell_type": "code",
   "execution_count": 210,
   "metadata": {},
   "outputs": [],
   "source": [
    "dt = Pipeline([\n",
    "    ('scaler', MinMaxScaler()),\n",
    "    ('df_reg', DecisionTreeRegressor(min_samples_split=4))\n",
    "])"
   ]
  },
  {
   "cell_type": "code",
   "execution_count": 211,
   "metadata": {},
   "outputs": [
    {
     "name": "stdout",
     "output_type": "stream",
     "text": [
      "Mean CV score:  0.6176194420991006\n",
      "R2 score_train:  0.776222138393768\n",
      "R2 score_test:  0.6270464524350172\n",
      "Train Mean Squeare Error:  25.509987570748034\n",
      "Test Mean Squeare Error:  33.25007592772401\n",
      "Train Mean Absolute Error:  15.35364041604754\n",
      "Test Mean Absolute Error:  20.0\n"
     ]
    }
   ],
   "source": [
    "get_model_score(dt, x_fps_train, x_fps_test, y_fps_train, y_fps_test)"
   ]
  },
  {
   "cell_type": "code",
   "execution_count": 212,
   "metadata": {},
   "outputs": [],
   "source": [
    "ada = Pipeline([\n",
    "    ('scaler', MinMaxScaler()),\n",
    "    ('ada_reg', AdaBoostRegressor())\n",
    "])"
   ]
  },
  {
   "cell_type": "code",
   "execution_count": 213,
   "metadata": {},
   "outputs": [
    {
     "name": "stdout",
     "output_type": "stream",
     "text": [
      "Mean CV score:  0.1646480660703411\n",
      "R2 score_train:  0.17159573697468133\n",
      "R2 score_test:  0.17521393879307856\n",
      "Train Mean Squeare Error:  65.26628889207208\n",
      "Test Mean Squeare Error:  64.99544587099841\n",
      "Train Mean Absolute Error:  57.27079981678099\n",
      "Test Mean Absolute Error:  57.27079981678099\n"
     ]
    }
   ],
   "source": [
    "get_model_score(ada, x_fps_train, x_fps_test, y_fps_train, y_fps_test)"
   ]
  },
  {
   "cell_type": "code",
   "execution_count": 214,
   "metadata": {},
   "outputs": [],
   "source": [
    "grad = Pipeline([\n",
    "    ('scaler', MinMaxScaler()),\n",
    "    ('grad_reg', GradientBoostingRegressor())\n",
    "])"
   ]
  },
  {
   "cell_type": "code",
   "execution_count": 215,
   "metadata": {},
   "outputs": [
    {
     "name": "stdout",
     "output_type": "stream",
     "text": [
      "Mean CV score:  0.6344324356627047\n",
      "R2 score_train:  0.6349701823425502\n",
      "R2 score_test:  0.6387887005626752\n",
      "Train Mean Squeare Error:  35.532505548031985\n",
      "Test Mean Squeare Error:  35.55280072219344\n",
      "Train Mean Absolute Error:  25.01967501293906\n",
      "Test Mean Absolute Error:  25.057035126703184\n"
     ]
    }
   ],
   "source": [
    "get_model_score(grad, x_fps_train, x_fps_test, y_fps_train, y_fps_test)"
   ]
  },
  {
   "cell_type": "markdown",
   "metadata": {},
   "source": [
    "### Gradient Descent"
   ]
  },
  {
   "cell_type": "code",
   "execution_count": 216,
   "metadata": {},
   "outputs": [],
   "source": [
    "my_lr = Pipeline([\n",
    "    ('scaler', MinMaxScaler()),\n",
    "    ('lr_reg', LinearRegression(alpha=1, itterations=1000))\n",
    "])"
   ]
  },
  {
   "cell_type": "code",
   "execution_count": 217,
   "metadata": {},
   "outputs": [
    {
     "name": "stdout",
     "output_type": "stream",
     "text": [
      "Mean CV score:  0.21034095637003042\n",
      "R2 score_train:  0.21039945778743463\n",
      "R2 score_test:  0.2126193594574095\n",
      "Train Mean Squeare Error:  59.359373224498036\n",
      "Test Mean Squeare Error:  59.221769591477994\n",
      "Train Mean Absolute Error:  49.06950915183293\n",
      "Test Mean Absolute Error:  48.987222863883204\n"
     ]
    }
   ],
   "source": [
    "get_model_score(my_lr, x_fps_train, x_fps_test, y_fps_train, y_fps_test)"
   ]
  },
  {
   "cell_type": "code",
   "execution_count": 218,
   "metadata": {},
   "outputs": [],
   "source": [
    "x_scaled_train, x_scaled_test, y_train, y_test = train_test_split(x_scaled,y, test_size=0.2)"
   ]
  },
  {
   "cell_type": "code",
   "execution_count": 219,
   "metadata": {},
   "outputs": [
    {
     "data": {
      "text/plain": [
       "(85167, 27)"
      ]
     },
     "execution_count": 219,
     "metadata": {},
     "output_type": "execute_result"
    }
   ],
   "source": [
    "x_scaled_test.shape"
   ]
  },
  {
   "cell_type": "code",
   "execution_count": 220,
   "metadata": {},
   "outputs": [
    {
     "data": {
      "text/plain": [
       "array([[0.09677419, 0.04761905, 0.        , ..., 0.13793103, 0.5       ,\n",
       "        0.66666667],\n",
       "       [0.22580645, 0.11111111, 0.14285714, ..., 0.24137931, 1.        ,\n",
       "        0.66666667],\n",
       "       [0.03225806, 0.04761905, 0.        , ..., 0.31034483, 0.        ,\n",
       "        0.33333333],\n",
       "       ...,\n",
       "       [0.16129032, 0.07936508, 0.        , ..., 0.55172414, 0.5       ,\n",
       "        0.66666667],\n",
       "       [0.03225806, 0.04761905, 0.        , ..., 0.44827586, 0.        ,\n",
       "        0.        ],\n",
       "       [0.09677419, 0.11111111, 0.        , ..., 0.5862069 , 0.5       ,\n",
       "        0.        ]])"
      ]
     },
     "execution_count": 220,
     "metadata": {},
     "output_type": "execute_result"
    }
   ],
   "source": [
    "x_scaled_test"
   ]
  },
  {
   "cell_type": "code",
   "execution_count": 135,
   "metadata": {},
   "outputs": [
    {
     "name": "stderr",
     "output_type": "stream",
     "text": [
      "/tmp/ipykernel_4186/1172755435.py:23: RuntimeWarning: overflow encountered in multiply\n",
      "  dw = (-( 2*(x.T).dot(y - y_pred)) + (2 * self.alpha * self.weights)) / self.n_samples\n"
     ]
    },
    {
     "ename": "ValueError",
     "evalue": "Input contains NaN, infinity or a value too large for dtype('float64').",
     "output_type": "error",
     "traceback": [
      "\u001b[0;31m---------------------------------------------------------------------------\u001b[0m",
      "\u001b[0;31mValueError\u001b[0m                                Traceback (most recent call last)",
      "Input \u001b[0;32mIn [135]\u001b[0m, in \u001b[0;36m<cell line: 3>\u001b[0;34m()\u001b[0m\n\u001b[1;32m      8\u001b[0m preds_test \u001b[38;5;241m=\u001b[39m lr\u001b[38;5;241m.\u001b[39mpredict(x_scaled_test)\n\u001b[1;32m      9\u001b[0m \u001b[38;5;66;03m#mse_train = mean_squared_error(y_air_train.to_numpy(), preds_train)\u001b[39;00m\n\u001b[0;32m---> 10\u001b[0m mse_test \u001b[38;5;241m=\u001b[39m \u001b[43mmean_squared_error\u001b[49m\u001b[43m(\u001b[49m\u001b[43my_test\u001b[49m\u001b[38;5;241;43m.\u001b[39;49m\u001b[43mvalues\u001b[49m\u001b[43m,\u001b[49m\u001b[43m \u001b[49m\u001b[43mpreds_test\u001b[49m\u001b[43m)\u001b[49m \n\u001b[1;32m     12\u001b[0m \u001b[38;5;66;03m#grids[f\"{lern_rate}_{a}_train\"] = mse_train\u001b[39;00m\n\u001b[1;32m     13\u001b[0m grids[\u001b[38;5;124mf\u001b[39m\u001b[38;5;124m\"\u001b[39m\u001b[38;5;124mlr_\u001b[39m\u001b[38;5;132;01m{\u001b[39;00mlern_rate\u001b[38;5;132;01m}\u001b[39;00m\u001b[38;5;124m_reg_\u001b[39m\u001b[38;5;132;01m{\u001b[39;00ma\u001b[38;5;132;01m}\u001b[39;00m\u001b[38;5;124m_test\u001b[39m\u001b[38;5;124m\"\u001b[39m] \u001b[38;5;241m=\u001b[39m mse_test\n",
      "File \u001b[0;32m~/anaconda3/lib/python3.9/site-packages/sklearn/metrics/_regression.py:438\u001b[0m, in \u001b[0;36mmean_squared_error\u001b[0;34m(y_true, y_pred, sample_weight, multioutput, squared)\u001b[0m\n\u001b[1;32m    378\u001b[0m \u001b[38;5;28;01mdef\u001b[39;00m \u001b[38;5;21mmean_squared_error\u001b[39m(\n\u001b[1;32m    379\u001b[0m     y_true, y_pred, \u001b[38;5;241m*\u001b[39m, sample_weight\u001b[38;5;241m=\u001b[39m\u001b[38;5;28;01mNone\u001b[39;00m, multioutput\u001b[38;5;241m=\u001b[39m\u001b[38;5;124m\"\u001b[39m\u001b[38;5;124muniform_average\u001b[39m\u001b[38;5;124m\"\u001b[39m, squared\u001b[38;5;241m=\u001b[39m\u001b[38;5;28;01mTrue\u001b[39;00m\n\u001b[1;32m    380\u001b[0m ):\n\u001b[1;32m    381\u001b[0m     \u001b[38;5;124;03m\"\"\"Mean squared error regression loss.\u001b[39;00m\n\u001b[1;32m    382\u001b[0m \n\u001b[1;32m    383\u001b[0m \u001b[38;5;124;03m    Read more in the :ref:`User Guide <mean_squared_error>`.\u001b[39;00m\n\u001b[0;32m   (...)\u001b[0m\n\u001b[1;32m    436\u001b[0m \u001b[38;5;124;03m    0.825...\u001b[39;00m\n\u001b[1;32m    437\u001b[0m \u001b[38;5;124;03m    \"\"\"\u001b[39;00m\n\u001b[0;32m--> 438\u001b[0m     y_type, y_true, y_pred, multioutput \u001b[38;5;241m=\u001b[39m \u001b[43m_check_reg_targets\u001b[49m\u001b[43m(\u001b[49m\n\u001b[1;32m    439\u001b[0m \u001b[43m        \u001b[49m\u001b[43my_true\u001b[49m\u001b[43m,\u001b[49m\u001b[43m \u001b[49m\u001b[43my_pred\u001b[49m\u001b[43m,\u001b[49m\u001b[43m \u001b[49m\u001b[43mmultioutput\u001b[49m\n\u001b[1;32m    440\u001b[0m \u001b[43m    \u001b[49m\u001b[43m)\u001b[49m\n\u001b[1;32m    441\u001b[0m     check_consistent_length(y_true, y_pred, sample_weight)\n\u001b[1;32m    442\u001b[0m     output_errors \u001b[38;5;241m=\u001b[39m np\u001b[38;5;241m.\u001b[39maverage((y_true \u001b[38;5;241m-\u001b[39m y_pred) \u001b[38;5;241m*\u001b[39m\u001b[38;5;241m*\u001b[39m \u001b[38;5;241m2\u001b[39m, axis\u001b[38;5;241m=\u001b[39m\u001b[38;5;241m0\u001b[39m, weights\u001b[38;5;241m=\u001b[39msample_weight)\n",
      "File \u001b[0;32m~/anaconda3/lib/python3.9/site-packages/sklearn/metrics/_regression.py:96\u001b[0m, in \u001b[0;36m_check_reg_targets\u001b[0;34m(y_true, y_pred, multioutput, dtype)\u001b[0m\n\u001b[1;32m     94\u001b[0m check_consistent_length(y_true, y_pred)\n\u001b[1;32m     95\u001b[0m y_true \u001b[38;5;241m=\u001b[39m check_array(y_true, ensure_2d\u001b[38;5;241m=\u001b[39m\u001b[38;5;28;01mFalse\u001b[39;00m, dtype\u001b[38;5;241m=\u001b[39mdtype)\n\u001b[0;32m---> 96\u001b[0m y_pred \u001b[38;5;241m=\u001b[39m \u001b[43mcheck_array\u001b[49m\u001b[43m(\u001b[49m\u001b[43my_pred\u001b[49m\u001b[43m,\u001b[49m\u001b[43m \u001b[49m\u001b[43mensure_2d\u001b[49m\u001b[38;5;241;43m=\u001b[39;49m\u001b[38;5;28;43;01mFalse\u001b[39;49;00m\u001b[43m,\u001b[49m\u001b[43m \u001b[49m\u001b[43mdtype\u001b[49m\u001b[38;5;241;43m=\u001b[39;49m\u001b[43mdtype\u001b[49m\u001b[43m)\u001b[49m\n\u001b[1;32m     98\u001b[0m \u001b[38;5;28;01mif\u001b[39;00m y_true\u001b[38;5;241m.\u001b[39mndim \u001b[38;5;241m==\u001b[39m \u001b[38;5;241m1\u001b[39m:\n\u001b[1;32m     99\u001b[0m     y_true \u001b[38;5;241m=\u001b[39m y_true\u001b[38;5;241m.\u001b[39mreshape((\u001b[38;5;241m-\u001b[39m\u001b[38;5;241m1\u001b[39m, \u001b[38;5;241m1\u001b[39m))\n",
      "File \u001b[0;32m~/anaconda3/lib/python3.9/site-packages/sklearn/utils/validation.py:800\u001b[0m, in \u001b[0;36mcheck_array\u001b[0;34m(array, accept_sparse, accept_large_sparse, dtype, order, copy, force_all_finite, ensure_2d, allow_nd, ensure_min_samples, ensure_min_features, estimator)\u001b[0m\n\u001b[1;32m    794\u001b[0m         \u001b[38;5;28;01mraise\u001b[39;00m \u001b[38;5;167;01mValueError\u001b[39;00m(\n\u001b[1;32m    795\u001b[0m             \u001b[38;5;124m\"\u001b[39m\u001b[38;5;124mFound array with dim \u001b[39m\u001b[38;5;132;01m%d\u001b[39;00m\u001b[38;5;124m. \u001b[39m\u001b[38;5;132;01m%s\u001b[39;00m\u001b[38;5;124m expected <= 2.\u001b[39m\u001b[38;5;124m\"\u001b[39m\n\u001b[1;32m    796\u001b[0m             \u001b[38;5;241m%\u001b[39m (array\u001b[38;5;241m.\u001b[39mndim, estimator_name)\n\u001b[1;32m    797\u001b[0m         )\n\u001b[1;32m    799\u001b[0m     \u001b[38;5;28;01mif\u001b[39;00m force_all_finite:\n\u001b[0;32m--> 800\u001b[0m         \u001b[43m_assert_all_finite\u001b[49m\u001b[43m(\u001b[49m\u001b[43marray\u001b[49m\u001b[43m,\u001b[49m\u001b[43m \u001b[49m\u001b[43mallow_nan\u001b[49m\u001b[38;5;241;43m=\u001b[39;49m\u001b[43mforce_all_finite\u001b[49m\u001b[43m \u001b[49m\u001b[38;5;241;43m==\u001b[39;49m\u001b[43m \u001b[49m\u001b[38;5;124;43m\"\u001b[39;49m\u001b[38;5;124;43mallow-nan\u001b[39;49m\u001b[38;5;124;43m\"\u001b[39;49m\u001b[43m)\u001b[49m\n\u001b[1;32m    802\u001b[0m \u001b[38;5;28;01mif\u001b[39;00m ensure_min_samples \u001b[38;5;241m>\u001b[39m \u001b[38;5;241m0\u001b[39m:\n\u001b[1;32m    803\u001b[0m     n_samples \u001b[38;5;241m=\u001b[39m _num_samples(array)\n",
      "File \u001b[0;32m~/anaconda3/lib/python3.9/site-packages/sklearn/utils/validation.py:114\u001b[0m, in \u001b[0;36m_assert_all_finite\u001b[0;34m(X, allow_nan, msg_dtype)\u001b[0m\n\u001b[1;32m    107\u001b[0m     \u001b[38;5;28;01mif\u001b[39;00m (\n\u001b[1;32m    108\u001b[0m         allow_nan\n\u001b[1;32m    109\u001b[0m         \u001b[38;5;129;01mand\u001b[39;00m np\u001b[38;5;241m.\u001b[39misinf(X)\u001b[38;5;241m.\u001b[39many()\n\u001b[1;32m    110\u001b[0m         \u001b[38;5;129;01mor\u001b[39;00m \u001b[38;5;129;01mnot\u001b[39;00m allow_nan\n\u001b[1;32m    111\u001b[0m         \u001b[38;5;129;01mand\u001b[39;00m \u001b[38;5;129;01mnot\u001b[39;00m np\u001b[38;5;241m.\u001b[39misfinite(X)\u001b[38;5;241m.\u001b[39mall()\n\u001b[1;32m    112\u001b[0m     ):\n\u001b[1;32m    113\u001b[0m         type_err \u001b[38;5;241m=\u001b[39m \u001b[38;5;124m\"\u001b[39m\u001b[38;5;124minfinity\u001b[39m\u001b[38;5;124m\"\u001b[39m \u001b[38;5;28;01mif\u001b[39;00m allow_nan \u001b[38;5;28;01melse\u001b[39;00m \u001b[38;5;124m\"\u001b[39m\u001b[38;5;124mNaN, infinity\u001b[39m\u001b[38;5;124m\"\u001b[39m\n\u001b[0;32m--> 114\u001b[0m         \u001b[38;5;28;01mraise\u001b[39;00m \u001b[38;5;167;01mValueError\u001b[39;00m(\n\u001b[1;32m    115\u001b[0m             msg_err\u001b[38;5;241m.\u001b[39mformat(\n\u001b[1;32m    116\u001b[0m                 type_err, msg_dtype \u001b[38;5;28;01mif\u001b[39;00m msg_dtype \u001b[38;5;129;01mis\u001b[39;00m \u001b[38;5;129;01mnot\u001b[39;00m \u001b[38;5;28;01mNone\u001b[39;00m \u001b[38;5;28;01melse\u001b[39;00m X\u001b[38;5;241m.\u001b[39mdtype\n\u001b[1;32m    117\u001b[0m             )\n\u001b[1;32m    118\u001b[0m         )\n\u001b[1;32m    119\u001b[0m \u001b[38;5;66;03m# for object dtype data, we only check for NaNs (GH-13254)\u001b[39;00m\n\u001b[1;32m    120\u001b[0m \u001b[38;5;28;01melif\u001b[39;00m X\u001b[38;5;241m.\u001b[39mdtype \u001b[38;5;241m==\u001b[39m np\u001b[38;5;241m.\u001b[39mdtype(\u001b[38;5;124m\"\u001b[39m\u001b[38;5;124mobject\u001b[39m\u001b[38;5;124m\"\u001b[39m) \u001b[38;5;129;01mand\u001b[39;00m \u001b[38;5;129;01mnot\u001b[39;00m allow_nan:\n",
      "\u001b[0;31mValueError\u001b[0m: Input contains NaN, infinity or a value too large for dtype('float64')."
     ]
    }
   ],
   "source": [
    "grids = {}\n",
    "\n",
    "for lern_rate in params['learning_rate']:\n",
    "    for a in params['alpha']:\n",
    "        lr = LinearRegression(learning_rate=lern_rate, itterations=1000, alpha=a)\n",
    "        lr.fit(x_scaled_train, y_train.values)\n",
    "        #preds_train = lr.predict(x_air_train_scaled)\n",
    "        preds_test = lr.predict(x_scaled_test)\n",
    "        #mse_train = mean_squared_error(y_air_train.to_numpy(), preds_train)\n",
    "        mse_test = mean_squared_error(y_test.values, preds_test) \n",
    "        \n",
    "        #grids[f\"{lern_rate}_{a}_train\"] = mse_train\n",
    "        grids[f\"lr_{lern_rate}_reg_{a}_test\"] = mse_test       "
   ]
  },
  {
   "cell_type": "code",
   "execution_count": null,
   "metadata": {},
   "outputs": [],
   "source": [
    "plt.figure(figsize=(15,12))\n",
    "plt.plot(grids.values())\n",
    "plt.xticks(range(len(grids.keys())), grids.keys())\n",
    "plt.title(\"Mean Squared Error for 1000 iterations with regularization\")\n",
    "plt.xlabel(\"alpha\")\n",
    "plt.ylabel(\"Mean Squared Error\")\n",
    "plt.xticks(rotation = 50)\n",
    "plt.show()"
   ]
  },
  {
   "cell_type": "markdown",
   "metadata": {},
   "source": [
    "### K-NN"
   ]
  },
  {
   "cell_type": "code",
   "execution_count": 221,
   "metadata": {},
   "outputs": [],
   "source": [
    "my_knn = Pipeline([\n",
    "    ('scaler', MinMaxScaler()),\n",
    "    ('lr_reg', My_KNN(k_neighbours = 7))\n",
    "])"
   ]
  },
  {
   "cell_type": "markdown",
   "metadata": {},
   "source": [
    "takes approximatly 1 hour"
   ]
  },
  {
   "cell_type": "code",
   "execution_count": 222,
   "metadata": {},
   "outputs": [
    {
     "name": "stdout",
     "output_type": "stream",
     "text": [
      "R2 score_test:  0.6000846187331306\n",
      "Test Mean Squeare Error:  36.724988216428564\n",
      "Test Mean Absolute Error:  24.285714285714292\n",
      "Predicting time : 59.66690292358398 min\n"
     ]
    }
   ],
   "source": [
    "knn_score(my_knn, x_fps_train, x_fps_test, y_fps_train, y_fps_test)"
   ]
  },
  {
   "cell_type": "markdown",
   "metadata": {},
   "source": [
    "#### Comparaison with scikit-learn knn algorithm"
   ]
  },
  {
   "cell_type": "code",
   "execution_count": 223,
   "metadata": {},
   "outputs": [],
   "source": [
    "sk_knn = Pipeline([\n",
    "    ('scaler', MinMaxScaler()),\n",
    "    ('knn_reg', KNeighborsRegressor(n_neighbors= 7))\n",
    "])"
   ]
  },
  {
   "cell_type": "code",
   "execution_count": 224,
   "metadata": {},
   "outputs": [
    {
     "name": "stdout",
     "output_type": "stream",
     "text": [
      "R2 score_test:  0.6000435896647892\n",
      "Test Mean Squeare Error:  36.87404125340298\n",
      "Test Mean Absolute Error:  24.285714285714292\n",
      "Predicting time : 5.4873807271321615 min\n"
     ]
    }
   ],
   "source": [
    "knn_score(sk_knn, x_fps_train, x_fps_test, y_fps_train, y_fps_test)"
   ]
  }
 ],
 "metadata": {
  "interpreter": {
   "hash": "eb43e61904852746031c088fb76da88e81b942e6b39d9edfadc2c42eb68ea21c"
  },
  "kernelspec": {
   "display_name": "Python 3 (ipykernel)",
   "language": "python",
   "name": "python3"
  },
  "language_info": {
   "codemirror_mode": {
    "name": "ipython",
    "version": 3
   },
   "file_extension": ".py",
   "mimetype": "text/x-python",
   "name": "python",
   "nbconvert_exporter": "python",
   "pygments_lexer": "ipython3",
   "version": "3.9.12"
  }
 },
 "nbformat": 4,
 "nbformat_minor": 2
}
