{
 "cells": [
  {
   "cell_type": "code",
   "execution_count": 2,
   "id": "c130b81a-9e9f-4069-9e79-9fb1f244566b",
   "metadata": {},
   "outputs": [
    {
     "name": "stdout",
     "output_type": "stream",
     "text": [
      "Collecting langchain\n",
      "  Downloading langchain-0.0.201-py3-none-any.whl (1.0 MB)\n",
      "\u001b[2K     \u001b[90m━━━━━━━━━━━━━━━━━━━━━━━━━━━━━━━━━━━━━━━━\u001b[0m \u001b[32m1.0/1.0 MB\u001b[0m \u001b[31m8.4 MB/s\u001b[0m eta \u001b[36m0:00:00\u001b[0m:00:01\u001b[0m00:01\u001b[0m\n",
      "\u001b[?25hRequirement already satisfied: requests<3,>=2 in /opt/conda/lib/python3.10/site-packages (from langchain) (2.28.2)\n",
      "Requirement already satisfied: numpy<2,>=1 in /opt/conda/lib/python3.10/site-packages (from langchain) (1.23.5)\n",
      "Requirement already satisfied: async-timeout<5.0.0,>=4.0.0 in /opt/conda/lib/python3.10/site-packages (from langchain) (4.0.2)\n",
      "Collecting openapi-schema-pydantic<2.0,>=1.2\n",
      "  Using cached openapi_schema_pydantic-1.2.4-py3-none-any.whl (90 kB)\n",
      "Requirement already satisfied: PyYAML>=5.4.1 in /opt/conda/lib/python3.10/site-packages (from langchain) (6.0)\n",
      "Requirement already satisfied: aiohttp<4.0.0,>=3.8.3 in /opt/conda/lib/python3.10/site-packages (from langchain) (3.8.4)\n",
      "Requirement already satisfied: tenacity<9.0.0,>=8.1.0 in /opt/conda/lib/python3.10/site-packages (from langchain) (8.2.2)\n",
      "Collecting langchainplus-sdk>=0.0.9\n",
      "  Using cached langchainplus_sdk-0.0.10-py3-none-any.whl (21 kB)\n",
      "Collecting numexpr<3.0.0,>=2.8.4\n",
      "  Using cached numexpr-2.8.4-cp310-cp310-manylinux_2_17_x86_64.manylinux2014_x86_64.whl (381 kB)\n",
      "Requirement already satisfied: SQLAlchemy<3,>=1.4 in /opt/conda/lib/python3.10/site-packages (from langchain) (2.0.1)\n",
      "Collecting pydantic<2,>=1\n",
      "  Using cached pydantic-1.10.9-cp310-cp310-manylinux_2_17_x86_64.manylinux2014_x86_64.whl (3.1 MB)\n",
      "Collecting dataclasses-json<0.6.0,>=0.5.7\n",
      "  Using cached dataclasses_json-0.5.8-py3-none-any.whl (26 kB)\n",
      "Requirement already satisfied: attrs>=17.3.0 in /opt/conda/lib/python3.10/site-packages (from aiohttp<4.0.0,>=3.8.3->langchain) (22.2.0)\n",
      "Requirement already satisfied: aiosignal>=1.1.2 in /opt/conda/lib/python3.10/site-packages (from aiohttp<4.0.0,>=3.8.3->langchain) (1.3.1)\n",
      "Requirement already satisfied: charset-normalizer<4.0,>=2.0 in /opt/conda/lib/python3.10/site-packages (from aiohttp<4.0.0,>=3.8.3->langchain) (2.1.1)\n",
      "Requirement already satisfied: frozenlist>=1.1.1 in /opt/conda/lib/python3.10/site-packages (from aiohttp<4.0.0,>=3.8.3->langchain) (1.3.3)\n",
      "Requirement already satisfied: multidict<7.0,>=4.5 in /opt/conda/lib/python3.10/site-packages (from aiohttp<4.0.0,>=3.8.3->langchain) (6.0.4)\n",
      "Requirement already satisfied: yarl<2.0,>=1.0 in /opt/conda/lib/python3.10/site-packages (from aiohttp<4.0.0,>=3.8.3->langchain) (1.8.2)\n",
      "Collecting marshmallow-enum<2.0.0,>=1.5.1\n",
      "  Using cached marshmallow_enum-1.5.1-py2.py3-none-any.whl (4.2 kB)\n",
      "Collecting typing-inspect>=0.4.0\n",
      "  Using cached typing_inspect-0.9.0-py3-none-any.whl (8.8 kB)\n",
      "Collecting marshmallow<4.0.0,>=3.3.0\n",
      "  Using cached marshmallow-3.19.0-py3-none-any.whl (49 kB)\n",
      "Requirement already satisfied: typing-extensions>=4.2.0 in /opt/conda/lib/python3.10/site-packages (from pydantic<2,>=1->langchain) (4.4.0)\n",
      "Requirement already satisfied: idna<4,>=2.5 in /opt/conda/lib/python3.10/site-packages (from requests<3,>=2->langchain) (3.4)\n",
      "Requirement already satisfied: urllib3<1.27,>=1.21.1 in /opt/conda/lib/python3.10/site-packages (from requests<3,>=2->langchain) (1.26.14)\n",
      "Requirement already satisfied: certifi>=2017.4.17 in /opt/conda/lib/python3.10/site-packages (from requests<3,>=2->langchain) (2022.12.7)\n",
      "Requirement already satisfied: greenlet!=0.4.17 in /opt/conda/lib/python3.10/site-packages (from SQLAlchemy<3,>=1.4->langchain) (2.0.2)\n",
      "Requirement already satisfied: packaging>=17.0 in /opt/conda/lib/python3.10/site-packages (from marshmallow<4.0.0,>=3.3.0->dataclasses-json<0.6.0,>=0.5.7->langchain) (23.0)\n",
      "Requirement already satisfied: mypy-extensions>=0.3.0 in /opt/conda/lib/python3.10/site-packages (from typing-inspect>=0.4.0->dataclasses-json<0.6.0,>=0.5.7->langchain) (1.0.0)\n",
      "Installing collected packages: typing-inspect, pydantic, numexpr, marshmallow, openapi-schema-pydantic, marshmallow-enum, langchainplus-sdk, dataclasses-json, langchain\n",
      "  Attempting uninstall: numexpr\n",
      "    Found existing installation: numexpr 2.8.3\n",
      "    Uninstalling numexpr-2.8.3:\n",
      "      Successfully uninstalled numexpr-2.8.3\n",
      "Successfully installed dataclasses-json-0.5.8 langchain-0.0.201 langchainplus-sdk-0.0.10 marshmallow-3.19.0 marshmallow-enum-1.5.1 numexpr-2.8.4 openapi-schema-pydantic-1.2.4 pydantic-1.10.9 typing-inspect-0.9.0\n"
     ]
    }
   ],
   "source": [
    "!pip install langchain"
   ]
  },
  {
   "cell_type": "code",
   "execution_count": 79,
   "id": "10f0b43c-c7bc-4d37-b060-3c2124178006",
   "metadata": {},
   "outputs": [],
   "source": [
    "import numpy as np\n",
    "from sklearn.metrics.pairwise import cosine_similarity\n",
    "\n",
    "def get_topk_similar_articles(embeddings, article_index, k, negativSimilartiy=False):\n",
    "    \"\"\"\n",
    "    Get the top k news articles with highest similarity for a given index\n",
    "    \n",
    "    embeddings: embeddings matrix\n",
    "    article_index: target article\n",
    "    k = get the top k articles\n",
    "    include_negative: if abs values should be used\n",
    "    return top articles for given index\n",
    "    \"\"\"\n",
    "\n",
    "    # Calculate pairwise cosine similarity with sklearn library\n",
    "    similarity_scores = cosine_similarity(embeddings)\n",
    "    \n",
    "    # get similarity scores for the given article index\n",
    "    article_scores = similarity_scores[article_index]\n",
    "        \n",
    "    # get negative similarity or positive ones\n",
    "    # argsort returns the indices of the sorted array\n",
    "    if negativSimilartiy:\n",
    "        # [:k] to return only the top k article indices \n",
    "        sorted_indices = np.argsort(article_scores)[:k] \n",
    "    else:\n",
    "        # [::-1] to order in decending order\n",
    "        # 1:k+1 to exclude the target-article itself (similartiy = 1)\n",
    "        sorted_indices = np.argsort(article_scores)[::-1][1:k+1] \n",
    "    \n",
    "    # Get the top k (anti-) similar articles\n",
    "    top_articles = [(index, article_scores[index]) for index in sorted_indices if index != article_index]\n",
    " \n",
    "    return top_articles"
   ]
  },
  {
   "cell_type": "code",
   "execution_count": 5,
   "id": "bd495441-99ea-455d-a8e1-02cf6301bc53",
   "metadata": {},
   "outputs": [
    {
     "name": "stdout",
     "output_type": "stream",
     "text": [
      "8\n"
     ]
    }
   ],
   "source": [
    "# Create fake Embeddings for testing\n",
    "\n",
    "from langchain.embeddings import FakeEmbeddings\n",
    "embeddings = FakeEmbeddings(size=3)\n",
    "embd = embeddings.embed_documents([\"foo\", \n",
    "                                   'test', \n",
    "                                   'asfd', \n",
    "                                   'helloworld', \n",
    "                                   'sdff', \n",
    "                                   'sdfddf', \n",
    "                                   'akljsdfkl asdölkf jasl kö', \n",
    "                                   'foo'])"
   ]
  },
  {
   "cell_type": "code",
   "execution_count": 81,
   "id": "6058face-3ce2-4f99-9371-58029497ef86",
   "metadata": {},
   "outputs": [
    {
     "name": "stdout",
     "output_type": "stream",
     "text": [
      "Top 3 Articles for Index: 0:\n",
      "Article Index: 2, Similarity Score: 0.7735193714512036\n",
      "Article Index: 3, Similarity Score: 0.6222479909491638\n",
      "Article Index: 1, Similarity Score: 0.5624545994965346\n",
      "\n",
      "Top 3 anti-similar Articles for Index: 0:\n",
      "Article Index: 5, Similarity Score: -0.8600980184222545\n",
      "Article Index: 6, Similarity Score: -0.2821049463712549\n",
      "Article Index: 4, Similarity Score: -0.27165084998091704\n"
     ]
    }
   ],
   "source": [
    "# TEST Function with and without abs-values\n",
    "\n",
    "target_article = 0\n",
    "k = 3\n",
    "\n",
    "# Get top similar articles for article at index 0\n",
    "top_articles = get_topk_similar_articles(embd, target_article, k, negativSimilartiy=False)\n",
    "\n",
    "print(f\"Top {k} Articles for Index: {target_article}:\")\n",
    "# Print the top similar articles\n",
    "for article_index, similarity in top_articles:\n",
    "    print(f\"Article Index: {article_index}, Similarity Score: {similarity}\")\n",
    "\n",
    "    \n",
    "    \n",
    "# Get top anti-similar articles for article at index 0\n",
    "top_articles = get_topk_similar_articles(embd, target_article, k, negativSimilartiy=True)\n",
    "\n",
    "print(f\"\\nTop {k} anti-similar Articles for Index: {target_article}:\")\n",
    "# Print the top similar articles\n",
    "for article_index, similarity in top_articles:\n",
    "    print(f\"Article Index: {article_index}, Similarity Score: {similarity}\")"
   ]
  }
 ],
 "metadata": {
  "kernelspec": {
   "display_name": "Python 3 (ipykernel)",
   "language": "python",
   "name": "python3"
  },
  "language_info": {
   "codemirror_mode": {
    "name": "ipython",
    "version": 3
   },
   "file_extension": ".py",
   "mimetype": "text/x-python",
   "name": "python",
   "nbconvert_exporter": "python",
   "pygments_lexer": "ipython3",
   "version": "3.10.8"
  }
 },
 "nbformat": 4,
 "nbformat_minor": 5
}
