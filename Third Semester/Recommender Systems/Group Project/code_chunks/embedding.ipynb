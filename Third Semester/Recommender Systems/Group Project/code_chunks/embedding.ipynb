{
 "cells": [
  {
   "cell_type": "code",
   "execution_count": 1,
   "id": "1e41efd6-112e-4998-b882-f9a4a861d574",
   "metadata": {},
   "outputs": [
    {
     "name": "stdout",
     "output_type": "stream",
     "text": [
      "Collecting langchain\n",
      "  Downloading langchain-0.0.202-py3-none-any.whl (1.0 MB)\n",
      "\u001b[2K     \u001b[90m━━━━━━━━━━━━━━━━━━━━━━━━━━━━━━━━━━━━━━━━\u001b[0m \u001b[32m1.0/1.0 MB\u001b[0m \u001b[31m27.3 MB/s\u001b[0m eta \u001b[36m0:00:00\u001b[0m00:01\u001b[0m\n",
      "\u001b[?25hCollecting dataclasses-json<0.6.0,>=0.5.7\n",
      "  Using cached dataclasses_json-0.5.8-py3-none-any.whl (26 kB)\n",
      "Collecting numexpr<3.0.0,>=2.8.4\n",
      "  Using cached numexpr-2.8.4-cp310-cp310-manylinux_2_17_x86_64.manylinux2014_x86_64.whl (381 kB)\n",
      "Requirement already satisfied: requests<3,>=2 in /opt/conda/lib/python3.10/site-packages (from langchain) (2.28.2)\n",
      "Requirement already satisfied: PyYAML>=5.4.1 in /opt/conda/lib/python3.10/site-packages (from langchain) (6.0)\n",
      "Collecting openapi-schema-pydantic<2.0,>=1.2\n",
      "  Using cached openapi_schema_pydantic-1.2.4-py3-none-any.whl (90 kB)\n",
      "Requirement already satisfied: SQLAlchemy<3,>=1.4 in /opt/conda/lib/python3.10/site-packages (from langchain) (2.0.1)\n",
      "Requirement already satisfied: async-timeout<5.0.0,>=4.0.0 in /opt/conda/lib/python3.10/site-packages (from langchain) (4.0.2)\n",
      "Requirement already satisfied: numpy<2,>=1 in /opt/conda/lib/python3.10/site-packages (from langchain) (1.23.5)\n",
      "Requirement already satisfied: aiohttp<4.0.0,>=3.8.3 in /opt/conda/lib/python3.10/site-packages (from langchain) (3.8.4)\n",
      "Requirement already satisfied: tenacity<9.0.0,>=8.1.0 in /opt/conda/lib/python3.10/site-packages (from langchain) (8.2.2)\n",
      "Collecting pydantic<2,>=1\n",
      "  Using cached pydantic-1.10.9-cp310-cp310-manylinux_2_17_x86_64.manylinux2014_x86_64.whl (3.1 MB)\n",
      "Collecting langchainplus-sdk>=0.0.9\n",
      "  Using cached langchainplus_sdk-0.0.10-py3-none-any.whl (21 kB)\n",
      "Requirement already satisfied: frozenlist>=1.1.1 in /opt/conda/lib/python3.10/site-packages (from aiohttp<4.0.0,>=3.8.3->langchain) (1.3.3)\n",
      "Requirement already satisfied: charset-normalizer<4.0,>=2.0 in /opt/conda/lib/python3.10/site-packages (from aiohttp<4.0.0,>=3.8.3->langchain) (2.1.1)\n",
      "Requirement already satisfied: multidict<7.0,>=4.5 in /opt/conda/lib/python3.10/site-packages (from aiohttp<4.0.0,>=3.8.3->langchain) (6.0.4)\n",
      "Requirement already satisfied: attrs>=17.3.0 in /opt/conda/lib/python3.10/site-packages (from aiohttp<4.0.0,>=3.8.3->langchain) (22.2.0)\n",
      "Requirement already satisfied: aiosignal>=1.1.2 in /opt/conda/lib/python3.10/site-packages (from aiohttp<4.0.0,>=3.8.3->langchain) (1.3.1)\n",
      "Requirement already satisfied: yarl<2.0,>=1.0 in /opt/conda/lib/python3.10/site-packages (from aiohttp<4.0.0,>=3.8.3->langchain) (1.8.2)\n",
      "Collecting marshmallow-enum<2.0.0,>=1.5.1\n",
      "  Using cached marshmallow_enum-1.5.1-py2.py3-none-any.whl (4.2 kB)\n",
      "Collecting marshmallow<4.0.0,>=3.3.0\n",
      "  Using cached marshmallow-3.19.0-py3-none-any.whl (49 kB)\n",
      "Collecting typing-inspect>=0.4.0\n",
      "  Using cached typing_inspect-0.9.0-py3-none-any.whl (8.8 kB)\n",
      "Requirement already satisfied: typing-extensions>=4.2.0 in /opt/conda/lib/python3.10/site-packages (from pydantic<2,>=1->langchain) (4.4.0)\n",
      "Requirement already satisfied: certifi>=2017.4.17 in /opt/conda/lib/python3.10/site-packages (from requests<3,>=2->langchain) (2022.12.7)\n",
      "Requirement already satisfied: urllib3<1.27,>=1.21.1 in /opt/conda/lib/python3.10/site-packages (from requests<3,>=2->langchain) (1.26.14)\n",
      "Requirement already satisfied: idna<4,>=2.5 in /opt/conda/lib/python3.10/site-packages (from requests<3,>=2->langchain) (3.4)\n",
      "Requirement already satisfied: greenlet!=0.4.17 in /opt/conda/lib/python3.10/site-packages (from SQLAlchemy<3,>=1.4->langchain) (2.0.2)\n",
      "Requirement already satisfied: packaging>=17.0 in /opt/conda/lib/python3.10/site-packages (from marshmallow<4.0.0,>=3.3.0->dataclasses-json<0.6.0,>=0.5.7->langchain) (23.0)\n",
      "Requirement already satisfied: mypy-extensions>=0.3.0 in /opt/conda/lib/python3.10/site-packages (from typing-inspect>=0.4.0->dataclasses-json<0.6.0,>=0.5.7->langchain) (1.0.0)\n",
      "Installing collected packages: typing-inspect, pydantic, numexpr, marshmallow, openapi-schema-pydantic, marshmallow-enum, langchainplus-sdk, dataclasses-json, langchain\n",
      "  Attempting uninstall: numexpr\n",
      "    Found existing installation: numexpr 2.8.3\n",
      "    Uninstalling numexpr-2.8.3:\n",
      "      Successfully uninstalled numexpr-2.8.3\n",
      "Successfully installed dataclasses-json-0.5.8 langchain-0.0.202 langchainplus-sdk-0.0.10 marshmallow-3.19.0 marshmallow-enum-1.5.1 numexpr-2.8.4 openapi-schema-pydantic-1.2.4 pydantic-1.10.9 typing-inspect-0.9.0\n",
      "Collecting openai\n",
      "  Using cached openai-0.27.8-py3-none-any.whl (73 kB)\n",
      "Requirement already satisfied: tqdm in /opt/conda/lib/python3.10/site-packages (from openai) (4.64.1)\n",
      "Requirement already satisfied: aiohttp in /opt/conda/lib/python3.10/site-packages (from openai) (3.8.4)\n",
      "Requirement already satisfied: requests>=2.20 in /opt/conda/lib/python3.10/site-packages (from openai) (2.28.2)\n",
      "Requirement already satisfied: idna<4,>=2.5 in /opt/conda/lib/python3.10/site-packages (from requests>=2.20->openai) (3.4)\n",
      "Requirement already satisfied: charset-normalizer<4,>=2 in /opt/conda/lib/python3.10/site-packages (from requests>=2.20->openai) (2.1.1)\n",
      "Requirement already satisfied: certifi>=2017.4.17 in /opt/conda/lib/python3.10/site-packages (from requests>=2.20->openai) (2022.12.7)\n",
      "Requirement already satisfied: urllib3<1.27,>=1.21.1 in /opt/conda/lib/python3.10/site-packages (from requests>=2.20->openai) (1.26.14)\n",
      "Requirement already satisfied: yarl<2.0,>=1.0 in /opt/conda/lib/python3.10/site-packages (from aiohttp->openai) (1.8.2)\n",
      "Requirement already satisfied: async-timeout<5.0,>=4.0.0a3 in /opt/conda/lib/python3.10/site-packages (from aiohttp->openai) (4.0.2)\n",
      "Requirement already satisfied: multidict<7.0,>=4.5 in /opt/conda/lib/python3.10/site-packages (from aiohttp->openai) (6.0.4)\n",
      "Requirement already satisfied: attrs>=17.3.0 in /opt/conda/lib/python3.10/site-packages (from aiohttp->openai) (22.2.0)\n",
      "Requirement already satisfied: frozenlist>=1.1.1 in /opt/conda/lib/python3.10/site-packages (from aiohttp->openai) (1.3.3)\n",
      "Requirement already satisfied: aiosignal>=1.1.2 in /opt/conda/lib/python3.10/site-packages (from aiohttp->openai) (1.3.1)\n",
      "Installing collected packages: openai\n",
      "Successfully installed openai-0.27.8\n",
      "Collecting tiktoken\n",
      "  Using cached tiktoken-0.4.0-cp310-cp310-manylinux_2_17_x86_64.manylinux2014_x86_64.whl (1.7 MB)\n",
      "Requirement already satisfied: regex>=2022.1.18 in /opt/conda/lib/python3.10/site-packages (from tiktoken) (2022.10.31)\n",
      "Requirement already satisfied: requests>=2.26.0 in /opt/conda/lib/python3.10/site-packages (from tiktoken) (2.28.2)\n",
      "Requirement already satisfied: idna<4,>=2.5 in /opt/conda/lib/python3.10/site-packages (from requests>=2.26.0->tiktoken) (3.4)\n",
      "Requirement already satisfied: urllib3<1.27,>=1.21.1 in /opt/conda/lib/python3.10/site-packages (from requests>=2.26.0->tiktoken) (1.26.14)\n",
      "Requirement already satisfied: charset-normalizer<4,>=2 in /opt/conda/lib/python3.10/site-packages (from requests>=2.26.0->tiktoken) (2.1.1)\n",
      "Requirement already satisfied: certifi>=2017.4.17 in /opt/conda/lib/python3.10/site-packages (from requests>=2.26.0->tiktoken) (2022.12.7)\n",
      "Installing collected packages: tiktoken\n",
      "Successfully installed tiktoken-0.4.0\n"
     ]
    }
   ],
   "source": [
    "!pip install langchain\n",
    "!pip install openai\n",
    "!pip install tiktoken"
   ]
  },
  {
   "attachments": {},
   "cell_type": "markdown",
   "id": "5b5d5959-d0be-4b7e-ac84-80eeb6f34f3b",
   "metadata": {},
   "source": [
    "Import relevant libraries and define the initial parameters"
   ]
  },
  {
   "cell_type": "code",
   "execution_count": 5,
   "id": "b812aa6c-22c1-4f1d-805a-1ee29ed7e058",
   "metadata": {},
   "outputs": [
    {
     "data": {
      "text/html": [
       "<div>\n",
       "<style scoped>\n",
       "    .dataframe tbody tr th:only-of-type {\n",
       "        vertical-align: middle;\n",
       "    }\n",
       "\n",
       "    .dataframe tbody tr th {\n",
       "        vertical-align: top;\n",
       "    }\n",
       "\n",
       "    .dataframe thead th {\n",
       "        text-align: right;\n",
       "    }\n",
       "</style>\n",
       "<table border=\"1\" class=\"dataframe\">\n",
       "  <thead>\n",
       "    <tr style=\"text-align: right;\">\n",
       "      <th></th>\n",
       "      <th>Unnamed: 0</th>\n",
       "      <th>Top_Words</th>\n",
       "      <th>article_id</th>\n",
       "    </tr>\n",
       "  </thead>\n",
       "  <tbody>\n",
       "    <tr>\n",
       "      <th>0</th>\n",
       "      <td>0</td>\n",
       "      <td>pucher vinzidorf roma frauen pfarrhaus fr weih...</td>\n",
       "      <td>FALTER_201512234F1D30CEA9</td>\n",
       "    </tr>\n",
       "    <tr>\n",
       "      <th>1</th>\n",
       "      <td>1</td>\n",
       "      <td>vanillekipferln wildtier darf echt abfassen ad...</td>\n",
       "      <td>FALTER_2015122382119EA87A</td>\n",
       "    </tr>\n",
       "    <tr>\n",
       "      <th>2</th>\n",
       "      <td>2</td>\n",
       "      <td>vater eltern mutter wechselmodell zuhause dopp...</td>\n",
       "      <td>FALTER_2015122317D031535C</td>\n",
       "    </tr>\n",
       "    <tr>\n",
       "      <th>3</th>\n",
       "      <td>3</td>\n",
       "      <td>eishken tel fisch austern fischgeschft estate ...</td>\n",
       "      <td>FALTER_20151223D853291AAA</td>\n",
       "    </tr>\n",
       "    <tr>\n",
       "      <th>4</th>\n",
       "      <td>4</td>\n",
       "      <td>silvester uhr kabarettist 2230 maurer special ...</td>\n",
       "      <td>FALTER_201512238A0DEB6E2D</td>\n",
       "    </tr>\n",
       "  </tbody>\n",
       "</table>\n",
       "</div>"
      ],
      "text/plain": [
       "   Unnamed: 0                                          Top_Words  \\\n",
       "0           0  pucher vinzidorf roma frauen pfarrhaus fr weih...   \n",
       "1           1  vanillekipferln wildtier darf echt abfassen ad...   \n",
       "2           2  vater eltern mutter wechselmodell zuhause dopp...   \n",
       "3           3  eishken tel fisch austern fischgeschft estate ...   \n",
       "4           4  silvester uhr kabarettist 2230 maurer special ...   \n",
       "\n",
       "                  article_id  \n",
       "0  FALTER_201512234F1D30CEA9  \n",
       "1  FALTER_2015122382119EA87A  \n",
       "2  FALTER_2015122317D031535C  \n",
       "3  FALTER_20151223D853291AAA  \n",
       "4  FALTER_201512238A0DEB6E2D  "
      ]
     },
     "execution_count": 5,
     "metadata": {},
     "output_type": "execute_result"
    }
   ],
   "source": [
    "# imports\n",
    "import pandas as pd\n",
    "import tiktoken\n",
    "import openai\n",
    "\n",
    "from openai.embeddings_utils import get_embedding\n",
    "\n",
    "# initialization and embedding model parameters\n",
    "openai.api_key='demo'\n",
    "\n",
    "embedding_model = \"text-embedding-ada-002\"\n",
    "embedding_encoding = \"cl100k_base\"  # this the encoding for text-embedding-ada-002\n",
    "max_tokens = 8000  # the maximum for text-embedding-ada-002 is 8191\n",
    "\n",
    "# load the top 80 word for each token\n",
    "csv_path = \"./top_80.csv\"\n",
    "df = pd.read_csv(csv_path)\n",
    "df.head()"
   ]
  },
  {
   "attachments": {},
   "cell_type": "markdown",
   "id": "6e62e7e5-b501-47c9-8451-bde6fbb1d01d",
   "metadata": {},
   "source": [
    "Calculating the entire token number"
   ]
  },
  {
   "cell_type": "code",
   "execution_count": 16,
   "id": "af95e8f9-77f3-4d49-b909-addaa04e159a",
   "metadata": {},
   "outputs": [
    {
     "data": {
      "text/html": [
       "<div>\n",
       "<style scoped>\n",
       "    .dataframe tbody tr th:only-of-type {\n",
       "        vertical-align: middle;\n",
       "    }\n",
       "\n",
       "    .dataframe tbody tr th {\n",
       "        vertical-align: top;\n",
       "    }\n",
       "\n",
       "    .dataframe thead th {\n",
       "        text-align: right;\n",
       "    }\n",
       "</style>\n",
       "<table border=\"1\" class=\"dataframe\">\n",
       "  <thead>\n",
       "    <tr style=\"text-align: right;\">\n",
       "      <th></th>\n",
       "      <th>Unnamed: 0</th>\n",
       "      <th>Top_Words</th>\n",
       "      <th>article_id</th>\n",
       "      <th>n_tokens</th>\n",
       "      <th>tokens</th>\n",
       "    </tr>\n",
       "  </thead>\n",
       "  <tbody>\n",
       "    <tr>\n",
       "      <th>0</th>\n",
       "      <td>0</td>\n",
       "      <td>pucher vinzidorf roma frauen pfarrhaus fr weih...</td>\n",
       "      <td>FALTER_201512234F1D30CEA9</td>\n",
       "      <td>170</td>\n",
       "      <td>[79, 74712, 24848, 89, 29856, 69, 58567, 20425...</td>\n",
       "    </tr>\n",
       "    <tr>\n",
       "      <th>1</th>\n",
       "      <td>1</td>\n",
       "      <td>vanillekipferln wildtier darf echt abfassen ad...</td>\n",
       "      <td>FALTER_2015122382119EA87A</td>\n",
       "      <td>262</td>\n",
       "      <td>[16023, 4618, 13694, 809, 2312, 8545, 50435, 8...</td>\n",
       "    </tr>\n",
       "    <tr>\n",
       "      <th>2</th>\n",
       "      <td>2</td>\n",
       "      <td>vater eltern mutter wechselmodell zuhause dopp...</td>\n",
       "      <td>FALTER_2015122317D031535C</td>\n",
       "      <td>168</td>\n",
       "      <td>[85, 977, 658, 4253, 5318, 466, 584, 91930, 26...</td>\n",
       "    </tr>\n",
       "    <tr>\n",
       "      <th>3</th>\n",
       "      <td>3</td>\n",
       "      <td>eishken tel fisch austern fischgeschft estate ...</td>\n",
       "      <td>FALTER_20151223D853291AAA</td>\n",
       "      <td>231</td>\n",
       "      <td>[68, 819, 2779, 19227, 282, 16438, 100206, 944...</td>\n",
       "    </tr>\n",
       "    <tr>\n",
       "      <th>4</th>\n",
       "      <td>4</td>\n",
       "      <td>silvester uhr kabarettist 2230 maurer special ...</td>\n",
       "      <td>FALTER_201512238A0DEB6E2D</td>\n",
       "      <td>257</td>\n",
       "      <td>[35904, 83838, 577, 4171, 75095, 548, 5683, 38...</td>\n",
       "    </tr>\n",
       "  </tbody>\n",
       "</table>\n",
       "</div>"
      ],
      "text/plain": [
       "   Unnamed: 0                                          Top_Words  \\\n",
       "0           0  pucher vinzidorf roma frauen pfarrhaus fr weih...   \n",
       "1           1  vanillekipferln wildtier darf echt abfassen ad...   \n",
       "2           2  vater eltern mutter wechselmodell zuhause dopp...   \n",
       "3           3  eishken tel fisch austern fischgeschft estate ...   \n",
       "4           4  silvester uhr kabarettist 2230 maurer special ...   \n",
       "\n",
       "                  article_id  n_tokens  \\\n",
       "0  FALTER_201512234F1D30CEA9       170   \n",
       "1  FALTER_2015122382119EA87A       262   \n",
       "2  FALTER_2015122317D031535C       168   \n",
       "3  FALTER_20151223D853291AAA       231   \n",
       "4  FALTER_201512238A0DEB6E2D       257   \n",
       "\n",
       "                                              tokens  \n",
       "0  [79, 74712, 24848, 89, 29856, 69, 58567, 20425...  \n",
       "1  [16023, 4618, 13694, 809, 2312, 8545, 50435, 8...  \n",
       "2  [85, 977, 658, 4253, 5318, 466, 584, 91930, 26...  \n",
       "3  [68, 819, 2779, 19227, 282, 16438, 100206, 944...  \n",
       "4  [35904, 83838, 577, 4171, 75095, 548, 5683, 38...  "
      ]
     },
     "execution_count": 16,
     "metadata": {},
     "output_type": "execute_result"
    }
   ],
   "source": [
    "encoding = tiktoken.get_encoding(embedding_encoding)\n",
    "\n",
    "# omit reviews that are too long to embed\n",
    "df[\"tokens\"] = df[\"Top_Words\"].apply(lambda x: encoding.encode(x))\n",
    "df[\"n_tokens\"] = df[\"tokens\"].apply(lambda x: len(x))\n",
    "#df = df[df.n_tokens <= max_tokens].tail(top_n)\n",
    "numb_tokens = df[\"n_tokens\"].sum()\n",
    "df.head()\n",
    "#print(numb_tokens)"
   ]
  },
  {
   "attachments": {},
   "cell_type": "markdown",
   "id": "7c90c6ca-0d7f-45e7-817d-609a9c0017bf",
   "metadata": {},
   "source": [
    "Cost estimates"
   ]
  },
  {
   "cell_type": "code",
   "execution_count": 12,
   "id": "fe398336-7c58-48da-af3a-679f6a0bc3a7",
   "metadata": {},
   "outputs": [
    {
     "name": "stdout",
     "output_type": "stream",
     "text": [
      "0.1269128\n"
     ]
    }
   ],
   "source": [
    "# Model\tUsage\n",
    "# Ada v2 ---$0.0001 / 1K tokens\n",
    "# Ada v1 --- $0.0040 / 1K tokens\n",
    "cost_est = (numb_tokens/1000) * 0.0001\n",
    "print(cost_est)"
   ]
  },
  {
   "cell_type": "code",
   "execution_count": 2,
   "id": "5e2e4eda-5b16-4f83-9f37-279cfac09aec",
   "metadata": {},
   "outputs": [],
   "source": [
    "# encode the row text to tokens to be able to track the used number of tokens\n",
    "def num_tokens_from_string(string: str, encoding_name: str) -> int:\n",
    "    \"\"\"Returns the number of tokens in a text string.\"\"\"\n",
    "    encoding = tiktoken.get_encoding(encoding_name)\n",
    "    num_tokens = len(encoding.encode(string))\n",
    "    return num_tokens\n",
    "\n",
    "#----------------\n",
    "\n",
    "\n",
    "# the the embedding and saving it into a file\n",
    "def get_embedding(text, model=\"text-embedding-ada-002\"):\n",
    "   text = text.replace(\"\\n\", \" \")\n",
    "   return openai.Embedding.create(input = [text], model=model)['data'][0]['embedding']\n",
    "\n",
    "# add an additional column to the df with the encoding\n",
    "df['ada_embedding'] = df.combined.apply(lambda x: get_embedding(x, model='text-embedding-ada-002'))\n",
    "df.to_csv('output/embedded_1k_reviews.csv', index=False)\n",
    "    "
   ]
  },
  {
   "cell_type": "code",
   "execution_count": 22,
   "id": "263222dd-c4d9-4cb3-9a72-1f3fa97db38c",
   "metadata": {},
   "outputs": [
    {
     "name": "stdout",
     "output_type": "stream",
     "text": [
      "[-0.3578389585018158, 0.04040989652276039, 0.6254292726516724, -0.43261152505874634, -0.3640924096107483, 0.6023291349411011, -0.40385764837265015, -0.04284945875406265, -0.04878164082765579, 0.5205893516540527, -0.29901590943336487, 0.29117757081985474, 0.27299216389656067, 0.006946341600269079, -0.15166744589805603, -0.4588854908943176, 0.6854178309440613, -0.8913744688034058, -0.08899486064910889, -0.6980218887329102, -0.0029271095991134644, 0.7014836072921753, -0.6258471012115479, 0.44991183280944824, -1.1480038166046143, 0.31530722975730896, 0.24840664863586426, -0.43880438804626465, 0.1991639882326126, -0.46463823318481445, -0.23758390545845032, 0.11562174558639526, -0.021658074110746384, 0.8193053007125854, -0.5185678005218506, -0.11082734912633896, 0.33881378173828125, -0.009175421670079231, 0.1515597403049469, 0.4053214490413666, 0.4665148854255676, 0.602564811706543, 0.2771323323249817, -0.401905357837677, 0.2603040337562561, 0.3918280303478241, -0.21207430958747864, 0.7032051086425781, 0.4360715448856354, -0.062072526663541794, 0.1707993596792221, 0.38685908913612366, -0.4321698546409607, -0.7094281911849976, 0.7483715415000916, -0.04735543206334114, -0.2815125584602356, -0.1856449395418167, -0.18926259875297546, 0.18929269909858704, 0.1778041273355484, 0.454802930355072, 0.8458075523376465, -0.29045113921165466, 0.2945350706577301, -0.5546969175338745, -0.14736852049827576, -0.5449045896530151, -0.5843087434768677, -0.7204214334487915, 0.3788563013076782, -0.18845035135746002, -0.6304308772087097, -0.1522078514099121, -0.5920265316963196, -0.6334983706474304, -0.018231453374028206, -0.34154680371284485, -0.19023296236991882, -0.1368316262960434, -0.524684727191925, 0.286555677652359, -0.6794864535331726, 0.01488057803362608, -0.09655502438545227, -0.6053725481033325, 0.3709431290626526, 0.5327160954475403, 0.1290750950574875, -0.5380448698997498, -0.1963234543800354, 0.3696590065956116, -0.5962563753128052, 0.00814069528132677, 0.03520951420068741, 0.2181205302476883, 0.2051551789045334, -0.6367983818054199, -0.12252120673656464, 0.18042610585689545, -0.7742118835449219, 0.46537476778030396, -0.8000103831291199, -0.47740811109542847, -0.2750553488731384, 0.13037683069705963, 0.3290455639362335, 0.0016800954472273588, -0.031423456966876984, -0.44288140535354614, -0.48921695351600647, 0.12453942000865936, 0.48958903551101685, 0.5125462412834167, 0.2931152284145355, -0.29231956601142883, 0.6345583200454712, -0.427605003118515, 0.3979414999485016, -0.004646630492061377, -0.07344251871109009, -0.41389814019203186, 0.07498015463352203, 0.3105737566947937, -0.37238988280296326, -0.17952953279018402, 0.389937162399292, -0.8779760599136353, -0.21945063769817352, 0.01973656937479973, 0.3912429213523865, -0.04125162959098816, 0.20590360462665558, -0.45860299468040466, -0.40131646394729614, 0.7198634743690491, 0.31634801626205444, -0.09279416501522064, -0.11865196377038956, -0.20106713473796844, 0.1261262446641922, 0.011766900308430195, -0.13420166075229645, -0.5251396894454956, -0.039145417511463165, 0.27112865447998047, 0.5236157178878784, -0.08048757165670395, 0.035071320831775665, 0.07595472037792206, -0.12648168206214905, -0.01757984794676304, 0.05957617238163948, -0.06081891804933548, 0.03424081951379776, 0.24923953413963318, -0.29006946086883545, 0.054110776633024216, 1.0721708536148071, -0.14109936356544495, 0.291891872882843, 0.4283563494682312, 0.4394210875034332, 0.8323270678520203, 0.07525619119405746, -0.5697857141494751, 0.3642811179161072, -0.07904340326786041, -0.7520655393600464, 0.28667059540748596, -0.14057254791259766, 0.27869680523872375, 0.37698623538017273, -0.1424846202135086, -0.4594997763633728, -0.4969039857387543, 0.6893869042396545, 0.3879048228263855, 0.08139359205961227, -0.1642955243587494, 0.529533326625824, -0.8355396389961243, -0.2693151831626892, 0.6005231142044067, -0.12496800720691681, -0.3406246304512024, -0.6387117505073547, 0.4348974823951721, -0.4361594617366791, -0.3226829171180725, -0.33464545011520386, 0.09947682917118073, -0.5024356245994568, 0.21593382954597473, 0.46926823258399963, -0.23529401421546936, 0.0428185760974884, -0.20104975998401642, -1.8710418939590454, -0.05395633727312088, 0.15910395979881287, -0.22985024750232697, 0.22185547649860382, -0.2992476522922516, -0.02226262353360653, 0.1186978816986084, -0.3879876732826233, 0.12915395200252533, 0.024344101548194885, -0.19217708706855774, 0.21857957541942596, 0.20525455474853516, -0.2609941065311432, 0.4492509365081787, -0.519269585609436, 0.12199433147907257, 0.013593839481472969, -0.4560430943965912, -0.02416508086025715, -0.41413721442222595, -0.8694044947624207, 0.5197737216949463, 0.43833693861961365, -0.30836647748947144, -0.01950102671980858, 0.3284524977207184, 0.06087906286120415, -0.24333682656288147, -0.41514644026756287, 0.04605948179960251, -0.6190398335456848, 0.2223757803440094, 0.09895887225866318, -0.2952094078063965, 0.3426666259765625, -0.02763284184038639, 0.29990214109420776, -0.5294821858406067, -0.5753509402275085, 0.5673698782920837, 0.39371564984321594, -0.4018421769142151, 0.788303792476654, 0.29046475887298584, -0.18744654953479767, -0.32954874634742737, 0.39941614866256714, 0.6928219199180603, 0.39094263315200806, 0.04333742707967758, 0.8695352673530579, -0.1922822743654251, -0.3182532489299774, -0.014873728156089783, 0.4620186388492584, 0.23217758536338806, 0.7873074412345886, 0.14612476527690887, 0.7954080700874329, -0.19544008374214172, 0.03571333363652229, 0.18103615939617157, 0.37389281392097473, -0.031087959185242653, 0.02781725488603115, 0.05898510292172432, 0.41470837593078613, 0.3663315176963806, -0.6131500005722046, -0.28557294607162476, -0.21079964935779572, -0.9537269473075867, -0.31746727228164673, 0.011016769334673882, -0.22973056137561798, -0.5613468289375305, 0.2944466769695282, 0.04571787267923355, 0.14556576311588287, 0.04971879720687866, 0.8375518918037415, 0.8122593760490417, -0.308033287525177, 0.7023917436599731, -0.5118435025215149, -0.5838952660560608, 0.5488545894622803, -0.02941485121846199, 0.24313771724700928, 0.03511428087949753, -0.15059980750083923, -0.03413228690624237, -0.5620685815811157, 0.035727065056562424, 0.4845161437988281, 0.007649297825992107, -0.019367096945643425, 0.048537034541368484, 0.45117440819740295, 0.5702716112136841, 0.2859974801540375, -0.8730021715164185, 0.3537241220474243, -0.6433438658714294, 0.4461483359336853, -0.2740341126918793, -0.1256275177001953, 0.28432413935661316, 0.15947888791561127, -0.46522432565689087, 0.8146377801895142, 0.2648978531360626, 0.15632420778274536, -0.052414752542972565, -0.25322097539901733, -0.1332290917634964, 0.11515188217163086, 0.37199583649635315, 0.2726370692253113, 0.6942335367202759, -0.8439434170722961, -0.718636155128479, -0.04521849378943443, -1.0084798336029053, -0.03801696002483368, -0.117071732878685, -0.0799960047006607, 0.01506895013153553, -0.05874375253915787, -0.176960289478302, -0.28542742133140564, 0.24438956379890442, -0.08939437568187714, 0.22013191878795624, -0.3522925078868866, -0.8779436349868774, 0.15873637795448303, 0.06521228700876236, -0.615999698638916, -0.19044119119644165, -0.2424011528491974, 0.617777943611145, -0.2883716821670532, -0.014109116978943348, 0.08941702544689178, 0.12986981868743896, -0.4698086678981781, -0.08742479979991913, 0.05508025735616684, -0.33623605966567993, 0.1106911450624466, 0.308013916015625, 0.8886467814445496, -0.0019735335372388363, -0.6091628670692444, -0.048592522740364075, 0.18969538807868958, 0.15017685294151306, 0.0010607719887048006, -0.25177574157714844, 0.05173354223370552, 0.1516028493642807, -0.048956938087940216, 0.3870152235031128, 0.4692741930484772, 0.3692600429058075, -0.2809078097343445, 0.24202671647071838, -0.6784389615058899, -0.24372009932994843, 0.23802311718463898, -0.1546401083469391, -0.24771523475646973, 1.124722957611084, -0.062493689358234406, 0.536355197429657, 0.15854710340499878, -0.23278939723968506, -0.26033449172973633, 0.9313166737556458, -0.47805681824684143, 0.2661255896091461, 0.22651252150535583, 0.24865488708019257, -0.114754818379879, -0.6294021010398865, -0.07735641300678253, 0.03026052750647068, -0.15361246466636658, -0.5488666296005249, 0.027621131390333176, 0.9370943903923035, 0.24070581793785095, -0.14574551582336426, -0.18846425414085388, -0.5151212215423584, 0.3054225444793701, -0.09495767205953598, -0.3329737186431885, -0.0011867330176755786, 0.5782980918884277, -0.2677718997001648, 0.016554126515984535, 0.03251192346215248, -0.42863979935646057, 0.3082970082759857, -0.8479700088500977, 0.5227183699607849, -0.053777121007442474, -0.4973340630531311, -0.0317910872399807, -0.7598010897636414, -0.23194536566734314, 0.07049406319856644, 0.5282431840896606, 0.29013824462890625, 0.7685621976852417, 0.0878528505563736, 0.4322164058685303, 0.4213218092918396, 0.3070925176143646, -0.08829803764820099, -0.28757479786872864, 0.4954443871974945, -0.2952828109264374, -0.1924002319574356, -0.18745256960391998, -0.3831295371055603, -0.32047873735427856, -0.29930299520492554, 0.45748910307884216, 0.10710114240646362, -0.2858690023422241, 0.6023206114768982, -0.8137656450271606, -0.015399819239974022, 0.10508684813976288, 0.1653055101633072, 0.6078957915306091, 0.23885449767112732, 0.34654030203819275, 0.03316039592027664, 0.12277011573314667, 0.08735501766204834, -0.24288685619831085, 0.19136397540569305, -0.8332759737968445, 0.11873692274093628, 0.40455666184425354, -0.02557845041155815, 0.008516989648342133, 0.17082157731056213, 0.18891052901744843, 0.3576977252960205, 0.2279755175113678, -0.2996130585670471, -0.3929005563259125, 0.19395826756954193, -0.4843958914279938, -0.08198122680187225, -0.8125554919242859, -0.296079158782959, -0.15840090811252594, 0.5847014784812927, -0.1349666565656662, -0.5934446454048157, 0.5493549704551697, -0.15441474318504333, 0.2915358543395996, 0.3412333130836487, -0.38658076524734497, -0.1290738731622696, -0.724810779094696, 0.47516244649887085, 0.729534387588501, 0.6680073142051697, 0.3177401125431061, 0.26446810364723206, -0.29969269037246704, -0.0018305123085156083, -0.43063515424728394, -0.054501332342624664, -0.7085615992546082, -0.02604655548930168, -0.1507643461227417, 0.34969645738601685, 0.49576473236083984, -0.2674572765827179, 0.22475865483283997, 0.008287128992378712, 0.05672980472445488, 0.15484298765659332, 0.4461498260498047, -0.7148712873458862, -0.22766919434070587, -0.7673016786575317, 0.39124685525894165, 0.7231768369674683, 1.0027449131011963, 0.12615469098091125, 0.4517838954925537, 0.06396454572677612, -0.2274669110774994, -0.1460692137479782, 0.47647327184677124, 0.14576882123947144, -0.34139537811279297, -0.037069130688905716, -0.7151132822036743, -0.7016327977180481, 0.43624988198280334, -0.7710433602333069, -0.3566446602344513, -0.04595967009663582, 0.09222295135259628, -0.2639229893684387, 0.72342848777771, 0.2795310914516449, 0.7090682983398438, -0.1973852962255478, -0.8407541513442993, -0.35405921936035156, 0.07056248188018799, 0.4396090507507324, 0.3523474931716919, -0.2646934390068054, -0.09348354488611221, 0.4634975790977478, 0.5711697340011597, -0.38466978073120117, -0.022980859503149986, 0.3384608328342438, 0.36621853709220886, -0.4723047614097595, -0.2753569483757019, 0.39201200008392334, -0.7368541955947876, -0.029607951641082764, 0.0760103315114975, 0.16926072537899017, -0.8152238130569458, 0.07085756212472916, 0.23366078734397888, 0.7509590983390808, -0.49626389145851135, 0.017259350046515465, -0.7109197974205017, 0.013220871798694134, -0.37294137477874756, 0.5221871137619019, -0.7494723796844482, 0.027729693800210953, -0.09856122732162476, 0.11517804861068726, -0.12274657189846039, 0.000329628586769104, 0.027835214510560036, -0.22278758883476257, -0.6944760680198669, -0.8926482200622559, -0.3642720580101013, 0.2584441304206848, -0.4633982181549072, 0.01694309711456299, 0.007128729019314051, 0.2982500493526459, 0.07225910574197769, 0.2762063145637512, -0.12115886062383652, 0.9213991165161133, 0.3430069088935852, -0.43848103284835815, -0.31742939352989197, 0.23647832870483398, -0.604758620262146, -0.28361424803733826, 0.1420259177684784, -0.24893613159656525, -0.38367077708244324, -0.44559773802757263, 0.39963334798812866, -0.3860432505607605, -0.31459304690361023, -0.42489057779312134, 0.1937842071056366, -0.14221331477165222, -0.006142142228782177, 0.4536401629447937, 0.892166018486023, -0.11033928394317627, -0.3771568536758423, -0.6343058347702026, 0.20946428179740906, -0.17048047482967377, 0.011938095092773438, 0.515369176864624, 0.0891495794057846, -0.11902870237827301, 0.0013460904592648149, -0.06212160736322403, 0.056519679725170135, 0.06693028658628464, -0.1863136887550354, -0.037588197737932205, 0.34938326478004456, -0.25091856718063354, -0.30139023065567017, 0.06896814703941345, -0.16967527568340302, 0.27322548627853394, -0.4272429049015045, -0.07613199949264526, -0.3903716206550598, -0.8283607363700867, 0.3356953561306, 0.016853708773851395, 0.06604597717523575, 0.19462987780570984, 0.5299976468086243, 0.2740454375743866, 0.05944523215293884, 0.21549054980278015, -0.3318168818950653, -0.5048485994338989, -0.39936941862106323, -0.9102036356925964, 0.09839459508657455, 0.20161056518554688, 0.11043941974639893, 0.34900444746017456, -0.3334457576274872, -0.22430463135242462, 0.10903270542621613, -0.03746052831411362, 0.26799529790878296, 12.092565536499023, -0.4718535840511322, 0.7016102075576782, 0.8601577877998352, -0.36756882071495056, 0.6482279300689697, -0.15988484025001526, -0.07885470241308212, -0.4888870120048523, -0.3317054808139801, 0.08831249177455902, 0.04672059416770935, 0.44355908036231995, 0.20025615394115448, 0.14204059541225433, -0.4385518431663513, -0.279545396566391, 0.5736035108566284, -0.2556619644165039, 0.5140269994735718, -0.025483671575784683, -0.42013925313949585, 0.5992568135261536, 0.37314513325691223, 0.46236199140548706, -0.17852364480495453, 0.7254713773727417, 0.23230206966400146, -0.20364120602607727, 0.5715631246566772, 0.18929150700569153, -0.14893651008605957, 0.012300768867135048, -0.19427970051765442, 0.10827021300792694, -0.5544734597206116, -0.7327619194984436, 0.2452126443386078, -0.14726433157920837, 0.16470687091350555, -0.1647637039422989, 0.5720451474189758, 0.10325758159160614, 0.014497091993689537, -0.33068084716796875, 0.33262327313423157, -0.5360010266304016, -0.2069822996854782, -0.11472199112176895, 0.06744302809238434, -0.17763276398181915, -0.15179292857646942, -0.6457002758979797, -0.48998600244522095, -0.12398065626621246, -0.5857768654823303, 0.6168935894966125, -0.1498418152332306, 0.7079169750213623, 0.28442078828811646, 0.1447286456823349, 0.15926004946231842, -0.5311965942382812, -0.8074322938919067, -0.7116890549659729, -0.3696403503417969, -0.2737882733345032, -0.25352171063423157, 0.019263392314314842, -0.46445703506469727, -0.5521256923675537, 0.006158125586807728, -0.8203479647636414, -0.1668727695941925, -0.17328941822052002, 0.07586796581745148, -0.4062129557132721, 0.0014854043256491423, -0.22255423665046692, -0.4149042069911957, 0.345178484916687, -0.19021546840667725, 0.5064573884010315, -0.2029995173215866, -0.2308979034423828, 0.11502071470022202, 0.3674183487892151, 0.5335706472396851, -0.5530814528465271, -0.05949968844652176, 0.1070772260427475, -0.0308229923248291, -0.4579640030860901, -0.09744285047054291, 0.5530719757080078, 0.0830259770154953, 0.5322936177253723, 0.15063562989234924, 0.04096949100494385, -0.16271939873695374, -0.017330339178442955, 0.7287195920944214, -0.25884220004081726, -0.373963326215744, -1.378319501876831, 0.7456527352333069, -0.32015708088874817, 0.1263493001461029, -0.18170253932476044, -0.6520111560821533, 0.5650247931480408, -0.19984948635101318, 0.6500347256660461, -0.6755779981613159, 0.23470214009284973, 0.05411534756422043, 0.11117838323116302, 0.11797089874744415, -0.05521049350500107, -0.5367902517318726, 0.1836988925933838, 0.6753134727478027, 0.09761132299900055, -0.35414767265319824, 0.23816394805908203, -0.19262902438640594, 0.03680703788995743, 0.1860641986131668, 0.015879109501838684, -0.56669020652771, 0.43384796380996704, 0.09306127578020096, 0.06015949323773384]\n"
     ]
    }
   ],
   "source": [
    "import pickle\n",
    "\n",
    "pkl_openai_path = \"./openaiembed.pkl\"\n",
    "with open(pkl_openai_path, 'rb') as file: \n",
    "    dt_embed_openai = pickle.load(file)\n",
    "print(dt_embed_openai[0])   \n"
   ]
  },
  {
   "attachments": {},
   "cell_type": "markdown",
   "id": "3ef7cd1e-fddb-4bc9-8844-8e400801d980",
   "metadata": {},
   "source": [
    "Some information about the open ai embedding models:https://platform.openai.com/docs/guides/embeddings/limitations-risks\n",
    "The pricing can be found here: https://openai.com/pricing"
   ]
  }
 ],
 "metadata": {
  "kernelspec": {
   "display_name": "Python 3 (ipykernel)",
   "language": "python",
   "name": "python3"
  },
  "language_info": {
   "codemirror_mode": {
    "name": "ipython",
    "version": 3
   },
   "file_extension": ".py",
   "mimetype": "text/x-python",
   "name": "python",
   "nbconvert_exporter": "python",
   "pygments_lexer": "ipython3",
   "version": "3.10.8"
  }
 },
 "nbformat": 4,
 "nbformat_minor": 5
}
